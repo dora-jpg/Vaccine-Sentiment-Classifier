{
 "cells": [
  {
   "cell_type": "markdown",
   "id": "64141c91",
   "metadata": {
    "id": "qLAaIaAE9z4D",
    "papermill": {
     "duration": 0.050615,
     "end_time": "2022-03-13T02:32:38.541802",
     "exception": false,
     "start_time": "2022-03-13T02:32:38.491187",
     "status": "completed"
    },
    "tags": []
   },
   "source": [
    "# Artificial Intelligence II - Homework 4\n",
    "# Question 3"
   ]
  },
  {
   "cell_type": "markdown",
   "id": "83422741",
   "metadata": {
    "id": "ykBHfl_LJL-p",
    "papermill": {
     "duration": 0.04731,
     "end_time": "2022-03-13T02:32:38.638820",
     "exception": false,
     "start_time": "2022-03-13T02:32:38.591510",
     "status": "completed"
    },
    "tags": []
   },
   "source": []
  },
  {
   "cell_type": "markdown",
   "id": "072b2eb9",
   "metadata": {
    "id": "NLs58fONFrG3",
    "papermill": {
     "duration": 0.04736,
     "end_time": "2022-03-13T02:32:38.733803",
     "exception": false,
     "start_time": "2022-03-13T02:32:38.686443",
     "status": "completed"
    },
    "tags": []
   },
   "source": [
    "**Note:** \n",
    "I call set_seed() at the exact same spot at each run of a model to have deterministic results.\n"
   ]
  },
  {
   "cell_type": "code",
   "execution_count": 1,
   "id": "4bd95806",
   "metadata": {
    "execution": {
     "iopub.execute_input": "2022-03-13T02:32:38.838159Z",
     "iopub.status.busy": "2022-03-13T02:32:38.836575Z",
     "iopub.status.idle": "2022-03-13T02:32:38.838848Z",
     "shell.execute_reply": "2022-03-13T02:32:38.839332Z",
     "shell.execute_reply.started": "2022-03-02T01:02:53.689085Z"
    },
    "id": "dWW0-97QvETZ",
    "outputId": "030d359a-3583-4ae9-f0a8-64453d8c2194",
    "papermill": {
     "duration": 0.056931,
     "end_time": "2022-03-13T02:32:38.839541",
     "exception": false,
     "start_time": "2022-03-13T02:32:38.782610",
     "status": "completed"
    },
    "tags": []
   },
   "outputs": [],
   "source": [
    "# from google.colab import drive\n",
    "# drive.mount('/content/drive')"
   ]
  },
  {
   "cell_type": "code",
   "execution_count": 2,
   "id": "d52c3745",
   "metadata": {
    "execution": {
     "iopub.execute_input": "2022-03-13T02:32:38.941462Z",
     "iopub.status.busy": "2022-03-13T02:32:38.940549Z",
     "iopub.status.idle": "2022-03-13T02:32:38.942640Z",
     "shell.execute_reply": "2022-03-13T02:32:38.943009Z",
     "shell.execute_reply.started": "2022-03-02T01:02:53.71274Z"
    },
    "id": "dDtBH8CFwHAt",
    "papermill": {
     "duration": 0.054998,
     "end_time": "2022-03-13T02:32:38.943131",
     "exception": false,
     "start_time": "2022-03-13T02:32:38.888133",
     "status": "completed"
    },
    "tags": []
   },
   "outputs": [],
   "source": [
    "# PATH = '/content/drive/MyDrive/Colab Notebooks/Artificial Intelligence II/bert/'"
   ]
  },
  {
   "cell_type": "markdown",
   "id": "6adc4543",
   "metadata": {
    "id": "7g50JWXbB2ze",
    "papermill": {
     "duration": 0.047601,
     "end_time": "2022-03-13T02:32:39.038937",
     "exception": false,
     "start_time": "2022-03-13T02:32:38.991336",
     "status": "completed"
    },
    "tags": []
   },
   "source": [
    "# Import Libraries and Read Datasets"
   ]
  },
  {
   "cell_type": "markdown",
   "id": "de212289",
   "metadata": {
    "id": "rIUe14-z7O9q",
    "papermill": {
     "duration": 0.047653,
     "end_time": "2022-03-13T02:32:39.133976",
     "exception": false,
     "start_time": "2022-03-13T02:32:39.086323",
     "status": "completed"
    },
    "tags": []
   },
   "source": [
    "Import libraries that will be used in this notebook, define a seeding function and set device to cuda if available.\n"
   ]
  },
  {
   "cell_type": "code",
   "execution_count": 3,
   "id": "cbf4a90c",
   "metadata": {
    "execution": {
     "iopub.execute_input": "2022-03-13T02:32:39.252000Z",
     "iopub.status.busy": "2022-03-13T02:32:39.241939Z",
     "iopub.status.idle": "2022-03-13T02:32:51.671987Z",
     "shell.execute_reply": "2022-03-13T02:32:51.671524Z",
     "shell.execute_reply.started": "2022-03-13T01:12:37.979144Z"
    },
    "id": "A7j9F1YTMFuE",
    "outputId": "2df5236b-1df4-4ce0-e313-da4cab2579e5",
    "papermill": {
     "duration": 12.490579,
     "end_time": "2022-03-13T02:32:51.672116",
     "exception": false,
     "start_time": "2022-03-13T02:32:39.181537",
     "status": "completed"
    },
    "tags": []
   },
   "outputs": [
    {
     "name": "stdout",
     "output_type": "stream",
     "text": [
      "Requirement already satisfied: transformers in /opt/conda/lib/python3.7/site-packages (4.15.0)\r\n",
      "Requirement already satisfied: pyyaml>=5.1 in /opt/conda/lib/python3.7/site-packages (from transformers) (6.0)\r\n",
      "Requirement already satisfied: tokenizers<0.11,>=0.10.1 in /opt/conda/lib/python3.7/site-packages (from transformers) (0.10.3)\r\n",
      "Requirement already satisfied: numpy>=1.17 in /opt/conda/lib/python3.7/site-packages (from transformers) (1.20.3)\r\n",
      "Requirement already satisfied: filelock in /opt/conda/lib/python3.7/site-packages (from transformers) (3.4.2)\r\n",
      "Requirement already satisfied: requests in /opt/conda/lib/python3.7/site-packages (from transformers) (2.26.0)\r\n",
      "Requirement already satisfied: sacremoses in /opt/conda/lib/python3.7/site-packages (from transformers) (0.0.47)\r\n",
      "Requirement already satisfied: tqdm>=4.27 in /opt/conda/lib/python3.7/site-packages (from transformers) (4.62.3)\r\n",
      "Requirement already satisfied: huggingface-hub<1.0,>=0.1.0 in /opt/conda/lib/python3.7/site-packages (from transformers) (0.2.1)\r\n",
      "Requirement already satisfied: packaging>=20.0 in /opt/conda/lib/python3.7/site-packages (from transformers) (21.3)\r\n",
      "Requirement already satisfied: importlib-metadata in /opt/conda/lib/python3.7/site-packages (from transformers) (4.11.2)\r\n",
      "Requirement already satisfied: regex!=2019.12.17 in /opt/conda/lib/python3.7/site-packages (from transformers) (2021.11.10)\r\n",
      "Requirement already satisfied: typing-extensions>=3.7.4.3 in /opt/conda/lib/python3.7/site-packages (from huggingface-hub<1.0,>=0.1.0->transformers) (4.1.1)\r\n",
      "Requirement already satisfied: pyparsing!=3.0.5,>=2.0.2 in /opt/conda/lib/python3.7/site-packages (from packaging>=20.0->transformers) (3.0.6)\r\n",
      "Requirement already satisfied: zipp>=0.5 in /opt/conda/lib/python3.7/site-packages (from importlib-metadata->transformers) (3.6.0)\r\n",
      "Requirement already satisfied: charset-normalizer~=2.0.0 in /opt/conda/lib/python3.7/site-packages (from requests->transformers) (2.0.9)\r\n",
      "Requirement already satisfied: idna<4,>=2.5 in /opt/conda/lib/python3.7/site-packages (from requests->transformers) (3.1)\r\n",
      "Requirement already satisfied: urllib3<1.27,>=1.21.1 in /opt/conda/lib/python3.7/site-packages (from requests->transformers) (1.26.7)\r\n",
      "Requirement already satisfied: certifi>=2017.4.17 in /opt/conda/lib/python3.7/site-packages (from requests->transformers) (2021.10.8)\r\n",
      "Requirement already satisfied: six in /opt/conda/lib/python3.7/site-packages (from sacremoses->transformers) (1.16.0)\r\n",
      "Requirement already satisfied: joblib in /opt/conda/lib/python3.7/site-packages (from sacremoses->transformers) (1.1.0)\r\n",
      "Requirement already satisfied: click in /opt/conda/lib/python3.7/site-packages (from sacremoses->transformers) (8.0.3)\r\n",
      "\u001b[33mWARNING: Running pip as the 'root' user can result in broken permissions and conflicting behaviour with the system package manager. It is recommended to use a virtual environment instead: https://pip.pypa.io/warnings/venv\u001b[0m\r\n",
      "Working on: cuda\n"
     ]
    }
   ],
   "source": [
    "# Imports\n",
    "import torch\n",
    "import torch.nn as nn\n",
    "import torch.nn.functional as F\n",
    "import torch.optim as optim\n",
    "import os\n",
    "\n",
    "import numpy as np\n",
    "from numpy import unravel_index\n",
    "import pandas as pd\n",
    "import math\n",
    "\n",
    "import matplotlib.pyplot as plt\n",
    "%matplotlib inline\n",
    "import sklearn.metrics\n",
    "import seaborn as sns\n",
    "import random\n",
    "import sys\n",
    "from IPython.display import Image\n",
    "import time\n",
    "\n",
    "# for text preprocessing\n",
    "import re\n",
    "import string\n",
    "\n",
    "!CUBLAS_WORKSPACE_CONFIG=:4096:2 # for cuda deterministic behavior\n",
    "\n",
    "######### BERT ############\n",
    "# first install transformers from hugging face\n",
    "!pip install transformers\n",
    "\n",
    "# imports\n",
    "from transformers import BertTokenizer, BertForQuestionAnswering\n",
    "\n",
    "# dataloaders \n",
    "from torch.utils.data import TensorDataset, DataLoader, RandomSampler, SequentialSampler\n",
    "\n",
    "def set_seed(seed = 1234):\n",
    "    '''Sets the seed of the entire notebook so results are the same every time we run.\n",
    "    This is for REPRODUCIBILITY.'''\n",
    "    np.random.seed(seed)\n",
    "    random.seed(seed)\n",
    "    torch.manual_seed(seed)\n",
    "    torch.cuda.manual_seed(seed)\n",
    "    # When running on the CuDNN backend, two further options must be set\n",
    "    torch.backends.cudnn.deterministic = True\n",
    "    torch.cuda.manual_seed_all(seed)\n",
    "    torch.backends.cudnn.enabled = False\n",
    "    torch.backends.cudnn.benchmark = False\n",
    "    # torch.use_deterministic_algorithms(False)\n",
    "    # Set a fixed value for the hash seed\n",
    "    os.environ['PYTHONHASHSEED'] = str(seed)\n",
    "    \n",
    "set_seed()\n",
    "\n",
    "# Set device\n",
    "device = torch.device(\"cuda\" if torch.cuda.is_available() else \"cpu\")\n",
    "\n",
    "print('Working on:', device)"
   ]
  },
  {
   "cell_type": "markdown",
   "id": "2ad5d0b7",
   "metadata": {
    "papermill": {
     "duration": 0.050866,
     "end_time": "2022-03-13T02:32:51.774861",
     "exception": false,
     "start_time": "2022-03-13T02:32:51.723995",
     "status": "completed"
    },
    "tags": []
   },
   "source": [
    "Convert trivia QA dataset to SQuAD format"
   ]
  },
  {
   "cell_type": "code",
   "execution_count": 4,
   "id": "830c0a87",
   "metadata": {
    "execution": {
     "iopub.execute_input": "2022-03-13T02:32:51.898049Z",
     "iopub.status.busy": "2022-03-13T02:32:51.897477Z",
     "iopub.status.idle": "2022-03-13T02:32:52.362746Z",
     "shell.execute_reply": "2022-03-13T02:32:52.361974Z",
     "shell.execute_reply.started": "2022-03-13T00:23:49.979066Z"
    },
    "papermill": {
     "duration": 0.537239,
     "end_time": "2022-03-13T02:32:52.362891",
     "exception": false,
     "start_time": "2022-03-13T02:32:51.825652",
     "status": "completed"
    },
    "tags": []
   },
   "outputs": [],
   "source": [
    "# Copyright Amazon.com, Inc. or its affiliates. All Rights Reserved.\n",
    "#\n",
    "# Licensed under the Apache License, Version 2.0 (the \"License\").\n",
    "# You may not use this file except in compliance with the License.\n",
    "# You may obtain a copy of the License at\n",
    "#\n",
    "# http://www.apache.org/licenses/LICENSE-2.0\n",
    "#\n",
    "# Unless required by applicable law or agreed to in writing, software\n",
    "# distributed under the License is distributed on an \"AS IS\" BASIS,\n",
    "# WITHOUT WARRANTIES OR CONDITIONS OF ANY KIND, either express or implied.\n",
    "# See the License for the specific language governing permissions and\n",
    "# limitations under the License.\n",
    "\n",
    "\n",
    "# Script based on https://github.com/mandarjoshi90/triviaqa/blob/master/utils/convert_to_squad_format.py\n",
    "# We include functions that are modified from https://github.com/mandarjoshi90/triviaqa/tree/master/utils\n",
    "# cite: https://github.com/mandarjoshi90/triviaqa/\n",
    "\n",
    "import os\n",
    "import argparse\n",
    "import json\n",
    "import nltk\n",
    "# from utils.convert_to_squad_format import get_qad_triples\n",
    "def add_triple_data(datum, page, domain):\n",
    "    qad = {'Source': domain}\n",
    "    for key in ['QuestionId', 'Question', 'Answer']:\n",
    "        qad[key] = datum[key]\n",
    "    for key in page:\n",
    "        qad[key] = page[key]\n",
    "    return qad\n",
    "\n",
    "\n",
    "def get_qad_triples(data):\n",
    "    qad_triples = []\n",
    "    for datum in data['Data']:\n",
    "        for key in ['EntityPages', 'SearchResults']:\n",
    "            for page in datum.get(key, []):\n",
    "                qad = add_triple_data(datum, page, key)\n",
    "                qad_triples.append(qad)\n",
    "    return qad_triples\n",
    "\n",
    "# from utils.utils import get_file_contents\n",
    "\n",
    "def get_file_contents(filename, encoding='utf-8'):\n",
    "    with open(filename, encoding=encoding) as f:\n",
    "        content = f.read()\n",
    "    return content\n",
    "\n",
    "# from utils.dataset_utils import read_triviaqa_data, get_question_doc_string\n",
    "\n",
    "def read_clean_part(datum):\n",
    "    for key in ['EntityPages', 'SearchResults']:\n",
    "        new_page_list = []\n",
    "        for page in datum.get(key, []):\n",
    "            if page['DocPartOfVerifiedEval']:\n",
    "                new_page_list.append(page)\n",
    "        datum[key] = new_page_list\n",
    "    assert len(datum['EntityPages']) + len(datum['SearchResults']) > 0\n",
    "    return datum\n",
    "\n",
    "def read_json(filename, encoding='utf-8'):\n",
    "    contents = get_file_contents(filename, encoding=encoding)\n",
    "    return json.loads(contents)\n",
    "\n",
    "def read_triviaqa_data(qajson):\n",
    "    data = read_json(qajson)\n",
    "    # read only documents and questions that are a part of clean data set\n",
    "    if data['VerifiedEval']:\n",
    "        clean_data = []\n",
    "        for datum in data['Data']:\n",
    "            if datum['QuestionPartOfVerifiedEval']:\n",
    "                if data['Domain'] == 'Web':\n",
    "                    datum = read_clean_part(datum)\n",
    "                clean_data.append(datum)\n",
    "        data['Data'] = clean_data\n",
    "    return data\n",
    "\n",
    "\n",
    "def get_question_doc_string(qid, doc_name):\n",
    "    return '{}--{}'.format(qid, doc_name)\n",
    "#-------------------------------------------------------\n",
    "\n",
    "\n",
    "\n",
    "def answer_index_in_document(answer, document):\n",
    "    answer_list = answer['Aliases'] + answer['NormalizedAliases']\n",
    "    for answer_string_in_doc in answer_list:\n",
    "        index = document.find(answer_string_in_doc)\n",
    "        if index != -1:\n",
    "            return answer_string_in_doc, index\n",
    "    return answer['NormalizedValue'], -1\n",
    "\n",
    "\n",
    "def select_relevant_portion(text):\n",
    "    paras = text.split('\\n')\n",
    "    selected = []\n",
    "    done = False\n",
    "    for para in paras:\n",
    "        sents = sent_tokenize.tokenize(para)\n",
    "        for sent in sents:\n",
    "            words = nltk.word_tokenize(sent)\n",
    "            for word in words:\n",
    "                selected.append(word)\n",
    "                if len(selected) >= 800:\n",
    "                    done = True\n",
    "                    break\n",
    "            if done:\n",
    "                break\n",
    "        if done:\n",
    "            break\n",
    "        selected.append('\\n')\n",
    "    st = ' '.join(selected).strip()\n",
    "    return st\n",
    "\n",
    "\n",
    "def triviaqa_to_squad_format(triviaqa_file, data_dir, output_file):\n",
    "    triviaqa_json = read_triviaqa_data(triviaqa_file)\n",
    "    qad_triples = get_qad_triples(triviaqa_json)\n",
    "\n",
    "    data = []\n",
    "\n",
    "    for triviaqa_example in qad_triples:\n",
    "        question_text = triviaqa_example['Question']\n",
    "        text = get_file_contents(os.path.join(data_dir, triviaqa_example['Filename']), encoding='utf-8')\n",
    "        context = select_relevant_portion(text)\n",
    "\n",
    "        para = {'context': context, 'qas': [{'question': question_text, 'answers': []}]}\n",
    "        data.append({'paragraphs': [para]})\n",
    "        qa = para['qas'][0]\n",
    "        qa['id'] = get_question_doc_string(triviaqa_example['QuestionId'], triviaqa_example['Filename'])\n",
    "        qa['is_impossible'] = True\n",
    "        ans_string, index = answer_index_in_document(triviaqa_example['Answer'], context)\n",
    "\n",
    "        if index != -1:\n",
    "            qa['answers'].append({'text': ans_string, 'answer_start': index})\n",
    "            qa['is_impossible'] = False\n",
    "\n",
    "    triviaqa_as_squad = {'data': data, 'version': '2.0'}\n",
    "\n",
    "    with open(output_file, 'w', encoding='utf-8') as outfile:\n",
    "        json.dump(triviaqa_as_squad, outfile, indent=2, sort_keys=True, ensure_ascii=False)\n",
    "\n",
    "\n",
    "\n",
    "sent_tokenize = nltk.data.load('tokenizers/punkt/english.pickle')"
   ]
  },
  {
   "cell_type": "code",
   "execution_count": 5,
   "id": "fcccf930",
   "metadata": {
    "execution": {
     "iopub.execute_input": "2022-03-13T02:32:52.468039Z",
     "iopub.status.busy": "2022-03-13T02:32:52.467360Z",
     "iopub.status.idle": "2022-03-13T02:32:52.470118Z",
     "shell.execute_reply": "2022-03-13T02:32:52.469641Z",
     "shell.execute_reply.started": "2022-03-09T17:49:42.898922Z"
    },
    "papermill": {
     "duration": 0.05715,
     "end_time": "2022-03-13T02:32:52.470246",
     "exception": false,
     "start_time": "2022-03-13T02:32:52.413096",
     "status": "completed"
    },
    "tags": []
   },
   "outputs": [],
   "source": [
    "# !wget \"https://nlp.cs.washington.edu/triviaqa/data/triviaqa-rc.tar.gz\""
   ]
  },
  {
   "cell_type": "code",
   "execution_count": 6,
   "id": "7c9d7e13",
   "metadata": {
    "_kg_hide-output": true,
    "execution": {
     "iopub.execute_input": "2022-03-13T02:32:52.577103Z",
     "iopub.status.busy": "2022-03-13T02:32:52.575482Z",
     "iopub.status.idle": "2022-03-13T02:32:52.577727Z",
     "shell.execute_reply": "2022-03-13T02:32:52.578122Z",
     "shell.execute_reply.started": "2022-03-09T17:52:34.543614Z"
    },
    "papermill": {
     "duration": 0.057485,
     "end_time": "2022-03-13T02:32:52.578274",
     "exception": false,
     "start_time": "2022-03-13T02:32:52.520789",
     "status": "completed"
    },
    "tags": []
   },
   "outputs": [],
   "source": [
    "# !mkdir ./triviaqa \n",
    "# !tar -C ./triviaqa -zxf triviaqa-rc.tar.gz"
   ]
  },
  {
   "cell_type": "code",
   "execution_count": 7,
   "id": "80256060",
   "metadata": {
    "execution": {
     "iopub.execute_input": "2022-03-13T02:32:52.683266Z",
     "iopub.status.busy": "2022-03-13T02:32:52.681689Z",
     "iopub.status.idle": "2022-03-13T02:32:52.683929Z",
     "shell.execute_reply": "2022-03-13T02:32:52.684365Z",
     "shell.execute_reply.started": "2022-03-09T17:54:19.072702Z"
    },
    "papermill": {
     "duration": 0.056351,
     "end_time": "2022-03-13T02:32:52.684488",
     "exception": false,
     "start_time": "2022-03-13T02:32:52.628137",
     "status": "completed"
    },
    "tags": []
   },
   "outputs": [],
   "source": [
    "# triviaqa_to_squad_format('triviaqa/qa/wikipedia-train.json', 'triviaqa/evidence/wikipedia', 'triviaqa/triviaqa_train.json')"
   ]
  },
  {
   "cell_type": "code",
   "execution_count": 8,
   "id": "061ef1a4",
   "metadata": {
    "execution": {
     "iopub.execute_input": "2022-03-13T02:32:52.790187Z",
     "iopub.status.busy": "2022-03-13T02:32:52.788496Z",
     "iopub.status.idle": "2022-03-13T02:32:52.790796Z",
     "shell.execute_reply": "2022-03-13T02:32:52.791219Z",
     "shell.execute_reply.started": "2022-03-09T18:13:44.930464Z"
    },
    "papermill": {
     "duration": 0.056235,
     "end_time": "2022-03-13T02:32:52.791339",
     "exception": false,
     "start_time": "2022-03-13T02:32:52.735104",
     "status": "completed"
    },
    "tags": []
   },
   "outputs": [],
   "source": [
    "# triviaqa_to_squad_format('triviaqa/qa/wikipedia-dev.json', 'triviaqa/evidence/wikipedia', 'triviaqa/triviaqa_dev.json')"
   ]
  },
  {
   "cell_type": "markdown",
   "id": "d7ed8479",
   "metadata": {
    "id": "63U7HoojY7d4",
    "papermill": {
     "duration": 0.04983,
     "end_time": "2022-03-13T02:32:52.891586",
     "exception": false,
     "start_time": "2022-03-13T02:32:52.841756",
     "status": "completed"
    },
    "tags": []
   },
   "source": [
    "Now we are going to preprocess like SQuAD\n",
    "\n",
    "I used the datasets library from hugging face."
   ]
  },
  {
   "cell_type": "code",
   "execution_count": 9,
   "id": "fe4c6cbd",
   "metadata": {
    "execution": {
     "iopub.execute_input": "2022-03-13T02:32:52.995418Z",
     "iopub.status.busy": "2022-03-13T02:32:52.994799Z",
     "iopub.status.idle": "2022-03-13T02:33:02.561559Z",
     "shell.execute_reply": "2022-03-13T02:33:02.560643Z",
     "shell.execute_reply.started": "2022-03-13T01:12:50.058325Z"
    },
    "id": "CjtAYmNKY_Ew",
    "outputId": "6753d055-a1b8-46c2-cdc1-5a88b6627db1",
    "papermill": {
     "duration": 9.620061,
     "end_time": "2022-03-13T02:33:02.561708",
     "exception": false,
     "start_time": "2022-03-13T02:32:52.941647",
     "status": "completed"
    },
    "tags": []
   },
   "outputs": [
    {
     "name": "stdout",
     "output_type": "stream",
     "text": [
      "Collecting datasets\r\n",
      "  Downloading datasets-1.18.4-py3-none-any.whl (312 kB)\r\n",
      "     |████████████████████████████████| 312 kB 779 kB/s            \r\n",
      "\u001b[?25hRequirement already satisfied: requests>=2.19.0 in /opt/conda/lib/python3.7/site-packages (from datasets) (2.26.0)\r\n",
      "Requirement already satisfied: aiohttp in /opt/conda/lib/python3.7/site-packages (from datasets) (3.8.1)\r\n",
      "Requirement already satisfied: dill in /opt/conda/lib/python3.7/site-packages (from datasets) (0.3.4)\r\n",
      "Requirement already satisfied: multiprocess in /opt/conda/lib/python3.7/site-packages (from datasets) (0.70.12.2)\r\n",
      "Requirement already satisfied: fsspec[http]>=2021.05.0 in /opt/conda/lib/python3.7/site-packages (from datasets) (2022.2.0)\r\n",
      "Requirement already satisfied: huggingface-hub<1.0.0,>=0.1.0 in /opt/conda/lib/python3.7/site-packages (from datasets) (0.2.1)\r\n",
      "Requirement already satisfied: numpy>=1.17 in /opt/conda/lib/python3.7/site-packages (from datasets) (1.20.3)\r\n",
      "Requirement already satisfied: pyarrow!=4.0.0,>=3.0.0 in /opt/conda/lib/python3.7/site-packages (from datasets) (6.0.1)\r\n",
      "Requirement already satisfied: packaging in /opt/conda/lib/python3.7/site-packages (from datasets) (21.3)\r\n",
      "Collecting xxhash\r\n",
      "  Downloading xxhash-3.0.0-cp37-cp37m-manylinux_2_17_x86_64.manylinux2014_x86_64.whl (212 kB)\r\n",
      "     |████████████████████████████████| 212 kB 11.7 MB/s            \r\n",
      "\u001b[?25hRequirement already satisfied: pandas in /opt/conda/lib/python3.7/site-packages (from datasets) (1.3.5)\r\n",
      "Requirement already satisfied: tqdm>=4.62.1 in /opt/conda/lib/python3.7/site-packages (from datasets) (4.62.3)\r\n",
      "Collecting responses<0.19\r\n",
      "  Downloading responses-0.18.0-py3-none-any.whl (38 kB)\r\n",
      "Requirement already satisfied: importlib-metadata in /opt/conda/lib/python3.7/site-packages (from datasets) (4.11.2)\r\n",
      "Requirement already satisfied: pyyaml in /opt/conda/lib/python3.7/site-packages (from huggingface-hub<1.0.0,>=0.1.0->datasets) (6.0)\r\n",
      "Requirement already satisfied: typing-extensions>=3.7.4.3 in /opt/conda/lib/python3.7/site-packages (from huggingface-hub<1.0.0,>=0.1.0->datasets) (4.1.1)\r\n",
      "Requirement already satisfied: filelock in /opt/conda/lib/python3.7/site-packages (from huggingface-hub<1.0.0,>=0.1.0->datasets) (3.4.2)\r\n",
      "Requirement already satisfied: pyparsing!=3.0.5,>=2.0.2 in /opt/conda/lib/python3.7/site-packages (from packaging->datasets) (3.0.6)\r\n",
      "Requirement already satisfied: charset-normalizer~=2.0.0 in /opt/conda/lib/python3.7/site-packages (from requests>=2.19.0->datasets) (2.0.9)\r\n",
      "Requirement already satisfied: idna<4,>=2.5 in /opt/conda/lib/python3.7/site-packages (from requests>=2.19.0->datasets) (3.1)\r\n",
      "Requirement already satisfied: urllib3<1.27,>=1.21.1 in /opt/conda/lib/python3.7/site-packages (from requests>=2.19.0->datasets) (1.26.7)\r\n",
      "Requirement already satisfied: certifi>=2017.4.17 in /opt/conda/lib/python3.7/site-packages (from requests>=2.19.0->datasets) (2021.10.8)\r\n",
      "Requirement already satisfied: async-timeout<5.0,>=4.0.0a3 in /opt/conda/lib/python3.7/site-packages (from aiohttp->datasets) (4.0.1)\r\n",
      "Requirement already satisfied: frozenlist>=1.1.1 in /opt/conda/lib/python3.7/site-packages (from aiohttp->datasets) (1.2.0)\r\n",
      "Requirement already satisfied: asynctest==0.13.0 in /opt/conda/lib/python3.7/site-packages (from aiohttp->datasets) (0.13.0)\r\n",
      "Requirement already satisfied: aiosignal>=1.1.2 in /opt/conda/lib/python3.7/site-packages (from aiohttp->datasets) (1.2.0)\r\n",
      "Requirement already satisfied: yarl<2.0,>=1.0 in /opt/conda/lib/python3.7/site-packages (from aiohttp->datasets) (1.7.2)\r\n",
      "Requirement already satisfied: attrs>=17.3.0 in /opt/conda/lib/python3.7/site-packages (from aiohttp->datasets) (21.2.0)\r\n",
      "Requirement already satisfied: multidict<7.0,>=4.5 in /opt/conda/lib/python3.7/site-packages (from aiohttp->datasets) (5.2.0)\r\n",
      "Requirement already satisfied: zipp>=0.5 in /opt/conda/lib/python3.7/site-packages (from importlib-metadata->datasets) (3.6.0)\r\n",
      "Requirement already satisfied: python-dateutil>=2.7.3 in /opt/conda/lib/python3.7/site-packages (from pandas->datasets) (2.8.2)\r\n",
      "Requirement already satisfied: pytz>=2017.3 in /opt/conda/lib/python3.7/site-packages (from pandas->datasets) (2021.3)\r\n",
      "Requirement already satisfied: six>=1.5 in /opt/conda/lib/python3.7/site-packages (from python-dateutil>=2.7.3->pandas->datasets) (1.16.0)\r\n",
      "Installing collected packages: xxhash, responses, datasets\r\n",
      "Successfully installed datasets-1.18.4 responses-0.18.0 xxhash-3.0.0\r\n",
      "\u001b[33mWARNING: Running pip as the 'root' user can result in broken permissions and conflicting behaviour with the system package manager. It is recommended to use a virtual environment instead: https://pip.pypa.io/warnings/venv\u001b[0m\r\n"
     ]
    }
   ],
   "source": [
    "!pip install datasets\n",
    "import datasets"
   ]
  },
  {
   "cell_type": "code",
   "execution_count": 10,
   "id": "6d06ac6e",
   "metadata": {
    "execution": {
     "iopub.execute_input": "2022-03-13T02:33:02.696113Z",
     "iopub.status.busy": "2022-03-13T02:33:02.695182Z",
     "iopub.status.idle": "2022-03-13T02:33:02.702352Z",
     "shell.execute_reply": "2022-03-13T02:33:02.701816Z",
     "shell.execute_reply.started": "2022-03-13T01:12:58.329628Z"
    },
    "papermill": {
     "duration": 0.08153,
     "end_time": "2022-03-13T02:33:02.702482",
     "exception": false,
     "start_time": "2022-03-13T02:33:02.620952",
     "status": "completed"
    },
    "tags": []
   },
   "outputs": [],
   "source": [
    "import pyarrow as pa\n",
    "import json\n",
    "\n",
    "def jsontodataset(filepath, up_to=None):\n",
    "    contexts = []\n",
    "    questions = []\n",
    "    ids = []\n",
    "    answers_list = []\n",
    "    count = 0\n",
    "    #     print(\"here\")\n",
    "    with open(filepath) as f:\n",
    "        squad = json.load(f)\n",
    "        for article in squad[\"data\"]:\n",
    "            title = article.get(\"title\", \"\").strip()\n",
    "            for paragraph in article[\"paragraphs\"]:\n",
    "                context = paragraph[\"context\"].strip()\n",
    "                for qa in paragraph[\"qas\"]:\n",
    "                    count+=1\n",
    "                    if up_to!=None and count>=up_to: \n",
    "                        dataset = datasets.Dataset(pa.Table.from_pydict({'context': contexts, 'question': questions, 'id': ids, 'answers': answers_list}))\n",
    "                        return dataset\n",
    "                    \n",
    "                    question = qa[\"question\"].strip()\n",
    "                    id_ = qa[\"id\"]\n",
    "\n",
    "                    answer_starts = [answer[\"answer_start\"] for answer in qa[\"answers\"]]\n",
    "                    answers = [answer[\"text\"].strip() for answer in qa[\"answers\"]]\n",
    "\n",
    "\n",
    "                    contexts.append(context)\n",
    "                    questions.append(question)\n",
    "                    ids.append(id_)\n",
    "                    answers_list.append({\"answer_start\": answer_starts, \"text\": answers,})\n",
    "\n",
    "    dataset = datasets.Dataset(pa.Table.from_pydict({'context': contexts, 'question': questions, 'id': ids, 'answers': answers_list}))\n",
    "    #     print(dataset)\n",
    "    return dataset\n"
   ]
  },
  {
   "cell_type": "code",
   "execution_count": 11,
   "id": "1d846b1e",
   "metadata": {
    "execution": {
     "iopub.execute_input": "2022-03-13T02:33:02.836337Z",
     "iopub.status.busy": "2022-03-13T02:33:02.835750Z",
     "iopub.status.idle": "2022-03-13T02:33:17.957676Z",
     "shell.execute_reply": "2022-03-13T02:33:17.958099Z",
     "shell.execute_reply.started": "2022-03-13T01:12:58.343329Z"
    },
    "papermill": {
     "duration": 15.190361,
     "end_time": "2022-03-13T02:33:17.958291",
     "exception": false,
     "start_time": "2022-03-13T02:33:02.767930",
     "status": "completed"
    },
    "tags": []
   },
   "outputs": [],
   "source": [
    "# train_dataset = jsontodataset('./triviaqa/triviaqa_train.json', 33194)\n",
    "train_dataset = jsontodataset('../input/trivia-squadformat/triviaqa_train (1).json', 55323)"
   ]
  },
  {
   "cell_type": "code",
   "execution_count": 12,
   "id": "07dcb0b1",
   "metadata": {
    "execution": {
     "iopub.execute_input": "2022-03-13T02:33:18.078795Z",
     "iopub.status.busy": "2022-03-13T02:33:18.078253Z",
     "iopub.status.idle": "2022-03-13T02:33:19.790433Z",
     "shell.execute_reply": "2022-03-13T02:33:19.789879Z",
     "shell.execute_reply.started": "2022-03-13T01:13:12.309106Z"
    },
    "papermill": {
     "duration": 1.773879,
     "end_time": "2022-03-13T02:33:19.790567",
     "exception": false,
     "start_time": "2022-03-13T02:33:18.016688",
     "status": "completed"
    },
    "tags": []
   },
   "outputs": [],
   "source": [
    "validation_dataset = jsontodataset('../input/trivia-squadformat/triviaqa_dev (1).json', 7114)"
   ]
  },
  {
   "cell_type": "code",
   "execution_count": 13,
   "id": "7e9b6b2e",
   "metadata": {
    "execution": {
     "iopub.execute_input": "2022-03-13T02:33:19.909986Z",
     "iopub.status.busy": "2022-03-13T02:33:19.909271Z",
     "iopub.status.idle": "2022-03-13T02:33:19.912446Z",
     "shell.execute_reply": "2022-03-13T02:33:19.912859Z",
     "shell.execute_reply.started": "2022-03-13T01:07:10.333597Z"
    },
    "papermill": {
     "duration": 0.06572,
     "end_time": "2022-03-13T02:33:19.912987",
     "exception": false,
     "start_time": "2022-03-13T02:33:19.847267",
     "status": "completed"
    },
    "tags": []
   },
   "outputs": [
    {
     "data": {
      "text/plain": [
       "Dataset({\n",
       "    features: ['context', 'question', 'id', 'answers'],\n",
       "    num_rows: 55322\n",
       "})"
      ]
     },
     "execution_count": 13,
     "metadata": {},
     "output_type": "execute_result"
    }
   ],
   "source": [
    "train_dataset"
   ]
  },
  {
   "cell_type": "code",
   "execution_count": 14,
   "id": "5ae20bc4",
   "metadata": {
    "execution": {
     "iopub.execute_input": "2022-03-13T02:33:20.031169Z",
     "iopub.status.busy": "2022-03-13T02:33:20.030228Z",
     "iopub.status.idle": "2022-03-13T02:33:20.033524Z",
     "shell.execute_reply": "2022-03-13T02:33:20.033927Z",
     "shell.execute_reply.started": "2022-03-13T00:56:00.255753Z"
    },
    "papermill": {
     "duration": 0.065545,
     "end_time": "2022-03-13T02:33:20.034067",
     "exception": false,
     "start_time": "2022-03-13T02:33:19.968522",
     "status": "completed"
    },
    "tags": []
   },
   "outputs": [
    {
     "data": {
      "text/plain": [
       "{'context': \"England is a country that is part of the United Kingdom . It shares land borders with Scotland to the north and Wales to the west . The Irish Sea lies northwest of England and the Celtic Sea lies to the southwest . England is separated from continental Europe by the North Sea to the east and the English Channel to the south . The country covers much of the central and southern part of the island of Great Britain , which lies in the North Atlantic ; and includes over 100 smaller islands such as the Isles of Scilly , and the Isle of Wight . \\n \\n The area now called England was first inhabited by modern humans during the Upper Palaeolithic period , but takes its name from the Angles , one of the Germanic tribes who settled during the 5th and 6th centuries . England became a unified state in the 10th century , and since the Age of Discovery , which began during the 15th century , has had a significant cultural and legal impact on the wider world . The English language , the Anglican Church , and English law – the basis for the common law legal systems of many other countries around the world – developed in England , and the country 's parliamentary system of government has been widely adopted by other nations . The Industrial Revolution began in 18th-century England , transforming its society into the world 's first industrialised nation . \\n \\n England 's terrain mostly comprises low hills and plains , especially in central and southern England . However , there are uplands in the north ( for example , the mountainous Lake District , Pennines , and Yorkshire Dales ) and in the south west ( for example , Dartmoor and the Cotswolds ) . The capital is London , which is the largest metropolitan area in both the United Kingdom and the European Union.According to the European Statistical Agency , London is the largest Larger Urban Zone in the EU , a measure of metropolitan area which comprises a city 's urban core as well as its surrounding commuting zone . London 's municipal population is also the largest in the EU . England 's population of over 53 million comprises 84 % of the population of the United Kingdom , largely concentrated around London , the South East , and conurbations in the Midlands , the North West , the North East , and Yorkshire , which each developed as major industrial regions during the 19th century . [ http : //www.ons.gov.uk/ons/dcp171778_270487.pdf 2011 Census – Population and household estimates for England and Wales , March 2011 ] . Accessed 31 May 2013 . \\n \\n The Kingdom of England—which after 1535 included Wales—ceased being a separate sovereign state on 1 May 1707 , when the Acts of Union put into effect the terms agreed in the Treaty of Union the previous year , resulting in a political union with the Kingdom of Scotland to create the Kingdom of Great Britain . In 1801 , Great Britain was united with the Kingdom of Ireland through another Act of Union to become the United Kingdom of Great Britain and Ireland . In 1922 the Irish Free State seceded from the United Kingdom , leading to the latter being renamed the United Kingdom of Great Britain and Northern Ireland . \\n \\n Toponymy \\n \\n The name `` England '' is derived from the Old English name Englaland , which means `` land of the Angles '' . The Angles were one of the Germanic tribes that settled in Great Britain during the Early Middle Ages . The Angles came from the Angeln peninsula in the Bay of Kiel area of the Baltic Sea . The earliest recorded use of the term , as `` Engla londe '' , is in the late ninth century translation into Old English of Bede 's Ecclesiastical History of the English People . The term was then used in a different sense to the modern one , meaning `` the land inhabited by the English '' , and it included English people in what is now south-east Scotland but was then part of the English kingdom of Northumbria . The Anglo-Saxon Chronicle recorded that the Domesday Book of 1086 covered the whole of England , meaning the English kingdom , but a few years later the Chronicle stated that King Malcolm III went `` out of Scotlande into Lothian in Englaland '' , thus using it in the more ancient sense . According to the Oxford English Dictionary , its modern spelling was first used in 1538 . \\n \\n The earliest attested reference to the Angles occurs in the 1st-century\",\n",
       " 'question': 'Where in England was Dame Judi Dench born?',\n",
       " 'id': 'tc_3--England.txt',\n",
       " 'answers': {'answer_start': [1569], 'text': ['York']}}"
      ]
     },
     "execution_count": 14,
     "metadata": {},
     "output_type": "execute_result"
    }
   ],
   "source": [
    "train_dataset[0]"
   ]
  },
  {
   "cell_type": "markdown",
   "id": "f9428b25",
   "metadata": {
    "papermill": {
     "duration": 0.055442,
     "end_time": "2022-03-13T02:33:20.146401",
     "exception": false,
     "start_time": "2022-03-13T02:33:20.090959",
     "status": "completed"
    },
    "tags": []
   },
   "source": [
    "Overview of the feature names of the dataset."
   ]
  },
  {
   "cell_type": "markdown",
   "id": "e2d39619",
   "metadata": {
    "papermill": {
     "duration": 0.057092,
     "end_time": "2022-03-13T02:33:20.259448",
     "exception": false,
     "start_time": "2022-03-13T02:33:20.202356",
     "status": "completed"
    },
    "tags": []
   },
   "source": [
    "Let's print the first example.\n",
    "\n",
    "We see that for 'answers' column the dataset contains a dictionary with keys 'text' and 'answer_start', that each contain a list with one element. "
   ]
  },
  {
   "cell_type": "code",
   "execution_count": 15,
   "id": "34db01ce",
   "metadata": {
    "execution": {
     "iopub.execute_input": "2022-03-13T02:33:20.375546Z",
     "iopub.status.busy": "2022-03-13T02:33:20.374994Z",
     "iopub.status.idle": "2022-03-13T02:33:20.379020Z",
     "shell.execute_reply": "2022-03-13T02:33:20.378532Z",
     "shell.execute_reply.started": "2022-03-13T00:56:00.269468Z"
    },
    "id": "5QWlfsFA9lvc",
    "outputId": "44ca7fc4-9c39-4369-d464-c19dba1297ab",
    "papermill": {
     "duration": 0.063731,
     "end_time": "2022-03-13T02:33:20.379121",
     "exception": false,
     "start_time": "2022-03-13T02:33:20.315390",
     "status": "completed"
    },
    "tags": []
   },
   "outputs": [],
   "source": [
    "# train_dataset[0]"
   ]
  },
  {
   "cell_type": "markdown",
   "id": "e1a7e5ed",
   "metadata": {
    "papermill": {
     "duration": 0.055547,
     "end_time": "2022-03-13T02:33:20.491011",
     "exception": false,
     "start_time": "2022-03-13T02:33:20.435464",
     "status": "completed"
    },
    "tags": []
   },
   "source": [
    "Same features for the validation dataset."
   ]
  },
  {
   "cell_type": "code",
   "execution_count": 16,
   "id": "9e4791b9",
   "metadata": {
    "execution": {
     "iopub.execute_input": "2022-03-13T02:33:20.608260Z",
     "iopub.status.busy": "2022-03-13T02:33:20.607483Z",
     "iopub.status.idle": "2022-03-13T02:33:20.610789Z",
     "shell.execute_reply": "2022-03-13T02:33:20.610291Z",
     "shell.execute_reply.started": "2022-03-13T00:56:00.279479Z"
    },
    "id": "eVVrUwynQGbg",
    "outputId": "2d6c704d-d357-43bd-995e-0c0bf305e377",
    "papermill": {
     "duration": 0.063433,
     "end_time": "2022-03-13T02:33:20.610888",
     "exception": false,
     "start_time": "2022-03-13T02:33:20.547455",
     "status": "completed"
    },
    "tags": []
   },
   "outputs": [
    {
     "data": {
      "text/plain": [
       "Dataset({\n",
       "    features: ['context', 'question', 'id', 'answers'],\n",
       "    num_rows: 7113\n",
       "})"
      ]
     },
     "execution_count": 16,
     "metadata": {},
     "output_type": "execute_result"
    }
   ],
   "source": [
    "validation_dataset"
   ]
  },
  {
   "cell_type": "markdown",
   "id": "f9f7c6f2",
   "metadata": {
    "papermill": {
     "duration": 0.056374,
     "end_time": "2022-03-13T02:33:20.723551",
     "exception": false,
     "start_time": "2022-03-13T02:33:20.667177",
     "status": "completed"
    },
    "tags": []
   },
   "source": [
    "In validation, the column 'answers' contains a dictionary with keys 'text' and 'answer_start' as well, but each contains a list with multiple elements"
   ]
  },
  {
   "cell_type": "code",
   "execution_count": 17,
   "id": "5923445a",
   "metadata": {
    "execution": {
     "iopub.execute_input": "2022-03-13T02:33:20.842888Z",
     "iopub.status.busy": "2022-03-13T02:33:20.842274Z",
     "iopub.status.idle": "2022-03-13T02:33:20.845532Z",
     "shell.execute_reply": "2022-03-13T02:33:20.845925Z",
     "shell.execute_reply.started": "2022-03-13T00:56:00.287751Z"
    },
    "papermill": {
     "duration": 0.065682,
     "end_time": "2022-03-13T02:33:20.846040",
     "exception": false,
     "start_time": "2022-03-13T02:33:20.780358",
     "status": "completed"
    },
    "tags": []
   },
   "outputs": [
    {
     "data": {
      "text/plain": [
       "{'context': \"Kathleen Mary Ferrier , CBE ( 22 April 1912 - 8 October 1953 ) was an English contralto singer who achieved an international reputation as a stage , concert and recording artist , with a repertoire extending from folksong and popular ballads to the classical works of Bach , Brahms , Mahler and Elgar . Her death from cancer , at the height of her fame , was a shock to the musical world and particularly to the general public , which was kept in ignorance of the nature of her illness until after her death . \\n \\n The daughter of a Lancashire village schoolmaster , Ferrier showed early talent as a pianist , and won numerous amateur piano competitions while working as a telephonist with the General Post Office . She did not take up singing seriously until 1937 , when after winning a prestigious singing competition at the Carlisle Festival she began to receive offers of professional engagements as a vocalist . Thereafter she took singing lessons , first with J.E . Hutchinson and later with Roy Henderson . After the outbreak of the Second World War Ferrier was recruited by the Council for the Encouragement of Music and the Arts ( CEMA ) , and in the following years sang at concerts and recitals throughout England . In 1942 her career was boosted when she met the conductor Malcolm Sargent , who recommended her to the influential Ibbs and Tillett concert management agency . She became a regular performer at leading London and provincial venues , and made numerous BBC radio broadcasts . \\n \\n In 1946 , Ferrier made her stage debut , in the Glyndebourne Festival premiere of Benjamin Britten 's opera The Rape of Lucretia . A year later she made her first appearance as Orfeo in Gluck 's Orfeo ed Euridice , a work with which she became particularly associated . By her own choice , these were her only two operatic roles . As her reputation grew , Ferrier formed close working relationships with major musical figures , including Britten , Sir John Barbirolli , Bruno Walter and the accompanist Gerald Moore . She became known internationally through her three tours to the United States between 1948 and 1950 and her many visits to continental Europe . \\n \\n Ferrier was diagnosed with breast cancer in March 1951 . In between periods of hospitalisation and convalescence she continued to perform and record ; her final public appearance was as Orfeo , at the Royal Opera House in February 1953 , eight months before her death . Among her many memorials , the Kathleen Ferrier Cancer Research Fund was launched in May 1954 . The Kathleen Ferrier Scholarship Fund , administered by the Royal Philharmonic Society , has since 1956 made annual awards to aspiring young professional singers . \\n \\n Early life \\n \\n Childhood \\n \\n The Ferrier family originally came from Pembrokeshire in South West Wales . The Lancashire branch originated in the 19th century , when Thomas Ferrier ( youngest son of Private Thomas Ferrier of the Pembrokeshire Regiment ) settled in the area after being stationed near Blackburn during a period of industrial unrest.Cardus , pp . 19–20 Kathleen Ferrier was born on 22 April 1912 , in the Lancashire village of Higher Walton where her father William Ferrier ( the fourth child of Thomas and Elizabeth , née Gorton ) was the head of the village school . Although untrained musically , William was an enthusiastic member of the local operatic society and of several choirs , and his wife Alice ( née Murray ) , whom he married in 1900 , was a competent singer with a strong contralto voice.Ferrier , pp . 14–16 Kathleen was the third and youngest of the couple 's children , following a sister and a brother ; when she was two the family moved to Blackburn , after William was appointed headmaster of St Paul 's School in the town . From an early age Kathleen showed promise as a pianist , and had lessons with Frances Walker , a noted North of England piano teacher who had been a pupil of Tobias Matthay . Kathleen 's talent developed quickly ; in 1924 she came fourth out of 43 entrants at the Lytham St Annes Festival piano competition , and in the following year at Lytham she achieved second place . \\n \\n Telephonist and pianist \\n \\n Because of William 's impending retirement and the consequent fall in the family 's income , Ferrier 's hopes of attending a music college could not be realised . In August 1926 she left school to start work as a trainee at the GPO telephone exchange in Blackburn . She continued\",\n",
       " 'question': 'What claimed the life of singer Kathleen Ferrier?',\n",
       " 'id': 'tc_56--Kathleen_Ferrier.txt',\n",
       " 'answers': {'answer_start': [2488], 'text': ['Cancer']}}"
      ]
     },
     "execution_count": 17,
     "metadata": {},
     "output_type": "execute_result"
    }
   ],
   "source": [
    "validation_dataset[4]"
   ]
  },
  {
   "cell_type": "markdown",
   "id": "23baa96e",
   "metadata": {
    "papermill": {
     "duration": 0.058789,
     "end_time": "2022-03-13T02:33:20.962720",
     "exception": false,
     "start_time": "2022-03-13T02:33:20.903931",
     "status": "completed"
    },
    "tags": []
   },
   "source": [
    "If there is no answer, the lists are empty"
   ]
  },
  {
   "cell_type": "code",
   "execution_count": 18,
   "id": "6fe22f90",
   "metadata": {
    "execution": {
     "iopub.execute_input": "2022-03-13T02:33:21.082842Z",
     "iopub.status.busy": "2022-03-13T02:33:21.081987Z",
     "iopub.status.idle": "2022-03-13T02:33:21.084305Z",
     "shell.execute_reply": "2022-03-13T02:33:21.083767Z",
     "shell.execute_reply.started": "2022-03-02T18:02:24.775342Z"
    },
    "id": "JVdlfwpmQK38",
    "outputId": "8cdd0148-f428-4d6e-ef48-a0aa98bc3edc",
    "papermill": {
     "duration": 0.063497,
     "end_time": "2022-03-13T02:33:21.084415",
     "exception": false,
     "start_time": "2022-03-13T02:33:21.020918",
     "status": "completed"
    },
    "tags": []
   },
   "outputs": [],
   "source": [
    "# validation_dataset[-10]"
   ]
  },
  {
   "cell_type": "code",
   "execution_count": 19,
   "id": "7f75f6d4",
   "metadata": {
    "execution": {
     "iopub.execute_input": "2022-03-13T02:33:21.204466Z",
     "iopub.status.busy": "2022-03-13T02:33:21.202927Z",
     "iopub.status.idle": "2022-03-13T02:33:21.205123Z",
     "shell.execute_reply": "2022-03-13T02:33:21.205558Z",
     "shell.execute_reply.started": "2022-03-02T01:03:18.400774Z"
    },
    "id": "jiuJexOB9HuG",
    "papermill": {
     "duration": 0.063662,
     "end_time": "2022-03-13T02:33:21.205676",
     "exception": false,
     "start_time": "2022-03-13T02:33:21.142014",
     "status": "completed"
    },
    "tags": []
   },
   "outputs": [],
   "source": [
    "# df = pd.DataFrame(train_dataset)"
   ]
  },
  {
   "cell_type": "code",
   "execution_count": 20,
   "id": "1c89714e",
   "metadata": {
    "execution": {
     "iopub.execute_input": "2022-03-13T02:33:21.325558Z",
     "iopub.status.busy": "2022-03-13T02:33:21.324858Z",
     "iopub.status.idle": "2022-03-13T02:33:21.327277Z",
     "shell.execute_reply": "2022-03-13T02:33:21.326805Z",
     "shell.execute_reply.started": "2022-03-02T01:03:34.72687Z"
    },
    "id": "_wBrvvfK9RAe",
    "outputId": "9f413654-0ec5-4fb6-b1d4-ade24ec0d251",
    "papermill": {
     "duration": 0.06288,
     "end_time": "2022-03-13T02:33:21.327384",
     "exception": false,
     "start_time": "2022-03-13T02:33:21.264504",
     "status": "completed"
    },
    "tags": []
   },
   "outputs": [],
   "source": [
    "# df.tail(10)"
   ]
  },
  {
   "cell_type": "markdown",
   "id": "d791d669",
   "metadata": {
    "id": "xX13F9Mk-HDw",
    "papermill": {
     "duration": 0.057553,
     "end_time": "2022-03-13T02:33:21.442625",
     "exception": false,
     "start_time": "2022-03-13T02:33:21.385072",
     "status": "completed"
    },
    "tags": []
   },
   "source": [
    "### datasets\n"
   ]
  },
  {
   "cell_type": "markdown",
   "id": "1c7e8826",
   "metadata": {
    "papermill": {
     "duration": 0.056701,
     "end_time": "2022-03-13T02:33:21.555977",
     "exception": false,
     "start_time": "2022-03-13T02:33:21.499276",
     "status": "completed"
    },
    "tags": []
   },
   "source": [
    "Let's load the bert model for question answering. This model gives as outputs the start and end logits, as described in the BERT paper, before the softmax."
   ]
  },
  {
   "cell_type": "markdown",
   "id": "e624f86d",
   "metadata": {
    "id": "-_6_2Eg9-RU0",
    "papermill": {
     "duration": 0.056897,
     "end_time": "2022-03-13T02:33:21.669784",
     "exception": false,
     "start_time": "2022-03-13T02:33:21.612887",
     "status": "completed"
    },
    "tags": []
   },
   "source": [
    "Load bert-large-uncased model and tokenizer."
   ]
  },
  {
   "cell_type": "code",
   "execution_count": 21,
   "id": "28c4a3d8",
   "metadata": {
    "execution": {
     "iopub.execute_input": "2022-03-13T02:33:21.788807Z",
     "iopub.status.busy": "2022-03-13T02:33:21.788019Z",
     "iopub.status.idle": "2022-03-13T02:33:34.375337Z",
     "shell.execute_reply": "2022-03-13T02:33:34.375875Z",
     "shell.execute_reply.started": "2022-03-13T01:14:13.703770Z"
    },
    "id": "nIUEr1Rq-RU6",
    "outputId": "e85db52c-15b1-4ee5-af17-762dd754df7a",
    "papermill": {
     "duration": 12.649159,
     "end_time": "2022-03-13T02:33:34.376069",
     "exception": false,
     "start_time": "2022-03-13T02:33:21.726910",
     "status": "completed"
    },
    "tags": []
   },
   "outputs": [
    {
     "data": {
      "application/vnd.jupyter.widget-view+json": {
       "model_id": "7d6e446690ef42d0a2f25e907546ef6b",
       "version_major": 2,
       "version_minor": 0
      },
      "text/plain": [
       "Downloading:   0%|          | 0.00/226k [00:00<?, ?B/s]"
      ]
     },
     "metadata": {},
     "output_type": "display_data"
    },
    {
     "data": {
      "application/vnd.jupyter.widget-view+json": {
       "model_id": "bd841f2e639e405eaef7791b2fafa84a",
       "version_major": 2,
       "version_minor": 0
      },
      "text/plain": [
       "Downloading:   0%|          | 0.00/455k [00:00<?, ?B/s]"
      ]
     },
     "metadata": {},
     "output_type": "display_data"
    },
    {
     "data": {
      "application/vnd.jupyter.widget-view+json": {
       "model_id": "736cb30c0b9c4a4885aded03f8125809",
       "version_major": 2,
       "version_minor": 0
      },
      "text/plain": [
       "Downloading:   0%|          | 0.00/28.0 [00:00<?, ?B/s]"
      ]
     },
     "metadata": {},
     "output_type": "display_data"
    },
    {
     "data": {
      "application/vnd.jupyter.widget-view+json": {
       "model_id": "589056d9f34246e1866b3ce76873a12b",
       "version_major": 2,
       "version_minor": 0
      },
      "text/plain": [
       "Downloading:   0%|          | 0.00/483 [00:00<?, ?B/s]"
      ]
     },
     "metadata": {},
     "output_type": "display_data"
    },
    {
     "data": {
      "application/vnd.jupyter.widget-view+json": {
       "model_id": "0fdaa5b5af5b4972b5240657bbfd7ad8",
       "version_major": 2,
       "version_minor": 0
      },
      "text/plain": [
       "Downloading:   0%|          | 0.00/256M [00:00<?, ?B/s]"
      ]
     },
     "metadata": {},
     "output_type": "display_data"
    },
    {
     "name": "stderr",
     "output_type": "stream",
     "text": [
      "Some weights of the model checkpoint at distilbert-base-uncased were not used when initializing DistilBertForQuestionAnswering: ['vocab_layer_norm.bias', 'vocab_layer_norm.weight', 'vocab_transform.bias', 'vocab_transform.weight', 'vocab_projector.weight', 'vocab_projector.bias']\n",
      "- This IS expected if you are initializing DistilBertForQuestionAnswering from the checkpoint of a model trained on another task or with another architecture (e.g. initializing a BertForSequenceClassification model from a BertForPreTraining model).\n",
      "- This IS NOT expected if you are initializing DistilBertForQuestionAnswering from the checkpoint of a model that you expect to be exactly identical (initializing a BertForSequenceClassification model from a BertForSequenceClassification model).\n",
      "Some weights of DistilBertForQuestionAnswering were not initialized from the model checkpoint at distilbert-base-uncased and are newly initialized: ['qa_outputs.bias', 'qa_outputs.weight']\n",
      "You should probably TRAIN this model on a down-stream task to be able to use it for predictions and inference.\n"
     ]
    }
   ],
   "source": [
    "from transformers import DistilBertTokenizerFast, DistilBertForQuestionAnswering\n",
    "\n",
    "tokenizer = DistilBertTokenizerFast.from_pretrained(\"distilbert-base-uncased\")\n",
    "model = DistilBertForQuestionAnswering.from_pretrained(\"distilbert-base-uncased\")"
   ]
  },
  {
   "cell_type": "markdown",
   "id": "accf595d",
   "metadata": {
    "id": "sQbQUW6v-RU7",
    "papermill": {
     "duration": 0.060707,
     "end_time": "2022-03-13T02:33:34.498965",
     "exception": false,
     "start_time": "2022-03-13T02:33:34.438258",
     "status": "completed"
    },
    "tags": []
   },
   "source": [
    "Find encodings for BERT with tokenizer. The max length of a sequence (question+anwer with special tokens) is 489, so I use that number for padding."
   ]
  },
  {
   "cell_type": "markdown",
   "id": "f8e0f7ca",
   "metadata": {
    "id": "DauZRzlKhglZ",
    "papermill": {
     "duration": 0.060583,
     "end_time": "2022-03-13T02:33:34.622796",
     "exception": false,
     "start_time": "2022-03-13T02:33:34.562213",
     "status": "completed"
    },
    "tags": []
   },
   "source": [
    "Preprocessing the dataset"
   ]
  },
  {
   "cell_type": "code",
   "execution_count": 22,
   "id": "9810cb27",
   "metadata": {
    "execution": {
     "iopub.execute_input": "2022-03-13T02:33:34.750434Z",
     "iopub.status.busy": "2022-03-13T02:33:34.748444Z",
     "iopub.status.idle": "2022-03-13T02:33:34.750992Z",
     "shell.execute_reply": "2022-03-13T02:33:34.751422Z",
     "shell.execute_reply.started": "2022-03-02T01:03:37.739672Z"
    },
    "papermill": {
     "duration": 0.067989,
     "end_time": "2022-03-13T02:33:34.751556",
     "exception": false,
     "start_time": "2022-03-13T02:33:34.683567",
     "status": "completed"
    },
    "tags": []
   },
   "outputs": [],
   "source": [
    "# train_dataset = train_dataset.map(lambda example: {'answer_text': example['answers']['text'][0] if len(example['answers']['text'])!=0 else None, 'answer_start': example['answers']['answer_start'][0] if len(example['answers']['text'])!=0 else None}, remove_columns=['answers'])"
   ]
  },
  {
   "cell_type": "code",
   "execution_count": 23,
   "id": "9c1ede96",
   "metadata": {
    "execution": {
     "iopub.execute_input": "2022-03-13T02:33:34.877432Z",
     "iopub.status.busy": "2022-03-13T02:33:34.876742Z",
     "iopub.status.idle": "2022-03-13T02:33:34.879312Z",
     "shell.execute_reply": "2022-03-13T02:33:34.878879Z",
     "shell.execute_reply.started": "2022-03-02T18:02:58.870994Z"
    },
    "papermill": {
     "duration": 0.066893,
     "end_time": "2022-03-13T02:33:34.879423",
     "exception": false,
     "start_time": "2022-03-13T02:33:34.812530",
     "status": "completed"
    },
    "tags": []
   },
   "outputs": [],
   "source": [
    "# train_dataset[1]"
   ]
  },
  {
   "cell_type": "markdown",
   "id": "cd21b00c",
   "metadata": {
    "papermill": {
     "duration": 0.107433,
     "end_time": "2022-03-13T02:33:35.050910",
     "exception": false,
     "start_time": "2022-03-13T02:33:34.943477",
     "status": "completed"
    },
    "tags": []
   },
   "source": [
    "For the training dataset, I noticed that for each question there is only one answer, so there is no need to keep the values of the answers dictionary in lists. For example: `'answers': {'text': ['singing and dancing'], 'answer_start': [207]}}` can be reformated to `'answers': {'text': 'singing and dancing', 'answer_start': 207}}`. As for questions that are inanswerable (they look like this:`'answers': {'text': [], 'answer_start': []}}` we can just have `'answers': {'text': \"\", 'answer_start': 0}}`."
   ]
  },
  {
   "cell_type": "code",
   "execution_count": 24,
   "id": "58df51ec",
   "metadata": {
    "execution": {
     "iopub.execute_input": "2022-03-13T02:33:35.292981Z",
     "iopub.status.busy": "2022-03-13T02:33:35.292070Z",
     "iopub.status.idle": "2022-03-13T02:33:42.689477Z",
     "shell.execute_reply": "2022-03-13T02:33:42.688817Z",
     "shell.execute_reply.started": "2022-03-13T01:13:20.825933Z"
    },
    "papermill": {
     "duration": 7.517422,
     "end_time": "2022-03-13T02:33:42.689623",
     "exception": false,
     "start_time": "2022-03-13T02:33:35.172201",
     "status": "completed"
    },
    "tags": []
   },
   "outputs": [
    {
     "data": {
      "application/vnd.jupyter.widget-view+json": {
       "model_id": "56bf1b8d7f114a5cb9c0ff651197b29f",
       "version_major": 2,
       "version_minor": 0
      },
      "text/plain": [
       "0ex [00:00, ?ex/s]"
      ]
     },
     "metadata": {},
     "output_type": "display_data"
    }
   ],
   "source": [
    "def find_end(example):\n",
    "\n",
    "    if (len(example['answers']['text']) != 0):\n",
    "        context = example['context']\n",
    "        text = example['answers']['text'][0]\n",
    "        start_idx = example['answers']['answer_start'][0]\n",
    "\n",
    "        end_idx = start_idx + len(text)\n",
    "        \n",
    "        temp = example['answers'] # to change the value\n",
    "        temp['answer_end']=end_idx \n",
    "        temp['answer_start'] = start_idx # [num]->num\n",
    "        temp['text'] = text # ['text']->text\n",
    "    \n",
    "    else:\n",
    "        temp = example['answers']\n",
    "        temp['answer_end'] = 0 # []->0\n",
    "        temp['answer_start'] = 0 # []->0\n",
    "        temp['text'] = \"\" # []->\"\"\n",
    "        \n",
    "    return example\n",
    "\n",
    "train_dataset = train_dataset.map(find_end)"
   ]
  },
  {
   "cell_type": "markdown",
   "id": "9f862916",
   "metadata": {
    "papermill": {
     "duration": 0.0615,
     "end_time": "2022-03-13T02:33:42.813421",
     "exception": false,
     "start_time": "2022-03-13T02:33:42.751921",
     "status": "completed"
    },
    "tags": []
   },
   "source": [
    "Check some examples:"
   ]
  },
  {
   "cell_type": "code",
   "execution_count": 25,
   "id": "e456f75f",
   "metadata": {
    "execution": {
     "iopub.execute_input": "2022-03-13T02:33:42.941466Z",
     "iopub.status.busy": "2022-03-13T02:33:42.940695Z",
     "iopub.status.idle": "2022-03-13T02:33:42.943627Z",
     "shell.execute_reply": "2022-03-13T02:33:42.944034Z",
     "shell.execute_reply.started": "2022-03-13T01:07:18.671514Z"
    },
    "papermill": {
     "duration": 0.068922,
     "end_time": "2022-03-13T02:33:42.944174",
     "exception": false,
     "start_time": "2022-03-13T02:33:42.875252",
     "status": "completed"
    },
    "tags": []
   },
   "outputs": [
    {
     "data": {
      "text/plain": [
       "{'context': \"Dame Judith Olivia `` Judi '' Dench , ( born 9 December 1934 ) is an English actress and author . Dench made her professional debut in 1957 with the Old Vic Company . Over the following few years she performed in several of Shakespeare 's plays in such roles as Ophelia in Hamlet , Juliet in Romeo and Juliet and Lady Macbeth in Macbeth . Although most of her work during this period was in theatre , she also branched into film work , and won a BAFTA Award as Most Promising Newcomer . She drew strong reviews for her leading role in the musical Cabaret in 1968 . \\n \\n Over the next two decades , Dench established herself as one of the most significant British theatre performers , working for the National Theatre Company and the Royal Shakespeare Company . She achieved success in television during this period , in the series A Fine Romance from 1981 until 1984 , and in 1992 with a starring role in the romantic comedy series As Time Goes By . Her film appearances were infrequent and included supporting roles in major films such as A Room with a View ( 1986 ) supporting Maggie Smith , before she rose to international fame as M in GoldenEye ( 1995 ) , a role she continued to play in James Bond films until Spectre ( 2015 ) . She received her first Oscar nomination for Best Actress for her role as Queen Victoria in Mrs Brown ( 1997 ) and the following year won the Academy Award for Best Supporting Actress for Shakespeare in Love . A seven-time Oscar nominee , she has also received nominations for her roles in Chocolat ( 2000 ) , Iris ( 2001 ) , Mrs Henderson Presents ( 2005 ) , Notes on a Scandal ( 2006 ) , and Philomena ( 2013 ) . \\n \\n Dench has received many award nominations for her acting in theatre , film and television ; her competitive awards include six British Academy Film Awards , four BAFTA TV Awards , seven Olivier Awards , two Screen Actors Guild Awards , two Golden Globes , an Academy Award , and a Tony Award . She has also received the BAFTA Fellowship ( 2001 ) and the Special Olivier Award ( 2004 ) . In June 2011 , she received a fellowship from the British Film Institute ( BFI ) . Dench is also a Fellow of the Royal Society of Arts ( FRSA ) . \\n \\n Early life \\n \\n Dench was born in Heworth , North Riding of Yorkshire . Her mother , Eleanora Olive ( née Jones ) , was born in Dublin . Her father , Reginald Arthur Dench , a doctor , was born in Dorset , and later moved to Dublin , where he was raised . He met Dench 's mother while he was studying medicine at Trinity College , Dublin . \\n \\n Dench attended The Mount School , a Quaker independent secondary school in York , and became a Quaker . Her brothers , one of whom was actor Jeffery Dench , were born in Tyldesley , Lancashire . Her niece , Emma Dench , is a Roman historian and professor previously at Birkbeck , University of London , and currently at Harvard University . \\n \\n Career \\n \\n In Britain , Dench has developed a reputation as one of the greatest actresses of the post-war period , primarily through her work in theatre , which has been her forte throughout her career . She has more than once been named number one in polls for Britain 's best actor . \\n \\n Early years \\n \\n Through her parents , Dench had regular contact with the theatre . Her father , a physician , was also the GP for the York theatre , and her mother was its wardrobe mistress . Actors often stayed in the Dench household . During these years , Judi Dench was involved on a non-professional basis in the first three productions of the modern revival of the York Mystery Plays in the 1950s . In 1957 , in one of the last productions in which she appeared during this period , she played the role of the Virgin Mary , performed on a fixed stage in the Museum Gardens . Though she initially trained as a set designer , she became interested in drama school as her brother Jeff attended the Central School of Speech and Drama . She applied and was accepted , where she was a classmate of Vanessa Redgrave , graduating with a first class degree in drama and four acting prizes , one being the Gold Medal as Outstanding\",\n",
       " 'question': 'Where in England was Dame Judi Dench born?',\n",
       " 'id': 'tc_3--Judi_Dench.txt',\n",
       " 'answers': {'answer_end': 2252, 'answer_start': 2248, 'text': 'York'}}"
      ]
     },
     "execution_count": 25,
     "metadata": {},
     "output_type": "execute_result"
    }
   ],
   "source": [
    "train_dataset[1]"
   ]
  },
  {
   "cell_type": "markdown",
   "id": "61d63438",
   "metadata": {
    "papermill": {
     "duration": 0.061732,
     "end_time": "2022-03-13T02:33:43.067759",
     "exception": false,
     "start_time": "2022-03-13T02:33:43.006027",
     "status": "completed"
    },
    "tags": []
   },
   "source": [
    "Example with no answer"
   ]
  },
  {
   "cell_type": "markdown",
   "id": "539bcdc4",
   "metadata": {
    "papermill": {
     "duration": 0.061924,
     "end_time": "2022-03-13T02:33:43.191549",
     "exception": false,
     "start_time": "2022-03-13T02:33:43.129625",
     "status": "completed"
    },
    "tags": []
   },
   "source": [
    "Tokenize train dataset and find end and start tokens. The sequence lenght will be 512, the maximum one for bert."
   ]
  },
  {
   "cell_type": "code",
   "execution_count": 26,
   "id": "6265f201",
   "metadata": {
    "execution": {
     "iopub.execute_input": "2022-03-13T02:33:43.318918Z",
     "iopub.status.busy": "2022-03-13T02:33:43.318059Z",
     "iopub.status.idle": "2022-03-13T02:35:49.018893Z",
     "shell.execute_reply": "2022-03-13T02:35:49.019716Z",
     "shell.execute_reply.started": "2022-03-13T01:14:19.486512Z"
    },
    "papermill": {
     "duration": 125.766679,
     "end_time": "2022-03-13T02:35:49.019920",
     "exception": false,
     "start_time": "2022-03-13T02:33:43.253241",
     "status": "completed"
    },
    "tags": []
   },
   "outputs": [],
   "source": [
    "tokenized_train = tokenizer(train_dataset['context'], train_dataset['question'], truncation=True, padding=True)"
   ]
  },
  {
   "cell_type": "code",
   "execution_count": 27,
   "id": "9f096665",
   "metadata": {
    "execution": {
     "iopub.execute_input": "2022-03-13T02:35:49.222631Z",
     "iopub.status.busy": "2022-03-13T02:35:49.181549Z",
     "iopub.status.idle": "2022-03-13T02:35:50.066295Z",
     "shell.execute_reply": "2022-03-13T02:35:50.065343Z",
     "shell.execute_reply.started": "2022-03-13T01:16:34.127183Z"
    },
    "papermill": {
     "duration": 0.983803,
     "end_time": "2022-03-13T02:35:50.066452",
     "exception": false,
     "start_time": "2022-03-13T02:35:49.082649",
     "status": "completed"
    },
    "tags": []
   },
   "outputs": [],
   "source": [
    "def find_token_indexes(tokenized, dataset):\n",
    "    start_positions = []\n",
    "    end_positions = []\n",
    "    answers = dataset['answers']\n",
    "    for i in range(len(answers)):\n",
    "#         print(answers)\n",
    "        if (answers[i]['text'] != ''):\n",
    "            start_positions.append(tokenized.char_to_token(i, answers[i]['answer_start']))\n",
    "            end_positions.append(tokenized.char_to_token(i, answers[i]['answer_end'] - 1))\n",
    "            # if start position is None, the answer passage has been truncated\n",
    "            if start_positions[-1] is None:\n",
    "                start_positions[-1] = tokenizer.model_max_length\n",
    "            if end_positions[-1] is None:\n",
    "                end_positions[-1] = tokenizer.model_max_length\n",
    "        else:\n",
    "            start_positions.append(0)\n",
    "            end_positions.append(0)\n",
    "            \n",
    "\n",
    "    return start_positions, end_positions\n",
    "    \n",
    "s, e = find_token_indexes(tokenized_train, train_dataset)\n",
    "train_dataset = train_dataset.add_column(\"start_position\", s)\n",
    "train_dataset = train_dataset.add_column(\"end_position\", e)"
   ]
  },
  {
   "cell_type": "code",
   "execution_count": 28,
   "id": "fc28a074",
   "metadata": {
    "execution": {
     "iopub.execute_input": "2022-03-13T02:35:50.193511Z",
     "iopub.status.busy": "2022-03-13T02:35:50.192778Z",
     "iopub.status.idle": "2022-03-13T02:35:50.246692Z",
     "shell.execute_reply": "2022-03-13T02:35:50.247111Z",
     "shell.execute_reply.started": "2022-03-09T19:24:23.802241Z"
    },
    "papermill": {
     "duration": 0.118919,
     "end_time": "2022-03-13T02:35:50.247272",
     "exception": false,
     "start_time": "2022-03-13T02:35:50.128353",
     "status": "completed"
    },
    "tags": []
   },
   "outputs": [
    {
     "data": {
      "text/plain": [
       "('./tokenizer_config.json',\n",
       " './special_tokens_map.json',\n",
       " './vocab.txt',\n",
       " './added_tokens.json',\n",
       " './tokenizer.json')"
      ]
     },
     "execution_count": 28,
     "metadata": {},
     "output_type": "execute_result"
    }
   ],
   "source": [
    "tokenizer.save_pretrained('.')"
   ]
  },
  {
   "cell_type": "code",
   "execution_count": 29,
   "id": "b91c2bbc",
   "metadata": {
    "execution": {
     "iopub.execute_input": "2022-03-13T02:35:50.376791Z",
     "iopub.status.busy": "2022-03-13T02:35:50.376137Z",
     "iopub.status.idle": "2022-03-13T02:35:50.379191Z",
     "shell.execute_reply": "2022-03-13T02:35:50.379632Z",
     "shell.execute_reply.started": "2022-03-13T01:26:04.216484Z"
    },
    "papermill": {
     "duration": 0.070137,
     "end_time": "2022-03-13T02:35:50.379755",
     "exception": false,
     "start_time": "2022-03-13T02:35:50.309618",
     "status": "completed"
    },
    "tags": []
   },
   "outputs": [
    {
     "data": {
      "text/plain": [
       "Dataset({\n",
       "    features: ['context', 'question', 'id', 'answers', 'start_position', 'end_position'],\n",
       "    num_rows: 55322\n",
       "})"
      ]
     },
     "execution_count": 29,
     "metadata": {},
     "output_type": "execute_result"
    }
   ],
   "source": [
    "train_dataset"
   ]
  },
  {
   "cell_type": "code",
   "execution_count": 30,
   "id": "cf11330c",
   "metadata": {
    "execution": {
     "iopub.execute_input": "2022-03-13T02:35:52.502283Z",
     "iopub.status.busy": "2022-03-13T02:35:51.228468Z",
     "iopub.status.idle": "2022-03-13T02:35:52.567338Z",
     "shell.execute_reply": "2022-03-13T02:35:52.566842Z",
     "shell.execute_reply.started": "2022-03-13T01:26:06.433718Z"
    },
    "id": "0e4Pv5Kshgla",
    "papermill": {
     "duration": 2.126081,
     "end_time": "2022-03-13T02:35:52.567472",
     "exception": false,
     "start_time": "2022-03-13T02:35:50.441391",
     "status": "completed"
    },
    "tags": []
   },
   "outputs": [],
   "source": [
    "batch_size = 8\n",
    "train_data = TensorDataset(torch.tensor(tokenized_train['input_ids'], dtype=torch.int64), \n",
    "                           torch.tensor(tokenized_train['attention_mask'], dtype=torch.float), \n",
    "                           torch.tensor(train_dataset['start_position'], dtype=torch.int64), \n",
    "                           torch.tensor(train_dataset['start_position'], dtype=torch.int64))\n",
    "\n",
    "train_sampler = RandomSampler(train_data)\n",
    "train_dataloader = DataLoader(train_data, sampler=train_sampler, batch_size=batch_size)"
   ]
  },
  {
   "cell_type": "markdown",
   "id": "615b0032",
   "metadata": {
    "papermill": {
     "duration": 0.061603,
     "end_time": "2022-03-13T02:35:52.691238",
     "exception": false,
     "start_time": "2022-03-13T02:35:52.629635",
     "status": "completed"
    },
    "tags": []
   },
   "source": [
    "Validation dataset does not need that much preprocessing. I pass to the dataloader only the input_ids, token_type_ids and attention masks, that will be passed to bert model in batches. I use a Sequential sampler to keep the indexing same as the validation dataset. We will need the offsets mapping to construct the sentence from the predicted start and end tokens and compare it with the actual answers."
   ]
  },
  {
   "cell_type": "code",
   "execution_count": 31,
   "id": "cff759e4",
   "metadata": {
    "execution": {
     "iopub.execute_input": "2022-03-13T02:35:52.820343Z",
     "iopub.status.busy": "2022-03-13T02:35:52.818794Z",
     "iopub.status.idle": "2022-03-13T02:35:52.821030Z",
     "shell.execute_reply": "2022-03-13T02:35:52.821467Z",
     "shell.execute_reply.started": "2022-03-09T20:28:53.000043Z"
    },
    "papermill": {
     "duration": 0.068487,
     "end_time": "2022-03-13T02:35:52.821595",
     "exception": false,
     "start_time": "2022-03-13T02:35:52.753108",
     "status": "completed"
    },
    "tags": []
   },
   "outputs": [],
   "source": [
    "# tokenized_validation = tokenizer(validation_dataset['context'], validation_dataset['question'], truncation=True, padding=True, return_offsets_mapping=True)"
   ]
  },
  {
   "cell_type": "code",
   "execution_count": 32,
   "id": "1dc58fff",
   "metadata": {
    "execution": {
     "iopub.execute_input": "2022-03-13T02:35:52.951103Z",
     "iopub.status.busy": "2022-03-13T02:35:52.950445Z",
     "iopub.status.idle": "2022-03-13T02:35:52.953144Z",
     "shell.execute_reply": "2022-03-13T02:35:52.952732Z",
     "shell.execute_reply.started": "2022-03-09T20:31:35.89869Z"
    },
    "papermill": {
     "duration": 0.069279,
     "end_time": "2022-03-13T02:35:52.953277",
     "exception": false,
     "start_time": "2022-03-13T02:35:52.883998",
     "status": "completed"
    },
    "tags": []
   },
   "outputs": [],
   "source": [
    "# batch_size = 8\n",
    "# val_data = TensorDataset(torch.tensor(tokenized_validation['input_ids'], dtype=torch.int64), \n",
    "#                         torch.tensor(tokenized_validation['attention_mask'], dtype=torch.float))\n",
    "# val_sampler = SequentialSampler(val_data)\n",
    "# val_dataloader = DataLoader(val_data, sampler=val_sampler, batch_size=batch_size)"
   ]
  },
  {
   "cell_type": "markdown",
   "id": "ad40d516",
   "metadata": {
    "papermill": {
     "duration": 0.061428,
     "end_time": "2022-03-13T02:35:53.077418",
     "exception": false,
     "start_time": "2022-03-13T02:35:53.015990",
     "status": "completed"
    },
    "tags": []
   },
   "source": []
  },
  {
   "cell_type": "markdown",
   "id": "6f35de03",
   "metadata": {
    "id": "MReVWUdjhgla",
    "papermill": {
     "duration": 0.061202,
     "end_time": "2022-03-13T02:35:53.200114",
     "exception": false,
     "start_time": "2022-03-13T02:35:53.138912",
     "status": "completed"
    },
    "tags": []
   },
   "source": [
    "## Initialize & train functions"
   ]
  },
  {
   "cell_type": "markdown",
   "id": "a7c3a5c0",
   "metadata": {
    "papermill": {
     "duration": 0.061327,
     "end_time": "2022-03-13T02:35:53.323594",
     "exception": false,
     "start_time": "2022-03-13T02:35:53.262267",
     "status": "completed"
    },
    "tags": []
   },
   "source": [
    "The training for each epoch took aprox. 2 hours so I couldn't try many epochs and do many runs when using the whole dataset."
   ]
  },
  {
   "cell_type": "markdown",
   "id": "74a435e4",
   "metadata": {
    "papermill": {
     "duration": 0.061745,
     "end_time": "2022-03-13T02:35:53.447526",
     "exception": false,
     "start_time": "2022-03-13T02:35:53.385781",
     "status": "completed"
    },
    "tags": []
   },
   "source": [
    "For optimizer, I used AdamW (Adam with weight decay) which is the one that was used in BERT during pre-training. "
   ]
  },
  {
   "cell_type": "code",
   "execution_count": 33,
   "id": "79767c71",
   "metadata": {
    "execution": {
     "iopub.execute_input": "2022-03-13T02:35:53.577789Z",
     "iopub.status.busy": "2022-03-13T02:35:53.577115Z",
     "iopub.status.idle": "2022-03-13T02:35:56.319858Z",
     "shell.execute_reply": "2022-03-13T02:35:56.319289Z",
     "shell.execute_reply.started": "2022-03-13T01:26:11.334737Z"
    },
    "id": "4ezESoUuhgla",
    "papermill": {
     "duration": 2.810214,
     "end_time": "2022-03-13T02:35:56.319997",
     "exception": false,
     "start_time": "2022-03-13T02:35:53.509783",
     "status": "completed"
    },
    "tags": []
   },
   "outputs": [],
   "source": [
    "epochs = 3\n",
    "model.to(device)\n",
    "optimizer = optim.AdamW(model.parameters(), lr=5e-5)"
   ]
  },
  {
   "cell_type": "markdown",
   "id": "6743af99",
   "metadata": {
    "papermill": {
     "duration": 0.061461,
     "end_time": "2022-03-13T02:35:56.443362",
     "exception": false,
     "start_time": "2022-03-13T02:35:56.381901",
     "status": "completed"
    },
    "tags": []
   },
   "source": []
  },
  {
   "cell_type": "code",
   "execution_count": 34,
   "id": "22049795",
   "metadata": {
    "execution": {
     "iopub.execute_input": "2022-03-13T02:35:56.576386Z",
     "iopub.status.busy": "2022-03-13T02:35:56.575766Z",
     "iopub.status.idle": "2022-03-13T03:58:21.889372Z",
     "shell.execute_reply": "2022-03-13T03:58:21.889837Z",
     "shell.execute_reply.started": "2022-03-13T01:26:15.644498Z"
    },
    "id": "b0Cp_bo4QV_S",
    "outputId": "c1b55f94-6519-47f1-df5a-18e2ed33b7c4",
    "papermill": {
     "duration": 4945.385161,
     "end_time": "2022-03-13T03:58:21.890003",
     "exception": false,
     "start_time": "2022-03-13T02:35:56.504842",
     "status": "completed"
    },
    "tags": []
   },
   "outputs": [
    {
     "name": "stderr",
     "output_type": "stream",
     "text": [
      "Epoch 1: 100%|██████████| 6916/6916 [27:25<00:00,  4.20it/s, Loss=2.4]\n"
     ]
    },
    {
     "name": "stdout",
     "output_type": "stream",
     "text": [
      "Epoch 0 Loss: 2.399498201775251\n",
      "\n"
     ]
    },
    {
     "name": "stderr",
     "output_type": "stream",
     "text": [
      "Epoch 2: 100%|██████████| 6916/6916 [27:29<00:00,  4.19it/s, Loss=1.49]\n"
     ]
    },
    {
     "name": "stdout",
     "output_type": "stream",
     "text": [
      "Epoch 1 Loss: 1.4934059961867545\n",
      "\n"
     ]
    },
    {
     "name": "stderr",
     "output_type": "stream",
     "text": [
      "Epoch 3: 100%|██████████| 6916/6916 [27:28<00:00,  4.20it/s, Loss=1.02]\n"
     ]
    },
    {
     "name": "stdout",
     "output_type": "stream",
     "text": [
      "Epoch 2 Loss: 1.019124074005767\n",
      "\n"
     ]
    }
   ],
   "source": [
    "from tqdm import tqdm\n",
    "# model.load_state_dict(torch.load(\"./weights_\" + str(0) + \".pth\"))\n",
    "for epoch in range(epochs):\n",
    "    epoch_loss = []\n",
    "    validation_loss = []\n",
    "    \n",
    "    total_loss = 0\n",
    "    model.train()\n",
    "\n",
    "    count=-1\n",
    "    progress_bar = tqdm(train_dataloader, leave=True, position=0)\n",
    "    progress_bar.set_description(f\"Epoch {epoch+1}\")\n",
    "    for batch in progress_bar:\n",
    "        count+=1\n",
    "        input_ids, mask, start, end  = tuple(t.to(device) for t in batch)\n",
    "\n",
    "        model.zero_grad()\n",
    "        loss, start_logits, end_logits = model(input_ids = input_ids, \n",
    "                                                attention_mask = mask, \n",
    "                                                start_positions = start, \n",
    "                                                end_positions = end,\n",
    "                                                return_dict = False)           \n",
    "\n",
    "        total_loss += loss.item()\n",
    "        loss.backward()\n",
    "        torch.nn.utils.clip_grad_norm_(model.parameters(), 1.0)\n",
    "        optimizer.step()\n",
    "        \n",
    "        if (count % 20 == 0 and count != 0):\n",
    "            avg = total_loss/count\n",
    "            progress_bar.set_postfix(Loss=avg)\n",
    "            \n",
    "    torch.save(model.state_dict(), \"./trivia\" + str(epoch) + \".h5\") # save for later use\n",
    "    avg_train_loss = total_loss / len(train_dataloader)\n",
    "    epoch_loss.append(avg_train_loss)\n",
    "    print(f\"Epoch {epoch} Loss: {avg_train_loss}\\n\")"
   ]
  },
  {
   "cell_type": "markdown",
   "id": "53e7ff24",
   "metadata": {
    "id": "do-qX2pEgCMU",
    "papermill": {
     "duration": 7.083125,
     "end_time": "2022-03-13T03:58:36.170335",
     "exception": false,
     "start_time": "2022-03-13T03:58:29.087210",
     "status": "completed"
    },
    "tags": []
   },
   "source": [
    "# EVALUATION\n",
    "\n",
    "evaluate on bert\n",
    "---\n",
    "\n"
   ]
  },
  {
   "cell_type": "code",
   "execution_count": 35,
   "id": "fed18995",
   "metadata": {
    "execution": {
     "iopub.execute_input": "2022-03-13T03:58:50.663854Z",
     "iopub.status.busy": "2022-03-13T03:58:50.663001Z",
     "iopub.status.idle": "2022-03-13T03:58:50.666400Z",
     "shell.execute_reply": "2022-03-13T03:58:50.665947Z",
     "shell.execute_reply.started": "2022-03-09T20:35:14.190378Z"
    },
    "id": "PRFIYVtdQ07R",
    "outputId": "bcac5809-99fe-4cae-dbae-ea6cce76a1a7",
    "papermill": {
     "duration": 7.492853,
     "end_time": "2022-03-13T03:58:50.666528",
     "exception": false,
     "start_time": "2022-03-13T03:58:43.173675",
     "status": "completed"
    },
    "tags": []
   },
   "outputs": [],
   "source": [
    "# from tqdm import tqdm\n",
    "# model.load_state_dict(torch.load(\"./trivia2.h5\"))\n",
    "\n",
    "# threshold = 1.0\n",
    "# epoch_i = 0\n",
    "# correct = 0 \n",
    "# pred_dict = {}\n",
    "# na_prob_dict = {}\n",
    "\n",
    "# model.eval()\n",
    "# correct = 0\n",
    "# batch_val_losses = []\n",
    "# row = 0\n",
    "# for test_batch in tqdm(val_dataloader):\n",
    "#     input_ids, masks = tuple(t.to(device) for t in test_batch)\n",
    "\n",
    "#     with torch.no_grad():\n",
    "#         # prediction logits\n",
    "#         start_logits, end_logits = model(input_ids=input_ids,\n",
    "#                                         attention_mask=masks,\n",
    "#                                         return_dict=False)\n",
    "# #         print(outputs)\n",
    "\n",
    "#     # to cpu\n",
    "#     start_logits = start_logits.detach().cpu()\n",
    "#     end_logits = end_logits.detach().cpu()\n",
    "\n",
    "#     # for every sequence in batch \n",
    "#     for bidx in range(len(start_logits)):\n",
    "#         # apply softmax to logits to get scores\n",
    "#         start_scores = np.array(F.softmax(start_logits[bidx], dim = 0))\n",
    "#         end_scores = np.array(F.softmax(end_logits[bidx], dim = 0))\n",
    "# #             print(start_scores.max(), end_scores.max(), \"|\", start_scores[0], end_scores[0])\n",
    "\n",
    "#         # find max for start<=end\n",
    "#         size = len(start_scores)\n",
    "#         scores = np.zeros((size, size))\n",
    "#         # print(start_logits[bidx])\n",
    "#         # print(end_logits[bidx])\n",
    "#         for j in range(size):\n",
    "#             for i in range(j+1): # include j\n",
    "#                 scores[i,j] = start_scores[i] + end_scores[j]\n",
    "\n",
    "#         # find best i and j\n",
    "#         # print(unravel_index(scores.argmax(), scores.shape))\n",
    "#         start_pred, end_pred = unravel_index(scores.argmax(), scores.shape)\n",
    "#         answer_pred = \"\"\n",
    "#         if (scores[start_pred, end_pred] > scores[0,0]+threshold):\n",
    "\n",
    "#             offsets = tokenized_validation.offset_mapping[row]\n",
    "#             pred_char_start = offsets[start_pred][0]\n",
    "\n",
    "#             # compare with answer starts\n",
    "#             # if pred_char_start in validation_dataset[row]['answers']['answer_start']:\n",
    "#             if end_pred < len(offsets):\n",
    "#                 pred_char_end = offsets[end_pred][1]\n",
    "#                 answer_pred = validation_dataset[row]['context'][pred_char_start:pred_char_end]\n",
    "#             else:\n",
    "#                 answer_pred = validation_dataset[row]['context'][pred_char_start:]\n",
    "# #                 print(answer_pred)\n",
    "# #                 print(validation_dataset[row]['answers']['text'])\n",
    "#             if answer_pred in validation_dataset[row]['answers']['text']:\n",
    "#                 correct += 1\n",
    "# #                     print(\"correct\")\n",
    "# #                 if (len(validation_dataset[row]['answers']['text']) ==0):\n",
    "# #                     print(\"here\")\n",
    "# #                     print(\"correct empty\")\n",
    "\n",
    "\n",
    "\n",
    "#         else:\n",
    "#             if (len(validation_dataset[row]['answers']['text']) ==0):\n",
    "#                 correct += 1        \n",
    "# #                 else:\n",
    "# #                     print(\"wrong empty\")\n",
    "\n",
    "#         pred_dict[validation_dataset[row]['id']] = answer_pred\n",
    "#         na_prob_dict[validation_dataset[row]['id']] = scores[0,0]\n",
    "\n",
    "#         row+=1\n",
    "\n",
    "\n",
    "# accuracy = correct/validation_dataset.num_rows\n",
    "# print(\"accuracy is: \", accuracy)"
   ]
  },
  {
   "cell_type": "code",
   "execution_count": 36,
   "id": "3c25f05a",
   "metadata": {
    "execution": {
     "iopub.execute_input": "2022-03-13T03:59:04.504276Z",
     "iopub.status.busy": "2022-03-13T03:59:04.502628Z",
     "iopub.status.idle": "2022-03-13T03:59:04.504873Z",
     "shell.execute_reply": "2022-03-13T03:59:04.505293Z",
     "shell.execute_reply.started": "2022-03-03T04:02:25.987832Z"
    },
    "papermill": {
     "duration": 7.034843,
     "end_time": "2022-03-13T03:59:04.505428",
     "exception": false,
     "start_time": "2022-03-13T03:58:57.470585",
     "status": "completed"
    },
    "tags": []
   },
   "outputs": [],
   "source": [
    "# import json \n",
    "# with open(\"pred.json\", \"w\") as outfile:\n",
    "#     json.dump(pred_dict, outfile)"
   ]
  },
  {
   "cell_type": "code",
   "execution_count": 37,
   "id": "2b2c5e0b",
   "metadata": {
    "execution": {
     "iopub.execute_input": "2022-03-13T03:59:18.756452Z",
     "iopub.status.busy": "2022-03-13T03:59:18.755604Z",
     "iopub.status.idle": "2022-03-13T03:59:18.757660Z",
     "shell.execute_reply": "2022-03-13T03:59:18.758025Z",
     "shell.execute_reply.started": "2022-03-03T04:02:28.108976Z"
    },
    "papermill": {
     "duration": 7.487458,
     "end_time": "2022-03-13T03:59:18.758184",
     "exception": false,
     "start_time": "2022-03-13T03:59:11.270726",
     "status": "completed"
    },
    "tags": []
   },
   "outputs": [],
   "source": [
    "# import json \n",
    "# with open(\"na_prob.json\", \"w\") as outfile:\n",
    "#     json.dump(na_prob_dict, outfile)"
   ]
  },
  {
   "cell_type": "code",
   "execution_count": 38,
   "id": "48b75774",
   "metadata": {
    "execution": {
     "iopub.execute_input": "2022-03-13T03:59:32.617829Z",
     "iopub.status.busy": "2022-03-13T03:59:32.616908Z",
     "iopub.status.idle": "2022-03-13T03:59:32.619511Z",
     "shell.execute_reply": "2022-03-13T03:59:32.618915Z",
     "shell.execute_reply.started": "2022-03-03T04:03:16.15548Z"
    },
    "papermill": {
     "duration": 6.825067,
     "end_time": "2022-03-13T03:59:32.619629",
     "exception": false,
     "start_time": "2022-03-13T03:59:25.794562",
     "status": "completed"
    },
    "tags": []
   },
   "outputs": [],
   "source": [
    "# for i in range(5):\n",
    "#     print(f\"Question: {validation_dataset[i]['question']}\")\n",
    "#     print(f\"Predicted answer: {pred_dict[validation_dataset[i]['id']]}\")\n",
    "#     print(f\"Answers: {validation_dataset[i]['answers']['text']}\\n\")"
   ]
  },
  {
   "cell_type": "markdown",
   "id": "3e8bbe44",
   "metadata": {
    "papermill": {
     "duration": 6.979863,
     "end_time": "2022-03-13T03:59:46.619898",
     "exception": false,
     "start_time": "2022-03-13T03:59:39.640035",
     "status": "completed"
    },
    "tags": []
   },
   "source": [
    "Write the official evaluation"
   ]
  },
  {
   "cell_type": "code",
   "execution_count": 39,
   "id": "9e76a8ab",
   "metadata": {
    "execution": {
     "iopub.execute_input": "2022-03-13T04:00:00.798124Z",
     "iopub.status.busy": "2022-03-13T04:00:00.797107Z",
     "iopub.status.idle": "2022-03-13T04:00:00.799390Z",
     "shell.execute_reply": "2022-03-13T04:00:00.798898Z",
     "shell.execute_reply.started": "2022-03-03T04:03:34.91087Z"
    },
    "papermill": {
     "duration": 7.004713,
     "end_time": "2022-03-13T04:00:00.799508",
     "exception": false,
     "start_time": "2022-03-13T03:59:53.794795",
     "status": "completed"
    },
    "tags": []
   },
   "outputs": [],
   "source": [
    "# !wget https://worksheets.codalab.org/rest/bundles/0x6b567e1cf2e041ec80d7098f031c5c9e/contents/blob/ -O evaluation.py"
   ]
  },
  {
   "cell_type": "code",
   "execution_count": 40,
   "id": "cc6a3eba",
   "metadata": {
    "execution": {
     "iopub.execute_input": "2022-03-13T04:00:14.560445Z",
     "iopub.status.busy": "2022-03-13T04:00:14.559544Z",
     "iopub.status.idle": "2022-03-13T04:00:14.561717Z",
     "shell.execute_reply": "2022-03-13T04:00:14.561213Z",
     "shell.execute_reply.started": "2022-03-03T04:03:48.741025Z"
    },
    "papermill": {
     "duration": 6.777984,
     "end_time": "2022-03-13T04:00:14.561827",
     "exception": false,
     "start_time": "2022-03-13T04:00:07.783843",
     "status": "completed"
    },
    "tags": []
   },
   "outputs": [],
   "source": [
    "# !python evaluation.py dev-v2.0.json pred.json --na-prob-file na_prob.json --na-prob-thresh 1 --out-image-dir ./"
   ]
  },
  {
   "cell_type": "code",
   "execution_count": 41,
   "id": "61018989",
   "metadata": {
    "execution": {
     "iopub.execute_input": "2022-03-13T04:00:28.860888Z",
     "iopub.status.busy": "2022-03-13T04:00:28.859945Z",
     "iopub.status.idle": "2022-03-13T04:00:28.862172Z",
     "shell.execute_reply": "2022-03-13T04:00:28.861656Z",
     "shell.execute_reply.started": "2022-03-02T20:09:32.398576Z"
    },
    "papermill": {
     "duration": 6.79277,
     "end_time": "2022-03-13T04:00:28.862308",
     "exception": false,
     "start_time": "2022-03-13T04:00:22.069538",
     "status": "completed"
    },
    "tags": []
   },
   "outputs": [],
   "source": [
    "# !python evaluation.py dev-v2.0.json pred.json --na-prob-file na_prob.json --out-image-dir ./"
   ]
  }
 ],
 "metadata": {
  "kernelspec": {
   "display_name": "Python 3",
   "language": "python",
   "name": "python3"
  },
  "language_info": {
   "codemirror_mode": {
    "name": "ipython",
    "version": 3
   },
   "file_extension": ".py",
   "mimetype": "text/x-python",
   "name": "python",
   "nbconvert_exporter": "python",
   "pygments_lexer": "ipython3",
   "version": "3.7.12"
  },
  "papermill": {
   "default_parameters": {},
   "duration": 5288.668603,
   "end_time": "2022-03-13T04:00:39.071090",
   "environment_variables": {},
   "exception": null,
   "input_path": "__notebook__.ipynb",
   "output_path": "__notebook__.ipynb",
   "parameters": {},
   "start_time": "2022-03-13T02:32:30.402487",
   "version": "2.3.3"
  },
  "widgets": {
   "application/vnd.jupyter.widget-state+json": {
    "state": {
     "039db8c113eb461ca4eda1914a37f37d": {
      "model_module": "@jupyter-widgets/base",
      "model_module_version": "1.2.0",
      "model_name": "LayoutModel",
      "state": {
       "_model_module": "@jupyter-widgets/base",
       "_model_module_version": "1.2.0",
       "_model_name": "LayoutModel",
       "_view_count": null,
       "_view_module": "@jupyter-widgets/base",
       "_view_module_version": "1.2.0",
       "_view_name": "LayoutView",
       "align_content": null,
       "align_items": null,
       "align_self": null,
       "border": null,
       "bottom": null,
       "display": null,
       "flex": null,
       "flex_flow": null,
       "grid_area": null,
       "grid_auto_columns": null,
       "grid_auto_flow": null,
       "grid_auto_rows": null,
       "grid_column": null,
       "grid_gap": null,
       "grid_row": null,
       "grid_template_areas": null,
       "grid_template_columns": null,
       "grid_template_rows": null,
       "height": null,
       "justify_content": null,
       "justify_items": null,
       "left": null,
       "margin": null,
       "max_height": null,
       "max_width": null,
       "min_height": null,
       "min_width": null,
       "object_fit": null,
       "object_position": null,
       "order": null,
       "overflow": null,
       "overflow_x": null,
       "overflow_y": null,
       "padding": null,
       "right": null,
       "top": null,
       "visibility": null,
       "width": null
      }
     },
     "04524c1001cf433799033c311060ed15": {
      "model_module": "@jupyter-widgets/base",
      "model_module_version": "1.2.0",
      "model_name": "LayoutModel",
      "state": {
       "_model_module": "@jupyter-widgets/base",
       "_model_module_version": "1.2.0",
       "_model_name": "LayoutModel",
       "_view_count": null,
       "_view_module": "@jupyter-widgets/base",
       "_view_module_version": "1.2.0",
       "_view_name": "LayoutView",
       "align_content": null,
       "align_items": null,
       "align_self": null,
       "border": null,
       "bottom": null,
       "display": null,
       "flex": null,
       "flex_flow": null,
       "grid_area": null,
       "grid_auto_columns": null,
       "grid_auto_flow": null,
       "grid_auto_rows": null,
       "grid_column": null,
       "grid_gap": null,
       "grid_row": null,
       "grid_template_areas": null,
       "grid_template_columns": null,
       "grid_template_rows": null,
       "height": null,
       "justify_content": null,
       "justify_items": null,
       "left": null,
       "margin": null,
       "max_height": null,
       "max_width": null,
       "min_height": null,
       "min_width": null,
       "object_fit": null,
       "object_position": null,
       "order": null,
       "overflow": null,
       "overflow_x": null,
       "overflow_y": null,
       "padding": null,
       "right": null,
       "top": null,
       "visibility": null,
       "width": null
      }
     },
     "04792c2d2344467685b1167368e09121": {
      "model_module": "@jupyter-widgets/base",
      "model_module_version": "1.2.0",
      "model_name": "LayoutModel",
      "state": {
       "_model_module": "@jupyter-widgets/base",
       "_model_module_version": "1.2.0",
       "_model_name": "LayoutModel",
       "_view_count": null,
       "_view_module": "@jupyter-widgets/base",
       "_view_module_version": "1.2.0",
       "_view_name": "LayoutView",
       "align_content": null,
       "align_items": null,
       "align_self": null,
       "border": null,
       "bottom": null,
       "display": null,
       "flex": null,
       "flex_flow": null,
       "grid_area": null,
       "grid_auto_columns": null,
       "grid_auto_flow": null,
       "grid_auto_rows": null,
       "grid_column": null,
       "grid_gap": null,
       "grid_row": null,
       "grid_template_areas": null,
       "grid_template_columns": null,
       "grid_template_rows": null,
       "height": null,
       "justify_content": null,
       "justify_items": null,
       "left": null,
       "margin": null,
       "max_height": null,
       "max_width": null,
       "min_height": null,
       "min_width": null,
       "object_fit": null,
       "object_position": null,
       "order": null,
       "overflow": null,
       "overflow_x": null,
       "overflow_y": null,
       "padding": null,
       "right": null,
       "top": null,
       "visibility": null,
       "width": null
      }
     },
     "059b9e4d2a98496fa732383af17de5ff": {
      "model_module": "@jupyter-widgets/base",
      "model_module_version": "1.2.0",
      "model_name": "LayoutModel",
      "state": {
       "_model_module": "@jupyter-widgets/base",
       "_model_module_version": "1.2.0",
       "_model_name": "LayoutModel",
       "_view_count": null,
       "_view_module": "@jupyter-widgets/base",
       "_view_module_version": "1.2.0",
       "_view_name": "LayoutView",
       "align_content": null,
       "align_items": null,
       "align_self": null,
       "border": null,
       "bottom": null,
       "display": null,
       "flex": null,
       "flex_flow": null,
       "grid_area": null,
       "grid_auto_columns": null,
       "grid_auto_flow": null,
       "grid_auto_rows": null,
       "grid_column": null,
       "grid_gap": null,
       "grid_row": null,
       "grid_template_areas": null,
       "grid_template_columns": null,
       "grid_template_rows": null,
       "height": null,
       "justify_content": null,
       "justify_items": null,
       "left": null,
       "margin": null,
       "max_height": null,
       "max_width": null,
       "min_height": null,
       "min_width": null,
       "object_fit": null,
       "object_position": null,
       "order": null,
       "overflow": null,
       "overflow_x": null,
       "overflow_y": null,
       "padding": null,
       "right": null,
       "top": null,
       "visibility": null,
       "width": null
      }
     },
     "08693526c1c44d91a1125438f30bade9": {
      "model_module": "@jupyter-widgets/base",
      "model_module_version": "1.2.0",
      "model_name": "LayoutModel",
      "state": {
       "_model_module": "@jupyter-widgets/base",
       "_model_module_version": "1.2.0",
       "_model_name": "LayoutModel",
       "_view_count": null,
       "_view_module": "@jupyter-widgets/base",
       "_view_module_version": "1.2.0",
       "_view_name": "LayoutView",
       "align_content": null,
       "align_items": null,
       "align_self": null,
       "border": null,
       "bottom": null,
       "display": null,
       "flex": null,
       "flex_flow": null,
       "grid_area": null,
       "grid_auto_columns": null,
       "grid_auto_flow": null,
       "grid_auto_rows": null,
       "grid_column": null,
       "grid_gap": null,
       "grid_row": null,
       "grid_template_areas": null,
       "grid_template_columns": null,
       "grid_template_rows": null,
       "height": null,
       "justify_content": null,
       "justify_items": null,
       "left": null,
       "margin": null,
       "max_height": null,
       "max_width": null,
       "min_height": null,
       "min_width": null,
       "object_fit": null,
       "object_position": null,
       "order": null,
       "overflow": null,
       "overflow_x": null,
       "overflow_y": null,
       "padding": null,
       "right": null,
       "top": null,
       "visibility": null,
       "width": null
      }
     },
     "0fdaa5b5af5b4972b5240657bbfd7ad8": {
      "model_module": "@jupyter-widgets/controls",
      "model_module_version": "1.5.0",
      "model_name": "HBoxModel",
      "state": {
       "_dom_classes": [],
       "_model_module": "@jupyter-widgets/controls",
       "_model_module_version": "1.5.0",
       "_model_name": "HBoxModel",
       "_view_count": null,
       "_view_module": "@jupyter-widgets/controls",
       "_view_module_version": "1.5.0",
       "_view_name": "HBoxView",
       "box_style": "",
       "children": [
        "IPY_MODEL_d84191714a19442aa7c8dd70b829d114",
        "IPY_MODEL_f63be3fcaa664b8a8f01296dbdaede59",
        "IPY_MODEL_5a6085ef7bcc4e6385f979f4b4a1e4bc"
       ],
       "layout": "IPY_MODEL_059b9e4d2a98496fa732383af17de5ff"
      }
     },
     "186fbfd3498a4aa1a019c121e703e24d": {
      "model_module": "@jupyter-widgets/controls",
      "model_module_version": "1.5.0",
      "model_name": "FloatProgressModel",
      "state": {
       "_dom_classes": [],
       "_model_module": "@jupyter-widgets/controls",
       "_model_module_version": "1.5.0",
       "_model_name": "FloatProgressModel",
       "_view_count": null,
       "_view_module": "@jupyter-widgets/controls",
       "_view_module_version": "1.5.0",
       "_view_name": "ProgressView",
       "bar_style": "success",
       "description": "",
       "description_tooltip": null,
       "layout": "IPY_MODEL_42fba0fa4e96458db378ffc7d6a62016",
       "max": 28.0,
       "min": 0.0,
       "orientation": "horizontal",
       "style": "IPY_MODEL_cd67750451114dfea5ac0277d31631b4",
       "value": 28.0
      }
     },
     "249f07529d83410d9fa00a7f8797f7f9": {
      "model_module": "@jupyter-widgets/base",
      "model_module_version": "1.2.0",
      "model_name": "LayoutModel",
      "state": {
       "_model_module": "@jupyter-widgets/base",
       "_model_module_version": "1.2.0",
       "_model_name": "LayoutModel",
       "_view_count": null,
       "_view_module": "@jupyter-widgets/base",
       "_view_module_version": "1.2.0",
       "_view_name": "LayoutView",
       "align_content": null,
       "align_items": null,
       "align_self": null,
       "border": null,
       "bottom": null,
       "display": null,
       "flex": null,
       "flex_flow": null,
       "grid_area": null,
       "grid_auto_columns": null,
       "grid_auto_flow": null,
       "grid_auto_rows": null,
       "grid_column": null,
       "grid_gap": null,
       "grid_row": null,
       "grid_template_areas": null,
       "grid_template_columns": null,
       "grid_template_rows": null,
       "height": null,
       "justify_content": null,
       "justify_items": null,
       "left": null,
       "margin": null,
       "max_height": null,
       "max_width": null,
       "min_height": null,
       "min_width": null,
       "object_fit": null,
       "object_position": null,
       "order": null,
       "overflow": null,
       "overflow_x": null,
       "overflow_y": null,
       "padding": null,
       "right": null,
       "top": null,
       "visibility": null,
       "width": null
      }
     },
     "27d87cbeb724461499af340a69d48bad": {
      "model_module": "@jupyter-widgets/base",
      "model_module_version": "1.2.0",
      "model_name": "LayoutModel",
      "state": {
       "_model_module": "@jupyter-widgets/base",
       "_model_module_version": "1.2.0",
       "_model_name": "LayoutModel",
       "_view_count": null,
       "_view_module": "@jupyter-widgets/base",
       "_view_module_version": "1.2.0",
       "_view_name": "LayoutView",
       "align_content": null,
       "align_items": null,
       "align_self": null,
       "border": null,
       "bottom": null,
       "display": null,
       "flex": null,
       "flex_flow": null,
       "grid_area": null,
       "grid_auto_columns": null,
       "grid_auto_flow": null,
       "grid_auto_rows": null,
       "grid_column": null,
       "grid_gap": null,
       "grid_row": null,
       "grid_template_areas": null,
       "grid_template_columns": null,
       "grid_template_rows": null,
       "height": null,
       "justify_content": null,
       "justify_items": null,
       "left": null,
       "margin": null,
       "max_height": null,
       "max_width": null,
       "min_height": null,
       "min_width": null,
       "object_fit": null,
       "object_position": null,
       "order": null,
       "overflow": null,
       "overflow_x": null,
       "overflow_y": null,
       "padding": null,
       "right": null,
       "top": null,
       "visibility": null,
       "width": null
      }
     },
     "2a88e87bdfe24a3295a09fceee1419c2": {
      "model_module": "@jupyter-widgets/base",
      "model_module_version": "1.2.0",
      "model_name": "LayoutModel",
      "state": {
       "_model_module": "@jupyter-widgets/base",
       "_model_module_version": "1.2.0",
       "_model_name": "LayoutModel",
       "_view_count": null,
       "_view_module": "@jupyter-widgets/base",
       "_view_module_version": "1.2.0",
       "_view_name": "LayoutView",
       "align_content": null,
       "align_items": null,
       "align_self": null,
       "border": null,
       "bottom": null,
       "display": null,
       "flex": null,
       "flex_flow": null,
       "grid_area": null,
       "grid_auto_columns": null,
       "grid_auto_flow": null,
       "grid_auto_rows": null,
       "grid_column": null,
       "grid_gap": null,
       "grid_row": null,
       "grid_template_areas": null,
       "grid_template_columns": null,
       "grid_template_rows": null,
       "height": null,
       "justify_content": null,
       "justify_items": null,
       "left": null,
       "margin": null,
       "max_height": null,
       "max_width": null,
       "min_height": null,
       "min_width": null,
       "object_fit": null,
       "object_position": null,
       "order": null,
       "overflow": null,
       "overflow_x": null,
       "overflow_y": null,
       "padding": null,
       "right": null,
       "top": null,
       "visibility": null,
       "width": null
      }
     },
     "36a975b4a9e74501861979b9dd8cd5d8": {
      "model_module": "@jupyter-widgets/controls",
      "model_module_version": "1.5.0",
      "model_name": "FloatProgressModel",
      "state": {
       "_dom_classes": [],
       "_model_module": "@jupyter-widgets/controls",
       "_model_module_version": "1.5.0",
       "_model_name": "FloatProgressModel",
       "_view_count": null,
       "_view_module": "@jupyter-widgets/controls",
       "_view_module_version": "1.5.0",
       "_view_name": "ProgressView",
       "bar_style": "success",
       "description": "",
       "description_tooltip": null,
       "layout": "IPY_MODEL_9952630dc5734b648042fec3a9e9e347",
       "max": 1.0,
       "min": 0.0,
       "orientation": "horizontal",
       "style": "IPY_MODEL_e8363a87acdc48d18c679f7069a51ef6",
       "value": 1.0
      }
     },
     "3e2c8acb95a7403f932bc9fd84c585b0": {
      "model_module": "@jupyter-widgets/controls",
      "model_module_version": "1.5.0",
      "model_name": "ProgressStyleModel",
      "state": {
       "_model_module": "@jupyter-widgets/controls",
       "_model_module_version": "1.5.0",
       "_model_name": "ProgressStyleModel",
       "_view_count": null,
       "_view_module": "@jupyter-widgets/base",
       "_view_module_version": "1.2.0",
       "_view_name": "StyleView",
       "bar_color": null,
       "description_width": ""
      }
     },
     "407443c3d0ee4b6cbf9256490d08139e": {
      "model_module": "@jupyter-widgets/controls",
      "model_module_version": "1.5.0",
      "model_name": "DescriptionStyleModel",
      "state": {
       "_model_module": "@jupyter-widgets/controls",
       "_model_module_version": "1.5.0",
       "_model_name": "DescriptionStyleModel",
       "_view_count": null,
       "_view_module": "@jupyter-widgets/base",
       "_view_module_version": "1.2.0",
       "_view_name": "StyleView",
       "description_width": ""
      }
     },
     "42fba0fa4e96458db378ffc7d6a62016": {
      "model_module": "@jupyter-widgets/base",
      "model_module_version": "1.2.0",
      "model_name": "LayoutModel",
      "state": {
       "_model_module": "@jupyter-widgets/base",
       "_model_module_version": "1.2.0",
       "_model_name": "LayoutModel",
       "_view_count": null,
       "_view_module": "@jupyter-widgets/base",
       "_view_module_version": "1.2.0",
       "_view_name": "LayoutView",
       "align_content": null,
       "align_items": null,
       "align_self": null,
       "border": null,
       "bottom": null,
       "display": null,
       "flex": null,
       "flex_flow": null,
       "grid_area": null,
       "grid_auto_columns": null,
       "grid_auto_flow": null,
       "grid_auto_rows": null,
       "grid_column": null,
       "grid_gap": null,
       "grid_row": null,
       "grid_template_areas": null,
       "grid_template_columns": null,
       "grid_template_rows": null,
       "height": null,
       "justify_content": null,
       "justify_items": null,
       "left": null,
       "margin": null,
       "max_height": null,
       "max_width": null,
       "min_height": null,
       "min_width": null,
       "object_fit": null,
       "object_position": null,
       "order": null,
       "overflow": null,
       "overflow_x": null,
       "overflow_y": null,
       "padding": null,
       "right": null,
       "top": null,
       "visibility": null,
       "width": null
      }
     },
     "46d6a747cad346379d2d4a43ae08db5b": {
      "model_module": "@jupyter-widgets/controls",
      "model_module_version": "1.5.0",
      "model_name": "DescriptionStyleModel",
      "state": {
       "_model_module": "@jupyter-widgets/controls",
       "_model_module_version": "1.5.0",
       "_model_name": "DescriptionStyleModel",
       "_view_count": null,
       "_view_module": "@jupyter-widgets/base",
       "_view_module_version": "1.2.0",
       "_view_name": "StyleView",
       "description_width": ""
      }
     },
     "4779296e043143baa2cee7abf13ce163": {
      "model_module": "@jupyter-widgets/base",
      "model_module_version": "1.2.0",
      "model_name": "LayoutModel",
      "state": {
       "_model_module": "@jupyter-widgets/base",
       "_model_module_version": "1.2.0",
       "_model_name": "LayoutModel",
       "_view_count": null,
       "_view_module": "@jupyter-widgets/base",
       "_view_module_version": "1.2.0",
       "_view_name": "LayoutView",
       "align_content": null,
       "align_items": null,
       "align_self": null,
       "border": null,
       "bottom": null,
       "display": null,
       "flex": null,
       "flex_flow": null,
       "grid_area": null,
       "grid_auto_columns": null,
       "grid_auto_flow": null,
       "grid_auto_rows": null,
       "grid_column": null,
       "grid_gap": null,
       "grid_row": null,
       "grid_template_areas": null,
       "grid_template_columns": null,
       "grid_template_rows": null,
       "height": null,
       "justify_content": null,
       "justify_items": null,
       "left": null,
       "margin": null,
       "max_height": null,
       "max_width": null,
       "min_height": null,
       "min_width": null,
       "object_fit": null,
       "object_position": null,
       "order": null,
       "overflow": null,
       "overflow_x": null,
       "overflow_y": null,
       "padding": null,
       "right": null,
       "top": null,
       "visibility": null,
       "width": null
      }
     },
     "49af04d338924f5a99309ed6cf64018d": {
      "model_module": "@jupyter-widgets/controls",
      "model_module_version": "1.5.0",
      "model_name": "HTMLModel",
      "state": {
       "_dom_classes": [],
       "_model_module": "@jupyter-widgets/controls",
       "_model_module_version": "1.5.0",
       "_model_name": "HTMLModel",
       "_view_count": null,
       "_view_module": "@jupyter-widgets/controls",
       "_view_module_version": "1.5.0",
       "_view_name": "HTMLView",
       "description": "",
       "description_tooltip": null,
       "layout": "IPY_MODEL_249f07529d83410d9fa00a7f8797f7f9",
       "placeholder": "​",
       "style": "IPY_MODEL_63292251d27e43549b6404e4f52d9e37",
       "value": " 28.0/28.0 [00:00&lt;00:00, 1.13kB/s]"
      }
     },
     "4a3831c906424699aef9b1afdfcc3ac1": {
      "model_module": "@jupyter-widgets/base",
      "model_module_version": "1.2.0",
      "model_name": "LayoutModel",
      "state": {
       "_model_module": "@jupyter-widgets/base",
       "_model_module_version": "1.2.0",
       "_model_name": "LayoutModel",
       "_view_count": null,
       "_view_module": "@jupyter-widgets/base",
       "_view_module_version": "1.2.0",
       "_view_name": "LayoutView",
       "align_content": null,
       "align_items": null,
       "align_self": null,
       "border": null,
       "bottom": null,
       "display": null,
       "flex": null,
       "flex_flow": null,
       "grid_area": null,
       "grid_auto_columns": null,
       "grid_auto_flow": null,
       "grid_auto_rows": null,
       "grid_column": null,
       "grid_gap": null,
       "grid_row": null,
       "grid_template_areas": null,
       "grid_template_columns": null,
       "grid_template_rows": null,
       "height": null,
       "justify_content": null,
       "justify_items": null,
       "left": null,
       "margin": null,
       "max_height": null,
       "max_width": null,
       "min_height": null,
       "min_width": null,
       "object_fit": null,
       "object_position": null,
       "order": null,
       "overflow": null,
       "overflow_x": null,
       "overflow_y": null,
       "padding": null,
       "right": null,
       "top": null,
       "visibility": null,
       "width": null
      }
     },
     "4bf2ad2cade84ca887cb241419c7483c": {
      "model_module": "@jupyter-widgets/controls",
      "model_module_version": "1.5.0",
      "model_name": "DescriptionStyleModel",
      "state": {
       "_model_module": "@jupyter-widgets/controls",
       "_model_module_version": "1.5.0",
       "_model_name": "DescriptionStyleModel",
       "_view_count": null,
       "_view_module": "@jupyter-widgets/base",
       "_view_module_version": "1.2.0",
       "_view_name": "StyleView",
       "description_width": ""
      }
     },
     "4e95652293b34f3ab859ea3123c309e7": {
      "model_module": "@jupyter-widgets/controls",
      "model_module_version": "1.5.0",
      "model_name": "HTMLModel",
      "state": {
       "_dom_classes": [],
       "_model_module": "@jupyter-widgets/controls",
       "_model_module_version": "1.5.0",
       "_model_name": "HTMLModel",
       "_view_count": null,
       "_view_module": "@jupyter-widgets/controls",
       "_view_module_version": "1.5.0",
       "_view_name": "HTMLView",
       "description": "",
       "description_tooltip": null,
       "layout": "IPY_MODEL_b794dff9f7fd40f69d0e6372ceab496e",
       "placeholder": "​",
       "style": "IPY_MODEL_72318d598e8a4918af640239607b0e49",
       "value": ""
      }
     },
     "55cc68ad79d64dde801bbcb0a8820942": {
      "model_module": "@jupyter-widgets/base",
      "model_module_version": "1.2.0",
      "model_name": "LayoutModel",
      "state": {
       "_model_module": "@jupyter-widgets/base",
       "_model_module_version": "1.2.0",
       "_model_name": "LayoutModel",
       "_view_count": null,
       "_view_module": "@jupyter-widgets/base",
       "_view_module_version": "1.2.0",
       "_view_name": "LayoutView",
       "align_content": null,
       "align_items": null,
       "align_self": null,
       "border": null,
       "bottom": null,
       "display": null,
       "flex": null,
       "flex_flow": null,
       "grid_area": null,
       "grid_auto_columns": null,
       "grid_auto_flow": null,
       "grid_auto_rows": null,
       "grid_column": null,
       "grid_gap": null,
       "grid_row": null,
       "grid_template_areas": null,
       "grid_template_columns": null,
       "grid_template_rows": null,
       "height": null,
       "justify_content": null,
       "justify_items": null,
       "left": null,
       "margin": null,
       "max_height": null,
       "max_width": null,
       "min_height": null,
       "min_width": null,
       "object_fit": null,
       "object_position": null,
       "order": null,
       "overflow": null,
       "overflow_x": null,
       "overflow_y": null,
       "padding": null,
       "right": null,
       "top": null,
       "visibility": null,
       "width": null
      }
     },
     "56bf1b8d7f114a5cb9c0ff651197b29f": {
      "model_module": "@jupyter-widgets/controls",
      "model_module_version": "1.5.0",
      "model_name": "HBoxModel",
      "state": {
       "_dom_classes": [],
       "_model_module": "@jupyter-widgets/controls",
       "_model_module_version": "1.5.0",
       "_model_name": "HBoxModel",
       "_view_count": null,
       "_view_module": "@jupyter-widgets/controls",
       "_view_module_version": "1.5.0",
       "_view_name": "HBoxView",
       "box_style": "",
       "children": [
        "IPY_MODEL_4e95652293b34f3ab859ea3123c309e7",
        "IPY_MODEL_36a975b4a9e74501861979b9dd8cd5d8",
        "IPY_MODEL_642f2f93056646ae85229a82faf2c5a7"
       ],
       "layout": "IPY_MODEL_27d87cbeb724461499af340a69d48bad"
      }
     },
     "578537d3189a486baed6b9248a1befa1": {
      "model_module": "@jupyter-widgets/controls",
      "model_module_version": "1.5.0",
      "model_name": "HTMLModel",
      "state": {
       "_dom_classes": [],
       "_model_module": "@jupyter-widgets/controls",
       "_model_module_version": "1.5.0",
       "_model_name": "HTMLModel",
       "_view_count": null,
       "_view_module": "@jupyter-widgets/controls",
       "_view_module_version": "1.5.0",
       "_view_name": "HTMLView",
       "description": "",
       "description_tooltip": null,
       "layout": "IPY_MODEL_4a3831c906424699aef9b1afdfcc3ac1",
       "placeholder": "​",
       "style": "IPY_MODEL_407443c3d0ee4b6cbf9256490d08139e",
       "value": " 226k/226k [00:00&lt;00:00, 687kB/s]"
      }
     },
     "589056d9f34246e1866b3ce76873a12b": {
      "model_module": "@jupyter-widgets/controls",
      "model_module_version": "1.5.0",
      "model_name": "HBoxModel",
      "state": {
       "_dom_classes": [],
       "_model_module": "@jupyter-widgets/controls",
       "_model_module_version": "1.5.0",
       "_model_name": "HBoxModel",
       "_view_count": null,
       "_view_module": "@jupyter-widgets/controls",
       "_view_module_version": "1.5.0",
       "_view_name": "HBoxView",
       "box_style": "",
       "children": [
        "IPY_MODEL_ec34fca15b11470d859d0ce3637a3510",
        "IPY_MODEL_d21ef4a500b34fc0bfd193c279fa5aa0",
        "IPY_MODEL_c772f9d849834f81b461b964799e063c"
       ],
       "layout": "IPY_MODEL_c048e654f40f46d5bcbd865996846af4"
      }
     },
     "5a6085ef7bcc4e6385f979f4b4a1e4bc": {
      "model_module": "@jupyter-widgets/controls",
      "model_module_version": "1.5.0",
      "model_name": "HTMLModel",
      "state": {
       "_dom_classes": [],
       "_model_module": "@jupyter-widgets/controls",
       "_model_module_version": "1.5.0",
       "_model_name": "HTMLModel",
       "_view_count": null,
       "_view_module": "@jupyter-widgets/controls",
       "_view_module_version": "1.5.0",
       "_view_name": "HTMLView",
       "description": "",
       "description_tooltip": null,
       "layout": "IPY_MODEL_77258e79588e4ebaa606b7893d8c2a80",
       "placeholder": "​",
       "style": "IPY_MODEL_8fc6ea8e0a1042e6a9825b341de7359a",
       "value": " 256M/256M [00:05&lt;00:00, 49.5MB/s]"
      }
     },
     "5c9c69a7a0e349d3a409197a09cd3c6f": {
      "model_module": "@jupyter-widgets/controls",
      "model_module_version": "1.5.0",
      "model_name": "DescriptionStyleModel",
      "state": {
       "_model_module": "@jupyter-widgets/controls",
       "_model_module_version": "1.5.0",
       "_model_name": "DescriptionStyleModel",
       "_view_count": null,
       "_view_module": "@jupyter-widgets/base",
       "_view_module_version": "1.2.0",
       "_view_name": "StyleView",
       "description_width": ""
      }
     },
     "62627470b9084bec9bb3f71804424bc9": {
      "model_module": "@jupyter-widgets/controls",
      "model_module_version": "1.5.0",
      "model_name": "HTMLModel",
      "state": {
       "_dom_classes": [],
       "_model_module": "@jupyter-widgets/controls",
       "_model_module_version": "1.5.0",
       "_model_name": "HTMLModel",
       "_view_count": null,
       "_view_module": "@jupyter-widgets/controls",
       "_view_module_version": "1.5.0",
       "_view_name": "HTMLView",
       "description": "",
       "description_tooltip": null,
       "layout": "IPY_MODEL_04792c2d2344467685b1167368e09121",
       "placeholder": "​",
       "style": "IPY_MODEL_bdacb933bd20480e8e6a6bbc78843773",
       "value": "Downloading: 100%"
      }
     },
     "63292251d27e43549b6404e4f52d9e37": {
      "model_module": "@jupyter-widgets/controls",
      "model_module_version": "1.5.0",
      "model_name": "DescriptionStyleModel",
      "state": {
       "_model_module": "@jupyter-widgets/controls",
       "_model_module_version": "1.5.0",
       "_model_name": "DescriptionStyleModel",
       "_view_count": null,
       "_view_module": "@jupyter-widgets/base",
       "_view_module_version": "1.2.0",
       "_view_name": "StyleView",
       "description_width": ""
      }
     },
     "642f2f93056646ae85229a82faf2c5a7": {
      "model_module": "@jupyter-widgets/controls",
      "model_module_version": "1.5.0",
      "model_name": "HTMLModel",
      "state": {
       "_dom_classes": [],
       "_model_module": "@jupyter-widgets/controls",
       "_model_module_version": "1.5.0",
       "_model_name": "HTMLModel",
       "_view_count": null,
       "_view_module": "@jupyter-widgets/controls",
       "_view_module_version": "1.5.0",
       "_view_name": "HTMLView",
       "description": "",
       "description_tooltip": null,
       "layout": "IPY_MODEL_6ce70bc938014677ac6a3fa65f8ca708",
       "placeholder": "​",
       "style": "IPY_MODEL_5c9c69a7a0e349d3a409197a09cd3c6f",
       "value": " 55322/? [00:06&lt;00:00, 8021.44ex/s]"
      }
     },
     "66fb95028c434f21a0e17165c5d8d373": {
      "model_module": "@jupyter-widgets/controls",
      "model_module_version": "1.5.0",
      "model_name": "HTMLModel",
      "state": {
       "_dom_classes": [],
       "_model_module": "@jupyter-widgets/controls",
       "_model_module_version": "1.5.0",
       "_model_name": "HTMLModel",
       "_view_count": null,
       "_view_module": "@jupyter-widgets/controls",
       "_view_module_version": "1.5.0",
       "_view_name": "HTMLView",
       "description": "",
       "description_tooltip": null,
       "layout": "IPY_MODEL_eeab08b42a9149a1af8567fc48f94209",
       "placeholder": "​",
       "style": "IPY_MODEL_46d6a747cad346379d2d4a43ae08db5b",
       "value": " 455k/455k [00:00&lt;00:00, 965kB/s]"
      }
     },
     "6ce70bc938014677ac6a3fa65f8ca708": {
      "model_module": "@jupyter-widgets/base",
      "model_module_version": "1.2.0",
      "model_name": "LayoutModel",
      "state": {
       "_model_module": "@jupyter-widgets/base",
       "_model_module_version": "1.2.0",
       "_model_name": "LayoutModel",
       "_view_count": null,
       "_view_module": "@jupyter-widgets/base",
       "_view_module_version": "1.2.0",
       "_view_name": "LayoutView",
       "align_content": null,
       "align_items": null,
       "align_self": null,
       "border": null,
       "bottom": null,
       "display": null,
       "flex": null,
       "flex_flow": null,
       "grid_area": null,
       "grid_auto_columns": null,
       "grid_auto_flow": null,
       "grid_auto_rows": null,
       "grid_column": null,
       "grid_gap": null,
       "grid_row": null,
       "grid_template_areas": null,
       "grid_template_columns": null,
       "grid_template_rows": null,
       "height": null,
       "justify_content": null,
       "justify_items": null,
       "left": null,
       "margin": null,
       "max_height": null,
       "max_width": null,
       "min_height": null,
       "min_width": null,
       "object_fit": null,
       "object_position": null,
       "order": null,
       "overflow": null,
       "overflow_x": null,
       "overflow_y": null,
       "padding": null,
       "right": null,
       "top": null,
       "visibility": null,
       "width": null
      }
     },
     "72318d598e8a4918af640239607b0e49": {
      "model_module": "@jupyter-widgets/controls",
      "model_module_version": "1.5.0",
      "model_name": "DescriptionStyleModel",
      "state": {
       "_model_module": "@jupyter-widgets/controls",
       "_model_module_version": "1.5.0",
       "_model_name": "DescriptionStyleModel",
       "_view_count": null,
       "_view_module": "@jupyter-widgets/base",
       "_view_module_version": "1.2.0",
       "_view_name": "StyleView",
       "description_width": ""
      }
     },
     "736cb30c0b9c4a4885aded03f8125809": {
      "model_module": "@jupyter-widgets/controls",
      "model_module_version": "1.5.0",
      "model_name": "HBoxModel",
      "state": {
       "_dom_classes": [],
       "_model_module": "@jupyter-widgets/controls",
       "_model_module_version": "1.5.0",
       "_model_name": "HBoxModel",
       "_view_count": null,
       "_view_module": "@jupyter-widgets/controls",
       "_view_module_version": "1.5.0",
       "_view_name": "HBoxView",
       "box_style": "",
       "children": [
        "IPY_MODEL_e487e7f12a6941ee80be7f8718298e56",
        "IPY_MODEL_186fbfd3498a4aa1a019c121e703e24d",
        "IPY_MODEL_49af04d338924f5a99309ed6cf64018d"
       ],
       "layout": "IPY_MODEL_aca475d1387c45bdbb20590d47a2301e"
      }
     },
     "77258e79588e4ebaa606b7893d8c2a80": {
      "model_module": "@jupyter-widgets/base",
      "model_module_version": "1.2.0",
      "model_name": "LayoutModel",
      "state": {
       "_model_module": "@jupyter-widgets/base",
       "_model_module_version": "1.2.0",
       "_model_name": "LayoutModel",
       "_view_count": null,
       "_view_module": "@jupyter-widgets/base",
       "_view_module_version": "1.2.0",
       "_view_name": "LayoutView",
       "align_content": null,
       "align_items": null,
       "align_self": null,
       "border": null,
       "bottom": null,
       "display": null,
       "flex": null,
       "flex_flow": null,
       "grid_area": null,
       "grid_auto_columns": null,
       "grid_auto_flow": null,
       "grid_auto_rows": null,
       "grid_column": null,
       "grid_gap": null,
       "grid_row": null,
       "grid_template_areas": null,
       "grid_template_columns": null,
       "grid_template_rows": null,
       "height": null,
       "justify_content": null,
       "justify_items": null,
       "left": null,
       "margin": null,
       "max_height": null,
       "max_width": null,
       "min_height": null,
       "min_width": null,
       "object_fit": null,
       "object_position": null,
       "order": null,
       "overflow": null,
       "overflow_x": null,
       "overflow_y": null,
       "padding": null,
       "right": null,
       "top": null,
       "visibility": null,
       "width": null
      }
     },
     "7d6e446690ef42d0a2f25e907546ef6b": {
      "model_module": "@jupyter-widgets/controls",
      "model_module_version": "1.5.0",
      "model_name": "HBoxModel",
      "state": {
       "_dom_classes": [],
       "_model_module": "@jupyter-widgets/controls",
       "_model_module_version": "1.5.0",
       "_model_name": "HBoxModel",
       "_view_count": null,
       "_view_module": "@jupyter-widgets/controls",
       "_view_module_version": "1.5.0",
       "_view_name": "HBoxView",
       "box_style": "",
       "children": [
        "IPY_MODEL_e43dc52d510445a68d082b591d1885ce",
        "IPY_MODEL_f49d883fa4aa40d0b07b9b6eec4584d1",
        "IPY_MODEL_578537d3189a486baed6b9248a1befa1"
       ],
       "layout": "IPY_MODEL_e1a356a025034748acf04d77fb3d9750"
      }
     },
     "83e9b6eeb2944a308de5eb07c27a1645": {
      "model_module": "@jupyter-widgets/base",
      "model_module_version": "1.2.0",
      "model_name": "LayoutModel",
      "state": {
       "_model_module": "@jupyter-widgets/base",
       "_model_module_version": "1.2.0",
       "_model_name": "LayoutModel",
       "_view_count": null,
       "_view_module": "@jupyter-widgets/base",
       "_view_module_version": "1.2.0",
       "_view_name": "LayoutView",
       "align_content": null,
       "align_items": null,
       "align_self": null,
       "border": null,
       "bottom": null,
       "display": null,
       "flex": null,
       "flex_flow": null,
       "grid_area": null,
       "grid_auto_columns": null,
       "grid_auto_flow": null,
       "grid_auto_rows": null,
       "grid_column": null,
       "grid_gap": null,
       "grid_row": null,
       "grid_template_areas": null,
       "grid_template_columns": null,
       "grid_template_rows": null,
       "height": null,
       "justify_content": null,
       "justify_items": null,
       "left": null,
       "margin": null,
       "max_height": null,
       "max_width": null,
       "min_height": null,
       "min_width": null,
       "object_fit": null,
       "object_position": null,
       "order": null,
       "overflow": null,
       "overflow_x": null,
       "overflow_y": null,
       "padding": null,
       "right": null,
       "top": null,
       "visibility": null,
       "width": null
      }
     },
     "8fc6ea8e0a1042e6a9825b341de7359a": {
      "model_module": "@jupyter-widgets/controls",
      "model_module_version": "1.5.0",
      "model_name": "DescriptionStyleModel",
      "state": {
       "_model_module": "@jupyter-widgets/controls",
       "_model_module_version": "1.5.0",
       "_model_name": "DescriptionStyleModel",
       "_view_count": null,
       "_view_module": "@jupyter-widgets/base",
       "_view_module_version": "1.2.0",
       "_view_name": "StyleView",
       "description_width": ""
      }
     },
     "9952630dc5734b648042fec3a9e9e347": {
      "model_module": "@jupyter-widgets/base",
      "model_module_version": "1.2.0",
      "model_name": "LayoutModel",
      "state": {
       "_model_module": "@jupyter-widgets/base",
       "_model_module_version": "1.2.0",
       "_model_name": "LayoutModel",
       "_view_count": null,
       "_view_module": "@jupyter-widgets/base",
       "_view_module_version": "1.2.0",
       "_view_name": "LayoutView",
       "align_content": null,
       "align_items": null,
       "align_self": null,
       "border": null,
       "bottom": null,
       "display": null,
       "flex": null,
       "flex_flow": null,
       "grid_area": null,
       "grid_auto_columns": null,
       "grid_auto_flow": null,
       "grid_auto_rows": null,
       "grid_column": null,
       "grid_gap": null,
       "grid_row": null,
       "grid_template_areas": null,
       "grid_template_columns": null,
       "grid_template_rows": null,
       "height": null,
       "justify_content": null,
       "justify_items": null,
       "left": null,
       "margin": null,
       "max_height": null,
       "max_width": null,
       "min_height": null,
       "min_width": null,
       "object_fit": null,
       "object_position": null,
       "order": null,
       "overflow": null,
       "overflow_x": null,
       "overflow_y": null,
       "padding": null,
       "right": null,
       "top": null,
       "visibility": null,
       "width": "20px"
      }
     },
     "9a8c1bfbadf34c4ebbf78add82aa9eea": {
      "model_module": "@jupyter-widgets/controls",
      "model_module_version": "1.5.0",
      "model_name": "ProgressStyleModel",
      "state": {
       "_model_module": "@jupyter-widgets/controls",
       "_model_module_version": "1.5.0",
       "_model_name": "ProgressStyleModel",
       "_view_count": null,
       "_view_module": "@jupyter-widgets/base",
       "_view_module_version": "1.2.0",
       "_view_name": "StyleView",
       "bar_color": null,
       "description_width": ""
      }
     },
     "aca475d1387c45bdbb20590d47a2301e": {
      "model_module": "@jupyter-widgets/base",
      "model_module_version": "1.2.0",
      "model_name": "LayoutModel",
      "state": {
       "_model_module": "@jupyter-widgets/base",
       "_model_module_version": "1.2.0",
       "_model_name": "LayoutModel",
       "_view_count": null,
       "_view_module": "@jupyter-widgets/base",
       "_view_module_version": "1.2.0",
       "_view_name": "LayoutView",
       "align_content": null,
       "align_items": null,
       "align_self": null,
       "border": null,
       "bottom": null,
       "display": null,
       "flex": null,
       "flex_flow": null,
       "grid_area": null,
       "grid_auto_columns": null,
       "grid_auto_flow": null,
       "grid_auto_rows": null,
       "grid_column": null,
       "grid_gap": null,
       "grid_row": null,
       "grid_template_areas": null,
       "grid_template_columns": null,
       "grid_template_rows": null,
       "height": null,
       "justify_content": null,
       "justify_items": null,
       "left": null,
       "margin": null,
       "max_height": null,
       "max_width": null,
       "min_height": null,
       "min_width": null,
       "object_fit": null,
       "object_position": null,
       "order": null,
       "overflow": null,
       "overflow_x": null,
       "overflow_y": null,
       "padding": null,
       "right": null,
       "top": null,
       "visibility": null,
       "width": null
      }
     },
     "af3b468374b94fe38688b0578d57f5c7": {
      "model_module": "@jupyter-widgets/controls",
      "model_module_version": "1.5.0",
      "model_name": "DescriptionStyleModel",
      "state": {
       "_model_module": "@jupyter-widgets/controls",
       "_model_module_version": "1.5.0",
       "_model_name": "DescriptionStyleModel",
       "_view_count": null,
       "_view_module": "@jupyter-widgets/base",
       "_view_module_version": "1.2.0",
       "_view_name": "StyleView",
       "description_width": ""
      }
     },
     "b7803ace9cdf443fba0dbd828d43782d": {
      "model_module": "@jupyter-widgets/controls",
      "model_module_version": "1.5.0",
      "model_name": "ProgressStyleModel",
      "state": {
       "_model_module": "@jupyter-widgets/controls",
       "_model_module_version": "1.5.0",
       "_model_name": "ProgressStyleModel",
       "_view_count": null,
       "_view_module": "@jupyter-widgets/base",
       "_view_module_version": "1.2.0",
       "_view_name": "StyleView",
       "bar_color": null,
       "description_width": ""
      }
     },
     "b794dff9f7fd40f69d0e6372ceab496e": {
      "model_module": "@jupyter-widgets/base",
      "model_module_version": "1.2.0",
      "model_name": "LayoutModel",
      "state": {
       "_model_module": "@jupyter-widgets/base",
       "_model_module_version": "1.2.0",
       "_model_name": "LayoutModel",
       "_view_count": null,
       "_view_module": "@jupyter-widgets/base",
       "_view_module_version": "1.2.0",
       "_view_name": "LayoutView",
       "align_content": null,
       "align_items": null,
       "align_self": null,
       "border": null,
       "bottom": null,
       "display": null,
       "flex": null,
       "flex_flow": null,
       "grid_area": null,
       "grid_auto_columns": null,
       "grid_auto_flow": null,
       "grid_auto_rows": null,
       "grid_column": null,
       "grid_gap": null,
       "grid_row": null,
       "grid_template_areas": null,
       "grid_template_columns": null,
       "grid_template_rows": null,
       "height": null,
       "justify_content": null,
       "justify_items": null,
       "left": null,
       "margin": null,
       "max_height": null,
       "max_width": null,
       "min_height": null,
       "min_width": null,
       "object_fit": null,
       "object_position": null,
       "order": null,
       "overflow": null,
       "overflow_x": null,
       "overflow_y": null,
       "padding": null,
       "right": null,
       "top": null,
       "visibility": null,
       "width": null
      }
     },
     "bb51ffd731824b33a9a9c6bcb467df29": {
      "model_module": "@jupyter-widgets/controls",
      "model_module_version": "1.5.0",
      "model_name": "DescriptionStyleModel",
      "state": {
       "_model_module": "@jupyter-widgets/controls",
       "_model_module_version": "1.5.0",
       "_model_name": "DescriptionStyleModel",
       "_view_count": null,
       "_view_module": "@jupyter-widgets/base",
       "_view_module_version": "1.2.0",
       "_view_name": "StyleView",
       "description_width": ""
      }
     },
     "bd841f2e639e405eaef7791b2fafa84a": {
      "model_module": "@jupyter-widgets/controls",
      "model_module_version": "1.5.0",
      "model_name": "HBoxModel",
      "state": {
       "_dom_classes": [],
       "_model_module": "@jupyter-widgets/controls",
       "_model_module_version": "1.5.0",
       "_model_name": "HBoxModel",
       "_view_count": null,
       "_view_module": "@jupyter-widgets/controls",
       "_view_module_version": "1.5.0",
       "_view_name": "HBoxView",
       "box_style": "",
       "children": [
        "IPY_MODEL_62627470b9084bec9bb3f71804424bc9",
        "IPY_MODEL_d296c9e91e2f4943a50bf62e2e016751",
        "IPY_MODEL_66fb95028c434f21a0e17165c5d8d373"
       ],
       "layout": "IPY_MODEL_2a88e87bdfe24a3295a09fceee1419c2"
      }
     },
     "bdacb933bd20480e8e6a6bbc78843773": {
      "model_module": "@jupyter-widgets/controls",
      "model_module_version": "1.5.0",
      "model_name": "DescriptionStyleModel",
      "state": {
       "_model_module": "@jupyter-widgets/controls",
       "_model_module_version": "1.5.0",
       "_model_name": "DescriptionStyleModel",
       "_view_count": null,
       "_view_module": "@jupyter-widgets/base",
       "_view_module_version": "1.2.0",
       "_view_name": "StyleView",
       "description_width": ""
      }
     },
     "c048e654f40f46d5bcbd865996846af4": {
      "model_module": "@jupyter-widgets/base",
      "model_module_version": "1.2.0",
      "model_name": "LayoutModel",
      "state": {
       "_model_module": "@jupyter-widgets/base",
       "_model_module_version": "1.2.0",
       "_model_name": "LayoutModel",
       "_view_count": null,
       "_view_module": "@jupyter-widgets/base",
       "_view_module_version": "1.2.0",
       "_view_name": "LayoutView",
       "align_content": null,
       "align_items": null,
       "align_self": null,
       "border": null,
       "bottom": null,
       "display": null,
       "flex": null,
       "flex_flow": null,
       "grid_area": null,
       "grid_auto_columns": null,
       "grid_auto_flow": null,
       "grid_auto_rows": null,
       "grid_column": null,
       "grid_gap": null,
       "grid_row": null,
       "grid_template_areas": null,
       "grid_template_columns": null,
       "grid_template_rows": null,
       "height": null,
       "justify_content": null,
       "justify_items": null,
       "left": null,
       "margin": null,
       "max_height": null,
       "max_width": null,
       "min_height": null,
       "min_width": null,
       "object_fit": null,
       "object_position": null,
       "order": null,
       "overflow": null,
       "overflow_x": null,
       "overflow_y": null,
       "padding": null,
       "right": null,
       "top": null,
       "visibility": null,
       "width": null
      }
     },
     "c772f9d849834f81b461b964799e063c": {
      "model_module": "@jupyter-widgets/controls",
      "model_module_version": "1.5.0",
      "model_name": "HTMLModel",
      "state": {
       "_dom_classes": [],
       "_model_module": "@jupyter-widgets/controls",
       "_model_module_version": "1.5.0",
       "_model_name": "HTMLModel",
       "_view_count": null,
       "_view_module": "@jupyter-widgets/controls",
       "_view_module_version": "1.5.0",
       "_view_name": "HTMLView",
       "description": "",
       "description_tooltip": null,
       "layout": "IPY_MODEL_039db8c113eb461ca4eda1914a37f37d",
       "placeholder": "​",
       "style": "IPY_MODEL_bb51ffd731824b33a9a9c6bcb467df29",
       "value": " 483/483 [00:00&lt;00:00, 19.6kB/s]"
      }
     },
     "c77e3ed055a9489d84c53b2b8373f9a9": {
      "model_module": "@jupyter-widgets/base",
      "model_module_version": "1.2.0",
      "model_name": "LayoutModel",
      "state": {
       "_model_module": "@jupyter-widgets/base",
       "_model_module_version": "1.2.0",
       "_model_name": "LayoutModel",
       "_view_count": null,
       "_view_module": "@jupyter-widgets/base",
       "_view_module_version": "1.2.0",
       "_view_name": "LayoutView",
       "align_content": null,
       "align_items": null,
       "align_self": null,
       "border": null,
       "bottom": null,
       "display": null,
       "flex": null,
       "flex_flow": null,
       "grid_area": null,
       "grid_auto_columns": null,
       "grid_auto_flow": null,
       "grid_auto_rows": null,
       "grid_column": null,
       "grid_gap": null,
       "grid_row": null,
       "grid_template_areas": null,
       "grid_template_columns": null,
       "grid_template_rows": null,
       "height": null,
       "justify_content": null,
       "justify_items": null,
       "left": null,
       "margin": null,
       "max_height": null,
       "max_width": null,
       "min_height": null,
       "min_width": null,
       "object_fit": null,
       "object_position": null,
       "order": null,
       "overflow": null,
       "overflow_x": null,
       "overflow_y": null,
       "padding": null,
       "right": null,
       "top": null,
       "visibility": null,
       "width": null
      }
     },
     "c9d16165d0d843228cf5bf708cf5e3dd": {
      "model_module": "@jupyter-widgets/controls",
      "model_module_version": "1.5.0",
      "model_name": "ProgressStyleModel",
      "state": {
       "_model_module": "@jupyter-widgets/controls",
       "_model_module_version": "1.5.0",
       "_model_name": "ProgressStyleModel",
       "_view_count": null,
       "_view_module": "@jupyter-widgets/base",
       "_view_module_version": "1.2.0",
       "_view_name": "StyleView",
       "bar_color": null,
       "description_width": ""
      }
     },
     "cd67750451114dfea5ac0277d31631b4": {
      "model_module": "@jupyter-widgets/controls",
      "model_module_version": "1.5.0",
      "model_name": "ProgressStyleModel",
      "state": {
       "_model_module": "@jupyter-widgets/controls",
       "_model_module_version": "1.5.0",
       "_model_name": "ProgressStyleModel",
       "_view_count": null,
       "_view_module": "@jupyter-widgets/base",
       "_view_module_version": "1.2.0",
       "_view_name": "StyleView",
       "bar_color": null,
       "description_width": ""
      }
     },
     "d21ef4a500b34fc0bfd193c279fa5aa0": {
      "model_module": "@jupyter-widgets/controls",
      "model_module_version": "1.5.0",
      "model_name": "FloatProgressModel",
      "state": {
       "_dom_classes": [],
       "_model_module": "@jupyter-widgets/controls",
       "_model_module_version": "1.5.0",
       "_model_name": "FloatProgressModel",
       "_view_count": null,
       "_view_module": "@jupyter-widgets/controls",
       "_view_module_version": "1.5.0",
       "_view_name": "ProgressView",
       "bar_style": "success",
       "description": "",
       "description_tooltip": null,
       "layout": "IPY_MODEL_c77e3ed055a9489d84c53b2b8373f9a9",
       "max": 483.0,
       "min": 0.0,
       "orientation": "horizontal",
       "style": "IPY_MODEL_c9d16165d0d843228cf5bf708cf5e3dd",
       "value": 483.0
      }
     },
     "d296c9e91e2f4943a50bf62e2e016751": {
      "model_module": "@jupyter-widgets/controls",
      "model_module_version": "1.5.0",
      "model_name": "FloatProgressModel",
      "state": {
       "_dom_classes": [],
       "_model_module": "@jupyter-widgets/controls",
       "_model_module_version": "1.5.0",
       "_model_name": "FloatProgressModel",
       "_view_count": null,
       "_view_module": "@jupyter-widgets/controls",
       "_view_module_version": "1.5.0",
       "_view_name": "ProgressView",
       "bar_style": "success",
       "description": "",
       "description_tooltip": null,
       "layout": "IPY_MODEL_f131e5ab1c0242af9b2c20d88acf827c",
       "max": 466062.0,
       "min": 0.0,
       "orientation": "horizontal",
       "style": "IPY_MODEL_9a8c1bfbadf34c4ebbf78add82aa9eea",
       "value": 466062.0
      }
     },
     "d84191714a19442aa7c8dd70b829d114": {
      "model_module": "@jupyter-widgets/controls",
      "model_module_version": "1.5.0",
      "model_name": "HTMLModel",
      "state": {
       "_dom_classes": [],
       "_model_module": "@jupyter-widgets/controls",
       "_model_module_version": "1.5.0",
       "_model_name": "HTMLModel",
       "_view_count": null,
       "_view_module": "@jupyter-widgets/controls",
       "_view_module_version": "1.5.0",
       "_view_name": "HTMLView",
       "description": "",
       "description_tooltip": null,
       "layout": "IPY_MODEL_4779296e043143baa2cee7abf13ce163",
       "placeholder": "​",
       "style": "IPY_MODEL_af3b468374b94fe38688b0578d57f5c7",
       "value": "Downloading: 100%"
      }
     },
     "e1a356a025034748acf04d77fb3d9750": {
      "model_module": "@jupyter-widgets/base",
      "model_module_version": "1.2.0",
      "model_name": "LayoutModel",
      "state": {
       "_model_module": "@jupyter-widgets/base",
       "_model_module_version": "1.2.0",
       "_model_name": "LayoutModel",
       "_view_count": null,
       "_view_module": "@jupyter-widgets/base",
       "_view_module_version": "1.2.0",
       "_view_name": "LayoutView",
       "align_content": null,
       "align_items": null,
       "align_self": null,
       "border": null,
       "bottom": null,
       "display": null,
       "flex": null,
       "flex_flow": null,
       "grid_area": null,
       "grid_auto_columns": null,
       "grid_auto_flow": null,
       "grid_auto_rows": null,
       "grid_column": null,
       "grid_gap": null,
       "grid_row": null,
       "grid_template_areas": null,
       "grid_template_columns": null,
       "grid_template_rows": null,
       "height": null,
       "justify_content": null,
       "justify_items": null,
       "left": null,
       "margin": null,
       "max_height": null,
       "max_width": null,
       "min_height": null,
       "min_width": null,
       "object_fit": null,
       "object_position": null,
       "order": null,
       "overflow": null,
       "overflow_x": null,
       "overflow_y": null,
       "padding": null,
       "right": null,
       "top": null,
       "visibility": null,
       "width": null
      }
     },
     "e43dc52d510445a68d082b591d1885ce": {
      "model_module": "@jupyter-widgets/controls",
      "model_module_version": "1.5.0",
      "model_name": "HTMLModel",
      "state": {
       "_dom_classes": [],
       "_model_module": "@jupyter-widgets/controls",
       "_model_module_version": "1.5.0",
       "_model_name": "HTMLModel",
       "_view_count": null,
       "_view_module": "@jupyter-widgets/controls",
       "_view_module_version": "1.5.0",
       "_view_name": "HTMLView",
       "description": "",
       "description_tooltip": null,
       "layout": "IPY_MODEL_04524c1001cf433799033c311060ed15",
       "placeholder": "​",
       "style": "IPY_MODEL_eadb15edf0ed4d77b880303b856fa292",
       "value": "Downloading: 100%"
      }
     },
     "e487e7f12a6941ee80be7f8718298e56": {
      "model_module": "@jupyter-widgets/controls",
      "model_module_version": "1.5.0",
      "model_name": "HTMLModel",
      "state": {
       "_dom_classes": [],
       "_model_module": "@jupyter-widgets/controls",
       "_model_module_version": "1.5.0",
       "_model_name": "HTMLModel",
       "_view_count": null,
       "_view_module": "@jupyter-widgets/controls",
       "_view_module_version": "1.5.0",
       "_view_name": "HTMLView",
       "description": "",
       "description_tooltip": null,
       "layout": "IPY_MODEL_08693526c1c44d91a1125438f30bade9",
       "placeholder": "​",
       "style": "IPY_MODEL_f58074beda5943d99d9ab6cbad23054f",
       "value": "Downloading: 100%"
      }
     },
     "e587e9efa4ec41dcadf1e0e447fb0ff3": {
      "model_module": "@jupyter-widgets/base",
      "model_module_version": "1.2.0",
      "model_name": "LayoutModel",
      "state": {
       "_model_module": "@jupyter-widgets/base",
       "_model_module_version": "1.2.0",
       "_model_name": "LayoutModel",
       "_view_count": null,
       "_view_module": "@jupyter-widgets/base",
       "_view_module_version": "1.2.0",
       "_view_name": "LayoutView",
       "align_content": null,
       "align_items": null,
       "align_self": null,
       "border": null,
       "bottom": null,
       "display": null,
       "flex": null,
       "flex_flow": null,
       "grid_area": null,
       "grid_auto_columns": null,
       "grid_auto_flow": null,
       "grid_auto_rows": null,
       "grid_column": null,
       "grid_gap": null,
       "grid_row": null,
       "grid_template_areas": null,
       "grid_template_columns": null,
       "grid_template_rows": null,
       "height": null,
       "justify_content": null,
       "justify_items": null,
       "left": null,
       "margin": null,
       "max_height": null,
       "max_width": null,
       "min_height": null,
       "min_width": null,
       "object_fit": null,
       "object_position": null,
       "order": null,
       "overflow": null,
       "overflow_x": null,
       "overflow_y": null,
       "padding": null,
       "right": null,
       "top": null,
       "visibility": null,
       "width": null
      }
     },
     "e8363a87acdc48d18c679f7069a51ef6": {
      "model_module": "@jupyter-widgets/controls",
      "model_module_version": "1.5.0",
      "model_name": "ProgressStyleModel",
      "state": {
       "_model_module": "@jupyter-widgets/controls",
       "_model_module_version": "1.5.0",
       "_model_name": "ProgressStyleModel",
       "_view_count": null,
       "_view_module": "@jupyter-widgets/base",
       "_view_module_version": "1.2.0",
       "_view_name": "StyleView",
       "bar_color": null,
       "description_width": ""
      }
     },
     "eadb15edf0ed4d77b880303b856fa292": {
      "model_module": "@jupyter-widgets/controls",
      "model_module_version": "1.5.0",
      "model_name": "DescriptionStyleModel",
      "state": {
       "_model_module": "@jupyter-widgets/controls",
       "_model_module_version": "1.5.0",
       "_model_name": "DescriptionStyleModel",
       "_view_count": null,
       "_view_module": "@jupyter-widgets/base",
       "_view_module_version": "1.2.0",
       "_view_name": "StyleView",
       "description_width": ""
      }
     },
     "ec34fca15b11470d859d0ce3637a3510": {
      "model_module": "@jupyter-widgets/controls",
      "model_module_version": "1.5.0",
      "model_name": "HTMLModel",
      "state": {
       "_dom_classes": [],
       "_model_module": "@jupyter-widgets/controls",
       "_model_module_version": "1.5.0",
       "_model_name": "HTMLModel",
       "_view_count": null,
       "_view_module": "@jupyter-widgets/controls",
       "_view_module_version": "1.5.0",
       "_view_name": "HTMLView",
       "description": "",
       "description_tooltip": null,
       "layout": "IPY_MODEL_55cc68ad79d64dde801bbcb0a8820942",
       "placeholder": "​",
       "style": "IPY_MODEL_4bf2ad2cade84ca887cb241419c7483c",
       "value": "Downloading: 100%"
      }
     },
     "eeab08b42a9149a1af8567fc48f94209": {
      "model_module": "@jupyter-widgets/base",
      "model_module_version": "1.2.0",
      "model_name": "LayoutModel",
      "state": {
       "_model_module": "@jupyter-widgets/base",
       "_model_module_version": "1.2.0",
       "_model_name": "LayoutModel",
       "_view_count": null,
       "_view_module": "@jupyter-widgets/base",
       "_view_module_version": "1.2.0",
       "_view_name": "LayoutView",
       "align_content": null,
       "align_items": null,
       "align_self": null,
       "border": null,
       "bottom": null,
       "display": null,
       "flex": null,
       "flex_flow": null,
       "grid_area": null,
       "grid_auto_columns": null,
       "grid_auto_flow": null,
       "grid_auto_rows": null,
       "grid_column": null,
       "grid_gap": null,
       "grid_row": null,
       "grid_template_areas": null,
       "grid_template_columns": null,
       "grid_template_rows": null,
       "height": null,
       "justify_content": null,
       "justify_items": null,
       "left": null,
       "margin": null,
       "max_height": null,
       "max_width": null,
       "min_height": null,
       "min_width": null,
       "object_fit": null,
       "object_position": null,
       "order": null,
       "overflow": null,
       "overflow_x": null,
       "overflow_y": null,
       "padding": null,
       "right": null,
       "top": null,
       "visibility": null,
       "width": null
      }
     },
     "f131e5ab1c0242af9b2c20d88acf827c": {
      "model_module": "@jupyter-widgets/base",
      "model_module_version": "1.2.0",
      "model_name": "LayoutModel",
      "state": {
       "_model_module": "@jupyter-widgets/base",
       "_model_module_version": "1.2.0",
       "_model_name": "LayoutModel",
       "_view_count": null,
       "_view_module": "@jupyter-widgets/base",
       "_view_module_version": "1.2.0",
       "_view_name": "LayoutView",
       "align_content": null,
       "align_items": null,
       "align_self": null,
       "border": null,
       "bottom": null,
       "display": null,
       "flex": null,
       "flex_flow": null,
       "grid_area": null,
       "grid_auto_columns": null,
       "grid_auto_flow": null,
       "grid_auto_rows": null,
       "grid_column": null,
       "grid_gap": null,
       "grid_row": null,
       "grid_template_areas": null,
       "grid_template_columns": null,
       "grid_template_rows": null,
       "height": null,
       "justify_content": null,
       "justify_items": null,
       "left": null,
       "margin": null,
       "max_height": null,
       "max_width": null,
       "min_height": null,
       "min_width": null,
       "object_fit": null,
       "object_position": null,
       "order": null,
       "overflow": null,
       "overflow_x": null,
       "overflow_y": null,
       "padding": null,
       "right": null,
       "top": null,
       "visibility": null,
       "width": null
      }
     },
     "f49d883fa4aa40d0b07b9b6eec4584d1": {
      "model_module": "@jupyter-widgets/controls",
      "model_module_version": "1.5.0",
      "model_name": "FloatProgressModel",
      "state": {
       "_dom_classes": [],
       "_model_module": "@jupyter-widgets/controls",
       "_model_module_version": "1.5.0",
       "_model_name": "FloatProgressModel",
       "_view_count": null,
       "_view_module": "@jupyter-widgets/controls",
       "_view_module_version": "1.5.0",
       "_view_name": "ProgressView",
       "bar_style": "success",
       "description": "",
       "description_tooltip": null,
       "layout": "IPY_MODEL_83e9b6eeb2944a308de5eb07c27a1645",
       "max": 231508.0,
       "min": 0.0,
       "orientation": "horizontal",
       "style": "IPY_MODEL_3e2c8acb95a7403f932bc9fd84c585b0",
       "value": 231508.0
      }
     },
     "f58074beda5943d99d9ab6cbad23054f": {
      "model_module": "@jupyter-widgets/controls",
      "model_module_version": "1.5.0",
      "model_name": "DescriptionStyleModel",
      "state": {
       "_model_module": "@jupyter-widgets/controls",
       "_model_module_version": "1.5.0",
       "_model_name": "DescriptionStyleModel",
       "_view_count": null,
       "_view_module": "@jupyter-widgets/base",
       "_view_module_version": "1.2.0",
       "_view_name": "StyleView",
       "description_width": ""
      }
     },
     "f63be3fcaa664b8a8f01296dbdaede59": {
      "model_module": "@jupyter-widgets/controls",
      "model_module_version": "1.5.0",
      "model_name": "FloatProgressModel",
      "state": {
       "_dom_classes": [],
       "_model_module": "@jupyter-widgets/controls",
       "_model_module_version": "1.5.0",
       "_model_name": "FloatProgressModel",
       "_view_count": null,
       "_view_module": "@jupyter-widgets/controls",
       "_view_module_version": "1.5.0",
       "_view_name": "ProgressView",
       "bar_style": "success",
       "description": "",
       "description_tooltip": null,
       "layout": "IPY_MODEL_e587e9efa4ec41dcadf1e0e447fb0ff3",
       "max": 267967963.0,
       "min": 0.0,
       "orientation": "horizontal",
       "style": "IPY_MODEL_b7803ace9cdf443fba0dbd828d43782d",
       "value": 267967963.0
      }
     }
    },
    "version_major": 2,
    "version_minor": 0
   }
  }
 },
 "nbformat": 4,
 "nbformat_minor": 5
}
