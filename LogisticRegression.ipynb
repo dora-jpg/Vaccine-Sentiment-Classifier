{
  "cells": [
    {
      "cell_type": "markdown",
      "metadata": {
        "colab_type": "text",
        "id": "view-in-github"
      },
      "source": [
        "<a href=\"https://colab.research.google.com/github/dora-jpg/Vaccine-Sentiment-Classifier/blob/main/LogisticRegression.ipynb\" target=\"_parent\"><img src=\"https://colab.research.google.com/assets/colab-badge.svg\" alt=\"Open In Colab\"/></a>"
      ]
    },
    {
      "cell_type": "markdown",
      "metadata": {
        "id": "aM2-7ctz7CN5"
      },
      "source": [
        "# Artificial Intelligence II - Softmax Regression\n",
        "In this exercise we are going to use Softmax Regression to train a model that predicts the vaccine sentiment of a tweet. We have 3 classes: neutral, antivax and pro-vax."
      ]
    },
    {
      "cell_type": "code",
      "execution_count": null,
      "metadata": {
        "colab": {
          "base_uri": "https://localhost:8080/"
        },
        "id": "1i0cE5-17AUF",
        "outputId": "048f2db9-9087-49ac-ea35-aadc6459a8ee"
      },
      "outputs": [
        {
          "name": "stdout",
          "output_type": "stream",
          "text": [
            "Drive already mounted at /content/drive; to attempt to forcibly remount, call drive.mount(\"/content/drive\", force_remount=True).\n"
          ]
        }
      ],
      "source": [
        "from google.colab import drive\n",
        "drive.mount('/content/drive')"
      ]
    },
    {
      "cell_type": "markdown",
      "metadata": {
        "id": "7g50JWXbB2ze"
      },
      "source": [
        "## Import Libraries and Read Datasets"
      ]
    },
    {
      "cell_type": "code",
      "execution_count": null,
      "metadata": {
        "id": "HSrTX-GD8xC3"
      },
      "outputs": [],
      "source": [
        "import pandas as pd\n",
        "import numpy as np\n",
        "# Feature extraction\n",
        "from sklearn.feature_extraction.text import CountVectorizer\n",
        "from sklearn.feature_extraction.text import TfidfVectorizer\n",
        "# Feature-processing\n",
        "from sklearn.preprocessing import StandardScaler\n",
        "from sklearn.preprocessing import MaxAbsScaler\n",
        "# For softmax regression\n",
        "from sklearn.linear_model import LogisticRegression\n",
        "from sklearn.metrics import confusion_matrix\n",
        "# Evaluation metrics\n",
        "from sklearn.metrics import f1_score\n",
        "from sklearn.metrics import accuracy_score\n",
        "# visualization\n",
        "import matplotlib as mpl\n",
        "import matplotlib.pyplot as plt"
      ]
    },
    {
      "cell_type": "markdown",
      "metadata": {
        "id": "T3T_ITrECxKu"
      },
      "source": [
        "Read train and validation datasets"
      ]
    },
    {
      "cell_type": "code",
      "execution_count": null,
      "metadata": {
        "id": "DCe_10itB0Pu"
      },
      "outputs": [],
      "source": [
        "df_train = pd.read_csv(\"/content/drive/MyDrive/Colab Notebooks/Artificial Intelligence II/vaccine_train_set.csv\")\n",
        "df_validation = pd.read_csv(\"/content/drive/MyDrive/Colab Notebooks/Artificial Intelligence II/vaccine_validation_set.csv\")"
      ]
    },
    {
      "cell_type": "markdown",
      "metadata": {
        "id": "lA3NQAAuKwjf"
      },
      "source": [
        " We don't need the first column of the datasets because it is an index."
      ]
    },
    {
      "cell_type": "code",
      "execution_count": null,
      "metadata": {
        "id": "qA3P1gymKEwR"
      },
      "outputs": [],
      "source": [
        "# get rid of first column\n",
        "df_train = df_train.iloc[: , 1:]\n",
        "df_validation = df_validation.iloc[: , 1:]"
      ]
    },
    {
      "cell_type": "code",
      "execution_count": null,
      "metadata": {
        "colab": {
          "base_uri": "https://localhost:8080/",
          "height": 488
        },
        "id": "awuvFK_yCuAO",
        "outputId": "e6c98cdf-baba-4d95-c56c-e62cf7522b49"
      },
      "outputs": [
        {
          "data": {
            "text/html": [
              "<div>\n",
              "<style scoped>\n",
              "    .dataframe tbody tr th:only-of-type {\n",
              "        vertical-align: middle;\n",
              "    }\n",
              "\n",
              "    .dataframe tbody tr th {\n",
              "        vertical-align: top;\n",
              "    }\n",
              "\n",
              "    .dataframe thead th {\n",
              "        text-align: right;\n",
              "    }\n",
              "</style>\n",
              "<table border=\"1\" class=\"dataframe\">\n",
              "  <thead>\n",
              "    <tr style=\"text-align: right;\">\n",
              "      <th></th>\n",
              "      <th>tweet</th>\n",
              "      <th>label</th>\n",
              "    </tr>\n",
              "  </thead>\n",
              "  <tbody>\n",
              "    <tr>\n",
              "      <th>0</th>\n",
              "      <td>Sip N Shop Come thru right now #Marjais #Popul...</td>\n",
              "      <td>0</td>\n",
              "    </tr>\n",
              "    <tr>\n",
              "      <th>1</th>\n",
              "      <td>I don't know about you but My family and I wil...</td>\n",
              "      <td>1</td>\n",
              "    </tr>\n",
              "    <tr>\n",
              "      <th>2</th>\n",
              "      <td>@MSignorile Immunizations should be mandatory....</td>\n",
              "      <td>2</td>\n",
              "    </tr>\n",
              "    <tr>\n",
              "      <th>3</th>\n",
              "      <td>President Obama spoke in favor of vaccination ...</td>\n",
              "      <td>0</td>\n",
              "    </tr>\n",
              "    <tr>\n",
              "      <th>4</th>\n",
              "      <td>\"@myfoxla: Arizona monitoring hundreds for mea...</td>\n",
              "      <td>0</td>\n",
              "    </tr>\n",
              "  </tbody>\n",
              "</table>\n",
              "</div>"
            ],
            "text/plain": [
              "                                               tweet  label\n",
              "0  Sip N Shop Come thru right now #Marjais #Popul...      0\n",
              "1  I don't know about you but My family and I wil...      1\n",
              "2  @MSignorile Immunizations should be mandatory....      2\n",
              "3  President Obama spoke in favor of vaccination ...      0\n",
              "4  \"@myfoxla: Arizona monitoring hundreds for mea...      0"
            ]
          },
          "metadata": {},
          "output_type": "display_data"
        },
        {
          "data": {
            "text/html": [
              "<div>\n",
              "<style scoped>\n",
              "    .dataframe tbody tr th:only-of-type {\n",
              "        vertical-align: middle;\n",
              "    }\n",
              "\n",
              "    .dataframe tbody tr th {\n",
              "        vertical-align: top;\n",
              "    }\n",
              "\n",
              "    .dataframe thead th {\n",
              "        text-align: right;\n",
              "    }\n",
              "</style>\n",
              "<table border=\"1\" class=\"dataframe\">\n",
              "  <thead>\n",
              "    <tr style=\"text-align: right;\">\n",
              "      <th></th>\n",
              "      <th>label</th>\n",
              "    </tr>\n",
              "  </thead>\n",
              "  <tbody>\n",
              "    <tr>\n",
              "      <th>count</th>\n",
              "      <td>15976.000000</td>\n",
              "    </tr>\n",
              "    <tr>\n",
              "      <th>mean</th>\n",
              "      <td>0.936592</td>\n",
              "    </tr>\n",
              "    <tr>\n",
              "      <th>std</th>\n",
              "      <td>0.930740</td>\n",
              "    </tr>\n",
              "    <tr>\n",
              "      <th>min</th>\n",
              "      <td>0.000000</td>\n",
              "    </tr>\n",
              "    <tr>\n",
              "      <th>25%</th>\n",
              "      <td>0.000000</td>\n",
              "    </tr>\n",
              "    <tr>\n",
              "      <th>50%</th>\n",
              "      <td>1.000000</td>\n",
              "    </tr>\n",
              "    <tr>\n",
              "      <th>75%</th>\n",
              "      <td>2.000000</td>\n",
              "    </tr>\n",
              "    <tr>\n",
              "      <th>max</th>\n",
              "      <td>2.000000</td>\n",
              "    </tr>\n",
              "  </tbody>\n",
              "</table>\n",
              "</div>"
            ],
            "text/plain": [
              "              label\n",
              "count  15976.000000\n",
              "mean       0.936592\n",
              "std        0.930740\n",
              "min        0.000000\n",
              "25%        0.000000\n",
              "50%        1.000000\n",
              "75%        2.000000\n",
              "max        2.000000"
            ]
          },
          "execution_count": 305,
          "metadata": {},
          "output_type": "execute_result"
        }
      ],
      "source": [
        "display(df_train.head())\n",
        "df_train.describe()"
      ]
    },
    {
      "cell_type": "code",
      "execution_count": null,
      "metadata": {
        "colab": {
          "base_uri": "https://localhost:8080/",
          "height": 488
        },
        "id": "1SCqSG05CMpd",
        "outputId": "99cc51e3-5b7f-4bd9-c2b4-f079f871d6ba"
      },
      "outputs": [
        {
          "data": {
            "text/html": [
              "<div>\n",
              "<style scoped>\n",
              "    .dataframe tbody tr th:only-of-type {\n",
              "        vertical-align: middle;\n",
              "    }\n",
              "\n",
              "    .dataframe tbody tr th {\n",
              "        vertical-align: top;\n",
              "    }\n",
              "\n",
              "    .dataframe thead th {\n",
              "        text-align: right;\n",
              "    }\n",
              "</style>\n",
              "<table border=\"1\" class=\"dataframe\">\n",
              "  <thead>\n",
              "    <tr style=\"text-align: right;\">\n",
              "      <th></th>\n",
              "      <th>tweet</th>\n",
              "      <th>label</th>\n",
              "    </tr>\n",
              "  </thead>\n",
              "  <tbody>\n",
              "    <tr>\n",
              "      <th>0</th>\n",
              "      <td>@user They had a massive surge in with covid d...</td>\n",
              "      <td>1</td>\n",
              "    </tr>\n",
              "    <tr>\n",
              "      <th>1</th>\n",
              "      <td>Required vaccines for school: Parents and guar...</td>\n",
              "      <td>0</td>\n",
              "    </tr>\n",
              "    <tr>\n",
              "      <th>2</th>\n",
              "      <td>“@KCStar: Two more Johnson County children hav...</td>\n",
              "      <td>0</td>\n",
              "    </tr>\n",
              "    <tr>\n",
              "      <th>3</th>\n",
              "      <td>NV can do better. Which states are the best (a...</td>\n",
              "      <td>2</td>\n",
              "    </tr>\n",
              "    <tr>\n",
              "      <th>4</th>\n",
              "      <td>Nothing like killing ourselves w/ our own fear...</td>\n",
              "      <td>2</td>\n",
              "    </tr>\n",
              "  </tbody>\n",
              "</table>\n",
              "</div>"
            ],
            "text/plain": [
              "                                               tweet  label\n",
              "0  @user They had a massive surge in with covid d...      1\n",
              "1  Required vaccines for school: Parents and guar...      0\n",
              "2  “@KCStar: Two more Johnson County children hav...      0\n",
              "3  NV can do better. Which states are the best (a...      2\n",
              "4  Nothing like killing ourselves w/ our own fear...      2"
            ]
          },
          "metadata": {},
          "output_type": "display_data"
        },
        {
          "data": {
            "text/html": [
              "<div>\n",
              "<style scoped>\n",
              "    .dataframe tbody tr th:only-of-type {\n",
              "        vertical-align: middle;\n",
              "    }\n",
              "\n",
              "    .dataframe tbody tr th {\n",
              "        vertical-align: top;\n",
              "    }\n",
              "\n",
              "    .dataframe thead th {\n",
              "        text-align: right;\n",
              "    }\n",
              "</style>\n",
              "<table border=\"1\" class=\"dataframe\">\n",
              "  <thead>\n",
              "    <tr style=\"text-align: right;\">\n",
              "      <th></th>\n",
              "      <th>label</th>\n",
              "    </tr>\n",
              "  </thead>\n",
              "  <tbody>\n",
              "    <tr>\n",
              "      <th>count</th>\n",
              "      <td>2282.000000</td>\n",
              "    </tr>\n",
              "    <tr>\n",
              "      <th>mean</th>\n",
              "      <td>0.936897</td>\n",
              "    </tr>\n",
              "    <tr>\n",
              "      <th>std</th>\n",
              "      <td>0.930960</td>\n",
              "    </tr>\n",
              "    <tr>\n",
              "      <th>min</th>\n",
              "      <td>0.000000</td>\n",
              "    </tr>\n",
              "    <tr>\n",
              "      <th>25%</th>\n",
              "      <td>0.000000</td>\n",
              "    </tr>\n",
              "    <tr>\n",
              "      <th>50%</th>\n",
              "      <td>1.000000</td>\n",
              "    </tr>\n",
              "    <tr>\n",
              "      <th>75%</th>\n",
              "      <td>2.000000</td>\n",
              "    </tr>\n",
              "    <tr>\n",
              "      <th>max</th>\n",
              "      <td>2.000000</td>\n",
              "    </tr>\n",
              "  </tbody>\n",
              "</table>\n",
              "</div>"
            ],
            "text/plain": [
              "             label\n",
              "count  2282.000000\n",
              "mean      0.936897\n",
              "std       0.930960\n",
              "min       0.000000\n",
              "25%       0.000000\n",
              "50%       1.000000\n",
              "75%       2.000000\n",
              "max       2.000000"
            ]
          },
          "execution_count": 306,
          "metadata": {},
          "output_type": "execute_result"
        }
      ],
      "source": [
        "display(df_validation.head())\n",
        "df_validation.describe()"
      ]
    },
    {
      "cell_type": "markdown",
      "metadata": {
        "id": "22fsx7JjEMfF"
      },
      "source": [
        "## Data Pre-processing"
      ]
    },
    {
      "cell_type": "code",
      "execution_count": null,
      "metadata": {
        "colab": {
          "base_uri": "https://localhost:8080/"
        },
        "id": "eTX3ciaXEPak",
        "outputId": "c5e43536-9dda-4edd-e2ff-d598e4d1aeee"
      },
      "outputs": [
        {
          "data": {
            "text/plain": [
              "tweet    0\n",
              "label    0\n",
              "dtype: int64"
            ]
          },
          "execution_count": 307,
          "metadata": {},
          "output_type": "execute_result"
        }
      ],
      "source": [
        "#Check for null values\n",
        "#In this case there are no missing values, so no action is needed\n",
        "df_train.isnull().sum()"
      ]
    },
    {
      "cell_type": "code",
      "execution_count": null,
      "metadata": {
        "colab": {
          "base_uri": "https://localhost:8080/"
        },
        "id": "QsaG_oHBEgmM",
        "outputId": "98d36962-f9d9-451b-deea-aa68696a9ca4"
      },
      "outputs": [
        {
          "data": {
            "text/plain": [
              "tweet    0\n",
              "label    0\n",
              "dtype: int64"
            ]
          },
          "execution_count": 308,
          "metadata": {},
          "output_type": "execute_result"
        }
      ],
      "source": [
        "df_validation.isnull().sum()"
      ]
    },
    {
      "cell_type": "markdown",
      "metadata": {
        "id": "oY8z-bTWJEwz"
      },
      "source": [
        "### Stemming & cleaning"
      ]
    },
    {
      "cell_type": "markdown",
      "metadata": {
        "id": "vMCMa1_qKAwI"
      },
      "source": [
        "Stemming is reducing a word to its base word or stem in such a way that the words of similar kind lie under a common stem."
      ]
    },
    {
      "cell_type": "code",
      "execution_count": null,
      "metadata": {
        "colab": {
          "base_uri": "https://localhost:8080/"
        },
        "id": "riwv46GMxoNa",
        "outputId": "cb2a32f3-5b77-4c51-ff67-254291922ab5"
      },
      "outputs": [
        {
          "name": "stdout",
          "output_type": "stream",
          "text": [
            "[nltk_data] Downloading package punkt to /root/nltk_data...\n",
            "[nltk_data]   Package punkt is already up-to-date!\n"
          ]
        }
      ],
      "source": [
        "import nltk\n",
        "from collections import defaultdict\n",
        "from nltk.stem.snowball import SnowballStemmer\n",
        "import gensim\n",
        "from nltk import word_tokenize\n",
        "\n",
        "nltk.download('punkt')\n",
        "stemmer = SnowballStemmer(language='english')\n",
        "all_stopwords = gensim.parsing.preprocessing.STOPWORDS\n",
        "\n",
        "def stem_text(text):\n",
        "  text = text.replace(\"#\", \"  \")\n",
        "  tokens = word_tokenize(text.lower())\n",
        "  text = ' '.join([ token for token in tokens if (token not in all_stopwords and len(token)>2 and \"@\" not in token and token.isalpha()) ])\n",
        "\n",
        "  return text\n",
        "\n",
        "def preprocessing2(df):\n",
        "  df = df[~df.tweet.isna()] # remove NA values\n",
        "  df['tweet'] = df['tweet'].apply(stem_text)\n",
        "  \n",
        "  return df"
      ]
    },
    {
      "cell_type": "code",
      "execution_count": null,
      "metadata": {
        "id": "oNRitkpDj1F-"
      },
      "outputs": [],
      "source": [
        "# df_train = preprocessing2(df_train)\n",
        "# df_validation = preprocessing2(df_validation)"
      ]
    },
    {
      "cell_type": "markdown",
      "metadata": {
        "id": "kdRzQAQiKxpI"
      },
      "source": [
        "Stemming was worse than no preprocessing for our dataset, so the code that applies it is commented out. I used Lemmatization instead. "
      ]
    },
    {
      "cell_type": "markdown",
      "metadata": {
        "id": "vkeFXKzokTu3"
      },
      "source": [
        "### Lematizing & cleaning"
      ]
    },
    {
      "cell_type": "markdown",
      "metadata": {
        "id": "oFO_sNtU_6Rs"
      },
      "source": [
        "Lemmatizing matches each word to a dictionary of words so that synonyms and variations of the same word don't count as different words at the feature extraction step.\n"
      ]
    },
    {
      "cell_type": "code",
      "execution_count": null,
      "metadata": {
        "colab": {
          "base_uri": "https://localhost:8080/"
        },
        "id": "07E_H-evj1cT",
        "outputId": "2797509c-e596-4863-a97e-616c47285dde"
      },
      "outputs": [
        {
          "name": "stdout",
          "output_type": "stream",
          "text": [
            "[nltk_data] Downloading package wordnet to /root/nltk_data...\n",
            "[nltk_data]   Package wordnet is already up-to-date!\n",
            "[nltk_data] Downloading package averaged_perceptron_tagger to\n",
            "[nltk_data]     /root/nltk_data...\n",
            "[nltk_data]   Package averaged_perceptron_tagger is already up-to-\n",
            "[nltk_data]       date!\n"
          ]
        }
      ],
      "source": [
        "# Dictionary is created where pos_tag (first letter) are the key values whose values are mapped with the value from wordnet dictionary. \n",
        "# We have taken the only first letter as we will use it later in the loop.\n",
        "\n",
        "# For preprocessing\n",
        "import nltk\n",
        "nltk.download('wordnet')\n",
        "nltk.download('averaged_perceptron_tagger')\n",
        "# the corpus reader wordnet is imported.\n",
        "from nltk.corpus import wordnet as wn\n",
        "# WordNetLemmatizer is imported from wordnet.\n",
        "from nltk.stem.wordnet import WordNetLemmatizer\n",
        "# Word tokenize as well as parts of speech tag are imported from nltk.\n",
        "from nltk import word_tokenize, pos_tag\n",
        "# Default Dictionary is imported from collections.\n",
        "from collections import defaultdict\n",
        "\n",
        "tag_map = defaultdict(lambda : wn.NOUN)\n",
        "tag_map['J'] = wn.ADJ\n",
        "tag_map['V'] = wn.VERB\n",
        "tag_map['R'] = wn.ADV\n",
        "\n",
        "all_stopwords = gensim.parsing.preprocessing.STOPWORDS\n",
        "lemmatizer = WordNetLemmatizer()\n",
        "\n",
        "def lemma_text(text):\n",
        "  text = text.replace(\"#\", \" \")\n",
        "  tokens = word_tokenize(text.lower())\n",
        "  text = ' '.join([lemmatizer.lemmatize(token, tag_map[tag[0]]) for token, tag in pos_tag(tokens)]) # if (token not in all_stopwords and token.isalpha() == True and len(token)>2)\n",
        "  return text\n",
        "\n",
        "\n",
        "def preprocessing(df):\n",
        "  df['tweet'] = df['tweet'].apply(lemma_text)\n",
        "  \n",
        "  return df"
      ]
    },
    {
      "cell_type": "code",
      "execution_count": null,
      "metadata": {
        "id": "hZqp3xhDkNFS"
      },
      "outputs": [],
      "source": [
        "df_train = preprocessing(df_train)\n",
        "df_validation = preprocessing(df_validation)"
      ]
    },
    {
      "cell_type": "code",
      "execution_count": null,
      "metadata": {
        "colab": {
          "base_uri": "https://localhost:8080/",
          "height": 206
        },
        "id": "H_DDEWVakzEF",
        "outputId": "bb890981-5750-4bfd-ae62-8d6ef20bb805"
      },
      "outputs": [
        {
          "data": {
            "text/html": [
              "<div>\n",
              "<style scoped>\n",
              "    .dataframe tbody tr th:only-of-type {\n",
              "        vertical-align: middle;\n",
              "    }\n",
              "\n",
              "    .dataframe tbody tr th {\n",
              "        vertical-align: top;\n",
              "    }\n",
              "\n",
              "    .dataframe thead th {\n",
              "        text-align: right;\n",
              "    }\n",
              "</style>\n",
              "<table border=\"1\" class=\"dataframe\">\n",
              "  <thead>\n",
              "    <tr style=\"text-align: right;\">\n",
              "      <th></th>\n",
              "      <th>tweet</th>\n",
              "      <th>label</th>\n",
              "    </tr>\n",
              "  </thead>\n",
              "  <tbody>\n",
              "    <tr>\n",
              "      <th>0</th>\n",
              "      <td>sip n shop come thru right now marjais popular...</td>\n",
              "      <td>0</td>\n",
              "    </tr>\n",
              "    <tr>\n",
              "      <th>1</th>\n",
              "      <td>i do n't know about you but my family and i wi...</td>\n",
              "      <td>1</td>\n",
              "    </tr>\n",
              "    <tr>\n",
              "      <th>2</th>\n",
              "      <td>@ msignorile immunization should be mandatory ...</td>\n",
              "      <td>2</td>\n",
              "    </tr>\n",
              "    <tr>\n",
              "      <th>3</th>\n",
              "      <td>president obama speak in favor of vaccination ...</td>\n",
              "      <td>0</td>\n",
              "    </tr>\n",
              "    <tr>\n",
              "      <th>4</th>\n",
              "      <td>`` @ myfoxla : arizona monitoring hundred for ...</td>\n",
              "      <td>0</td>\n",
              "    </tr>\n",
              "  </tbody>\n",
              "</table>\n",
              "</div>"
            ],
            "text/plain": [
              "                                               tweet  label\n",
              "0  sip n shop come thru right now marjais popular...      0\n",
              "1  i do n't know about you but my family and i wi...      1\n",
              "2  @ msignorile immunization should be mandatory ...      2\n",
              "3  president obama speak in favor of vaccination ...      0\n",
              "4  `` @ myfoxla : arizona monitoring hundred for ...      0"
            ]
          },
          "execution_count": 313,
          "metadata": {},
          "output_type": "execute_result"
        }
      ],
      "source": [
        "df_train.head()"
      ]
    },
    {
      "cell_type": "markdown",
      "metadata": {
        "id": "29a93cc1JVUj"
      },
      "source": [
        "### Separate features from targets"
      ]
    },
    {
      "cell_type": "code",
      "execution_count": null,
      "metadata": {
        "id": "PRjL4WS3E4Jc"
      },
      "outputs": [],
      "source": [
        "X_train = df_train.drop('label', axis=1) #Keep everything but value\n",
        "Y_train = df_train['label'] #Only keep value\n",
        "\n",
        "X_validation = df_validation.drop('label', axis=1) #Keep everything but value\n",
        "Y_validation = df_validation['label'] #Only keep value"
      ]
    },
    {
      "cell_type": "markdown",
      "metadata": {
        "id": "mMXtkwBrJtSi"
      },
      "source": [
        "Overview of label distribution"
      ]
    },
    {
      "cell_type": "code",
      "execution_count": null,
      "metadata": {
        "colab": {
          "base_uri": "https://localhost:8080/"
        },
        "id": "dxpyM6vOHrRv",
        "outputId": "51197bb5-5ffe-4b15-a1fb-9d60f15974fa"
      },
      "outputs": [
        {
          "name": "stdout",
          "output_type": "stream",
          "text": [
            "train data\n",
            "label 0: 7458\n",
            "label 1: 2073\n",
            "label 2: 6445\n",
            "validation data\n",
            "label 0: 1065\n",
            "label 1: 296\n",
            "label 2: 921\n"
          ]
        }
      ],
      "source": [
        "print(\"train data\")\n",
        "print(\"label 0:\",Y_train[Y_train== 0].count())\n",
        "print(\"label 1:\",Y_train[Y_train== 1].count())\n",
        "print(\"label 2:\",Y_train[Y_train== 2].count())\n",
        "print(\"validation data\")\n",
        "print(\"label 0:\",Y_validation[Y_validation== 0].count())\n",
        "print(\"label 1:\",Y_validation[Y_validation== 1].count())\n",
        "print(\"label 2:\",Y_validation[Y_validation== 2].count())"
      ]
    },
    {
      "cell_type": "markdown",
      "metadata": {
        "id": "_4Z0u5rJ0ToQ"
      },
      "source": [
        "Label 1 has very few instances so we expect that it has a lower score than the other 2 labels. "
      ]
    },
    {
      "cell_type": "markdown",
      "metadata": {
        "id": "b5Bc0vQAEvnD"
      },
      "source": [
        "## Features Extraction\n"
      ]
    },
    {
      "cell_type": "markdown",
      "metadata": {
        "id": "Z4MdrDpxJdk_"
      },
      "source": [
        "### Bag of Words\n",
        "Using CountVectorizer extract the features of the train set and then fit validation set to train set's feature names.\n",
        "\n",
        "I tried different ngram ranges. Unigrams & bigrams worked better than just unigrams or bigrams. For min_df I kept 0.002 and it generates around 900 features depending on the preprocessing."
      ]
    },
    {
      "cell_type": "code",
      "execution_count": null,
      "metadata": {
        "colab": {
          "base_uri": "https://localhost:8080/"
        },
        "id": "zPxOtA_9E0Fz",
        "outputId": "25a61ac2-852b-4588-85d1-5dcb552cc952"
      },
      "outputs": [
        {
          "name": "stdout",
          "output_type": "stream",
          "text": [
            "['000' '10' '100' '11' '12' '13' '14' '15' '18' '19' '19 vaccine' '1st'\n",
            " '20' '20 year' '2014' '2015' '2020' '2021' '2nd' '30' '50' '60' '70' '90'\n",
            " '90 effective' '95' '99' 'able' 'absolutely' 'access' 'accord' 'act'\n",
            " 'actually' 'add' 'administration' 'adult' 'affect' 'africa' 'african'\n",
            " 'age' 'ago' 'agree' 'ai' 'aid' 'ainf' 'ainf http' 'alert' 'allout201'\n",
            " 'allow' 'amaze' 'america' 'american' 'amid' 'amp' 'analysis' 'ancestor'\n",
            " 'ancestor ainf' 'animal' 'announce' 'anti' 'anti vaccination'\n",
            " 'anti vaccine' 'anti vaxxers' 'antibody' 'ap' 'apparently' 'approval'\n",
            " 'approve' 'area' 'arm' 'article' 'ask' 'astrazeneca' 'attend' 'autism'\n",
            " 'autism http' 'autism vaccine' 'autistic' 'available' 'average'\n",
            " 'average people' 'avoid' 'away' 'awesome' 'baby' 'bad' 'bart' 'base' 'bc'\n",
            " 'bear' 'begin' 'belief' 'believe' 'benefit' 'best' 'bet' 'biden' 'big'\n",
            " 'billion' 'biontech' 'bit' 'bit ly' 'bitch' 'black' 'blame' 'blaming'\n",
            " 'blaming immigrant' 'blood' 'body' 'boost' 'boost health' 'booster'\n",
            " 'border' 'boy' 'brain' 'break' 'breaking' 'bring' 'bring ancestor'\n",
            " 'build' 'business' 'buy' 'ca' 'california' 'california measles' 'cancer'\n",
            " 'candidate' 'care' 'case' 'case confirm' 'case http' 'case link'\n",
            " 'case measles' 'case report' 'catch' 'catch measles' 'cause'\n",
            " 'cause autism' 'cdc' 'cdc say' 'cdcgov' 'cdcwhistleblower' 'celebrate'\n",
            " 'center' 'center http' 'certain' 'challenge' 'chance' 'change' 'check'\n",
            " 'chicago' 'chicken' 'chicken pox' 'child' 'child die' 'child http'\n",
            " 'child vaccinate' 'child vaccination' 'child vaccine' 'childhood' 'china'\n",
            " 'choice' 'choose' 'choose vaccinate' 'city' 'claim' 'class' 'clear'\n",
            " 'clinic' 'clinical' 'clinical trial' 'close' 'club' 'cnn' 'cnnbrk' 'cold'\n",
            " 'college' 'com' 'come' 'common' 'community' 'company' 'compare'\n",
            " 'complain' 'complain live' 'concern' 'confirm' 'confirmed' 'consider'\n",
            " 'conspiracy' 'contagious' 'contain' 'continue' 'contract' 'control'\n",
            " 'corona' 'coronavirus' 'coronavirus vaccine' 'cost' 'cough' 'country'\n",
            " 'county' 'county health' 'county http' 'course' 'cover' 'covid'\n",
            " 'covid 19' 'covid vaccine' 'covid19' 'covid19 http' 'covid19 vaccine'\n",
            " 'covidvaccine' 'crazy' 'create' 'crisis' 'cross' 'cure' 'current' 'cut'\n",
            " 'damage' 'damn' 'danger' 'dangerous' 'data' 'date' 'daughter' 'day'\n",
            " 'day care' 'dc' 'dc dj' 'dead' 'deadly' 'deal' 'death' 'debate' 'decide'\n",
            " 'decision' 'definitely' 'department' 'dept' 'develop' 'development'\n",
            " 'diagnose' 'diagnose measles' 'die' 'die measles' 'different' 'director'\n",
            " 'discuss' 'disease' 'disease http' 'disease vaccine' 'diseases'\n",
            " 'diseases bring' 'disney' 'disneyland' 'disneyland http'\n",
            " 'disneyland measles' 'distribution' 'district' 'dj' 'dna' 'doctor' 'dog'\n",
            " 'don' 'dont' 'dos' 'dose' 'dr' 'drive' 'drop' 'drug' 'dumb'\n",
            " 'dupontcircle' 'early' 'earth' 'eat' 'ebola' 'ebola measles'\n",
            " 'ebola vaccine' 'educate' 'effect' 'effective' 'effective http'\n",
            " 'efficacy' 'effort' 'election' 'eliminate' 'emergency' 'employee'\n",
            " 'encourage' 'end' 'epidemic' 'eradicate' 'especially' 'evidence'\n",
            " 'exemption' 'exist' 'expect' 'expert' 'explain' 'expose' 'expose measles'\n",
            " 'exposure' 'face' 'facebook' 'fact' 'fake' 'fall' 'false' 'family' 'far'\n",
            " 'fast' 'fda' 'fear' 'feel' 'feel like' 'fever' 'fight' 'finally' 'fine'\n",
            " 'flu' 'flu season' 'flu shot' 'flu vaccination' 'flu vaccine' 'folk'\n",
            " 'follow' 'food' 'force' 'forever' 'forget' 'form' 'free' 'friday'\n",
            " 'friend' 'fuck' 'fucking' 'fully' 'fun' 'fund' 'funny' 'future' 'game'\n",
            " 'gate' 'gay' 'general' 'german' 'girl' 'glad' 'global' 'god' 'gon'\n",
            " 'gon na' 'good' 'good news' 'gop' 'gop stop' 'gov' 'government' 'great'\n",
            " 'great news' 'group' 'grow' 'gt' 'guess' 'guy' 'half' 'hand' 'happen'\n",
            " 'happy' 'hard' 'harm' 'hate' 'head' 'health' 'health care'\n",
            " 'health department' 'health dept' 'health http' 'health official'\n",
            " 'healthcare' 'healthy' 'hear' 'heart' 'hell' 'help' 'hepatitis' 'herd'\n",
            " 'herd immunity' 'hey' 'high' 'high school' 'highly' 'hit' 'hiv'\n",
            " 'hiv vaccine' 'hold' 'home' 'hope' 'hospital' 'host' 'hot' 'hour' 'house'\n",
            " 'hpv' 'hpv vaccine' 'http' 'http bit' 'https' 'huge' 'human' 'hurt'\n",
            " 'idea' 'idiot' 'ill' 'illegal' 'illinois' 'illness' 'im' 'immigrant'\n",
            " 'immigrant ebola' 'immune' 'immunity' 'immunity boost' 'immunity improve'\n",
            " 'immunization' 'immunization http' 'immunize' 'impact' 'important'\n",
            " 'improve' 'improve overall' 'include' 'increase' 'increase immunity'\n",
            " 'india' 'infant' 'infect' 'infection' 'infectious' 'infectious disease'\n",
            " 'influenza' 'info' 'information' 'ingredient' 'inject' 'injury' 'instead'\n",
            " 'insurance' 'investigate' 'issue' 'jab' 'jenny' 'jenny mccarthy'\n",
            " 'jennymccarthy' 'job' 'join' 'just' 'key' 'kid' 'kid die' 'kid http'\n",
            " 'kid measles' 'kid vaccinate' 'kid vaccine' 'kill' 'kind' 'king' 'know'\n",
            " 'la' 'lack' 'large' 'late' 'later' 'law' 'lawmaker' 'lead' 'learn'\n",
            " 'leave' 'let' 'level' 'liability' 'lie' 'life' 'light' 'like'\n",
            " 'like measles' 'likely' 'line' 'link' 'link autism' 'link mmr' 'list'\n",
            " 'listen' 'literally' 'little' 'live' 'live long' 'live longer' 'll'\n",
            " 'local' 'lol' 'long' 'long release' 'long term' 'longer' 'longer release'\n",
            " 'look' 'look like' 'lose' 'lot' 'love' 'low' 'lt' 'ly' 'madhatterdc'\n",
            " 'madhatterdc mmr' 'major' 'make' 'make sure' 'malaria' 'man' 'mandatory'\n",
            " 'market' 'mask' 'mass' 'matter' 'maybe' 'mccarthy' 'mean' 'measles'\n",
            " 'measles case' 'measles confirm' 'measles diseases' 'measles disneyland'\n",
            " 'measles exposure' 'measles http' 'measles mumps' 'measles outbreak'\n",
            " 'measles spread' 'measles vaccination' 'measles vaccine' 'measles virus'\n",
            " 'measlesoutbreak' 'medical' 'medicine' 'medium' 'meet' 'meningitis'\n",
            " 'meningitis vaccine' 'mercury' 'million' 'mind' 'minute' 'miss'\n",
            " 'mixmasterrod' 'mmr' 'mmr dc' 'mmr http' 'mmr shot' 'mmr vaccine'\n",
            " 'moderna' 'mom' 'monday' 'money' 'month' 'morning' 'moron' 'mortality'\n",
            " 'mortality rate' 'mother' 'movement' 'mrna' 'mrna vaccine' 'mt' 'mumps'\n",
            " 'mumps rubella' 'music' 'na' 'nation' 'national' 'near' 'nearly' 'need'\n",
            " 'need vaccine' 'needle' 'new' 'new vaccine' 'new york' 'news' 'news http'\n",
            " 'news vaccine' 'nice' 'night' 'non' 'normal' 'north' 'number' 'nurse'\n",
            " 'nyc' 'nytimes' 'obama' 'offer' 'offer free' 'office' 'official'\n",
            " 'official say' 'official warn' 'oh' 'ohio' 'ok' 'old' 'open' 'opinion'\n",
            " 'opt' 'order' 'oregon' 'outbreak' 'outbreak http' 'outbreak measles'\n",
            " 'outside' 'overall' 'overall health' 'oxford' 'pakistan' 'pandemic'\n",
            " 'parent' 'parent refuse' 'parent vaccinate' 'park' 'party' 'pass' 'past'\n",
            " 'patient' 'paul' 'pay' 'pediatrician' 'people' 'people complain'\n",
            " 'people measles' 'people vaccinate' 'percent' 'person' 'personal'\n",
            " 'pertussis' 'pfizer' 'pfizer biontech' 'pfizer covid' 'pfizer say'\n",
            " 'pfizer vaccine' 'pharma' 'pharmaceutical' 'phase' 'photoshop' 'pic'\n",
            " 'piss' 'place' 'plan' 'play' 'point' 'poison' 'polio' 'polio vaccine'\n",
            " 'poor' 'poor baby' 'population' 'positive' 'possible' 'possible measles'\n",
            " 'post' 'potential' 'pox' 'ppl' 'president' 'pretty' 'prevent'\n",
            " 'preventable' 'preventable disease' 'prevention' 'pro' 'probably'\n",
            " 'problem' 'produce' 'program' 'promise' 'proof' 'protect' 'protect kid'\n",
            " 'protection' 'prove' 'provide' 'provide immunity' 'public'\n",
            " 'public health' 'publichealth' 'push' 'quarantine' 'question' 'raise'\n",
            " 'rate' 'reach' 'reaction' 'read' 'ready' 'real' 'realdonaldtrump'\n",
            " 'really' 'reason' 'receive' 'recent' 'recommend' 'record' 'reduce'\n",
            " 'refuse' 'refuse vaccinate' 'relate' 'release' 'release tension'\n",
            " 'religious' 'remember' 'remove' 'report' 'require' 'requirement'\n",
            " 'research' 'researcher' 'resident' 'response' 'rest' 'result' 'return'\n",
            " 'right' 'rise' 'risk' 'roll' 'round' 'rt' 'rubella' 'rule' 'run' 'sad'\n",
            " 'safe' 'safety' 'san' 'saturday' 'save' 'save life' 'saw' 'say'\n",
            " 'say http' 'say measles' 'say vaccine' 'scar' 'scare' 'scary' 'schedule'\n",
            " 'school' 'school http' 'school immunization' 'school vaccine' 'science'\n",
            " 'scientist' 'season' 'seattle' 'second' 'seek' 'send' 'sense' 'seriously'\n",
            " 'service' 'set' 'share' 'shit' 'shoot' 'shot' 'shotatlife' 'sick' 'sign'\n",
            " 'simple' 'single' 'slowly' 'small' 'social' 'society' 'son' 'soon'\n",
            " 'sorry' 'sound' 'south' 'speak' 'speed' 'spread' 'stage' 'stand' 'start'\n",
            " 'state' 'state http' 'stay' 'step' 'stop' 'stop blaming' 'story' 'stress'\n",
            " 'strong' 'student' 'study' 'stuff' 'stupid' 'success' 'suffer' 'suggest'\n",
            " 'super' 'supply' 'support' 'sure' 'ta' 'talk' 'team' 'tell' 'tension'\n",
            " 'tension increase' 'term' 'test' 'texas' 'thank' 'thanks' 'theory'\n",
            " 'thing' 'think' 'think measles' 'think vaccine' 'thousand' 'threat'\n",
            " 'time' 'today' 'tomorrow' 'tonight' 'total' 'travel' 'treat' 'treatment'\n",
            " 'trial' 'true' 'trump' 'trust' 'truth' 'trutherbot' 'try' 'tuesday'\n",
            " 'turn' 'tweet' 'type' 'uberfacts' 'uberfacts average' 'uk' 'understand'\n",
            " 'university' 'unless' 'unvaccinated' 'update' 'ur' 'urge' 'usa' 'use'\n",
            " 'user' 'vaccinate' 'vaccinate child' 'vaccinate http' 'vaccinate kid'\n",
            " 'vaccinate measles' 'vaccinated' 'vaccinateyourkids' 'vaccination'\n",
            " 'vaccination cause' 'vaccination http' 'vaccination rate' 'vaccine'\n",
            " 'vaccine 90' 'vaccine amp' 'vaccine autism' 'vaccine available'\n",
            " 'vaccine candidate' 'vaccine cause' 'vaccine child' 'vaccine come'\n",
            " 'vaccine coronavirus' 'vaccine covid' 'vaccine covid19' 'vaccine develop'\n",
            " 'vaccine effective' 'vaccine exemption' 'vaccine http' 'vaccine injury'\n",
            " 'vaccine just' 'vaccine kid' 'vaccine make' 'vaccine prevent'\n",
            " 'vaccine preventable' 'vaccine safe' 'vaccine trial' 'vaccine vaccine'\n",
            " 'vaccine work' 'vaccines' 'vaccineswork' 'vax' 'vaxxers' 've' 'video'\n",
            " 'view' 'virus' 'visit' 'volunteer' 'vote' 'wait' 'wake' 'walk' 'wan'\n",
            " 'wan na' 'want' 'want vaccinate' 'warn' 'washington' 'watch' 'way' 'wear'\n",
            " 'wear mask' 'wednesday' 'week' 'west' 'white' 'whooping' 'whooping cough'\n",
            " 'win' 'wish' 'wo' 'woman' 'wonder' 'word' 'work' 'worker' 'world'\n",
            " 'worldwide' 'worry' 'worth' 'wow' 'wrong' 'wtf' 'yeah' 'year' 'year http'\n",
            " 'year old' 'yes' 'yesterday' 'yo' 'york' 'young' 'yr']\n",
            "(15976, 959)\n",
            "(2282, 959)\n"
          ]
        }
      ],
      "source": [
        "bow_vectorizer = CountVectorizer(ngram_range=(1, 2), max_df=1.0, min_df=0.002, stop_words='english', lowercase=True) # or min_df=0.01\n",
        "\n",
        "bow_vectorizer.fit(X_train['tweet'])\n",
        "\n",
        "bow_train = bow_vectorizer.transform(X_train['tweet'])\n",
        "print(bow_vectorizer.get_feature_names_out())\n",
        "# print(bow_train.toarray())\n",
        "print(bow_train.shape)\n",
        "\n",
        "# print(bow_vectorizer.get_feature_names())\n",
        "bow_test = bow_vectorizer.transform(X_validation['tweet'])\n",
        "print(bow_test.shape)"
      ]
    },
    {
      "cell_type": "markdown",
      "metadata": {
        "id": "fe13vOrmJ2V6"
      },
      "source": [
        "### TF-IDF"
      ]
    },
    {
      "cell_type": "code",
      "execution_count": null,
      "metadata": {
        "colab": {
          "base_uri": "https://localhost:8080/"
        },
        "id": "lCsJ-utCpND9",
        "outputId": "51aafe8c-1d82-44cd-a060-c6b2ecc5d44d"
      },
      "outputs": [
        {
          "name": "stdout",
          "output_type": "stream",
          "text": [
            "(15976, 959)\n",
            "['000' '10' '100' '11' '12' '13' '14' '15' '18' '19' '19 vaccine' '1st'\n",
            " '20' '20 year' '2014' '2015' '2020' '2021' '2nd' '30' '50' '60' '70' '90'\n",
            " '90 effective' '95' '99' 'able' 'absolutely' 'access' 'accord' 'act'\n",
            " 'actually' 'add' 'administration' 'adult' 'affect' 'africa' 'african'\n",
            " 'age' 'ago' 'agree' 'ai' 'aid' 'ainf' 'ainf http' 'alert' 'allout201'\n",
            " 'allow' 'amaze' 'america' 'american' 'amid' 'amp' 'analysis' 'ancestor'\n",
            " 'ancestor ainf' 'animal' 'announce' 'anti' 'anti vaccination'\n",
            " 'anti vaccine' 'anti vaxxers' 'antibody' 'ap' 'apparently' 'approval'\n",
            " 'approve' 'area' 'arm' 'article' 'ask' 'astrazeneca' 'attend' 'autism'\n",
            " 'autism http' 'autism vaccine' 'autistic' 'available' 'average'\n",
            " 'average people' 'avoid' 'away' 'awesome' 'baby' 'bad' 'bart' 'base' 'bc'\n",
            " 'bear' 'begin' 'belief' 'believe' 'benefit' 'best' 'bet' 'biden' 'big'\n",
            " 'billion' 'biontech' 'bit' 'bit ly' 'bitch' 'black' 'blame' 'blaming'\n",
            " 'blaming immigrant' 'blood' 'body' 'boost' 'boost health' 'booster'\n",
            " 'border' 'boy' 'brain' 'break' 'breaking' 'bring' 'bring ancestor'\n",
            " 'build' 'business' 'buy' 'ca' 'california' 'california measles' 'cancer'\n",
            " 'candidate' 'care' 'case' 'case confirm' 'case http' 'case link'\n",
            " 'case measles' 'case report' 'catch' 'catch measles' 'cause'\n",
            " 'cause autism' 'cdc' 'cdc say' 'cdcgov' 'cdcwhistleblower' 'celebrate'\n",
            " 'center' 'center http' 'certain' 'challenge' 'chance' 'change' 'check'\n",
            " 'chicago' 'chicken' 'chicken pox' 'child' 'child die' 'child http'\n",
            " 'child vaccinate' 'child vaccination' 'child vaccine' 'childhood' 'china'\n",
            " 'choice' 'choose' 'choose vaccinate' 'city' 'claim' 'class' 'clear'\n",
            " 'clinic' 'clinical' 'clinical trial' 'close' 'club' 'cnn' 'cnnbrk' 'cold'\n",
            " 'college' 'com' 'come' 'common' 'community' 'company' 'compare'\n",
            " 'complain' 'complain live' 'concern' 'confirm' 'confirmed' 'consider'\n",
            " 'conspiracy' 'contagious' 'contain' 'continue' 'contract' 'control'\n",
            " 'corona' 'coronavirus' 'coronavirus vaccine' 'cost' 'cough' 'country'\n",
            " 'county' 'county health' 'county http' 'course' 'cover' 'covid'\n",
            " 'covid 19' 'covid vaccine' 'covid19' 'covid19 http' 'covid19 vaccine'\n",
            " 'covidvaccine' 'crazy' 'create' 'crisis' 'cross' 'cure' 'current' 'cut'\n",
            " 'damage' 'damn' 'danger' 'dangerous' 'data' 'date' 'daughter' 'day'\n",
            " 'day care' 'dc' 'dc dj' 'dead' 'deadly' 'deal' 'death' 'debate' 'decide'\n",
            " 'decision' 'definitely' 'department' 'dept' 'develop' 'development'\n",
            " 'diagnose' 'diagnose measles' 'die' 'die measles' 'different' 'director'\n",
            " 'discuss' 'disease' 'disease http' 'disease vaccine' 'diseases'\n",
            " 'diseases bring' 'disney' 'disneyland' 'disneyland http'\n",
            " 'disneyland measles' 'distribution' 'district' 'dj' 'dna' 'doctor' 'dog'\n",
            " 'don' 'dont' 'dos' 'dose' 'dr' 'drive' 'drop' 'drug' 'dumb'\n",
            " 'dupontcircle' 'early' 'earth' 'eat' 'ebola' 'ebola measles'\n",
            " 'ebola vaccine' 'educate' 'effect' 'effective' 'effective http'\n",
            " 'efficacy' 'effort' 'election' 'eliminate' 'emergency' 'employee'\n",
            " 'encourage' 'end' 'epidemic' 'eradicate' 'especially' 'evidence'\n",
            " 'exemption' 'exist' 'expect' 'expert' 'explain' 'expose' 'expose measles'\n",
            " 'exposure' 'face' 'facebook' 'fact' 'fake' 'fall' 'false' 'family' 'far'\n",
            " 'fast' 'fda' 'fear' 'feel' 'feel like' 'fever' 'fight' 'finally' 'fine'\n",
            " 'flu' 'flu season' 'flu shot' 'flu vaccination' 'flu vaccine' 'folk'\n",
            " 'follow' 'food' 'force' 'forever' 'forget' 'form' 'free' 'friday'\n",
            " 'friend' 'fuck' 'fucking' 'fully' 'fun' 'fund' 'funny' 'future' 'game'\n",
            " 'gate' 'gay' 'general' 'german' 'girl' 'glad' 'global' 'god' 'gon'\n",
            " 'gon na' 'good' 'good news' 'gop' 'gop stop' 'gov' 'government' 'great'\n",
            " 'great news' 'group' 'grow' 'gt' 'guess' 'guy' 'half' 'hand' 'happen'\n",
            " 'happy' 'hard' 'harm' 'hate' 'head' 'health' 'health care'\n",
            " 'health department' 'health dept' 'health http' 'health official'\n",
            " 'healthcare' 'healthy' 'hear' 'heart' 'hell' 'help' 'hepatitis' 'herd'\n",
            " 'herd immunity' 'hey' 'high' 'high school' 'highly' 'hit' 'hiv'\n",
            " 'hiv vaccine' 'hold' 'home' 'hope' 'hospital' 'host' 'hot' 'hour' 'house'\n",
            " 'hpv' 'hpv vaccine' 'http' 'http bit' 'https' 'huge' 'human' 'hurt'\n",
            " 'idea' 'idiot' 'ill' 'illegal' 'illinois' 'illness' 'im' 'immigrant'\n",
            " 'immigrant ebola' 'immune' 'immunity' 'immunity boost' 'immunity improve'\n",
            " 'immunization' 'immunization http' 'immunize' 'impact' 'important'\n",
            " 'improve' 'improve overall' 'include' 'increase' 'increase immunity'\n",
            " 'india' 'infant' 'infect' 'infection' 'infectious' 'infectious disease'\n",
            " 'influenza' 'info' 'information' 'ingredient' 'inject' 'injury' 'instead'\n",
            " 'insurance' 'investigate' 'issue' 'jab' 'jenny' 'jenny mccarthy'\n",
            " 'jennymccarthy' 'job' 'join' 'just' 'key' 'kid' 'kid die' 'kid http'\n",
            " 'kid measles' 'kid vaccinate' 'kid vaccine' 'kill' 'kind' 'king' 'know'\n",
            " 'la' 'lack' 'large' 'late' 'later' 'law' 'lawmaker' 'lead' 'learn'\n",
            " 'leave' 'let' 'level' 'liability' 'lie' 'life' 'light' 'like'\n",
            " 'like measles' 'likely' 'line' 'link' 'link autism' 'link mmr' 'list'\n",
            " 'listen' 'literally' 'little' 'live' 'live long' 'live longer' 'll'\n",
            " 'local' 'lol' 'long' 'long release' 'long term' 'longer' 'longer release'\n",
            " 'look' 'look like' 'lose' 'lot' 'love' 'low' 'lt' 'ly' 'madhatterdc'\n",
            " 'madhatterdc mmr' 'major' 'make' 'make sure' 'malaria' 'man' 'mandatory'\n",
            " 'market' 'mask' 'mass' 'matter' 'maybe' 'mccarthy' 'mean' 'measles'\n",
            " 'measles case' 'measles confirm' 'measles diseases' 'measles disneyland'\n",
            " 'measles exposure' 'measles http' 'measles mumps' 'measles outbreak'\n",
            " 'measles spread' 'measles vaccination' 'measles vaccine' 'measles virus'\n",
            " 'measlesoutbreak' 'medical' 'medicine' 'medium' 'meet' 'meningitis'\n",
            " 'meningitis vaccine' 'mercury' 'million' 'mind' 'minute' 'miss'\n",
            " 'mixmasterrod' 'mmr' 'mmr dc' 'mmr http' 'mmr shot' 'mmr vaccine'\n",
            " 'moderna' 'mom' 'monday' 'money' 'month' 'morning' 'moron' 'mortality'\n",
            " 'mortality rate' 'mother' 'movement' 'mrna' 'mrna vaccine' 'mt' 'mumps'\n",
            " 'mumps rubella' 'music' 'na' 'nation' 'national' 'near' 'nearly' 'need'\n",
            " 'need vaccine' 'needle' 'new' 'new vaccine' 'new york' 'news' 'news http'\n",
            " 'news vaccine' 'nice' 'night' 'non' 'normal' 'north' 'number' 'nurse'\n",
            " 'nyc' 'nytimes' 'obama' 'offer' 'offer free' 'office' 'official'\n",
            " 'official say' 'official warn' 'oh' 'ohio' 'ok' 'old' 'open' 'opinion'\n",
            " 'opt' 'order' 'oregon' 'outbreak' 'outbreak http' 'outbreak measles'\n",
            " 'outside' 'overall' 'overall health' 'oxford' 'pakistan' 'pandemic'\n",
            " 'parent' 'parent refuse' 'parent vaccinate' 'park' 'party' 'pass' 'past'\n",
            " 'patient' 'paul' 'pay' 'pediatrician' 'people' 'people complain'\n",
            " 'people measles' 'people vaccinate' 'percent' 'person' 'personal'\n",
            " 'pertussis' 'pfizer' 'pfizer biontech' 'pfizer covid' 'pfizer say'\n",
            " 'pfizer vaccine' 'pharma' 'pharmaceutical' 'phase' 'photoshop' 'pic'\n",
            " 'piss' 'place' 'plan' 'play' 'point' 'poison' 'polio' 'polio vaccine'\n",
            " 'poor' 'poor baby' 'population' 'positive' 'possible' 'possible measles'\n",
            " 'post' 'potential' 'pox' 'ppl' 'president' 'pretty' 'prevent'\n",
            " 'preventable' 'preventable disease' 'prevention' 'pro' 'probably'\n",
            " 'problem' 'produce' 'program' 'promise' 'proof' 'protect' 'protect kid'\n",
            " 'protection' 'prove' 'provide' 'provide immunity' 'public'\n",
            " 'public health' 'publichealth' 'push' 'quarantine' 'question' 'raise'\n",
            " 'rate' 'reach' 'reaction' 'read' 'ready' 'real' 'realdonaldtrump'\n",
            " 'really' 'reason' 'receive' 'recent' 'recommend' 'record' 'reduce'\n",
            " 'refuse' 'refuse vaccinate' 'relate' 'release' 'release tension'\n",
            " 'religious' 'remember' 'remove' 'report' 'require' 'requirement'\n",
            " 'research' 'researcher' 'resident' 'response' 'rest' 'result' 'return'\n",
            " 'right' 'rise' 'risk' 'roll' 'round' 'rt' 'rubella' 'rule' 'run' 'sad'\n",
            " 'safe' 'safety' 'san' 'saturday' 'save' 'save life' 'saw' 'say'\n",
            " 'say http' 'say measles' 'say vaccine' 'scar' 'scare' 'scary' 'schedule'\n",
            " 'school' 'school http' 'school immunization' 'school vaccine' 'science'\n",
            " 'scientist' 'season' 'seattle' 'second' 'seek' 'send' 'sense' 'seriously'\n",
            " 'service' 'set' 'share' 'shit' 'shoot' 'shot' 'shotatlife' 'sick' 'sign'\n",
            " 'simple' 'single' 'slowly' 'small' 'social' 'society' 'son' 'soon'\n",
            " 'sorry' 'sound' 'south' 'speak' 'speed' 'spread' 'stage' 'stand' 'start'\n",
            " 'state' 'state http' 'stay' 'step' 'stop' 'stop blaming' 'story' 'stress'\n",
            " 'strong' 'student' 'study' 'stuff' 'stupid' 'success' 'suffer' 'suggest'\n",
            " 'super' 'supply' 'support' 'sure' 'ta' 'talk' 'team' 'tell' 'tension'\n",
            " 'tension increase' 'term' 'test' 'texas' 'thank' 'thanks' 'theory'\n",
            " 'thing' 'think' 'think measles' 'think vaccine' 'thousand' 'threat'\n",
            " 'time' 'today' 'tomorrow' 'tonight' 'total' 'travel' 'treat' 'treatment'\n",
            " 'trial' 'true' 'trump' 'trust' 'truth' 'trutherbot' 'try' 'tuesday'\n",
            " 'turn' 'tweet' 'type' 'uberfacts' 'uberfacts average' 'uk' 'understand'\n",
            " 'university' 'unless' 'unvaccinated' 'update' 'ur' 'urge' 'usa' 'use'\n",
            " 'user' 'vaccinate' 'vaccinate child' 'vaccinate http' 'vaccinate kid'\n",
            " 'vaccinate measles' 'vaccinated' 'vaccinateyourkids' 'vaccination'\n",
            " 'vaccination cause' 'vaccination http' 'vaccination rate' 'vaccine'\n",
            " 'vaccine 90' 'vaccine amp' 'vaccine autism' 'vaccine available'\n",
            " 'vaccine candidate' 'vaccine cause' 'vaccine child' 'vaccine come'\n",
            " 'vaccine coronavirus' 'vaccine covid' 'vaccine covid19' 'vaccine develop'\n",
            " 'vaccine effective' 'vaccine exemption' 'vaccine http' 'vaccine injury'\n",
            " 'vaccine just' 'vaccine kid' 'vaccine make' 'vaccine prevent'\n",
            " 'vaccine preventable' 'vaccine safe' 'vaccine trial' 'vaccine vaccine'\n",
            " 'vaccine work' 'vaccines' 'vaccineswork' 'vax' 'vaxxers' 've' 'video'\n",
            " 'view' 'virus' 'visit' 'volunteer' 'vote' 'wait' 'wake' 'walk' 'wan'\n",
            " 'wan na' 'want' 'want vaccinate' 'warn' 'washington' 'watch' 'way' 'wear'\n",
            " 'wear mask' 'wednesday' 'week' 'west' 'white' 'whooping' 'whooping cough'\n",
            " 'win' 'wish' 'wo' 'woman' 'wonder' 'word' 'work' 'worker' 'world'\n",
            " 'worldwide' 'worry' 'worth' 'wow' 'wrong' 'wtf' 'yeah' 'year' 'year http'\n",
            " 'year old' 'yes' 'yesterday' 'yo' 'york' 'young' 'yr']\n",
            "(2282, 959)\n"
          ]
        }
      ],
      "source": [
        "tfidf_vectorizer = TfidfVectorizer(ngram_range=(1, 2), max_df=1.0, min_df=0.002, stop_words='english', lowercase=True)\n",
        "\n",
        "tfidf_vectorizer.fit(X_train['tweet'])\n",
        "\n",
        "tfidf_train = tfidf_vectorizer.transform(X_train['tweet'])\n",
        "print(tfidf_train.shape)\n",
        "print(tfidf_vectorizer.get_feature_names_out())\n",
        "tfidf_test = tfidf_vectorizer.transform(X_validation['tweet'])\n",
        "print(tfidf_test.shape)"
      ]
    },
    {
      "cell_type": "markdown",
      "metadata": {
        "id": "FRe9HV3XJ5sy"
      },
      "source": [
        "### Hashing Vectorizer"
      ]
    },
    {
      "cell_type": "code",
      "execution_count": null,
      "metadata": {
        "colab": {
          "base_uri": "https://localhost:8080/"
        },
        "id": "w3UkC4LbIqi9",
        "outputId": "37cbcb03-bfa1-4915-ba02-af8971e4e165"
      },
      "outputs": [
        {
          "name": "stdout",
          "output_type": "stream",
          "text": [
            "(15976, 32768)\n",
            "(2282, 32768)\n"
          ]
        }
      ],
      "source": [
        "from sklearn.feature_extraction.text import HashingVectorizer\n",
        "\n",
        "hash_vectorizer = HashingVectorizer(ngram_range=(1, 2), stop_words='english', n_features=2**15)\n",
        "\n",
        "hash_vectorizer.fit(X_train['tweet'])\n",
        "\n",
        "hash_train = hash_vectorizer.transform(X_train['tweet'])\n",
        "print(hash_train.shape)\n",
        "# print(hash_train)\n",
        "\n",
        "hash_test = hash_vectorizer.transform(X_validation['tweet'])\n",
        "print(hash_test.shape)"
      ]
    },
    {
      "cell_type": "markdown",
      "metadata": {
        "id": "uG6J77FwTuzI"
      },
      "source": [
        "## Softmax Regression\n"
      ]
    },
    {
      "cell_type": "markdown",
      "metadata": {
        "id": "bUWFiY8R_I70"
      },
      "source": [
        "Chose bow, tf-idf or hash.\n"
      ]
    },
    {
      "cell_type": "code",
      "execution_count": null,
      "metadata": {
        "id": "eGv2YhNBbJsk"
      },
      "outputs": [],
      "source": [
        "chosen_test = tfidf_test\n",
        "chosen_train = tfidf_train"
      ]
    },
    {
      "cell_type": "markdown",
      "metadata": {
        "id": "WeQuV1rq_TUU"
      },
      "source": [
        "Train the model."
      ]
    },
    {
      "cell_type": "code",
      "execution_count": null,
      "metadata": {
        "colab": {
          "base_uri": "https://localhost:8080/"
        },
        "id": "DR_PGb7AUXLl",
        "outputId": "4237a6cf-4808-4a00-ca03-61f3fd02c7b5"
      },
      "outputs": [
        {
          "data": {
            "text/plain": [
              "LogisticRegression(max_iter=1000, multi_class='multinomial', penalty='l1',\n",
              "                   solver='saga')"
            ]
          },
          "execution_count": 329,
          "metadata": {},
          "output_type": "execute_result"
        }
      ],
      "source": [
        "softReg = LogisticRegression(multi_class = 'multinomial', max_iter=1000, solver='saga', C=1.0, penalty='l1')\n",
        "softReg.fit(chosen_train, Y_train)"
      ]
    },
    {
      "cell_type": "markdown",
      "metadata": {
        "id": "0XJjR7xfIgzA"
      },
      "source": [
        "Large grid search to find the best parameters."
      ]
    },
    {
      "cell_type": "code",
      "execution_count": null,
      "metadata": {
        "colab": {
          "base_uri": "https://localhost:8080/"
        },
        "id": "hxpddcnG_Wcd",
        "outputId": "d0ce099f-a6e9-43e0-8127-c684827fedbe"
      },
      "outputs": [
        {
          "name": "stderr",
          "output_type": "stream",
          "text": [
            "/usr/local/lib/python3.7/dist-packages/sklearn/linear_model/_logistic.py:1484: UserWarning: Setting penalty='none' will ignore the C and l1_ratio parameters\n",
            "  \"Setting penalty='none' will ignore the C and l1_ratio parameters\"\n",
            "/usr/local/lib/python3.7/dist-packages/sklearn/linear_model/_sag.py:354: ConvergenceWarning: The max_iter was reached which means the coef_ did not converge\n",
            "  ConvergenceWarning,\n",
            "/usr/local/lib/python3.7/dist-packages/sklearn/linear_model/_logistic.py:1484: UserWarning: Setting penalty='none' will ignore the C and l1_ratio parameters\n",
            "  \"Setting penalty='none' will ignore the C and l1_ratio parameters\"\n",
            "/usr/local/lib/python3.7/dist-packages/sklearn/linear_model/_sag.py:354: ConvergenceWarning: The max_iter was reached which means the coef_ did not converge\n",
            "  ConvergenceWarning,\n",
            "/usr/local/lib/python3.7/dist-packages/sklearn/linear_model/_logistic.py:1484: UserWarning: Setting penalty='none' will ignore the C and l1_ratio parameters\n",
            "  \"Setting penalty='none' will ignore the C and l1_ratio parameters\"\n",
            "/usr/local/lib/python3.7/dist-packages/sklearn/linear_model/_sag.py:354: ConvergenceWarning: The max_iter was reached which means the coef_ did not converge\n",
            "  ConvergenceWarning,\n",
            "/usr/local/lib/python3.7/dist-packages/sklearn/linear_model/_logistic.py:1484: UserWarning: Setting penalty='none' will ignore the C and l1_ratio parameters\n",
            "  \"Setting penalty='none' will ignore the C and l1_ratio parameters\"\n",
            "/usr/local/lib/python3.7/dist-packages/sklearn/linear_model/_sag.py:354: ConvergenceWarning: The max_iter was reached which means the coef_ did not converge\n",
            "  ConvergenceWarning,\n",
            "/usr/local/lib/python3.7/dist-packages/sklearn/linear_model/_logistic.py:1484: UserWarning: Setting penalty='none' will ignore the C and l1_ratio parameters\n",
            "  \"Setting penalty='none' will ignore the C and l1_ratio parameters\"\n",
            "/usr/local/lib/python3.7/dist-packages/sklearn/linear_model/_sag.py:354: ConvergenceWarning: The max_iter was reached which means the coef_ did not converge\n",
            "  ConvergenceWarning,\n",
            "/usr/local/lib/python3.7/dist-packages/sklearn/linear_model/_logistic.py:1484: UserWarning: Setting penalty='none' will ignore the C and l1_ratio parameters\n",
            "  \"Setting penalty='none' will ignore the C and l1_ratio parameters\"\n",
            "/usr/local/lib/python3.7/dist-packages/sklearn/linear_model/_sag.py:354: ConvergenceWarning: The max_iter was reached which means the coef_ did not converge\n",
            "  ConvergenceWarning,\n",
            "/usr/local/lib/python3.7/dist-packages/sklearn/linear_model/_logistic.py:1484: UserWarning: Setting penalty='none' will ignore the C and l1_ratio parameters\n",
            "  \"Setting penalty='none' will ignore the C and l1_ratio parameters\"\n",
            "/usr/local/lib/python3.7/dist-packages/sklearn/linear_model/_sag.py:354: ConvergenceWarning: The max_iter was reached which means the coef_ did not converge\n",
            "  ConvergenceWarning,\n",
            "/usr/local/lib/python3.7/dist-packages/sklearn/linear_model/_logistic.py:1484: UserWarning: Setting penalty='none' will ignore the C and l1_ratio parameters\n",
            "  \"Setting penalty='none' will ignore the C and l1_ratio parameters\"\n",
            "/usr/local/lib/python3.7/dist-packages/sklearn/linear_model/_sag.py:354: ConvergenceWarning: The max_iter was reached which means the coef_ did not converge\n",
            "  ConvergenceWarning,\n",
            "/usr/local/lib/python3.7/dist-packages/sklearn/linear_model/_logistic.py:1484: UserWarning: Setting penalty='none' will ignore the C and l1_ratio parameters\n",
            "  \"Setting penalty='none' will ignore the C and l1_ratio parameters\"\n",
            "/usr/local/lib/python3.7/dist-packages/sklearn/linear_model/_sag.py:354: ConvergenceWarning: The max_iter was reached which means the coef_ did not converge\n",
            "  ConvergenceWarning,\n",
            "/usr/local/lib/python3.7/dist-packages/sklearn/linear_model/_logistic.py:1484: UserWarning: Setting penalty='none' will ignore the C and l1_ratio parameters\n",
            "  \"Setting penalty='none' will ignore the C and l1_ratio parameters\"\n",
            "/usr/local/lib/python3.7/dist-packages/sklearn/linear_model/_sag.py:354: ConvergenceWarning: The max_iter was reached which means the coef_ did not converge\n",
            "  ConvergenceWarning,\n",
            "/usr/local/lib/python3.7/dist-packages/sklearn/linear_model/_logistic.py:1484: UserWarning: Setting penalty='none' will ignore the C and l1_ratio parameters\n",
            "  \"Setting penalty='none' will ignore the C and l1_ratio parameters\"\n",
            "/usr/local/lib/python3.7/dist-packages/sklearn/linear_model/_sag.py:354: ConvergenceWarning: The max_iter was reached which means the coef_ did not converge\n",
            "  ConvergenceWarning,\n",
            "/usr/local/lib/python3.7/dist-packages/sklearn/linear_model/_logistic.py:1484: UserWarning: Setting penalty='none' will ignore the C and l1_ratio parameters\n",
            "  \"Setting penalty='none' will ignore the C and l1_ratio parameters\"\n",
            "/usr/local/lib/python3.7/dist-packages/sklearn/linear_model/_sag.py:354: ConvergenceWarning: The max_iter was reached which means the coef_ did not converge\n",
            "  ConvergenceWarning,\n",
            "/usr/local/lib/python3.7/dist-packages/sklearn/linear_model/_logistic.py:1484: UserWarning: Setting penalty='none' will ignore the C and l1_ratio parameters\n",
            "  \"Setting penalty='none' will ignore the C and l1_ratio parameters\"\n",
            "/usr/local/lib/python3.7/dist-packages/sklearn/linear_model/_sag.py:354: ConvergenceWarning: The max_iter was reached which means the coef_ did not converge\n",
            "  ConvergenceWarning,\n",
            "/usr/local/lib/python3.7/dist-packages/sklearn/linear_model/_logistic.py:1484: UserWarning: Setting penalty='none' will ignore the C and l1_ratio parameters\n",
            "  \"Setting penalty='none' will ignore the C and l1_ratio parameters\"\n",
            "/usr/local/lib/python3.7/dist-packages/sklearn/linear_model/_sag.py:354: ConvergenceWarning: The max_iter was reached which means the coef_ did not converge\n",
            "  ConvergenceWarning,\n",
            "/usr/local/lib/python3.7/dist-packages/sklearn/linear_model/_logistic.py:1484: UserWarning: Setting penalty='none' will ignore the C and l1_ratio parameters\n",
            "  \"Setting penalty='none' will ignore the C and l1_ratio parameters\"\n",
            "/usr/local/lib/python3.7/dist-packages/sklearn/linear_model/_sag.py:354: ConvergenceWarning: The max_iter was reached which means the coef_ did not converge\n",
            "  ConvergenceWarning,\n",
            "/usr/local/lib/python3.7/dist-packages/sklearn/linear_model/_sag.py:354: ConvergenceWarning: The max_iter was reached which means the coef_ did not converge\n",
            "  ConvergenceWarning,\n",
            "/usr/local/lib/python3.7/dist-packages/sklearn/linear_model/_sag.py:354: ConvergenceWarning: The max_iter was reached which means the coef_ did not converge\n",
            "  ConvergenceWarning,\n",
            "/usr/local/lib/python3.7/dist-packages/sklearn/linear_model/_sag.py:354: ConvergenceWarning: The max_iter was reached which means the coef_ did not converge\n",
            "  ConvergenceWarning,\n",
            "/usr/local/lib/python3.7/dist-packages/sklearn/linear_model/_sag.py:354: ConvergenceWarning: The max_iter was reached which means the coef_ did not converge\n",
            "  ConvergenceWarning,\n",
            "/usr/local/lib/python3.7/dist-packages/sklearn/linear_model/_sag.py:354: ConvergenceWarning: The max_iter was reached which means the coef_ did not converge\n",
            "  ConvergenceWarning,\n",
            "/usr/local/lib/python3.7/dist-packages/sklearn/linear_model/_logistic.py:1484: UserWarning: Setting penalty='none' will ignore the C and l1_ratio parameters\n",
            "  \"Setting penalty='none' will ignore the C and l1_ratio parameters\"\n",
            "/usr/local/lib/python3.7/dist-packages/sklearn/linear_model/_logistic.py:818: ConvergenceWarning: lbfgs failed to converge (status=1):\n",
            "STOP: TOTAL NO. of ITERATIONS REACHED LIMIT.\n",
            "\n",
            "Increase the number of iterations (max_iter) or scale the data as shown in:\n",
            "    https://scikit-learn.org/stable/modules/preprocessing.html\n",
            "Please also refer to the documentation for alternative solver options:\n",
            "    https://scikit-learn.org/stable/modules/linear_model.html#logistic-regression\n",
            "  extra_warning_msg=_LOGISTIC_SOLVER_CONVERGENCE_MSG,\n",
            "/usr/local/lib/python3.7/dist-packages/sklearn/linear_model/_logistic.py:1484: UserWarning: Setting penalty='none' will ignore the C and l1_ratio parameters\n",
            "  \"Setting penalty='none' will ignore the C and l1_ratio parameters\"\n",
            "/usr/local/lib/python3.7/dist-packages/sklearn/linear_model/_logistic.py:1484: UserWarning: Setting penalty='none' will ignore the C and l1_ratio parameters\n",
            "  \"Setting penalty='none' will ignore the C and l1_ratio parameters\"\n",
            "/usr/local/lib/python3.7/dist-packages/sklearn/linear_model/_logistic.py:818: ConvergenceWarning: lbfgs failed to converge (status=1):\n",
            "STOP: TOTAL NO. of ITERATIONS REACHED LIMIT.\n",
            "\n",
            "Increase the number of iterations (max_iter) or scale the data as shown in:\n",
            "    https://scikit-learn.org/stable/modules/preprocessing.html\n",
            "Please also refer to the documentation for alternative solver options:\n",
            "    https://scikit-learn.org/stable/modules/linear_model.html#logistic-regression\n",
            "  extra_warning_msg=_LOGISTIC_SOLVER_CONVERGENCE_MSG,\n",
            "/usr/local/lib/python3.7/dist-packages/sklearn/linear_model/_logistic.py:1484: UserWarning: Setting penalty='none' will ignore the C and l1_ratio parameters\n",
            "  \"Setting penalty='none' will ignore the C and l1_ratio parameters\"\n",
            "/usr/local/lib/python3.7/dist-packages/sklearn/linear_model/_logistic.py:818: ConvergenceWarning: lbfgs failed to converge (status=1):\n",
            "STOP: TOTAL NO. of ITERATIONS REACHED LIMIT.\n",
            "\n",
            "Increase the number of iterations (max_iter) or scale the data as shown in:\n",
            "    https://scikit-learn.org/stable/modules/preprocessing.html\n",
            "Please also refer to the documentation for alternative solver options:\n",
            "    https://scikit-learn.org/stable/modules/linear_model.html#logistic-regression\n",
            "  extra_warning_msg=_LOGISTIC_SOLVER_CONVERGENCE_MSG,\n",
            "/usr/local/lib/python3.7/dist-packages/sklearn/linear_model/_logistic.py:1484: UserWarning: Setting penalty='none' will ignore the C and l1_ratio parameters\n",
            "  \"Setting penalty='none' will ignore the C and l1_ratio parameters\"\n",
            "/usr/local/lib/python3.7/dist-packages/sklearn/linear_model/_logistic.py:818: ConvergenceWarning: lbfgs failed to converge (status=1):\n",
            "STOP: TOTAL NO. of ITERATIONS REACHED LIMIT.\n",
            "\n",
            "Increase the number of iterations (max_iter) or scale the data as shown in:\n",
            "    https://scikit-learn.org/stable/modules/preprocessing.html\n",
            "Please also refer to the documentation for alternative solver options:\n",
            "    https://scikit-learn.org/stable/modules/linear_model.html#logistic-regression\n",
            "  extra_warning_msg=_LOGISTIC_SOLVER_CONVERGENCE_MSG,\n",
            "/usr/local/lib/python3.7/dist-packages/sklearn/linear_model/_logistic.py:1484: UserWarning: Setting penalty='none' will ignore the C and l1_ratio parameters\n",
            "  \"Setting penalty='none' will ignore the C and l1_ratio parameters\"\n",
            "/usr/local/lib/python3.7/dist-packages/sklearn/linear_model/_logistic.py:818: ConvergenceWarning: lbfgs failed to converge (status=1):\n",
            "STOP: TOTAL NO. of ITERATIONS REACHED LIMIT.\n",
            "\n",
            "Increase the number of iterations (max_iter) or scale the data as shown in:\n",
            "    https://scikit-learn.org/stable/modules/preprocessing.html\n",
            "Please also refer to the documentation for alternative solver options:\n",
            "    https://scikit-learn.org/stable/modules/linear_model.html#logistic-regression\n",
            "  extra_warning_msg=_LOGISTIC_SOLVER_CONVERGENCE_MSG,\n",
            "/usr/local/lib/python3.7/dist-packages/sklearn/linear_model/_logistic.py:1484: UserWarning: Setting penalty='none' will ignore the C and l1_ratio parameters\n",
            "  \"Setting penalty='none' will ignore the C and l1_ratio parameters\"\n",
            "/usr/local/lib/python3.7/dist-packages/sklearn/linear_model/_logistic.py:1484: UserWarning: Setting penalty='none' will ignore the C and l1_ratio parameters\n",
            "  \"Setting penalty='none' will ignore the C and l1_ratio parameters\"\n",
            "/usr/local/lib/python3.7/dist-packages/sklearn/linear_model/_logistic.py:818: ConvergenceWarning: lbfgs failed to converge (status=1):\n",
            "STOP: TOTAL NO. of ITERATIONS REACHED LIMIT.\n",
            "\n",
            "Increase the number of iterations (max_iter) or scale the data as shown in:\n",
            "    https://scikit-learn.org/stable/modules/preprocessing.html\n",
            "Please also refer to the documentation for alternative solver options:\n",
            "    https://scikit-learn.org/stable/modules/linear_model.html#logistic-regression\n",
            "  extra_warning_msg=_LOGISTIC_SOLVER_CONVERGENCE_MSG,\n",
            "/usr/local/lib/python3.7/dist-packages/sklearn/linear_model/_logistic.py:1484: UserWarning: Setting penalty='none' will ignore the C and l1_ratio parameters\n",
            "  \"Setting penalty='none' will ignore the C and l1_ratio parameters\"\n",
            "/usr/local/lib/python3.7/dist-packages/sklearn/linear_model/_logistic.py:818: ConvergenceWarning: lbfgs failed to converge (status=1):\n",
            "STOP: TOTAL NO. of ITERATIONS REACHED LIMIT.\n",
            "\n",
            "Increase the number of iterations (max_iter) or scale the data as shown in:\n",
            "    https://scikit-learn.org/stable/modules/preprocessing.html\n",
            "Please also refer to the documentation for alternative solver options:\n",
            "    https://scikit-learn.org/stable/modules/linear_model.html#logistic-regression\n",
            "  extra_warning_msg=_LOGISTIC_SOLVER_CONVERGENCE_MSG,\n",
            "/usr/local/lib/python3.7/dist-packages/sklearn/linear_model/_logistic.py:1484: UserWarning: Setting penalty='none' will ignore the C and l1_ratio parameters\n",
            "  \"Setting penalty='none' will ignore the C and l1_ratio parameters\"\n",
            "/usr/local/lib/python3.7/dist-packages/sklearn/linear_model/_logistic.py:818: ConvergenceWarning: lbfgs failed to converge (status=1):\n",
            "STOP: TOTAL NO. of ITERATIONS REACHED LIMIT.\n",
            "\n",
            "Increase the number of iterations (max_iter) or scale the data as shown in:\n",
            "    https://scikit-learn.org/stable/modules/preprocessing.html\n",
            "Please also refer to the documentation for alternative solver options:\n",
            "    https://scikit-learn.org/stable/modules/linear_model.html#logistic-regression\n",
            "  extra_warning_msg=_LOGISTIC_SOLVER_CONVERGENCE_MSG,\n",
            "/usr/local/lib/python3.7/dist-packages/sklearn/linear_model/_logistic.py:1484: UserWarning: Setting penalty='none' will ignore the C and l1_ratio parameters\n",
            "  \"Setting penalty='none' will ignore the C and l1_ratio parameters\"\n",
            "/usr/local/lib/python3.7/dist-packages/sklearn/linear_model/_logistic.py:818: ConvergenceWarning: lbfgs failed to converge (status=1):\n",
            "STOP: TOTAL NO. of ITERATIONS REACHED LIMIT.\n",
            "\n",
            "Increase the number of iterations (max_iter) or scale the data as shown in:\n",
            "    https://scikit-learn.org/stable/modules/preprocessing.html\n",
            "Please also refer to the documentation for alternative solver options:\n",
            "    https://scikit-learn.org/stable/modules/linear_model.html#logistic-regression\n",
            "  extra_warning_msg=_LOGISTIC_SOLVER_CONVERGENCE_MSG,\n",
            "/usr/local/lib/python3.7/dist-packages/sklearn/linear_model/_logistic.py:1484: UserWarning: Setting penalty='none' will ignore the C and l1_ratio parameters\n",
            "  \"Setting penalty='none' will ignore the C and l1_ratio parameters\"\n",
            "/usr/local/lib/python3.7/dist-packages/sklearn/linear_model/_logistic.py:1484: UserWarning: Setting penalty='none' will ignore the C and l1_ratio parameters\n",
            "  \"Setting penalty='none' will ignore the C and l1_ratio parameters\"\n",
            "/usr/local/lib/python3.7/dist-packages/sklearn/linear_model/_logistic.py:818: ConvergenceWarning: lbfgs failed to converge (status=1):\n",
            "STOP: TOTAL NO. of ITERATIONS REACHED LIMIT.\n",
            "\n",
            "Increase the number of iterations (max_iter) or scale the data as shown in:\n",
            "    https://scikit-learn.org/stable/modules/preprocessing.html\n",
            "Please also refer to the documentation for alternative solver options:\n",
            "    https://scikit-learn.org/stable/modules/linear_model.html#logistic-regression\n",
            "  extra_warning_msg=_LOGISTIC_SOLVER_CONVERGENCE_MSG,\n",
            "/usr/local/lib/python3.7/dist-packages/sklearn/linear_model/_logistic.py:1484: UserWarning: Setting penalty='none' will ignore the C and l1_ratio parameters\n",
            "  \"Setting penalty='none' will ignore the C and l1_ratio parameters\"\n",
            "/usr/local/lib/python3.7/dist-packages/sklearn/linear_model/_logistic.py:818: ConvergenceWarning: lbfgs failed to converge (status=1):\n",
            "STOP: TOTAL NO. of ITERATIONS REACHED LIMIT.\n",
            "\n",
            "Increase the number of iterations (max_iter) or scale the data as shown in:\n",
            "    https://scikit-learn.org/stable/modules/preprocessing.html\n",
            "Please also refer to the documentation for alternative solver options:\n",
            "    https://scikit-learn.org/stable/modules/linear_model.html#logistic-regression\n",
            "  extra_warning_msg=_LOGISTIC_SOLVER_CONVERGENCE_MSG,\n",
            "/usr/local/lib/python3.7/dist-packages/sklearn/linear_model/_logistic.py:1484: UserWarning: Setting penalty='none' will ignore the C and l1_ratio parameters\n",
            "  \"Setting penalty='none' will ignore the C and l1_ratio parameters\"\n",
            "/usr/local/lib/python3.7/dist-packages/sklearn/linear_model/_logistic.py:818: ConvergenceWarning: lbfgs failed to converge (status=1):\n",
            "STOP: TOTAL NO. of ITERATIONS REACHED LIMIT.\n",
            "\n",
            "Increase the number of iterations (max_iter) or scale the data as shown in:\n",
            "    https://scikit-learn.org/stable/modules/preprocessing.html\n",
            "Please also refer to the documentation for alternative solver options:\n",
            "    https://scikit-learn.org/stable/modules/linear_model.html#logistic-regression\n",
            "  extra_warning_msg=_LOGISTIC_SOLVER_CONVERGENCE_MSG,\n",
            "/usr/local/lib/python3.7/dist-packages/sklearn/linear_model/_logistic.py:818: ConvergenceWarning: lbfgs failed to converge (status=1):\n",
            "STOP: TOTAL NO. of ITERATIONS REACHED LIMIT.\n",
            "\n",
            "Increase the number of iterations (max_iter) or scale the data as shown in:\n",
            "    https://scikit-learn.org/stable/modules/preprocessing.html\n",
            "Please also refer to the documentation for alternative solver options:\n",
            "    https://scikit-learn.org/stable/modules/linear_model.html#logistic-regression\n",
            "  extra_warning_msg=_LOGISTIC_SOLVER_CONVERGENCE_MSG,\n",
            "/usr/local/lib/python3.7/dist-packages/sklearn/linear_model/_logistic.py:818: ConvergenceWarning: lbfgs failed to converge (status=1):\n",
            "STOP: TOTAL NO. of ITERATIONS REACHED LIMIT.\n",
            "\n",
            "Increase the number of iterations (max_iter) or scale the data as shown in:\n",
            "    https://scikit-learn.org/stable/modules/preprocessing.html\n",
            "Please also refer to the documentation for alternative solver options:\n",
            "    https://scikit-learn.org/stable/modules/linear_model.html#logistic-regression\n",
            "  extra_warning_msg=_LOGISTIC_SOLVER_CONVERGENCE_MSG,\n",
            "/usr/local/lib/python3.7/dist-packages/sklearn/linear_model/_logistic.py:818: ConvergenceWarning: lbfgs failed to converge (status=1):\n",
            "STOP: TOTAL NO. of ITERATIONS REACHED LIMIT.\n",
            "\n",
            "Increase the number of iterations (max_iter) or scale the data as shown in:\n",
            "    https://scikit-learn.org/stable/modules/preprocessing.html\n",
            "Please also refer to the documentation for alternative solver options:\n",
            "    https://scikit-learn.org/stable/modules/linear_model.html#logistic-regression\n",
            "  extra_warning_msg=_LOGISTIC_SOLVER_CONVERGENCE_MSG,\n",
            "/usr/local/lib/python3.7/dist-packages/sklearn/linear_model/_logistic.py:818: ConvergenceWarning: lbfgs failed to converge (status=1):\n",
            "STOP: TOTAL NO. of ITERATIONS REACHED LIMIT.\n",
            "\n",
            "Increase the number of iterations (max_iter) or scale the data as shown in:\n",
            "    https://scikit-learn.org/stable/modules/preprocessing.html\n",
            "Please also refer to the documentation for alternative solver options:\n",
            "    https://scikit-learn.org/stable/modules/linear_model.html#logistic-regression\n",
            "  extra_warning_msg=_LOGISTIC_SOLVER_CONVERGENCE_MSG,\n",
            "/usr/local/lib/python3.7/dist-packages/sklearn/linear_model/_logistic.py:1484: UserWarning: Setting penalty='none' will ignore the C and l1_ratio parameters\n",
            "  \"Setting penalty='none' will ignore the C and l1_ratio parameters\"\n",
            "/usr/local/lib/python3.7/dist-packages/sklearn/linear_model/_logistic.py:1484: UserWarning: Setting penalty='none' will ignore the C and l1_ratio parameters\n",
            "  \"Setting penalty='none' will ignore the C and l1_ratio parameters\"\n",
            "/usr/local/lib/python3.7/dist-packages/sklearn/linear_model/_logistic.py:1484: UserWarning: Setting penalty='none' will ignore the C and l1_ratio parameters\n",
            "  \"Setting penalty='none' will ignore the C and l1_ratio parameters\"\n",
            "/usr/local/lib/python3.7/dist-packages/sklearn/linear_model/_logistic.py:1484: UserWarning: Setting penalty='none' will ignore the C and l1_ratio parameters\n",
            "  \"Setting penalty='none' will ignore the C and l1_ratio parameters\"\n",
            "/usr/local/lib/python3.7/dist-packages/sklearn/linear_model/_logistic.py:1484: UserWarning: Setting penalty='none' will ignore the C and l1_ratio parameters\n",
            "  \"Setting penalty='none' will ignore the C and l1_ratio parameters\"\n",
            "/usr/local/lib/python3.7/dist-packages/sklearn/linear_model/_logistic.py:1484: UserWarning: Setting penalty='none' will ignore the C and l1_ratio parameters\n",
            "  \"Setting penalty='none' will ignore the C and l1_ratio parameters\"\n",
            "/usr/local/lib/python3.7/dist-packages/sklearn/linear_model/_logistic.py:1484: UserWarning: Setting penalty='none' will ignore the C and l1_ratio parameters\n",
            "  \"Setting penalty='none' will ignore the C and l1_ratio parameters\"\n",
            "/usr/local/lib/python3.7/dist-packages/sklearn/linear_model/_logistic.py:1484: UserWarning: Setting penalty='none' will ignore the C and l1_ratio parameters\n",
            "  \"Setting penalty='none' will ignore the C and l1_ratio parameters\"\n",
            "/usr/local/lib/python3.7/dist-packages/sklearn/linear_model/_logistic.py:1484: UserWarning: Setting penalty='none' will ignore the C and l1_ratio parameters\n",
            "  \"Setting penalty='none' will ignore the C and l1_ratio parameters\"\n",
            "/usr/local/lib/python3.7/dist-packages/sklearn/linear_model/_logistic.py:1484: UserWarning: Setting penalty='none' will ignore the C and l1_ratio parameters\n",
            "  \"Setting penalty='none' will ignore the C and l1_ratio parameters\"\n",
            "/usr/local/lib/python3.7/dist-packages/sklearn/linear_model/_logistic.py:1484: UserWarning: Setting penalty='none' will ignore the C and l1_ratio parameters\n",
            "  \"Setting penalty='none' will ignore the C and l1_ratio parameters\"\n",
            "/usr/local/lib/python3.7/dist-packages/sklearn/linear_model/_logistic.py:1484: UserWarning: Setting penalty='none' will ignore the C and l1_ratio parameters\n",
            "  \"Setting penalty='none' will ignore the C and l1_ratio parameters\"\n",
            "/usr/local/lib/python3.7/dist-packages/sklearn/linear_model/_logistic.py:1484: UserWarning: Setting penalty='none' will ignore the C and l1_ratio parameters\n",
            "  \"Setting penalty='none' will ignore the C and l1_ratio parameters\"\n",
            "/usr/local/lib/python3.7/dist-packages/sklearn/linear_model/_logistic.py:1484: UserWarning: Setting penalty='none' will ignore the C and l1_ratio parameters\n",
            "  \"Setting penalty='none' will ignore the C and l1_ratio parameters\"\n",
            "/usr/local/lib/python3.7/dist-packages/sklearn/linear_model/_logistic.py:1484: UserWarning: Setting penalty='none' will ignore the C and l1_ratio parameters\n",
            "  \"Setting penalty='none' will ignore the C and l1_ratio parameters\"\n",
            "/usr/local/lib/python3.7/dist-packages/sklearn/model_selection/_validation.py:372: FitFailedWarning: \n",
            "20 fits failed out of a total of 160.\n",
            "The score on these train-test partitions for these parameters will be set to nan.\n",
            "If these failures are not expected, you can try to debug them by setting error_score='raise'.\n",
            "\n",
            "Below are more details about the failures:\n",
            "--------------------------------------------------------------------------------\n",
            "20 fits failed with the following error:\n",
            "Traceback (most recent call last):\n",
            "  File \"/usr/local/lib/python3.7/dist-packages/sklearn/model_selection/_validation.py\", line 681, in _fit_and_score\n",
            "    estimator.fit(X_train, y_train, **fit_params)\n",
            "  File \"/usr/local/lib/python3.7/dist-packages/sklearn/linear_model/_logistic.py\", line 1473, in fit\n",
            "    % self.l1_ratio\n",
            "ValueError: l1_ratio must be between 0 and 1; got (l1_ratio=None)\n",
            "\n",
            "  warnings.warn(some_fits_failed_message, FitFailedWarning)\n",
            "/usr/local/lib/python3.7/dist-packages/sklearn/model_selection/_search.py:972: UserWarning: One or more of the test scores are non-finite: [0.65786147 0.69116184        nan 0.68959717 0.69742113 0.70530771\n",
            "        nan 0.68959717 0.70643455 0.7034298         nan 0.68959717\n",
            " 0.70699769 0.70368021        nan 0.68959717 0.69116186 0.68965977\n",
            " 0.70518251 0.68965977 0.70342982 0.68965977 0.70368019 0.68965977\n",
            " 0.69116186 0.68953457 0.70537031 0.68953457 0.70342982 0.68953457\n",
            " 0.70374278 0.68953457]\n",
            "  category=UserWarning,\n"
          ]
        },
        {
          "data": {
            "text/plain": [
              "{'C': 1.0, 'penalty': 'l1', 'solver': 'saga'}"
            ]
          },
          "execution_count": 327,
          "metadata": {},
          "output_type": "execute_result"
        }
      ],
      "source": [
        "#takes a lot of time to run\n",
        "\n",
        "# from sklearn.model_selection import GridSearchCV\n",
        "\n",
        "# penalty = ['l1','l2']\n",
        "# # max_iter=[80, 100,140]\n",
        "# C = np.linspace(0.1, 1.0, num=5)\n",
        "\n",
        "# parameters = [\n",
        "#   {'solver':['saga'], 'C': np.linspace(0.1, 1.0, num=4), 'penalty': ['l1','l2','elasticnet', 'none']},\n",
        "#   {'solver':['lbfgs'], 'C': np.linspace(0.1, 1.0, num=4), 'penalty': ['l2','none']},\n",
        "#   {'solver':['newton-cg'], 'C': np.linspace(0.1, 1.0, num=4), 'penalty': ['l2', 'none']},\n",
        "#  ]\n",
        "\n",
        "\n",
        "# softReg = LogisticRegression(multi_class = 'multinomial', max_iter=1000)\n",
        "# clf_search = GridSearchCV(softReg, parameters)\n",
        "# clf_search.fit(chosen_train, Y_train)\n",
        "# clf_search.best_params_"
      ]
    },
    {
      "cell_type": "code",
      "execution_count": null,
      "metadata": {
        "colab": {
          "base_uri": "https://localhost:8080/",
          "height": 423
        },
        "id": "90L5YO3OVuq2",
        "outputId": "b992dde8-61c4-493f-d46a-a361653ca610"
      },
      "outputs": [
        {
          "data": {
            "text/html": [
              "<div>\n",
              "<style scoped>\n",
              "    .dataframe tbody tr th:only-of-type {\n",
              "        vertical-align: middle;\n",
              "    }\n",
              "\n",
              "    .dataframe tbody tr th {\n",
              "        vertical-align: top;\n",
              "    }\n",
              "\n",
              "    .dataframe thead th {\n",
              "        text-align: right;\n",
              "    }\n",
              "</style>\n",
              "<table border=\"1\" class=\"dataframe\">\n",
              "  <thead>\n",
              "    <tr style=\"text-align: right;\">\n",
              "      <th></th>\n",
              "      <th>tweet</th>\n",
              "      <th>label</th>\n",
              "      <th>predicted</th>\n",
              "    </tr>\n",
              "  </thead>\n",
              "  <tbody>\n",
              "    <tr>\n",
              "      <th>0</th>\n",
              "      <td>@ user they have a massive surge in with covid...</td>\n",
              "      <td>1</td>\n",
              "      <td>1</td>\n",
              "    </tr>\n",
              "    <tr>\n",
              "      <th>1</th>\n",
              "      <td>require vaccine for school : parent and guardi...</td>\n",
              "      <td>0</td>\n",
              "      <td>2</td>\n",
              "    </tr>\n",
              "    <tr>\n",
              "      <th>2</th>\n",
              "      <td>“ @ kcstar : two more johnson county child hav...</td>\n",
              "      <td>0</td>\n",
              "      <td>0</td>\n",
              "    </tr>\n",
              "    <tr>\n",
              "      <th>3</th>\n",
              "      <td>nv can do good . which state be the best ( and...</td>\n",
              "      <td>2</td>\n",
              "      <td>2</td>\n",
              "    </tr>\n",
              "    <tr>\n",
              "      <th>4</th>\n",
              "      <td>nothing like kill ourselves w/ our own fear mt...</td>\n",
              "      <td>2</td>\n",
              "      <td>2</td>\n",
              "    </tr>\n",
              "    <tr>\n",
              "      <th>...</th>\n",
              "      <td>...</td>\n",
              "      <td>...</td>\n",
              "      <td>...</td>\n",
              "    </tr>\n",
              "    <tr>\n",
              "      <th>2277</th>\n",
              "      <td>rt @ abc7 : number of measles case report in c...</td>\n",
              "      <td>0</td>\n",
              "      <td>0</td>\n",
              "    </tr>\n",
              "    <tr>\n",
              "      <th>2278</th>\n",
              "      <td>evidence point to the idea that `` measles aff...</td>\n",
              "      <td>0</td>\n",
              "      <td>0</td>\n",
              "    </tr>\n",
              "    <tr>\n",
              "      <th>2279</th>\n",
              "      <td>where 's @ savedyouaclick `` @ voxdotcom : why...</td>\n",
              "      <td>2</td>\n",
              "      <td>2</td>\n",
              "    </tr>\n",
              "    <tr>\n",
              "      <th>2280</th>\n",
              "      <td>some of my favorite people have autism . if th...</td>\n",
              "      <td>2</td>\n",
              "      <td>2</td>\n",
              "    </tr>\n",
              "    <tr>\n",
              "      <th>2281</th>\n",
              "      <td>coronavirus : the married couple behind the su...</td>\n",
              "      <td>0</td>\n",
              "      <td>2</td>\n",
              "    </tr>\n",
              "  </tbody>\n",
              "</table>\n",
              "<p>2282 rows × 3 columns</p>\n",
              "</div>"
            ],
            "text/plain": [
              "                                                  tweet  label  predicted\n",
              "0     @ user they have a massive surge in with covid...      1          1\n",
              "1     require vaccine for school : parent and guardi...      0          2\n",
              "2     “ @ kcstar : two more johnson county child hav...      0          0\n",
              "3     nv can do good . which state be the best ( and...      2          2\n",
              "4     nothing like kill ourselves w/ our own fear mt...      2          2\n",
              "...                                                 ...    ...        ...\n",
              "2277  rt @ abc7 : number of measles case report in c...      0          0\n",
              "2278  evidence point to the idea that `` measles aff...      0          0\n",
              "2279  where 's @ savedyouaclick `` @ voxdotcom : why...      2          2\n",
              "2280  some of my favorite people have autism . if th...      2          2\n",
              "2281  coronavirus : the married couple behind the su...      0          2\n",
              "\n",
              "[2282 rows x 3 columns]"
            ]
          },
          "metadata": {},
          "output_type": "display_data"
        }
      ],
      "source": [
        "yhat = softReg.predict(chosen_test)\n",
        "\n",
        "data = {'tweet': X_validation['tweet'],\n",
        "        'label': Y_validation, \n",
        "        'predicted': yhat.tolist()}\n",
        "  \n",
        "df_res = pd.DataFrame(data)\n",
        "display(df_res)"
      ]
    },
    {
      "cell_type": "markdown",
      "metadata": {
        "id": "6EzZ2JfTA_hC"
      },
      "source": [
        "Save predictions along with the tweet and the actual label to a file."
      ]
    },
    {
      "cell_type": "code",
      "execution_count": null,
      "metadata": {
        "id": "9hrb7J2Ec9Tw"
      },
      "outputs": [],
      "source": [
        "# Location = r'/content/drive/MyDrive/Colab Notebooks/Artificial Intelligence II/results.csv'\n",
        "# df_res.to_csv(Location, index=False)"
      ]
    },
    {
      "cell_type": "markdown",
      "metadata": {
        "id": "D3nH386TKXwy"
      },
      "source": [
        "### Evaluation of the model using recall, precision and f1 metrics"
      ]
    },
    {
      "cell_type": "code",
      "execution_count": null,
      "metadata": {
        "colab": {
          "base_uri": "https://localhost:8080/"
        },
        "id": "j7cwixBvWZ-u",
        "outputId": "0963a87f-780d-4760-8e92-9d0d3369a57b"
      },
      "outputs": [
        {
          "name": "stdout",
          "output_type": "stream",
          "text": [
            "Accuracy =  71.69149868536373 %\n",
            "F1 score for each class =  [77.46413697 48.29059829 70.90439276] %\n",
            "F1 score =  71.69149868536373 %\n",
            "precision:  0.7169149868536372\n",
            "recall:  0.7169149868536372\n"
          ]
        }
      ],
      "source": [
        "accuracy = softReg.score(chosen_test, Y_validation)\n",
        "print(\"Accuracy = \", accuracy * 100, \"%\")\n",
        "\n",
        "Y_predictions = softReg.predict(chosen_test)\n",
        "\n",
        "# from sklearn.metrics import precision_recall_fscore_support\n",
        "# print(\"all in one metrics: precision, recall, f1:\", precision_recall_fscore_support(Y_validation, Y_predictions, average='micro'))\n",
        "\n",
        "f1 = f1_score(Y_validation, Y_predictions, average=None)\n",
        "print(\"F1 score for each class = \", f1 * 100, \"%\")\n",
        "f1 = f1_score(Y_validation, Y_predictions, average='micro')\n",
        "print(\"F1 score = \", f1 * 100, \"%\")\n",
        "\n",
        "from sklearn.metrics import precision_score\n",
        "print(\"precision: \", precision_score(Y_validation, Y_predictions, average='micro'))\n",
        "\n",
        "from sklearn.metrics import recall_score\n",
        "print(\"recall: \", recall_score(Y_validation, Y_predictions, average='micro'))"
      ]
    },
    {
      "cell_type": "markdown",
      "metadata": {
        "id": "9DCj0ZOdKigS"
      },
      "source": [
        "### Confusion Matrix"
      ]
    },
    {
      "cell_type": "code",
      "execution_count": null,
      "metadata": {
        "colab": {
          "base_uri": "https://localhost:8080/",
          "height": 278
        },
        "id": "EpcCOTShpJAX",
        "outputId": "bcc4a160-e814-4614-94cd-2a26b3e345cb"
      },
      "outputs": [
        {
          "data": {
            "image/png": "[encoded data removed]",
            "text/plain": [
              "<Figure size 432x288 with 2 Axes>"
            ]
          },
          "metadata": {
            "needs_background": "light"
          },
          "output_type": "display_data"
        }
      ],
      "source": [
        "import matplotlib.pyplot as plt\n",
        "from sklearn.metrics import ConfusionMatrixDisplay\n",
        "\n",
        "ConfusionMatrixDisplay.from_predictions(Y_validation, softReg.predict(chosen_test), cmap=plt.cm.gray)  \n",
        "plt.show()"
      ]
    },
    {
      "cell_type": "markdown",
      "metadata": {
        "id": "jdKeffHHKFkJ"
      },
      "source": [
        "### Learning Curves"
      ]
    },
    {
      "cell_type": "code",
      "execution_count": null,
      "metadata": {
        "colab": {
          "base_uri": "https://localhost:8080/",
          "height": 278
        },
        "id": "uc-F-ub8FXKO",
        "outputId": "99de84cd-8aa8-4597-8518-84589ed5a29c"
      },
      "outputs": [
        {
          "data": {
            "image/png": "[encoded data removed]",
            "text/plain": [
              "<Figure size 432x288 with 1 Axes>"
            ]
          },
          "metadata": {
            "needs_background": "light"
          },
          "output_type": "display_data"
        }
      ],
      "source": [
        "# parameters \n",
        "train_dataset_size = chosen_train.shape[0]\n",
        "n_train_sizes = 10 # how many points for the plot\n",
        "estimator = LogisticRegression(multi_class='multinomial', max_iter=1000)\n",
        "xtrain = chosen_train\n",
        "ytrain = Y_train\n",
        "xvalidation = chosen_test\n",
        "yvalidation = Y_validation\n",
        "\n",
        "train_sizes = np.linspace(10, train_dataset_size, n_train_sizes, dtype=int)\n",
        "train_scores = np.zeros(n_train_sizes)\n",
        "validation_scores = np.zeros(n_train_sizes)\n",
        "\n",
        "# for each train size find train and validation score\n",
        "for i in range(n_train_sizes):\n",
        "  size = train_sizes[i]\n",
        "  estimator.fit(xtrain[:size, :], ytrain[:size])\n",
        "\n",
        "  ytrain_pred = estimator.predict(xtrain[:size, :])\n",
        "  train_scores[i] = f1_score(ytrain[:size], ytrain_pred, average='micro')\n",
        "\n",
        "  yvalidation_pred = estimator.predict(xvalidation)\n",
        "  validation_scores[i] = f1_score(yvalidation, yvalidation_pred, average='micro')\n",
        "\n",
        "\n",
        "# plot\n",
        "fig, ax = plt.subplots()\n",
        "ax.plot(train_sizes, validation_scores, \"o-\", color=\"pink\", lw=2, label='validation score')\n",
        "ax.plot(train_sizes, train_scores, \"o-\", color=\"b\", lw=2, label='training score')\n",
        "\n",
        "ax.set_xlabel('traning set size')\n",
        "ax.set_ylabel('f1 score')\n",
        "\n",
        "ax.grid()\n",
        "ax.legend(loc=0)\n",
        "plt.show()\n",
        "  "
      ]
    }
  ],
  "metadata": {
    "colab": {
      "authorship_tag": "ABX9TyPxxmS4RpcHViEr5iiO3vu5",
      "collapsed_sections": [],
      "include_colab_link": true,
      "name": "AI2-HM1-LogisticRegression.ipynb",
      "provenance": [],
      "toc_visible": true
    },
    "kernelspec": {
      "display_name": "Python 3",
      "name": "python3"
    },
    "language_info": {
      "name": "python"
    }
  },
  "nbformat": 4,
  "nbformat_minor": 0
}
