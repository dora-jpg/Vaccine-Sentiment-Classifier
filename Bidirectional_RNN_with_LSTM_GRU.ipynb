{
  "cells": [
    {
      "cell_type": "code",
      "execution_count": null,
      "metadata": {},
      "outputs": [],
      "source": [
        "<a href=\"https://colab.research.google.com/github/dora-jpg/Vaccine-Sentiment-Classifier/blob/main/Bidirectional_RNN_with_LSTM_GRU.ipynb\" target=\"_parent\"><img src=\"https://colab.research.google.com/assets/colab-badge.svg\" alt=\"Open In Colab\"/></a>"
      ]
    },
    {
      "cell_type": "markdown",
      "metadata": {
        "id": "qLAaIaAE9z4D"
      },
      "source": [
        "# Artificial Intelligence II - Homework 3\n",
        "# 💉Vaccine sentiment classifier using bidirectional Recursive Neural Networks with LSTM/GRU."
      ]
    },
    {
      "cell_type": "markdown",
      "metadata": {
        "id": "ykBHfl_LJL-p"
      },
      "source": [
        "In this exercise we are going to develop a vaccine sentiment classifier that classifies tweets in pro-vax, anti-vax and neutral classes using bidirectional Recursive Neural Networks. I experimented with LSTM and GRU.\n",
        "For data preprocessing and feature extracting I experimented with a GloVe pretrained model. I used a simple preprocessing funtion that removes puctuation, html tags and urls. I kept emojis because I noticed that some of them are included in the pretrained glove model. I used the glove.twitter.27B.200d (in Homework 2 I used the glove.twitter.27B.50d). For exercise 2 I added an attention parameter to all implemented models that can be set True to activate it.\n"
      ]
    },
    {
      "cell_type": "markdown",
      "metadata": {
        "id": "NLs58fONFrG3"
      },
      "source": [
        "**Note:** \n",
        "I call set_seed() at the exact same spot at each run of a model, so that the Dataloader and RNN have deterministic results.\n"
      ]
    },
    {
      "cell_type": "code",
      "execution_count": 27,
      "metadata": {
        "colab": {
          "base_uri": "https://localhost:8080/"
        },
        "id": "1i0cE5-17AUF",
        "outputId": "6b2f7358-8f71-4eb9-9e49-78a2e5aa2a11"
      },
      "outputs": [
        {
          "name": "stdout",
          "output_type": "stream",
          "text": [
            "Drive already mounted at /content/drive; to attempt to forcibly remount, call drive.mount(\"/content/drive\", force_remount=True).\n"
          ]
        }
      ],
      "source": [
        "from google.colab import drive\n",
        "drive.mount('/content/drive')"
      ]
    },
    {
      "cell_type": "markdown",
      "metadata": {
        "id": "7g50JWXbB2ze"
      },
      "source": [
        "# Import Libraries and Read Datasets"
      ]
    },
    {
      "cell_type": "markdown",
      "metadata": {
        "id": "rIUe14-z7O9q"
      },
      "source": [
        "Import libraries that will be used in this notebook, define a seeding function and set device to cuda if available.\n"
      ]
    },
    {
      "cell_type": "code",
      "execution_count": 28,
      "metadata": {
        "colab": {
          "base_uri": "https://localhost:8080/"
        },
        "id": "A7j9F1YTMFuE",
        "outputId": "c55412fc-e800-4b34-93c3-a493b6a8e551"
      },
      "outputs": [
        {
          "name": "stdout",
          "output_type": "stream",
          "text": [
            "[nltk_data] Downloading package stopwords to /root/nltk_data...\n",
            "[nltk_data]   Package stopwords is already up-to-date!\n",
            "[nltk_data] Downloading package punkt to /root/nltk_data...\n",
            "[nltk_data]   Package punkt is already up-to-date!\n",
            "Requirement already satisfied: torchtext in /usr/local/lib/python3.7/dist-packages (0.11.0)\n",
            "Requirement already satisfied: requests in /usr/local/lib/python3.7/dist-packages (from torchtext) (2.23.0)\n",
            "Requirement already satisfied: tqdm in /usr/local/lib/python3.7/dist-packages (from torchtext) (4.62.3)\n",
            "Requirement already satisfied: numpy in /usr/local/lib/python3.7/dist-packages (from torchtext) (1.19.5)\n",
            "Requirement already satisfied: torch==1.10.0 in /usr/local/lib/python3.7/dist-packages (from torchtext) (1.10.0+cu111)\n",
            "Requirement already satisfied: typing-extensions in /usr/local/lib/python3.7/dist-packages (from torch==1.10.0->torchtext) (3.10.0.2)\n",
            "Requirement already satisfied: certifi>=2017.4.17 in /usr/local/lib/python3.7/dist-packages (from requests->torchtext) (2021.10.8)\n",
            "Requirement already satisfied: urllib3!=1.25.0,!=1.25.1,<1.26,>=1.21.1 in /usr/local/lib/python3.7/dist-packages (from requests->torchtext) (1.24.3)\n",
            "Requirement already satisfied: chardet<4,>=3.0.2 in /usr/local/lib/python3.7/dist-packages (from requests->torchtext) (3.0.4)\n",
            "Requirement already satisfied: idna<3,>=2.5 in /usr/local/lib/python3.7/dist-packages (from requests->torchtext) (2.10)\n",
            "Working on: cuda\n"
          ]
        }
      ],
      "source": [
        "# Imports\n",
        "import torch\n",
        "import torch.nn as nn\n",
        "import torch.nn.functional as F\n",
        "import torch.optim as optim\n",
        "import os\n",
        "\n",
        "import numpy as np\n",
        "import pandas as pd\n",
        "import math\n",
        "\n",
        "# Evaluation metrics\n",
        "from sklearn.metrics import f1_score\n",
        "from sklearn.metrics import accuracy_score\n",
        "from sklearn.metrics import precision_recall_fscore_support\n",
        "from sklearn.metrics import precision_score\n",
        "from sklearn.metrics import recall_score\n",
        "\n",
        "import matplotlib.pyplot as plt\n",
        "%matplotlib inline\n",
        "import sklearn.metrics\n",
        "import seaborn as sns\n",
        "import random\n",
        "import sys\n",
        "from IPython.display import Image\n",
        "\n",
        "# for text preprocessing\n",
        "import re\n",
        "import string\n",
        "from nltk.corpus import stopwords\n",
        "import nltk\n",
        "nltk.download(\"stopwords\")\n",
        "nltk.download('punkt')\n",
        "from nltk import word_tokenize\n",
        "\n",
        "# Batches\n",
        "!pip install torchtext\n",
        "from torchtext import vocab\n",
        "from torchtext.legacy.data import Field,Dataset,LabelField,BucketIterator\n",
        "from torchtext.legacy.data import Dataset, Example\n",
        "\n",
        "# Learning curves\n",
        "from itertools import cycle\n",
        "from sklearn.metrics import roc_curve, auc\n",
        "from sklearn.preprocessing import label_binarize\n",
        "from sklearn.multiclass import OneVsRestClassifier\n",
        "from scipy import interp\n",
        "from sklearn.metrics import roc_auc_score\n",
        "\n",
        "# Confusion Matrix\n",
        "from sklearn.metrics import ConfusionMatrixDisplay\n",
        "\n",
        "\n",
        "def set_seed(seed = 1234):\n",
        "    '''Sets the seed of the entire notebook so results are the same every time we run.\n",
        "    This is for REPRODUCIBILITY.'''\n",
        "    !CUBLAS_WORKSPACE_CONFIG=:4096:2 # for cuda deterministic behavior\n",
        "    np.random.seed(seed)\n",
        "    random.seed(seed)\n",
        "    torch.manual_seed(seed)\n",
        "    torch.cuda.manual_seed(seed)\n",
        "    # When running on the CuDNN backend, two further options must be set\n",
        "    torch.backends.cudnn.deterministic = True\n",
        "    torch.cuda.manual_seed_all(seed)\n",
        "    torch.backends.cudnn.enabled = False\n",
        "    torch.backends.cudnn.benchmark = False\n",
        "    # torch.use_deterministic_algorithms(False)\n",
        "    # Set a fixed value for the hash seed\n",
        "    os.environ['PYTHONHASHSEED'] = str(seed)\n",
        "    \n",
        "set_seed()\n",
        "\n",
        "# Set device\n",
        "device = torch.device(\"cuda\" if torch.cuda.is_available() else \"cpu\")\n",
        "\n",
        "print('Working on:', device)"
      ]
    },
    {
      "cell_type": "markdown",
      "metadata": {
        "id": "T3T_ITrECxKu"
      },
      "source": [
        "Read train and validation datasets."
      ]
    },
    {
      "cell_type": "code",
      "execution_count": 29,
      "metadata": {
        "id": "DCe_10itB0Pu"
      },
      "outputs": [],
      "source": [
        "df_train = pd.read_csv(\"/content/drive/MyDrive/Colab Notebooks/Artificial Intelligence II/vaccine_train_set.csv\")\n",
        "df_test = pd.read_csv(\"/content/drive/MyDrive/Colab Notebooks/Artificial Intelligence II/vaccine_validation_set.csv\")"
      ]
    },
    {
      "cell_type": "markdown",
      "metadata": {
        "id": "lA3NQAAuKwjf"
      },
      "source": [
        " We don't need the first column of the datasets because it is an index."
      ]
    },
    {
      "cell_type": "code",
      "execution_count": 30,
      "metadata": {
        "id": "qA3P1gymKEwR"
      },
      "outputs": [],
      "source": [
        "# get rid of first column\n",
        "df_train = df_train.iloc[: , 1:]\n",
        "df_test = df_test.iloc[: , 1:]"
      ]
    },
    {
      "cell_type": "code",
      "execution_count": 31,
      "metadata": {
        "colab": {
          "base_uri": "https://localhost:8080/",
          "height": 206
        },
        "id": "awuvFK_yCuAO",
        "outputId": "9c94be8c-4a8f-42b7-8388-792b71149cc8"
      },
      "outputs": [
        {
          "data": {
            "text/html": [
              "\n",
              "  <div id=\"df-ec0966a9-0411-4cc9-b0da-51b6c157c0a8\">\n",
              "    <div class=\"colab-df-container\">\n",
              "      <div>\n",
              "<style scoped>\n",
              "    .dataframe tbody tr th:only-of-type {\n",
              "        vertical-align: middle;\n",
              "    }\n",
              "\n",
              "    .dataframe tbody tr th {\n",
              "        vertical-align: top;\n",
              "    }\n",
              "\n",
              "    .dataframe thead th {\n",
              "        text-align: right;\n",
              "    }\n",
              "</style>\n",
              "<table border=\"1\" class=\"dataframe\">\n",
              "  <thead>\n",
              "    <tr style=\"text-align: right;\">\n",
              "      <th></th>\n",
              "      <th>tweet</th>\n",
              "      <th>label</th>\n",
              "    </tr>\n",
              "  </thead>\n",
              "  <tbody>\n",
              "    <tr>\n",
              "      <th>0</th>\n",
              "      <td>Sip N Shop Come thru right now #Marjais #Popul...</td>\n",
              "      <td>0</td>\n",
              "    </tr>\n",
              "    <tr>\n",
              "      <th>1</th>\n",
              "      <td>I don't know about you but My family and I wil...</td>\n",
              "      <td>1</td>\n",
              "    </tr>\n",
              "    <tr>\n",
              "      <th>2</th>\n",
              "      <td>@MSignorile Immunizations should be mandatory....</td>\n",
              "      <td>2</td>\n",
              "    </tr>\n",
              "    <tr>\n",
              "      <th>3</th>\n",
              "      <td>President Obama spoke in favor of vaccination ...</td>\n",
              "      <td>0</td>\n",
              "    </tr>\n",
              "    <tr>\n",
              "      <th>4</th>\n",
              "      <td>\"@myfoxla: Arizona monitoring hundreds for mea...</td>\n",
              "      <td>0</td>\n",
              "    </tr>\n",
              "  </tbody>\n",
              "</table>\n",
              "</div>\n",
              "      <button class=\"colab-df-convert\" onclick=\"convertToInteractive('df-ec0966a9-0411-4cc9-b0da-51b6c157c0a8')\"\n",
              "              title=\"Convert this dataframe to an interactive table.\"\n",
              "              style=\"display:none;\">\n",
              "        \n",
              "  <svg xmlns=\"http://www.w3.org/2000/svg\" height=\"24px\"viewBox=\"0 0 24 24\"\n",
              "       width=\"24px\">\n",
              "    <path d=\"M0 0h24v24H0V0z\" fill=\"none\"/>\n",
              "    <path d=\"M18.56 5.44l.94 2.06.94-2.06 2.06-.94-2.06-.94-.94-2.06-.94 2.06-2.06.94zm-11 1L8.5 8.5l.94-2.06 2.06-.94-2.06-.94L8.5 2.5l-.94 2.06-2.06.94zm10 10l.94 2.06.94-2.06 2.06-.94-2.06-.94-.94-2.06-.94 2.06-2.06.94z\"/><path d=\"M17.41 7.96l-1.37-1.37c-.4-.4-.92-.59-1.43-.59-.52 0-1.04.2-1.43.59L10.3 9.45l-7.72 7.72c-.78.78-.78 2.05 0 2.83L4 21.41c.39.39.9.59 1.41.59.51 0 1.02-.2 1.41-.59l7.78-7.78 2.81-2.81c.8-.78.8-2.07 0-2.86zM5.41 20L4 18.59l7.72-7.72 1.47 1.35L5.41 20z\"/>\n",
              "  </svg>\n",
              "      </button>\n",
              "      \n",
              "  <style>\n",
              "    .colab-df-container {\n",
              "      display:flex;\n",
              "      flex-wrap:wrap;\n",
              "      gap: 12px;\n",
              "    }\n",
              "\n",
              "    .colab-df-convert {\n",
              "      background-color: #E8F0FE;\n",
              "      border: none;\n",
              "      border-radius: 50%;\n",
              "      cursor: pointer;\n",
              "      display: none;\n",
              "      fill: #1967D2;\n",
              "      height: 32px;\n",
              "      padding: 0 0 0 0;\n",
              "      width: 32px;\n",
              "    }\n",
              "\n",
              "    .colab-df-convert:hover {\n",
              "      background-color: #E2EBFA;\n",
              "      box-shadow: 0px 1px 2px rgba(60, 64, 67, 0.3), 0px 1px 3px 1px rgba(60, 64, 67, 0.15);\n",
              "      fill: #174EA6;\n",
              "    }\n",
              "\n",
              "    [theme=dark] .colab-df-convert {\n",
              "      background-color: #3B4455;\n",
              "      fill: #D2E3FC;\n",
              "    }\n",
              "\n",
              "    [theme=dark] .colab-df-convert:hover {\n",
              "      background-color: #434B5C;\n",
              "      box-shadow: 0px 1px 3px 1px rgba(0, 0, 0, 0.15);\n",
              "      filter: drop-shadow(0px 1px 2px rgba(0, 0, 0, 0.3));\n",
              "      fill: #FFFFFF;\n",
              "    }\n",
              "  </style>\n",
              "\n",
              "      <script>\n",
              "        const buttonEl =\n",
              "          document.querySelector('#df-ec0966a9-0411-4cc9-b0da-51b6c157c0a8 button.colab-df-convert');\n",
              "        buttonEl.style.display =\n",
              "          google.colab.kernel.accessAllowed ? 'block' : 'none';\n",
              "\n",
              "        async function convertToInteractive(key) {\n",
              "          const element = document.querySelector('#df-ec0966a9-0411-4cc9-b0da-51b6c157c0a8');\n",
              "          const dataTable =\n",
              "            await google.colab.kernel.invokeFunction('convertToInteractive',\n",
              "                                                     [key], {});\n",
              "          if (!dataTable) return;\n",
              "\n",
              "          const docLinkHtml = 'Like what you see? Visit the ' +\n",
              "            '<a target=\"_blank\" href=https://colab.research.google.com/notebooks/data_table.ipynb>data table notebook</a>'\n",
              "            + ' to learn more about interactive tables.';\n",
              "          element.innerHTML = '';\n",
              "          dataTable['output_type'] = 'display_data';\n",
              "          await google.colab.output.renderOutput(dataTable, element);\n",
              "          const docLink = document.createElement('div');\n",
              "          docLink.innerHTML = docLinkHtml;\n",
              "          element.appendChild(docLink);\n",
              "        }\n",
              "      </script>\n",
              "    </div>\n",
              "  </div>\n",
              "  "
            ],
            "text/plain": [
              "                                               tweet  label\n",
              "0  Sip N Shop Come thru right now #Marjais #Popul...      0\n",
              "1  I don't know about you but My family and I wil...      1\n",
              "2  @MSignorile Immunizations should be mandatory....      2\n",
              "3  President Obama spoke in favor of vaccination ...      0\n",
              "4  \"@myfoxla: Arizona monitoring hundreds for mea...      0"
            ]
          },
          "metadata": {},
          "output_type": "display_data"
        }
      ],
      "source": [
        "display(df_train.head())"
      ]
    },
    {
      "cell_type": "code",
      "execution_count": 32,
      "metadata": {
        "colab": {
          "base_uri": "https://localhost:8080/",
          "height": 206
        },
        "id": "1SCqSG05CMpd",
        "outputId": "db70d189-1a3d-41a5-aa9a-b4422b84387d"
      },
      "outputs": [
        {
          "data": {
            "text/html": [
              "\n",
              "  <div id=\"df-84dd0028-7dfc-4048-97c3-c43253362ebc\">\n",
              "    <div class=\"colab-df-container\">\n",
              "      <div>\n",
              "<style scoped>\n",
              "    .dataframe tbody tr th:only-of-type {\n",
              "        vertical-align: middle;\n",
              "    }\n",
              "\n",
              "    .dataframe tbody tr th {\n",
              "        vertical-align: top;\n",
              "    }\n",
              "\n",
              "    .dataframe thead th {\n",
              "        text-align: right;\n",
              "    }\n",
              "</style>\n",
              "<table border=\"1\" class=\"dataframe\">\n",
              "  <thead>\n",
              "    <tr style=\"text-align: right;\">\n",
              "      <th></th>\n",
              "      <th>tweet</th>\n",
              "      <th>label</th>\n",
              "    </tr>\n",
              "  </thead>\n",
              "  <tbody>\n",
              "    <tr>\n",
              "      <th>0</th>\n",
              "      <td>@user They had a massive surge in with covid d...</td>\n",
              "      <td>1</td>\n",
              "    </tr>\n",
              "    <tr>\n",
              "      <th>1</th>\n",
              "      <td>Required vaccines for school: Parents and guar...</td>\n",
              "      <td>0</td>\n",
              "    </tr>\n",
              "    <tr>\n",
              "      <th>2</th>\n",
              "      <td>“@KCStar: Two more Johnson County children hav...</td>\n",
              "      <td>0</td>\n",
              "    </tr>\n",
              "    <tr>\n",
              "      <th>3</th>\n",
              "      <td>NV can do better. Which states are the best (a...</td>\n",
              "      <td>2</td>\n",
              "    </tr>\n",
              "    <tr>\n",
              "      <th>4</th>\n",
              "      <td>Nothing like killing ourselves w/ our own fear...</td>\n",
              "      <td>2</td>\n",
              "    </tr>\n",
              "  </tbody>\n",
              "</table>\n",
              "</div>\n",
              "      <button class=\"colab-df-convert\" onclick=\"convertToInteractive('df-84dd0028-7dfc-4048-97c3-c43253362ebc')\"\n",
              "              title=\"Convert this dataframe to an interactive table.\"\n",
              "              style=\"display:none;\">\n",
              "        \n",
              "  <svg xmlns=\"http://www.w3.org/2000/svg\" height=\"24px\"viewBox=\"0 0 24 24\"\n",
              "       width=\"24px\">\n",
              "    <path d=\"M0 0h24v24H0V0z\" fill=\"none\"/>\n",
              "    <path d=\"M18.56 5.44l.94 2.06.94-2.06 2.06-.94-2.06-.94-.94-2.06-.94 2.06-2.06.94zm-11 1L8.5 8.5l.94-2.06 2.06-.94-2.06-.94L8.5 2.5l-.94 2.06-2.06.94zm10 10l.94 2.06.94-2.06 2.06-.94-2.06-.94-.94-2.06-.94 2.06-2.06.94z\"/><path d=\"M17.41 7.96l-1.37-1.37c-.4-.4-.92-.59-1.43-.59-.52 0-1.04.2-1.43.59L10.3 9.45l-7.72 7.72c-.78.78-.78 2.05 0 2.83L4 21.41c.39.39.9.59 1.41.59.51 0 1.02-.2 1.41-.59l7.78-7.78 2.81-2.81c.8-.78.8-2.07 0-2.86zM5.41 20L4 18.59l7.72-7.72 1.47 1.35L5.41 20z\"/>\n",
              "  </svg>\n",
              "      </button>\n",
              "      \n",
              "  <style>\n",
              "    .colab-df-container {\n",
              "      display:flex;\n",
              "      flex-wrap:wrap;\n",
              "      gap: 12px;\n",
              "    }\n",
              "\n",
              "    .colab-df-convert {\n",
              "      background-color: #E8F0FE;\n",
              "      border: none;\n",
              "      border-radius: 50%;\n",
              "      cursor: pointer;\n",
              "      display: none;\n",
              "      fill: #1967D2;\n",
              "      height: 32px;\n",
              "      padding: 0 0 0 0;\n",
              "      width: 32px;\n",
              "    }\n",
              "\n",
              "    .colab-df-convert:hover {\n",
              "      background-color: #E2EBFA;\n",
              "      box-shadow: 0px 1px 2px rgba(60, 64, 67, 0.3), 0px 1px 3px 1px rgba(60, 64, 67, 0.15);\n",
              "      fill: #174EA6;\n",
              "    }\n",
              "\n",
              "    [theme=dark] .colab-df-convert {\n",
              "      background-color: #3B4455;\n",
              "      fill: #D2E3FC;\n",
              "    }\n",
              "\n",
              "    [theme=dark] .colab-df-convert:hover {\n",
              "      background-color: #434B5C;\n",
              "      box-shadow: 0px 1px 3px 1px rgba(0, 0, 0, 0.15);\n",
              "      filter: drop-shadow(0px 1px 2px rgba(0, 0, 0, 0.3));\n",
              "      fill: #FFFFFF;\n",
              "    }\n",
              "  </style>\n",
              "\n",
              "      <script>\n",
              "        const buttonEl =\n",
              "          document.querySelector('#df-84dd0028-7dfc-4048-97c3-c43253362ebc button.colab-df-convert');\n",
              "        buttonEl.style.display =\n",
              "          google.colab.kernel.accessAllowed ? 'block' : 'none';\n",
              "\n",
              "        async function convertToInteractive(key) {\n",
              "          const element = document.querySelector('#df-84dd0028-7dfc-4048-97c3-c43253362ebc');\n",
              "          const dataTable =\n",
              "            await google.colab.kernel.invokeFunction('convertToInteractive',\n",
              "                                                     [key], {});\n",
              "          if (!dataTable) return;\n",
              "\n",
              "          const docLinkHtml = 'Like what you see? Visit the ' +\n",
              "            '<a target=\"_blank\" href=https://colab.research.google.com/notebooks/data_table.ipynb>data table notebook</a>'\n",
              "            + ' to learn more about interactive tables.';\n",
              "          element.innerHTML = '';\n",
              "          dataTable['output_type'] = 'display_data';\n",
              "          await google.colab.output.renderOutput(dataTable, element);\n",
              "          const docLink = document.createElement('div');\n",
              "          docLink.innerHTML = docLinkHtml;\n",
              "          element.appendChild(docLink);\n",
              "        }\n",
              "      </script>\n",
              "    </div>\n",
              "  </div>\n",
              "  "
            ],
            "text/plain": [
              "                                               tweet  label\n",
              "0  @user They had a massive surge in with covid d...      1\n",
              "1  Required vaccines for school: Parents and guar...      0\n",
              "2  “@KCStar: Two more Johnson County children hav...      0\n",
              "3  NV can do better. Which states are the best (a...      2\n",
              "4  Nothing like killing ourselves w/ our own fear...      2"
            ]
          },
          "metadata": {},
          "output_type": "display_data"
        }
      ],
      "source": [
        "display(df_test.head())"
      ]
    },
    {
      "cell_type": "markdown",
      "metadata": {
        "id": "22fsx7JjEMfF"
      },
      "source": [
        "# Data Pre-processing"
      ]
    },
    {
      "cell_type": "markdown",
      "metadata": {
        "id": "2qCtGlrAOjpT"
      },
      "source": [
        "## Data Cleaning\n"
      ]
    },
    {
      "cell_type": "markdown",
      "metadata": {
        "id": "dt1FRrIF7voS"
      },
      "source": [
        "Cleaning involves convertion to lowercase, removal of urls, html tags, punctuation and stopwords. As a explained in the introduction, I decided to keep the emojis as they can show sentiment. "
      ]
    },
    {
      "cell_type": "code",
      "execution_count": 33,
      "metadata": {
        "id": "bW2gJG0SlR81"
      },
      "outputs": [],
      "source": [
        "stop_words = stopwords.words(\"english\")\n",
        "\n",
        "def tweets_cleaning(x, remove_emojis=False, remove_stop_words=True):\n",
        "    \"\"\"Apply function to a clean a tweet\"\"\"\n",
        "    x = x.lower().strip()\n",
        "    # romove urls\n",
        "    url = re.compile(r'https?://\\S+|www\\.\\S+')\n",
        "    x = url.sub(r'',x)\n",
        "    # remove html tags\n",
        "    html = re.compile(r'<.*?>')\n",
        "    x = html.sub(r'',x)\n",
        "    # remove punctuation\n",
        "    operator = str.maketrans(' ',' ',string.punctuation)\n",
        "    x = x.translate(operator)\n",
        "    if remove_emojis:\n",
        "        x = x.encode('ascii', 'ignore').decode('utf8').strip()\n",
        "    if remove_stop_words:\n",
        "        x = ' '.join([word for word in x.split(' ') if word not in stop_words])\n",
        "    return x"
      ]
    },
    {
      "cell_type": "code",
      "execution_count": 34,
      "metadata": {
        "id": "7r9stfORI5rQ"
      },
      "outputs": [],
      "source": [
        "## APPLY the cleaning function to the text column\n",
        "df_train['clean_tweet'] = df_train['tweet'].apply(tweets_cleaning)\n",
        "df_test['clean_tweet'] = df_test['tweet'].apply(tweets_cleaning)"
      ]
    },
    {
      "cell_type": "code",
      "execution_count": 35,
      "metadata": {
        "id": "PRjL4WS3E4Jc"
      },
      "outputs": [],
      "source": [
        "Y_train = df_train['label'] #Only keep value\n",
        "Y_test = df_test['label'] #Only keep value"
      ]
    },
    {
      "cell_type": "code",
      "execution_count": 36,
      "metadata": {
        "colab": {
          "base_uri": "https://localhost:8080/"
        },
        "id": "hb_35RgUQJFf",
        "outputId": "af5bf768-5c5c-4ba0-bb48-b4f5bf88dd3e"
      },
      "outputs": [
        {
          "data": {
            "text/plain": [
              "0        sip n shop come thru right marjais popularnobo...\n",
              "1        dont know family take covid19 vaccine anytime ...\n",
              "2        msignorile immunizations mandatory period okla...\n",
              "3        president obama spoke favor vaccination childr...\n",
              "4        myfoxla arizona monitoring hundreds measles li...\n",
              "                               ...                        \n",
              "15971    salon u believe antivax nutcases caused measle...\n",
              "15972    feel parents dont vaccinate kids\\r\\n\\r\\nmeasle...\n",
              "15973          70 preschoolers tested measles simi valley \n",
              "15974    finance minister budget offers room procure co...\n",
              "15975    date vaccines take cdc’s vaccine quiz find vac...\n",
              "Name: clean_tweet, Length: 15976, dtype: object"
            ]
          },
          "execution_count": 36,
          "metadata": {},
          "output_type": "execute_result"
        }
      ],
      "source": [
        "df_train['clean_tweet']"
      ]
    },
    {
      "cell_type": "code",
      "execution_count": 37,
      "metadata": {
        "colab": {
          "base_uri": "https://localhost:8080/"
        },
        "id": "MgKREelmQM3f",
        "outputId": "12f8635e-e6fd-4c41-a532-89d791eb0756"
      },
      "outputs": [
        {
          "data": {
            "text/plain": [
              "0        sip n shop come thru right marjais popularnobo...\n",
              "1        dont know family take covid19 vaccine anytime ...\n",
              "2        msignorile immunizations mandatory period okla...\n",
              "3        president obama spoke favor vaccination childr...\n",
              "4        myfoxla arizona monitoring hundreds measles li...\n",
              "                               ...                        \n",
              "15971    salon u believe antivax nutcases caused measle...\n",
              "15972    feel parents dont vaccinate kids\\r\\n\\r\\nmeasle...\n",
              "15973          70 preschoolers tested measles simi valley \n",
              "15974    finance minister budget offers room procure co...\n",
              "15975    date vaccines take cdc’s vaccine quiz find vac...\n",
              "Name: clean_tweet, Length: 15976, dtype: object"
            ]
          },
          "execution_count": 37,
          "metadata": {},
          "output_type": "execute_result"
        }
      ],
      "source": [
        "df_train['clean_tweet']"
      ]
    },
    {
      "cell_type": "markdown",
      "metadata": {
        "id": "mMXtkwBrJtSi"
      },
      "source": [
        "Overview of label distribution"
      ]
    },
    {
      "cell_type": "code",
      "execution_count": 38,
      "metadata": {
        "colab": {
          "base_uri": "https://localhost:8080/"
        },
        "id": "dxpyM6vOHrRv",
        "outputId": "90e59395-3b22-4d01-e9ad-ae96657d15d7"
      },
      "outputs": [
        {
          "name": "stdout",
          "output_type": "stream",
          "text": [
            "train data\n",
            "label 0: 7458\n",
            "label 1: 2073\n",
            "label 2: 6445\n",
            "validation data\n",
            "label 0: 1065\n",
            "label 1: 296\n",
            "label 2: 921\n"
          ]
        }
      ],
      "source": [
        "print(\"train data\")\n",
        "print(\"label 0:\",Y_train[Y_train== 0].count())\n",
        "print(\"label 1:\",Y_train[Y_train== 1].count())\n",
        "print(\"label 2:\",Y_train[Y_train== 2].count())\n",
        "print(\"validation data\")\n",
        "print(\"label 0:\",Y_test[Y_test== 0].count())\n",
        "print(\"label 1:\",Y_test[Y_test== 1].count())\n",
        "print(\"label 2:\",Y_test[Y_test== 2].count())"
      ]
    },
    {
      "cell_type": "code",
      "execution_count": 39,
      "metadata": {
        "colab": {
          "base_uri": "https://localhost:8080/",
          "height": 335
        },
        "id": "RKmLcKZYL34v",
        "outputId": "6eacb1c9-7733-4a1d-fc82-4ef72372e383"
      },
      "outputs": [
        {
          "data": {
            "image/png": "[encoded data removed]",
            "text/plain": [
              "<Figure size 432x288 with 1 Axes>"
            ]
          },
          "metadata": {
            "needs_background": "light"
          },
          "output_type": "display_data"
        }
      ],
      "source": [
        "fig = plt.figure()\n",
        "ax = fig.add_axes([0,0,1,1])\n",
        "labels = ['0', '1', '2']\n",
        "train = [Y_train[Y_train== 0].count(),Y_train[Y_train== 1].count(),Y_train[Y_train== 2].count()]\n",
        "test= [Y_test[Y_test== 0].count(),Y_test[Y_test== 1].count(),Y_test[Y_test== 2].count()]\n",
        "ax.bar(labels, train)\n",
        "ax.bar(labels, test)\n",
        "plt.show()"
      ]
    },
    {
      "cell_type": "markdown",
      "metadata": {
        "id": "_4Z0u5rJ0ToQ"
      },
      "source": [
        "Label 1 has very few instances so we expect that it has a lower score than the other 2 labels. "
      ]
    },
    {
      "cell_type": "markdown",
      "metadata": {
        "id": "b5Bc0vQAEvnD"
      },
      "source": [
        "# Features Extraction\n"
      ]
    },
    {
      "cell_type": "markdown",
      "metadata": {
        "id": "RKJyG0WzOUyb"
      },
      "source": [
        "## GloVe representation"
      ]
    },
    {
      "cell_type": "markdown",
      "metadata": {
        "id": "Lmju4O8y8yp4"
      },
      "source": [
        "### First Approach: Create fixed size vectors for glove"
      ]
    },
    {
      "cell_type": "markdown",
      "metadata": {
        "id": "0QS4tdTpGpkF"
      },
      "source": [
        "Load pre-trained GloVe vectors into a dictionary."
      ]
    },
    {
      "cell_type": "code",
      "execution_count": 40,
      "metadata": {
        "id": "Wc0NC0cvGov-"
      },
      "outputs": [],
      "source": [
        "embeddings_dict = {}\n",
        "with open(\"/content/drive/MyDrive/Colab Notebooks/Artificial Intelligence II/glove.twitter.27B.200d.txt.gz (Unzipped Files)/glove.twitter.27B.200d.txt\", 'r', encoding=\"utf-8\") as f:\n",
        "  for line in f:\n",
        "    values = line.split()\n",
        "    word = values[0]\n",
        "    vector = np.asarray(values[1:],'float32')\n",
        "    embeddings_dict[word]=vector"
      ]
    },
    {
      "cell_type": "markdown",
      "metadata": {
        "id": "s4lM2nRpj6ns"
      },
      "source": [
        "Find the vector for each word in each tweet. If the tweet has more words than the number specified by `padding` then cut the tweet there. If it has less words than `padding` number then add vectors with zeros. "
      ]
    },
    {
      "cell_type": "code",
      "execution_count": 41,
      "metadata": {
        "colab": {
          "base_uri": "https://localhost:8080/"
        },
        "id": "iWzahQgiaoQB",
        "outputId": "28437eb3-bdf2-4ae5-eba1-f658214cf612"
      },
      "outputs": [
        {
          "data": {
            "text/plain": [
              "0        [[-0.16063, -0.28647, -0.60789, 0.42767, -0.11...\n",
              "1        [[-0.33784, 0.54451, -0.1921, 0.43394, -0.4804...\n",
              "2        [[-0.33915, -0.28546, -0.26841, 0.014209, 0.23...\n",
              "3        [[0.34601, 0.30425, -0.098192, 0.08868, -0.359...\n",
              "4        [[0.2101, -0.21056, -0.36659, -0.37312, 0.0773...\n",
              "                               ...                        \n",
              "15971    [[0.15358, -0.30126, -0.3615, 0.24909, 0.72131...\n",
              "15972    [[0.061424, 0.42365, -0.13984, 0.26585, -0.215...\n",
              "15973    [[0.058755, 0.018929, 0.24508, 0.021967, -0.23...\n",
              "15974    [[0.14571, -0.31397, -0.39098, -0.16087, -0.02...\n",
              "15975    [[-0.48751, 0.11036, 0.16039, -0.15214, -0.217...\n",
              "Name: features, Length: 15976, dtype: object"
            ]
          },
          "execution_count": 41,
          "metadata": {},
          "output_type": "execute_result"
        }
      ],
      "source": [
        "def find_glove(text, padding=31):\n",
        "  tokens = word_tokenize(text.lower())\n",
        "  res = [ embeddings_dict[token] for token in tokens if (token in embeddings_dict) ]\n",
        "  res = res[:padding]\n",
        "  if len(res)<padding:\n",
        "    for i in range(padding-len(res)):\n",
        "      res.append(np.zeros(200))\n",
        "  return res\n",
        "\n",
        "df_train['features'] = df_train['clean_tweet'].apply(find_glove)\n",
        "df_test['features'] = df_test['clean_tweet'].apply(find_glove)\n",
        "df_train['features']"
      ]
    },
    {
      "cell_type": "markdown",
      "metadata": {
        "id": "sY44VnKTKVgc"
      },
      "source": [
        "# Bidirectional RNN"
      ]
    },
    {
      "cell_type": "markdown",
      "metadata": {
        "id": "R8cckzgBBcMR"
      },
      "source": [
        "## Fixed length of the sequences"
      ]
    },
    {
      "cell_type": "markdown",
      "metadata": {
        "id": "QPH5tRiCFO-a"
      },
      "source": [
        "### Simple implementation\n",
        "A model that takes fixed size vectors as input."
      ]
    },
    {
      "cell_type": "code",
      "execution_count": 42,
      "metadata": {
        "id": "Ukzh_Wpm0Zrz"
      },
      "outputs": [],
      "source": [
        "class BRNN(nn.Module):\n",
        "    def __init__(self, input_size, hidden_size, num_layers, num_classes, cell, dropout=0.3, attention=True):\n",
        "        super(BRNN, self).__init__()\n",
        "        self.hidden_size = hidden_size\n",
        "        self.num_layers = num_layers\n",
        "        self.cell = cell\n",
        "        self.attention = attention\n",
        "        self.scale = 1. / math.sqrt(hidden_size)\n",
        "        if (cell == 'LSTM'):\n",
        "          self.rnn = nn.LSTM(\n",
        "              input_size, hidden_size, num_layers, batch_first=True, bidirectional=True, dropout=dropout\n",
        "          )\n",
        "        else:\n",
        "          self.rnn = nn.GRU(\n",
        "              input_size, hidden_size, num_layers, batch_first=True, bidirectional=True, dropout=dropout\n",
        "          )\n",
        "        self.fc = nn.Linear(hidden_size * 2, num_classes)\n",
        "\n",
        "    def forward(self, x):\n",
        "\n",
        "        if (self.cell == 'LSTM'):\n",
        "          out, hidden = self.rnn(x)\n",
        "          hidden = hidden[1]\n",
        "        else:\n",
        "          out, hidden = self.rnn(x)\n",
        "\n",
        "        if (self.attention==True):\n",
        "            hidden = torch.cat([hidden[-1], hidden[-2]], dim=1) # concatinate the last 2 hidden cells (backward & forward) bc we use bidirectional rnns\n",
        "\n",
        "            query = hidden.unsqueeze(1) # [batch_size, hidden_size] -> [batch_size, 1, hidden_size]\n",
        "            values = out.transpose(1,2) # [batch_size, sequence_length, hidden_size] -> [batch_size, hidden_size, sequence_length]\n",
        "\n",
        "            attention_scores = torch.bmm(query, values) # [batch_size, 1, hidden_size]*[batch_size, hidden_size, sequence_length] -> [batch_size, 1, sequence_length]\n",
        "            attention_scores = attention_scores.mul_(self.scale)\n",
        "            attention_distribution = F.softmax(attention_scores, dim=2)\n",
        "\n",
        "            attention_output = torch.bmm(attention_distribution, out)\n",
        "\n",
        "            out = self.fc(attention_output[:, -1, :])\n",
        "        else:\n",
        "            out = self.fc(out[:, -1, :])\n",
        "        \n",
        "        return out"
      ]
    },
    {
      "cell_type": "markdown",
      "metadata": {
        "id": "XSBFv7TmikYN"
      },
      "source": [
        "### Implementation of Skip Connections\n",
        "For skip connections, I had to re-define the model to keep the output of each layer of the stacked rnn."
      ]
    },
    {
      "cell_type": "code",
      "execution_count": 43,
      "metadata": {
        "id": "qG8rdr9SG9Zg"
      },
      "outputs": [],
      "source": [
        "class skipBRNN(nn.Module):\n",
        "    def __init__(self, input_size, hidden_size, num_layers, num_classes, cell, dropout=0.3, attention=True):\n",
        "        super(skipBRNN, self).__init__()\n",
        "        self.hidden_size = hidden_size\n",
        "        self.num_layers = num_layers\n",
        "        self.cell = cell\n",
        "        self.dropout = nn.Dropout(p=dropout)\n",
        "        self.attention = attention\n",
        "        self.bidirectional = True\n",
        "        self.scale = 1. / math.sqrt(hidden_size)\n",
        "        \n",
        "        if (cell == 'LSTM'):\n",
        "            rnn = nn.LSTM\n",
        "        else:\n",
        "            rnn = nn.GRU\n",
        "\n",
        "        self.rnns = nn.ModuleList()\n",
        "        for i in range(num_layers):\n",
        "            input_size = input_size if i == 0 else hidden_size*2\n",
        "            self.rnns.append(rnn(input_size, hidden_size, 1, batch_first=True, bidirectional=True))\n",
        "        \n",
        "        self.fc = nn.Linear(hidden_size * 2, num_classes)\n",
        "\n",
        "    def forward(self, x):\n",
        "\n",
        "        sent_variable = x\n",
        "\n",
        "        for i in range(self.num_layers):\n",
        "            if i != 0:\n",
        "                sent_variable = self.dropout(sent_variable.detach())\n",
        "\n",
        "            out, hidden = self.rnns[i](sent_variable.detach())\n",
        "            hidden = hidden[1]\n",
        "\n",
        "            if i == 0:\n",
        "                sent_variable = out.detach()\n",
        "            else:\n",
        "                sent_variable = torch.cat((sent_variable,out.detach()),dim=1)\n",
        "\n",
        "        if (self.attention==True):\n",
        "            hidden = torch.cat([hidden[-1], hidden[-2]], dim=1) # concatinate the last 2 hidden cells (backward & forward) bc we use bidirectional rnns\n",
        "\n",
        "            query = hidden.unsqueeze(1) # [batch_size, hidden_size] -> [batch_size, 1, hidden_size]\n",
        "            values = out.transpose(1,2) # [batch_size, sequence_length, hidden_size] -> [batch_size, hidden_size, sequence_length]\n",
        "\n",
        "            attention_scores = torch.bmm(query, values) # [batch_size, 1, hidden_size]*[batch_size, hidden_size, sequence_length] -> [batch_size, 1, sequence_length]\n",
        "            attention_scores = attention_scores.mul_(self.scale)\n",
        "            attention_distribution = F.softmax(attention_scores, dim=2)\n",
        "\n",
        "            attention_output = torch.bmm(attention_distribution, out)\n",
        "\n",
        "            out = self.fc(attention_output[:, -1, :])\n",
        "        else:\n",
        "            out = self.fc(out[:, -1, :])\n",
        "\n",
        "        return out"
      ]
    },
    {
      "cell_type": "markdown",
      "metadata": {
        "id": "E5b6HsR3Efqb"
      },
      "source": [
        "Create tensors and a train dataset to pass to dataloader.\n"
      ]
    },
    {
      "cell_type": "code",
      "execution_count": 44,
      "metadata": {
        "colab": {
          "base_uri": "https://localhost:8080/"
        },
        "id": "A1WcQYtxMAgT",
        "outputId": "e2e8828f-2026-40eb-d36b-74258efff861"
      },
      "outputs": [
        {
          "name": "stdout",
          "output_type": "stream",
          "text": [
            "x shape: torch.Size([15976, 31, 200])\n",
            "y shape: torch.Size([15976])\n",
            "x_test shape: torch.Size([2282, 31, 200])\n",
            "y_test shape: torch.Size([2282])\n"
          ]
        }
      ],
      "source": [
        "x = torch.tensor(np.stack(df_train['features'], axis=0), dtype=torch.float)\n",
        "y = torch.tensor(np.stack(df_train['label'], axis=0), dtype=torch.long)\n",
        "\n",
        "print(f\"x shape: {x.shape}\")\n",
        "print(f\"y shape: {y.shape}\")\n",
        "\n",
        "dataset = torch.utils.data.TensorDataset(x, y)\n",
        "\n",
        "x_test = torch.tensor(np.stack(df_test['features'], axis=0), dtype=torch.float)\n",
        "y_test = torch.tensor(np.stack(df_test['label'], axis=0), dtype=torch.long)\n",
        "\n",
        "print(f\"x_test shape: {x_test.shape}\")\n",
        "print(f\"y_test shape: {y_test.shape}\")\n"
      ]
    },
    {
      "cell_type": "markdown",
      "metadata": {
        "id": "TCzldPsPEmMj"
      },
      "source": [
        "### Train and evaluation function"
      ]
    },
    {
      "cell_type": "code",
      "execution_count": 45,
      "metadata": {
        "id": "ZN3Vfva8Ou7o"
      },
      "outputs": [],
      "source": [
        "def train(model, learning_rate, dataset, batch_size, epochs, x_test, y_test, device):\n",
        "    x_test = x_test.to(device=device).squeeze(1)\n",
        "    y_test = y_test.to(device=device)\n",
        "\n",
        "    # Loss and optimizer\n",
        "    criterion = nn.CrossEntropyLoss()\n",
        "    optimizer = optim.Adam(model.parameters(), lr=learning_rate)\n",
        "\n",
        "    epoch_loss = []\n",
        "    validation_loss = []\n",
        "    f1 = []\n",
        "\n",
        "    # Train Network\n",
        "    train_loader = torch.utils.data.DataLoader(dataset=dataset, batch_size=batch_size, shuffle=True, num_workers=0)\n",
        "    for epoch in range(epochs):\n",
        "        model.train()\n",
        "        batch_losses = []\n",
        "        for batch_idx, (data, targets) in enumerate(train_loader):\n",
        "            # Get data to cuda if possible\n",
        "            data = data.to(device=device).squeeze(1)\n",
        "            targets = targets.to(device=device)\n",
        "\n",
        "            # forward\n",
        "            scores = model(data)\n",
        "            loss = criterion(scores, targets)\n",
        "\n",
        "            batch_losses.append(loss.item())\n",
        "\n",
        "            # backward\n",
        "            optimizer.zero_grad()\n",
        "            loss.backward()\n",
        "\n",
        "            # Clip params\n",
        "            for param in model.parameters():\n",
        "                if param.grad is None:\n",
        "                    continue\n",
        "                grad_val = torch.clamp(param.grad, -5, 5)\n",
        "\n",
        "            # gradient descent or adam step\n",
        "            optimizer.step()\n",
        "            \n",
        "        epoch_loss.append(sum(batch_losses)/len(train_loader))\n",
        "        model.eval()\n",
        "        with torch.no_grad():\n",
        "            y_test_pred = model(x_test)\n",
        "\n",
        "        val_loss = criterion(y_test_pred, y_test)\n",
        "\n",
        "        validation_loss.append(val_loss.item())\n",
        "        f1score = f1_score(y_test.cpu(), y_test_pred.max(1)[1].cpu(), average='micro')\n",
        "        f1.append(f1score)\n",
        "        print(f\"Epoch {epoch:3}: Training Loss = {sum(batch_losses)/len(train_loader):.5f}  Validation Loss = {validation_loss[epoch]:.5f} f1= {f1score:.5f}\")\n",
        "\n",
        "    model.eval()\n",
        "\n",
        "    with torch.no_grad():\n",
        "        scores = model(x_test)\n",
        "        _, y_pred = scores.max(1)\n",
        "\n",
        "    if device==torch.device(\"cuda\"):\n",
        "        y_pred = y_pred.cpu()\n",
        "    \n",
        "    print(\"\")\n",
        "    precision, recall, f1, support = precision_recall_fscore_support(Y_test, y_pred)\n",
        "    print(f\"         precision\\t  recall\\t   f1\\t    \\tsupport\")\n",
        "    print(f\"---------------------------------------------------------------\")\n",
        "    print(f\"label 0 | {precision[0]*100:0.4f}\\t {recall[0]*100:0.4f}\\t {f1[0]*100:0.4f}\\t {support[0]}\")\n",
        "    print(f\"label 1 | {precision[1]*100:.4f}\\t {recall[1]*100:.4f}\\t {f1[1]*100:2.4f}\\t {support[1]}\")\n",
        "    print(f\"label 2 | {precision[2]*100:0.4f}\\t {recall[2]*100:0.4f}\\t {f1[2]*100:0.4f}\\t {support[2]}\")\n",
        "\n",
        "    average = precision_recall_fscore_support(Y_test, y_pred, average='micro')\n",
        "    print(f\"micro   | {average[0]*100:0.4f}\\t {average[1]*100:0.4f}\\t {average[2]*100:0.4f}\\t -\")\n",
        "\n",
        "    return epoch_loss, validation_loss, y_pred, scores, f1"
      ]
    },
    {
      "cell_type": "markdown",
      "metadata": {
        "id": "_dXVej-uEq6L"
      },
      "source": [
        "### Best model \n",
        "\n"
      ]
    },
    {
      "cell_type": "code",
      "execution_count": 46,
      "metadata": {
        "colab": {
          "base_uri": "https://localhost:8080/"
        },
        "id": "YqxAFFHmuAS6",
        "outputId": "3e23028c-5cb4-44b8-b771-31137c9ea283"
      },
      "outputs": [
        {
          "name": "stdout",
          "output_type": "stream",
          "text": [
            "Epoch   0: Training Loss = 0.79116  Validation Loss = 0.71961 f1= 0.68230\n",
            "Epoch   1: Training Loss = 0.66653  Validation Loss = 0.68966 f1= 0.70421\n",
            "Epoch   2: Training Loss = 0.60277  Validation Loss = 0.66701 f1= 0.71911\n",
            "\n",
            "         precision\t  recall\t   f1\t    \tsupport\n",
            "---------------------------------------------------------------\n",
            "label 0 | 78.1735\t 80.3756\t 79.2593\t 1065\n",
            "label 1 | 52.8384\t 40.8784\t 46.0952\t 296\n",
            "label 2 | 69.3111\t 72.0955\t 70.6759\t 921\n",
            "micro   | 71.9106\t 71.9106\t 71.9106\t -\n"
          ]
        }
      ],
      "source": [
        "set_seed() # for model and dataloader\n",
        "\n",
        "# Hyperparameters\n",
        "input_size = 200\n",
        "num_layers = 3\n",
        "hidden_size = 32\n",
        "num_classes = 3\n",
        "batch_size = 128\n",
        "cell = 'LSTM'\n",
        "dropout = 0.3\n",
        "\n",
        "epochs = 3\n",
        "learning_rate = 0.01\n",
        "\n",
        "# Initialize network\n",
        "model = BRNN(input_size, hidden_size, num_layers, num_classes, cell, dropout=dropout, attention=True).to(device)\n",
        "epoch_loss, validation_loss, y_pred, scores, f1 = train(model, learning_rate, dataset, batch_size, epochs, x_test, y_test, device)"
      ]
    },
    {
      "cell_type": "markdown",
      "metadata": {
        "id": "9DCj0ZOdKigS"
      },
      "source": [
        "### Confusion Matrix"
      ]
    },
    {
      "cell_type": "code",
      "execution_count": 47,
      "metadata": {
        "colab": {
          "base_uri": "https://localhost:8080/",
          "height": 278
        },
        "id": "EpcCOTShpJAX",
        "outputId": "d4224c72-aa8e-498b-ae6e-f4a1b903f42d"
      },
      "outputs": [
        {
          "data": {
            "image/png": "[encoded data removed]",
            "text/plain": [
              "<Figure size 432x288 with 2 Axes>"
            ]
          },
          "metadata": {
            "needs_background": "light"
          },
          "output_type": "display_data"
        }
      ],
      "source": [
        "ConfusionMatrixDisplay.from_predictions(Y_test, y_pred, cmap=plt.cm.pink)  \n",
        "plt.show()"
      ]
    },
    {
      "cell_type": "markdown",
      "metadata": {
        "id": "jdKeffHHKFkJ"
      },
      "source": [
        "### Learning Curves"
      ]
    },
    {
      "cell_type": "code",
      "execution_count": 48,
      "metadata": {
        "colab": {
          "base_uri": "https://localhost:8080/",
          "height": 320
        },
        "id": "uc-F-ub8FXKO",
        "outputId": "5f1715aa-92a7-44f5-baba-53294ebd30d9"
      },
      "outputs": [
        {
          "name": "stdout",
          "output_type": "stream",
          "text": [
            "[0.7911620564460754, 0.666525037765503, 0.6027658097743988]\n",
            "[0.719614565372467, 0.6896572709083557, 0.66701340675354]\n"
          ]
        },
        {
          "data": {
            "image/png": "[encoded data removed]",
            "text/plain": [
              "<Figure size 432x288 with 1 Axes>"
            ]
          },
          "metadata": {
            "needs_background": "light"
          },
          "output_type": "display_data"
        }
      ],
      "source": [
        "# plot\n",
        "print(epoch_loss)\n",
        "print(validation_loss)\n",
        "fig, ax = plt.subplots()\n",
        "ax.plot(np.arange(epochs), validation_loss, color=\"pink\", lw=2, label='validation')\n",
        "ax.plot(np.arange(epochs), epoch_loss, color=\"b\", lw=2, label='training')\n",
        "\n",
        "ax.set_xlabel('Epochs')\n",
        "ax.set_ylabel('Cross Entropy Loss')\n",
        "\n",
        "ax.grid()\n",
        "ax.legend(loc=0)\n",
        "plt.show()\n",
        "  "
      ]
    },
    {
      "cell_type": "markdown",
      "metadata": {
        "id": "8evj0-GpuWQb"
      },
      "source": [
        "### ROC Curve"
      ]
    },
    {
      "cell_type": "code",
      "execution_count": 49,
      "metadata": {
        "colab": {
          "base_uri": "https://localhost:8080/",
          "height": 551
        },
        "id": "ecDEwd5B_Rk_",
        "outputId": "345ec31d-025b-470b-a0be-2a4b3bf69ad1"
      },
      "outputs": [
        {
          "name": "stderr",
          "output_type": "stream",
          "text": [
            "/usr/local/lib/python3.7/dist-packages/ipykernel_launcher.py:30: DeprecationWarning: scipy.interp is deprecated and will be removed in SciPy 2.0.0, use numpy.interp instead\n"
          ]
        },
        {
          "data": {
            "image/png": "[encoded data removed]",
            "text/plain": [
              "<Figure size 576x576 with 1 Axes>"
            ]
          },
          "metadata": {
            "needs_background": "light"
          },
          "output_type": "display_data"
        }
      ],
      "source": [
        "# CODE FROM https://scikit-learn.org/stable/auto_examples/model_selection/plot_roc.html\n",
        "\n",
        "if device==torch.device(\"cuda\"):\n",
        "  y_score = scores.detach().cpu().numpy()\n",
        "else:\n",
        "  y_score = scores.detach().numpy()\n",
        "\n",
        "y_test_roc = np.array(pd.get_dummies(Y_test))\n",
        "n_classes = 3\n",
        "\n",
        "# Compute ROC curve and ROC area for each class\n",
        "fpr = dict()\n",
        "tpr = dict()\n",
        "roc_auc = dict()\n",
        "for i in range(n_classes):\n",
        "    fpr[i], tpr[i], _ = roc_curve(y_test_roc[:, i], y_score[:, i])\n",
        "    roc_auc[i] = auc(fpr[i], tpr[i])\n",
        "\n",
        "# Compute micro-average ROC curve and ROC area\n",
        "fpr[\"micro\"], tpr[\"micro\"], _ = roc_curve(y_test_roc.ravel(), y_score.ravel())\n",
        "roc_auc[\"micro\"] = auc(fpr[\"micro\"], tpr[\"micro\"])\n",
        "################################################################################\n",
        "\n",
        "# First aggregate all false positive rates\n",
        "all_fpr = np.unique(np.concatenate([fpr[i] for i in range(n_classes)]))\n",
        "\n",
        "# Then interpolate all ROC curves at this points\n",
        "mean_tpr = np.zeros_like(all_fpr)\n",
        "for i in range(n_classes):\n",
        "    mean_tpr += interp(all_fpr, fpr[i], tpr[i])\n",
        "\n",
        "# Finally average it and compute AUC\n",
        "mean_tpr /= n_classes\n",
        "\n",
        "fpr[\"macro\"] = all_fpr\n",
        "tpr[\"macro\"] = mean_tpr\n",
        "roc_auc[\"macro\"] = auc(fpr[\"macro\"], tpr[\"macro\"])\n",
        "\n",
        "# Plot all ROC curves\n",
        "plt.figure(figsize=(8,8))\n",
        "plt.plot(\n",
        "    fpr[\"micro\"],\n",
        "    tpr[\"micro\"],\n",
        "    label=\"micro-average ROC curve (area = {0:0.2f})\".format(roc_auc[\"micro\"]),\n",
        "    color=\"deeppink\",\n",
        "    linestyle=\":\",\n",
        "    linewidth=4,\n",
        ")\n",
        "\n",
        "plt.plot(\n",
        "    fpr[\"macro\"],\n",
        "    tpr[\"macro\"],\n",
        "    label=\"macro-average ROC curve (area = {0:0.2f})\".format(roc_auc[\"macro\"]),\n",
        "    color=\"navy\",\n",
        "    linestyle=\":\",\n",
        "    linewidth=4,\n",
        ")\n",
        "\n",
        "colors = cycle([\"aqua\", \"darkorange\", \"cornflowerblue\"])\n",
        "for i, color in zip(range(n_classes), colors):\n",
        "    plt.plot(\n",
        "        fpr[i],\n",
        "        tpr[i],\n",
        "        color=color,\n",
        "        lw=3,\n",
        "        label=\"ROC curve of class {0} (area = {1:0.2f})\".format(i, roc_auc[i]),\n",
        "    )\n",
        "\n",
        "plt.plot([0, 1], [0, 1], \"k--\", lw=3)\n",
        "plt.xlim([0.0, 1.0])\n",
        "plt.ylim([0.0, 1.05])\n",
        "plt.xlabel(\"False Positive Rate\")\n",
        "plt.ylabel(\"True Positive Rate\")\n",
        "plt.title(\"Some extension of Receiver operating characteristic to multiclass\")\n",
        "plt.legend(loc=\"lower right\")\n",
        "plt.show()"
      ]
    },
    {
      "cell_type": "markdown",
      "metadata": {
        "id": "leEE4tkI07CQ"
      },
      "source": [
        "### Experiments"
      ]
    },
    {
      "cell_type": "code",
      "execution_count": 50,
      "metadata": {
        "colab": {
          "base_uri": "https://localhost:8080/"
        },
        "id": "sI4xnAymwg58",
        "outputId": "f2a6e7b2-612a-4267-b5c2-e11b52e31ef7"
      },
      "outputs": [
        {
          "name": "stdout",
          "output_type": "stream",
          "text": [
            "Epoch   0: Training Loss = 0.76256  Validation Loss = 0.68623 f1= 0.70377\n",
            "Epoch   1: Training Loss = 0.64724  Validation Loss = 0.66522 f1= 0.70684\n",
            "Epoch   2: Training Loss = 0.57245  Validation Loss = 0.67380 f1= 0.71472\n",
            "\n",
            "         precision\t  recall\t   f1\t    \tsupport\n",
            "---------------------------------------------------------------\n",
            "label 0 | 82.1772\t 72.3005\t 76.9231\t 1065\n",
            "label 1 | 54.1502\t 46.2838\t 49.9089\t 296\n",
            "label 2 | 66.3004\t 78.6102\t 71.9324\t 921\n",
            "micro   | 71.4724\t 71.4724\t 71.4724\t -\n"
          ]
        }
      ],
      "source": [
        "set_seed() # for model and dataloader\n",
        "\n",
        "# Hyperparameters\n",
        "input_size = 200\n",
        "num_layers = 2\n",
        "hidden_size = 32\n",
        "num_classes = 3\n",
        "batch_size = 128\n",
        "cell = 'LSTM'\n",
        "dropout = 0.3\n",
        "\n",
        "epochs = 3\n",
        "learning_rate = 0.01\n",
        "\n",
        "# Initialize network\n",
        "model = BRNN(input_size, hidden_size, num_layers, num_classes, cell, dropout=dropout, attention=True).to(device)\n",
        "epoch_loss, validation_loss, y_pred, scores, f1 = train(model, learning_rate, dataset, batch_size, epochs, x_test, y_test, device)"
      ]
    },
    {
      "cell_type": "markdown",
      "metadata": {
        "id": "mVonPy5p5izj"
      },
      "source": [
        "Adding 1 layer. We observe better result. This is the best model that I chose."
      ]
    },
    {
      "cell_type": "code",
      "execution_count": 51,
      "metadata": {
        "colab": {
          "base_uri": "https://localhost:8080/"
        },
        "id": "dIWDTijQ5d51",
        "outputId": "76769d00-bb3a-450b-8d77-5709f25757c1"
      },
      "outputs": [
        {
          "name": "stdout",
          "output_type": "stream",
          "text": [
            "Epoch   0: Training Loss = 0.79116  Validation Loss = 0.71961 f1= 0.68230\n",
            "Epoch   1: Training Loss = 0.66653  Validation Loss = 0.68966 f1= 0.70421\n",
            "Epoch   2: Training Loss = 0.60277  Validation Loss = 0.66701 f1= 0.71911\n",
            "\n",
            "         precision\t  recall\t   f1\t    \tsupport\n",
            "---------------------------------------------------------------\n",
            "label 0 | 78.1735\t 80.3756\t 79.2593\t 1065\n",
            "label 1 | 52.8384\t 40.8784\t 46.0952\t 296\n",
            "label 2 | 69.3111\t 72.0955\t 70.6759\t 921\n",
            "micro   | 71.9106\t 71.9106\t 71.9106\t -\n"
          ]
        }
      ],
      "source": [
        "set_seed() # for model and dataloader\n",
        "\n",
        "# Hyperparameters\n",
        "input_size = 200\n",
        "num_layers = 3\n",
        "hidden_size = 32\n",
        "num_classes = 3\n",
        "batch_size = 128\n",
        "cell = 'LSTM'\n",
        "dropout = 0.3\n",
        "\n",
        "epochs = 3\n",
        "learning_rate = 0.01\n",
        "\n",
        "# Initialize network\n",
        "model = BRNN(input_size, hidden_size, num_layers, num_classes, cell, dropout=dropout, attention=True).to(device)\n",
        "epoch_loss, validation_loss, y_pred, scores, f1 = train(model, learning_rate, dataset, batch_size, epochs, x_test, y_test, device)"
      ]
    },
    {
      "cell_type": "markdown",
      "metadata": {
        "id": "u8jM7whU5-tZ"
      },
      "source": [
        "Add 2 epochs. We see that the 2 more epochs overfit because the validation loss and f1 score get worse."
      ]
    },
    {
      "cell_type": "code",
      "execution_count": 52,
      "metadata": {
        "colab": {
          "base_uri": "https://localhost:8080/"
        },
        "id": "zU4NXXn85y38",
        "outputId": "c153944d-9b11-4a6a-cc9e-06ffe2a5cc67"
      },
      "outputs": [
        {
          "name": "stdout",
          "output_type": "stream",
          "text": [
            "Epoch   0: Training Loss = 0.79116  Validation Loss = 0.71961 f1= 0.68230\n",
            "Epoch   1: Training Loss = 0.66653  Validation Loss = 0.68966 f1= 0.70421\n",
            "Epoch   2: Training Loss = 0.60277  Validation Loss = 0.66701 f1= 0.71911\n",
            "Epoch   3: Training Loss = 0.53511  Validation Loss = 0.72830 f1= 0.70508\n",
            "Epoch   4: Training Loss = 0.48418  Validation Loss = 0.69365 f1= 0.70771\n",
            "\n",
            "         precision\t  recall\t   f1\t    \tsupport\n",
            "---------------------------------------------------------------\n",
            "label 0 | 81.1975\t 72.5822\t 76.6485\t 1065\n",
            "label 1 | 64.3357\t 31.0811\t 41.9134\t 296\n",
            "label 2 | 63.1845\t 81.4332\t 71.1575\t 921\n",
            "micro   | 70.7713\t 70.7713\t 70.7713\t -\n"
          ]
        }
      ],
      "source": [
        "set_seed() # for model and dataloader\n",
        "\n",
        "# Hyperparameters\n",
        "input_size = 200\n",
        "num_layers = 3\n",
        "hidden_size = 32\n",
        "num_classes = 3\n",
        "batch_size = 128\n",
        "cell = 'LSTM'\n",
        "dropout = 0.3\n",
        "\n",
        "epochs = 5\n",
        "learning_rate = 0.01\n",
        "\n",
        "# Initialize network\n",
        "model = BRNN(input_size, hidden_size, num_layers, num_classes, cell, dropout=dropout, attention=True).to(device)\n",
        "epoch_loss, validation_loss, y_pred, scores, f1 = train(model, learning_rate, dataset, batch_size, epochs, x_test, y_test, device)"
      ]
    },
    {
      "cell_type": "markdown",
      "metadata": {
        "id": "jUG07soUaU3K"
      },
      "source": [
        "Larger hidden size has a slightly worse result."
      ]
    },
    {
      "cell_type": "code",
      "execution_count": 53,
      "metadata": {
        "colab": {
          "base_uri": "https://localhost:8080/"
        },
        "id": "9uXduJJg95wF",
        "outputId": "48920aad-78f1-430e-9db7-af4ebd017525"
      },
      "outputs": [
        {
          "name": "stdout",
          "output_type": "stream",
          "text": [
            "Epoch   0: Training Loss = 0.78193  Validation Loss = 0.69781 f1= 0.69588\n",
            "Epoch   1: Training Loss = 0.67241  Validation Loss = 0.66963 f1= 0.71604\n",
            "\n",
            "         precision\t  recall\t   f1\t    \tsupport\n",
            "---------------------------------------------------------------\n",
            "label 0 | 76.8336\t 80.6573\t 78.6990\t 1065\n",
            "label 1 | 51.8072\t 43.5811\t 47.3394\t 296\n",
            "label 2 | 70.6011\t 70.1412\t 70.3704\t 921\n",
            "micro   | 71.6039\t 71.6039\t 71.6039\t -\n"
          ]
        }
      ],
      "source": [
        "set_seed() # for model and dataloader\n",
        "\n",
        "# Hyperparameters\n",
        "input_size = 200\n",
        "num_layers = 3\n",
        "hidden_size = 64\n",
        "num_classes = 3\n",
        "batch_size = 64\n",
        "cell = 'LSTM'\n",
        "dropout = 0.3\n",
        "\n",
        "epochs = 2\n",
        "learning_rate = 0.01\n",
        "\n",
        "# Initialize network\n",
        "model = BRNN(input_size, hidden_size, num_layers, num_classes, cell, dropout=dropout, attention=True).to(device)\n",
        "epoch_loss, validation_loss, y_pred, scores, f1 = train(model, learning_rate, dataset, batch_size, epochs, x_test, y_test, device)"
      ]
    },
    {
      "cell_type": "markdown",
      "metadata": {
        "id": "BHqFhbcrAc75"
      },
      "source": [
        "#### Skip connections\n",
        "\"Best\" parameters but with skip connections. I will make the network larger as skip connections are better for large networks and to train a larger network we need more epochs."
      ]
    },
    {
      "cell_type": "code",
      "execution_count": 54,
      "metadata": {
        "colab": {
          "base_uri": "https://localhost:8080/"
        },
        "id": "GFj-IDBiAcRh",
        "outputId": "53b80e66-f227-4444-d09c-9e1a23336e51"
      },
      "outputs": [
        {
          "name": "stdout",
          "output_type": "stream",
          "text": [
            "Epoch   0: Training Loss = 0.93555  Validation Loss = 0.84751 f1= 0.60649\n",
            "Epoch   1: Training Loss = 0.85197  Validation Loss = 0.79786 f1= 0.63322\n",
            "Epoch   2: Training Loss = 0.82052  Validation Loss = 0.76221 f1= 0.65513\n",
            "Epoch   3: Training Loss = 0.80093  Validation Loss = 0.75763 f1= 0.65469\n",
            "Epoch   4: Training Loss = 0.79203  Validation Loss = 0.75162 f1= 0.66170\n",
            "Epoch   5: Training Loss = 0.77612  Validation Loss = 0.74310 f1= 0.66608\n",
            "Epoch   6: Training Loss = 0.77075  Validation Loss = 0.73223 f1= 0.66959\n",
            "\n",
            "         precision\t  recall\t   f1\t    \tsupport\n",
            "---------------------------------------------------------------\n",
            "label 0 | 76.5385\t 74.7418\t 75.6295\t 1065\n",
            "label 1 | 56.0000\t 14.1892\t 22.6415\t 296\n",
            "label 2 | 59.1260\t 74.9186\t 66.0920\t 921\n",
            "micro   | 66.9588\t 66.9588\t 66.9588\t -\n"
          ]
        }
      ],
      "source": [
        "set_seed() # for model and dataloader\n",
        "\n",
        "# Hyperparameters\n",
        "input_size = 200\n",
        "num_layers = 5\n",
        "hidden_size = 64\n",
        "num_classes = 3\n",
        "batch_size = 128\n",
        "cell = 'LSTM'\n",
        "dropout = 0.3\n",
        "\n",
        "epochs = 7\n",
        "learning_rate = 0.01\n",
        "\n",
        "# Initialize network\n",
        "model = skipBRNN(input_size, hidden_size, num_layers, num_classes, cell, dropout=dropout, attention=True).to(device)\n",
        "epoch_loss, validation_loss, y_pred, scores, f1 = train(model, learning_rate, dataset, batch_size, epochs, x_test, y_test, device)"
      ]
    },
    {
      "cell_type": "markdown",
      "metadata": {
        "id": "w2rHsah5ApzJ"
      },
      "source": [
        "#### \"Best\" parameters but without attention.\n",
        "\n",
        "We observe that it doesn't learn label 1 at all. The improvement in the version with attention is significant."
      ]
    },
    {
      "cell_type": "code",
      "execution_count": 55,
      "metadata": {
        "colab": {
          "base_uri": "https://localhost:8080/"
        },
        "id": "VVAlbRbbApzJ",
        "outputId": "24be6d74-b2ce-4518-c1bc-f32da573b357"
      },
      "outputs": [
        {
          "name": "stdout",
          "output_type": "stream",
          "text": [
            "Epoch   0: Training Loss = 0.88929  Validation Loss = 0.78293 f1= 0.65513\n",
            "Epoch   1: Training Loss = 0.77012  Validation Loss = 0.76495 f1= 0.66696\n",
            "Epoch   2: Training Loss = 0.73001  Validation Loss = 0.74068 f1= 0.68273\n",
            "\n",
            "         precision\t  recall\t   f1\t    \tsupport\n",
            "---------------------------------------------------------------\n",
            "label 0 | 81.4050\t 73.9906\t 77.5209\t 1065\n",
            "label 1 | 0.0000\t 0.0000\t 0.0000\t 296\n",
            "label 2 | 58.5997\t 83.6048\t 68.9038\t 921\n",
            "micro   | 68.2734\t 68.2734\t 68.2734\t -\n"
          ]
        },
        {
          "name": "stderr",
          "output_type": "stream",
          "text": [
            "/usr/local/lib/python3.7/dist-packages/sklearn/metrics/_classification.py:1318: UndefinedMetricWarning: Precision and F-score are ill-defined and being set to 0.0 in labels with no predicted samples. Use `zero_division` parameter to control this behavior.\n",
            "  _warn_prf(average, modifier, msg_start, len(result))\n"
          ]
        }
      ],
      "source": [
        "set_seed() # for model and dataloader\n",
        "\n",
        "# Hyperparameters\n",
        "input_size = 200\n",
        "num_layers = 3\n",
        "hidden_size = 32\n",
        "num_classes = 3\n",
        "batch_size = 128\n",
        "cell = 'LSTM'\n",
        "dropout = 0.3\n",
        "\n",
        "epochs = 3\n",
        "learning_rate = 0.01\n",
        "\n",
        "# Initialize network\n",
        "model = BRNN(input_size, hidden_size, num_layers, num_classes, cell, dropout=dropout, attention=False).to(device)\n",
        "epoch_loss, validation_loss, y_pred, scores, f1 = train(model, learning_rate, dataset, batch_size, epochs, x_test, y_test, device)"
      ]
    },
    {
      "cell_type": "markdown",
      "metadata": {
        "id": "XjjH3Il5EGSh"
      },
      "source": [
        "Let's try 2 layers and a larger hidden_size. The result is better than the previous one, but worse than with attention. Also, it needs more epochs than with attetion."
      ]
    },
    {
      "cell_type": "code",
      "execution_count": 56,
      "metadata": {
        "colab": {
          "base_uri": "https://localhost:8080/"
        },
        "id": "KftCyNqjESBT",
        "outputId": "833ddaf2-c96c-4baf-910d-ed7798f01224"
      },
      "outputs": [
        {
          "name": "stdout",
          "output_type": "stream",
          "text": [
            "Epoch   0: Training Loss = 0.98590  Validation Loss = 0.94963 f1= 0.54207\n",
            "Epoch   1: Training Loss = 0.82077  Validation Loss = 0.74600 f1= 0.66608\n",
            "Epoch   2: Training Loss = 0.71422  Validation Loss = 0.70798 f1= 0.68405\n",
            "Epoch   3: Training Loss = 0.65371  Validation Loss = 0.72892 f1= 0.68011\n",
            "Epoch   4: Training Loss = 0.60167  Validation Loss = 0.69840 f1= 0.70026\n",
            "\n",
            "         precision\t  recall\t   f1\t    \tsupport\n",
            "---------------------------------------------------------------\n",
            "label 0 | 76.6423\t 78.8732\t 77.7418\t 1065\n",
            "label 1 | 50.6608\t 38.8514\t 43.9771\t 296\n",
            "label 2 | 67.0490\t 69.8154\t 68.4043\t 921\n",
            "micro   | 70.0263\t 70.0263\t 70.0263\t -\n"
          ]
        }
      ],
      "source": [
        "set_seed() # for model and dataloader\n",
        "\n",
        "# Hyperparameters\n",
        "input_size = 200\n",
        "num_layers = 2\n",
        "hidden_size = 128\n",
        "num_classes = 3\n",
        "batch_size = 128\n",
        "cell = 'LSTM'\n",
        "dropout = 0.3\n",
        "\n",
        "epochs = 5\n",
        "learning_rate = 0.01\n",
        "\n",
        "# Initialize network\n",
        "model = BRNN(input_size, hidden_size, num_layers, num_classes, cell, dropout=dropout, attention=False).to(device)\n",
        "epoch_loss, validation_loss, y_pred, scores, f1 = train(model, learning_rate, dataset, batch_size, epochs, x_test, y_test, device)"
      ]
    },
    {
      "cell_type": "markdown",
      "metadata": {
        "id": "9J74oFbbGFw6"
      },
      "source": [
        "With an even larger hidden size:"
      ]
    },
    {
      "cell_type": "code",
      "execution_count": 57,
      "metadata": {
        "colab": {
          "base_uri": "https://localhost:8080/"
        },
        "id": "upzr9r_1GFw6",
        "outputId": "4f14015d-83f8-43de-8252-27c9257e7fd2"
      },
      "outputs": [
        {
          "name": "stdout",
          "output_type": "stream",
          "text": [
            "Epoch   0: Training Loss = 0.96748  Validation Loss = 0.80191 f1= 0.65118\n",
            "Epoch   1: Training Loss = 0.77014  Validation Loss = 0.75083 f1= 0.67134\n",
            "Epoch   2: Training Loss = 0.72127  Validation Loss = 0.71768 f1= 0.67572\n",
            "Epoch   3: Training Loss = 0.64952  Validation Loss = 0.70514 f1= 0.68843\n",
            "Epoch   4: Training Loss = 0.57107  Validation Loss = 0.71652 f1= 0.69457\n",
            "Epoch   5: Training Loss = 0.49438  Validation Loss = 0.76070 f1= 0.69369\n",
            "Epoch   6: Training Loss = 0.41721  Validation Loss = 0.81722 f1= 0.68317\n",
            "Epoch   7: Training Loss = 0.34523  Validation Loss = 0.84297 f1= 0.69632\n",
            "\n",
            "         precision\t  recall\t   f1\t    \tsupport\n",
            "---------------------------------------------------------------\n",
            "label 0 | 74.5027\t 77.3709\t 75.9097\t 1065\n",
            "label 1 | 57.6923\t 40.5405\t 47.6190\t 296\n",
            "label 2 | 66.6322\t 70.0326\t 68.2901\t 921\n",
            "micro   | 69.6319\t 69.6319\t 69.6319\t -\n"
          ]
        }
      ],
      "source": [
        "set_seed() # for model and dataloader\n",
        "\n",
        "# Hyperparameters\n",
        "input_size = 200\n",
        "num_layers = 2\n",
        "hidden_size = 256\n",
        "num_classes = 3\n",
        "batch_size = 256\n",
        "cell = 'LSTM'\n",
        "dropout = 0.2\n",
        "\n",
        "epochs = 8\n",
        "learning_rate = 0.01\n",
        "\n",
        "# Initialize network\n",
        "model = BRNN(input_size, hidden_size, num_layers, num_classes, cell, dropout=dropout, attention=False).to(device)\n",
        "epoch_loss, validation_loss, y_pred, scores, f1 = train(model, learning_rate, dataset, batch_size, epochs, x_test, y_test, device)"
      ]
    },
    {
      "cell_type": "markdown",
      "metadata": {
        "id": "_CjX5_FUC7jI"
      },
      "source": [
        "#### GRU\n",
        "Trying GRU with the best parameters. The training is faster and we get the best result at 2 epochs but is overall worse than the LSTM one."
      ]
    },
    {
      "cell_type": "code",
      "execution_count": 80,
      "metadata": {
        "colab": {
          "base_uri": "https://localhost:8080/"
        },
        "id": "x-xHJaTZC6wd",
        "outputId": "143814de-9697-44b5-8eba-eb9e5929c634"
      },
      "outputs": [
        {
          "name": "stdout",
          "output_type": "stream",
          "text": [
            "Epoch   0: Training Loss = 0.76926  Validation Loss = 0.75763 f1= 0.64987\n",
            "Epoch   1: Training Loss = 0.66705  Validation Loss = 0.67199 f1= 0.70727\n",
            "\n",
            "         precision\t  recall\t   f1\t    \tsupport\n",
            "---------------------------------------------------------------\n",
            "label 0 | 80.4481\t 74.1784\t 77.1861\t 1065\n",
            "label 1 | 53.6458\t 34.7973\t 42.2131\t 296\n",
            "label 2 | 65.0722\t 78.2845\t 71.0695\t 921\n",
            "micro   | 70.7274\t 70.7274\t 70.7274\t -\n"
          ]
        }
      ],
      "source": [
        "set_seed() # for model and dataloader\n",
        "\n",
        "# Hyperparameters\n",
        "input_size = 200\n",
        "num_layers = 3\n",
        "hidden_size = 32\n",
        "num_classes = 3\n",
        "batch_size = 128\n",
        "cell = 'GRU'\n",
        "dropout = 0.3\n",
        "\n",
        "epochs = 2\n",
        "learning_rate = 0.01\n",
        "\n",
        "# Initialize network\n",
        "model = BRNN(input_size, hidden_size, num_layers, num_classes, cell, dropout=dropout, attention=True).to(device)\n",
        "epoch_loss, validation_loss, y_pred, scores, f1 = train(model, learning_rate, dataset, batch_size, epochs, x_test, y_test, device)"
      ]
    },
    {
      "cell_type": "markdown",
      "metadata": {
        "id": "DL1kRRg6yInu"
      },
      "source": [
        "#### Grid search\n",
        "Simple grid search. I did not use this function a lot because it runs for hours. "
      ]
    },
    {
      "cell_type": "code",
      "execution_count": 59,
      "metadata": {
        "id": "I9b558TxLAFh"
      },
      "outputs": [],
      "source": [
        "def grid_search(net, max_epochs = 8):\n",
        "    dict_best = {}\n",
        "    best_loss = 1.0\n",
        "    best_f1 = 0\n",
        "    dict_best_f1 = {}\n",
        "    curr = {}\n",
        "    # common parameters\n",
        "    input_size = 200\n",
        "    num_classes = 3\n",
        "    cell = 'LSTM' # try lstm first\n",
        "    learning_rate = 0.01\n",
        "\n",
        "    for num_layers in [3,4]:\n",
        "        curr['num_layers'] = num_layers\n",
        "        for hidden_size in [32, 64, 128]:\n",
        "            curr['hidden_size'] = hidden_size\n",
        "            for batch_size in [64, 128]:\n",
        "                curr['batch_size'] = batch_size\n",
        "                for dropout in [0.0,0.1,0.2,0.3]:\n",
        "                    curr['dropout'] = dropout\n",
        "                    for attention in [False, True]:\n",
        "                        curr['attention'] = attention\n",
        "                        print(f\"num_layers: {curr['num_layers']},hidden_size: {curr['hidden_size']}, batch_size: {curr['batch_size']}, dropout: {curr['dropout']}, attention: {curr['attention']}\")\n",
        "                        set_seed() # for model and dataloader\n",
        "                        model = net(input_size, hidden_size, num_layers, num_classes, cell, dropout=dropout, attention=attention).to(device)\n",
        "                        _, validation_loss, _, _, f1score = train(model, learning_rate, dataset, batch_size, max_epochs, x_test, y_test, device)\n",
        "                        indexloss = np.array(validation_loss).argmin()\n",
        "                        indexf1 = np.array(f1score).argmax()\n",
        "                        curr['epoch_f1'] = indexf1+1\n",
        "                        curr['epoch_loss'] = indexloss+1\n",
        "                        if (validation_loss[indexloss] < best_loss):\n",
        "                            best_loss = validation_loss[indexloss]\n",
        "                            dict_best = curr\n",
        "                        print(f1score)\n",
        "                        if (f1score[indexf1] > best_f1):\n",
        "                            best_f1 = f1score[indexf1]\n",
        "                            dict_best_f1 = curr\n",
        "    # curr['num_layers'] = 1\n",
        "    # curr['dropout'] = 0.0\n",
        "    # for hidden_size in [32, 64, 128]:\n",
        "    #     curr['hidden_size'] = hidden_size\n",
        "    #     for batch_size in [64, 128]:\n",
        "    #         curr['batch_size'] = batch_size\n",
        "    #         for attention in [False, True]:\n",
        "    #             curr['attention'] = attention\n",
        "    #             print(f\"num_layers: {curr['num_layers']},hidden_size: {curr['hidden_size']}, batch_size: {curr['batch_size']}, dropout: {curr['dropout']}, attention: {curr['attention']}\")\n",
        "    #             set_seed() # for model and dataloader\n",
        "    #             model = BRNN(input_size, hidden_size, 1, num_classes, cell, dropout=0.0, attention=True).to(device)\n",
        "    #             _, validation_loss, _, _, f1 = train(model, learning_rate, dataset, batch_size, max_epochs, x_test, y_test, device)\n",
        "    #             index = np.array(validation_loss).argmin()\n",
        "    #             if (validation_loss[index] < best_loss):\n",
        "    #                 best_loss = validation_loss[index]\n",
        "    #                 dict_best = curr\n",
        "    \n",
        "    return dict_best, best_loss, dict_best_f1, best_f1"
      ]
    },
    {
      "cell_type": "markdown",
      "metadata": {
        "id": "Qz1QIYvfu4cE"
      },
      "source": [
        "## Dynamic length of sequences\n",
        "\n",
        "Using bucket iterator for dataloader and an embedding layer in our models."
      ]
    },
    {
      "cell_type": "markdown",
      "metadata": {
        "id": "bS29vr0zdCDz"
      },
      "source": [
        "### Net using embedding layer\n",
        "First, I am going to redefine the models to add the embedding layer and to make it compatible with the batches for BucketIteratot."
      ]
    },
    {
      "cell_type": "code",
      "execution_count": 60,
      "metadata": {
        "id": "xZ7R-9TmGOCJ"
      },
      "outputs": [],
      "source": [
        "# Create a bidirectional LSTM\n",
        "class BRNN2(nn.Module):\n",
        "    def __init__(self, input_size, hidden_size, num_layers, num_classes, cell, embedding, dropout=0.3, attention=True):\n",
        "        super(BRNN2, self).__init__()\n",
        "        self.hidden_size = hidden_size\n",
        "        self.num_layers = num_layers\n",
        "        self.cell = cell\n",
        "        self.embedding = nn.Embedding.from_pretrained(torch.FloatTensor(embedding))\n",
        "        self.attention = attention\n",
        "        self.scale = 1. / math.sqrt(hidden_size)\n",
        "        if (cell == 'LSTM'):\n",
        "          self.rnn = nn.LSTM(\n",
        "              input_size, hidden_size, num_layers, bidirectional=True, dropout=dropout\n",
        "          )\n",
        "        else:\n",
        "          self.rnn = nn.GRU(\n",
        "              input_size, hidden_size, num_layers, bidirectional=True, dropout=dropout\n",
        "          )\n",
        "        self.fc = nn.Linear(hidden_size * 2, num_classes)\n",
        "\n",
        "    def forward(self, x):\n",
        "        x = self.embedding(x)\n",
        "        if (self.cell == 'LSTM'):\n",
        "          out, hidden = self.rnn(x)\n",
        "          hidden = hidden[1]\n",
        "        else:\n",
        "          out, hidden = self.rnn(x)\n",
        "\n",
        "        if (self.attention==True):\n",
        "            out = out.transpose(0,1) # [sequence_length, batch_size, hidden_size] -> [batch_size, hidden_size, sequence_length]\n",
        "            hidden = torch.cat([hidden[-1], hidden[-2]], dim=1) # concatinate the last 2 hidden cells (backward & forward) bc we use bidirectional rnns\n",
        "\n",
        "            query = hidden.unsqueeze(1) # [batch_size, hidden_size] -> [batch_size, 1, hidden_size]\n",
        "            values = out.transpose(1,2) # [batch_size, sequence_length, hidden_size] -> [batch_size, hidden_size, sequence_length]\n",
        "\n",
        "            attention_scores = torch.bmm(query, values) # [batch_size, 1, hidden_size]*[batch_size, hidden_size, sequence_length] -> [batch_size, 1, sequence_length]\n",
        "            attention_scores = attention_scores.mul_(self.scale)\n",
        "            attention_distribution = F.softmax(attention_scores, dim=2)\n",
        "\n",
        "            attention_output = torch.bmm(attention_distribution, out)\n",
        "\n",
        "            out = self.fc(attention_output[:, -1, :])\n",
        "        else:\n",
        "\n",
        "            out = self.fc(out[-1, :, :])\n",
        "\n",
        "        return out"
      ]
    },
    {
      "cell_type": "markdown",
      "metadata": {
        "id": "1HNjuAs_dj2C"
      },
      "source": [
        "### With Skip Connections\n",
        "Same for skip connections."
      ]
    },
    {
      "cell_type": "code",
      "execution_count": 61,
      "metadata": {
        "id": "pzJ4shSuo8z5"
      },
      "outputs": [],
      "source": [
        "class skipBRNN2(nn.Module):\n",
        "    def __init__(self, input_size, hidden_size, num_layers, num_classes, cell, embedding, attention=True):\n",
        "        super(skipBRNN2, self).__init__()\n",
        "        self.hidden_size = hidden_size\n",
        "        self.num_layers = num_layers\n",
        "        self.cell = cell\n",
        "        self.dropout = nn.Dropout(p=0.3)\n",
        "        self.embedding = nn.Embedding.from_pretrained(torch.FloatTensor(embedding))\n",
        "        self.attention = attention\n",
        "        self.scale = 1. / math.sqrt(hidden_size)\n",
        "        \n",
        "        if (cell == 'LSTM'):\n",
        "            rnn = nn.LSTM\n",
        "        else:\n",
        "            rnn = nn.GRU\n",
        "\n",
        "        self.rnns = nn.ModuleList()\n",
        "        for i in range(num_layers):\n",
        "            input_size = input_size if i == 0 else hidden_size*2\n",
        "            self.rnns.append(rnn(input_size, hidden_size, 1, bidirectional=True))\n",
        "        \n",
        "        self.fc = nn.Linear(hidden_size * 2, num_classes)\n",
        "\n",
        "    def forward(self, x):\n",
        "\n",
        "        sent_variable = self.embedding(x)\n",
        "\n",
        "        for i in range(self.num_layers):\n",
        "            if i != 0:\n",
        "                sent_variable = self.dropout(sent_variable.detach())\n",
        "\n",
        "            out, hidden = self.rnns[i](sent_variable.detach())\n",
        "            hidden = hidden[1]\n",
        "\n",
        "            if i == 0:\n",
        "                sent_variable = out.detach()\n",
        "            sent_variable = torch.cat((sent_variable,out.detach()),dim=0)\n",
        "\n",
        "        if (self.attention==True):\n",
        "\n",
        "            out = out.transpose(0,1) # [sequence_length, batch_size, hidden_size] -> [batch_size, hidden_size, sequence_length]\n",
        "            hidden = torch.cat([hidden[-1], hidden[-2]], dim=1) # concatinate the last 2 hidden cells (backward & forward) bc we use bidirectional rnns\n",
        "\n",
        "            query = hidden.unsqueeze(1) # [batch_size, hidden_size] -> [batch_size, 1, hidden_size]\n",
        "            values = out.transpose(1,2) # [batch_size, sequence_length, hidden_size] -> [batch_size, hidden_size, sequence_length]\n",
        "\n",
        "            attention_scores = torch.bmm(query, values) # [batch_size, 1, hidden_size]*[batch_size, hidden_size, sequence_length] -> [batch_size, 1, sequence_length]\n",
        "            attention_scores = attention_scores.mul_(self.scale)\n",
        "            attention_distribution = F.softmax(attention_scores, dim=2)\n",
        "\n",
        "            attention_output = torch.bmm(attention_distribution, out)\n",
        "\n",
        "            out = self.fc(attention_output[:, -1, :])\n",
        "\n",
        "        else:\n",
        "\n",
        "            out = self.fc(out[-1, :, :])\n",
        "\n",
        "        return out"
      ]
    },
    {
      "cell_type": "markdown",
      "metadata": {
        "id": "djpztiHuE3ND"
      },
      "source": [
        "Load the vectors."
      ]
    },
    {
      "cell_type": "code",
      "execution_count": 62,
      "metadata": {
        "colab": {
          "base_uri": "https://localhost:8080/"
        },
        "id": "4KYbNJ2Sze59",
        "outputId": "d9c870f9-db5d-43de-c46e-9be1a248ee42"
      },
      "outputs": [
        {
          "name": "stderr",
          "output_type": "stream",
          "text": [
            "  0%|          | 0/1193514 [00:00<?, ?it/s]Skipping token b'1193514' with 1-dimensional vector [b'200']; likely a header\n",
            "100%|██████████| 1193514/1193514 [02:06<00:00, 9458.39it/s]\n"
          ]
        }
      ],
      "source": [
        "glove_vocab  = vocab.Vectors(r\"/content/drive/MyDrive/Colab Notebooks/Artificial Intelligence II/glove.twitter.27B.200d.txt.gz (Unzipped Files)/glove.twitter.27B.200d.txt\")"
      ]
    },
    {
      "cell_type": "markdown",
      "metadata": {
        "id": "7WX54-fDE8Ky"
      },
      "source": [
        "Create new datasets with only the useful columns."
      ]
    },
    {
      "cell_type": "code",
      "execution_count": 63,
      "metadata": {
        "id": "kviQ0DeB4lZ_"
      },
      "outputs": [],
      "source": [
        "df_train_new = df_train.drop(columns=['tweet', 'features'])"
      ]
    },
    {
      "cell_type": "code",
      "execution_count": 64,
      "metadata": {
        "id": "fEMf_Od14zf4"
      },
      "outputs": [],
      "source": [
        "df_test_new = df_test.drop(columns=['tweet', 'features'])"
      ]
    },
    {
      "cell_type": "markdown",
      "metadata": {
        "id": "xFiFHNioFFTi"
      },
      "source": [
        "Create the dataloaders for batches."
      ]
    },
    {
      "cell_type": "code",
      "execution_count": 65,
      "metadata": {
        "id": "rruSfBwzOo4E"
      },
      "outputs": [],
      "source": [
        "random.setstate(random.getstate())\n",
        "text_field = Field(tokenize=nltk.word_tokenize,lower=True,sequential=True, fix_length=31) # tokenize text using word_tokenize and convert to numerical form using default parameters\n",
        "label_field = Field(sequential=False, use_vocab=False)\n",
        "\n",
        "fields = [('label',label_field),('clean_tweet',text_field)]\n",
        "\n",
        "preprocessed_text = df_train_new['clean_tweet'].apply(lambda x: text_field.preprocess(x))\n",
        "text_field.build_vocab(preprocessed_text,vectors=glove_vocab)\n",
        "\n",
        "train_dataset = Dataset(\n",
        "    examples=[Example.fromlist(list(r),fields) for i,r in df_train_new.iterrows()],\n",
        "    fields=fields)\n",
        "\n",
        "preprocessed_text_test = df_test_new['clean_tweet'].apply(lambda x: text_field.preprocess(x))\n",
        "text_field.build_vocab(preprocessed_text_test,vectors=glove_vocab)\n",
        "\n",
        "test_dataset = Dataset(\n",
        "    examples=[Example.fromlist(list(r),fields) for i,r in df_test_new.iterrows()],\n",
        "    fields=fields)\n",
        "\n"
      ]
    },
    {
      "cell_type": "markdown",
      "metadata": {
        "id": "OMArysBcw3qP"
      },
      "source": [
        "### Train and evaluation function "
      ]
    },
    {
      "cell_type": "code",
      "execution_count": 66,
      "metadata": {
        "id": "TR_hF6_U6T2W"
      },
      "outputs": [],
      "source": [
        "def train2(model, learning_rate, train_dataset, test_dataset, batch_size, epochs, device):\n",
        "    # Loss and optimizer\n",
        "    criterion = nn.CrossEntropyLoss()\n",
        "    optimizer = optim.Adam(model.parameters(), lr=learning_rate)\n",
        "\n",
        "    epoch_loss = []\n",
        "    validation_loss = []\n",
        "\n",
        "    train_loader, test_loader = BucketIterator.splits(\n",
        "        datasets=(train_dataset, test_dataset),         # Datasets for iterator to draw data from\n",
        "        batch_sizes=(batch_size, batch_size),           # Tuple of train and validation batch sizes.\n",
        "        sort=False,                                     # Sort all examples in data using `sort_key`.\n",
        "        device=device,                                  # Device to load batches on.\n",
        "        sort_key=lambda x: len(x.clean_tweet),     # Function to use for sorting examples.\n",
        "        shuffle=True,                                   # Shuffle data on each epoch run.\n",
        "        sort_within_batch=True                          # Use `sort_key` to sort examples in each batch.\n",
        "    )\n",
        "    # Train Network\n",
        "    for epoch in range(epochs):\n",
        "        model.train()\n",
        "        batch_losses = []\n",
        "        for batch in train_loader:\n",
        "\n",
        "            data = batch.clean_tweet\n",
        "            targets = batch.label\n",
        "\n",
        "            data = data.to(device=device).squeeze(1) # to device\n",
        "            targets = targets.to(device=device) # to device\n",
        "\n",
        "            # forward\n",
        "            scores = model(data)\n",
        "            loss = criterion(scores, targets)\n",
        "\n",
        "            batch_losses.append(loss.item())\n",
        "\n",
        "            # backward\n",
        "            optimizer.zero_grad()\n",
        "            loss.backward()\n",
        "\n",
        "            # Clip params\n",
        "            for param in model.parameters():\n",
        "                if param.grad is None:\n",
        "                    continue\n",
        "                grad_val = torch.clamp(param.grad, -5, 5)\n",
        "\n",
        "            # adam step\n",
        "            optimizer.step()\n",
        "            \n",
        "        epoch_loss.append(sum(batch_losses)/len(train_loader))\n",
        "        \n",
        "        model.eval()\n",
        "        batch_val_losses = []\n",
        "        with torch.no_grad():\n",
        "            for test_batch in test_loader:\n",
        "                x = test_batch.clean_tweet\n",
        "                y = test_batch.label\n",
        "                x = x.to(device=device).squeeze(1)\n",
        "                y = y.to(device=device)\n",
        "\n",
        "                scores = model(x)\n",
        "                loss = criterion(scores, y)\n",
        "\n",
        "                batch_val_losses.append(loss.item())\n",
        "\n",
        "            validation_loss.append(sum(batch_val_losses)/len(test_loader))\n",
        "\n",
        "        print(f\"Epoch {epoch:3}: Training Loss = {sum(batch_losses)/len(train_loader):.5f} Validation Loss = {validation_loss[epoch]:.5f}\")\n",
        "        # if (val_loss>validation_loss[epoch-1]+0.3): #early stopping\n",
        "        n_epochs = epoch+1\n",
        "        #     break \n",
        "\n",
        "    model.eval()\n",
        "    total_scores = torch.empty((0,3)).to(device=device)\n",
        "    labels = torch.empty((0)).to(device=device)\n",
        "\n",
        "    with torch.no_grad():\n",
        "        for test_batch in test_loader:\n",
        "            x = test_batch.clean_tweet.to(device=device).squeeze(1)\n",
        "            y = test_batch.label.to(device=device)\n",
        "\n",
        "            scores = model(x)\n",
        "\n",
        "            total_scores = torch.concat((total_scores, scores), 0)\n",
        "            labels = torch.concat((labels, y), 0)\n",
        "                    \n",
        "    _, y_pred = total_scores.max(1)\n",
        "\n",
        "    if device==torch.device(\"cuda\"):\n",
        "        y_pred =  y_pred.cpu()\n",
        "        labels = labels.cpu()\n",
        "\n",
        "    print(\"\")\n",
        "    precision, recall, f1, support = precision_recall_fscore_support(labels, y_pred)\n",
        "    print(f\"         precision\\t  recall\\t   f1\\t    \\tsupport\")\n",
        "    print(f\"--------------------------------------------------------------\")\n",
        "    print(f\"label 0 | {precision[0]*100:0.4f}\\t {recall[0]*100:0.4f}\\t {f1[0]*100:0.4f}\\t {support[0]}\")\n",
        "    print(f\"label 1 | {precision[1]*100:0.4f}\\t {recall[1]*100:0.4f}\\t {f1[1]*100:0.4f}\\t {support[1]}\")\n",
        "    print(f\"label 2 | {precision[2]*100:0.4f}\\t {recall[2]*100:0.4f}\\t {f1[2]*100:0.4f}\\t {support[2]}\")\n",
        "\n",
        "    average = precision_recall_fscore_support(labels, y_pred, average='micro')\n",
        "    print(f\"micro   | {average[0]*100:0.4f}\\t {average[1]*100:0.4f}\\t {average[2]*100:0.4f}\\t -\")\n",
        "\n",
        "    return epoch_loss, validation_loss, y_pred, scores\n"
      ]
    },
    {
      "cell_type": "markdown",
      "metadata": {
        "id": "srjH_Qk82Pwr"
      },
      "source": [
        "### Best model for this part \n",
        "This is by 0.2-0.3% worse than the previous best model. "
      ]
    },
    {
      "cell_type": "code",
      "execution_count": 67,
      "metadata": {
        "colab": {
          "base_uri": "https://localhost:8080/"
        },
        "id": "sY-qqtW2u9S2",
        "outputId": "bd601d2f-7847-40b3-bf82-035fd46aeb75"
      },
      "outputs": [
        {
          "name": "stdout",
          "output_type": "stream",
          "text": [
            "Epoch   0: Training Loss = 0.78514 Validation Loss = 0.69819\n",
            "Epoch   1: Training Loss = 0.66414 Validation Loss = 0.67816\n",
            "Epoch   2: Training Loss = 0.61838 Validation Loss = 0.66678\n",
            "\n",
            "         precision\t  recall\t   f1\t    \tsupport\n",
            "--------------------------------------------------------------\n",
            "label 0 | 80.6163\t 76.1502\t 78.3197\t 1065\n",
            "label 1 | 61.7143\t 36.4865\t 45.8599\t 296\n",
            "label 2 | 65.1226\t 77.8502\t 70.9199\t 921\n",
            "micro   | 71.6915\t 71.6915\t 71.6915\t -\n"
          ]
        }
      ],
      "source": [
        "set_seed()\n",
        "\n",
        "# Hyperparameters\n",
        "input_size = 200\n",
        "num_layers = 2\n",
        "hidden_size = 128\n",
        "num_classes = 3\n",
        "learning_rate = 0.01\n",
        "batch_size = 64\n",
        "cell = 'LSTM'\n",
        "epochs = 3\n",
        "\n",
        "# Initialize network\n",
        "embedding = text_field.vocab.vectors\n",
        "model = BRNN2(input_size, hidden_size, num_layers, num_classes, cell, embedding=embedding).to(device)\n",
        "epoch_loss, validation_loss, y_pred, scores = train2(model, learning_rate, train_dataset, test_dataset, batch_size, epochs, device)"
      ]
    },
    {
      "cell_type": "markdown",
      "metadata": {
        "id": "55ptIiC9bGY-"
      },
      "source": [
        "### Learning Curves"
      ]
    },
    {
      "cell_type": "code",
      "execution_count": 68,
      "metadata": {
        "colab": {
          "base_uri": "https://localhost:8080/",
          "height": 315
        },
        "id": "Rr2Uzc48fBHD",
        "outputId": "274cbf4c-0c63-4c44-cc9c-aaf6d7182f23"
      },
      "outputs": [
        {
          "name": "stdout",
          "output_type": "stream",
          "text": [
            "[0.7851437726020813, 0.6641406098604202, 0.6183834091424942]\n",
            "[0.6981934772597419, 0.6781644307904773, 0.6667788525422415]\n"
          ]
        },
        {
          "data": {
            "image/png": "[encoded data removed]",
            "text/plain": [
              "<Figure size 432x288 with 1 Axes>"
            ]
          },
          "metadata": {
            "needs_background": "light"
          },
          "output_type": "display_data"
        }
      ],
      "source": [
        "# plot\n",
        "n_epochs = epochs\n",
        "print(epoch_loss)\n",
        "print(validation_loss)\n",
        "fig, ax = plt.subplots()\n",
        "ax.plot(np.arange(n_epochs), validation_loss, color=\"pink\", lw=2, label='validation')\n",
        "ax.plot(np.arange(n_epochs), epoch_loss, color=\"b\", lw=2, label='training')\n",
        "\n",
        "ax.set_xlabel('Epochs')\n",
        "ax.set_ylabel('Cross Entropy Loss')\n",
        "\n",
        "ax.grid()\n",
        "ax.legend(loc=0)\n",
        "plt.show()"
      ]
    },
    {
      "cell_type": "markdown",
      "metadata": {
        "id": "KDhB-Ccrtc46"
      },
      "source": [
        "### Experiments"
      ]
    },
    {
      "cell_type": "markdown",
      "metadata": {
        "id": "cVOV-utCywdu"
      },
      "source": [
        "Trying the best parameters of the fixed length model for this net. It's a pretty good result, close to the fixed size version."
      ]
    },
    {
      "cell_type": "code",
      "execution_count": 69,
      "metadata": {
        "colab": {
          "base_uri": "https://localhost:8080/"
        },
        "id": "xmeYuHg-yu8R",
        "outputId": "858b211d-5e73-4ae0-b4e8-cb929850cf61"
      },
      "outputs": [
        {
          "name": "stdout",
          "output_type": "stream",
          "text": [
            "Epoch   0: Training Loss = 0.81196 Validation Loss = 0.72014\n",
            "Epoch   1: Training Loss = 0.68910 Validation Loss = 0.67343\n",
            "Epoch   2: Training Loss = 0.62462 Validation Loss = 0.67751\n",
            "\n",
            "         precision\t  recall\t   f1\t    \tsupport\n",
            "--------------------------------------------------------------\n",
            "label 0 | 81.5707\t 73.1455\t 77.1287\t 1065\n",
            "label 1 | 56.0345\t 43.9189\t 49.2424\t 296\n",
            "label 2 | 66.2100\t 78.7188\t 71.9246\t 921\n",
            "micro   | 71.6039\t 71.6039\t 71.6039\t -\n"
          ]
        }
      ],
      "source": [
        "set_seed() # for model and dataloader\n",
        "\n",
        "# Hyperparameters\n",
        "input_size = 200\n",
        "num_layers = 3\n",
        "hidden_size = 32\n",
        "num_classes = 3\n",
        "batch_size = 128\n",
        "cell = 'LSTM'\n",
        "dropout = 0.3\n",
        "\n",
        "epochs = 3\n",
        "learning_rate = 0.01\n",
        "\n",
        "# Initialize network\n",
        "embedding = text_field.vocab.vectors\n",
        "model = BRNN2(input_size, hidden_size, num_layers, num_classes, cell, embedding=embedding, attention=True).to(device)\n",
        "epoch_loss, validation_loss, y_pred, scores = train2(model, learning_rate, train_dataset, test_dataset, batch_size, epochs, device)"
      ]
    },
    {
      "cell_type": "markdown",
      "metadata": {
        "id": "H5-Pr9IozE-S"
      },
      "source": [
        "Without attention:"
      ]
    },
    {
      "cell_type": "code",
      "execution_count": 70,
      "metadata": {
        "colab": {
          "base_uri": "https://localhost:8080/"
        },
        "id": "ZwJKNGuhzICL",
        "outputId": "46ea4150-7d3a-4762-a0fc-419762cb76f0"
      },
      "outputs": [
        {
          "name": "stdout",
          "output_type": "stream",
          "text": [
            "Epoch   0: Training Loss = 0.99167 Validation Loss = 0.97199\n",
            "Epoch   1: Training Loss = 0.93974 Validation Loss = 0.83068\n",
            "Epoch   2: Training Loss = 0.79157 Validation Loss = 0.77123\n",
            "\n",
            "         precision\t  recall\t   f1\t    \tsupport\n",
            "--------------------------------------------------------------\n",
            "label 0 | 80.8965\t 71.1737\t 75.7243\t 1065\n",
            "label 1 | 64.7059\t 3.7162\t 7.0288\t 296\n",
            "label 2 | 57.8313\t 83.3876\t 68.2970\t 921\n",
            "micro   | 67.3532\t 67.3532\t 67.3532\t -\n"
          ]
        }
      ],
      "source": [
        "set_seed() # for model and dataloader\n",
        "\n",
        "# Hyperparameters\n",
        "input_size = 200\n",
        "num_layers = 3\n",
        "hidden_size = 32\n",
        "num_classes = 3\n",
        "batch_size = 128\n",
        "cell = 'LSTM'\n",
        "dropout = 0.3\n",
        "\n",
        "epochs = 3\n",
        "learning_rate = 0.01\n",
        "\n",
        "# Initialize network\n",
        "embedding = text_field.vocab.vectors\n",
        "model = BRNN2(input_size, hidden_size, num_layers, num_classes, cell, embedding=embedding, attention=False).to(device)\n",
        "epoch_loss, validation_loss, y_pred, scores = train2(model, learning_rate, train_dataset, test_dataset, batch_size, epochs, device)"
      ]
    },
    {
      "cell_type": "markdown",
      "metadata": {
        "id": "ivElehGAzAEz"
      },
      "source": [
        "#### Skip Connections - Dynamic length of sequences"
      ]
    },
    {
      "cell_type": "code",
      "execution_count": 75,
      "metadata": {
        "colab": {
          "base_uri": "https://localhost:8080/"
        },
        "id": "2Z8oNFtuy7S6",
        "outputId": "225c32e8-aed9-455a-f333-d92d416a7d81"
      },
      "outputs": [
        {
          "name": "stdout",
          "output_type": "stream",
          "text": [
            "Epoch   0: Training Loss = 0.94223 Validation Loss = 0.88827\n",
            "Epoch   1: Training Loss = 0.83318 Validation Loss = 0.80481\n",
            "Epoch   2: Training Loss = 0.79184 Validation Loss = 0.77500\n",
            "Epoch   3: Training Loss = 0.77708 Validation Loss = 0.75822\n",
            "Epoch   4: Training Loss = 0.76200 Validation Loss = 0.76019\n",
            "Epoch   5: Training Loss = 0.75414 Validation Loss = 0.74489\n",
            "Epoch   6: Training Loss = 0.74051 Validation Loss = 0.74361\n",
            "\n",
            "         precision\t  recall\t   f1\t    \tsupport\n",
            "--------------------------------------------------------------\n",
            "label 0 | 78.3644\t 71.0798\t 74.5446\t 1065\n",
            "label 1 | 48.1203\t 21.6216\t 29.8368\t 296\n",
            "label 2 | 60.1860\t 77.3073\t 67.6806\t 921\n",
            "micro   | 67.1779\t 67.1779\t 67.1779\t -\n"
          ]
        }
      ],
      "source": [
        "set_seed() # for model and dataloader\n",
        "\n",
        "# Hyperparameters\n",
        "input_size = 200\n",
        "num_layers = 3\n",
        "hidden_size = 32\n",
        "num_classes = 3\n",
        "batch_size = 128\n",
        "cell = 'LSTM'\n",
        "dropout = 0.3\n",
        "\n",
        "epochs = 7\n",
        "learning_rate = 0.01\n",
        "\n",
        "# Initialize network\n",
        "embedding = text_field.vocab.vectors\n",
        "model = skipBRNN2(input_size, hidden_size, num_layers, num_classes, cell, embedding=embedding, attention=True).to(device)\n",
        "epoch_loss, validation_loss, y_pred, scores = train2(model, learning_rate, train_dataset, test_dataset, batch_size, epochs, device)"
      ]
    },
    {
      "cell_type": "markdown",
      "metadata": {
        "id": "Qpt4cBqqnOiN"
      },
      "source": [
        "GRU with the best parameters. The result is worse but it needs just one epoch to find the best score."
      ]
    },
    {
      "cell_type": "code",
      "execution_count": 78,
      "metadata": {
        "colab": {
          "base_uri": "https://localhost:8080/"
        },
        "id": "5ZmoqE1Rmol3",
        "outputId": "a49f068e-82cd-437c-b03d-188ce8a4bd87"
      },
      "outputs": [
        {
          "name": "stdout",
          "output_type": "stream",
          "text": [
            "Epoch   0: Training Loss = 0.78921 Validation Loss = 0.70562\n",
            "\n",
            "         precision\t  recall\t   f1\t    \tsupport\n",
            "--------------------------------------------------------------\n",
            "label 0 | 75.2838\t 80.9390\t 78.0090\t 1065\n",
            "label 1 | 78.7879\t 8.7838\t 15.8055\t 296\n",
            "label 2 | 63.0435\t 75.5700\t 68.7407\t 921\n",
            "micro   | 69.4128\t 69.4128\t 69.4128\t -\n"
          ]
        }
      ],
      "source": [
        "set_seed()\n",
        "\n",
        "# Hyperparameters\n",
        "input_size = 200\n",
        "num_layers = 2\n",
        "hidden_size = 128\n",
        "num_classes = 3\n",
        "learning_rate = 0.01\n",
        "batch_size = 64\n",
        "cell = 'GRU'\n",
        "epochs = 1\n",
        "\n",
        "# Initialize network\n",
        "embedding = text_field.vocab.vectors\n",
        "model = BRNN2(input_size, hidden_size, num_layers, num_classes, cell, embedding=embedding).to(device)\n",
        "epoch_loss, validation_loss, y_pred, scores = train2(model, learning_rate, train_dataset, test_dataset, batch_size, epochs, device)"
      ]
    },
    {
      "cell_type": "markdown",
      "metadata": {
        "id": "DejbauPJT-1s"
      },
      "source": [
        "# References\n",
        "\n",
        "https://towardsdatascience.com/deep-learning-for-nlp-with-pytorch-and-torchtext-4f92d69052f\n",
        "\n",
        "https://gmihaila.medium.com/better-batches-with-pytorchtext-bucketiterator-12804a545e2a\n",
        "\n",
        "https://colab.research.google.com/github/pytorch/text/blob/master/examples/legacy_tutorial/migration_tutorial.ipynb#scrollTo=EC054Wlr0-xB"
      ]
    }
  ],
  "metadata": {
    "accelerator": "GPU",
    "colab": {
      "collapsed_sections": [],
      "name": "AI2-HW3 bidirectional RNN with LSTM/GRU.ipynb",
      "provenance": []
    },
    "kernelspec": {
      "display_name": "Python 3",
      "name": "python3"
    },
    "language_info": {
      "name": "python"
    }
  },
  "nbformat": 4,
  "nbformat_minor": 0
}
