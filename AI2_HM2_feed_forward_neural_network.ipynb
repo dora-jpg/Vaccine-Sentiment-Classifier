{
  "nbformat": 4,
  "nbformat_minor": 0,
  "metadata": {
    "colab": {
      "name": "AI2-HM2 feed-forward neural network.ipynb",
      "provenance": [],
      "collapsed_sections": [],
      "toc_visible": true,
      "authorship_tag": "ABX9TyMwDnndUyu9vTiybDQl+vCq",
      "include_colab_link": true
    },
    "kernelspec": {
      "name": "python3",
      "display_name": "Python 3"
    },
    "language_info": {
      "name": "python"
    }
  },
  "cells": [
    {
      "cell_type": "markdown",
      "metadata": {
        "id": "view-in-github",
        "colab_type": "text"
      },
      "source": [
        "<a href=\"https://colab.research.google.com/github/dora-jpg/Vaccine-Sentiment-Classifier/blob/main/AI2_HM2_feed_forward_neural_network.ipynb\" target=\"_parent\"><img src=\"https://colab.research.google.com/assets/colab-badge.svg\" alt=\"Open In Colab\"/></a>"
      ]
    },
    {
      "cell_type": "markdown",
      "source": [
        "# Artificial Intelligense II - Homework 2\n",
        "# 💉Vaccine sentiment classifier using feed-forward neural networks"
      ],
      "metadata": {
        "id": "qLAaIaAE9z4D"
      }
    },
    {
      "cell_type": "markdown",
      "source": [
        "In this exercise we are going to develop a vaccine sentiment classifier that classifies tweets in pro-vax, anti-vax and neutral classes using feed-forward neural networks. I experimented with: \n",
        "- different optimizers (SGD with momentum and nesterov, Adam (with amsgrad) and their learning rate, \n",
        "- loss functions (MSELoss and CrossEntropyLoss),\n",
        "- activation functions (SELU, LeakyReLU, ReLU, tanh), \n",
        "- the number of hidden layers and the number of their units (1-3 hidden layers)\n",
        "- Dropout\n",
        "- Batch Normalization\n",
        "- Batch size\n",
        "- Normalization\n",
        "\n",
        "For data preprocessing and feature extracting I experimented with:\n",
        "- GloVe pretrained model: I chose not to do stemming (because words are whole in the pretrained model) or lemmatizing (because it would the change the meaning of some words). I used a simple preprocessing funtion that removes puctuation, html tags and urls. I kept emojis because I noticed that some of them are included in the pretrained glove model. I used the glove.twitter.27B.50d. \n",
        "- TF-IDF: I tried lemmatization because it worked well in Homework 1, but ended up having slightly better results with the same preprocessing as the one I used for GloVe. I also experimented with the min_df parameter and noticed that seting it to a slightly lower value to have more features improved the model. \n",
        "\n",
        "In this notebook I only present 3 of the models that have good scores (compared to the others) and don't overfit (2 with GloVe and 1 with TF-IDF). "
      ],
      "metadata": {
        "id": "ykBHfl_LJL-p"
      }
    },
    {
      "cell_type": "code",
      "metadata": {
        "colab": {
          "base_uri": "https://localhost:8080/"
        },
        "id": "1i0cE5-17AUF",
        "outputId": "12ce8bb0-38e5-4004-9dfc-55e12585c3f1"
      },
      "source": [
        "from google.colab import drive\n",
        "drive.mount('/content/drive')"
      ],
      "execution_count": 67,
      "outputs": [
        {
          "output_type": "stream",
          "name": "stdout",
          "text": [
            "Drive already mounted at /content/drive; to attempt to forcibly remount, call drive.mount(\"/content/drive\", force_remount=True).\n"
          ]
        }
      ]
    },
    {
      "cell_type": "markdown",
      "metadata": {
        "id": "7g50JWXbB2ze"
      },
      "source": [
        "## Import Libraries and Read Datasets"
      ]
    },
    {
      "cell_type": "code",
      "metadata": {
        "id": "HSrTX-GD8xC3"
      },
      "source": [
        "import pandas as pd\n",
        "import numpy as np\n",
        "\n",
        "# Feature extraction\n",
        "from sklearn.feature_extraction.text import TfidfVectorizer\n",
        "\n",
        "from sklearn.metrics import confusion_matrix\n",
        "\n",
        "# Evaluation metrics\n",
        "from sklearn.metrics import f1_score\n",
        "from sklearn.metrics import accuracy_score\n",
        "\n",
        "import matplotlib as mpl\n",
        "import matplotlib.pyplot as plt"
      ],
      "execution_count": 68,
      "outputs": []
    },
    {
      "cell_type": "markdown",
      "metadata": {
        "id": "T3T_ITrECxKu"
      },
      "source": [
        "Read train and validation datasets"
      ]
    },
    {
      "cell_type": "code",
      "metadata": {
        "id": "DCe_10itB0Pu"
      },
      "source": [
        "df_train = pd.read_csv(\"/content/drive/MyDrive/Colab Notebooks/Artificial Intelligence II/vaccine_train_set.csv\")\n",
        "df_test = pd.read_csv(\"/content/drive/MyDrive/Colab Notebooks/Artificial Intelligence II/vaccine_validation_set.csv\")"
      ],
      "execution_count": 69,
      "outputs": []
    },
    {
      "cell_type": "markdown",
      "metadata": {
        "id": "lA3NQAAuKwjf"
      },
      "source": [
        " We don't need the first column of the datasets because it is an index."
      ]
    },
    {
      "cell_type": "code",
      "metadata": {
        "id": "qA3P1gymKEwR"
      },
      "source": [
        "# get rid of first column\n",
        "df_train = df_train.iloc[: , 1:]\n",
        "df_test = df_test.iloc[: , 1:]"
      ],
      "execution_count": 70,
      "outputs": []
    },
    {
      "cell_type": "code",
      "metadata": {
        "colab": {
          "base_uri": "https://localhost:8080/",
          "height": 673
        },
        "id": "awuvFK_yCuAO",
        "outputId": "c07fe913-5809-42da-f999-a1a6d0689056"
      },
      "source": [
        "display(df_train.head())\n",
        "display(df_train.describe())\n",
        "display(df_train.info())"
      ],
      "execution_count": 71,
      "outputs": [
        {
          "output_type": "display_data",
          "data": {
            "text/html": [
              "\n",
              "  <div id=\"df-c735051d-7b7b-4d9f-a3a5-a8222ba6110e\">\n",
              "    <div class=\"colab-df-container\">\n",
              "      <div>\n",
              "<style scoped>\n",
              "    .dataframe tbody tr th:only-of-type {\n",
              "        vertical-align: middle;\n",
              "    }\n",
              "\n",
              "    .dataframe tbody tr th {\n",
              "        vertical-align: top;\n",
              "    }\n",
              "\n",
              "    .dataframe thead th {\n",
              "        text-align: right;\n",
              "    }\n",
              "</style>\n",
              "<table border=\"1\" class=\"dataframe\">\n",
              "  <thead>\n",
              "    <tr style=\"text-align: right;\">\n",
              "      <th></th>\n",
              "      <th>tweet</th>\n",
              "      <th>label</th>\n",
              "    </tr>\n",
              "  </thead>\n",
              "  <tbody>\n",
              "    <tr>\n",
              "      <th>0</th>\n",
              "      <td>Sip N Shop Come thru right now #Marjais #Popul...</td>\n",
              "      <td>0</td>\n",
              "    </tr>\n",
              "    <tr>\n",
              "      <th>1</th>\n",
              "      <td>I don't know about you but My family and I wil...</td>\n",
              "      <td>1</td>\n",
              "    </tr>\n",
              "    <tr>\n",
              "      <th>2</th>\n",
              "      <td>@MSignorile Immunizations should be mandatory....</td>\n",
              "      <td>2</td>\n",
              "    </tr>\n",
              "    <tr>\n",
              "      <th>3</th>\n",
              "      <td>President Obama spoke in favor of vaccination ...</td>\n",
              "      <td>0</td>\n",
              "    </tr>\n",
              "    <tr>\n",
              "      <th>4</th>\n",
              "      <td>\"@myfoxla: Arizona monitoring hundreds for mea...</td>\n",
              "      <td>0</td>\n",
              "    </tr>\n",
              "  </tbody>\n",
              "</table>\n",
              "</div>\n",
              "      <button class=\"colab-df-convert\" onclick=\"convertToInteractive('df-c735051d-7b7b-4d9f-a3a5-a8222ba6110e')\"\n",
              "              title=\"Convert this dataframe to an interactive table.\"\n",
              "              style=\"display:none;\">\n",
              "        \n",
              "  <svg xmlns=\"http://www.w3.org/2000/svg\" height=\"24px\"viewBox=\"0 0 24 24\"\n",
              "       width=\"24px\">\n",
              "    <path d=\"M0 0h24v24H0V0z\" fill=\"none\"/>\n",
              "    <path d=\"M18.56 5.44l.94 2.06.94-2.06 2.06-.94-2.06-.94-.94-2.06-.94 2.06-2.06.94zm-11 1L8.5 8.5l.94-2.06 2.06-.94-2.06-.94L8.5 2.5l-.94 2.06-2.06.94zm10 10l.94 2.06.94-2.06 2.06-.94-2.06-.94-.94-2.06-.94 2.06-2.06.94z\"/><path d=\"M17.41 7.96l-1.37-1.37c-.4-.4-.92-.59-1.43-.59-.52 0-1.04.2-1.43.59L10.3 9.45l-7.72 7.72c-.78.78-.78 2.05 0 2.83L4 21.41c.39.39.9.59 1.41.59.51 0 1.02-.2 1.41-.59l7.78-7.78 2.81-2.81c.8-.78.8-2.07 0-2.86zM5.41 20L4 18.59l7.72-7.72 1.47 1.35L5.41 20z\"/>\n",
              "  </svg>\n",
              "      </button>\n",
              "      \n",
              "  <style>\n",
              "    .colab-df-container {\n",
              "      display:flex;\n",
              "      flex-wrap:wrap;\n",
              "      gap: 12px;\n",
              "    }\n",
              "\n",
              "    .colab-df-convert {\n",
              "      background-color: #E8F0FE;\n",
              "      border: none;\n",
              "      border-radius: 50%;\n",
              "      cursor: pointer;\n",
              "      display: none;\n",
              "      fill: #1967D2;\n",
              "      height: 32px;\n",
              "      padding: 0 0 0 0;\n",
              "      width: 32px;\n",
              "    }\n",
              "\n",
              "    .colab-df-convert:hover {\n",
              "      background-color: #E2EBFA;\n",
              "      box-shadow: 0px 1px 2px rgba(60, 64, 67, 0.3), 0px 1px 3px 1px rgba(60, 64, 67, 0.15);\n",
              "      fill: #174EA6;\n",
              "    }\n",
              "\n",
              "    [theme=dark] .colab-df-convert {\n",
              "      background-color: #3B4455;\n",
              "      fill: #D2E3FC;\n",
              "    }\n",
              "\n",
              "    [theme=dark] .colab-df-convert:hover {\n",
              "      background-color: #434B5C;\n",
              "      box-shadow: 0px 1px 3px 1px rgba(0, 0, 0, 0.15);\n",
              "      filter: drop-shadow(0px 1px 2px rgba(0, 0, 0, 0.3));\n",
              "      fill: #FFFFFF;\n",
              "    }\n",
              "  </style>\n",
              "\n",
              "      <script>\n",
              "        const buttonEl =\n",
              "          document.querySelector('#df-c735051d-7b7b-4d9f-a3a5-a8222ba6110e button.colab-df-convert');\n",
              "        buttonEl.style.display =\n",
              "          google.colab.kernel.accessAllowed ? 'block' : 'none';\n",
              "\n",
              "        async function convertToInteractive(key) {\n",
              "          const element = document.querySelector('#df-c735051d-7b7b-4d9f-a3a5-a8222ba6110e');\n",
              "          const dataTable =\n",
              "            await google.colab.kernel.invokeFunction('convertToInteractive',\n",
              "                                                     [key], {});\n",
              "          if (!dataTable) return;\n",
              "\n",
              "          const docLinkHtml = 'Like what you see? Visit the ' +\n",
              "            '<a target=\"_blank\" href=https://colab.research.google.com/notebooks/data_table.ipynb>data table notebook</a>'\n",
              "            + ' to learn more about interactive tables.';\n",
              "          element.innerHTML = '';\n",
              "          dataTable['output_type'] = 'display_data';\n",
              "          await google.colab.output.renderOutput(dataTable, element);\n",
              "          const docLink = document.createElement('div');\n",
              "          docLink.innerHTML = docLinkHtml;\n",
              "          element.appendChild(docLink);\n",
              "        }\n",
              "      </script>\n",
              "    </div>\n",
              "  </div>\n",
              "  "
            ],
            "text/plain": [
              "                                               tweet  label\n",
              "0  Sip N Shop Come thru right now #Marjais #Popul...      0\n",
              "1  I don't know about you but My family and I wil...      1\n",
              "2  @MSignorile Immunizations should be mandatory....      2\n",
              "3  President Obama spoke in favor of vaccination ...      0\n",
              "4  \"@myfoxla: Arizona monitoring hundreds for mea...      0"
            ]
          },
          "metadata": {}
        },
        {
          "output_type": "display_data",
          "data": {
            "text/html": [
              "\n",
              "  <div id=\"df-617ef5b3-5553-402b-9399-a3e3d572ab2c\">\n",
              "    <div class=\"colab-df-container\">\n",
              "      <div>\n",
              "<style scoped>\n",
              "    .dataframe tbody tr th:only-of-type {\n",
              "        vertical-align: middle;\n",
              "    }\n",
              "\n",
              "    .dataframe tbody tr th {\n",
              "        vertical-align: top;\n",
              "    }\n",
              "\n",
              "    .dataframe thead th {\n",
              "        text-align: right;\n",
              "    }\n",
              "</style>\n",
              "<table border=\"1\" class=\"dataframe\">\n",
              "  <thead>\n",
              "    <tr style=\"text-align: right;\">\n",
              "      <th></th>\n",
              "      <th>label</th>\n",
              "    </tr>\n",
              "  </thead>\n",
              "  <tbody>\n",
              "    <tr>\n",
              "      <th>count</th>\n",
              "      <td>15976.000000</td>\n",
              "    </tr>\n",
              "    <tr>\n",
              "      <th>mean</th>\n",
              "      <td>0.936592</td>\n",
              "    </tr>\n",
              "    <tr>\n",
              "      <th>std</th>\n",
              "      <td>0.930740</td>\n",
              "    </tr>\n",
              "    <tr>\n",
              "      <th>min</th>\n",
              "      <td>0.000000</td>\n",
              "    </tr>\n",
              "    <tr>\n",
              "      <th>25%</th>\n",
              "      <td>0.000000</td>\n",
              "    </tr>\n",
              "    <tr>\n",
              "      <th>50%</th>\n",
              "      <td>1.000000</td>\n",
              "    </tr>\n",
              "    <tr>\n",
              "      <th>75%</th>\n",
              "      <td>2.000000</td>\n",
              "    </tr>\n",
              "    <tr>\n",
              "      <th>max</th>\n",
              "      <td>2.000000</td>\n",
              "    </tr>\n",
              "  </tbody>\n",
              "</table>\n",
              "</div>\n",
              "      <button class=\"colab-df-convert\" onclick=\"convertToInteractive('df-617ef5b3-5553-402b-9399-a3e3d572ab2c')\"\n",
              "              title=\"Convert this dataframe to an interactive table.\"\n",
              "              style=\"display:none;\">\n",
              "        \n",
              "  <svg xmlns=\"http://www.w3.org/2000/svg\" height=\"24px\"viewBox=\"0 0 24 24\"\n",
              "       width=\"24px\">\n",
              "    <path d=\"M0 0h24v24H0V0z\" fill=\"none\"/>\n",
              "    <path d=\"M18.56 5.44l.94 2.06.94-2.06 2.06-.94-2.06-.94-.94-2.06-.94 2.06-2.06.94zm-11 1L8.5 8.5l.94-2.06 2.06-.94-2.06-.94L8.5 2.5l-.94 2.06-2.06.94zm10 10l.94 2.06.94-2.06 2.06-.94-2.06-.94-.94-2.06-.94 2.06-2.06.94z\"/><path d=\"M17.41 7.96l-1.37-1.37c-.4-.4-.92-.59-1.43-.59-.52 0-1.04.2-1.43.59L10.3 9.45l-7.72 7.72c-.78.78-.78 2.05 0 2.83L4 21.41c.39.39.9.59 1.41.59.51 0 1.02-.2 1.41-.59l7.78-7.78 2.81-2.81c.8-.78.8-2.07 0-2.86zM5.41 20L4 18.59l7.72-7.72 1.47 1.35L5.41 20z\"/>\n",
              "  </svg>\n",
              "      </button>\n",
              "      \n",
              "  <style>\n",
              "    .colab-df-container {\n",
              "      display:flex;\n",
              "      flex-wrap:wrap;\n",
              "      gap: 12px;\n",
              "    }\n",
              "\n",
              "    .colab-df-convert {\n",
              "      background-color: #E8F0FE;\n",
              "      border: none;\n",
              "      border-radius: 50%;\n",
              "      cursor: pointer;\n",
              "      display: none;\n",
              "      fill: #1967D2;\n",
              "      height: 32px;\n",
              "      padding: 0 0 0 0;\n",
              "      width: 32px;\n",
              "    }\n",
              "\n",
              "    .colab-df-convert:hover {\n",
              "      background-color: #E2EBFA;\n",
              "      box-shadow: 0px 1px 2px rgba(60, 64, 67, 0.3), 0px 1px 3px 1px rgba(60, 64, 67, 0.15);\n",
              "      fill: #174EA6;\n",
              "    }\n",
              "\n",
              "    [theme=dark] .colab-df-convert {\n",
              "      background-color: #3B4455;\n",
              "      fill: #D2E3FC;\n",
              "    }\n",
              "\n",
              "    [theme=dark] .colab-df-convert:hover {\n",
              "      background-color: #434B5C;\n",
              "      box-shadow: 0px 1px 3px 1px rgba(0, 0, 0, 0.15);\n",
              "      filter: drop-shadow(0px 1px 2px rgba(0, 0, 0, 0.3));\n",
              "      fill: #FFFFFF;\n",
              "    }\n",
              "  </style>\n",
              "\n",
              "      <script>\n",
              "        const buttonEl =\n",
              "          document.querySelector('#df-617ef5b3-5553-402b-9399-a3e3d572ab2c button.colab-df-convert');\n",
              "        buttonEl.style.display =\n",
              "          google.colab.kernel.accessAllowed ? 'block' : 'none';\n",
              "\n",
              "        async function convertToInteractive(key) {\n",
              "          const element = document.querySelector('#df-617ef5b3-5553-402b-9399-a3e3d572ab2c');\n",
              "          const dataTable =\n",
              "            await google.colab.kernel.invokeFunction('convertToInteractive',\n",
              "                                                     [key], {});\n",
              "          if (!dataTable) return;\n",
              "\n",
              "          const docLinkHtml = 'Like what you see? Visit the ' +\n",
              "            '<a target=\"_blank\" href=https://colab.research.google.com/notebooks/data_table.ipynb>data table notebook</a>'\n",
              "            + ' to learn more about interactive tables.';\n",
              "          element.innerHTML = '';\n",
              "          dataTable['output_type'] = 'display_data';\n",
              "          await google.colab.output.renderOutput(dataTable, element);\n",
              "          const docLink = document.createElement('div');\n",
              "          docLink.innerHTML = docLinkHtml;\n",
              "          element.appendChild(docLink);\n",
              "        }\n",
              "      </script>\n",
              "    </div>\n",
              "  </div>\n",
              "  "
            ],
            "text/plain": [
              "              label\n",
              "count  15976.000000\n",
              "mean       0.936592\n",
              "std        0.930740\n",
              "min        0.000000\n",
              "25%        0.000000\n",
              "50%        1.000000\n",
              "75%        2.000000\n",
              "max        2.000000"
            ]
          },
          "metadata": {}
        },
        {
          "output_type": "stream",
          "name": "stdout",
          "text": [
            "<class 'pandas.core.frame.DataFrame'>\n",
            "RangeIndex: 15976 entries, 0 to 15975\n",
            "Data columns (total 2 columns):\n",
            " #   Column  Non-Null Count  Dtype \n",
            "---  ------  --------------  ----- \n",
            " 0   tweet   15976 non-null  object\n",
            " 1   label   15976 non-null  int64 \n",
            "dtypes: int64(1), object(1)\n",
            "memory usage: 249.8+ KB\n"
          ]
        },
        {
          "output_type": "display_data",
          "data": {
            "text/plain": [
              "None"
            ]
          },
          "metadata": {}
        }
      ]
    },
    {
      "cell_type": "code",
      "metadata": {
        "colab": {
          "base_uri": "https://localhost:8080/",
          "height": 673
        },
        "id": "1SCqSG05CMpd",
        "outputId": "74c32cde-8e72-4bd3-9bbe-974ca091ec25"
      },
      "source": [
        "display(df_test.head())\n",
        "display(df_test.describe())\n",
        "display(df_test.info())"
      ],
      "execution_count": 72,
      "outputs": [
        {
          "output_type": "display_data",
          "data": {
            "text/html": [
              "\n",
              "  <div id=\"df-a360fd86-36ec-43e9-8545-a28423e5a25c\">\n",
              "    <div class=\"colab-df-container\">\n",
              "      <div>\n",
              "<style scoped>\n",
              "    .dataframe tbody tr th:only-of-type {\n",
              "        vertical-align: middle;\n",
              "    }\n",
              "\n",
              "    .dataframe tbody tr th {\n",
              "        vertical-align: top;\n",
              "    }\n",
              "\n",
              "    .dataframe thead th {\n",
              "        text-align: right;\n",
              "    }\n",
              "</style>\n",
              "<table border=\"1\" class=\"dataframe\">\n",
              "  <thead>\n",
              "    <tr style=\"text-align: right;\">\n",
              "      <th></th>\n",
              "      <th>tweet</th>\n",
              "      <th>label</th>\n",
              "    </tr>\n",
              "  </thead>\n",
              "  <tbody>\n",
              "    <tr>\n",
              "      <th>0</th>\n",
              "      <td>@user They had a massive surge in with covid d...</td>\n",
              "      <td>1</td>\n",
              "    </tr>\n",
              "    <tr>\n",
              "      <th>1</th>\n",
              "      <td>Required vaccines for school: Parents and guar...</td>\n",
              "      <td>0</td>\n",
              "    </tr>\n",
              "    <tr>\n",
              "      <th>2</th>\n",
              "      <td>“@KCStar: Two more Johnson County children hav...</td>\n",
              "      <td>0</td>\n",
              "    </tr>\n",
              "    <tr>\n",
              "      <th>3</th>\n",
              "      <td>NV can do better. Which states are the best (a...</td>\n",
              "      <td>2</td>\n",
              "    </tr>\n",
              "    <tr>\n",
              "      <th>4</th>\n",
              "      <td>Nothing like killing ourselves w/ our own fear...</td>\n",
              "      <td>2</td>\n",
              "    </tr>\n",
              "  </tbody>\n",
              "</table>\n",
              "</div>\n",
              "      <button class=\"colab-df-convert\" onclick=\"convertToInteractive('df-a360fd86-36ec-43e9-8545-a28423e5a25c')\"\n",
              "              title=\"Convert this dataframe to an interactive table.\"\n",
              "              style=\"display:none;\">\n",
              "        \n",
              "  <svg xmlns=\"http://www.w3.org/2000/svg\" height=\"24px\"viewBox=\"0 0 24 24\"\n",
              "       width=\"24px\">\n",
              "    <path d=\"M0 0h24v24H0V0z\" fill=\"none\"/>\n",
              "    <path d=\"M18.56 5.44l.94 2.06.94-2.06 2.06-.94-2.06-.94-.94-2.06-.94 2.06-2.06.94zm-11 1L8.5 8.5l.94-2.06 2.06-.94-2.06-.94L8.5 2.5l-.94 2.06-2.06.94zm10 10l.94 2.06.94-2.06 2.06-.94-2.06-.94-.94-2.06-.94 2.06-2.06.94z\"/><path d=\"M17.41 7.96l-1.37-1.37c-.4-.4-.92-.59-1.43-.59-.52 0-1.04.2-1.43.59L10.3 9.45l-7.72 7.72c-.78.78-.78 2.05 0 2.83L4 21.41c.39.39.9.59 1.41.59.51 0 1.02-.2 1.41-.59l7.78-7.78 2.81-2.81c.8-.78.8-2.07 0-2.86zM5.41 20L4 18.59l7.72-7.72 1.47 1.35L5.41 20z\"/>\n",
              "  </svg>\n",
              "      </button>\n",
              "      \n",
              "  <style>\n",
              "    .colab-df-container {\n",
              "      display:flex;\n",
              "      flex-wrap:wrap;\n",
              "      gap: 12px;\n",
              "    }\n",
              "\n",
              "    .colab-df-convert {\n",
              "      background-color: #E8F0FE;\n",
              "      border: none;\n",
              "      border-radius: 50%;\n",
              "      cursor: pointer;\n",
              "      display: none;\n",
              "      fill: #1967D2;\n",
              "      height: 32px;\n",
              "      padding: 0 0 0 0;\n",
              "      width: 32px;\n",
              "    }\n",
              "\n",
              "    .colab-df-convert:hover {\n",
              "      background-color: #E2EBFA;\n",
              "      box-shadow: 0px 1px 2px rgba(60, 64, 67, 0.3), 0px 1px 3px 1px rgba(60, 64, 67, 0.15);\n",
              "      fill: #174EA6;\n",
              "    }\n",
              "\n",
              "    [theme=dark] .colab-df-convert {\n",
              "      background-color: #3B4455;\n",
              "      fill: #D2E3FC;\n",
              "    }\n",
              "\n",
              "    [theme=dark] .colab-df-convert:hover {\n",
              "      background-color: #434B5C;\n",
              "      box-shadow: 0px 1px 3px 1px rgba(0, 0, 0, 0.15);\n",
              "      filter: drop-shadow(0px 1px 2px rgba(0, 0, 0, 0.3));\n",
              "      fill: #FFFFFF;\n",
              "    }\n",
              "  </style>\n",
              "\n",
              "      <script>\n",
              "        const buttonEl =\n",
              "          document.querySelector('#df-a360fd86-36ec-43e9-8545-a28423e5a25c button.colab-df-convert');\n",
              "        buttonEl.style.display =\n",
              "          google.colab.kernel.accessAllowed ? 'block' : 'none';\n",
              "\n",
              "        async function convertToInteractive(key) {\n",
              "          const element = document.querySelector('#df-a360fd86-36ec-43e9-8545-a28423e5a25c');\n",
              "          const dataTable =\n",
              "            await google.colab.kernel.invokeFunction('convertToInteractive',\n",
              "                                                     [key], {});\n",
              "          if (!dataTable) return;\n",
              "\n",
              "          const docLinkHtml = 'Like what you see? Visit the ' +\n",
              "            '<a target=\"_blank\" href=https://colab.research.google.com/notebooks/data_table.ipynb>data table notebook</a>'\n",
              "            + ' to learn more about interactive tables.';\n",
              "          element.innerHTML = '';\n",
              "          dataTable['output_type'] = 'display_data';\n",
              "          await google.colab.output.renderOutput(dataTable, element);\n",
              "          const docLink = document.createElement('div');\n",
              "          docLink.innerHTML = docLinkHtml;\n",
              "          element.appendChild(docLink);\n",
              "        }\n",
              "      </script>\n",
              "    </div>\n",
              "  </div>\n",
              "  "
            ],
            "text/plain": [
              "                                               tweet  label\n",
              "0  @user They had a massive surge in with covid d...      1\n",
              "1  Required vaccines for school: Parents and guar...      0\n",
              "2  “@KCStar: Two more Johnson County children hav...      0\n",
              "3  NV can do better. Which states are the best (a...      2\n",
              "4  Nothing like killing ourselves w/ our own fear...      2"
            ]
          },
          "metadata": {}
        },
        {
          "output_type": "display_data",
          "data": {
            "text/html": [
              "\n",
              "  <div id=\"df-f5439ffd-a951-472c-b89f-567c0c2f01ed\">\n",
              "    <div class=\"colab-df-container\">\n",
              "      <div>\n",
              "<style scoped>\n",
              "    .dataframe tbody tr th:only-of-type {\n",
              "        vertical-align: middle;\n",
              "    }\n",
              "\n",
              "    .dataframe tbody tr th {\n",
              "        vertical-align: top;\n",
              "    }\n",
              "\n",
              "    .dataframe thead th {\n",
              "        text-align: right;\n",
              "    }\n",
              "</style>\n",
              "<table border=\"1\" class=\"dataframe\">\n",
              "  <thead>\n",
              "    <tr style=\"text-align: right;\">\n",
              "      <th></th>\n",
              "      <th>label</th>\n",
              "    </tr>\n",
              "  </thead>\n",
              "  <tbody>\n",
              "    <tr>\n",
              "      <th>count</th>\n",
              "      <td>2282.000000</td>\n",
              "    </tr>\n",
              "    <tr>\n",
              "      <th>mean</th>\n",
              "      <td>0.936897</td>\n",
              "    </tr>\n",
              "    <tr>\n",
              "      <th>std</th>\n",
              "      <td>0.930960</td>\n",
              "    </tr>\n",
              "    <tr>\n",
              "      <th>min</th>\n",
              "      <td>0.000000</td>\n",
              "    </tr>\n",
              "    <tr>\n",
              "      <th>25%</th>\n",
              "      <td>0.000000</td>\n",
              "    </tr>\n",
              "    <tr>\n",
              "      <th>50%</th>\n",
              "      <td>1.000000</td>\n",
              "    </tr>\n",
              "    <tr>\n",
              "      <th>75%</th>\n",
              "      <td>2.000000</td>\n",
              "    </tr>\n",
              "    <tr>\n",
              "      <th>max</th>\n",
              "      <td>2.000000</td>\n",
              "    </tr>\n",
              "  </tbody>\n",
              "</table>\n",
              "</div>\n",
              "      <button class=\"colab-df-convert\" onclick=\"convertToInteractive('df-f5439ffd-a951-472c-b89f-567c0c2f01ed')\"\n",
              "              title=\"Convert this dataframe to an interactive table.\"\n",
              "              style=\"display:none;\">\n",
              "        \n",
              "  <svg xmlns=\"http://www.w3.org/2000/svg\" height=\"24px\"viewBox=\"0 0 24 24\"\n",
              "       width=\"24px\">\n",
              "    <path d=\"M0 0h24v24H0V0z\" fill=\"none\"/>\n",
              "    <path d=\"M18.56 5.44l.94 2.06.94-2.06 2.06-.94-2.06-.94-.94-2.06-.94 2.06-2.06.94zm-11 1L8.5 8.5l.94-2.06 2.06-.94-2.06-.94L8.5 2.5l-.94 2.06-2.06.94zm10 10l.94 2.06.94-2.06 2.06-.94-2.06-.94-.94-2.06-.94 2.06-2.06.94z\"/><path d=\"M17.41 7.96l-1.37-1.37c-.4-.4-.92-.59-1.43-.59-.52 0-1.04.2-1.43.59L10.3 9.45l-7.72 7.72c-.78.78-.78 2.05 0 2.83L4 21.41c.39.39.9.59 1.41.59.51 0 1.02-.2 1.41-.59l7.78-7.78 2.81-2.81c.8-.78.8-2.07 0-2.86zM5.41 20L4 18.59l7.72-7.72 1.47 1.35L5.41 20z\"/>\n",
              "  </svg>\n",
              "      </button>\n",
              "      \n",
              "  <style>\n",
              "    .colab-df-container {\n",
              "      display:flex;\n",
              "      flex-wrap:wrap;\n",
              "      gap: 12px;\n",
              "    }\n",
              "\n",
              "    .colab-df-convert {\n",
              "      background-color: #E8F0FE;\n",
              "      border: none;\n",
              "      border-radius: 50%;\n",
              "      cursor: pointer;\n",
              "      display: none;\n",
              "      fill: #1967D2;\n",
              "      height: 32px;\n",
              "      padding: 0 0 0 0;\n",
              "      width: 32px;\n",
              "    }\n",
              "\n",
              "    .colab-df-convert:hover {\n",
              "      background-color: #E2EBFA;\n",
              "      box-shadow: 0px 1px 2px rgba(60, 64, 67, 0.3), 0px 1px 3px 1px rgba(60, 64, 67, 0.15);\n",
              "      fill: #174EA6;\n",
              "    }\n",
              "\n",
              "    [theme=dark] .colab-df-convert {\n",
              "      background-color: #3B4455;\n",
              "      fill: #D2E3FC;\n",
              "    }\n",
              "\n",
              "    [theme=dark] .colab-df-convert:hover {\n",
              "      background-color: #434B5C;\n",
              "      box-shadow: 0px 1px 3px 1px rgba(0, 0, 0, 0.15);\n",
              "      filter: drop-shadow(0px 1px 2px rgba(0, 0, 0, 0.3));\n",
              "      fill: #FFFFFF;\n",
              "    }\n",
              "  </style>\n",
              "\n",
              "      <script>\n",
              "        const buttonEl =\n",
              "          document.querySelector('#df-f5439ffd-a951-472c-b89f-567c0c2f01ed button.colab-df-convert');\n",
              "        buttonEl.style.display =\n",
              "          google.colab.kernel.accessAllowed ? 'block' : 'none';\n",
              "\n",
              "        async function convertToInteractive(key) {\n",
              "          const element = document.querySelector('#df-f5439ffd-a951-472c-b89f-567c0c2f01ed');\n",
              "          const dataTable =\n",
              "            await google.colab.kernel.invokeFunction('convertToInteractive',\n",
              "                                                     [key], {});\n",
              "          if (!dataTable) return;\n",
              "\n",
              "          const docLinkHtml = 'Like what you see? Visit the ' +\n",
              "            '<a target=\"_blank\" href=https://colab.research.google.com/notebooks/data_table.ipynb>data table notebook</a>'\n",
              "            + ' to learn more about interactive tables.';\n",
              "          element.innerHTML = '';\n",
              "          dataTable['output_type'] = 'display_data';\n",
              "          await google.colab.output.renderOutput(dataTable, element);\n",
              "          const docLink = document.createElement('div');\n",
              "          docLink.innerHTML = docLinkHtml;\n",
              "          element.appendChild(docLink);\n",
              "        }\n",
              "      </script>\n",
              "    </div>\n",
              "  </div>\n",
              "  "
            ],
            "text/plain": [
              "             label\n",
              "count  2282.000000\n",
              "mean      0.936897\n",
              "std       0.930960\n",
              "min       0.000000\n",
              "25%       0.000000\n",
              "50%       1.000000\n",
              "75%       2.000000\n",
              "max       2.000000"
            ]
          },
          "metadata": {}
        },
        {
          "output_type": "stream",
          "name": "stdout",
          "text": [
            "<class 'pandas.core.frame.DataFrame'>\n",
            "RangeIndex: 2282 entries, 0 to 2281\n",
            "Data columns (total 2 columns):\n",
            " #   Column  Non-Null Count  Dtype \n",
            "---  ------  --------------  ----- \n",
            " 0   tweet   2282 non-null   object\n",
            " 1   label   2282 non-null   int64 \n",
            "dtypes: int64(1), object(1)\n",
            "memory usage: 35.8+ KB\n"
          ]
        },
        {
          "output_type": "display_data",
          "data": {
            "text/plain": [
              "None"
            ]
          },
          "metadata": {}
        }
      ]
    },
    {
      "cell_type": "markdown",
      "metadata": {
        "id": "22fsx7JjEMfF"
      },
      "source": [
        "## Data Pre-processing"
      ]
    },
    {
      "cell_type": "markdown",
      "source": [
        "### Data Cleaning\n"
      ],
      "metadata": {
        "id": "2qCtGlrAOjpT"
      }
    },
    {
      "cell_type": "code",
      "metadata": {
        "colab": {
          "base_uri": "https://localhost:8080/"
        },
        "id": "eTX3ciaXEPak",
        "outputId": "db2510de-5407-4a66-8ee2-d4bb02936830"
      },
      "source": [
        "#Check for null values\n",
        "#In this case there are no missing values, so no action is needed\n",
        "df_train.isnull().sum()"
      ],
      "execution_count": 73,
      "outputs": [
        {
          "output_type": "execute_result",
          "data": {
            "text/plain": [
              "tweet    0\n",
              "label    0\n",
              "dtype: int64"
            ]
          },
          "metadata": {},
          "execution_count": 73
        }
      ]
    },
    {
      "cell_type": "code",
      "metadata": {
        "colab": {
          "base_uri": "https://localhost:8080/"
        },
        "id": "QsaG_oHBEgmM",
        "outputId": "9e05b492-6abf-455d-d96d-075847461acd"
      },
      "source": [
        "df_test.isnull().sum()"
      ],
      "execution_count": 74,
      "outputs": [
        {
          "output_type": "execute_result",
          "data": {
            "text/plain": [
              "tweet    0\n",
              "label    0\n",
              "dtype: int64"
            ]
          },
          "metadata": {},
          "execution_count": 74
        }
      ]
    },
    {
      "cell_type": "code",
      "source": [
        "import re\n",
        "import string\n",
        "from nltk.corpus import stopwords\n",
        "\n",
        "import nltk\n",
        "nltk.download(\"stopwords\")\n",
        "\n",
        "stop_words = stopwords.words(\"english\")\n",
        "\n",
        "def tweets_cleaning(x, remove_emojis=False, remove_stop_words=True):\n",
        "    \"\"\"Apply function to a clean a tweet\"\"\"\n",
        "    x = x.lower().strip()\n",
        "    # romove urls\n",
        "    url = re.compile(r'https?://\\S+|www\\.\\S+')\n",
        "    x = url.sub(r'',x)\n",
        "    # remove html tags\n",
        "    html = re.compile(r'<.*?>')\n",
        "    x = html.sub(r'',x)\n",
        "    # remove punctuation\n",
        "    operator = str.maketrans(' ',' ',string.punctuation)\n",
        "    x = x.translate(operator)\n",
        "    if remove_emojis:\n",
        "        x = x.encode('ascii', 'ignore').decode('utf8').strip()\n",
        "    if remove_stop_words:\n",
        "        x = ' '.join([word for word in x.split(' ') if word not in stop_words])\n",
        "    return x"
      ],
      "metadata": {
        "colab": {
          "base_uri": "https://localhost:8080/"
        },
        "id": "bW2gJG0SlR81",
        "outputId": "034ef925-dcd8-4a70-a603-bd0ff9981b1f"
      },
      "execution_count": 75,
      "outputs": [
        {
          "output_type": "stream",
          "name": "stdout",
          "text": [
            "[nltk_data] Downloading package stopwords to /root/nltk_data...\n",
            "[nltk_data]   Package stopwords is already up-to-date!\n"
          ]
        }
      ]
    },
    {
      "cell_type": "code",
      "source": [
        "## APPLY the cleaning function to the text column\n",
        "df_train['cleanglove_tweet'] = df_train['tweet'].apply(tweets_cleaning)\n",
        "df_test['cleanglove_tweet'] = df_test['tweet'].apply(tweets_cleaning)"
      ],
      "metadata": {
        "id": "7r9stfORI5rQ"
      },
      "execution_count": 76,
      "outputs": []
    },
    {
      "cell_type": "markdown",
      "metadata": {
        "id": "29a93cc1JVUj"
      },
      "source": [
        "### Separate features from targets"
      ]
    },
    {
      "cell_type": "code",
      "metadata": {
        "id": "PRjL4WS3E4Jc"
      },
      "source": [
        "X_train = df_train['cleanglove_tweet']\n",
        "Y_train = df_train['label'] #Only keep value\n",
        "\n",
        "X_test = df_test['cleanglove_tweet']\n",
        "Y_test = df_test['label'] #Only keep value"
      ],
      "execution_count": 77,
      "outputs": []
    },
    {
      "cell_type": "code",
      "source": [
        "X_train"
      ],
      "metadata": {
        "colab": {
          "base_uri": "https://localhost:8080/"
        },
        "id": "hb_35RgUQJFf",
        "outputId": "8ec3bb91-662e-4075-ccda-100830575e20"
      },
      "execution_count": 78,
      "outputs": [
        {
          "output_type": "execute_result",
          "data": {
            "text/plain": [
              "0        sip n shop come thru right marjais popularnobo...\n",
              "1        dont know family take covid19 vaccine anytime ...\n",
              "2        msignorile immunizations mandatory period okla...\n",
              "3        president obama spoke favor vaccination childr...\n",
              "4        myfoxla arizona monitoring hundreds measles li...\n",
              "                               ...                        \n",
              "15971    salon u believe antivax nutcases caused measle...\n",
              "15972    feel parents dont vaccinate kids\\r\\n\\r\\nmeasle...\n",
              "15973          70 preschoolers tested measles simi valley \n",
              "15974    finance minister budget offers room procure co...\n",
              "15975    date vaccines take cdc’s vaccine quiz find vac...\n",
              "Name: cleanglove_tweet, Length: 15976, dtype: object"
            ]
          },
          "metadata": {},
          "execution_count": 78
        }
      ]
    },
    {
      "cell_type": "code",
      "source": [
        "X_test"
      ],
      "metadata": {
        "colab": {
          "base_uri": "https://localhost:8080/"
        },
        "id": "MgKREelmQM3f",
        "outputId": "330f628e-ff7a-4fc4-9274-52ff2f7ca7cf"
      },
      "execution_count": 79,
      "outputs": [
        {
          "output_type": "execute_result",
          "data": {
            "text/plain": [
              "0       user massive surge covid deaths immediately va...\n",
              "1       required vaccines school parents guardians chi...\n",
              "2       “kcstar two johnson county children measles  s...\n",
              "3          nv better states best worst vaccinating kids  \n",
              "4       nothing like killing w fear mtalyssamilano vac...\n",
              "                              ...                        \n",
              "2277    rt abc7 number measles cases reported cali 10y...\n",
              "2278    evidence points idea measles affects immune sy...\n",
              "2279    wheres savedyouaclick voxdotcom vaccinate kids...\n",
              "2280    favorite people autism thats reason bringing b...\n",
              "2281    coronavirus married couple behind successful p...\n",
              "Name: cleanglove_tweet, Length: 2282, dtype: object"
            ]
          },
          "metadata": {},
          "execution_count": 79
        }
      ]
    },
    {
      "cell_type": "markdown",
      "metadata": {
        "id": "mMXtkwBrJtSi"
      },
      "source": [
        "Overview of label distribution"
      ]
    },
    {
      "cell_type": "code",
      "metadata": {
        "colab": {
          "base_uri": "https://localhost:8080/"
        },
        "id": "dxpyM6vOHrRv",
        "outputId": "2f4027b7-e226-4fbb-8cd6-8399367d0476"
      },
      "source": [
        "print(\"train data\")\n",
        "print(\"label 0:\",Y_train[Y_train== 0].count())\n",
        "print(\"label 1:\",Y_train[Y_train== 1].count())\n",
        "print(\"label 2:\",Y_train[Y_train== 2].count())\n",
        "print(\"validation data\")\n",
        "print(\"label 0:\",Y_test[Y_test== 0].count())\n",
        "print(\"label 1:\",Y_test[Y_test== 1].count())\n",
        "print(\"label 2:\",Y_test[Y_test== 2].count())"
      ],
      "execution_count": 80,
      "outputs": [
        {
          "output_type": "stream",
          "name": "stdout",
          "text": [
            "train data\n",
            "label 0: 7458\n",
            "label 1: 2073\n",
            "label 2: 6445\n",
            "validation data\n",
            "label 0: 1065\n",
            "label 1: 296\n",
            "label 2: 921\n"
          ]
        }
      ]
    },
    {
      "cell_type": "markdown",
      "metadata": {
        "id": "_4Z0u5rJ0ToQ"
      },
      "source": [
        "Label 1 has very few instances so we expect that it has a lower score than the other 2 labels. "
      ]
    },
    {
      "cell_type": "markdown",
      "metadata": {
        "id": "b5Bc0vQAEvnD"
      },
      "source": [
        "## Features Extraction\n"
      ]
    },
    {
      "cell_type": "markdown",
      "source": [
        "### GloVe representation"
      ],
      "metadata": {
        "id": "RKJyG0WzOUyb"
      }
    },
    {
      "cell_type": "markdown",
      "source": [
        "Load pre-trained GloVe vectors into a dictionary"
      ],
      "metadata": {
        "id": "0QS4tdTpGpkF"
      }
    },
    {
      "cell_type": "code",
      "source": [
        "embeddings_dict = {}\n",
        "with open(\"/content/drive/MyDrive/Colab Notebooks/Artificial Intelligence II/glove.twitter.27B.50d.txt\", 'r', encoding=\"utf-8\") as f:\n",
        "  for line in f:\n",
        "    values = line.split()\n",
        "    word = values[0]\n",
        "    vector = np.asarray(values[1:],'float32')\n",
        "    embeddings_dict[word]=vector"
      ],
      "metadata": {
        "id": "Wc0NC0cvGov-"
      },
      "execution_count": 81,
      "outputs": []
    },
    {
      "cell_type": "markdown",
      "source": [
        "Find the vector for each word in each tweet and for every tweet keep the average of each dimesion of its words.\n",
        "\n",
        "Some words do not exist in the pretrained model and in some tweets there isn't any word that matches. So I filled those tweets with zeros.  "
      ],
      "metadata": {
        "id": "s4lM2nRpj6ns"
      }
    },
    {
      "cell_type": "code",
      "source": [
        "import nltk\n",
        "nltk.download('punkt')\n",
        "from nltk import word_tokenize\n",
        "def find_glove(text):\n",
        "  tokens = word_tokenize(text.lower())\n",
        "  res = [ embeddings_dict[token] for token in tokens if (token in embeddings_dict) ]\n",
        "  # print([ token for token in tokens if (token not in embeddings_dict) ] )\n",
        "  if (len(res) == 0):\n",
        "    res = np.zeros(50)\n",
        "  else:\n",
        "    res = np.stack(res, axis=0)\n",
        "    res = np.average(res, axis=0).flatten()\n",
        "  return res\n",
        "\n",
        "df_train['features'] = df_train['cleanglove_tweet'].apply(find_glove)\n",
        "df_test['features'] = df_test['cleanglove_tweet'].apply(find_glove)"
      ],
      "metadata": {
        "id": "iWzahQgiaoQB",
        "colab": {
          "base_uri": "https://localhost:8080/"
        },
        "outputId": "9bc5efd2-c6f5-4e05-8c05-5122ad008f8a"
      },
      "execution_count": 82,
      "outputs": [
        {
          "output_type": "stream",
          "name": "stdout",
          "text": [
            "[nltk_data] Downloading package punkt to /root/nltk_data...\n",
            "[nltk_data]   Package punkt is already up-to-date!\n"
          ]
        }
      ]
    },
    {
      "cell_type": "markdown",
      "source": [
        "### TF-IDF representation"
      ],
      "metadata": {
        "id": "yn7Dw8EZO0Oa"
      }
    },
    {
      "cell_type": "markdown",
      "source": [
        "This is the same function that I used in Homework 1 for lemmatization. In this exercise it did not have better results than the simple preprocessing so I didn't use it."
      ],
      "metadata": {
        "id": "Pn9cUYVqlYHi"
      }
    },
    {
      "cell_type": "code",
      "metadata": {
        "colab": {
          "base_uri": "https://localhost:8080/"
        },
        "id": "07E_H-evj1cT",
        "outputId": "2b0477dc-7781-4579-e7b7-4233b7a86adc"
      },
      "source": [
        "# Dictionary is created where pos_tag (first letter) are the key values whose values are mapped with the value from wordnet dictionary. \n",
        "# We have taken the only first letter as we will use it later in the loop.\n",
        "\n",
        "# For preprocessing\n",
        "import nltk\n",
        "nltk.download('wordnet')\n",
        "nltk.download('averaged_perceptron_tagger')\n",
        "# the corpus reader wordnet is imported.\n",
        "from nltk.corpus import wordnet as wn\n",
        "# WordNetLemmatizer is imported from wordnet.\n",
        "from nltk.stem.wordnet import WordNetLemmatizer\n",
        "# Word tokenize as well as parts of speech tag are imported from nltk.\n",
        "from nltk import word_tokenize, pos_tag\n",
        "# Default Dictionary is imported from collections.\n",
        "from collections import defaultdict\n",
        "\n",
        "tag_map = defaultdict(lambda : wn.NOUN)\n",
        "tag_map['J'] = wn.ADJ\n",
        "tag_map['V'] = wn.VERB\n",
        "tag_map['R'] = wn.ADV\n",
        "import gensim\n",
        "all_stopwords = gensim.parsing.preprocessing.STOPWORDS\n",
        "lemmatizer = WordNetLemmatizer()\n",
        "\n",
        "def lemma_text(text):\n",
        "  text = text.replace(\"#\", \" \")\n",
        "  tokens = word_tokenize(text.lower())\n",
        "  text = ' '.join([lemmatizer.lemmatize(token, tag_map[tag[0]]) for token, tag in pos_tag(tokens)]) # if (token not in all_stopwords and token.isalpha() == True and len(token)>2)\n",
        "  return text\n"
      ],
      "execution_count": 83,
      "outputs": [
        {
          "output_type": "stream",
          "name": "stdout",
          "text": [
            "[nltk_data] Downloading package wordnet to /root/nltk_data...\n",
            "[nltk_data]   Package wordnet is already up-to-date!\n",
            "[nltk_data] Downloading package averaged_perceptron_tagger to\n",
            "[nltk_data]     /root/nltk_data...\n",
            "[nltk_data]   Package averaged_perceptron_tagger is already up-to-\n",
            "[nltk_data]       date!\n"
          ]
        }
      ]
    },
    {
      "cell_type": "code",
      "source": [
        "\n",
        "df_train['cleantfidf_tweet'] = df_train['tweet'].apply(tweets_cleaning)\n",
        "df_test['cleantfidf_tweet'] = df_test['tweet'].apply(tweets_cleaning)"
      ],
      "metadata": {
        "id": "v4weLof6ZxrW"
      },
      "execution_count": 84,
      "outputs": []
    },
    {
      "cell_type": "markdown",
      "source": [
        "For the TF-IDF vectorization I used unigrams & bigrams for a better representation of the tweets and connections between words. I tried 0.01, 0.002 and 0.001 for the min_df parameter. 0.01 resulted in very little features that were not enough to represent the dataset well. 0.002 is the value that I worked best in Homework 1, but 0.001 did better in this one."
      ],
      "metadata": {
        "id": "bx1SN_Qel7BB"
      }
    },
    {
      "cell_type": "code",
      "source": [
        "tfidf_vectorizer = TfidfVectorizer(ngram_range=(1, 2), max_df=1.0, min_df=0.001, stop_words='english', lowercase=True)\n",
        "\n",
        "tfidf_vectorizer.fit(df_train['cleantfidf_tweet'])\n",
        "\n",
        "tfidf_train = tfidf_vectorizer.transform(df_train['cleantfidf_tweet'])\n",
        "print(tfidf_train.shape)\n",
        "print(tfidf_vectorizer.get_feature_names_out())\n",
        "tfidf_test = tfidf_vectorizer.transform(df_test['cleantfidf_tweet'])\n",
        "print(tfidf_test.shape)"
      ],
      "metadata": {
        "colab": {
          "base_uri": "https://localhost:8080/"
        },
        "id": "2b3B3CpVOzih",
        "outputId": "46830bba-a9d3-4cd2-a6f7-8f31fee243ec"
      },
      "execution_count": 85,
      "outputs": [
        {
          "output_type": "stream",
          "name": "stdout",
          "text": [
            "(15976, 1900)\n",
            "['10' '100' '1000' ... 'yr' 'yrs' 'zero']\n",
            "(2282, 1900)\n"
          ]
        }
      ]
    },
    {
      "cell_type": "markdown",
      "source": [
        "## Neural Network using GloVe"
      ],
      "metadata": {
        "id": "o3GArLbZpYJA"
      }
    },
    {
      "cell_type": "markdown",
      "source": [
        "Import torch"
      ],
      "metadata": {
        "id": "HYnUdIuCnoMX"
      }
    },
    {
      "cell_type": "code",
      "source": [
        "import torch\n",
        "import torch.nn as nn"
      ],
      "metadata": {
        "id": "LHT32nVHaJkd"
      },
      "execution_count": 86,
      "outputs": []
    },
    {
      "cell_type": "markdown",
      "source": [
        "Tranform train and test dataframes to tensors so that we can use them in the neural network.\n",
        "\n",
        "I experimented with feature normalization but it dropped the score to 64.3 from 71.5, so I chose to keep only batch normalization inside the model. "
      ],
      "metadata": {
        "id": "gYI97j49nrHe"
      }
    },
    {
      "cell_type": "code",
      "metadata": {
        "colab": {
          "base_uri": "https://localhost:8080/"
        },
        "id": "2EIP1OaJOFak",
        "outputId": "aca1d3ce-36db-432d-a092-a71d52fffc72"
      },
      "source": [
        "train_features = np.stack(df_train['features'])\n",
        "\n",
        "#Normalize values\n",
        "# train_features = np.stack(df_train['features'])\n",
        "# train_features = (train_features-train_features.mean())/train_features.std()\n",
        "\n",
        "#Save in tensors\n",
        "x = torch.tensor(train_features, dtype=torch.float)\n",
        "y = torch.tensor(df_train['label'], dtype=torch.float)\n",
        "\n",
        "print(f\"x shape: {x.shape}\")\n",
        "print(f\"y shape: {y.shape}\")"
      ],
      "execution_count": 111,
      "outputs": [
        {
          "output_type": "stream",
          "name": "stdout",
          "text": [
            "x shape: torch.Size([15976, 50])\n",
            "y shape: torch.Size([15976])\n"
          ]
        }
      ]
    },
    {
      "cell_type": "code",
      "source": [
        "test_features = np.stack(df_test['features'])\n",
        "# test_features = (test_features-test_features.mean())/test_features.std()\n",
        "# display(test_features.mean())\n",
        "# display(test_features.std())\n",
        "x_test = torch.tensor(test_features, dtype=torch.float)\n",
        "y_test = torch.tensor(Y_test, dtype=torch.float)\n",
        "\n",
        "y_test_3 = np.array(pd.get_dummies(y_test.detach().numpy()))\n",
        "y_test_3 = torch.tensor(y_test_3, dtype=torch.float)"
      ],
      "metadata": {
        "id": "Tg1n8BaJT6sz"
      },
      "execution_count": 112,
      "outputs": []
    },
    {
      "cell_type": "markdown",
      "metadata": {
        "id": "i10vl9KnOwfE"
      },
      "source": [
        "### Create a Neural Network"
      ]
    },
    {
      "cell_type": "code",
      "metadata": {
        "id": "wTlyzUiG8p5V"
      },
      "source": [
        "class Net(nn.Module):\n",
        "    def __init__(self, D_in, H1, H2, H3, H4, D_out):\n",
        "        super(Net, self).__init__()\n",
        "        \n",
        "        self.d1 = nn.Dropout(p=0.5)\n",
        "        self.d2 = nn.Dropout(p=0.4)\n",
        "        self.d3 = nn.Dropout(p=0.4)\n",
        "        self.d4 = nn.Dropout(p=0.4)\n",
        "\n",
        "        self.bn1 = nn.BatchNorm1d(H1)\n",
        "        self.bn2 = nn.BatchNorm1d(H2)\n",
        "        self.bn3 = nn.BatchNorm1d(H3)\n",
        "        self.bn4 = nn.BatchNorm1d(H4)\n",
        "\n",
        "        self.linear1 = nn.Linear(D_in, H1)\n",
        "        self.linear2 = nn.Linear(H1, H2)\n",
        "        self.linear3 = nn.Linear(H2, H3)\n",
        "        self.linear4 = nn.Linear(H3, H4)\n",
        "        self.linear5 = nn.Linear(H4, D_out)\n",
        "\n",
        "        self.softmax = nn.Softmax(dim=1);\n",
        "        self.relu=nn.LeakyReLU(inplace=True)\n",
        "        \n",
        "    def forward(self, x):\n",
        "        h1 = self.linear1(x)\n",
        "        h1 = self.bn1(h1)\n",
        "        self.relu(h1)\n",
        "        h1 = self.d1(h1)\n",
        "\n",
        "        h2 = self.linear2(h1)\n",
        "        h2 = self.bn2(h2)\n",
        "        self.relu(h2)\n",
        "        h2 = self.d2(h2)\n",
        "\n",
        "        h3 = self.linear3(h2)\n",
        "        h3 = self.bn3(h3)\n",
        "        self.relu(h3)\n",
        "        h3 = self.d3(h3)\n",
        "\n",
        "        h4 = self.linear4(h3)\n",
        "        h4 = self.bn4(h4)\n",
        "        self.relu(h4)\n",
        "        h4 = self.d4(h4)\n",
        "\n",
        "        out = self.linear5(h4)\n",
        "        # out = self.softmax(out)\n",
        "        return out"
      ],
      "execution_count": 113,
      "outputs": []
    },
    {
      "cell_type": "code",
      "metadata": {
        "id": "BXAcc2dLPPUe",
        "colab": {
          "base_uri": "https://localhost:8080/",
          "height": 331
        },
        "outputId": "7c1784a6-ad34-45da-8abc-26d45d3586ba"
      },
      "source": [
        "np.random.seed(20)\n",
        "torch.manual_seed(20)\n",
        "\n",
        "#Define layer sizes\n",
        "D_in = x.shape[1]\n",
        "H1 = 256\n",
        "H2 = 512\n",
        "H3 = 512\n",
        "H4 = 256\n",
        "D_out = 3\n",
        "\n",
        "#Define Hyperparameters\n",
        "learning_rate = 0.001\n",
        "\n",
        "#Initialize model, loss, optimizer\n",
        "model = Net(D_in, H1, H2, H3, H4, D_out)\n",
        "\n",
        "loss_func = nn.CrossEntropyLoss()\n",
        "optimizer = torch.optim.Adam(model.parameters(), lr=learning_rate, amsgrad=True)\n",
        "\n",
        "#Initialize dataloader\n",
        "dataset = torch.utils.data.TensorDataset(x, y)\n",
        "dataloader = torch.utils.data.DataLoader(dataset, batch_size=256, shuffle=True)\n",
        "\n",
        "display(model)"
      ],
      "execution_count": 90,
      "outputs": [
        {
          "output_type": "display_data",
          "data": {
            "text/plain": [
              "Net(\n",
              "  (d1): Dropout(p=0.5, inplace=False)\n",
              "  (d2): Dropout(p=0.4, inplace=False)\n",
              "  (d3): Dropout(p=0.4, inplace=False)\n",
              "  (d4): Dropout(p=0.4, inplace=False)\n",
              "  (bn1): BatchNorm1d(256, eps=1e-05, momentum=0.1, affine=True, track_running_stats=True)\n",
              "  (bn2): BatchNorm1d(512, eps=1e-05, momentum=0.1, affine=True, track_running_stats=True)\n",
              "  (bn3): BatchNorm1d(512, eps=1e-05, momentum=0.1, affine=True, track_running_stats=True)\n",
              "  (bn4): BatchNorm1d(256, eps=1e-05, momentum=0.1, affine=True, track_running_stats=True)\n",
              "  (linear1): Linear(in_features=50, out_features=256, bias=True)\n",
              "  (linear2): Linear(in_features=256, out_features=512, bias=True)\n",
              "  (linear3): Linear(in_features=512, out_features=512, bias=True)\n",
              "  (linear4): Linear(in_features=512, out_features=256, bias=True)\n",
              "  (linear5): Linear(in_features=256, out_features=3, bias=True)\n",
              "  (softmax): Softmax(dim=1)\n",
              "  (relu): LeakyReLU(negative_slope=0.01, inplace=True)\n",
              ")"
            ]
          },
          "metadata": {}
        }
      ]
    },
    {
      "cell_type": "markdown",
      "metadata": {
        "id": "tWzZl_LRTd6J"
      },
      "source": [
        "### Train Network"
      ]
    },
    {
      "cell_type": "code",
      "metadata": {
        "colab": {
          "base_uri": "https://localhost:8080/"
        },
        "id": "fck--1cFP1Rd",
        "outputId": "2ee37a03-d046-4236-8155-b40c7b493587"
      },
      "source": [
        "epoch_loss = []\n",
        "validation_loss = []\n",
        "epochs = 10\n",
        "\n",
        "for epoch in range(epochs):\n",
        "  model.train()\n",
        "  batch_losses = []\n",
        "\n",
        "  for x_batch, y_batch in dataloader:\n",
        "    y_pred = model(x_batch)\n",
        "    \n",
        "    y_batch = np.array(pd.get_dummies(y_batch.detach().numpy()))\n",
        "    y_batch = torch.tensor(y_batch, dtype=torch.float)\n",
        "    loss = loss_func(y_pred, y_batch)\n",
        "    batch_losses.append(loss.item())\n",
        "    \n",
        "    #Delete previously stored gradients\n",
        "    optimizer.zero_grad()\n",
        "    #Perform backpropagation starting from the loss calculated in this epoch\n",
        "    loss.backward()\n",
        "    #Update model's weights based on the gradients calculated during backprop\n",
        "    optimizer.step()\n",
        "\n",
        "  epoch_loss.append(sum(batch_losses)/len(dataloader))\n",
        "  model.eval()\n",
        "  y_test_pred = model(x_test)\n",
        "\n",
        "  val_loss = loss_func(y_test_pred, y_test_3)\n",
        "\n",
        "  validation_loss.append(val_loss.item())\n",
        "  print(f\"Epoch {epoch:3}: Loss = {sum(batch_losses)/len(dataloader):.5f}\")\n",
        "    "
      ],
      "execution_count": 91,
      "outputs": [
        {
          "output_type": "stream",
          "name": "stdout",
          "text": [
            "Epoch   0: Loss = 0.89284\n",
            "Epoch   1: Loss = 0.81898\n",
            "Epoch   2: Loss = 0.79629\n",
            "Epoch   3: Loss = 0.77850\n",
            "Epoch   4: Loss = 0.77815\n",
            "Epoch   5: Loss = 0.76830\n",
            "Epoch   6: Loss = 0.76399\n",
            "Epoch   7: Loss = 0.75648\n",
            "Epoch   8: Loss = 0.75259\n",
            "Epoch   9: Loss = 0.74783\n"
          ]
        }
      ]
    },
    {
      "cell_type": "markdown",
      "metadata": {
        "id": "D3nH386TKXwy"
      },
      "source": [
        "### Evaluation of the model using recall, precision and f1 metrics"
      ]
    },
    {
      "cell_type": "code",
      "metadata": {
        "colab": {
          "base_uri": "https://localhost:8080/"
        },
        "id": "j7cwixBvWZ-u",
        "outputId": "4666b8ba-e40c-42b8-98c3-3af14fcc94d6"
      },
      "source": [
        "model.eval()\n",
        "# accuracy = softReg.score(chosen_test, Y_test)\n",
        "# print(\"Accuracy = \", accuracy * 100, \"%\")\n",
        "\n",
        "y_pred_3 = model(x_test).detach().numpy()\n",
        "y_pred = np.argmax(y_pred_3, axis=1)\n",
        "\n",
        "from sklearn.metrics import precision_recall_fscore_support\n",
        "print(\"all in one metrics: precision, recall, f1:\", precision_recall_fscore_support(Y_test, y_pred))\n",
        "print(\"all in one metrics: precision, recall, f1:\", precision_recall_fscore_support(Y_test, y_pred, average='micro'))\n",
        "\n",
        "f1 = f1_score(Y_test, y_pred, average=None)\n",
        "print(\"F1 score for each class = \", f1 * 100, \"%\")\n",
        "f1 = f1_score(Y_test, y_pred, average='micro')\n",
        "print(\"F1 score = \", f1 * 100, \"%\")\n",
        "\n",
        "from sklearn.metrics import precision_score\n",
        "print(\"precision: \", precision_score(Y_test, y_pred, average='weighted'))\n",
        "\n",
        "from sklearn.metrics import recall_score\n",
        "print(\"recall: \", recall_score(Y_test, y_pred, average='micro'))"
      ],
      "execution_count": 92,
      "outputs": [
        {
          "output_type": "stream",
          "name": "stdout",
          "text": [
            "all in one metrics: precision, recall, f1: (array([0.80179171, 0.5       , 0.58339859]), array([0.67230047, 0.18918919, 0.80890337]), array([0.73135853, 0.2745098 , 0.67788899]), array([1065,  296,  921]))\n",
            "all in one metrics: precision, recall, f1: (0.6647677475898335, 0.6647677475898335, 0.6647677475898335, None)\n",
            "F1 score for each class =  [73.13585291 27.45098039 67.788899  ] %\n",
            "F1 score =  66.47677475898335 %\n",
            "precision:  0.6745040650714924\n",
            "recall:  0.6647677475898335\n"
          ]
        }
      ]
    },
    {
      "cell_type": "markdown",
      "metadata": {
        "id": "9DCj0ZOdKigS"
      },
      "source": [
        "### Confusion Matrix"
      ]
    },
    {
      "cell_type": "code",
      "metadata": {
        "id": "EpcCOTShpJAX",
        "colab": {
          "base_uri": "https://localhost:8080/",
          "height": 278
        },
        "outputId": "7c024f73-b467-4381-da61-7e74be50185a"
      },
      "source": [
        "import matplotlib.pyplot as plt\n",
        "from sklearn.metrics import ConfusionMatrixDisplay\n",
        "\n",
        "ConfusionMatrixDisplay.from_predictions(Y_test, y_pred, cmap=plt.cm.pink)  \n",
        "plt.show()"
      ],
      "execution_count": 93,
      "outputs": [
        {
          "output_type": "display_data",
          "data": {
            "image/png": "[encoded data removed]",
            "text/plain": [
              "<Figure size 432x288 with 2 Axes>"
            ]
          },
          "metadata": {
            "needs_background": "light"
          }
        }
      ]
    },
    {
      "cell_type": "markdown",
      "metadata": {
        "id": "jdKeffHHKFkJ"
      },
      "source": [
        "### Learning Curves"
      ]
    },
    {
      "cell_type": "code",
      "metadata": {
        "id": "uc-F-ub8FXKO",
        "colab": {
          "base_uri": "https://localhost:8080/",
          "height": 320
        },
        "outputId": "29cd134b-e47a-4be1-dcd5-4025e7ac59c4"
      },
      "source": [
        "# plot\n",
        "print(epoch_loss)\n",
        "print(validation_loss)\n",
        "fig, ax = plt.subplots()\n",
        "ax.plot(np.arange(epochs), validation_loss, color=\"pink\", lw=2, label='validation')\n",
        "ax.plot(np.arange(epochs), epoch_loss, color=\"b\", lw=2, label='training')\n",
        "\n",
        "ax.set_xlabel('Epochs')\n",
        "ax.set_ylabel('Cross Entropy Loss')\n",
        "\n",
        "ax.grid()\n",
        "ax.legend(loc=0)\n",
        "plt.show()\n",
        "  "
      ],
      "execution_count": 94,
      "outputs": [
        {
          "output_type": "stream",
          "name": "stdout",
          "text": [
            "[0.8928391536076864, 0.8189836011992561, 0.7962885707143753, 0.7784966656139919, 0.7781515509363205, 0.7683024368588887, 0.7639877957011026, 0.7564813948812938, 0.7525939723801991, 0.7478339577478076]\n",
            "[0.8044968843460083, 0.7744685411453247, 0.7675168514251709, 0.7554683685302734, 0.7588613629341125, 0.7512896656990051, 0.7477795481681824, 0.743401288986206, 0.749708354473114, 0.7390918731689453]\n"
          ]
        },
        {
          "output_type": "display_data",
          "data": {
            "image/png": "[encoded data removed]",
            "text/plain": [
              "<Figure size 432x288 with 1 Axes>"
            ]
          },
          "metadata": {
            "needs_background": "light"
          }
        }
      ]
    },
    {
      "cell_type": "markdown",
      "source": [
        "### ROC curve"
      ],
      "metadata": {
        "id": "ZaijmnYUwkB3"
      }
    },
    {
      "cell_type": "code",
      "source": [
        "# CODE FROM https://scikit-learn.org/stable/auto_examples/model_selection/plot_roc.html\n",
        "import numpy as np\n",
        "import matplotlib.pyplot as plt\n",
        "from itertools import cycle\n",
        "\n",
        "from sklearn.metrics import roc_curve, auc\n",
        "from sklearn.model_selection import train_test_split\n",
        "from sklearn.preprocessing import label_binarize\n",
        "from sklearn.multiclass import OneVsRestClassifier\n",
        "from scipy import interp\n",
        "from sklearn.metrics import roc_auc_score\n",
        "\n",
        "y_score = y_pred_3\n",
        "y_test = np.array(pd.get_dummies(Y_test))\n",
        "n_classes = 3\n",
        "# print(y_score)\n",
        "# print(y_test)\n",
        "# print(n_classes)\n",
        "# Compute ROC curve and ROC area for each class\n",
        "fpr = dict()\n",
        "tpr = dict()\n",
        "roc_auc = dict()\n",
        "for i in range(n_classes):\n",
        "    fpr[i], tpr[i], _ = roc_curve(y_test[:, i], y_score[:, i])\n",
        "    roc_auc[i] = auc(fpr[i], tpr[i])\n",
        "\n",
        "# Compute micro-average ROC curve and ROC area\n",
        "fpr[\"micro\"], tpr[\"micro\"], _ = roc_curve(y_test.ravel(), y_score.ravel())\n",
        "roc_auc[\"micro\"] = auc(fpr[\"micro\"], tpr[\"micro\"])\n",
        "################################################################################\n",
        "\n",
        "# First aggregate all false positive rates\n",
        "all_fpr = np.unique(np.concatenate([fpr[i] for i in range(n_classes)]))\n",
        "\n",
        "# Then interpolate all ROC curves at this points\n",
        "mean_tpr = np.zeros_like(all_fpr)\n",
        "for i in range(n_classes):\n",
        "    mean_tpr += interp(all_fpr, fpr[i], tpr[i])\n",
        "\n",
        "# Finally average it and compute AUC\n",
        "mean_tpr /= n_classes\n",
        "\n",
        "fpr[\"macro\"] = all_fpr\n",
        "tpr[\"macro\"] = mean_tpr\n",
        "roc_auc[\"macro\"] = auc(fpr[\"macro\"], tpr[\"macro\"])\n",
        "\n",
        "# Plot all ROC curves\n",
        "plt.figure(figsize=(8,8))\n",
        "plt.plot(\n",
        "    fpr[\"micro\"],\n",
        "    tpr[\"micro\"],\n",
        "    label=\"micro-average ROC curve (area = {0:0.2f})\".format(roc_auc[\"micro\"]),\n",
        "    color=\"deeppink\",\n",
        "    linestyle=\":\",\n",
        "    linewidth=4,\n",
        ")\n",
        "\n",
        "plt.plot(\n",
        "    fpr[\"macro\"],\n",
        "    tpr[\"macro\"],\n",
        "    label=\"macro-average ROC curve (area = {0:0.2f})\".format(roc_auc[\"macro\"]),\n",
        "    color=\"navy\",\n",
        "    linestyle=\":\",\n",
        "    linewidth=4,\n",
        ")\n",
        "\n",
        "colors = cycle([\"aqua\", \"darkorange\", \"cornflowerblue\"])\n",
        "for i, color in zip(range(n_classes), colors):\n",
        "    plt.plot(\n",
        "        fpr[i],\n",
        "        tpr[i],\n",
        "        color=color,\n",
        "        lw=3,\n",
        "        label=\"ROC curve of class {0} (area = {1:0.2f})\".format(i, roc_auc[i]),\n",
        "    )\n",
        "\n",
        "plt.plot([0, 1], [0, 1], \"k--\", lw=3)\n",
        "plt.xlim([0.0, 1.0])\n",
        "plt.ylim([0.0, 1.05])\n",
        "plt.xlabel(\"False Positive Rate\")\n",
        "plt.ylabel(\"True Positive Rate\")\n",
        "plt.title(\"Some extension of Receiver operating characteristic to multiclass\")\n",
        "plt.legend(loc=\"lower right\")\n",
        "plt.show()"
      ],
      "metadata": {
        "id": "ecDEwd5B_Rk_",
        "colab": {
          "base_uri": "https://localhost:8080/",
          "height": 531
        },
        "outputId": "def7038d-21a5-4c2c-c007-3c9d2b51d214"
      },
      "execution_count": 95,
      "outputs": [
        {
          "output_type": "stream",
          "name": "stderr",
          "text": [
            "/usr/local/lib/python3.7/dist-packages/ipykernel_launcher.py:38: DeprecationWarning: scipy.interp is deprecated and will be removed in SciPy 2.0.0, use numpy.interp instead\n"
          ]
        },
        {
          "output_type": "display_data",
          "data": {
            "image/png": "[encoded data removed]",
            "text/plain": [
              "<Figure size 576x576 with 1 Axes>"
            ]
          },
          "metadata": {
            "needs_background": "light"
          }
        }
      ]
    },
    {
      "cell_type": "markdown",
      "source": [
        "### 3 layers\n",
        "\n"
      ],
      "metadata": {
        "id": "Q6COAIjaUqia"
      }
    },
    {
      "cell_type": "code",
      "metadata": {
        "id": "FR44Do7sUnJd"
      },
      "source": [
        "class Net(nn.Module):\n",
        "    def __init__(self, D_in, H1, H2, H3, D_out):\n",
        "        super(Net, self).__init__()\n",
        "        \n",
        "        self.d1 = nn.Dropout(p=0.5)\n",
        "        self.d2 = nn.Dropout(p=0.4)\n",
        "        self.d3 = nn.Dropout(p=0.4)\n",
        "\n",
        "        self.bn1 = nn.BatchNorm1d(H1)\n",
        "        self.bn2 = nn.BatchNorm1d(H2)\n",
        "        self.bn3 = nn.BatchNorm1d(H3)\n",
        "\n",
        "        self.linear1 = nn.Linear(D_in, H1)\n",
        "        self.linear2 = nn.Linear(H1, H2)\n",
        "        self.linear3 = nn.Linear(H2, H3)\n",
        "        self.linear4 = nn.Linear(H3, D_out)\n",
        "\n",
        "        self.softmax = nn.Softmax(dim=1);\n",
        "        self.relu=nn.LeakyReLU(inplace=True)\n",
        "        \n",
        "    def forward(self, x):\n",
        "        h1 = self.linear1(x)\n",
        "        h1 = self.bn1(h1)\n",
        "        self.relu(h1)\n",
        "        h1 = self.d1(h1)\n",
        "\n",
        "        h2 = self.linear2(h1)\n",
        "        h2 = self.bn2(h2)\n",
        "        self.relu(h2)\n",
        "        h2 = self.d2(h2)\n",
        "\n",
        "        h3 = self.linear3(h2)\n",
        "        h3 = self.bn3(h3)\n",
        "        self.relu(h3)\n",
        "        h3 = self.d3(h3)\n",
        "\n",
        "        out = self.linear4(h3)\n",
        "        # out = self.softmax(out)\n",
        "        return out"
      ],
      "execution_count": 96,
      "outputs": []
    },
    {
      "cell_type": "code",
      "metadata": {
        "colab": {
          "base_uri": "https://localhost:8080/",
          "height": 275
        },
        "outputId": "d380650d-cad9-481f-b264-3de1ce3ec42a",
        "id": "5ziE2m8HUnJe"
      },
      "source": [
        "np.random.seed(20)\n",
        "torch.manual_seed(20)\n",
        "\n",
        "#Define layer sizes\n",
        "D_in = x.shape[1]\n",
        "H1 = 256\n",
        "H2 = 1024\n",
        "H3 = 256\n",
        "D_out = 3\n",
        "\n",
        "#Define Hyperparameters\n",
        "learning_rate = 0.001\n",
        "\n",
        "#Initialize model, loss, optimizer\n",
        "model = Net(D_in, H1, H2, H3, D_out)\n",
        "\n",
        "loss_func = nn.CrossEntropyLoss()\n",
        "optimizer = torch.optim.Adam(model.parameters(), lr=learning_rate, amsgrad=True)\n",
        "\n",
        "#Initialize dataloader\n",
        "dataset = torch.utils.data.TensorDataset(x, y)\n",
        "dataloader = torch.utils.data.DataLoader(dataset, batch_size=256, shuffle=True)\n",
        "\n",
        "display(model)"
      ],
      "execution_count": 97,
      "outputs": [
        {
          "output_type": "display_data",
          "data": {
            "text/plain": [
              "Net(\n",
              "  (d1): Dropout(p=0.5, inplace=False)\n",
              "  (d2): Dropout(p=0.4, inplace=False)\n",
              "  (d3): Dropout(p=0.4, inplace=False)\n",
              "  (bn1): BatchNorm1d(256, eps=1e-05, momentum=0.1, affine=True, track_running_stats=True)\n",
              "  (bn2): BatchNorm1d(1024, eps=1e-05, momentum=0.1, affine=True, track_running_stats=True)\n",
              "  (bn3): BatchNorm1d(256, eps=1e-05, momentum=0.1, affine=True, track_running_stats=True)\n",
              "  (linear1): Linear(in_features=50, out_features=256, bias=True)\n",
              "  (linear2): Linear(in_features=256, out_features=1024, bias=True)\n",
              "  (linear3): Linear(in_features=1024, out_features=256, bias=True)\n",
              "  (linear4): Linear(in_features=256, out_features=3, bias=True)\n",
              "  (softmax): Softmax(dim=1)\n",
              "  (relu): LeakyReLU(negative_slope=0.01, inplace=True)\n",
              ")"
            ]
          },
          "metadata": {}
        }
      ]
    },
    {
      "cell_type": "markdown",
      "metadata": {
        "id": "xlo7_Z4yUnJf"
      },
      "source": [
        "### Train Network"
      ]
    },
    {
      "cell_type": "code",
      "metadata": {
        "colab": {
          "base_uri": "https://localhost:8080/"
        },
        "outputId": "70a985fb-ea63-436e-e5d1-9a567e47be49",
        "id": "LrEOvhKMUnJf"
      },
      "source": [
        "epoch_loss = []\n",
        "validation_loss = []\n",
        "epochs = 4\n",
        "\n",
        "for epoch in range(epochs):\n",
        "  model.train()\n",
        "  batch_losses = []\n",
        "\n",
        "  for x_batch, y_batch in dataloader:\n",
        "    y_pred = model(x_batch)\n",
        "    \n",
        "    y_batch = np.array(pd.get_dummies(y_batch.detach().numpy()))\n",
        "    y_batch = torch.tensor(y_batch, dtype=torch.float)\n",
        "    loss = loss_func(y_pred, y_batch)\n",
        "    batch_losses.append(loss.item())\n",
        "    \n",
        "    #Delete previously stored gradients\n",
        "    optimizer.zero_grad()\n",
        "    #Perform backpropagation starting from the loss calculated in this epoch\n",
        "    loss.backward()\n",
        "    #Update model's weights based on the gradients calculated during backprop\n",
        "    optimizer.step()\n",
        "\n",
        "  epoch_loss.append(sum(batch_losses)/len(dataloader))\n",
        "  model.eval()\n",
        "  y_test_pred = model(x_test)\n",
        "\n",
        "  val_loss = loss_func(y_test_pred, y_test_3)\n",
        "\n",
        "  validation_loss.append(val_loss.item())\n",
        "  print(f\"Epoch {epoch:3}: Loss = {sum(batch_losses)/len(dataloader):.5f}\")\n",
        "    "
      ],
      "execution_count": 98,
      "outputs": [
        {
          "output_type": "stream",
          "name": "stdout",
          "text": [
            "Epoch   0: Loss = 0.87118\n",
            "Epoch   1: Loss = 0.80284\n",
            "Epoch   2: Loss = 0.78585\n",
            "Epoch   3: Loss = 0.77332\n"
          ]
        }
      ]
    },
    {
      "cell_type": "markdown",
      "metadata": {
        "id": "epzb6lriUnJg"
      },
      "source": [
        "### Evaluation of the model using recall, precision and f1 metrics"
      ]
    },
    {
      "cell_type": "code",
      "metadata": {
        "colab": {
          "base_uri": "https://localhost:8080/"
        },
        "outputId": "9d5fd818-94ea-4605-81d9-2ac537481675",
        "id": "W2RVEc1LUnJg"
      },
      "source": [
        "model.eval()\n",
        "# accuracy = softReg.score(chosen_test, Y_test)\n",
        "# print(\"Accuracy = \", accuracy * 100, \"%\")\n",
        "\n",
        "y_pred_3 = model(x_test).detach().numpy()\n",
        "y_pred = np.argmax(y_pred_3, axis=1)\n",
        "\n",
        "from sklearn.metrics import precision_recall_fscore_support\n",
        "print(\"all in one metrics: precision, recall, f1:\", precision_recall_fscore_support(Y_test, y_pred))\n",
        "print(\"all in one metrics: precision, recall, f1:\", precision_recall_fscore_support(Y_test, y_pred, average='micro'))\n",
        "\n",
        "f1 = f1_score(Y_test, y_pred, average=None)\n",
        "print(\"F1 score for each class = \", f1 * 100, \"%\")\n",
        "f1 = f1_score(Y_test, y_pred, average='micro')\n",
        "print(\"F1 score = \", f1 * 100, \"%\")\n",
        "\n",
        "from sklearn.metrics import precision_score\n",
        "print(\"precision: \", precision_score(Y_test, y_pred, average='weighted'))\n",
        "\n",
        "from sklearn.metrics import recall_score\n",
        "print(\"recall: \", recall_score(Y_test, y_pred, average='micro'))"
      ],
      "execution_count": 99,
      "outputs": [
        {
          "output_type": "stream",
          "name": "stdout",
          "text": [
            "all in one metrics: precision, recall, f1: (array([0.8162762 , 0.48529412, 0.55666429]), array([0.62159624, 0.11148649, 0.84799131]), array([0.70575693, 0.18131868, 0.67211704]), array([1065,  296,  921]))\n",
            "all in one metrics: precision, recall, f1: (0.6468010517090271, 0.6468010517090271, 0.6468010517090271, None)\n",
            "F1 score for each class =  [70.57569296 18.13186813 67.21170396] %\n",
            "F1 score =  64.6801051709027 %\n",
            "precision:  0.6685666196402573\n",
            "recall:  0.6468010517090271\n"
          ]
        }
      ]
    },
    {
      "cell_type": "markdown",
      "metadata": {
        "id": "7WRTxvIcUnJh"
      },
      "source": [
        "### Confusion Matrix"
      ]
    },
    {
      "cell_type": "code",
      "metadata": {
        "colab": {
          "base_uri": "https://localhost:8080/",
          "height": 278
        },
        "outputId": "438db686-fbed-4f4f-cbba-353f56929885",
        "id": "-UgUHwR4UnJh"
      },
      "source": [
        "import matplotlib.pyplot as plt\n",
        "from sklearn.metrics import ConfusionMatrixDisplay\n",
        "\n",
        "ConfusionMatrixDisplay.from_predictions(Y_test, y_pred, cmap=plt.cm.pink)  \n",
        "plt.show()"
      ],
      "execution_count": 100,
      "outputs": [
        {
          "output_type": "display_data",
          "data": {
            "image/png": "[encoded data removed]",
            "text/plain": [
              "<Figure size 432x288 with 2 Axes>"
            ]
          },
          "metadata": {
            "needs_background": "light"
          }
        }
      ]
    },
    {
      "cell_type": "markdown",
      "metadata": {
        "id": "mNlJ4x1PUnJh"
      },
      "source": [
        "### Learning Curves"
      ]
    },
    {
      "cell_type": "code",
      "metadata": {
        "colab": {
          "base_uri": "https://localhost:8080/",
          "height": 315
        },
        "outputId": "cbd77fd1-fb71-421a-ca29-dacba757a420",
        "id": "oiqaQa9fUnJh"
      },
      "source": [
        "# plot\n",
        "print(epoch_loss)\n",
        "print(validation_loss)\n",
        "fig, ax = plt.subplots()\n",
        "ax.plot(np.arange(epochs), validation_loss, color=\"pink\", lw=2, label='validation')\n",
        "ax.plot(np.arange(epochs), epoch_loss, color=\"b\", lw=2, label='training')\n",
        "\n",
        "ax.set_xlabel('Epochs')\n",
        "ax.set_ylabel('Cross Entropy Loss')\n",
        "\n",
        "ax.grid()\n",
        "ax.legend(loc=0)\n",
        "plt.show()\n",
        "  "
      ],
      "execution_count": 101,
      "outputs": [
        {
          "output_type": "stream",
          "name": "stdout",
          "text": [
            "[0.871184988627358, 0.802835206190745, 0.7858486629667736, 0.7733218158994403]\n",
            "[0.7863224744796753, 0.7611820101737976, 0.7533193230628967, 0.7619069814682007]\n"
          ]
        },
        {
          "output_type": "display_data",
          "data": {
            "image/png": "[encoded data removed]",
            "text/plain": [
              "<Figure size 432x288 with 1 Axes>"
            ]
          },
          "metadata": {
            "needs_background": "light"
          }
        }
      ]
    },
    {
      "cell_type": "markdown",
      "source": [
        "## Neural Network using TF-IDF"
      ],
      "metadata": {
        "id": "Bx4F5Wd4UzJJ"
      }
    },
    {
      "cell_type": "code",
      "metadata": {
        "id": "g4epwCTRU5JO",
        "colab": {
          "base_uri": "https://localhost:8080/"
        },
        "outputId": "dd7a8393-da10-4ae2-daa4-edb50057fcb0"
      },
      "source": [
        "#Normalize values\n",
        "# train_features = np.stack(df_train['features'])\n",
        "train_features = tfidf_train.toarray()\n",
        "#Fill NaN values\n",
        "# train_features = np.stack(df_train['features'])\n",
        "# train_features = (train_features-train_features.mean())/train_features.std()\n",
        "#Save in tensors\n",
        "x = torch.tensor(train_features, dtype=torch.float)\n",
        "y = torch.tensor(df_train['label'], dtype=torch.float)\n",
        "\n",
        "print(f\"x shape: {x.shape}\")\n",
        "print(f\"y shape: {y.shape}\")"
      ],
      "execution_count": 102,
      "outputs": [
        {
          "output_type": "stream",
          "name": "stdout",
          "text": [
            "x shape: torch.Size([15976, 1900])\n",
            "y shape: torch.Size([15976])\n"
          ]
        }
      ]
    },
    {
      "cell_type": "code",
      "source": [
        "# test_features = np.stack(df_test['features'])\n",
        "test_features = tfidf_test.toarray()\n",
        "# test_features = (test_features-test_features.mean())/test_features.std()\n",
        "# display(test_features.mean())\n",
        "# display(test_features.std())\n",
        "x_test = torch.tensor(test_features, dtype=torch.float)\n",
        "y_test = torch.tensor(Y_test, dtype=torch.float)\n",
        "\n",
        "y_test_3 = np.array(pd.get_dummies(y_test.detach().numpy()))\n",
        "y_test_3 = torch.tensor(y_test_3, dtype=torch.float)"
      ],
      "metadata": {
        "id": "lu7mdSeCU5JP"
      },
      "execution_count": 103,
      "outputs": []
    },
    {
      "cell_type": "markdown",
      "metadata": {
        "id": "TBCJJGXaU5JP"
      },
      "source": [
        "### Create a Neural Network"
      ]
    },
    {
      "cell_type": "code",
      "metadata": {
        "id": "_O4UEvhz2ULE"
      },
      "source": [
        "class Net(nn.Module):\n",
        "    def __init__(self, D_in, H1, H2, H3, D_out):\n",
        "        super(Net, self).__init__()\n",
        "        \n",
        "        self.d1 = nn.Dropout(p=0.7)\n",
        "        self.d2 = nn.Dropout(p=0.5)\n",
        "        self.d3 = nn.Dropout(p=0.3)\n",
        "\n",
        "        self.bn1 = nn.BatchNorm1d(H1)\n",
        "        self.bn2 = nn.BatchNorm1d(H2)\n",
        "        self.bn3 = nn.BatchNorm1d(H3)\n",
        "\n",
        "        self.linear1 = nn.Linear(D_in, H1)\n",
        "        self.linear2 = nn.Linear(H1, H2)\n",
        "        self.linear3 = nn.Linear(H2, H3)\n",
        "        self.linear4 = nn.Linear(H3, D_out)\n",
        "\n",
        "        self.relu=nn.LeakyReLU(inplace=True)\n",
        "        \n",
        "    def forward(self, x):\n",
        "        h1 = self.linear1(x)\n",
        "        h1 = self.bn1(h1)\n",
        "        self.relu(h1)\n",
        "        h1 = self.d1(h1)\n",
        "\n",
        "        h2 = self.linear2(h1)\n",
        "        h2 = self.bn2(h2)\n",
        "        self.relu(h2)\n",
        "        h2 = self.d2(h2)\n",
        "\n",
        "        h3 = self.linear3(h2)\n",
        "        h3 = self.bn3(h3)\n",
        "        self.relu(h3)\n",
        "        h3 = self.d3(h3)\n",
        "\n",
        "        out = self.linear4(h3)\n",
        "        \n",
        "        return out"
      ],
      "execution_count": 104,
      "outputs": []
    },
    {
      "cell_type": "code",
      "metadata": {
        "id": "Ar-7JP6a2ULK",
        "colab": {
          "base_uri": "https://localhost:8080/",
          "height": 256
        },
        "outputId": "def87916-f04d-45ed-bae4-c47cb3778e31"
      },
      "source": [
        "#Define layer sizes\n",
        "D_in = x.shape[1]\n",
        "H1 = 256\n",
        "H2 = 1024\n",
        "H3 = 256\n",
        "D_out = 3\n",
        "\n",
        "#Define Hyperparameters\n",
        "learning_rate = 0.001\n",
        "\n",
        "#Initialize model, loss, optimizer\n",
        "model = Net(D_in, H1, H2, H3, D_out)\n",
        "\n",
        "loss_func = nn.CrossEntropyLoss()\n",
        "optimizer = torch.optim.Adam(model.parameters(), lr=learning_rate)\n",
        "\n",
        "#Initialize dataloader\n",
        "dataset = torch.utils.data.TensorDataset(x, y)\n",
        "dataloader = torch.utils.data.DataLoader(dataset, batch_size=256, shuffle=True) #, shuffle=True\n",
        "\n",
        "display(model)"
      ],
      "execution_count": 105,
      "outputs": [
        {
          "output_type": "display_data",
          "data": {
            "text/plain": [
              "Net(\n",
              "  (d1): Dropout(p=0.7, inplace=False)\n",
              "  (d2): Dropout(p=0.5, inplace=False)\n",
              "  (d3): Dropout(p=0.3, inplace=False)\n",
              "  (bn1): BatchNorm1d(256, eps=1e-05, momentum=0.1, affine=True, track_running_stats=True)\n",
              "  (bn2): BatchNorm1d(1024, eps=1e-05, momentum=0.1, affine=True, track_running_stats=True)\n",
              "  (bn3): BatchNorm1d(256, eps=1e-05, momentum=0.1, affine=True, track_running_stats=True)\n",
              "  (linear1): Linear(in_features=1900, out_features=256, bias=True)\n",
              "  (linear2): Linear(in_features=256, out_features=1024, bias=True)\n",
              "  (linear3): Linear(in_features=1024, out_features=256, bias=True)\n",
              "  (linear4): Linear(in_features=256, out_features=3, bias=True)\n",
              "  (relu): LeakyReLU(negative_slope=0.01, inplace=True)\n",
              ")"
            ]
          },
          "metadata": {}
        }
      ]
    },
    {
      "cell_type": "markdown",
      "metadata": {
        "id": "0XD4qoqXU5JQ"
      },
      "source": [
        "### Train Network"
      ]
    },
    {
      "cell_type": "code",
      "metadata": {
        "id": "BJi86Hd_U5JQ",
        "colab": {
          "base_uri": "https://localhost:8080/"
        },
        "outputId": "73f9c9f2-ead5-4594-cfc2-1cf3d3b68b03"
      },
      "source": [
        "epoch_loss = []\n",
        "validation_loss = []\n",
        "epochs = 3\n",
        "\n",
        "for epoch in range(epochs):\n",
        "  model.train()\n",
        "  batch_losses = []\n",
        "\n",
        "  for x_batch, y_batch in dataloader:\n",
        "    y_pred = model(x_batch)\n",
        "    # print(y_pred)\n",
        "    y_batch = np.array(pd.get_dummies(y_batch.detach().numpy()))\n",
        "    y_batch = torch.tensor(y_batch, dtype=torch.float)\n",
        "    loss = loss_func(y_pred, y_batch)\n",
        "    batch_losses.append(loss.item())\n",
        "    \n",
        "    #Delete previously stored gradients\n",
        "    optimizer.zero_grad()\n",
        "    #Perform backpropagation starting from the loss calculated in this epoch\n",
        "    loss.backward()\n",
        "    #Update model's weights based on the gradients calculated during backprop\n",
        "    optimizer.step()\n",
        "\n",
        "  epoch_loss.append(sum(batch_losses)/len(dataloader))\n",
        "  model.eval()\n",
        "  y_test_pred = model(x_test)\n",
        "  # y_test = y_test.type(torch.LongTensor)\n",
        "  # y_test = torch.tensor(y_test, dtype=torch.float)\n",
        "  val_loss = loss_func(y_test_pred, y_test_3)\n",
        "  # print(y_test_pred)\n",
        "  validation_loss.append(val_loss.item())\n",
        "  print(f\"Epoch {epoch:3}: Loss = {sum(batch_losses)/len(dataloader):.5f}\")\n",
        "    "
      ],
      "execution_count": 106,
      "outputs": [
        {
          "output_type": "stream",
          "name": "stdout",
          "text": [
            "Epoch   0: Loss = 0.86321\n",
            "Epoch   1: Loss = 0.68579\n",
            "Epoch   2: Loss = 0.62192\n"
          ]
        }
      ]
    },
    {
      "cell_type": "markdown",
      "metadata": {
        "id": "NGuvDuHIU5JQ"
      },
      "source": [
        "### Evaluation of the model using recall, precision and f1 metrics"
      ]
    },
    {
      "cell_type": "code",
      "metadata": {
        "id": "pX58hTQxU5JQ",
        "colab": {
          "base_uri": "https://localhost:8080/"
        },
        "outputId": "eeefb105-1251-46ba-fd00-df153d8f5850"
      },
      "source": [
        "model.eval()\n",
        "# accuracy = softReg.score(chosen_test, Y_test)\n",
        "# print(\"Accuracy = \", accuracy * 100, \"%\")\n",
        "\n",
        "y_pred_3 = model(x_test).detach().numpy()\n",
        "y_pred = np.argmax(y_pred_3, axis=1)\n",
        "\n",
        "from sklearn.metrics import precision_recall_fscore_support\n",
        "print(\"all in one metrics: precision, recall, f1:\", precision_recall_fscore_support(Y_test, y_pred))\n",
        "print(\"all in one metrics: precision, recall, f1:\", precision_recall_fscore_support(Y_test, y_pred, average='weighted'))\n",
        "\n",
        "f1 = f1_score(Y_test, y_pred, average=None)\n",
        "print(\"F1 score for each class = \", f1 * 100, \"%\")\n",
        "f1 = f1_score(Y_test, y_pred, average='micro')\n",
        "print(\"F1 score = \", f1 * 100, \"%\")\n",
        "\n",
        "from sklearn.metrics import precision_score\n",
        "print(\"precision: \", precision_score(Y_test, y_pred, average='weighted'))\n",
        "\n",
        "from sklearn.metrics import recall_score\n",
        "print(\"recall: \", recall_score(Y_test, y_pred, average='micro'))"
      ],
      "execution_count": 107,
      "outputs": [
        {
          "output_type": "stream",
          "name": "stdout",
          "text": [
            "all in one metrics: precision, recall, f1: (array([0.80681818, 0.6       , 0.6600541 ]), array([0.73333333, 0.41554054, 0.79478827]), array([0.76832268, 0.49101796, 0.72118227]), array([1065,  296,  921]))\n",
            "all in one metrics: precision, recall, f1: (0.720758629408784, 0.7169149868536372, 0.7133277099645028, None)\n",
            "F1 score for each class =  [76.83226758 49.10179641 72.1182266 ] %\n",
            "F1 score =  71.69149868536373 %\n",
            "precision:  0.720758629408784\n",
            "recall:  0.7169149868536372\n"
          ]
        }
      ]
    },
    {
      "cell_type": "markdown",
      "metadata": {
        "id": "-lezS8DMU5JQ"
      },
      "source": [
        "### Confusion Matrix"
      ]
    },
    {
      "cell_type": "code",
      "metadata": {
        "id": "VIbC4LQtU5JR",
        "colab": {
          "base_uri": "https://localhost:8080/",
          "height": 278
        },
        "outputId": "249518bc-6346-4b93-8f69-36776f1551b2"
      },
      "source": [
        "import matplotlib.pyplot as plt\n",
        "from sklearn.metrics import ConfusionMatrixDisplay\n",
        "\n",
        "ConfusionMatrixDisplay.from_predictions(Y_test, y_pred, cmap=plt.cm.gray)  \n",
        "plt.show()"
      ],
      "execution_count": 108,
      "outputs": [
        {
          "output_type": "display_data",
          "data": {
            "image/png": "[encoded data removed]",
            "text/plain": [
              "<Figure size 432x288 with 2 Axes>"
            ]
          },
          "metadata": {
            "needs_background": "light"
          }
        }
      ]
    },
    {
      "cell_type": "markdown",
      "metadata": {
        "id": "0LUFMln3U5JR"
      },
      "source": [
        "### Learning Curves"
      ]
    },
    {
      "cell_type": "code",
      "metadata": {
        "id": "MF1DF8TsU5JR",
        "colab": {
          "base_uri": "https://localhost:8080/",
          "height": 315
        },
        "outputId": "d3f1d50b-07f3-40cc-bc6d-e88c923fb73a"
      },
      "source": [
        "# plot\n",
        "print(epoch_loss)\n",
        "print(validation_loss)\n",
        "fig, ax = plt.subplots()\n",
        "ax.plot(np.arange(epochs), validation_loss, color=\"pink\", lw=2, label='validation')\n",
        "ax.plot(np.arange(epochs), epoch_loss, color=\"b\", lw=2, label='training')\n",
        "\n",
        "ax.set_xlabel('Epochs')\n",
        "ax.set_ylabel('Cross Entropy Loss')\n",
        "\n",
        "ax.grid()\n",
        "ax.legend(loc=0)\n",
        "plt.show()\n",
        "  "
      ],
      "execution_count": 109,
      "outputs": [
        {
          "output_type": "stream",
          "name": "stdout",
          "text": [
            "[0.8632071860252865, 0.6857917838626437, 0.6219242811203003]\n",
            "[0.8142127394676208, 0.678307831287384, 0.6736295819282532]\n"
          ]
        },
        {
          "output_type": "display_data",
          "data": {
            "image/png": "[encoded data removed]",
            "text/plain": [
              "<Figure size 432x288 with 1 Axes>"
            ]
          },
          "metadata": {
            "needs_background": "light"
          }
        }
      ]
    },
    {
      "cell_type": "markdown",
      "source": [
        "### ROC curve"
      ],
      "metadata": {
        "id": "DAw-afJGU5JR"
      }
    },
    {
      "cell_type": "code",
      "source": [
        "from matplotlib import figure\n",
        "# CODE FROM https://scikit-learn.org/stable/auto_examples/model_selection/plot_roc.html\n",
        "import numpy as np\n",
        "import matplotlib.pyplot as plt\n",
        "from itertools import cycle\n",
        "\n",
        "from sklearn.metrics import roc_curve, auc\n",
        "from sklearn.model_selection import train_test_split\n",
        "from sklearn.preprocessing import label_binarize\n",
        "from sklearn.multiclass import OneVsRestClassifier\n",
        "from scipy import interp\n",
        "from sklearn.metrics import roc_auc_score\n",
        "\n",
        "y_score = y_pred_3\n",
        "y_test = np.array(pd.get_dummies(Y_test))\n",
        "n_classes = 3\n",
        "# print(y_score)\n",
        "# print(y_test)\n",
        "# print(n_classes)\n",
        "# Compute ROC curve and ROC area for each class\n",
        "fpr = dict()\n",
        "tpr = dict()\n",
        "roc_auc = dict()\n",
        "for i in range(n_classes):\n",
        "    fpr[i], tpr[i], _ = roc_curve(y_test[:, i], y_score[:, i])\n",
        "    roc_auc[i] = auc(fpr[i], tpr[i])\n",
        "\n",
        "# Compute micro-average ROC curve and ROC area\n",
        "fpr[\"micro\"], tpr[\"micro\"], _ = roc_curve(y_test.ravel(), y_score.ravel())\n",
        "roc_auc[\"micro\"] = auc(fpr[\"micro\"], tpr[\"micro\"])\n",
        "################################################################################\n",
        "\n",
        "# First aggregate all false positive rates\n",
        "all_fpr = np.unique(np.concatenate([fpr[i] for i in range(n_classes)]))\n",
        "\n",
        "# Then interpolate all ROC curves at this points\n",
        "mean_tpr = np.zeros_like(all_fpr)\n",
        "for i in range(n_classes):\n",
        "    mean_tpr += interp(all_fpr, fpr[i], tpr[i])\n",
        "\n",
        "# Finally average it and compute AUC\n",
        "mean_tpr /= n_classes\n",
        "\n",
        "fpr[\"macro\"] = all_fpr\n",
        "tpr[\"macro\"] = mean_tpr\n",
        "roc_auc[\"macro\"] = auc(fpr[\"macro\"], tpr[\"macro\"])\n",
        "\n",
        "# Plot all ROC curves\n",
        "plt.figure(figsize=(8,8))\n",
        "plt.plot(\n",
        "    fpr[\"micro\"],\n",
        "    tpr[\"micro\"],\n",
        "    label=\"micro-average ROC curve (area = {0:0.2f})\".format(roc_auc[\"micro\"]),\n",
        "    color=\"deeppink\",\n",
        "    linestyle=\":\",\n",
        "    linewidth=4,\n",
        ")\n",
        "\n",
        "plt.plot(\n",
        "    fpr[\"macro\"],\n",
        "    tpr[\"macro\"],\n",
        "    label=\"macro-average ROC curve (area = {0:0.2f})\".format(roc_auc[\"macro\"]),\n",
        "    color=\"navy\",\n",
        "    linestyle=\":\",\n",
        "    linewidth=3,\n",
        ")\n",
        "\n",
        "colors = cycle([\"aqua\", \"darkorange\", \"cornflowerblue\"])\n",
        "for i, color in zip(range(n_classes), colors):\n",
        "    plt.plot(\n",
        "        fpr[i],\n",
        "        tpr[i],\n",
        "        color=color,\n",
        "        lw=3,\n",
        "        label=\"ROC curve of class {0} (area = {1:0.2f})\".format(i, roc_auc[i]),\n",
        "    )\n",
        "\n",
        "plt.plot([0, 1], [0, 1], \"k--\", lw=2)\n",
        "plt.xlim([-0.01, 1.0])\n",
        "plt.ylim([0.0, 1.01])\n",
        "plt.xlabel(\"False Positive Rate\")\n",
        "plt.ylabel(\"True Positive Rate\")\n",
        "plt.title(\"Some extension of Receiver operating characteristic to multiclass\")\n",
        "plt.legend(loc=\"lower right\")\n",
        "plt.show()"
      ],
      "metadata": {
        "id": "pUUiLw81U5JR",
        "colab": {
          "base_uri": "https://localhost:8080/",
          "height": 531
        },
        "outputId": "1eb3d7a6-f01c-4b65-e977-4b1a8d5efd13"
      },
      "execution_count": 110,
      "outputs": [
        {
          "output_type": "stream",
          "name": "stderr",
          "text": [
            "/usr/local/lib/python3.7/dist-packages/ipykernel_launcher.py:39: DeprecationWarning: scipy.interp is deprecated and will be removed in SciPy 2.0.0, use numpy.interp instead\n"
          ]
        },
        {
          "output_type": "display_data",
          "data": {
            "image/png": "[encoded data removed]",
            "text/plain": [
              "<Figure size 576x576 with 1 Axes>"
            ]
          },
          "metadata": {
            "needs_background": "light"
          }
        }
      ]
    }
  ]
}