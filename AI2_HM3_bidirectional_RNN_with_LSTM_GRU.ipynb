{
  "cells": [
    {
      "cell_type": "markdown",
      "metadata": {
        "id": "view-in-github",
        "colab_type": "text"
      },
      "source": [
        "<a href=\"https://colab.research.google.com/github/dora-jpg/Vaccine-Sentiment-Classifier/blob/main/AI2_HM3_bidirectional_RNN_with_LSTM_GRU.ipynb\" target=\"_parent\"><img src=\"https://colab.research.google.com/assets/colab-badge.svg\" alt=\"Open In Colab\"/></a>"
      ]
    },
    {
      "cell_type": "markdown",
      "metadata": {
        "id": "qLAaIaAE9z4D"
      },
      "source": [
        "# Artificial Intelligence II - Homework 3\n",
        "# 💉Vaccine sentiment classifier using bidirectional Recursive Neural Networks with LSTM/GRU."
      ]
    },
    {
      "cell_type": "markdown",
      "metadata": {
        "id": "ykBHfl_LJL-p"
      },
      "source": [
        "In this exercise we are going to develop a vaccine sentiment classifier that classifies tweets in pro-vax, anti-vax and neutral classes using bidirectional Recursive Neural Networks. I experimented with LSTM and GRU.\n",
        "For data preprocessing and feature extracting I experimented with a GloVe pretrained model. I used a simple preprocessing funtion that removes puctuation, html tags and urls. I kept emojis because I noticed that some of them are included in the pretrained glove model. I used the glove.twitter.27B.200d (in Homework 2 I used the glove.twitter.27B.50d). For exercise 2 I added an attention parameter to all implemented models that can be set True to activate it.\n"
      ]
    },
    {
      "cell_type": "markdown",
      "metadata": {
        "id": "NLs58fONFrG3"
      },
      "source": [
        "**Note:** \n",
        "I seeded numpy.random and torch.random in the cells that define each model so that I get the same results in every run and can compare scores.\n"
      ]
    },
    {
      "cell_type": "code",
      "execution_count": 1,
      "metadata": {
        "colab": {
          "base_uri": "https://localhost:8080/"
        },
        "id": "1i0cE5-17AUF",
        "outputId": "ed312425-af14-4573-c121-57556fc53614"
      },
      "outputs": [
        {
          "output_type": "stream",
          "name": "stdout",
          "text": [
            "Mounted at /content/drive\n"
          ]
        }
      ],
      "source": [
        "from google.colab import drive\n",
        "drive.mount('/content/drive')"
      ]
    },
    {
      "cell_type": "markdown",
      "metadata": {
        "id": "7g50JWXbB2ze"
      },
      "source": [
        "# Import Libraries and Read Datasets"
      ]
    },
    {
      "cell_type": "markdown",
      "source": [
        "Import libraries that will be used in this notebook, define a seeding function and set device to cuda if available.\n"
      ],
      "metadata": {
        "id": "rIUe14-z7O9q"
      }
    },
    {
      "cell_type": "code",
      "execution_count": 2,
      "metadata": {
        "colab": {
          "base_uri": "https://localhost:8080/"
        },
        "id": "A7j9F1YTMFuE",
        "outputId": "0dd0edf4-1bff-4ebb-b2c7-0e41f1a875ac"
      },
      "outputs": [
        {
          "output_type": "stream",
          "name": "stdout",
          "text": [
            "[nltk_data] Downloading package stopwords to /root/nltk_data...\n",
            "[nltk_data]   Unzipping corpora/stopwords.zip.\n",
            "[nltk_data] Downloading package punkt to /root/nltk_data...\n",
            "[nltk_data]   Unzipping tokenizers/punkt.zip.\n",
            "Requirement already satisfied: torchtext in /usr/local/lib/python3.7/dist-packages (0.11.0)\n",
            "Requirement already satisfied: requests in /usr/local/lib/python3.7/dist-packages (from torchtext) (2.23.0)\n",
            "Requirement already satisfied: numpy in /usr/local/lib/python3.7/dist-packages (from torchtext) (1.19.5)\n",
            "Requirement already satisfied: torch==1.10.0 in /usr/local/lib/python3.7/dist-packages (from torchtext) (1.10.0+cu111)\n",
            "Requirement already satisfied: tqdm in /usr/local/lib/python3.7/dist-packages (from torchtext) (4.62.3)\n",
            "Requirement already satisfied: typing-extensions in /usr/local/lib/python3.7/dist-packages (from torch==1.10.0->torchtext) (3.10.0.2)\n",
            "Requirement already satisfied: certifi>=2017.4.17 in /usr/local/lib/python3.7/dist-packages (from requests->torchtext) (2021.10.8)\n",
            "Requirement already satisfied: idna<3,>=2.5 in /usr/local/lib/python3.7/dist-packages (from requests->torchtext) (2.10)\n",
            "Requirement already satisfied: urllib3!=1.25.0,!=1.25.1,<1.26,>=1.21.1 in /usr/local/lib/python3.7/dist-packages (from requests->torchtext) (1.24.3)\n",
            "Requirement already satisfied: chardet<4,>=3.0.2 in /usr/local/lib/python3.7/dist-packages (from requests->torchtext) (3.0.4)\n",
            "Working on: cuda\n"
          ]
        }
      ],
      "source": [
        "# Imports\n",
        "import torch\n",
        "import torch.nn as nn\n",
        "import torch.nn.functional as F\n",
        "import torch.optim as optim\n",
        "import os\n",
        "\n",
        "import numpy as np\n",
        "import pandas as pd\n",
        "import math\n",
        "\n",
        "# Evaluation metrics\n",
        "from sklearn.metrics import f1_score\n",
        "from sklearn.metrics import accuracy_score\n",
        "from sklearn.metrics import precision_recall_fscore_support\n",
        "from sklearn.metrics import precision_score\n",
        "from sklearn.metrics import recall_score\n",
        "\n",
        "import matplotlib.pyplot as plt\n",
        "%matplotlib inline\n",
        "import sklearn.metrics\n",
        "import seaborn as sns\n",
        "import random\n",
        "import sys\n",
        "from IPython.display import Image\n",
        "\n",
        "# for text preprocessing\n",
        "import re\n",
        "import string\n",
        "from nltk.corpus import stopwords\n",
        "import nltk\n",
        "nltk.download(\"stopwords\")\n",
        "nltk.download('punkt')\n",
        "from nltk import word_tokenize\n",
        "\n",
        "# Batches\n",
        "!pip install torchtext\n",
        "from torchtext import vocab\n",
        "from torchtext.legacy.data import Field,Dataset,LabelField,BucketIterator\n",
        "from torchtext.legacy.data import Dataset, Example\n",
        "\n",
        "# Learning curves\n",
        "from itertools import cycle\n",
        "from sklearn.metrics import roc_curve, auc\n",
        "from sklearn.preprocessing import label_binarize\n",
        "from sklearn.multiclass import OneVsRestClassifier\n",
        "from scipy import interp\n",
        "from sklearn.metrics import roc_auc_score\n",
        "\n",
        "# Confusion Matrix\n",
        "from sklearn.metrics import ConfusionMatrixDisplay\n",
        "\n",
        "\n",
        "def set_seed(seed = 1234):\n",
        "    '''Sets the seed of the entire notebook so results are the same every time we run.\n",
        "    This is for REPRODUCIBILITY.'''\n",
        "    !CUBLAS_WORKSPACE_CONFIG=:4096:2 # for cuda deterministic behavior\n",
        "    np.random.seed(seed)\n",
        "    random.seed(seed)\n",
        "    torch.manual_seed(seed)\n",
        "    torch.cuda.manual_seed(seed)\n",
        "    # When running on the CuDNN backend, two further options must be set\n",
        "    torch.backends.cudnn.deterministic = True\n",
        "    torch.cuda.manual_seed_all(seed)\n",
        "    torch.backends.cudnn.enabled = False\n",
        "    torch.backends.cudnn.benchmark = False\n",
        "    # torch.use_deterministic_algorithms(False)\n",
        "    # Set a fixed value for the hash seed\n",
        "    os.environ['PYTHONHASHSEED'] = str(seed)\n",
        "    \n",
        "set_seed()\n",
        "\n",
        "# Set device\n",
        "device = torch.device(\"cuda\" if torch.cuda.is_available() else \"cpu\")\n",
        "\n",
        "print('Working on:', device)"
      ]
    },
    {
      "cell_type": "markdown",
      "metadata": {
        "id": "T3T_ITrECxKu"
      },
      "source": [
        "Read train and validation datasets."
      ]
    },
    {
      "cell_type": "code",
      "execution_count": 3,
      "metadata": {
        "id": "DCe_10itB0Pu"
      },
      "outputs": [],
      "source": [
        "df_train = pd.read_csv(\"/content/drive/MyDrive/Colab Notebooks/Artificial Intelligence II/vaccine_train_set.csv\")\n",
        "df_test = pd.read_csv(\"/content/drive/MyDrive/Colab Notebooks/Artificial Intelligence II/vaccine_validation_set.csv\")"
      ]
    },
    {
      "cell_type": "markdown",
      "metadata": {
        "id": "lA3NQAAuKwjf"
      },
      "source": [
        " We don't need the first column of the datasets because it is an index."
      ]
    },
    {
      "cell_type": "code",
      "execution_count": 4,
      "metadata": {
        "id": "qA3P1gymKEwR"
      },
      "outputs": [],
      "source": [
        "# get rid of first column\n",
        "df_train = df_train.iloc[: , 1:]\n",
        "df_test = df_test.iloc[: , 1:]"
      ]
    },
    {
      "cell_type": "code",
      "execution_count": 5,
      "metadata": {
        "colab": {
          "base_uri": "https://localhost:8080/",
          "height": 206
        },
        "id": "awuvFK_yCuAO",
        "outputId": "d03d4dc0-8491-463c-89a4-93ff265f174a"
      },
      "outputs": [
        {
          "output_type": "display_data",
          "data": {
            "text/html": [
              "\n",
              "  <div id=\"df-4fff429f-d123-4ced-a546-cc96813c49d3\">\n",
              "    <div class=\"colab-df-container\">\n",
              "      <div>\n",
              "<style scoped>\n",
              "    .dataframe tbody tr th:only-of-type {\n",
              "        vertical-align: middle;\n",
              "    }\n",
              "\n",
              "    .dataframe tbody tr th {\n",
              "        vertical-align: top;\n",
              "    }\n",
              "\n",
              "    .dataframe thead th {\n",
              "        text-align: right;\n",
              "    }\n",
              "</style>\n",
              "<table border=\"1\" class=\"dataframe\">\n",
              "  <thead>\n",
              "    <tr style=\"text-align: right;\">\n",
              "      <th></th>\n",
              "      <th>tweet</th>\n",
              "      <th>label</th>\n",
              "    </tr>\n",
              "  </thead>\n",
              "  <tbody>\n",
              "    <tr>\n",
              "      <th>0</th>\n",
              "      <td>Sip N Shop Come thru right now #Marjais #Popul...</td>\n",
              "      <td>0</td>\n",
              "    </tr>\n",
              "    <tr>\n",
              "      <th>1</th>\n",
              "      <td>I don't know about you but My family and I wil...</td>\n",
              "      <td>1</td>\n",
              "    </tr>\n",
              "    <tr>\n",
              "      <th>2</th>\n",
              "      <td>@MSignorile Immunizations should be mandatory....</td>\n",
              "      <td>2</td>\n",
              "    </tr>\n",
              "    <tr>\n",
              "      <th>3</th>\n",
              "      <td>President Obama spoke in favor of vaccination ...</td>\n",
              "      <td>0</td>\n",
              "    </tr>\n",
              "    <tr>\n",
              "      <th>4</th>\n",
              "      <td>\"@myfoxla: Arizona monitoring hundreds for mea...</td>\n",
              "      <td>0</td>\n",
              "    </tr>\n",
              "  </tbody>\n",
              "</table>\n",
              "</div>\n",
              "      <button class=\"colab-df-convert\" onclick=\"convertToInteractive('df-4fff429f-d123-4ced-a546-cc96813c49d3')\"\n",
              "              title=\"Convert this dataframe to an interactive table.\"\n",
              "              style=\"display:none;\">\n",
              "        \n",
              "  <svg xmlns=\"http://www.w3.org/2000/svg\" height=\"24px\"viewBox=\"0 0 24 24\"\n",
              "       width=\"24px\">\n",
              "    <path d=\"M0 0h24v24H0V0z\" fill=\"none\"/>\n",
              "    <path d=\"M18.56 5.44l.94 2.06.94-2.06 2.06-.94-2.06-.94-.94-2.06-.94 2.06-2.06.94zm-11 1L8.5 8.5l.94-2.06 2.06-.94-2.06-.94L8.5 2.5l-.94 2.06-2.06.94zm10 10l.94 2.06.94-2.06 2.06-.94-2.06-.94-.94-2.06-.94 2.06-2.06.94z\"/><path d=\"M17.41 7.96l-1.37-1.37c-.4-.4-.92-.59-1.43-.59-.52 0-1.04.2-1.43.59L10.3 9.45l-7.72 7.72c-.78.78-.78 2.05 0 2.83L4 21.41c.39.39.9.59 1.41.59.51 0 1.02-.2 1.41-.59l7.78-7.78 2.81-2.81c.8-.78.8-2.07 0-2.86zM5.41 20L4 18.59l7.72-7.72 1.47 1.35L5.41 20z\"/>\n",
              "  </svg>\n",
              "      </button>\n",
              "      \n",
              "  <style>\n",
              "    .colab-df-container {\n",
              "      display:flex;\n",
              "      flex-wrap:wrap;\n",
              "      gap: 12px;\n",
              "    }\n",
              "\n",
              "    .colab-df-convert {\n",
              "      background-color: #E8F0FE;\n",
              "      border: none;\n",
              "      border-radius: 50%;\n",
              "      cursor: pointer;\n",
              "      display: none;\n",
              "      fill: #1967D2;\n",
              "      height: 32px;\n",
              "      padding: 0 0 0 0;\n",
              "      width: 32px;\n",
              "    }\n",
              "\n",
              "    .colab-df-convert:hover {\n",
              "      background-color: #E2EBFA;\n",
              "      box-shadow: 0px 1px 2px rgba(60, 64, 67, 0.3), 0px 1px 3px 1px rgba(60, 64, 67, 0.15);\n",
              "      fill: #174EA6;\n",
              "    }\n",
              "\n",
              "    [theme=dark] .colab-df-convert {\n",
              "      background-color: #3B4455;\n",
              "      fill: #D2E3FC;\n",
              "    }\n",
              "\n",
              "    [theme=dark] .colab-df-convert:hover {\n",
              "      background-color: #434B5C;\n",
              "      box-shadow: 0px 1px 3px 1px rgba(0, 0, 0, 0.15);\n",
              "      filter: drop-shadow(0px 1px 2px rgba(0, 0, 0, 0.3));\n",
              "      fill: #FFFFFF;\n",
              "    }\n",
              "  </style>\n",
              "\n",
              "      <script>\n",
              "        const buttonEl =\n",
              "          document.querySelector('#df-4fff429f-d123-4ced-a546-cc96813c49d3 button.colab-df-convert');\n",
              "        buttonEl.style.display =\n",
              "          google.colab.kernel.accessAllowed ? 'block' : 'none';\n",
              "\n",
              "        async function convertToInteractive(key) {\n",
              "          const element = document.querySelector('#df-4fff429f-d123-4ced-a546-cc96813c49d3');\n",
              "          const dataTable =\n",
              "            await google.colab.kernel.invokeFunction('convertToInteractive',\n",
              "                                                     [key], {});\n",
              "          if (!dataTable) return;\n",
              "\n",
              "          const docLinkHtml = 'Like what you see? Visit the ' +\n",
              "            '<a target=\"_blank\" href=https://colab.research.google.com/notebooks/data_table.ipynb>data table notebook</a>'\n",
              "            + ' to learn more about interactive tables.';\n",
              "          element.innerHTML = '';\n",
              "          dataTable['output_type'] = 'display_data';\n",
              "          await google.colab.output.renderOutput(dataTable, element);\n",
              "          const docLink = document.createElement('div');\n",
              "          docLink.innerHTML = docLinkHtml;\n",
              "          element.appendChild(docLink);\n",
              "        }\n",
              "      </script>\n",
              "    </div>\n",
              "  </div>\n",
              "  "
            ],
            "text/plain": [
              "                                               tweet  label\n",
              "0  Sip N Shop Come thru right now #Marjais #Popul...      0\n",
              "1  I don't know about you but My family and I wil...      1\n",
              "2  @MSignorile Immunizations should be mandatory....      2\n",
              "3  President Obama spoke in favor of vaccination ...      0\n",
              "4  \"@myfoxla: Arizona monitoring hundreds for mea...      0"
            ]
          },
          "metadata": {}
        }
      ],
      "source": [
        "display(df_train.head())"
      ]
    },
    {
      "cell_type": "code",
      "execution_count": 6,
      "metadata": {
        "colab": {
          "base_uri": "https://localhost:8080/",
          "height": 206
        },
        "id": "1SCqSG05CMpd",
        "outputId": "3232d4ff-a175-4ced-bbfc-fa9cf8080e25"
      },
      "outputs": [
        {
          "output_type": "display_data",
          "data": {
            "text/html": [
              "\n",
              "  <div id=\"df-448b8cfb-5eb1-4b09-b423-0de2b8b02247\">\n",
              "    <div class=\"colab-df-container\">\n",
              "      <div>\n",
              "<style scoped>\n",
              "    .dataframe tbody tr th:only-of-type {\n",
              "        vertical-align: middle;\n",
              "    }\n",
              "\n",
              "    .dataframe tbody tr th {\n",
              "        vertical-align: top;\n",
              "    }\n",
              "\n",
              "    .dataframe thead th {\n",
              "        text-align: right;\n",
              "    }\n",
              "</style>\n",
              "<table border=\"1\" class=\"dataframe\">\n",
              "  <thead>\n",
              "    <tr style=\"text-align: right;\">\n",
              "      <th></th>\n",
              "      <th>tweet</th>\n",
              "      <th>label</th>\n",
              "    </tr>\n",
              "  </thead>\n",
              "  <tbody>\n",
              "    <tr>\n",
              "      <th>0</th>\n",
              "      <td>@user They had a massive surge in with covid d...</td>\n",
              "      <td>1</td>\n",
              "    </tr>\n",
              "    <tr>\n",
              "      <th>1</th>\n",
              "      <td>Required vaccines for school: Parents and guar...</td>\n",
              "      <td>0</td>\n",
              "    </tr>\n",
              "    <tr>\n",
              "      <th>2</th>\n",
              "      <td>“@KCStar: Two more Johnson County children hav...</td>\n",
              "      <td>0</td>\n",
              "    </tr>\n",
              "    <tr>\n",
              "      <th>3</th>\n",
              "      <td>NV can do better. Which states are the best (a...</td>\n",
              "      <td>2</td>\n",
              "    </tr>\n",
              "    <tr>\n",
              "      <th>4</th>\n",
              "      <td>Nothing like killing ourselves w/ our own fear...</td>\n",
              "      <td>2</td>\n",
              "    </tr>\n",
              "  </tbody>\n",
              "</table>\n",
              "</div>\n",
              "      <button class=\"colab-df-convert\" onclick=\"convertToInteractive('df-448b8cfb-5eb1-4b09-b423-0de2b8b02247')\"\n",
              "              title=\"Convert this dataframe to an interactive table.\"\n",
              "              style=\"display:none;\">\n",
              "        \n",
              "  <svg xmlns=\"http://www.w3.org/2000/svg\" height=\"24px\"viewBox=\"0 0 24 24\"\n",
              "       width=\"24px\">\n",
              "    <path d=\"M0 0h24v24H0V0z\" fill=\"none\"/>\n",
              "    <path d=\"M18.56 5.44l.94 2.06.94-2.06 2.06-.94-2.06-.94-.94-2.06-.94 2.06-2.06.94zm-11 1L8.5 8.5l.94-2.06 2.06-.94-2.06-.94L8.5 2.5l-.94 2.06-2.06.94zm10 10l.94 2.06.94-2.06 2.06-.94-2.06-.94-.94-2.06-.94 2.06-2.06.94z\"/><path d=\"M17.41 7.96l-1.37-1.37c-.4-.4-.92-.59-1.43-.59-.52 0-1.04.2-1.43.59L10.3 9.45l-7.72 7.72c-.78.78-.78 2.05 0 2.83L4 21.41c.39.39.9.59 1.41.59.51 0 1.02-.2 1.41-.59l7.78-7.78 2.81-2.81c.8-.78.8-2.07 0-2.86zM5.41 20L4 18.59l7.72-7.72 1.47 1.35L5.41 20z\"/>\n",
              "  </svg>\n",
              "      </button>\n",
              "      \n",
              "  <style>\n",
              "    .colab-df-container {\n",
              "      display:flex;\n",
              "      flex-wrap:wrap;\n",
              "      gap: 12px;\n",
              "    }\n",
              "\n",
              "    .colab-df-convert {\n",
              "      background-color: #E8F0FE;\n",
              "      border: none;\n",
              "      border-radius: 50%;\n",
              "      cursor: pointer;\n",
              "      display: none;\n",
              "      fill: #1967D2;\n",
              "      height: 32px;\n",
              "      padding: 0 0 0 0;\n",
              "      width: 32px;\n",
              "    }\n",
              "\n",
              "    .colab-df-convert:hover {\n",
              "      background-color: #E2EBFA;\n",
              "      box-shadow: 0px 1px 2px rgba(60, 64, 67, 0.3), 0px 1px 3px 1px rgba(60, 64, 67, 0.15);\n",
              "      fill: #174EA6;\n",
              "    }\n",
              "\n",
              "    [theme=dark] .colab-df-convert {\n",
              "      background-color: #3B4455;\n",
              "      fill: #D2E3FC;\n",
              "    }\n",
              "\n",
              "    [theme=dark] .colab-df-convert:hover {\n",
              "      background-color: #434B5C;\n",
              "      box-shadow: 0px 1px 3px 1px rgba(0, 0, 0, 0.15);\n",
              "      filter: drop-shadow(0px 1px 2px rgba(0, 0, 0, 0.3));\n",
              "      fill: #FFFFFF;\n",
              "    }\n",
              "  </style>\n",
              "\n",
              "      <script>\n",
              "        const buttonEl =\n",
              "          document.querySelector('#df-448b8cfb-5eb1-4b09-b423-0de2b8b02247 button.colab-df-convert');\n",
              "        buttonEl.style.display =\n",
              "          google.colab.kernel.accessAllowed ? 'block' : 'none';\n",
              "\n",
              "        async function convertToInteractive(key) {\n",
              "          const element = document.querySelector('#df-448b8cfb-5eb1-4b09-b423-0de2b8b02247');\n",
              "          const dataTable =\n",
              "            await google.colab.kernel.invokeFunction('convertToInteractive',\n",
              "                                                     [key], {});\n",
              "          if (!dataTable) return;\n",
              "\n",
              "          const docLinkHtml = 'Like what you see? Visit the ' +\n",
              "            '<a target=\"_blank\" href=https://colab.research.google.com/notebooks/data_table.ipynb>data table notebook</a>'\n",
              "            + ' to learn more about interactive tables.';\n",
              "          element.innerHTML = '';\n",
              "          dataTable['output_type'] = 'display_data';\n",
              "          await google.colab.output.renderOutput(dataTable, element);\n",
              "          const docLink = document.createElement('div');\n",
              "          docLink.innerHTML = docLinkHtml;\n",
              "          element.appendChild(docLink);\n",
              "        }\n",
              "      </script>\n",
              "    </div>\n",
              "  </div>\n",
              "  "
            ],
            "text/plain": [
              "                                               tweet  label\n",
              "0  @user They had a massive surge in with covid d...      1\n",
              "1  Required vaccines for school: Parents and guar...      0\n",
              "2  “@KCStar: Two more Johnson County children hav...      0\n",
              "3  NV can do better. Which states are the best (a...      2\n",
              "4  Nothing like killing ourselves w/ our own fear...      2"
            ]
          },
          "metadata": {}
        }
      ],
      "source": [
        "display(df_test.head())"
      ]
    },
    {
      "cell_type": "markdown",
      "metadata": {
        "id": "22fsx7JjEMfF"
      },
      "source": [
        "# Data Pre-processing"
      ]
    },
    {
      "cell_type": "markdown",
      "metadata": {
        "id": "2qCtGlrAOjpT"
      },
      "source": [
        "## Data Cleaning\n"
      ]
    },
    {
      "cell_type": "markdown",
      "source": [
        "Cleaning involves convertion to lowercase, removal of urls, html tags, punctuation and stopwords. As a explained in the introduction, I decided to keep the emojis as they can show sentiment. "
      ],
      "metadata": {
        "id": "dt1FRrIF7voS"
      }
    },
    {
      "cell_type": "code",
      "execution_count": 7,
      "metadata": {
        "id": "bW2gJG0SlR81"
      },
      "outputs": [],
      "source": [
        "stop_words = stopwords.words(\"english\")\n",
        "\n",
        "def tweets_cleaning(x, remove_emojis=False, remove_stop_words=True):\n",
        "    \"\"\"Apply function to a clean a tweet\"\"\"\n",
        "    x = x.lower().strip()\n",
        "    # romove urls\n",
        "    url = re.compile(r'https?://\\S+|www\\.\\S+')\n",
        "    x = url.sub(r'',x)\n",
        "    # remove html tags\n",
        "    html = re.compile(r'<.*?>')\n",
        "    x = html.sub(r'',x)\n",
        "    # remove punctuation\n",
        "    operator = str.maketrans(' ',' ',string.punctuation)\n",
        "    x = x.translate(operator)\n",
        "    if remove_emojis:\n",
        "        x = x.encode('ascii', 'ignore').decode('utf8').strip()\n",
        "    if remove_stop_words:\n",
        "        x = ' '.join([word for word in x.split(' ') if word not in stop_words])\n",
        "    return x"
      ]
    },
    {
      "cell_type": "code",
      "execution_count": 8,
      "metadata": {
        "id": "7r9stfORI5rQ"
      },
      "outputs": [],
      "source": [
        "## APPLY the cleaning function to the text column\n",
        "df_train['clean_tweet'] = df_train['tweet'].apply(tweets_cleaning)\n",
        "df_test['clean_tweet'] = df_test['tweet'].apply(tweets_cleaning)"
      ]
    },
    {
      "cell_type": "code",
      "execution_count": 9,
      "metadata": {
        "id": "PRjL4WS3E4Jc"
      },
      "outputs": [],
      "source": [
        "Y_train = df_train['label'] #Only keep value\n",
        "Y_test = df_test['label'] #Only keep value"
      ]
    },
    {
      "cell_type": "code",
      "execution_count": 10,
      "metadata": {
        "colab": {
          "base_uri": "https://localhost:8080/"
        },
        "id": "hb_35RgUQJFf",
        "outputId": "c23f4e77-0540-41cf-80e0-4a62d9de582f"
      },
      "outputs": [
        {
          "output_type": "execute_result",
          "data": {
            "text/plain": [
              "0        sip n shop come thru right marjais popularnobo...\n",
              "1        dont know family take covid19 vaccine anytime ...\n",
              "2        msignorile immunizations mandatory period okla...\n",
              "3        president obama spoke favor vaccination childr...\n",
              "4        myfoxla arizona monitoring hundreds measles li...\n",
              "                               ...                        \n",
              "15971    salon u believe antivax nutcases caused measle...\n",
              "15972    feel parents dont vaccinate kids\\r\\n\\r\\nmeasle...\n",
              "15973          70 preschoolers tested measles simi valley \n",
              "15974    finance minister budget offers room procure co...\n",
              "15975    date vaccines take cdc’s vaccine quiz find vac...\n",
              "Name: clean_tweet, Length: 15976, dtype: object"
            ]
          },
          "metadata": {},
          "execution_count": 10
        }
      ],
      "source": [
        "df_train['clean_tweet']"
      ]
    },
    {
      "cell_type": "code",
      "execution_count": 11,
      "metadata": {
        "colab": {
          "base_uri": "https://localhost:8080/"
        },
        "id": "MgKREelmQM3f",
        "outputId": "459a1d2c-7b66-43ff-e86b-84c4e817e60b"
      },
      "outputs": [
        {
          "output_type": "execute_result",
          "data": {
            "text/plain": [
              "0        sip n shop come thru right marjais popularnobo...\n",
              "1        dont know family take covid19 vaccine anytime ...\n",
              "2        msignorile immunizations mandatory period okla...\n",
              "3        president obama spoke favor vaccination childr...\n",
              "4        myfoxla arizona monitoring hundreds measles li...\n",
              "                               ...                        \n",
              "15971    salon u believe antivax nutcases caused measle...\n",
              "15972    feel parents dont vaccinate kids\\r\\n\\r\\nmeasle...\n",
              "15973          70 preschoolers tested measles simi valley \n",
              "15974    finance minister budget offers room procure co...\n",
              "15975    date vaccines take cdc’s vaccine quiz find vac...\n",
              "Name: clean_tweet, Length: 15976, dtype: object"
            ]
          },
          "metadata": {},
          "execution_count": 11
        }
      ],
      "source": [
        "df_train['clean_tweet']"
      ]
    },
    {
      "cell_type": "markdown",
      "metadata": {
        "id": "mMXtkwBrJtSi"
      },
      "source": [
        "Overview of label distribution"
      ]
    },
    {
      "cell_type": "code",
      "execution_count": 12,
      "metadata": {
        "colab": {
          "base_uri": "https://localhost:8080/"
        },
        "id": "dxpyM6vOHrRv",
        "outputId": "a50df739-76eb-4d90-e235-0199045ac92c"
      },
      "outputs": [
        {
          "output_type": "stream",
          "name": "stdout",
          "text": [
            "train data\n",
            "label 0: 7458\n",
            "label 1: 2073\n",
            "label 2: 6445\n",
            "validation data\n",
            "label 0: 1065\n",
            "label 1: 296\n",
            "label 2: 921\n"
          ]
        }
      ],
      "source": [
        "print(\"train data\")\n",
        "print(\"label 0:\",Y_train[Y_train== 0].count())\n",
        "print(\"label 1:\",Y_train[Y_train== 1].count())\n",
        "print(\"label 2:\",Y_train[Y_train== 2].count())\n",
        "print(\"validation data\")\n",
        "print(\"label 0:\",Y_test[Y_test== 0].count())\n",
        "print(\"label 1:\",Y_test[Y_test== 1].count())\n",
        "print(\"label 2:\",Y_test[Y_test== 2].count())"
      ]
    },
    {
      "cell_type": "code",
      "execution_count": 13,
      "metadata": {
        "colab": {
          "base_uri": "https://localhost:8080/",
          "height": 335
        },
        "id": "RKmLcKZYL34v",
        "outputId": "0e585586-73b0-4e32-8ee2-b9d6d26fac2b"
      },
      "outputs": [
        {
          "output_type": "display_data",
          "data": {
            "image/png": "[encoded data removed]",
            "text/plain": [
              "<Figure size 432x288 with 1 Axes>"
            ]
          },
          "metadata": {
            "needs_background": "light"
          }
        }
      ],
      "source": [
        "fig = plt.figure()\n",
        "ax = fig.add_axes([0,0,1,1])\n",
        "labels = ['0', '1', '2']\n",
        "train = [Y_train[Y_train== 0].count(),Y_train[Y_train== 1].count(),Y_train[Y_train== 2].count()]\n",
        "test= [Y_test[Y_test== 0].count(),Y_test[Y_test== 1].count(),Y_test[Y_test== 2].count()]\n",
        "ax.bar(labels, train)\n",
        "ax.bar(labels, test)\n",
        "plt.show()"
      ]
    },
    {
      "cell_type": "markdown",
      "metadata": {
        "id": "_4Z0u5rJ0ToQ"
      },
      "source": [
        "Label 1 has very few instances so we expect that it has a lower score than the other 2 labels. "
      ]
    },
    {
      "cell_type": "markdown",
      "metadata": {
        "id": "b5Bc0vQAEvnD"
      },
      "source": [
        "# Features Extraction\n"
      ]
    },
    {
      "cell_type": "markdown",
      "metadata": {
        "id": "RKJyG0WzOUyb"
      },
      "source": [
        "## GloVe representation"
      ]
    },
    {
      "cell_type": "markdown",
      "source": [
        "### First Approach: Create fixed size vectors for glove"
      ],
      "metadata": {
        "id": "Lmju4O8y8yp4"
      }
    },
    {
      "cell_type": "markdown",
      "metadata": {
        "id": "0QS4tdTpGpkF"
      },
      "source": [
        "Load pre-trained GloVe vectors into a dictionary."
      ]
    },
    {
      "cell_type": "code",
      "execution_count": 14,
      "metadata": {
        "id": "Wc0NC0cvGov-"
      },
      "outputs": [],
      "source": [
        "embeddings_dict = {}\n",
        "with open(\"/content/drive/MyDrive/Colab Notebooks/Artificial Intelligence II/glove.twitter.27B.200d.txt.gz (Unzipped Files)/glove.twitter.27B.200d.txt\", 'r', encoding=\"utf-8\") as f:\n",
        "  for line in f:\n",
        "    values = line.split()\n",
        "    word = values[0]\n",
        "    vector = np.asarray(values[1:],'float32')\n",
        "    embeddings_dict[word]=vector"
      ]
    },
    {
      "cell_type": "markdown",
      "metadata": {
        "id": "s4lM2nRpj6ns"
      },
      "source": [
        "Find the vector for each word in each tweet. If the tweet has more words than the number specified by `padding` then cut the tweet there. If it has less words than `padding` number then add vectors with zeros. "
      ]
    },
    {
      "cell_type": "code",
      "execution_count": 15,
      "metadata": {
        "colab": {
          "base_uri": "https://localhost:8080/"
        },
        "id": "iWzahQgiaoQB",
        "outputId": "5a4d2a81-b3ef-4d76-e68e-2ba72af74822"
      },
      "outputs": [
        {
          "output_type": "execute_result",
          "data": {
            "text/plain": [
              "0        [[-0.16063, -0.28647, -0.60789, 0.42767, -0.11...\n",
              "1        [[-0.33784, 0.54451, -0.1921, 0.43394, -0.4804...\n",
              "2        [[-0.33915, -0.28546, -0.26841, 0.014209, 0.23...\n",
              "3        [[0.34601, 0.30425, -0.098192, 0.08868, -0.359...\n",
              "4        [[0.2101, -0.21056, -0.36659, -0.37312, 0.0773...\n",
              "                               ...                        \n",
              "15971    [[0.15358, -0.30126, -0.3615, 0.24909, 0.72131...\n",
              "15972    [[0.061424, 0.42365, -0.13984, 0.26585, -0.215...\n",
              "15973    [[0.058755, 0.018929, 0.24508, 0.021967, -0.23...\n",
              "15974    [[0.14571, -0.31397, -0.39098, -0.16087, -0.02...\n",
              "15975    [[-0.48751, 0.11036, 0.16039, -0.15214, -0.217...\n",
              "Name: features, Length: 15976, dtype: object"
            ]
          },
          "metadata": {},
          "execution_count": 15
        }
      ],
      "source": [
        "def find_glove(text, padding=31):\n",
        "  tokens = word_tokenize(text.lower())\n",
        "  res = [ embeddings_dict[token] for token in tokens if (token in embeddings_dict) ]\n",
        "  res = res[:padding]\n",
        "  if len(res)<padding:\n",
        "    for i in range(padding-len(res)):\n",
        "      res.append(np.zeros(200))\n",
        "  return res\n",
        "\n",
        "df_train['features'] = df_train['clean_tweet'].apply(find_glove)\n",
        "df_test['features'] = df_test['clean_tweet'].apply(find_glove)\n",
        "df_train['features']"
      ]
    },
    {
      "cell_type": "markdown",
      "metadata": {
        "id": "sY44VnKTKVgc"
      },
      "source": [
        "# Bidirectional RNN"
      ]
    },
    {
      "cell_type": "markdown",
      "metadata": {
        "id": "R8cckzgBBcMR"
      },
      "source": [
        "## Fixed length of the sequences"
      ]
    },
    {
      "cell_type": "markdown",
      "source": [
        "A model that takes fixed size vectors as input."
      ],
      "metadata": {
        "id": "QPH5tRiCFO-a"
      }
    },
    {
      "cell_type": "code",
      "execution_count": 16,
      "metadata": {
        "id": "Ukzh_Wpm0Zrz"
      },
      "outputs": [],
      "source": [
        "class BRNN(nn.Module):\n",
        "    def __init__(self, input_size, hidden_size, num_layers, num_classes, cell, dropout=0.3, attention=True):\n",
        "        super(BRNN, self).__init__()\n",
        "        self.hidden_size = hidden_size\n",
        "        self.num_layers = num_layers\n",
        "        self.cell = cell\n",
        "        self.bidirectional = True\n",
        "        self.attention = attention\n",
        "        self.scale = 1. / math.sqrt(hidden_size)\n",
        "        if (cell == 'LSTM'):\n",
        "          self.rnn = nn.LSTM(\n",
        "              input_size, hidden_size, num_layers, batch_first=True, bidirectional=True, dropout=dropout\n",
        "          )\n",
        "        else:\n",
        "          self.rnn = nn.GRU(\n",
        "              input_size, hidden_size, num_layers, batch_first=True, bidirectional=True, dropout=dropout\n",
        "          )\n",
        "        self.fc = nn.Linear(hidden_size * 2, num_classes)\n",
        "\n",
        "    def forward(self, x):\n",
        "\n",
        "        if (self.cell == 'LSTM'):\n",
        "          out, hidden = self.rnn(x)\n",
        "          hidden = hidden[1]\n",
        "        else:\n",
        "          out, hidden = self.rnn(x)\n",
        "\n",
        "        if (self.attention==True):\n",
        "            # print(\"hi\")\n",
        "            if (self.bidirectional==True):\n",
        "                hidden = torch.cat([hidden[-1], hidden[-2]], dim=1) # concatinate the last 2 hidden cells (backward & forward)\n",
        "            else:\n",
        "                hidden = hidden[-1]\n",
        "\n",
        "            query = hidden.unsqueeze(1) # [BxQ] -> [Bx1xQ]\n",
        "            values = out\n",
        "            # print(\"query\", query.shape)\n",
        "            # print(\"keys\", keys.shape)\n",
        "            # keys = out.transpose(1,2) # [BxTxK] -> [BxKxT]\n",
        "            # print(\"keys\", keys.shape)\n",
        "            attention_scores = torch.bmm(query, out.transpose(1,2)) # [Bx1xQ]x[BxKxT] -> [Bx1xT]\n",
        "            attention_distribution = F.softmax(attention_scores.mul_(self.scale), dim=2) # scale, normalize\n",
        "\n",
        "            # out = out # [TxBxV] -> [BxTxV]\n",
        "            # print(\"values\", values.shape)\n",
        "            out = torch.bmm(attention_distribution, out).squeeze(1) #[Bx1xT]x[BxTxV] -> [BxV]\n",
        "\n",
        "            out = self.fc(out)\n",
        "        else:\n",
        "            out = self.fc(out[:, -1, :])\n",
        "        \n",
        "        return out"
      ]
    },
    {
      "cell_type": "markdown",
      "source": [
        "For skip connections, I had to re-define the model to keep the output of each layer of the stacked rnn."
      ],
      "metadata": {
        "id": "XSBFv7TmikYN"
      }
    },
    {
      "cell_type": "code",
      "source": [
        "class skipBRNN(nn.Module):\n",
        "    def __init__(self, input_size, hidden_size, num_layers, num_classes, cell, dropout=0.3, attention=True):\n",
        "        super(skipBRNN, self).__init__()\n",
        "        self.hidden_size = hidden_size\n",
        "        self.num_layers = num_layers\n",
        "        self.cell = cell\n",
        "        self.dropout = nn.Dropout(p=dropout)\n",
        "        self.attention = attention\n",
        "        self.bidirectional = True\n",
        "        self.scale = 1. / math.sqrt(hidden_size)\n",
        "        \n",
        "        if (cell == 'LSTM'):\n",
        "            rnn = nn.LSTM\n",
        "        else:\n",
        "            rnn = nn.GRU\n",
        "\n",
        "        self.rnns = nn.ModuleList()\n",
        "        for i in range(num_layers):\n",
        "            input_size = input_size if i == 0 else hidden_size*2\n",
        "            self.rnns.append(rnn(input_size, hidden_size, 1, batch_first=True, bidirectional=True))\n",
        "        \n",
        "        self.fc = nn.Linear(hidden_size * 2, num_classes)\n",
        "\n",
        "    def forward(self, x):\n",
        "\n",
        "        sent_variable = x\n",
        "\n",
        "        for i in range(self.num_layers):\n",
        "            if i != 0:\n",
        "                sent_variable = self.dropout(sent_variable.detach())\n",
        "\n",
        "            out, hidden = self.rnns[i](sent_variable.detach())\n",
        "            hidden = hidden[1]\n",
        "\n",
        "            if i == 0:\n",
        "                sent_variable = out.detach()\n",
        "\n",
        "            sent_variable = torch.cat((sent_variable,out.detach()),dim=1)\n",
        "\n",
        "        if (self.attention==True):\n",
        "            # print(\"hi\")\n",
        "            if (self.bidirectional==True):\n",
        "                hidden = torch.cat([hidden[-1], hidden[-2]], dim=1) # concatinate the last 2 hidden cells (backward & forward)\n",
        "            else:\n",
        "                hidden = hidden[-1]\n",
        "\n",
        "            query = hidden.unsqueeze(1) # [BxQ] -> [Bx1xQ]\n",
        "            values = out\n",
        "\n",
        "            attention_scores = torch.bmm(query, out.transpose(1,2)) # [Bx1xQ]x[BxKxT] -> [Bx1xT]\n",
        "            attention_distribution = F.softmax(attention_scores.mul_(self.scale), dim=2) # scale, normalize\n",
        "\n",
        "            out = torch.bmm(attention_distribution, out).squeeze(1) #[Bx1xT]x[BxTxV] -> [BxV]\n",
        "\n",
        "            out = self.fc(out)\n",
        "        else:\n",
        "            out = self.fc(out[:, -1, :])\n",
        "\n",
        "        return out"
      ],
      "metadata": {
        "id": "qG8rdr9SG9Zg"
      },
      "execution_count": 17,
      "outputs": []
    },
    {
      "cell_type": "markdown",
      "source": [
        "Create tensors and a train dataset to pass to dataloader.\n"
      ],
      "metadata": {
        "id": "E5b6HsR3Efqb"
      }
    },
    {
      "cell_type": "code",
      "source": [
        "x = torch.tensor(np.stack(df_train['features'], axis=0), dtype=torch.float)\n",
        "y = torch.tensor(np.stack(df_train['label'], axis=0), dtype=torch.long)\n",
        "\n",
        "print(f\"x shape: {x.shape}\")\n",
        "print(f\"y shape: {y.shape}\")\n",
        "\n",
        "dataset = torch.utils.data.TensorDataset(x, y)\n",
        "\n",
        "x_test = torch.tensor(np.stack(df_test['features'], axis=0), dtype=torch.float)\n",
        "y_test = torch.tensor(np.stack(df_test['label'], axis=0), dtype=torch.long)\n",
        "\n",
        "print(f\"x_test shape: {x_test.shape}\")\n",
        "print(f\"y_test shape: {y_test.shape}\")\n"
      ],
      "metadata": {
        "colab": {
          "base_uri": "https://localhost:8080/"
        },
        "id": "A1WcQYtxMAgT",
        "outputId": "fa0c3c42-5616-4d17-d21e-de0d5d65b550"
      },
      "execution_count": 67,
      "outputs": [
        {
          "output_type": "stream",
          "name": "stdout",
          "text": [
            "x shape: torch.Size([15976, 31, 200])\n",
            "y shape: torch.Size([15976])\n",
            "x_test shape: torch.Size([2282, 31, 200])\n",
            "y_test shape: torch.Size([2282])\n"
          ]
        }
      ]
    },
    {
      "cell_type": "markdown",
      "source": [
        "### Train and evaluation function"
      ],
      "metadata": {
        "id": "TCzldPsPEmMj"
      }
    },
    {
      "cell_type": "code",
      "execution_count": 148,
      "metadata": {
        "id": "ZN3Vfva8Ou7o"
      },
      "outputs": [],
      "source": [
        "def train(model, learning_rate, dataset, batch_size, epochs, x_test, y_test, device):\n",
        "    x_test = x_test.to(device=device).squeeze(1)\n",
        "    y_test = y_test.to(device=device)\n",
        "\n",
        "    # Loss and optimizer\n",
        "    criterion = nn.CrossEntropyLoss()\n",
        "    optimizer = optim.Adam(model.parameters(), lr=learning_rate)\n",
        "\n",
        "    epoch_loss = []\n",
        "    validation_loss = []\n",
        "    f1 = []\n",
        "\n",
        "    # Train Network\n",
        "    train_loader = torch.utils.data.DataLoader(dataset=dataset, batch_size=batch_size, shuffle=True, num_workers=0)\n",
        "    for epoch in range(epochs):\n",
        "        model.train()\n",
        "        batch_losses = []\n",
        "        for batch_idx, (data, targets) in enumerate(train_loader):\n",
        "            # Get data to cuda if possible\n",
        "            data = data.to(device=device).squeeze(1)\n",
        "            targets = targets.to(device=device)\n",
        "\n",
        "            # forward\n",
        "            scores = model(data)\n",
        "            loss = criterion(scores, targets)\n",
        "\n",
        "            batch_losses.append(loss.item())\n",
        "\n",
        "            # backward\n",
        "            optimizer.zero_grad()\n",
        "            loss.backward()\n",
        "\n",
        "            # Clip params\n",
        "            for param in model.parameters():\n",
        "                if param.grad is None:\n",
        "                    continue\n",
        "                grad_val = torch.clamp(param.grad, -5, 5)\n",
        "\n",
        "            # gradient descent or adam step\n",
        "            optimizer.step()\n",
        "            \n",
        "        epoch_loss.append(sum(batch_losses)/len(train_loader))\n",
        "        model.eval()\n",
        "        with torch.no_grad():\n",
        "            y_test_pred = model(x_test)\n",
        "\n",
        "        val_loss = criterion(y_test_pred, y_test)\n",
        "\n",
        "        validation_loss.append(val_loss.item())\n",
        "        f1score = f1_score(y_test.cpu(), y_test_pred.max(1)[1].cpu(), average='micro')\n",
        "        f1.append(f1score)\n",
        "        print(f\"Epoch {epoch:3}: Training Loss = {sum(batch_losses)/len(train_loader):.5f}  Validation Loss = {validation_loss[epoch]:.5f} f1= {f1score:.5f}\")\n",
        "\n",
        "    model.eval()\n",
        "\n",
        "    with torch.no_grad():\n",
        "        scores = model(x_test)\n",
        "        _, y_pred = scores.max(1)\n",
        "\n",
        "    if device==torch.device(\"cuda\"):\n",
        "        y_pred = y_pred.cpu()\n",
        "    \n",
        "    print(\"\")\n",
        "    precision, recall, f1, support = precision_recall_fscore_support(Y_test, y_pred)\n",
        "    print(f\"         precision\\t  recall\\t   f1\\t    \\tsupport\")\n",
        "    print(f\"---------------------------------------------------------------\")\n",
        "    print(f\"label 0 | {precision[0]*100:0.4f}\\t {recall[0]*100:0.4f}\\t {f1[0]*100:0.4f}\\t {support[0]}\")\n",
        "    print(f\"label 1 | {precision[1]*100:.4f}\\t {recall[1]*100:.4f}\\t {f1[1]*100:2.4f}\\t {support[1]}\")\n",
        "    print(f\"label 2 | {precision[2]*100:0.4f}\\t {recall[2]*100:0.4f}\\t {f1[2]*100:0.4f}\\t {support[2]}\")\n",
        "\n",
        "    average = precision_recall_fscore_support(Y_test, y_pred, average='micro')\n",
        "    print(f\"micro   | {average[0]*100:0.4f}\\t {average[1]*100:0.4f}\\t {average[2]*100:0.4f}\\t -\")\n",
        "\n",
        "    return epoch_loss, validation_loss, y_pred, scores, f1"
      ]
    },
    {
      "cell_type": "markdown",
      "source": [
        "### Experimentation\n",
        "\n"
      ],
      "metadata": {
        "id": "_dXVej-uEq6L"
      }
    },
    {
      "cell_type": "code",
      "source": [
        "set_seed() # for model and dataloader\n",
        "\n",
        "# Hyperparameters\n",
        "input_size = 200\n",
        "num_layers = 2\n",
        "hidden_size = 32\n",
        "num_classes = 3\n",
        "batch_size = 128\n",
        "cell = 'LSTM'\n",
        "dropout = 0.3\n",
        "\n",
        "epochs = 3\n",
        "learning_rate = 0.01\n",
        "\n",
        "# Initialize network\n",
        "model = BRNN(input_size, hidden_size, num_layers, num_classes, cell, dropout=dropout, attention=True).to(device)\n",
        "epoch_loss, validation_loss, y_pred, scores, f1 = train(model, learning_rate, dataset, batch_size, epochs, x_test, y_test, device)"
      ],
      "metadata": {
        "colab": {
          "base_uri": "https://localhost:8080/"
        },
        "id": "sI4xnAymwg58",
        "outputId": "4e9d39ea-b12d-49c7-b8b9-d6048a0fd20b"
      },
      "execution_count": 91,
      "outputs": [
        {
          "output_type": "stream",
          "name": "stdout",
          "text": [
            "Epoch   0: Training Loss = 0.76256  Validation Loss = 0.68623 f1= 0.70377\n",
            "Epoch   1: Training Loss = 0.64724  Validation Loss = 0.66522 f1= 0.70684\n",
            "Epoch   2: Training Loss = 0.57245  Validation Loss = 0.67380 f1= 0.71472\n",
            "\n",
            "         precision\t  recall\t   f1\t    \tsupport\n",
            "---------------------------------------------------------------\n",
            "label 0 | 82.1772\t 72.3005\t 76.9231\t 1065\n",
            "label 1 | 54.1502\t 46.2838\t 49.9089\t 296\n",
            "label 2 | 66.3004\t 78.6102\t 71.9324\t 921\n",
            "micro   | 71.4724\t 71.4724\t 71.4724\t -\n"
          ]
        }
      ]
    },
    {
      "cell_type": "markdown",
      "source": [
        "Adding 1 layer. We observe better result."
      ],
      "metadata": {
        "id": "mVonPy5p5izj"
      }
    },
    {
      "cell_type": "code",
      "source": [
        "set_seed() # for model and dataloader\n",
        "\n",
        "# Hyperparameters\n",
        "input_size = 200\n",
        "num_layers = 3\n",
        "hidden_size = 32\n",
        "num_classes = 3\n",
        "batch_size = 128\n",
        "cell = 'LSTM'\n",
        "dropout = 0.3\n",
        "\n",
        "epochs = 3\n",
        "learning_rate = 0.01\n",
        "\n",
        "# Initialize network\n",
        "model = BRNN(input_size, hidden_size, num_layers, num_classes, cell, dropout=dropout, attention=True).to(device)\n",
        "epoch_loss, validation_loss, y_pred, scores, f1 = train(model, learning_rate, dataset, batch_size, epochs, x_test, y_test, device)"
      ],
      "metadata": {
        "colab": {
          "base_uri": "https://localhost:8080/"
        },
        "id": "dIWDTijQ5d51",
        "outputId": "6cca66ab-6159-4644-ff13-0cfc2f9ca8c6"
      },
      "execution_count": 92,
      "outputs": [
        {
          "output_type": "stream",
          "name": "stdout",
          "text": [
            "Epoch   0: Training Loss = 0.79116  Validation Loss = 0.71961 f1= 0.68230\n",
            "Epoch   1: Training Loss = 0.66653  Validation Loss = 0.68966 f1= 0.70421\n",
            "Epoch   2: Training Loss = 0.60277  Validation Loss = 0.66701 f1= 0.71911\n",
            "\n",
            "         precision\t  recall\t   f1\t    \tsupport\n",
            "---------------------------------------------------------------\n",
            "label 0 | 78.1735\t 80.3756\t 79.2593\t 1065\n",
            "label 1 | 52.8384\t 40.8784\t 46.0952\t 296\n",
            "label 2 | 69.3111\t 72.0955\t 70.6759\t 921\n",
            "micro   | 71.9106\t 71.9106\t 71.9106\t -\n"
          ]
        }
      ]
    },
    {
      "cell_type": "markdown",
      "source": [
        "Add a layer and 2 epochs. We see that the 2 more epochs overfit because the validation loss and f1 score get worse."
      ],
      "metadata": {
        "id": "u8jM7whU5-tZ"
      }
    },
    {
      "cell_type": "code",
      "source": [
        "set_seed() # for model and dataloader\n",
        "\n",
        "# Hyperparameters\n",
        "input_size = 200\n",
        "num_layers = 3\n",
        "hidden_size = 32\n",
        "num_classes = 3\n",
        "batch_size = 128\n",
        "cell = 'LSTM'\n",
        "dropout = 0.3\n",
        "\n",
        "epochs = 5\n",
        "learning_rate = 0.01\n",
        "\n",
        "# Initialize network\n",
        "model = BRNN(input_size, hidden_size, num_layers, num_classes, cell, dropout=dropout, attention=True).to(device)\n",
        "epoch_loss, validation_loss, y_pred, scores, f1 = train(model, learning_rate, dataset, batch_size, epochs, x_test, y_test, device)"
      ],
      "metadata": {
        "colab": {
          "base_uri": "https://localhost:8080/"
        },
        "id": "zU4NXXn85y38",
        "outputId": "87ce742d-fe10-4de2-b83f-6076795bde62"
      },
      "execution_count": 93,
      "outputs": [
        {
          "output_type": "stream",
          "name": "stdout",
          "text": [
            "Epoch   0: Training Loss = 0.79116  Validation Loss = 0.71961 f1= 0.68230\n",
            "Epoch   1: Training Loss = 0.66653  Validation Loss = 0.68966 f1= 0.70421\n",
            "Epoch   2: Training Loss = 0.60277  Validation Loss = 0.66701 f1= 0.71911\n",
            "Epoch   3: Training Loss = 0.53511  Validation Loss = 0.72830 f1= 0.70508\n",
            "Epoch   4: Training Loss = 0.48418  Validation Loss = 0.69365 f1= 0.70771\n",
            "\n",
            "         precision\t  recall\t   f1\t    \tsupport\n",
            "---------------------------------------------------------------\n",
            "label 0 | 81.1975\t 72.5822\t 76.6485\t 1065\n",
            "label 1 | 64.3357\t 31.0811\t 41.9134\t 296\n",
            "label 2 | 63.1845\t 81.4332\t 71.1575\t 921\n",
            "micro   | 70.7713\t 70.7713\t 70.7713\t -\n"
          ]
        }
      ]
    },
    {
      "cell_type": "code",
      "source": [
        "set_seed() # for model and dataloader\n",
        "\n",
        "# Hyperparameters\n",
        "input_size = 200\n",
        "num_layers = 3\n",
        "hidden_size = 64\n",
        "num_classes = 3\n",
        "batch_size = 64\n",
        "cell = 'LSTM'\n",
        "dropout = 0.3\n",
        "\n",
        "epochs = 7\n",
        "learning_rate = 0.01\n",
        "\n",
        "# Initialize network\n",
        "model = BRNN(input_size, hidden_size, num_layers, num_classes, cell, dropout=dropout, attention=True).to(device)\n",
        "epoch_loss, validation_loss, y_pred, scores, f1 = train(model, learning_rate, dataset, batch_size, epochs, x_test, y_test, device)"
      ],
      "metadata": {
        "colab": {
          "base_uri": "https://localhost:8080/"
        },
        "id": "9uXduJJg95wF",
        "outputId": "02444a74-7c68-4c02-f25f-8bd71d8cbf07"
      },
      "execution_count": 99,
      "outputs": [
        {
          "output_type": "stream",
          "name": "stdout",
          "text": [
            "Epoch   0: Training Loss = 0.78193  Validation Loss = 0.69781 f1= 0.69588\n",
            "Epoch   1: Training Loss = 0.67241  Validation Loss = 0.66963 f1= 0.71604\n",
            "Epoch   2: Training Loss = 0.60178  Validation Loss = 0.68732 f1= 0.71341\n",
            "Epoch   3: Training Loss = 0.53395  Validation Loss = 0.71796 f1= 0.70727\n",
            "Epoch   4: Training Loss = 0.47705  Validation Loss = 0.75833 f1= 0.70508\n",
            "Epoch   5: Training Loss = 0.42783  Validation Loss = 0.76688 f1= 0.70158\n",
            "Epoch   6: Training Loss = 0.37917  Validation Loss = 0.79579 f1= 0.70070\n",
            "\n",
            "         precision\t  recall\t   f1\t    \tsupport\n",
            "---------------------------------------------------------------\n",
            "label 0 | 78.0488\t 75.1174\t 76.5550\t 1065\n",
            "label 1 | 47.6048\t 53.7162\t 50.4762\t 296\n",
            "label 2 | 69.3391\t 69.4897\t 69.4143\t 921\n",
            "micro   | 70.0701\t 70.0701\t 70.0701\t -\n"
          ]
        }
      ]
    },
    {
      "cell_type": "markdown",
      "source": [
        "\"Best\" parameters but with skip connections. I will make the network larger as skip connections are better for large networks and to train a larger network we need more epochs."
      ],
      "metadata": {
        "id": "BHqFhbcrAc75"
      }
    },
    {
      "cell_type": "code",
      "source": [
        "set_seed() # for model and dataloader\n",
        "\n",
        "# Hyperparameters\n",
        "input_size = 200\n",
        "num_layers = 5\n",
        "hidden_size = 64\n",
        "num_classes = 3\n",
        "batch_size = 128\n",
        "cell = 'LSTM'\n",
        "dropout = 0.3\n",
        "\n",
        "epochs = 7\n",
        "learning_rate = 0.01\n",
        "\n",
        "# Initialize network\n",
        "model = skipBRNN(input_size, hidden_size, num_layers, num_classes, cell, dropout=dropout, attention=True).to(device)\n",
        "epoch_loss, validation_loss, y_pred, scores, f1 = train(model, learning_rate, dataset, batch_size, epochs, x_test, y_test, device)"
      ],
      "metadata": {
        "colab": {
          "base_uri": "https://localhost:8080/"
        },
        "id": "GFj-IDBiAcRh",
        "outputId": "5f649342-7452-4df4-f1cb-b20e3eb6f885"
      },
      "execution_count": 103,
      "outputs": [
        {
          "output_type": "stream",
          "name": "stdout",
          "text": [
            "Epoch   0: Training Loss = 0.91019  Validation Loss = 0.82296 f1= 0.63059\n",
            "Epoch   1: Training Loss = 0.82625  Validation Loss = 0.77451 f1= 0.64549\n",
            "Epoch   2: Training Loss = 0.80460  Validation Loss = 0.75565 f1= 0.66170\n",
            "Epoch   3: Training Loss = 0.77872  Validation Loss = 0.74421 f1= 0.66214\n",
            "Epoch   4: Training Loss = 0.77041  Validation Loss = 0.72384 f1= 0.67485\n",
            "Epoch   5: Training Loss = 0.75888  Validation Loss = 0.73678 f1= 0.65294\n",
            "Epoch   6: Training Loss = 0.75080  Validation Loss = 0.72357 f1= 0.68011\n",
            "\n",
            "         precision\t  recall\t   f1\t    \tsupport\n",
            "---------------------------------------------------------------\n",
            "label 0 | 77.7669\t 74.5540\t 76.1266\t 1065\n",
            "label 1 | 47.6744\t 27.7027\t 35.0427\t 296\n",
            "label 2 | 62.0753\t 73.3985\t 67.2637\t 921\n",
            "micro   | 68.0105\t 68.0105\t 68.0105\t -\n"
          ]
        }
      ]
    },
    {
      "cell_type": "markdown",
      "source": [
        "\"Best\" parameters but without attention.\n",
        "\n",
        "We observe that it doesn't learn label 1 at all. The improvement in the version with attention is significant."
      ],
      "metadata": {
        "id": "w2rHsah5ApzJ"
      }
    },
    {
      "cell_type": "code",
      "source": [
        "set_seed() # for model and dataloader\n",
        "\n",
        "# Hyperparameters\n",
        "input_size = 200\n",
        "num_layers = 3\n",
        "hidden_size = 32\n",
        "num_classes = 3\n",
        "batch_size = 128\n",
        "cell = 'LSTM'\n",
        "dropout = 0.3\n",
        "\n",
        "epochs = 3\n",
        "learning_rate = 0.01\n",
        "\n",
        "# Initialize network\n",
        "model = BRNN(input_size, hidden_size, num_layers, num_classes, cell, dropout=dropout, attention=False).to(device)\n",
        "epoch_loss, validation_loss, y_pred, scores, f1 = train(model, learning_rate, dataset, batch_size, epochs, x_test, y_test, device)"
      ],
      "metadata": {
        "colab": {
          "base_uri": "https://localhost:8080/"
        },
        "id": "VVAlbRbbApzJ",
        "outputId": "d9e43cc4-285a-4818-f3e3-ca277eb03b7c"
      },
      "execution_count": 106,
      "outputs": [
        {
          "output_type": "stream",
          "name": "stdout",
          "text": [
            "Epoch   0: Training Loss = 0.88929  Validation Loss = 0.78293 f1= 0.65513\n",
            "Epoch   1: Training Loss = 0.77012  Validation Loss = 0.76495 f1= 0.66696\n",
            "Epoch   2: Training Loss = 0.73001  Validation Loss = 0.74068 f1= 0.68273\n",
            "\n",
            "         precision\t  recall\t   f1\t    \tsupport\n",
            "---------------------------------------------------------------\n",
            "label 0 | 81.4050\t 73.9906\t 77.5209\t 1065\n",
            "label 1 | 0.0000\t 0.0000\t 0.0000\t 296\n",
            "label 2 | 58.5997\t 83.6048\t 68.9038\t 921\n",
            "micro   | 68.2734\t 68.2734\t 68.2734\t -\n"
          ]
        },
        {
          "output_type": "stream",
          "name": "stderr",
          "text": [
            "/usr/local/lib/python3.7/dist-packages/sklearn/metrics/_classification.py:1318: UndefinedMetricWarning: Precision and F-score are ill-defined and being set to 0.0 in labels with no predicted samples. Use `zero_division` parameter to control this behavior.\n",
            "  _warn_prf(average, modifier, msg_start, len(result))\n"
          ]
        }
      ]
    },
    {
      "cell_type": "markdown",
      "source": [
        "Let's try 2 layers and a larger hidden_size."
      ],
      "metadata": {
        "id": "XjjH3Il5EGSh"
      }
    },
    {
      "cell_type": "code",
      "source": [
        "set_seed() # for model and dataloader\n",
        "\n",
        "# Hyperparameters\n",
        "input_size = 200\n",
        "num_layers = 2\n",
        "hidden_size = 128\n",
        "num_classes = 3\n",
        "batch_size = 128\n",
        "cell = 'LSTM'\n",
        "dropout = 0.3\n",
        "\n",
        "epochs = 5\n",
        "learning_rate = 0.01\n",
        "\n",
        "# Initialize network\n",
        "model = BRNN(input_size, hidden_size, num_layers, num_classes, cell, dropout=dropout, attention=False).to(device)\n",
        "epoch_loss, validation_loss, y_pred, scores, f1 = train(model, learning_rate, dataset, batch_size, epochs, x_test, y_test, device)"
      ],
      "metadata": {
        "colab": {
          "base_uri": "https://localhost:8080/"
        },
        "id": "KftCyNqjESBT",
        "outputId": "019977c5-bf22-4505-ee6b-1fe1c2961213"
      },
      "execution_count": 113,
      "outputs": [
        {
          "output_type": "stream",
          "name": "stdout",
          "text": [
            "Epoch   0: Training Loss = 0.98590  Validation Loss = 0.94963 f1= 0.54207\n",
            "Epoch   1: Training Loss = 0.82077  Validation Loss = 0.74600 f1= 0.66608\n",
            "Epoch   2: Training Loss = 0.71422  Validation Loss = 0.70798 f1= 0.68405\n",
            "Epoch   3: Training Loss = 0.65371  Validation Loss = 0.72892 f1= 0.68011\n",
            "Epoch   4: Training Loss = 0.60167  Validation Loss = 0.69840 f1= 0.70026\n",
            "\n",
            "         precision\t  recall\t   f1\t    \tsupport\n",
            "---------------------------------------------------------------\n",
            "label 0 | 76.6423\t 78.8732\t 77.7418\t 1065\n",
            "label 1 | 50.6608\t 38.8514\t 43.9771\t 296\n",
            "label 2 | 67.0490\t 69.8154\t 68.4043\t 921\n",
            "micro   | 70.0263\t 70.0263\t 70.0263\t -\n"
          ]
        }
      ]
    },
    {
      "cell_type": "markdown",
      "source": [
        "Let's try 2 layers and a larger hidden_size."
      ],
      "metadata": {
        "id": "9J74oFbbGFw6"
      }
    },
    {
      "cell_type": "code",
      "source": [
        "set_seed() # for model and dataloader\n",
        "\n",
        "# Hyperparameters\n",
        "input_size = 200\n",
        "num_layers = 2\n",
        "hidden_size = 256\n",
        "num_classes = 3\n",
        "batch_size = 256\n",
        "cell = 'LSTM'\n",
        "dropout = 0.2\n",
        "\n",
        "epochs = 8\n",
        "learning_rate = 0.01\n",
        "\n",
        "# Initialize network\n",
        "model = BRNN(input_size, hidden_size, num_layers, num_classes, cell, dropout=dropout, attention=False).to(device)\n",
        "epoch_loss, validation_loss, y_pred, scores, f1 = train(model, learning_rate, dataset, batch_size, epochs, x_test, y_test, device)"
      ],
      "metadata": {
        "colab": {
          "base_uri": "https://localhost:8080/"
        },
        "outputId": "c62d5e37-52cd-4c0b-d7ab-196523e9a1c4",
        "id": "upzr9r_1GFw6"
      },
      "execution_count": 116,
      "outputs": [
        {
          "output_type": "stream",
          "name": "stdout",
          "text": [
            "Epoch   0: Training Loss = 0.96748  Validation Loss = 0.80191 f1= 0.65118\n",
            "Epoch   1: Training Loss = 0.77014  Validation Loss = 0.75083 f1= 0.67134\n",
            "Epoch   2: Training Loss = 0.72127  Validation Loss = 0.71768 f1= 0.67572\n",
            "Epoch   3: Training Loss = 0.64952  Validation Loss = 0.70514 f1= 0.68843\n",
            "Epoch   4: Training Loss = 0.57107  Validation Loss = 0.71652 f1= 0.69457\n",
            "Epoch   5: Training Loss = 0.49438  Validation Loss = 0.76070 f1= 0.69369\n",
            "Epoch   6: Training Loss = 0.41721  Validation Loss = 0.81722 f1= 0.68317\n",
            "Epoch   7: Training Loss = 0.34523  Validation Loss = 0.84297 f1= 0.69632\n",
            "\n",
            "         precision\t  recall\t   f1\t    \tsupport\n",
            "---------------------------------------------------------------\n",
            "label 0 | 74.5027\t 77.3709\t 75.9097\t 1065\n",
            "label 1 | 57.6923\t 40.5405\t 47.6190\t 296\n",
            "label 2 | 66.6322\t 70.0326\t 68.2901\t 921\n",
            "micro   | 69.6319\t 69.6319\t 69.6319\t -\n"
          ]
        }
      ]
    },
    {
      "cell_type": "code",
      "source": [
        "set_seed() # for model and dataloader\n",
        "\n",
        "# Hyperparameters\n",
        "input_size = 200\n",
        "num_layers = 3\n",
        "hidden_size = 32\n",
        "num_classes = 3\n",
        "batch_size = 128\n",
        "cell = 'LSTM'\n",
        "dropout = 0.3\n",
        "\n",
        "epochs = 3\n",
        "learning_rate = 0.01\n",
        "\n",
        "# Initialize network\n",
        "model = BRNN(input_size, hidden_size, num_layers, num_classes, cell, dropout=dropout, attention=False).to(device)\n",
        "epoch_loss, validation_loss, y_pred, scores, f1 = train(model, learning_rate, dataset, batch_size, epochs, x_test, y_test, device)"
      ],
      "metadata": {
        "id": "BMXJdj8eEEfb"
      },
      "execution_count": null,
      "outputs": []
    },
    {
      "cell_type": "markdown",
      "source": [
        "\"Best\" parameters but with skip connections and without attention."
      ],
      "metadata": {
        "id": "au50t4WDAyfJ"
      }
    },
    {
      "cell_type": "code",
      "source": [
        "set_seed() # for model and dataloader\n",
        "\n",
        "# Hyperparameters\n",
        "input_size = 200\n",
        "num_layers = 3\n",
        "hidden_size = 32\n",
        "num_classes = 3\n",
        "batch_size = 128\n",
        "cell = 'LSTM'\n",
        "dropout = 0.3\n",
        "\n",
        "epochs = 3\n",
        "learning_rate = 0.01\n",
        "\n",
        "# Initialize network\n",
        "model = skipBRNN(input_size, hidden_size, num_layers, num_classes, cell, dropout=dropout, attention=False).to(device)\n",
        "epoch_loss, validation_loss, y_pred, scores, f1 = train(model, learning_rate, dataset, batch_size, epochs, x_test, y_test, device)"
      ],
      "metadata": {
        "id": "_j9fvq7IAyfJ"
      },
      "execution_count": null,
      "outputs": []
    },
    {
      "cell_type": "markdown",
      "source": [
        "Trying GRU."
      ],
      "metadata": {
        "id": "_CjX5_FUC7jI"
      }
    },
    {
      "cell_type": "code",
      "source": [
        "set_seed() # for model and dataloader\n",
        "\n",
        "# Hyperparameters\n",
        "input_size = 200\n",
        "num_layers = 3\n",
        "hidden_size = 32\n",
        "num_classes = 3\n",
        "batch_size = 128\n",
        "cell = 'GRU'\n",
        "dropout = 0.3\n",
        "\n",
        "epochs = 3\n",
        "learning_rate = 0.01\n",
        "\n",
        "# Initialize network\n",
        "model = BRNN(input_size, hidden_size, num_layers, num_classes, cell, dropout=dropout, attention=True).to(device)\n",
        "epoch_loss, validation_loss, y_pred, scores, f1 = train(model, learning_rate, dataset, batch_size, epochs, x_test, y_test, device)"
      ],
      "metadata": {
        "colab": {
          "base_uri": "https://localhost:8080/",
          "height": 393
        },
        "id": "x-xHJaTZC6wd",
        "outputId": "f91e8c38-eb81-4c40-92d0-3f1a23a34fff"
      },
      "execution_count": 117,
      "outputs": [
        {
          "output_type": "stream",
          "name": "stdout",
          "text": [
            "Epoch   0: Training Loss = 0.76926  Validation Loss = 0.75763 f1= 0.64987\n",
            "Epoch   1: Training Loss = 0.66705  Validation Loss = 0.67199 f1= 0.70727\n",
            "Epoch   2: Training Loss = 0.59856  Validation Loss = 0.70829 f1= 0.70289\n",
            "\n",
            "         precision\t  recall\t   f1\t    \tsupport\n",
            "---------------------------------------------------------------\n",
            "label 0 | 73.0579\t 83.0047\t 77.7143\t 1065\n",
            "label 1 | 57.7778\t 35.1351\t 43.6975\t 296\n",
            "label 2 | 69.0583\t 66.8838\t 67.9537\t 921\n",
            "micro   | 70.2892\t 70.2892\t 70.2892\t -\n"
          ]
        },
        {
          "output_type": "error",
          "ename": "TypeError",
          "evalue": "ignored",
          "traceback": [
            "\u001b[0;31m---------------------------------------------------------------------------\u001b[0m",
            "\u001b[0;31mTypeError\u001b[0m                                 Traceback (most recent call last)",
            "\u001b[0;32m<ipython-input-117-4c19d34e3306>\u001b[0m in \u001b[0;36m<module>\u001b[0;34m()\u001b[0m\n\u001b[1;32m     16\u001b[0m \u001b[0mmodel\u001b[0m \u001b[0;34m=\u001b[0m \u001b[0mBRNN\u001b[0m\u001b[0;34m(\u001b[0m\u001b[0minput_size\u001b[0m\u001b[0;34m,\u001b[0m \u001b[0mhidden_size\u001b[0m\u001b[0;34m,\u001b[0m \u001b[0mnum_layers\u001b[0m\u001b[0;34m,\u001b[0m \u001b[0mnum_classes\u001b[0m\u001b[0;34m,\u001b[0m \u001b[0mcell\u001b[0m\u001b[0;34m,\u001b[0m \u001b[0mdropout\u001b[0m\u001b[0;34m=\u001b[0m\u001b[0mdropout\u001b[0m\u001b[0;34m,\u001b[0m \u001b[0mattention\u001b[0m\u001b[0;34m=\u001b[0m\u001b[0;32mTrue\u001b[0m\u001b[0;34m)\u001b[0m\u001b[0;34m.\u001b[0m\u001b[0mto\u001b[0m\u001b[0;34m(\u001b[0m\u001b[0mdevice\u001b[0m\u001b[0;34m)\u001b[0m\u001b[0;34m\u001b[0m\u001b[0;34m\u001b[0m\u001b[0m\n\u001b[1;32m     17\u001b[0m \u001b[0mepoch_loss\u001b[0m\u001b[0;34m,\u001b[0m \u001b[0mvalidation_loss\u001b[0m\u001b[0;34m,\u001b[0m \u001b[0my_pred\u001b[0m\u001b[0;34m,\u001b[0m \u001b[0mscores\u001b[0m\u001b[0;34m,\u001b[0m \u001b[0mf1\u001b[0m \u001b[0;34m=\u001b[0m \u001b[0mtrain\u001b[0m\u001b[0;34m(\u001b[0m\u001b[0mmodel\u001b[0m\u001b[0;34m,\u001b[0m \u001b[0mlearning_rate\u001b[0m\u001b[0;34m,\u001b[0m \u001b[0mdataset\u001b[0m\u001b[0;34m,\u001b[0m \u001b[0mbatch_size\u001b[0m\u001b[0;34m,\u001b[0m \u001b[0mepochs\u001b[0m\u001b[0;34m,\u001b[0m \u001b[0mx_test\u001b[0m\u001b[0;34m,\u001b[0m \u001b[0my_test\u001b[0m\u001b[0;34m,\u001b[0m \u001b[0mdevice\u001b[0m\u001b[0;34m)\u001b[0m\u001b[0;34m\u001b[0m\u001b[0;34m\u001b[0m\u001b[0m\n\u001b[0;32m---> 18\u001b[0;31m \u001b[0mi\u001b[0m\u001b[0;34m,\u001b[0m \u001b[0mvalue\u001b[0m \u001b[0;34m=\u001b[0m \u001b[0mnp\u001b[0m\u001b[0;34m.\u001b[0m\u001b[0marray\u001b[0m\u001b[0;34m(\u001b[0m\u001b[0mvalidation_loss\u001b[0m\u001b[0;34m)\u001b[0m\u001b[0;34m.\u001b[0m\u001b[0mmin\u001b[0m\u001b[0;34m(\u001b[0m\u001b[0;36m0\u001b[0m\u001b[0;34m)\u001b[0m\u001b[0;34m\u001b[0m\u001b[0;34m\u001b[0m\u001b[0m\n\u001b[0m",
            "\u001b[0;31mTypeError\u001b[0m: cannot unpack non-iterable numpy.float64 object"
          ]
        }
      ]
    },
    {
      "cell_type": "code",
      "source": [
        "def custom_grid_search(net, max_epochs = 8):\n",
        "    dict_best = {}\n",
        "    best_loss = 1.0\n",
        "    best_f1 = 0\n",
        "    dict_best_f1 = {}\n",
        "    curr = {}\n",
        "\n",
        "    for num_layers in [2,3,4]:\n",
        "        curr['num_layers'] = num_layers\n",
        "        for hidden_size in [32, 64, 128]:\n",
        "            curr['hidden_size'] = hidden_size\n",
        "            for batch_size in [64, 128]:\n",
        "                curr['batch_size'] = batch_size\n",
        "                for dropout in [0.0,0.1,0.2,0.3]:\n",
        "                    curr['dropout'] = dropout\n",
        "                    for attention in [False, True]:\n",
        "                        curr['attention'] = attention\n",
        "                        print(f\"num_layers: {curr['num_layers']},hidden_size: {curr['hidden_size']}, batch_size: {curr['batch_size']}, dropout: {curr['dropout']}, attention: {curr['attention']}\")\n",
        "                        set_seed() # for model and dataloader\n",
        "                        model = BRNN(input_size, hidden_size, num_layers, num_classes, cell, dropout=dropout, attention=attention).to(device)\n",
        "                        _, validation_loss, _, _, f1score = train(model, learning_rate, dataset, batch_size, max_epochs, x_test, y_test, device)\n",
        "                        indexloss = np.array(validation_loss).argmin()\n",
        "                        indexf1 = np.array(f1score).argmin()\n",
        "                        curr['epoch_f1'] = indexf1+1\n",
        "                        curr['epoch_loss'] = indexloss+1\n",
        "                        if (validation_loss[indexloss] < best_loss):\n",
        "                            best_loss = validation_loss[indexloss]\n",
        "                            dict_best = curr\n",
        "                        print(f1score)\n",
        "                        if (f1score[indexf1] > best_f1):\n",
        "                            best_f1 = f1score[indexf1]\n",
        "                            dict_best_f1 = curr\n",
        "    # curr['num_layers'] = 1\n",
        "    # curr['dropout'] = 0.0\n",
        "    # for hidden_size in [32, 64, 128]:\n",
        "    #     curr['hidden_size'] = hidden_size\n",
        "    #     for batch_size in [64, 128]:\n",
        "    #         curr['batch_size'] = batch_size\n",
        "    #         for attention in [False, True]:\n",
        "    #             curr['attention'] = attention\n",
        "    #             print(f\"num_layers: {curr['num_layers']},hidden_size: {curr['hidden_size']}, batch_size: {curr['batch_size']}, dropout: {curr['dropout']}, attention: {curr['attention']}\")\n",
        "    #             set_seed() # for model and dataloader\n",
        "    #             model = BRNN(input_size, hidden_size, 1, num_classes, cell, dropout=0.0, attention=True).to(device)\n",
        "    #             _, validation_loss, _, _, f1 = train(model, learning_rate, dataset, batch_size, max_epochs, x_test, y_test, device)\n",
        "    #             index = np.array(validation_loss).argmin()\n",
        "    #             if (validation_loss[index] < best_loss):\n",
        "    #                 best_loss = validation_loss[index]\n",
        "    #                 dict_best = curr\n",
        "    \n",
        "    return dict_best, best_loss, dict_best_f1, best_f1"
      ],
      "metadata": {
        "id": "R2G8k_eGG9Vf"
      },
      "execution_count": 152,
      "outputs": []
    },
    {
      "cell_type": "code",
      "source": [
        "dict_best, best_loss, dict_best_f1, best_f1 = custom_grid_search(BRNN)"
      ],
      "metadata": {
        "colab": {
          "base_uri": "https://localhost:8080/"
        },
        "id": "ej3ARRw8Lv7X",
        "outputId": "3e6caffc-4f7e-4a10-8489-52bc566f2e49"
      },
      "execution_count": null,
      "outputs": [
        {
          "output_type": "stream",
          "name": "stdout",
          "text": [
            "num_layers: 2,hidden_size: 32, batch_size: 64, dropout: 0.0, attention: False\n",
            "Epoch   0: Training Loss = 0.81739  Validation Loss = 0.73163 f1= 0.67835\n",
            "Epoch   1: Training Loss = 0.68705  Validation Loss = 0.70272 f1= 0.69544\n",
            "Epoch   2: Training Loss = 0.62746  Validation Loss = 0.70856 f1= 0.69018\n",
            "Epoch   3: Training Loss = 0.57834  Validation Loss = 0.72147 f1= 0.69106\n",
            "Epoch   4: Training Loss = 0.52730  Validation Loss = 0.73543 f1= 0.69720\n",
            "Epoch   5: Training Loss = 0.49105  Validation Loss = 0.75294 f1= 0.69150\n",
            "Epoch   6: Training Loss = 0.45348  Validation Loss = 0.80627 f1= 0.68361\n",
            "Epoch   7: Training Loss = 0.42916  Validation Loss = 0.83916 f1= 0.67660\n",
            "\n",
            "         precision\t  recall\t   f1\t    \tsupport\n",
            "---------------------------------------------------------------\n",
            "label 0 | 78.1855\t 72.0188\t 74.9756\t 1065\n",
            "label 1 | 42.6573\t 41.2162\t 41.9244\t 296\n",
            "label 2 | 64.5320\t 71.1183\t 67.6653\t 921\n",
            "micro   | 67.6599\t 67.6599\t 67.6599\t -\n",
            "[0.74975562 0.41924399 0.67665289]\n",
            "num_layers: 2,hidden_size: 32, batch_size: 64, dropout: 0.0, attention: True\n",
            "Epoch   0: Training Loss = 0.73762  Validation Loss = 0.68150 f1= 0.71209\n",
            "Epoch   1: Training Loss = 0.63416  Validation Loss = 0.66208 f1= 0.70815\n",
            "Epoch   2: Training Loss = 0.56148  Validation Loss = 0.73062 f1= 0.70070\n",
            "Epoch   3: Training Loss = 0.49079  Validation Loss = 0.75008 f1= 0.70114\n",
            "Epoch   4: Training Loss = 0.43330  Validation Loss = 0.75352 f1= 0.69632\n",
            "Epoch   5: Training Loss = 0.38309  Validation Loss = 0.84962 f1= 0.68668\n",
            "Epoch   6: Training Loss = 0.35035  Validation Loss = 0.85391 f1= 0.68799\n",
            "Epoch   7: Training Loss = 0.32476  Validation Loss = 0.94033 f1= 0.68142\n",
            "\n",
            "         precision\t  recall\t   f1\t    \tsupport\n",
            "---------------------------------------------------------------\n",
            "label 0 | 75.3802\t 74.4601\t 74.9173\t 1065\n",
            "label 1 | 50.5495\t 46.6216\t 48.5062\t 296\n",
            "label 2 | 65.2038\t 67.7524\t 66.4537\t 921\n",
            "micro   | 68.1420\t 68.1420\t 68.1420\t -\n",
            "[0.74917336 0.48506151 0.66453674]\n",
            "num_layers: 2,hidden_size: 32, batch_size: 64, dropout: 0.1, attention: False\n",
            "Epoch   0: Training Loss = 0.82462  Validation Loss = 0.70869 f1= 0.68186\n",
            "Epoch   1: Training Loss = 0.68790  Validation Loss = 0.68316 f1= 0.69895\n",
            "Epoch   2: Training Loss = 0.62170  Validation Loss = 0.67772 f1= 0.71034\n",
            "Epoch   3: Training Loss = 0.56686  Validation Loss = 0.71571 f1= 0.70158\n",
            "Epoch   4: Training Loss = 0.52260  Validation Loss = 0.73026 f1= 0.69807\n",
            "Epoch   5: Training Loss = 0.47622  Validation Loss = 0.76694 f1= 0.69413\n",
            "Epoch   6: Training Loss = 0.44980  Validation Loss = 0.80507 f1= 0.68536\n",
            "Epoch   7: Training Loss = 0.41546  Validation Loss = 0.83158 f1= 0.67134\n",
            "\n",
            "         precision\t  recall\t   f1\t    \tsupport\n",
            "---------------------------------------------------------------\n",
            "label 0 | 77.3526\t 70.2347\t 73.6220\t 1065\n",
            "label 1 | 47.5352\t 45.6081\t 46.5517\t 296\n",
            "label 2 | 62.9486\t 70.4669\t 66.4959\t 921\n",
            "micro   | 67.1341\t 67.1341\t 67.1341\t -\n",
            "[0.73622047 0.46551724 0.66495902]\n",
            "num_layers: 2,hidden_size: 32, batch_size: 64, dropout: 0.1, attention: True\n",
            "Epoch   0: Training Loss = 0.73829  Validation Loss = 0.68471 f1= 0.70903\n",
            "Epoch   1: Training Loss = 0.63778  Validation Loss = 0.67235 f1= 0.70947\n",
            "Epoch   2: Training Loss = 0.56835  Validation Loss = 0.72797 f1= 0.70684\n",
            "Epoch   3: Training Loss = 0.50503  Validation Loss = 0.73815 f1= 0.68887\n",
            "Epoch   4: Training Loss = 0.45489  Validation Loss = 0.75264 f1= 0.69895\n",
            "Epoch   5: Training Loss = 0.41510  Validation Loss = 0.76564 f1= 0.69106\n",
            "Epoch   6: Training Loss = 0.38214  Validation Loss = 0.88662 f1= 0.69939\n",
            "Epoch   7: Training Loss = 0.35935  Validation Loss = 0.87292 f1= 0.68931\n",
            "\n",
            "         precision\t  recall\t   f1\t    \tsupport\n",
            "---------------------------------------------------------------\n",
            "label 0 | 74.1563\t 78.4038\t 76.2209\t 1065\n",
            "label 1 | 48.7288\t 38.8514\t 43.2331\t 296\n",
            "label 2 | 67.7174\t 67.6439\t 67.6806\t 921\n",
            "micro   | 68.9308\t 68.9308\t 68.9308\t -\n",
            "[0.76220904 0.43233083 0.67680608]\n",
            "num_layers: 2,hidden_size: 32, batch_size: 64, dropout: 0.2, attention: False\n",
            "Epoch   0: Training Loss = 0.81228  Validation Loss = 0.70917 f1= 0.68580\n",
            "Epoch   1: Training Loss = 0.67765  Validation Loss = 0.68184 f1= 0.69544\n",
            "Epoch   2: Training Loss = 0.61485  Validation Loss = 0.70330 f1= 0.70070\n",
            "Epoch   3: Training Loss = 0.56817  Validation Loss = 0.69842 f1= 0.70114\n",
            "Epoch   4: Training Loss = 0.51966  Validation Loss = 0.73344 f1= 0.69544\n",
            "Epoch   5: Training Loss = 0.48695  Validation Loss = 0.74465 f1= 0.69982\n",
            "Epoch   6: Training Loss = 0.44615  Validation Loss = 0.79379 f1= 0.69238\n",
            "Epoch   7: Training Loss = 0.42164  Validation Loss = 0.80981 f1= 0.69413\n",
            "\n",
            "         precision\t  recall\t   f1\t    \tsupport\n",
            "---------------------------------------------------------------\n",
            "label 0 | 78.8889\t 73.3333\t 76.0097\t 1065\n",
            "label 1 | 47.2222\t 51.6892\t 49.3548\t 296\n",
            "label 2 | 67.1488\t 70.5755\t 68.8195\t 921\n",
            "micro   | 69.4128\t 69.4128\t 69.4128\t -\n",
            "[0.76009732 0.49354839 0.68819481]\n",
            "num_layers: 2,hidden_size: 32, batch_size: 64, dropout: 0.2, attention: True\n",
            "Epoch   0: Training Loss = 0.73828  Validation Loss = 0.68204 f1= 0.71122\n",
            "Epoch   1: Training Loss = 0.63706  Validation Loss = 0.67260 f1= 0.70947\n",
            "Epoch   2: Training Loss = 0.56772  Validation Loss = 0.71571 f1= 0.70640\n",
            "Epoch   3: Training Loss = 0.50899  Validation Loss = 0.73155 f1= 0.69807\n",
            "Epoch   4: Training Loss = 0.46823  Validation Loss = 0.73227 f1= 0.70465\n",
            "Epoch   5: Training Loss = 0.41898  Validation Loss = 0.77957 f1= 0.69457\n",
            "Epoch   6: Training Loss = 0.39407  Validation Loss = 0.82317 f1= 0.70815\n",
            "Epoch   7: Training Loss = 0.37560  Validation Loss = 0.84250 f1= 0.69939\n",
            "\n",
            "         precision\t  recall\t   f1\t    \tsupport\n",
            "---------------------------------------------------------------\n",
            "label 0 | 76.9086\t 76.6197\t 76.7639\t 1065\n",
            "label 1 | 49.4845\t 48.6486\t 49.0630\t 296\n",
            "label 2 | 68.3871\t 69.0554\t 68.7196\t 921\n",
            "micro   | 69.9387\t 69.9387\t 69.9387\t -\n",
            "[0.76763876 0.49063032 0.68719611]\n",
            "num_layers: 2,hidden_size: 32, batch_size: 64, dropout: 0.3, attention: False\n",
            "Epoch   0: Training Loss = 0.81384  Validation Loss = 0.72158 f1= 0.67660\n",
            "Epoch   1: Training Loss = 0.68487  Validation Loss = 0.69561 f1= 0.70070\n",
            "Epoch   2: Training Loss = 0.62258  Validation Loss = 0.68646 f1= 0.69982\n",
            "Epoch   3: Training Loss = 0.57385  Validation Loss = 0.69840 f1= 0.70903\n",
            "Epoch   4: Training Loss = 0.53599  Validation Loss = 0.71529 f1= 0.69413\n",
            "Epoch   5: Training Loss = 0.50051  Validation Loss = 0.73525 f1= 0.70158\n",
            "Epoch   6: Training Loss = 0.47322  Validation Loss = 0.76455 f1= 0.69632\n",
            "Epoch   7: Training Loss = 0.44616  Validation Loss = 0.79385 f1= 0.68186\n",
            "\n",
            "         precision\t  recall\t   f1\t    \tsupport\n",
            "---------------------------------------------------------------\n",
            "label 0 | 79.0816\t 72.7700\t 75.7946\t 1065\n",
            "label 1 | 43.7126\t 49.3243\t 46.3492\t 296\n",
            "label 2 | 65.5992\t 68.9468\t 67.2313\t 921\n",
            "micro   | 68.1858\t 68.1858\t 68.1858\t -\n",
            "[0.75794621 0.46349206 0.67231339]\n",
            "num_layers: 2,hidden_size: 32, batch_size: 64, dropout: 0.3, attention: True\n",
            "Epoch   0: Training Loss = 0.74054  Validation Loss = 0.68434 f1= 0.70377\n",
            "Epoch   1: Training Loss = 0.64499  Validation Loss = 0.67285 f1= 0.70947\n",
            "Epoch   2: Training Loss = 0.58764  Validation Loss = 0.72460 f1= 0.70333\n",
            "Epoch   3: Training Loss = 0.53428  Validation Loss = 0.69975 f1= 0.70990\n",
            "Epoch   4: Training Loss = 0.49049  Validation Loss = 0.74221 f1= 0.70552\n",
            "Epoch   5: Training Loss = 0.45563  Validation Loss = 0.76816 f1= 0.69588\n",
            "Epoch   6: Training Loss = 0.42800  Validation Loss = 0.82613 f1= 0.69763\n",
            "Epoch   7: Training Loss = 0.42019  Validation Loss = 0.84936 f1= 0.68011\n",
            "\n",
            "         precision\t  recall\t   f1\t    \tsupport\n",
            "---------------------------------------------------------------\n",
            "label 0 | 78.3644\t 71.0798\t 74.5446\t 1065\n",
            "label 1 | 46.8864\t 43.2432\t 44.9912\t 296\n",
            "label 2 | 63.9501\t 72.4213\t 67.9226\t 921\n",
            "micro   | 68.0105\t 68.0105\t 68.0105\t -\n",
            "[0.74544559 0.44991213 0.67922607]\n",
            "num_layers: 2,hidden_size: 32, batch_size: 128, dropout: 0.0, attention: False\n",
            "Epoch   0: Training Loss = 0.83033  Validation Loss = 0.71792 f1= 0.67748\n",
            "Epoch   1: Training Loss = 0.67829  Validation Loss = 0.67859 f1= 0.70640\n",
            "Epoch   2: Training Loss = 0.59426  Validation Loss = 0.68663 f1= 0.70421\n",
            "Epoch   3: Training Loss = 0.50814  Validation Loss = 0.71858 f1= 0.69982\n",
            "Epoch   4: Training Loss = 0.44570  Validation Loss = 0.77304 f1= 0.70684\n",
            "Epoch   5: Training Loss = 0.38276  Validation Loss = 0.81741 f1= 0.69369\n",
            "Epoch   6: Training Loss = 0.33785  Validation Loss = 0.91317 f1= 0.68887\n",
            "Epoch   7: Training Loss = 0.30624  Validation Loss = 0.94291 f1= 0.68493\n",
            "\n",
            "         precision\t  recall\t   f1\t    \tsupport\n",
            "---------------------------------------------------------------\n",
            "label 0 | 75.9398\t 75.8685\t 75.9042\t 1065\n",
            "label 1 | 46.3320\t 40.5405\t 43.2432\t 296\n",
            "label 2 | 66.2148\t 68.9468\t 67.5532\t 921\n",
            "micro   | 68.4926\t 68.4926\t 68.4926\t -\n",
            "[0.7590418  0.43243243 0.67553191]\n",
            "num_layers: 2,hidden_size: 32, batch_size: 128, dropout: 0.0, attention: True\n",
            "Epoch   0: Training Loss = 0.75416  Validation Loss = 0.69972 f1= 0.69150\n",
            "Epoch   1: Training Loss = 0.63781  Validation Loss = 0.66002 f1= 0.71209\n",
            "Epoch   2: Training Loss = 0.55759  Validation Loss = 0.67199 f1= 0.71166\n",
            "Epoch   3: Training Loss = 0.47001  Validation Loss = 0.71994 f1= 0.70377\n",
            "Epoch   4: Training Loss = 0.39458  Validation Loss = 0.77967 f1= 0.68755\n",
            "Epoch   5: Training Loss = 0.32952  Validation Loss = 0.84877 f1= 0.69150\n",
            "Epoch   6: Training Loss = 0.26784  Validation Loss = 1.01243 f1= 0.68843\n",
            "Epoch   7: Training Loss = 0.23737  Validation Loss = 1.06407 f1= 0.67923\n",
            "\n",
            "         precision\t  recall\t   f1\t    \tsupport\n",
            "---------------------------------------------------------------\n",
            "label 0 | 74.9293\t 74.6479\t 74.7883\t 1065\n",
            "label 1 | 50.0000\t 44.9324\t 47.3310\t 296\n",
            "label 2 | 65.1309\t 67.5353\t 66.3113\t 921\n",
            "micro   | 67.9229\t 67.9229\t 67.9229\t -\n",
            "[0.74788335 0.47330961 0.66311301]\n",
            "num_layers: 2,hidden_size: 32, batch_size: 128, dropout: 0.1, attention: False\n",
            "Epoch   0: Training Loss = 0.83151  Validation Loss = 0.71380 f1= 0.68230\n",
            "Epoch   1: Training Loss = 0.67949  Validation Loss = 0.67922 f1= 0.70465\n",
            "Epoch   2: Training Loss = 0.60208  Validation Loss = 0.67998 f1= 0.71034\n",
            "Epoch   3: Training Loss = 0.52577  Validation Loss = 0.71270 f1= 0.69807\n",
            "Epoch   4: Training Loss = 0.46967  Validation Loss = 0.74475 f1= 0.69150\n",
            "Epoch   5: Training Loss = 0.42302  Validation Loss = 0.79724 f1= 0.67134\n",
            "Epoch   6: Training Loss = 0.37644  Validation Loss = 0.88239 f1= 0.68186\n",
            "Epoch   7: Training Loss = 0.34948  Validation Loss = 0.85471 f1= 0.70245\n",
            "\n",
            "         precision\t  recall\t   f1\t    \tsupport\n",
            "---------------------------------------------------------------\n",
            "label 0 | 78.7671\t 75.5869\t 77.1442\t 1065\n",
            "label 1 | 53.3040\t 40.8784\t 46.2715\t 296\n",
            "label 2 | 65.5373\t 73.5071\t 69.2938\t 921\n",
            "micro   | 70.2454\t 70.2454\t 70.2454\t -\n",
            "[0.77144226 0.46271511 0.69293756]\n",
            "num_layers: 2,hidden_size: 32, batch_size: 128, dropout: 0.1, attention: True\n",
            "Epoch   0: Training Loss = 0.75612  Validation Loss = 0.70523 f1= 0.68755\n",
            "Epoch   1: Training Loss = 0.64297  Validation Loss = 0.66541 f1= 0.71253\n",
            "Epoch   2: Training Loss = 0.56851  Validation Loss = 0.66989 f1= 0.69851\n",
            "Epoch   3: Training Loss = 0.48624  Validation Loss = 0.70743 f1= 0.69763\n",
            "Epoch   4: Training Loss = 0.42017  Validation Loss = 0.75739 f1= 0.70070\n",
            "Epoch   5: Training Loss = 0.36202  Validation Loss = 0.83294 f1= 0.68931\n",
            "Epoch   6: Training Loss = 0.30689  Validation Loss = 0.93516 f1= 0.69238\n",
            "Epoch   7: Training Loss = 0.27581  Validation Loss = 0.98737 f1= 0.67704\n",
            "\n",
            "         precision\t  recall\t   f1\t    \tsupport\n",
            "---------------------------------------------------------------\n",
            "label 0 | 73.5051\t 75.0235\t 74.2565\t 1065\n",
            "label 1 | 50.0000\t 40.8784\t 44.9814\t 296\n",
            "label 2 | 65.5824\t 67.8610\t 66.7022\t 921\n",
            "micro   | 67.7038\t 67.7038\t 67.7038\t -\n",
            "[0.74256506 0.44981413 0.66702241]\n",
            "num_layers: 2,hidden_size: 32, batch_size: 128, dropout: 0.2, attention: False\n",
            "Epoch   0: Training Loss = 0.83290  Validation Loss = 0.72009 f1= 0.68098\n",
            "Epoch   1: Training Loss = 0.68875  Validation Loss = 0.67854 f1= 0.69939\n",
            "Epoch   2: Training Loss = 0.61887  Validation Loss = 0.67862 f1= 0.70640\n",
            "Epoch   3: Training Loss = 0.54199  Validation Loss = 0.70873 f1= 0.70026\n",
            "Epoch   4: Training Loss = 0.49526  Validation Loss = 0.73292 f1= 0.68887\n",
            "Epoch   5: Training Loss = 0.44367  Validation Loss = 0.78569 f1= 0.70202\n",
            "Epoch   6: Training Loss = 0.40960  Validation Loss = 0.85940 f1= 0.69500\n",
            "Epoch   7: Training Loss = 0.37641  Validation Loss = 0.80967 f1= 0.68011\n",
            "\n",
            "         precision\t  recall\t   f1\t    \tsupport\n",
            "---------------------------------------------------------------\n",
            "label 0 | 76.3234\t 74.4601\t 75.3802\t 1065\n",
            "label 1 | 45.7143\t 48.6486\t 47.1358\t 296\n",
            "label 2 | 66.2716\t 66.7752\t 66.5224\t 921\n",
            "micro   | 68.0105\t 68.0105\t 68.0105\t -\n",
            "[0.75380228 0.47135843 0.66522445]\n",
            "num_layers: 2,hidden_size: 32, batch_size: 128, dropout: 0.2, attention: True\n",
            "Epoch   0: Training Loss = 0.75585  Validation Loss = 0.70571 f1= 0.68580\n",
            "Epoch   1: Training Loss = 0.64620  Validation Loss = 0.67010 f1= 0.70771\n",
            "Epoch   2: Training Loss = 0.57704  Validation Loss = 0.66826 f1= 0.70421\n",
            "Epoch   3: Training Loss = 0.50044  Validation Loss = 0.69480 f1= 0.69720\n",
            "Epoch   4: Training Loss = 0.43702  Validation Loss = 0.74899 f1= 0.69982\n",
            "Epoch   5: Training Loss = 0.37940  Validation Loss = 0.82403 f1= 0.68142\n",
            "Epoch   6: Training Loss = 0.33560  Validation Loss = 0.93194 f1= 0.68273\n",
            "Epoch   7: Training Loss = 0.31104  Validation Loss = 1.01131 f1= 0.67704\n",
            "\n",
            "         precision\t  recall\t   f1\t    \tsupport\n",
            "---------------------------------------------------------------\n",
            "label 0 | 73.7081\t 76.3380\t 75.0000\t 1065\n",
            "label 1 | 46.8619\t 37.8378\t 41.8692\t 296\n",
            "label 2 | 65.9574\t 67.3181\t 66.6308\t 921\n",
            "micro   | 67.7038\t 67.7038\t 67.7038\t -\n",
            "[0.75       0.41869159 0.66630844]\n",
            "num_layers: 2,hidden_size: 32, batch_size: 128, dropout: 0.3, attention: False\n",
            "Epoch   0: Training Loss = 0.82957  Validation Loss = 0.71721 f1= 0.68186\n",
            "Epoch   1: Training Loss = 0.68609  Validation Loss = 0.68465 f1= 0.69632\n",
            "Epoch   2: Training Loss = 0.62334  Validation Loss = 0.68362 f1= 0.70596\n",
            "Epoch   3: Training Loss = 0.55278  Validation Loss = 0.70664 f1= 0.69939\n",
            "Epoch   4: Training Loss = 0.50625  Validation Loss = 0.73833 f1= 0.69720\n",
            "Epoch   5: Training Loss = 0.46130  Validation Loss = 0.75933 f1= 0.69544\n",
            "Epoch   6: Training Loss = 0.43204  Validation Loss = 0.81341 f1= 0.69325\n",
            "Epoch   7: Training Loss = 0.39228  Validation Loss = 0.83783 f1= 0.68273\n",
            "\n",
            "         precision\t  recall\t   f1\t    \tsupport\n",
            "---------------------------------------------------------------\n",
            "label 0 | 73.5915\t 78.4977\t 75.9655\t 1065\n",
            "label 1 | 48.6486\t 48.6486\t 48.6486\t 296\n",
            "label 2 | 68.0000\t 62.7579\t 65.2739\t 921\n",
            "micro   | 68.2734\t 68.2734\t 68.2734\t -\n",
            "[0.7596547  0.48648649 0.65273857]\n",
            "num_layers: 2,hidden_size: 32, batch_size: 128, dropout: 0.3, attention: True\n",
            "Epoch   0: Training Loss = 0.75699  Validation Loss = 0.70608 f1= 0.68843\n",
            "Epoch   1: Training Loss = 0.64898  Validation Loss = 0.65989 f1= 0.70684\n",
            "Epoch   2: Training Loss = 0.58351  Validation Loss = 0.67287 f1= 0.70684\n",
            "Epoch   3: Training Loss = 0.51434  Validation Loss = 0.70970 f1= 0.70158\n",
            "Epoch   4: Training Loss = 0.45664  Validation Loss = 0.71791 f1= 0.69763\n",
            "Epoch   5: Training Loss = 0.40711  Validation Loss = 0.79884 f1= 0.69544\n",
            "Epoch   6: Training Loss = 0.35786  Validation Loss = 0.87218 f1= 0.70070\n",
            "Epoch   7: Training Loss = 0.32011  Validation Loss = 0.91087 f1= 0.68712\n",
            "\n",
            "         precision\t  recall\t   f1\t    \tsupport\n",
            "---------------------------------------------------------------\n",
            "label 0 | 75.0226\t 77.8404\t 76.4055\t 1065\n",
            "label 1 | 47.0588\t 40.5405\t 43.5572\t 296\n",
            "label 2 | 67.1367\t 67.2096\t 67.1731\t 921\n",
            "micro   | 68.7117\t 68.7117\t 68.7117\t -\n",
            "[0.7640553  0.43557169 0.67173087]\n",
            "num_layers: 2,hidden_size: 64, batch_size: 64, dropout: 0.0, attention: False\n",
            "Epoch   0: Training Loss = 0.83661  Validation Loss = 0.72236 f1= 0.68668\n",
            "Epoch   1: Training Loss = 0.67959  Validation Loss = 0.71801 f1= 0.68975\n",
            "Epoch   2: Training Loss = 0.61742  Validation Loss = 0.72187 f1= 0.68624\n",
            "Epoch   3: Training Loss = 0.55817  Validation Loss = 0.72872 f1= 0.69369\n",
            "Epoch   4: Training Loss = 0.51016  Validation Loss = 0.75180 f1= 0.69500\n",
            "Epoch   5: Training Loss = 0.47010  Validation Loss = 0.78828 f1= 0.67835\n",
            "Epoch   6: Training Loss = 0.46036  Validation Loss = 0.79814 f1= 0.68317\n",
            "Epoch   7: Training Loss = 0.43051  Validation Loss = 0.81815 f1= 0.68011\n",
            "\n",
            "         precision\t  recall\t   f1\t    \tsupport\n",
            "---------------------------------------------------------------\n",
            "label 0 | 75.8979\t 75.3991\t 75.6477\t 1065\n",
            "label 1 | 46.7213\t 38.5135\t 42.2222\t 296\n",
            "label 2 | 64.7959\t 68.9468\t 66.8069\t 921\n",
            "micro   | 68.0105\t 68.0105\t 68.0105\t -\n",
            "[0.75647668 0.42222222 0.66806944]\n",
            "num_layers: 2,hidden_size: 64, batch_size: 64, dropout: 0.0, attention: True\n",
            "Epoch   0: Training Loss = 0.74567  Validation Loss = 0.69621 f1= 0.70508\n",
            "Epoch   1: Training Loss = 0.63532  Validation Loss = 0.70023 f1= 0.69676\n",
            "Epoch   2: Training Loss = 0.56049  Validation Loss = 0.69971 f1= 0.70640\n",
            "Epoch   3: Training Loss = 0.49834  Validation Loss = 0.73654 f1= 0.70026\n",
            "Epoch   4: Training Loss = 0.45358  Validation Loss = 0.76150 f1= 0.68054\n",
            "Epoch   5: Training Loss = 0.45667  Validation Loss = 0.81507 f1= 0.68536\n",
            "Epoch   6: Training Loss = 0.48495  Validation Loss = 0.79440 f1= 0.68931\n",
            "Epoch   7: Training Loss = 0.49355  Validation Loss = 0.77349 f1= 0.68449\n",
            "\n",
            "         precision\t  recall\t   f1\t    \tsupport\n",
            "---------------------------------------------------------------\n",
            "label 0 | 73.8865\t 79.4366\t 76.5611\t 1065\n",
            "label 1 | 44.8276\t 30.7432\t 36.4729\t 296\n",
            "label 2 | 66.9165\t 67.8610\t 67.3854\t 921\n",
            "micro   | 68.4487\t 68.4487\t 68.4487\t -\n",
            "[0.76561086 0.36472946 0.67385445]\n",
            "num_layers: 2,hidden_size: 64, batch_size: 64, dropout: 0.1, attention: False\n",
            "Epoch   0: Training Loss = 0.84877  Validation Loss = 0.71660 f1= 0.68273\n",
            "Epoch   1: Training Loss = 0.68382  Validation Loss = 0.71456 f1= 0.69457\n",
            "Epoch   2: Training Loss = 0.62059  Validation Loss = 0.71817 f1= 0.68843\n",
            "Epoch   3: Training Loss = 0.56474  Validation Loss = 0.74291 f1= 0.68712\n",
            "Epoch   4: Training Loss = 0.53641  Validation Loss = 0.73755 f1= 0.69807\n",
            "Epoch   5: Training Loss = 0.51032  Validation Loss = 0.77625 f1= 0.68712\n",
            "Epoch   6: Training Loss = 0.48823  Validation Loss = 0.76884 f1= 0.68054\n",
            "Epoch   7: Training Loss = 0.48029  Validation Loss = 0.80679 f1= 0.66696\n",
            "\n",
            "         precision\t  recall\t   f1\t    \tsupport\n",
            "---------------------------------------------------------------\n",
            "label 0 | 75.3063\t 75.0235\t 75.1646\t 1065\n",
            "label 1 | 41.4439\t 52.3649\t 46.2687\t 296\n",
            "label 2 | 67.0602\t 61.6721\t 64.2534\t 921\n",
            "micro   | 66.6959\t 66.6959\t 66.6959\t -\n",
            "[0.75164628 0.46268657 0.64253394]\n",
            "num_layers: 2,hidden_size: 64, batch_size: 64, dropout: 0.1, attention: True\n",
            "Epoch   0: Training Loss = 0.74680  Validation Loss = 0.69297 f1= 0.69895\n",
            "Epoch   1: Training Loss = 0.63749  Validation Loss = 0.67921 f1= 0.70727\n",
            "Epoch   2: Training Loss = 0.56659  Validation Loss = 0.74102 f1= 0.69281\n",
            "Epoch   3: Training Loss = 0.50761  Validation Loss = 0.74453 f1= 0.70245\n",
            "Epoch   4: Training Loss = 0.48890  Validation Loss = 0.73730 f1= 0.69413\n",
            "Epoch   5: Training Loss = 0.47408  Validation Loss = 0.78498 f1= 0.70070\n",
            "Epoch   6: Training Loss = 0.45526  Validation Loss = 0.82145 f1= 0.67572\n",
            "Epoch   7: Training Loss = 0.50210  Validation Loss = 0.81816 f1= 0.68405\n",
            "\n",
            "         precision\t  recall\t   f1\t    \tsupport\n",
            "---------------------------------------------------------------\n",
            "label 0 | 72.1477\t 80.7512\t 76.2074\t 1065\n",
            "label 1 | 52.2388\t 23.6486\t 32.5581\t 296\n",
            "label 2 | 66.0042\t 68.5125\t 67.2349\t 921\n",
            "micro   | 68.4049\t 68.4049\t 68.4049\t -\n",
            "[0.76207355 0.3255814  0.67234949]\n",
            "num_layers: 2,hidden_size: 64, batch_size: 64, dropout: 0.2, attention: False\n",
            "Epoch   0: Training Loss = 0.84774  Validation Loss = 0.72868 f1= 0.68624\n",
            "Epoch   1: Training Loss = 0.69325  Validation Loss = 0.72940 f1= 0.69238\n",
            "Epoch   2: Training Loss = 0.64327  Validation Loss = 0.69769 f1= 0.69544\n",
            "Epoch   3: Training Loss = 0.59744  Validation Loss = 0.70746 f1= 0.68361\n",
            "Epoch   4: Training Loss = 0.57067  Validation Loss = 0.72032 f1= 0.69500\n",
            "Epoch   5: Training Loss = 0.55049  Validation Loss = 0.73599 f1= 0.69238\n",
            "Epoch   6: Training Loss = 0.53793  Validation Loss = 0.74021 f1= 0.68755\n",
            "Epoch   7: Training Loss = 0.53940  Validation Loss = 0.75666 f1= 0.67178\n",
            "\n",
            "         precision\t  recall\t   f1\t    \tsupport\n",
            "---------------------------------------------------------------\n",
            "label 0 | 74.4374\t 77.6526\t 76.0110\t 1065\n",
            "label 1 | 41.3793\t 52.7027\t 46.3596\t 296\n",
            "label 2 | 69.2695\t 59.7177\t 64.1399\t 921\n",
            "micro   | 67.1779\t 67.1779\t 67.1779\t -\n",
            "[0.76011029 0.46359584 0.64139942]\n",
            "num_layers: 2,hidden_size: 64, batch_size: 64, dropout: 0.2, attention: True\n",
            "Epoch   0: Training Loss = 0.74846  Validation Loss = 0.69430 f1= 0.70289\n",
            "Epoch   1: Training Loss = 0.64027  Validation Loss = 0.67590 f1= 0.70815\n",
            "Epoch   2: Training Loss = 0.57724  Validation Loss = 0.67671 f1= 0.71648\n",
            "Epoch   3: Training Loss = 0.52407  Validation Loss = 0.72811 f1= 0.70026\n",
            "Epoch   4: Training Loss = 0.50464  Validation Loss = 0.74183 f1= 0.69632\n",
            "Epoch   5: Training Loss = 0.47266  Validation Loss = 0.76965 f1= 0.69851\n",
            "Epoch   6: Training Loss = 0.48664  Validation Loss = 0.79113 f1= 0.67441\n",
            "Epoch   7: Training Loss = 0.54810  Validation Loss = 0.77175 f1= 0.69851\n",
            "\n",
            "         precision\t  recall\t   f1\t    \tsupport\n",
            "---------------------------------------------------------------\n",
            "label 0 | 77.0892\t 77.0892\t 77.0892\t 1065\n",
            "label 1 | 53.0726\t 32.0946\t 40.0000\t 296\n",
            "label 2 | 65.3179\t 73.6156\t 69.2190\t 921\n",
            "micro   | 69.8510\t 69.8510\t 69.8510\t -\n",
            "[0.77089202 0.4        0.69218989]\n",
            "num_layers: 2,hidden_size: 64, batch_size: 64, dropout: 0.3, attention: False\n",
            "Epoch   0: Training Loss = 0.78816  Validation Loss = 0.70399 f1= 0.68449\n",
            "Epoch   1: Training Loss = 0.66689  Validation Loss = 0.69873 f1= 0.70114\n",
            "Epoch   2: Training Loss = 0.62119  Validation Loss = 0.69415 f1= 0.70465\n",
            "Epoch   3: Training Loss = 0.57739  Validation Loss = 0.71828 f1= 0.69281\n",
            "Epoch   4: Training Loss = 0.54257  Validation Loss = 0.70484 f1= 0.69413\n",
            "Epoch   5: Training Loss = 0.51841  Validation Loss = 0.75932 f1= 0.68230\n",
            "Epoch   6: Training Loss = 0.50244  Validation Loss = 0.76199 f1= 0.66696\n",
            "Epoch   7: Training Loss = 0.48592  Validation Loss = 0.76840 f1= 0.68624\n",
            "\n",
            "         precision\t  recall\t   f1\t    \tsupport\n",
            "---------------------------------------------------------------\n",
            "label 0 | 77.0913\t 76.1502\t 76.6179\t 1065\n",
            "label 1 | 45.8886\t 58.4459\t 51.4116\t 296\n",
            "label 2 | 68.2298\t 63.1922\t 65.6144\t 921\n",
            "micro   | 68.6240\t 68.6240\t 68.6240\t -\n",
            "[0.76617855 0.5141159  0.65614431]\n",
            "num_layers: 2,hidden_size: 64, batch_size: 64, dropout: 0.3, attention: True\n",
            "Epoch   0: Training Loss = 0.74992  Validation Loss = 0.68938 f1= 0.69807\n",
            "Epoch   1: Training Loss = 0.64596  Validation Loss = 0.68053 f1= 0.70859\n",
            "Epoch   2: Training Loss = 0.58847  Validation Loss = 0.70115 f1= 0.70640\n",
            "Epoch   3: Training Loss = 0.53821  Validation Loss = 0.72836 f1= 0.68843\n",
            "Epoch   4: Training Loss = 0.52413  Validation Loss = 0.74629 f1= 0.69281\n",
            "Epoch   5: Training Loss = 0.50177  Validation Loss = 0.77282 f1= 0.70026\n",
            "Epoch   6: Training Loss = 0.50777  Validation Loss = 0.76650 f1= 0.69851\n",
            "Epoch   7: Training Loss = 0.56671  Validation Loss = 0.80723 f1= 0.67791\n",
            "\n",
            "         precision\t  recall\t   f1\t    \tsupport\n",
            "---------------------------------------------------------------\n",
            "label 0 | 77.3050\t 71.6432\t 74.3665\t 1065\n",
            "label 1 | 50.3448\t 24.6622\t 33.1066\t 296\n",
            "label 2 | 61.8261\t 77.1987\t 68.6625\t 921\n",
            "micro   | 67.7914\t 67.7914\t 67.7914\t -\n",
            "[0.74366472 0.33106576 0.68662482]\n",
            "num_layers: 2,hidden_size: 64, batch_size: 128, dropout: 0.0, attention: False\n",
            "Epoch   0: Training Loss = 0.80479  Validation Loss = 0.71073 f1= 0.69018\n",
            "Epoch   1: Training Loss = 0.66598  Validation Loss = 0.67690 f1= 0.71034\n",
            "Epoch   2: Training Loss = 0.57365  Validation Loss = 0.68260 f1= 0.71122\n",
            "Epoch   3: Training Loss = 0.48490  Validation Loss = 0.74009 f1= 0.70771\n",
            "Epoch   4: Training Loss = 0.40417  Validation Loss = 0.79684 f1= 0.68755\n",
            "Epoch   5: Training Loss = 0.35352  Validation Loss = 0.90036 f1= 0.69018\n",
            "Epoch   6: Training Loss = 0.31902  Validation Loss = 0.89909 f1= 0.68536\n",
            "Epoch   7: Training Loss = 0.28219  Validation Loss = 0.96263 f1= 0.68098\n",
            "\n",
            "         precision\t  recall\t   f1\t    \tsupport\n",
            "---------------------------------------------------------------\n",
            "label 0 | 74.4661\t 75.3052\t 74.8833\t 1065\n",
            "label 1 | 48.2517\t 46.6216\t 47.4227\t 296\n",
            "label 2 | 66.8118\t 66.6667\t 66.7391\t 921\n",
            "micro   | 68.0982\t 68.0982\t 68.0982\t -\n",
            "[0.74883287 0.4742268  0.6673913 ]\n",
            "num_layers: 2,hidden_size: 64, batch_size: 128, dropout: 0.0, attention: True\n",
            "Epoch   0: Training Loss = 0.75475  Validation Loss = 0.69585 f1= 0.69939\n",
            "Epoch   1: Training Loss = 0.63795  Validation Loss = 0.68092 f1= 0.70377\n",
            "Epoch   2: Training Loss = 0.55235  Validation Loss = 0.69230 f1= 0.69763\n",
            "Epoch   3: Training Loss = 0.45000  Validation Loss = 0.77941 f1= 0.69588\n",
            "Epoch   4: Training Loss = 0.36698  Validation Loss = 0.85543 f1= 0.70202\n",
            "Epoch   5: Training Loss = 0.31958  Validation Loss = 0.93939 f1= 0.68536\n",
            "Epoch   6: Training Loss = 0.28096  Validation Loss = 0.93899 f1= 0.67441\n",
            "Epoch   7: Training Loss = 0.26355  Validation Loss = 1.01250 f1= 0.67222\n",
            "\n",
            "         precision\t  recall\t   f1\t    \tsupport\n",
            "---------------------------------------------------------------\n",
            "label 0 | 74.3330\t 75.8685\t 75.0929\t 1065\n",
            "label 1 | 43.3333\t 39.5270\t 41.3428\t 296\n",
            "label 2 | 65.8378\t 66.1238\t 65.9805\t 921\n",
            "micro   | 67.2217\t 67.2217\t 67.2217\t -\n",
            "[0.75092937 0.41342756 0.65980498]\n",
            "num_layers: 2,hidden_size: 64, batch_size: 128, dropout: 0.1, attention: False\n",
            "Epoch   0: Training Loss = 0.80458  Validation Loss = 0.71324 f1= 0.69150\n",
            "Epoch   1: Training Loss = 0.66471  Validation Loss = 0.66945 f1= 0.70640\n",
            "Epoch   2: Training Loss = 0.57876  Validation Loss = 0.67949 f1= 0.71429\n",
            "Epoch   3: Training Loss = 0.49640  Validation Loss = 0.72974 f1= 0.71034\n",
            "Epoch   4: Training Loss = 0.43072  Validation Loss = 0.74611 f1= 0.69763\n",
            "Epoch   5: Training Loss = 0.37301  Validation Loss = 0.88221 f1= 0.69939\n",
            "Epoch   6: Training Loss = 0.34314  Validation Loss = 0.86212 f1= 0.69150\n",
            "Epoch   7: Training Loss = 0.30769  Validation Loss = 0.92020 f1= 0.70202\n",
            "\n",
            "         precision\t  recall\t   f1\t    \tsupport\n",
            "---------------------------------------------------------------\n",
            "label 0 | 77.2814\t 76.3380\t 76.8068\t 1065\n",
            "label 1 | 52.0913\t 46.2838\t 49.0161\t 296\n",
            "label 2 | 67.4250\t 70.7926\t 69.0678\t 921\n",
            "micro   | 70.2016\t 70.2016\t 70.2016\t -\n",
            "[0.76806802 0.490161   0.69067797]\n",
            "num_layers: 2,hidden_size: 64, batch_size: 128, dropout: 0.1, attention: True\n",
            "Epoch   0: Training Loss = 0.75633  Validation Loss = 0.70063 f1= 0.69676\n",
            "Epoch   1: Training Loss = 0.64022  Validation Loss = 0.67098 f1= 0.70640\n",
            "Epoch   2: Training Loss = 0.55366  Validation Loss = 0.69667 f1= 0.70026\n",
            "Epoch   3: Training Loss = 0.46108  Validation Loss = 0.77509 f1= 0.69369\n",
            "Epoch   4: Training Loss = 0.38233  Validation Loss = 0.82249 f1= 0.70158\n",
            "Epoch   5: Training Loss = 0.32607  Validation Loss = 0.88184 f1= 0.69720\n",
            "Epoch   6: Training Loss = 0.29456  Validation Loss = 0.94515 f1= 0.68668\n",
            "Epoch   7: Training Loss = 0.26900  Validation Loss = 1.00647 f1= 0.67835\n",
            "\n",
            "         precision\t  recall\t   f1\t    \tsupport\n",
            "---------------------------------------------------------------\n",
            "label 0 | 75.6530\t 76.1502\t 75.9008\t 1065\n",
            "label 1 | 46.0870\t 35.8108\t 40.3042\t 296\n",
            "label 2 | 64.3878\t 68.5125\t 66.3861\t 921\n",
            "micro   | 67.8352\t 67.8352\t 67.8352\t -\n",
            "[0.75900796 0.40304183 0.66386113]\n",
            "num_layers: 2,hidden_size: 64, batch_size: 128, dropout: 0.2, attention: False\n",
            "Epoch   0: Training Loss = 0.80974  Validation Loss = 0.71301 f1= 0.68931\n",
            "Epoch   1: Training Loss = 0.66850  Validation Loss = 0.67119 f1= 0.71604\n",
            "Epoch   2: Training Loss = 0.58778  Validation Loss = 0.69244 f1= 0.70158\n",
            "Epoch   3: Training Loss = 0.50575  Validation Loss = 0.73436 f1= 0.70727\n",
            "Epoch   4: Training Loss = 0.44209  Validation Loss = 0.75637 f1= 0.69106\n",
            "Epoch   5: Training Loss = 0.38782  Validation Loss = 0.86166 f1= 0.67090\n",
            "Epoch   6: Training Loss = 0.35477  Validation Loss = 0.89326 f1= 0.67134\n",
            "Epoch   7: Training Loss = 0.31625  Validation Loss = 0.94260 f1= 0.68273\n",
            "\n",
            "         precision\t  recall\t   f1\t    \tsupport\n",
            "---------------------------------------------------------------\n",
            "label 0 | 76.5741\t 77.6526\t 77.1096\t 1065\n",
            "label 1 | 42.0245\t 46.2838\t 44.0514\t 296\n",
            "label 2 | 67.8082\t 64.4951\t 66.1102\t 921\n",
            "micro   | 68.2734\t 68.2734\t 68.2734\t -\n",
            "[0.77109557 0.44051447 0.66110184]\n",
            "num_layers: 2,hidden_size: 64, batch_size: 128, dropout: 0.2, attention: True\n",
            "Epoch   0: Training Loss = 0.75500  Validation Loss = 0.69038 f1= 0.69194\n",
            "Epoch   1: Training Loss = 0.64581  Validation Loss = 0.66549 f1= 0.71122\n",
            "Epoch   2: Training Loss = 0.56172  Validation Loss = 0.68800 f1= 0.70727\n",
            "Epoch   3: Training Loss = 0.48117  Validation Loss = 0.75725 f1= 0.70333\n",
            "Epoch   4: Training Loss = 0.40661  Validation Loss = 0.77930 f1= 0.69457\n",
            "Epoch   5: Training Loss = 0.35320  Validation Loss = 0.89176 f1= 0.68536\n",
            "Epoch   6: Training Loss = 0.32091  Validation Loss = 0.91770 f1= 0.68493\n",
            "Epoch   7: Training Loss = 0.30853  Validation Loss = 0.98452 f1= 0.67923\n",
            "\n",
            "         precision\t  recall\t   f1\t    \tsupport\n",
            "---------------------------------------------------------------\n",
            "label 0 | 73.9405\t 76.9953\t 75.4370\t 1065\n",
            "label 1 | 44.8630\t 44.2568\t 44.5578\t 296\n",
            "label 2 | 67.9909\t 65.0380\t 66.4817\t 921\n",
            "micro   | 67.9229\t 67.9229\t 67.9229\t -\n",
            "[0.75436983 0.44557823 0.66481687]\n",
            "num_layers: 2,hidden_size: 64, batch_size: 128, dropout: 0.3, attention: False\n",
            "Epoch   0: Training Loss = 0.81139  Validation Loss = 0.72751 f1= 0.68317\n",
            "Epoch   1: Training Loss = 0.66889  Validation Loss = 0.68464 f1= 0.70289\n",
            "Epoch   2: Training Loss = 0.58528  Validation Loss = 0.68928 f1= 0.70202\n",
            "Epoch   3: Training Loss = 0.51417  Validation Loss = 0.70948 f1= 0.69895\n",
            "Epoch   4: Training Loss = 0.45987  Validation Loss = 0.71913 f1= 0.70333\n",
            "Epoch   5: Training Loss = 0.41369  Validation Loss = 0.81563 f1= 0.70070\n",
            "Epoch   6: Training Loss = 0.37527  Validation Loss = 0.84086 f1= 0.68098\n",
            "Epoch   7: Training Loss = 0.36737  Validation Loss = 0.87271 f1= 0.69194\n",
            "\n",
            "         precision\t  recall\t   f1\t    \tsupport\n",
            "---------------------------------------------------------------\n",
            "label 0 | 76.8007\t 77.0892\t 76.9447\t 1065\n",
            "label 1 | 44.0860\t 41.5541\t 42.7826\t 296\n",
            "label 2 | 67.9872\t 68.9468\t 68.4636\t 921\n",
            "micro   | 69.1937\t 69.1937\t 69.1937\t -\n",
            "[0.76944705 0.42782609 0.68463612]\n",
            "num_layers: 2,hidden_size: 64, batch_size: 128, dropout: 0.3, attention: True\n",
            "Epoch   0: Training Loss = 0.75550  Validation Loss = 0.70906 f1= 0.69457\n",
            "Epoch   1: Training Loss = 0.64412  Validation Loss = 0.69625 f1= 0.69895\n",
            "Epoch   2: Training Loss = 0.57012  Validation Loss = 0.67730 f1= 0.71166\n",
            "Epoch   3: Training Loss = 0.48473  Validation Loss = 0.76361 f1= 0.69632\n",
            "Epoch   4: Training Loss = 0.41119  Validation Loss = 0.79877 f1= 0.69062\n",
            "Epoch   5: Training Loss = 0.35250  Validation Loss = 0.85817 f1= 0.68493\n",
            "Epoch   6: Training Loss = 0.33064  Validation Loss = 0.96824 f1= 0.66959\n",
            "Epoch   7: Training Loss = 0.31208  Validation Loss = 0.95815 f1= 0.68493\n",
            "\n",
            "         precision\t  recall\t   f1\t    \tsupport\n",
            "---------------------------------------------------------------\n",
            "label 0 | 74.9533\t 75.3052\t 75.1288\t 1065\n",
            "label 1 | 47.1429\t 44.5946\t 45.8333\t 296\n",
            "label 2 | 67.4893\t 68.2953\t 67.8899\t 921\n",
            "micro   | 68.4926\t 68.4926\t 68.4926\t -\n",
            "[0.75128806 0.45833333 0.67889908]\n",
            "num_layers: 2,hidden_size: 128, batch_size: 64, dropout: 0.0, attention: False\n",
            "Epoch   0: Training Loss = 0.81955  Validation Loss = 0.76096 f1= 0.67572\n",
            "Epoch   1: Training Loss = 0.69209  Validation Loss = 0.71958 f1= 0.68755\n",
            "Epoch   2: Training Loss = 0.62918  Validation Loss = 0.71862 f1= 0.68931\n",
            "Epoch   3: Training Loss = 0.60948  Validation Loss = 0.71369 f1= 0.67660\n",
            "Epoch   4: Training Loss = 0.58455  Validation Loss = 0.73022 f1= 0.68975\n",
            "Epoch   5: Training Loss = 0.54493  Validation Loss = 0.78327 f1= 0.68098\n",
            "Epoch   6: Training Loss = 0.54246  Validation Loss = 0.77120 f1= 0.67353\n",
            "Epoch   7: Training Loss = 0.53337  Validation Loss = 0.81656 f1= 0.65863\n",
            "\n",
            "         precision\t  recall\t   f1\t    \tsupport\n",
            "---------------------------------------------------------------\n",
            "label 0 | 73.7041\t 73.4272\t 73.5654\t 1065\n",
            "label 1 | 42.1801\t 30.0676\t 35.1085\t 296\n",
            "label 2 | 62.5743\t 68.6211\t 65.4583\t 921\n",
            "micro   | 65.8633\t 65.8633\t 65.8633\t -\n",
            "[0.73565381 0.35108481 0.65458312]\n",
            "num_layers: 2,hidden_size: 128, batch_size: 64, dropout: 0.0, attention: True\n",
            "Epoch   0: Training Loss = 0.76776  Validation Loss = 0.71261 f1= 0.70508\n",
            "Epoch   1: Training Loss = 0.66381  Validation Loss = 0.79612 f1= 0.64636\n",
            "Epoch   2: Training Loss = 0.65050  Validation Loss = 0.71954 f1= 0.69325\n",
            "Epoch   3: Training Loss = 0.60433  Validation Loss = 0.72971 f1= 0.68142\n",
            "Epoch   4: Training Loss = 0.57511  Validation Loss = 0.76578 f1= 0.66696\n",
            "Epoch   5: Training Loss = 0.58801  Validation Loss = 0.80882 f1= 0.68580\n",
            "Epoch   6: Training Loss = 0.63145  Validation Loss = 0.74715 f1= 0.66784\n",
            "Epoch   7: Training Loss = 0.70883  Validation Loss = 0.74905 f1= 0.67485\n",
            "\n",
            "         precision\t  recall\t   f1\t    \tsupport\n",
            "---------------------------------------------------------------\n",
            "label 0 | 74.4758\t 76.7136\t 75.5782\t 1065\n",
            "label 1 | 46.5409\t 25.0000\t 32.5275\t 296\n",
            "label 2 | 63.2554\t 70.4669\t 66.6667\t 921\n",
            "micro   | 67.4847\t 67.4847\t 67.4847\t -\n",
            "[0.75578168 0.32527473 0.66666667]\n",
            "num_layers: 2,hidden_size: 128, batch_size: 64, dropout: 0.1, attention: False\n",
            "Epoch   0: Training Loss = 0.80856  Validation Loss = 0.74283 f1= 0.68098\n",
            "Epoch   1: Training Loss = 0.68761  Validation Loss = 0.71848 f1= 0.67835\n",
            "Epoch   2: Training Loss = 0.63032  Validation Loss = 0.70789 f1= 0.69500\n",
            "Epoch   3: Training Loss = 0.57967  Validation Loss = 0.73080 f1= 0.68317\n",
            "Epoch   4: Training Loss = 0.55316  Validation Loss = 0.74074 f1= 0.67704\n",
            "Epoch   5: Training Loss = 0.52212  Validation Loss = 0.77237 f1= 0.68142\n",
            "Epoch   6: Training Loss = 0.50737  Validation Loss = 0.77814 f1= 0.67791\n",
            "Epoch   7: Training Loss = 0.49537  Validation Loss = 0.85653 f1= 0.68405\n",
            "\n",
            "         precision\t  recall\t   f1\t    \tsupport\n",
            "---------------------------------------------------------------\n",
            "label 0 | 80.5889\t 69.3897\t 74.5711\t 1065\n",
            "label 1 | 52.1472\t 28.7162\t 37.0370\t 296\n",
            "label 2 | 61.3145\t 80.0217\t 69.4301\t 921\n",
            "micro   | 68.4049\t 68.4049\t 68.4049\t -\n",
            "[0.7457114  0.37037037 0.69430052]\n",
            "num_layers: 2,hidden_size: 128, batch_size: 64, dropout: 0.1, attention: True\n",
            "Epoch   0: Training Loss = 0.76487  Validation Loss = 0.70813 f1= 0.69281\n",
            "Epoch   1: Training Loss = 0.66768  Validation Loss = 0.73322 f1= 0.67791\n",
            "Epoch   2: Training Loss = 0.62079  Validation Loss = 0.72507 f1= 0.68011\n",
            "Epoch   3: Training Loss = 0.60680  Validation Loss = 0.78937 f1= 0.64505\n",
            "Epoch   4: Training Loss = 0.65471  Validation Loss = 0.77347 f1= 0.65951\n",
            "Epoch   5: Training Loss = 0.73674  Validation Loss = 0.78028 f1= 0.67704\n",
            "Epoch   6: Training Loss = 0.72195  Validation Loss = 0.77065 f1= 0.66039\n",
            "Epoch   7: Training Loss = 0.73768  Validation Loss = 0.75843 f1= 0.66696\n",
            "\n",
            "         precision\t  recall\t   f1\t    \tsupport\n",
            "---------------------------------------------------------------\n",
            "label 0 | 74.9301\t 75.4930\t 75.2105\t 1065\n",
            "label 1 | 41.4013\t 21.9595\t 28.6976\t 296\n",
            "label 2 | 62.0722\t 70.9012\t 66.1936\t 921\n",
            "micro   | 66.6959\t 66.6959\t 66.6959\t -\n",
            "[0.75210477 0.28697572 0.66193614]\n",
            "num_layers: 2,hidden_size: 128, batch_size: 64, dropout: 0.2, attention: False\n",
            "Epoch   0: Training Loss = 0.80992  Validation Loss = 0.73869 f1= 0.68536\n",
            "Epoch   1: Training Loss = 0.68850  Validation Loss = 0.73892 f1= 0.66827\n",
            "Epoch   2: Training Loss = 0.63893  Validation Loss = 0.70787 f1= 0.68668\n",
            "Epoch   3: Training Loss = 0.60687  Validation Loss = 0.71966 f1= 0.69281\n",
            "Epoch   4: Training Loss = 0.59144  Validation Loss = 0.73861 f1= 0.68931\n",
            "Epoch   5: Training Loss = 0.58064  Validation Loss = 0.76808 f1= 0.69106\n",
            "Epoch   6: Training Loss = 0.56304  Validation Loss = 0.74182 f1= 0.68054\n",
            "Epoch   7: Training Loss = 0.54001  Validation Loss = 0.79925 f1= 0.68712\n",
            "\n",
            "         precision\t  recall\t   f1\t    \tsupport\n",
            "---------------------------------------------------------------\n",
            "label 0 | 80.6002\t 70.6103\t 75.2753\t 1065\n",
            "label 1 | 51.8919\t 32.4324\t 39.9168\t 296\n",
            "label 2 | 61.8557\t 78.1759\t 69.0647\t 921\n",
            "micro   | 68.7117\t 68.7117\t 68.7117\t -\n",
            "[0.75275275 0.3991684  0.69064748]\n",
            "num_layers: 2,hidden_size: 128, batch_size: 64, dropout: 0.2, attention: True\n",
            "Epoch   0: Training Loss = 0.76527  Validation Loss = 0.72238 f1= 0.69720\n",
            "Epoch   1: Training Loss = 0.67218  Validation Loss = 0.82647 f1= 0.65469\n",
            "Epoch   2: Training Loss = 0.64698  Validation Loss = 0.72428 f1= 0.69500\n",
            "Epoch   3: Training Loss = 0.64701  Validation Loss = 0.75594 f1= 0.65644\n",
            "Epoch   4: Training Loss = 0.65692  Validation Loss = 0.77754 f1= 0.66433\n",
            "Epoch   5: Training Loss = 0.67119  Validation Loss = 0.75877 f1= 0.68054\n",
            "Epoch   6: Training Loss = 0.68012  Validation Loss = 0.70655 f1= 0.69281\n",
            "Epoch   7: Training Loss = 0.66365  Validation Loss = 0.71735 f1= 0.69194\n",
            "\n",
            "         precision\t  recall\t   f1\t    \tsupport\n",
            "---------------------------------------------------------------\n",
            "label 0 | 75.0673\t 78.5915\t 76.7890\t 1065\n",
            "label 1 | 51.9126\t 32.0946\t 39.6660\t 296\n",
            "label 2 | 65.7520\t 70.2497\t 67.9265\t 921\n",
            "micro   | 69.1937\t 69.1937\t 69.1937\t -\n",
            "[0.76788991 0.39665971 0.67926509]\n",
            "num_layers: 2,hidden_size: 128, batch_size: 64, dropout: 0.3, attention: False\n",
            "Epoch   0: Training Loss = 0.83758  Validation Loss = 0.76442 f1= 0.67923\n",
            "Epoch   1: Training Loss = 0.72279  Validation Loss = 0.74154 f1= 0.67397\n",
            "Epoch   2: Training Loss = 0.66724  Validation Loss = 0.78425 f1= 0.63979\n",
            "Epoch   3: Training Loss = 0.63670  Validation Loss = 0.76027 f1= 0.68186\n",
            "Epoch   4: Training Loss = 0.61391  Validation Loss = 0.74676 f1= 0.67222\n",
            "Epoch   5: Training Loss = 0.59565  Validation Loss = 0.76037 f1= 0.67923\n",
            "Epoch   6: Training Loss = 0.61916  Validation Loss = 0.74167 f1= 0.67090\n",
            "Epoch   7: Training Loss = 0.64258  Validation Loss = 0.76085 f1= 0.66915\n",
            "\n",
            "         precision\t  recall\t   f1\t    \tsupport\n",
            "---------------------------------------------------------------\n",
            "label 0 | 74.2857\t 78.1221\t 76.1556\t 1065\n",
            "label 1 | 41.0646\t 36.4865\t 38.6404\t 296\n",
            "label 2 | 65.2948\t 63.7351\t 64.5055\t 921\n",
            "micro   | 66.9150\t 66.9150\t 66.9150\t -\n",
            "[0.76155606 0.38640429 0.64505495]\n",
            "num_layers: 2,hidden_size: 128, batch_size: 64, dropout: 0.3, attention: True\n",
            "Epoch   0: Training Loss = 0.76680  Validation Loss = 0.71383 f1= 0.69150\n",
            "Epoch   1: Training Loss = 0.66829  Validation Loss = 0.72044 f1= 0.68361\n",
            "Epoch   2: Training Loss = 0.66893  Validation Loss = 0.72273 f1= 0.69238\n",
            "Epoch   3: Training Loss = 0.71204  Validation Loss = 0.74846 f1= 0.66082\n",
            "Epoch   4: Training Loss = 0.66948  Validation Loss = 0.73183 f1= 0.68712\n",
            "Epoch   5: Training Loss = 0.67814  Validation Loss = 0.83723 f1= 0.65951\n",
            "Epoch   6: Training Loss = 0.68855  Validation Loss = 0.71567 f1= 0.68230\n",
            "Epoch   7: Training Loss = 0.65030  Validation Loss = 0.73697 f1= 0.67353\n",
            "\n",
            "         precision\t  recall\t   f1\t    \tsupport\n",
            "---------------------------------------------------------------\n",
            "label 0 | 78.6952\t 72.4883\t 75.4643\t 1065\n",
            "label 1 | 43.3594\t 37.5000\t 40.2174\t 296\n",
            "label 2 | 62.5837\t 71.0098\t 66.5310\t 921\n",
            "micro   | 67.3532\t 67.3532\t 67.3532\t -\n",
            "[0.75464321 0.40217391 0.66531027]\n",
            "num_layers: 2,hidden_size: 128, batch_size: 128, dropout: 0.0, attention: False\n",
            "Epoch   0: Training Loss = 0.89680  Validation Loss = 0.72650 f1= 0.67222\n",
            "Epoch   1: Training Loss = 0.69872  Validation Loss = 0.70729 f1= 0.68624\n",
            "Epoch   2: Training Loss = 0.60564  Validation Loss = 0.70120 f1= 0.70990\n",
            "Epoch   3: Training Loss = 0.52876  Validation Loss = 0.71648 f1= 0.70289\n",
            "Epoch   4: Training Loss = 0.47217  Validation Loss = 0.75303 f1= 0.69720\n",
            "Epoch   5: Training Loss = 0.45273  Validation Loss = 0.80162 f1= 0.70114\n",
            "Epoch   6: Training Loss = 0.45955  Validation Loss = 0.77206 f1= 0.67879\n",
            "Epoch   7: Training Loss = 0.51395  Validation Loss = 0.80992 f1= 0.68011\n",
            "\n",
            "         precision\t  recall\t   f1\t    \tsupport\n",
            "---------------------------------------------------------------\n",
            "label 0 | 81.9209\t 68.0751\t 74.3590\t 1065\n",
            "label 1 | 51.0204\t 25.3378\t 33.8600\t 296\n",
            "label 2 | 60.1600\t 81.6504\t 69.2768\t 921\n",
            "micro   | 68.0105\t 68.0105\t 68.0105\t -\n",
            "[0.74358974 0.33860045 0.69276831]\n",
            "num_layers: 2,hidden_size: 128, batch_size: 128, dropout: 0.0, attention: True\n",
            "Epoch   0: Training Loss = 0.76242  Validation Loss = 0.69837 f1= 0.69588\n",
            "Epoch   1: Training Loss = 0.64743  Validation Loss = 0.69359 f1= 0.70114\n",
            "Epoch   2: Training Loss = 0.54929  Validation Loss = 0.70488 f1= 0.70377\n",
            "Epoch   3: Training Loss = 0.46451  Validation Loss = 0.73334 f1= 0.70202\n",
            "Epoch   4: Training Loss = 0.44510  Validation Loss = 0.77400 f1= 0.69413\n",
            "Epoch   5: Training Loss = 0.45942  Validation Loss = 0.79761 f1= 0.68580\n",
            "Epoch   6: Training Loss = 0.52996  Validation Loss = 0.80755 f1= 0.66784\n",
            "Epoch   7: Training Loss = 0.60910  Validation Loss = 0.75215 f1= 0.67572\n",
            "\n",
            "         precision\t  recall\t   f1\t    \tsupport\n",
            "---------------------------------------------------------------\n",
            "label 0 | 78.2518\t 70.6103\t 74.2349\t 1065\n",
            "label 1 | 48.9247\t 30.7432\t 37.7593\t 296\n",
            "label 2 | 61.5859\t 75.8958\t 67.9961\t 921\n",
            "micro   | 67.5723\t 67.5723\t 67.5723\t -\n",
            "[0.74234946 0.37759336 0.67996109]\n",
            "num_layers: 2,hidden_size: 128, batch_size: 128, dropout: 0.1, attention: False\n",
            "Epoch   0: Training Loss = 0.85193  Validation Loss = 0.73770 f1= 0.68405\n",
            "Epoch   1: Training Loss = 0.68851  Validation Loss = 0.70561 f1= 0.69676\n",
            "Epoch   2: Training Loss = 0.60259  Validation Loss = 0.72382 f1= 0.70202\n",
            "Epoch   3: Training Loss = 0.52780  Validation Loss = 0.71632 f1= 0.69325\n",
            "Epoch   4: Training Loss = 0.44804  Validation Loss = 0.75752 f1= 0.68887\n",
            "Epoch   5: Training Loss = 0.40548  Validation Loss = 0.80408 f1= 0.67791\n",
            "Epoch   6: Training Loss = 0.36846  Validation Loss = 0.83215 f1= 0.68361\n",
            "Epoch   7: Training Loss = 0.33359  Validation Loss = 0.90819 f1= 0.67704\n",
            "\n",
            "         precision\t  recall\t   f1\t    \tsupport\n",
            "---------------------------------------------------------------\n",
            "label 0 | 80.1093\t 68.8263\t 74.0404\t 1065\n",
            "label 1 | 42.2741\t 48.9865\t 45.3834\t 296\n",
            "label 2 | 65.1367\t 72.4213\t 68.5861\t 921\n",
            "micro   | 67.7038\t 67.7038\t 67.7038\t -\n",
            "[0.74040404 0.45383412 0.68586118]\n",
            "num_layers: 2,hidden_size: 128, batch_size: 128, dropout: 0.1, attention: True\n",
            "Epoch   0: Training Loss = 0.76167  Validation Loss = 0.69875 f1= 0.69720\n",
            "Epoch   1: Training Loss = 0.65313  Validation Loss = 0.69730 f1= 0.70465\n",
            "Epoch   2: Training Loss = 0.55291  Validation Loss = 0.71342 f1= 0.71166\n",
            "Epoch   3: Training Loss = 0.47892  Validation Loss = 0.75899 f1= 0.69895\n",
            "Epoch   4: Training Loss = 0.46032  Validation Loss = 0.76470 f1= 0.69062\n",
            "Epoch   5: Training Loss = 0.47336  Validation Loss = 0.77760 f1= 0.70158\n",
            "Epoch   6: Training Loss = 0.55503  Validation Loss = 0.78121 f1= 0.68624\n",
            "Epoch   7: Training Loss = 0.57718  Validation Loss = 0.76376 f1= 0.68011\n",
            "\n",
            "         precision\t  recall\t   f1\t    \tsupport\n",
            "---------------------------------------------------------------\n",
            "label 0 | 76.3462\t 74.5540\t 75.4394\t 1065\n",
            "label 1 | 49.6815\t 26.3514\t 34.4371\t 296\n",
            "label 2 | 62.6728\t 73.8328\t 67.7966\t 921\n",
            "micro   | 68.0105\t 68.0105\t 68.0105\t -\n",
            "[0.7543943  0.34437086 0.6779661 ]\n",
            "num_layers: 2,hidden_size: 128, batch_size: 128, dropout: 0.2, attention: False\n",
            "Epoch   0: Training Loss = 0.90915  Validation Loss = 0.76261 f1= 0.67528\n",
            "Epoch   1: Training Loss = 0.71700  Validation Loss = 0.71808 f1= 0.69325\n",
            "Epoch   2: Training Loss = 0.62996  Validation Loss = 0.70136 f1= 0.70114\n",
            "Epoch   3: Training Loss = 0.56682  Validation Loss = 0.71889 f1= 0.70377\n",
            "Epoch   4: Training Loss = 0.50920  Validation Loss = 0.73300 f1= 0.68449\n",
            "Epoch   5: Training Loss = 0.47539  Validation Loss = 0.81166 f1= 0.67309\n",
            "Epoch   6: Training Loss = 0.46064  Validation Loss = 0.81252 f1= 0.66959\n",
            "Epoch   7: Training Loss = 0.44646  Validation Loss = 0.86672 f1= 0.67397\n",
            "\n",
            "         precision\t  recall\t   f1\t    \tsupport\n",
            "---------------------------------------------------------------\n",
            "label 0 | 81.5205\t 65.4460\t 72.6042\t 1065\n",
            "label 1 | 48.2906\t 38.1757\t 42.6415\t 296\n",
            "label 2 | 61.0226\t 79.0445\t 68.8742\t 921\n",
            "micro   | 67.3970\t 67.3970\t 67.3970\t -\n",
            "[0.72604167 0.42641509 0.68874172]\n",
            "num_layers: 2,hidden_size: 128, batch_size: 128, dropout: 0.2, attention: True\n",
            "Epoch   0: Training Loss = 0.76281  Validation Loss = 0.69871 f1= 0.69763\n",
            "Epoch   1: Training Loss = 0.65333  Validation Loss = 0.69148 f1= 0.70465\n",
            "Epoch   2: Training Loss = 0.56363  Validation Loss = 0.73266 f1= 0.70333\n",
            "Epoch   3: Training Loss = 0.50264  Validation Loss = 0.73077 f1= 0.70508\n",
            "Epoch   4: Training Loss = 0.47841  Validation Loss = 0.74884 f1= 0.68931\n",
            "Epoch   5: Training Loss = 0.51227  Validation Loss = 0.79358 f1= 0.67660\n",
            "Epoch   6: Training Loss = 0.52240  Validation Loss = 0.76739 f1= 0.69106\n",
            "Epoch   7: Training Loss = 0.54866  Validation Loss = 0.76921 f1= 0.69106\n",
            "\n",
            "         precision\t  recall\t   f1\t    \tsupport\n",
            "---------------------------------------------------------------\n",
            "label 0 | 80.1268\t 71.1737\t 75.3854\t 1065\n",
            "label 1 | 48.7805\t 33.7838\t 39.9202\t 296\n",
            "label 2 | 63.5721\t 78.0673\t 70.0780\t 921\n",
            "micro   | 69.1060\t 69.1060\t 69.1060\t -\n",
            "[0.7538538  0.3992016  0.70077973]\n",
            "num_layers: 2,hidden_size: 128, batch_size: 128, dropout: 0.3, attention: False\n",
            "Epoch   0: Training Loss = 0.89814  Validation Loss = 0.73406 f1= 0.67879\n",
            "Epoch   1: Training Loss = 0.70975  Validation Loss = 0.72596 f1= 0.67046\n",
            "Epoch   2: Training Loss = 0.63213  Validation Loss = 0.72351 f1= 0.69281\n",
            "Epoch   3: Training Loss = 0.57468  Validation Loss = 0.71570 f1= 0.68843\n",
            "Epoch   4: Training Loss = 0.51339  Validation Loss = 0.73916 f1= 0.67879\n",
            "Epoch   5: Training Loss = 0.49721  Validation Loss = 0.78774 f1= 0.66608\n",
            "Epoch   6: Training Loss = 0.46997  Validation Loss = 0.82236 f1= 0.67222\n",
            "Epoch   7: Training Loss = 0.46710  Validation Loss = 0.81087 f1= 0.67441\n",
            "\n",
            "         precision\t  recall\t   f1\t    \tsupport\n",
            "---------------------------------------------------------------\n",
            "label 0 | 79.2696\t 69.2958\t 73.9479\t 1065\n",
            "label 1 | 46.0630\t 39.5270\t 42.5455\t 296\n",
            "label 2 | 62.3519\t 74.2671\t 67.7899\t 921\n",
            "micro   | 67.4408\t 67.4408\t 67.4408\t -\n",
            "[0.73947896 0.42545455 0.67789891]\n",
            "num_layers: 2,hidden_size: 128, batch_size: 128, dropout: 0.3, attention: True\n",
            "Epoch   0: Training Loss = 0.76278  Validation Loss = 0.69634 f1= 0.69895\n",
            "Epoch   1: Training Loss = 0.65745  Validation Loss = 0.69863 f1= 0.69763\n",
            "Epoch   2: Training Loss = 0.57155  Validation Loss = 0.69119 f1= 0.70640\n",
            "Epoch   3: Training Loss = 0.52678  Validation Loss = 0.74394 f1= 0.69720\n",
            "Epoch   4: Training Loss = 0.53317  Validation Loss = 0.79803 f1= 0.67441\n",
            "Epoch   5: Training Loss = 0.58622  Validation Loss = 0.74936 f1= 0.68449\n",
            "Epoch   6: Training Loss = 0.54659  Validation Loss = 0.75902 f1= 0.68273\n",
            "Epoch   7: Training Loss = 0.53327  Validation Loss = 0.77419 f1= 0.68011\n",
            "\n",
            "         precision\t  recall\t   f1\t    \tsupport\n",
            "---------------------------------------------------------------\n",
            "label 0 | 79.0374\t 69.3897\t 73.9000\t 1065\n",
            "label 1 | 50.5682\t 30.0676\t 37.7119\t 296\n",
            "label 2 | 61.8275\t 78.6102\t 69.2161\t 921\n",
            "micro   | 68.0105\t 68.0105\t 68.0105\t -\n",
            "[0.739      0.37711864 0.69216061]\n",
            "num_layers: 3,hidden_size: 32, batch_size: 64, dropout: 0.0, attention: False\n",
            "Epoch   0: Training Loss = 0.83768  Validation Loss = 0.77917 f1= 0.66959\n",
            "Epoch   1: Training Loss = 0.71542  Validation Loss = 0.70337 f1= 0.67309\n",
            "Epoch   2: Training Loss = 0.65049  Validation Loss = 0.70343 f1= 0.69369\n",
            "Epoch   3: Training Loss = 0.59763  Validation Loss = 0.72049 f1= 0.68405\n",
            "Epoch   4: Training Loss = 0.55272  Validation Loss = 0.73351 f1= 0.68580\n",
            "Epoch   5: Training Loss = 0.52668  Validation Loss = 0.75537 f1= 0.67748\n",
            "Epoch   6: Training Loss = 0.50329  Validation Loss = 0.74734 f1= 0.69062\n",
            "Epoch   7: Training Loss = 0.47884  Validation Loss = 0.77337 f1= 0.69763\n",
            "\n",
            "         precision\t  recall\t   f1\t    \tsupport\n",
            "---------------------------------------------------------------\n",
            "label 0 | 78.9527\t 73.6150\t 76.1905\t 1065\n",
            "label 1 | 50.5495\t 46.6216\t 48.5062\t 296\n",
            "label 2 | 65.9449\t 72.7470\t 69.1791\t 921\n",
            "micro   | 69.7634\t 69.7634\t 69.7634\t -\n",
            "[0.76190476 0.48506151 0.69179143]\n",
            "num_layers: 3,hidden_size: 32, batch_size: 64, dropout: 0.0, attention: True\n",
            "Epoch   0: Training Loss = 0.75485  Validation Loss = 0.72370 f1= 0.68186\n",
            "Epoch   1: Training Loss = 0.65670  Validation Loss = 0.70115 f1= 0.69588\n",
            "Epoch   2: Training Loss = 0.58750  Validation Loss = 0.70514 f1= 0.70333\n",
            "Epoch   3: Training Loss = 0.52750  Validation Loss = 0.73863 f1= 0.68931\n"
          ]
        }
      ]
    },
    {
      "cell_type": "code",
      "source": [
        "print(params, loss)"
      ],
      "metadata": {
        "id": "bDtKeg5xMwGd"
      },
      "execution_count": null,
      "outputs": []
    },
    {
      "cell_type": "markdown",
      "metadata": {
        "id": "9DCj0ZOdKigS"
      },
      "source": [
        "## Confusion Matrix"
      ]
    },
    {
      "cell_type": "code",
      "execution_count": 40,
      "metadata": {
        "id": "EpcCOTShpJAX",
        "colab": {
          "base_uri": "https://localhost:8080/",
          "height": 278
        },
        "outputId": "a7c594f2-1c63-4f76-b515-41c33fbaefee"
      },
      "outputs": [
        {
          "output_type": "display_data",
          "data": {
            "image/png": "[encoded data removed]",
            "text/plain": [
              "<Figure size 432x288 with 2 Axes>"
            ]
          },
          "metadata": {
            "needs_background": "light"
          }
        }
      ],
      "source": [
        "ConfusionMatrixDisplay.from_predictions(Y_test, y_pred, cmap=plt.cm.pink)  \n",
        "plt.show()"
      ]
    },
    {
      "cell_type": "markdown",
      "metadata": {
        "id": "jdKeffHHKFkJ"
      },
      "source": [
        "## Learning Curves"
      ]
    },
    {
      "cell_type": "code",
      "execution_count": 41,
      "metadata": {
        "id": "uc-F-ub8FXKO",
        "colab": {
          "base_uri": "https://localhost:8080/",
          "height": 315
        },
        "outputId": "2603bc8b-9167-4c82-8a30-04ae457fd60b"
      },
      "outputs": [
        {
          "output_type": "stream",
          "name": "stdout",
          "text": [
            "[0.7625582237243652, 0.6472433953285217, 0.5724480683803559]\n",
            "[0.6862345933914185, 0.6652163863182068, 0.6738044023513794]\n"
          ]
        },
        {
          "output_type": "display_data",
          "data": {
            "image/png": "[encoded data removed]",
            "text/plain": [
              "<Figure size 432x288 with 1 Axes>"
            ]
          },
          "metadata": {
            "needs_background": "light"
          }
        }
      ],
      "source": [
        "# plot\n",
        "print(epoch_loss)\n",
        "print(validation_loss)\n",
        "fig, ax = plt.subplots()\n",
        "ax.plot(np.arange(epochs), validation_loss, color=\"pink\", lw=2, label='validation')\n",
        "ax.plot(np.arange(epochs), epoch_loss, color=\"b\", lw=2, label='training')\n",
        "\n",
        "ax.set_xlabel('Epochs')\n",
        "ax.set_ylabel('Cross Entropy Loss')\n",
        "\n",
        "ax.grid()\n",
        "ax.legend(loc=0)\n",
        "plt.show()\n",
        "  "
      ]
    },
    {
      "cell_type": "code",
      "execution_count": 42,
      "metadata": {
        "id": "ecDEwd5B_Rk_",
        "colab": {
          "base_uri": "https://localhost:8080/",
          "height": 531
        },
        "outputId": "d4383bb4-58a1-4cd8-e3ac-1657fa7ca539"
      },
      "outputs": [
        {
          "output_type": "stream",
          "name": "stderr",
          "text": [
            "/usr/local/lib/python3.7/dist-packages/ipykernel_launcher.py:30: DeprecationWarning: scipy.interp is deprecated and will be removed in SciPy 2.0.0, use numpy.interp instead\n"
          ]
        },
        {
          "output_type": "display_data",
          "data": {
            "image/png": "[encoded data removed]",
            "text/plain": [
              "<Figure size 576x576 with 1 Axes>"
            ]
          },
          "metadata": {
            "needs_background": "light"
          }
        }
      ],
      "source": [
        "# CODE FROM https://scikit-learn.org/stable/auto_examples/model_selection/plot_roc.html\n",
        "\n",
        "if device==torch.device(\"cuda\"):\n",
        "  y_score = scores.detach().cpu().numpy()\n",
        "else:\n",
        "  y_score = scores.detach().numpy()\n",
        "\n",
        "y_test = np.array(pd.get_dummies(Y_test))\n",
        "n_classes = 3\n",
        "\n",
        "# Compute ROC curve and ROC area for each class\n",
        "fpr = dict()\n",
        "tpr = dict()\n",
        "roc_auc = dict()\n",
        "for i in range(n_classes):\n",
        "    fpr[i], tpr[i], _ = roc_curve(y_test[:, i], y_score[:, i])\n",
        "    roc_auc[i] = auc(fpr[i], tpr[i])\n",
        "\n",
        "# Compute micro-average ROC curve and ROC area\n",
        "fpr[\"micro\"], tpr[\"micro\"], _ = roc_curve(y_test.ravel(), y_score.ravel())\n",
        "roc_auc[\"micro\"] = auc(fpr[\"micro\"], tpr[\"micro\"])\n",
        "################################################################################\n",
        "\n",
        "# First aggregate all false positive rates\n",
        "all_fpr = np.unique(np.concatenate([fpr[i] for i in range(n_classes)]))\n",
        "\n",
        "# Then interpolate all ROC curves at this points\n",
        "mean_tpr = np.zeros_like(all_fpr)\n",
        "for i in range(n_classes):\n",
        "    mean_tpr += interp(all_fpr, fpr[i], tpr[i])\n",
        "\n",
        "# Finally average it and compute AUC\n",
        "mean_tpr /= n_classes\n",
        "\n",
        "fpr[\"macro\"] = all_fpr\n",
        "tpr[\"macro\"] = mean_tpr\n",
        "roc_auc[\"macro\"] = auc(fpr[\"macro\"], tpr[\"macro\"])\n",
        "\n",
        "# Plot all ROC curves\n",
        "plt.figure(figsize=(8,8))\n",
        "plt.plot(\n",
        "    fpr[\"micro\"],\n",
        "    tpr[\"micro\"],\n",
        "    label=\"micro-average ROC curve (area = {0:0.2f})\".format(roc_auc[\"micro\"]),\n",
        "    color=\"deeppink\",\n",
        "    linestyle=\":\",\n",
        "    linewidth=4,\n",
        ")\n",
        "\n",
        "plt.plot(\n",
        "    fpr[\"macro\"],\n",
        "    tpr[\"macro\"],\n",
        "    label=\"macro-average ROC curve (area = {0:0.2f})\".format(roc_auc[\"macro\"]),\n",
        "    color=\"navy\",\n",
        "    linestyle=\":\",\n",
        "    linewidth=4,\n",
        ")\n",
        "\n",
        "colors = cycle([\"aqua\", \"darkorange\", \"cornflowerblue\"])\n",
        "for i, color in zip(range(n_classes), colors):\n",
        "    plt.plot(\n",
        "        fpr[i],\n",
        "        tpr[i],\n",
        "        color=color,\n",
        "        lw=3,\n",
        "        label=\"ROC curve of class {0} (area = {1:0.2f})\".format(i, roc_auc[i]),\n",
        "    )\n",
        "\n",
        "plt.plot([0, 1], [0, 1], \"k--\", lw=3)\n",
        "plt.xlim([0.0, 1.0])\n",
        "plt.ylim([0.0, 1.05])\n",
        "plt.xlabel(\"False Positive Rate\")\n",
        "plt.ylabel(\"True Positive Rate\")\n",
        "plt.title(\"Some extension of Receiver operating characteristic to multiclass\")\n",
        "plt.legend(loc=\"lower right\")\n",
        "plt.show()"
      ]
    },
    {
      "cell_type": "markdown",
      "source": [
        "## Dynamic length of sequences\n",
        "\n",
        "Using bucket iterator for dataloader and an embedding layer in our models."
      ],
      "metadata": {
        "id": "Qz1QIYvfu4cE"
      }
    },
    {
      "cell_type": "markdown",
      "source": [
        "First, I am going to redefine the models to add the embedding layer and to make it compatible with the batches for BucketIteratot."
      ],
      "metadata": {
        "id": "bS29vr0zdCDz"
      }
    },
    {
      "cell_type": "code",
      "source": [
        "# Create a bidirectional LSTM\n",
        "class BRNN2(nn.Module):\n",
        "    def __init__(self, input_size, hidden_size, num_layers, num_classes, cell, embedding, dropout=0.3, attention=True):\n",
        "        super(BRNN2, self).__init__()\n",
        "        self.hidden_size = hidden_size\n",
        "        self.num_layers = num_layers\n",
        "        self.cell = cell\n",
        "        self.bidirectional = True\n",
        "        self.embedding = nn.Embedding.from_pretrained(torch.FloatTensor(embedding))\n",
        "        self.attention = attention\n",
        "        self.scale = 1. / math.sqrt(hidden_size)\n",
        "        if (cell == 'LSTM'):\n",
        "          self.rnn = nn.LSTM(\n",
        "              input_size, hidden_size, num_layers, bidirectional=True, dropout=dropout\n",
        "          )\n",
        "        else:\n",
        "          self.rnn = nn.GRU(\n",
        "              input_size, hidden_size, num_layers, bidirectional=True, dropout=dropout\n",
        "          )\n",
        "        self.fc = nn.Linear(hidden_size * 2, num_classes)\n",
        "\n",
        "    def forward(self, x):\n",
        "        x = self.embedding(x)\n",
        "        if (self.cell == 'LSTM'):\n",
        "          out, hidden = self.rnn(x)\n",
        "          hidden = hidden[1]\n",
        "        else:\n",
        "          out, hidden = self.rnn(x)\n",
        "\n",
        "        if (self.attention==True):\n",
        "\n",
        "            if (self.bidirectional==True):\n",
        "                hidden = torch.cat([hidden[-1], hidden[-2]], dim=1) # concatinate the last 2 hidden cells (backward & forward)\n",
        "            else:\n",
        "                hidden = hidden[-1]\n",
        "\n",
        "            query = hidden.unsqueeze(1) # [BxQ] -> [Bx1xQ]\n",
        "            values = out\n",
        "            keys = out.transpose(0,1).transpose(1,2) # [BxTxK] -> [BxKxT]\n",
        "      \n",
        "            attention_scores = torch.bmm(query, out.transpose(0,1).transpose(1,2)) # [Bx1xQ]x[BxKxT] -> [Bx1xT]\n",
        "            attention_distribution = F.softmax(attention_scores.mul_(self.scale), dim=2) # scale, normalize\n",
        "\n",
        "            out = torch.bmm(attention_distribution, out.transpose(0,1)).squeeze(1) #[Bx1xT]x[BxTxV] -> [BxV]\n",
        "\n",
        "            out = self.fc(out)\n",
        "        else:\n",
        "\n",
        "            out = self.fc(out[-1, :, :])\n",
        "\n",
        "        return out"
      ],
      "metadata": {
        "id": "xZ7R-9TmGOCJ"
      },
      "execution_count": 43,
      "outputs": []
    },
    {
      "cell_type": "markdown",
      "source": [
        "Same for skip connections."
      ],
      "metadata": {
        "id": "1HNjuAs_dj2C"
      }
    },
    {
      "cell_type": "code",
      "source": [
        "class skipBRNN2(nn.Module):\n",
        "    def __init__(self, input_size, hidden_size, num_layers, num_classes, cell, embedding, attention=True):\n",
        "        super(skipBRNN2, self).__init__()\n",
        "        self.hidden_size = hidden_size\n",
        "        self.num_layers = num_layers\n",
        "        self.cell = cell\n",
        "        self.dropout = nn.Dropout(p=0.3)\n",
        "        self.embedding = nn.Embedding.from_pretrained(torch.FloatTensor(embedding))\n",
        "        self.attention = attention\n",
        "        self.bidirectional = True\n",
        "        self.scale = 1. / math.sqrt(hidden_size)\n",
        "        \n",
        "        if (cell == 'LSTM'):\n",
        "            rnn = nn.LSTM\n",
        "        else:\n",
        "            rnn = nn.GRU\n",
        "\n",
        "        self.rnns = nn.ModuleList()\n",
        "        for i in range(num_layers):\n",
        "            input_size = input_size if i == 0 else hidden_size*2\n",
        "            self.rnns.append(rnn(input_size, hidden_size, 1, bidirectional=True))\n",
        "        \n",
        "        self.fc = nn.Linear(hidden_size * 2, num_classes)\n",
        "\n",
        "    def forward(self, x):\n",
        "\n",
        "        sent_variable = self.embedding(x)\n",
        "        # print(\"after embedding\", sent_variable.shape)\n",
        "\n",
        "        # outputs = []\n",
        "        for i in range(self.num_layers):\n",
        "            if i != 0:\n",
        "                sent_variable = self.dropout(sent_variable.detach())\n",
        "            # print(i)\n",
        "            # print(\"rnn input:\" ,sent_variable.shape)\n",
        "            out, hidden = self.rnns[i](sent_variable.detach())\n",
        "            hidden = hidden[1]\n",
        "            # print(\"rnn output:\", out.shape)\n",
        "            # outputs.append(out)\n",
        "            # sent_variable = out\n",
        "            if i == 0:\n",
        "                sent_variable = out.detach()\n",
        "            sent_variable = torch.cat((sent_variable,out.detach()),dim=0)\n",
        "\n",
        "        if (self.attention==True):\n",
        "\n",
        "            if (self.bidirectional==True):\n",
        "                hidden = torch.cat([hidden[-1], hidden[-2]], dim=1) # concatinate the last 2 hidden cells (backward & forward)\n",
        "            else:\n",
        "                hidden = hidden[-1]\n",
        "\n",
        "            # print(\"hidden\", hidden.shape)\n",
        "            query = hidden.unsqueeze(1) # [BxQ] -> [Bx1xQ]\n",
        "            values = out\n",
        "            # print(\"query\", query.shape)\n",
        "            # print(\"keys\", out.shape)\n",
        "            keys = out.transpose(0,1).transpose(1,2) # [BxTxK] -> [BxKxT]\n",
        "            # print(\"keys\", keys.shape)\n",
        "            attention_scores = torch.bmm(query, out.transpose(0,1).transpose(1,2)) # [Bx1xQ]x[BxKxT] -> [Bx1xT]\n",
        "            attention_distribution = F.softmax(attention_scores.mul_(self.scale), dim=2) # scale, normalize\n",
        "\n",
        "            # out = out # [TxBxV] -> [BxTxV]\n",
        "            # print(\"values\", values.shape)\n",
        "            out = torch.bmm(attention_distribution, out.transpose(0,1)).squeeze(1) #[Bx1xT]x[BxTxV] -> [BxV]\n",
        "            # print(\"out\", out.shape)\n",
        "            out = self.fc(out)\n",
        "        else:\n",
        "            # print(\"out\", out[-1, :, :].shape)\n",
        "            out = self.fc(out[-1, :, :])\n",
        "\n",
        "        return out"
      ],
      "metadata": {
        "id": "pzJ4shSuo8z5"
      },
      "execution_count": 44,
      "outputs": []
    },
    {
      "cell_type": "markdown",
      "source": [
        "[link text](https://www.slideshare.net/fgodin/skip-residual-and-densely-connected-rnn-architectures)"
      ],
      "metadata": {
        "id": "2Gtogu00QYVh"
      }
    },
    {
      "cell_type": "markdown",
      "source": [
        "Load the vectors."
      ],
      "metadata": {
        "id": "djpztiHuE3ND"
      }
    },
    {
      "cell_type": "code",
      "execution_count": 45,
      "metadata": {
        "id": "4KYbNJ2Sze59",
        "colab": {
          "base_uri": "https://localhost:8080/"
        },
        "outputId": "51f8ff04-0538-479c-913a-f3fe5691a0aa"
      },
      "outputs": [
        {
          "output_type": "stream",
          "name": "stderr",
          "text": [
            "  0%|          | 0/1193514 [00:00<?, ?it/s]Skipping token b'1193514' with 1-dimensional vector [b'200']; likely a header\n",
            "100%|██████████| 1193514/1193514 [02:30<00:00, 7942.86it/s]\n"
          ]
        }
      ],
      "source": [
        "glove_vocab  = vocab.Vectors(r\"/content/drive/MyDrive/Colab Notebooks/Artificial Intelligence II/glove.twitter.27B.200d.txt.gz (Unzipped Files)/glove.twitter.27B.200d.txt\")"
      ]
    },
    {
      "cell_type": "markdown",
      "source": [
        "Create new datasets with only the useful columns."
      ],
      "metadata": {
        "id": "7WX54-fDE8Ky"
      }
    },
    {
      "cell_type": "code",
      "source": [
        "df_train_new = df_train.drop(columns=['tweet', 'features'])"
      ],
      "metadata": {
        "id": "kviQ0DeB4lZ_"
      },
      "execution_count": 73,
      "outputs": []
    },
    {
      "cell_type": "code",
      "source": [
        "df_test_new = df_test.drop(columns=['tweet', 'features'])"
      ],
      "metadata": {
        "id": "fEMf_Od14zf4"
      },
      "execution_count": 74,
      "outputs": []
    },
    {
      "cell_type": "markdown",
      "source": [
        "https://gmihaila.medium.com/better-batches-with-pytorchtext-bucketiterator-12804a545e2a"
      ],
      "metadata": {
        "id": "DejbauPJT-1s"
      }
    },
    {
      "cell_type": "markdown",
      "source": [
        "Create the dataloaders for batches."
      ],
      "metadata": {
        "id": "xFiFHNioFFTi"
      }
    },
    {
      "cell_type": "code",
      "source": [
        "random.setstate(random.getstate())\n",
        "text_field = Field(tokenize=nltk.word_tokenize,lower=True,sequential=True, fix_length=31) # tokenize text using word_tokenize and convert to numerical form using default parameters\n",
        "label_field = Field(sequential=False, use_vocab=False)\n",
        "\n",
        "fields = [('label',label_field),('clean_tweet',text_field)]\n",
        "\n",
        "preprocessed_text = df_train_new['clean_tweet'].apply(lambda x: text_field.preprocess(x))\n",
        "text_field.build_vocab(preprocessed_text,vectors=glove_vocab)\n",
        "\n",
        "train_dataset = Dataset(\n",
        "    examples=[Example.fromlist(list(r),fields) for i,r in df_train_new.iterrows()],\n",
        "    fields=fields)\n",
        "\n",
        "preprocessed_text_test = df_test_new['clean_tweet'].apply(lambda x: text_field.preprocess(x))\n",
        "text_field.build_vocab(preprocessed_text_test,vectors=glove_vocab)\n",
        "\n",
        "test_dataset = Dataset(\n",
        "    examples=[Example.fromlist(list(r),fields) for i,r in df_test_new.iterrows()],\n",
        "    fields=fields)\n",
        "\n"
      ],
      "metadata": {
        "id": "rruSfBwzOo4E"
      },
      "execution_count": 75,
      "outputs": []
    },
    {
      "cell_type": "code",
      "execution_count": 76,
      "metadata": {
        "id": "TR_hF6_U6T2W"
      },
      "outputs": [],
      "source": [
        "def train2(model, learning_rate, train_dataset, test_dataset, batch_size, epochs, device):\n",
        "    # Loss and optimizer\n",
        "    criterion = nn.CrossEntropyLoss()\n",
        "    optimizer = optim.Adam(model.parameters(), lr=learning_rate)\n",
        "\n",
        "    epoch_loss = []\n",
        "    validation_loss = []\n",
        "\n",
        "    train_loader, test_loader = BucketIterator.splits(\n",
        "        datasets=(train_dataset, test_dataset),         # Datasets for iterator to draw data from\n",
        "        batch_sizes=(batch_size, batch_size),           # Tuple of train and validation batch sizes.\n",
        "        sort=False,                                     # Sort all examples in data using `sort_key`.\n",
        "        device=device,                                  # Device to load batches on.\n",
        "        sort_key=lambda x: len(x.clean_tweet),     # Function to use for sorting examples.\n",
        "        shuffle=True,                                   # Shuffle data on each epoch run.\n",
        "        sort_within_batch=True                          # Use `sort_key` to sort examples in each batch.\n",
        "    )\n",
        "    # Train Network\n",
        "    for epoch in range(epochs):\n",
        "        model.train()\n",
        "        batch_losses = []\n",
        "        for batch in train_loader:\n",
        "\n",
        "            data = batch.clean_tweet\n",
        "            targets = batch.label\n",
        "\n",
        "            data = data.to(device=device).squeeze(1) # to device\n",
        "            targets = targets.to(device=device) # to device\n",
        "\n",
        "            # forward\n",
        "            scores = model(data)\n",
        "            loss = criterion(scores, targets)\n",
        "\n",
        "            batch_losses.append(loss.item())\n",
        "\n",
        "            # backward\n",
        "            optimizer.zero_grad()\n",
        "            loss.backward()\n",
        "\n",
        "            # Clip params\n",
        "            for param in model.parameters():\n",
        "                if param.grad is None:\n",
        "                    continue\n",
        "                grad_val = torch.clamp(param.grad, -5, 5)\n",
        "\n",
        "            # adam step\n",
        "            optimizer.step()\n",
        "            \n",
        "        epoch_loss.append(sum(batch_losses)/len(train_loader))\n",
        "        \n",
        "        model.eval()\n",
        "        batch_val_losses = []\n",
        "        with torch.no_grad():\n",
        "            for test_batch in test_loader:\n",
        "                x = test_batch.clean_tweet\n",
        "                y = test_batch.label\n",
        "                x = x.to(device=device).squeeze(1)\n",
        "                y = y.to(device=device)\n",
        "\n",
        "                scores = model(x)\n",
        "                loss = criterion(scores, y)\n",
        "\n",
        "                batch_val_losses.append(loss.item())\n",
        "\n",
        "            validation_loss.append(sum(batch_val_losses)/len(test_loader))\n",
        "\n",
        "        print(f\"Epoch {epoch:3}: Training Loss = {sum(batch_losses)/len(train_loader):.5f} Validation Loss = {validation_loss[epoch]:.5f}\")\n",
        "        # if (val_loss>validation_loss[epoch-1]+0.3): #early stopping\n",
        "        n_epochs = epoch+1\n",
        "        #     break \n",
        "\n",
        "    model.eval()\n",
        "    total_scores = torch.empty((0,3)).to(device=device)\n",
        "    labels = torch.empty((0)).to(device=device)\n",
        "\n",
        "    with torch.no_grad():\n",
        "        for test_batch in test_loader:\n",
        "            x = test_batch.clean_tweet.to(device=device).squeeze(1)\n",
        "            y = test_batch.label.to(device=device)\n",
        "\n",
        "            scores = model(x)\n",
        "\n",
        "            total_scores = torch.concat((total_scores, scores), 0)\n",
        "            labels = torch.concat((labels, y), 0)\n",
        "                    \n",
        "    _, y_pred = total_scores.max(1)\n",
        "\n",
        "    if device==torch.device(\"cuda\"):\n",
        "        y_pred =  y_pred.cpu()\n",
        "        labels = labels.cpu()\n",
        "\n",
        "    print(\"\")\n",
        "    precision, recall, f1, support = precision_recall_fscore_support(labels, y_pred)\n",
        "    print(f\"         precision\\t  recall\\t   f1\\t    \\tsupport\")\n",
        "    print(f\"--------------------------------------------------------------\")\n",
        "    print(f\"label 0 | {precision[0]*100:0.4f}\\t {recall[0]*100:0.4f}\\t {f1[0]*100:0.4f}\\t {support[0]}\")\n",
        "    print(f\"label 1 | {precision[1]*100:0.4f}\\t {recall[1]*100:0.4f}\\t {f1[1]*100:0.4f}\\t {support[1]}\")\n",
        "    print(f\"label 2 | {precision[2]*100:0.4f}\\t {recall[2]*100:0.4f}\\t {f1[2]*100:0.4f}\\t {support[2]}\")\n",
        "\n",
        "    average = precision_recall_fscore_support(labels, y_pred, average='micro')\n",
        "    print(f\"micro   | {average[0]*100:0.4f}\\t {average[1]*100:0.4f}\\t {average[2]*100:0.4f}\\t -\")\n",
        "\n",
        "    return epoch_loss, validation_loss, y_pred, scores\n"
      ]
    },
    {
      "cell_type": "markdown",
      "source": [
        "### Experimentation"
      ],
      "metadata": {
        "id": "srjH_Qk82Pwr"
      }
    },
    {
      "cell_type": "code",
      "source": [
        "set_seed()\n",
        "\n",
        "# Hyperparameters\n",
        "input_size = 200\n",
        "num_layers = 2\n",
        "hidden_size = 128\n",
        "num_classes = 3\n",
        "learning_rate = 0.01\n",
        "batch_size = 64\n",
        "cell = 'LSTM'\n",
        "epochs = 3\n",
        "\n",
        "# Initialize network\n",
        "embedding = text_field.vocab.vectors\n",
        "model = BRNN2(input_size, hidden_size, num_layers, num_classes, cell, embedding=embedding).to(device)\n",
        "epoch_loss, validation_loss, y_pred, scores = train2(model, learning_rate, train_dataset, test_dataset, batch_size, epochs, device)"
      ],
      "metadata": {
        "colab": {
          "base_uri": "https://localhost:8080/"
        },
        "id": "sY-qqtW2u9S2",
        "outputId": "0370881e-5fd6-4d7d-a0e9-3dfdaf4e4c54"
      },
      "execution_count": 77,
      "outputs": [
        {
          "output_type": "stream",
          "name": "stdout",
          "text": [
            "Epoch   0: Training Loss = 0.78514 Validation Loss = 0.69819\n",
            "Epoch   1: Training Loss = 0.66414 Validation Loss = 0.67816\n",
            "Epoch   2: Training Loss = 0.61838 Validation Loss = 0.66678\n",
            "\n",
            "         precision\t  recall\t   f1\t    \tsupport\n",
            "--------------------------------------------------------------\n",
            "label 0 | 80.6163\t 76.1502\t 78.3197\t 1065\n",
            "label 1 | 61.7143\t 36.4865\t 45.8599\t 296\n",
            "label 2 | 65.1226\t 77.8502\t 70.9199\t 921\n",
            "micro   | 71.6915\t 71.6915\t 71.6915\t -\n"
          ]
        }
      ]
    },
    {
      "cell_type": "markdown",
      "source": [
        "### Learning Curves"
      ],
      "metadata": {
        "id": "55ptIiC9bGY-"
      }
    },
    {
      "cell_type": "code",
      "source": [
        "# plot\n",
        "n_epochs = epochs\n",
        "print(epoch_loss)\n",
        "print(validation_loss)\n",
        "fig, ax = plt.subplots()\n",
        "ax.plot(np.arange(n_epochs), validation_loss, color=\"pink\", lw=2, label='validation')\n",
        "ax.plot(np.arange(n_epochs), epoch_loss, color=\"b\", lw=2, label='training')\n",
        "\n",
        "ax.set_xlabel('Epochs')\n",
        "ax.set_ylabel('Cross Entropy Loss')\n",
        "\n",
        "ax.grid()\n",
        "ax.legend(loc=0)\n",
        "plt.show()"
      ],
      "metadata": {
        "colab": {
          "base_uri": "https://localhost:8080/",
          "height": 315
        },
        "id": "Rr2Uzc48fBHD",
        "outputId": "ed233644-17f4-4020-ebc1-ca31bdbf5786"
      },
      "execution_count": 57,
      "outputs": [
        {
          "output_type": "stream",
          "name": "stdout",
          "text": [
            "[0.7851437726020813, 0.6641406098604202, 0.6183834091424942]\n",
            "[0.6981934772597419, 0.6781644307904773, 0.6667788525422415]\n"
          ]
        },
        {
          "output_type": "display_data",
          "data": {
            "image/png": "[encoded data removed]",
            "text/plain": [
              "<Figure size 432x288 with 1 Axes>"
            ]
          },
          "metadata": {
            "needs_background": "light"
          }
        }
      ]
    }
  ],
  "metadata": {
    "colab": {
      "collapsed_sections": [],
      "name": "AI2-HM3 bidirectional RNN with LSTM/GRU.ipynb",
      "provenance": [],
      "toc_visible": true,
      "authorship_tag": "ABX9TyN2pdsWAP9TCbKm+lEMokwW",
      "include_colab_link": true
    },
    "kernelspec": {
      "display_name": "Python 3",
      "name": "python3"
    },
    "language_info": {
      "name": "python"
    },
    "accelerator": "GPU"
  },
  "nbformat": 4,
  "nbformat_minor": 0
}