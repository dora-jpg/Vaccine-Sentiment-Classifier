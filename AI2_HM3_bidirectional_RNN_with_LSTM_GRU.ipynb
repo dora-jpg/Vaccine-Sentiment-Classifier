{
  "cells": [
    {
      "cell_type": "markdown",
      "metadata": {
        "id": "view-in-github",
        "colab_type": "text"
      },
      "source": [
        "<a href=\"https://colab.research.google.com/github/dora-jpg/Vaccine-Sentiment-Classifier/blob/main/AI2_HM3_bidirectional_RNN_with_LSTM_GRU.ipynb\" target=\"_parent\"><img src=\"https://colab.research.google.com/assets/colab-badge.svg\" alt=\"Open In Colab\"/></a>"
      ]
    },
    {
      "cell_type": "markdown",
      "metadata": {
        "id": "qLAaIaAE9z4D"
      },
      "source": [
        "# Artificial Intelligence II - Homework 3\n",
        "# 💉Vaccine sentiment classifier using bidirectional Recursive Neural Networks with LSTM/GRU."
      ]
    },
    {
      "cell_type": "markdown",
      "metadata": {
        "id": "ykBHfl_LJL-p"
      },
      "source": [
        "In this exercise we are going to develop a vaccine sentiment classifier that classifies tweets in pro-vax, anti-vax and neutral classes using bidirectional Recursive Neural Networks. I experimented with LSTM and GRU.\n",
        "For data preprocessing and feature extracting I experimented with a GloVe pretrained model. I used a simple preprocessing funtion that removes puctuation, html tags and urls. I kept emojis because I noticed that some of them are included in the pretrained glove model. I used the glove.twitter.27B.200d (in Homework 2 I used the glove.twitter.27B.50d). For exercise 2 I added an attention parameter to all implemented models that can be set True to activate it.\n"
      ]
    },
    {
      "cell_type": "markdown",
      "metadata": {
        "id": "NLs58fONFrG3"
      },
      "source": [
        "**Note:** \n",
        "I seeded numpy.random and torch.random in the cells that define each model so that I get the same results in every run and can compare scores.\n"
      ]
    },
    {
      "cell_type": "code",
      "execution_count": 1,
      "metadata": {
        "colab": {
          "base_uri": "https://localhost:8080/"
        },
        "id": "1i0cE5-17AUF",
        "outputId": "a4af45e4-4bda-4b1b-a118-d8e56fc120cd"
      },
      "outputs": [
        {
          "output_type": "stream",
          "name": "stdout",
          "text": [
            "Mounted at /content/drive\n"
          ]
        }
      ],
      "source": [
        "from google.colab import drive\n",
        "drive.mount('/content/drive')"
      ]
    },
    {
      "cell_type": "markdown",
      "metadata": {
        "id": "7g50JWXbB2ze"
      },
      "source": [
        "# Import Libraries and Read Datasets"
      ]
    },
    {
      "cell_type": "markdown",
      "source": [
        "Import libraries that will be used in this notebook, define a seeding function and set device to cuda if available.\n"
      ],
      "metadata": {
        "id": "rIUe14-z7O9q"
      }
    },
    {
      "cell_type": "code",
      "execution_count": 16,
      "metadata": {
        "colab": {
          "base_uri": "https://localhost:8080/"
        },
        "id": "A7j9F1YTMFuE",
        "outputId": "99c4e957-234d-411f-a016-fe2a39aa6ea0"
      },
      "outputs": [
        {
          "output_type": "stream",
          "name": "stdout",
          "text": [
            "[nltk_data] Downloading package stopwords to /root/nltk_data...\n",
            "[nltk_data]   Package stopwords is already up-to-date!\n",
            "[nltk_data] Downloading package punkt to /root/nltk_data...\n",
            "[nltk_data]   Unzipping tokenizers/punkt.zip.\n",
            "Requirement already satisfied: torchtext in /usr/local/lib/python3.7/dist-packages (0.11.0)\n",
            "Requirement already satisfied: requests in /usr/local/lib/python3.7/dist-packages (from torchtext) (2.23.0)\n",
            "Requirement already satisfied: tqdm in /usr/local/lib/python3.7/dist-packages (from torchtext) (4.62.3)\n",
            "Requirement already satisfied: numpy in /usr/local/lib/python3.7/dist-packages (from torchtext) (1.19.5)\n",
            "Requirement already satisfied: torch==1.10.0 in /usr/local/lib/python3.7/dist-packages (from torchtext) (1.10.0+cu111)\n",
            "Requirement already satisfied: typing-extensions in /usr/local/lib/python3.7/dist-packages (from torch==1.10.0->torchtext) (3.10.0.2)\n",
            "Requirement already satisfied: certifi>=2017.4.17 in /usr/local/lib/python3.7/dist-packages (from requests->torchtext) (2021.10.8)\n",
            "Requirement already satisfied: urllib3!=1.25.0,!=1.25.1,<1.26,>=1.21.1 in /usr/local/lib/python3.7/dist-packages (from requests->torchtext) (1.24.3)\n",
            "Requirement already satisfied: chardet<4,>=3.0.2 in /usr/local/lib/python3.7/dist-packages (from requests->torchtext) (3.0.4)\n",
            "Requirement already satisfied: idna<3,>=2.5 in /usr/local/lib/python3.7/dist-packages (from requests->torchtext) (2.10)\n",
            "Working on: cuda\n"
          ]
        }
      ],
      "source": [
        "# Imports\n",
        "import torch\n",
        "import torch.nn as nn\n",
        "import torch.nn.functional as F\n",
        "import torch.optim as optim\n",
        "import os\n",
        "\n",
        "import numpy as np\n",
        "import pandas as pd\n",
        "import math\n",
        "\n",
        "# Evaluation metrics\n",
        "from sklearn.metrics import f1_score\n",
        "from sklearn.metrics import accuracy_score\n",
        "from sklearn.metrics import precision_recall_fscore_support\n",
        "from sklearn.metrics import precision_score\n",
        "from sklearn.metrics import recall_score\n",
        "\n",
        "import matplotlib.pyplot as plt\n",
        "%matplotlib inline\n",
        "import sklearn.metrics\n",
        "import seaborn as sns\n",
        "import random\n",
        "import sys\n",
        "from IPython.display import Image\n",
        "\n",
        "# for text preprocessing\n",
        "import re\n",
        "import string\n",
        "from nltk.corpus import stopwords\n",
        "import nltk\n",
        "nltk.download(\"stopwords\")\n",
        "nltk.download('punkt')\n",
        "from nltk import word_tokenize\n",
        "\n",
        "# Batches\n",
        "!pip install torchtext\n",
        "from torchtext import vocab\n",
        "from torchtext.legacy.data import Field,Dataset,LabelField,BucketIterator\n",
        "from torchtext.legacy.data import Dataset, Example\n",
        "\n",
        "# Learning curves\n",
        "from itertools import cycle\n",
        "from sklearn.metrics import roc_curve, auc\n",
        "from sklearn.preprocessing import label_binarize\n",
        "from sklearn.multiclass import OneVsRestClassifier\n",
        "from scipy import interp\n",
        "from sklearn.metrics import roc_auc_score\n",
        "\n",
        "# Confusion Matrix\n",
        "from sklearn.metrics import ConfusionMatrixDisplay\n",
        "\n",
        "\n",
        "def set_seed(seed = 1234):\n",
        "    '''Sets the seed of the entire notebook so results are the same every time we run.\n",
        "    This is for REPRODUCIBILITY.'''\n",
        "    !CUBLAS_WORKSPACE_CONFIG=:4096:2 # for cuda deterministic behavior\n",
        "    np.random.seed(seed)\n",
        "    random.seed(seed)\n",
        "    torch.manual_seed(seed)\n",
        "    torch.cuda.manual_seed(seed)\n",
        "    # When running on the CuDNN backend, two further options must be set\n",
        "    torch.backends.cudnn.deterministic = True\n",
        "    torch.cuda.manual_seed_all(seed)\n",
        "    torch.backends.cudnn.enabled = False\n",
        "    torch.backends.cudnn.benchmark = False\n",
        "    # torch.use_deterministic_algorithms(False)\n",
        "    # Set a fixed value for the hash seed\n",
        "    os.environ['PYTHONHASHSEED'] = str(seed)\n",
        "    \n",
        "set_seed()\n",
        "\n",
        "# Set device\n",
        "device = torch.device(\"cuda\" if torch.cuda.is_available() else \"cpu\")\n",
        "\n",
        "print('Working on:', device)"
      ]
    },
    {
      "cell_type": "markdown",
      "metadata": {
        "id": "T3T_ITrECxKu"
      },
      "source": [
        "Read train and validation datasets."
      ]
    },
    {
      "cell_type": "code",
      "execution_count": 3,
      "metadata": {
        "id": "DCe_10itB0Pu"
      },
      "outputs": [],
      "source": [
        "df_train = pd.read_csv(\"/content/drive/MyDrive/Colab Notebooks/Artificial Intelligence II/vaccine_train_set.csv\")\n",
        "df_test = pd.read_csv(\"/content/drive/MyDrive/Colab Notebooks/Artificial Intelligence II/vaccine_validation_set.csv\")"
      ]
    },
    {
      "cell_type": "markdown",
      "metadata": {
        "id": "lA3NQAAuKwjf"
      },
      "source": [
        " We don't need the first column of the datasets because it is an index."
      ]
    },
    {
      "cell_type": "code",
      "execution_count": 4,
      "metadata": {
        "id": "qA3P1gymKEwR"
      },
      "outputs": [],
      "source": [
        "# get rid of first column\n",
        "df_train = df_train.iloc[: , 1:]\n",
        "df_test = df_test.iloc[: , 1:]"
      ]
    },
    {
      "cell_type": "code",
      "execution_count": 5,
      "metadata": {
        "colab": {
          "base_uri": "https://localhost:8080/",
          "height": 206
        },
        "id": "awuvFK_yCuAO",
        "outputId": "1a438ab0-1904-4cdc-d7d0-a097bcdebd42"
      },
      "outputs": [
        {
          "output_type": "display_data",
          "data": {
            "text/html": [
              "\n",
              "  <div id=\"df-0e5afaee-93d0-4be5-8215-bad2cfb5a26e\">\n",
              "    <div class=\"colab-df-container\">\n",
              "      <div>\n",
              "<style scoped>\n",
              "    .dataframe tbody tr th:only-of-type {\n",
              "        vertical-align: middle;\n",
              "    }\n",
              "\n",
              "    .dataframe tbody tr th {\n",
              "        vertical-align: top;\n",
              "    }\n",
              "\n",
              "    .dataframe thead th {\n",
              "        text-align: right;\n",
              "    }\n",
              "</style>\n",
              "<table border=\"1\" class=\"dataframe\">\n",
              "  <thead>\n",
              "    <tr style=\"text-align: right;\">\n",
              "      <th></th>\n",
              "      <th>tweet</th>\n",
              "      <th>label</th>\n",
              "    </tr>\n",
              "  </thead>\n",
              "  <tbody>\n",
              "    <tr>\n",
              "      <th>0</th>\n",
              "      <td>Sip N Shop Come thru right now #Marjais #Popul...</td>\n",
              "      <td>0</td>\n",
              "    </tr>\n",
              "    <tr>\n",
              "      <th>1</th>\n",
              "      <td>I don't know about you but My family and I wil...</td>\n",
              "      <td>1</td>\n",
              "    </tr>\n",
              "    <tr>\n",
              "      <th>2</th>\n",
              "      <td>@MSignorile Immunizations should be mandatory....</td>\n",
              "      <td>2</td>\n",
              "    </tr>\n",
              "    <tr>\n",
              "      <th>3</th>\n",
              "      <td>President Obama spoke in favor of vaccination ...</td>\n",
              "      <td>0</td>\n",
              "    </tr>\n",
              "    <tr>\n",
              "      <th>4</th>\n",
              "      <td>\"@myfoxla: Arizona monitoring hundreds for mea...</td>\n",
              "      <td>0</td>\n",
              "    </tr>\n",
              "  </tbody>\n",
              "</table>\n",
              "</div>\n",
              "      <button class=\"colab-df-convert\" onclick=\"convertToInteractive('df-0e5afaee-93d0-4be5-8215-bad2cfb5a26e')\"\n",
              "              title=\"Convert this dataframe to an interactive table.\"\n",
              "              style=\"display:none;\">\n",
              "        \n",
              "  <svg xmlns=\"http://www.w3.org/2000/svg\" height=\"24px\"viewBox=\"0 0 24 24\"\n",
              "       width=\"24px\">\n",
              "    <path d=\"M0 0h24v24H0V0z\" fill=\"none\"/>\n",
              "    <path d=\"M18.56 5.44l.94 2.06.94-2.06 2.06-.94-2.06-.94-.94-2.06-.94 2.06-2.06.94zm-11 1L8.5 8.5l.94-2.06 2.06-.94-2.06-.94L8.5 2.5l-.94 2.06-2.06.94zm10 10l.94 2.06.94-2.06 2.06-.94-2.06-.94-.94-2.06-.94 2.06-2.06.94z\"/><path d=\"M17.41 7.96l-1.37-1.37c-.4-.4-.92-.59-1.43-.59-.52 0-1.04.2-1.43.59L10.3 9.45l-7.72 7.72c-.78.78-.78 2.05 0 2.83L4 21.41c.39.39.9.59 1.41.59.51 0 1.02-.2 1.41-.59l7.78-7.78 2.81-2.81c.8-.78.8-2.07 0-2.86zM5.41 20L4 18.59l7.72-7.72 1.47 1.35L5.41 20z\"/>\n",
              "  </svg>\n",
              "      </button>\n",
              "      \n",
              "  <style>\n",
              "    .colab-df-container {\n",
              "      display:flex;\n",
              "      flex-wrap:wrap;\n",
              "      gap: 12px;\n",
              "    }\n",
              "\n",
              "    .colab-df-convert {\n",
              "      background-color: #E8F0FE;\n",
              "      border: none;\n",
              "      border-radius: 50%;\n",
              "      cursor: pointer;\n",
              "      display: none;\n",
              "      fill: #1967D2;\n",
              "      height: 32px;\n",
              "      padding: 0 0 0 0;\n",
              "      width: 32px;\n",
              "    }\n",
              "\n",
              "    .colab-df-convert:hover {\n",
              "      background-color: #E2EBFA;\n",
              "      box-shadow: 0px 1px 2px rgba(60, 64, 67, 0.3), 0px 1px 3px 1px rgba(60, 64, 67, 0.15);\n",
              "      fill: #174EA6;\n",
              "    }\n",
              "\n",
              "    [theme=dark] .colab-df-convert {\n",
              "      background-color: #3B4455;\n",
              "      fill: #D2E3FC;\n",
              "    }\n",
              "\n",
              "    [theme=dark] .colab-df-convert:hover {\n",
              "      background-color: #434B5C;\n",
              "      box-shadow: 0px 1px 3px 1px rgba(0, 0, 0, 0.15);\n",
              "      filter: drop-shadow(0px 1px 2px rgba(0, 0, 0, 0.3));\n",
              "      fill: #FFFFFF;\n",
              "    }\n",
              "  </style>\n",
              "\n",
              "      <script>\n",
              "        const buttonEl =\n",
              "          document.querySelector('#df-0e5afaee-93d0-4be5-8215-bad2cfb5a26e button.colab-df-convert');\n",
              "        buttonEl.style.display =\n",
              "          google.colab.kernel.accessAllowed ? 'block' : 'none';\n",
              "\n",
              "        async function convertToInteractive(key) {\n",
              "          const element = document.querySelector('#df-0e5afaee-93d0-4be5-8215-bad2cfb5a26e');\n",
              "          const dataTable =\n",
              "            await google.colab.kernel.invokeFunction('convertToInteractive',\n",
              "                                                     [key], {});\n",
              "          if (!dataTable) return;\n",
              "\n",
              "          const docLinkHtml = 'Like what you see? Visit the ' +\n",
              "            '<a target=\"_blank\" href=https://colab.research.google.com/notebooks/data_table.ipynb>data table notebook</a>'\n",
              "            + ' to learn more about interactive tables.';\n",
              "          element.innerHTML = '';\n",
              "          dataTable['output_type'] = 'display_data';\n",
              "          await google.colab.output.renderOutput(dataTable, element);\n",
              "          const docLink = document.createElement('div');\n",
              "          docLink.innerHTML = docLinkHtml;\n",
              "          element.appendChild(docLink);\n",
              "        }\n",
              "      </script>\n",
              "    </div>\n",
              "  </div>\n",
              "  "
            ],
            "text/plain": [
              "                                               tweet  label\n",
              "0  Sip N Shop Come thru right now #Marjais #Popul...      0\n",
              "1  I don't know about you but My family and I wil...      1\n",
              "2  @MSignorile Immunizations should be mandatory....      2\n",
              "3  President Obama spoke in favor of vaccination ...      0\n",
              "4  \"@myfoxla: Arizona monitoring hundreds for mea...      0"
            ]
          },
          "metadata": {}
        }
      ],
      "source": [
        "display(df_train.head())"
      ]
    },
    {
      "cell_type": "code",
      "execution_count": 6,
      "metadata": {
        "colab": {
          "base_uri": "https://localhost:8080/",
          "height": 206
        },
        "id": "1SCqSG05CMpd",
        "outputId": "e0165820-38b8-443c-f593-9f20a62308b3"
      },
      "outputs": [
        {
          "output_type": "display_data",
          "data": {
            "text/html": [
              "\n",
              "  <div id=\"df-19918255-2805-4d2f-abca-704482ecaea6\">\n",
              "    <div class=\"colab-df-container\">\n",
              "      <div>\n",
              "<style scoped>\n",
              "    .dataframe tbody tr th:only-of-type {\n",
              "        vertical-align: middle;\n",
              "    }\n",
              "\n",
              "    .dataframe tbody tr th {\n",
              "        vertical-align: top;\n",
              "    }\n",
              "\n",
              "    .dataframe thead th {\n",
              "        text-align: right;\n",
              "    }\n",
              "</style>\n",
              "<table border=\"1\" class=\"dataframe\">\n",
              "  <thead>\n",
              "    <tr style=\"text-align: right;\">\n",
              "      <th></th>\n",
              "      <th>tweet</th>\n",
              "      <th>label</th>\n",
              "    </tr>\n",
              "  </thead>\n",
              "  <tbody>\n",
              "    <tr>\n",
              "      <th>0</th>\n",
              "      <td>@user They had a massive surge in with covid d...</td>\n",
              "      <td>1</td>\n",
              "    </tr>\n",
              "    <tr>\n",
              "      <th>1</th>\n",
              "      <td>Required vaccines for school: Parents and guar...</td>\n",
              "      <td>0</td>\n",
              "    </tr>\n",
              "    <tr>\n",
              "      <th>2</th>\n",
              "      <td>“@KCStar: Two more Johnson County children hav...</td>\n",
              "      <td>0</td>\n",
              "    </tr>\n",
              "    <tr>\n",
              "      <th>3</th>\n",
              "      <td>NV can do better. Which states are the best (a...</td>\n",
              "      <td>2</td>\n",
              "    </tr>\n",
              "    <tr>\n",
              "      <th>4</th>\n",
              "      <td>Nothing like killing ourselves w/ our own fear...</td>\n",
              "      <td>2</td>\n",
              "    </tr>\n",
              "  </tbody>\n",
              "</table>\n",
              "</div>\n",
              "      <button class=\"colab-df-convert\" onclick=\"convertToInteractive('df-19918255-2805-4d2f-abca-704482ecaea6')\"\n",
              "              title=\"Convert this dataframe to an interactive table.\"\n",
              "              style=\"display:none;\">\n",
              "        \n",
              "  <svg xmlns=\"http://www.w3.org/2000/svg\" height=\"24px\"viewBox=\"0 0 24 24\"\n",
              "       width=\"24px\">\n",
              "    <path d=\"M0 0h24v24H0V0z\" fill=\"none\"/>\n",
              "    <path d=\"M18.56 5.44l.94 2.06.94-2.06 2.06-.94-2.06-.94-.94-2.06-.94 2.06-2.06.94zm-11 1L8.5 8.5l.94-2.06 2.06-.94-2.06-.94L8.5 2.5l-.94 2.06-2.06.94zm10 10l.94 2.06.94-2.06 2.06-.94-2.06-.94-.94-2.06-.94 2.06-2.06.94z\"/><path d=\"M17.41 7.96l-1.37-1.37c-.4-.4-.92-.59-1.43-.59-.52 0-1.04.2-1.43.59L10.3 9.45l-7.72 7.72c-.78.78-.78 2.05 0 2.83L4 21.41c.39.39.9.59 1.41.59.51 0 1.02-.2 1.41-.59l7.78-7.78 2.81-2.81c.8-.78.8-2.07 0-2.86zM5.41 20L4 18.59l7.72-7.72 1.47 1.35L5.41 20z\"/>\n",
              "  </svg>\n",
              "      </button>\n",
              "      \n",
              "  <style>\n",
              "    .colab-df-container {\n",
              "      display:flex;\n",
              "      flex-wrap:wrap;\n",
              "      gap: 12px;\n",
              "    }\n",
              "\n",
              "    .colab-df-convert {\n",
              "      background-color: #E8F0FE;\n",
              "      border: none;\n",
              "      border-radius: 50%;\n",
              "      cursor: pointer;\n",
              "      display: none;\n",
              "      fill: #1967D2;\n",
              "      height: 32px;\n",
              "      padding: 0 0 0 0;\n",
              "      width: 32px;\n",
              "    }\n",
              "\n",
              "    .colab-df-convert:hover {\n",
              "      background-color: #E2EBFA;\n",
              "      box-shadow: 0px 1px 2px rgba(60, 64, 67, 0.3), 0px 1px 3px 1px rgba(60, 64, 67, 0.15);\n",
              "      fill: #174EA6;\n",
              "    }\n",
              "\n",
              "    [theme=dark] .colab-df-convert {\n",
              "      background-color: #3B4455;\n",
              "      fill: #D2E3FC;\n",
              "    }\n",
              "\n",
              "    [theme=dark] .colab-df-convert:hover {\n",
              "      background-color: #434B5C;\n",
              "      box-shadow: 0px 1px 3px 1px rgba(0, 0, 0, 0.15);\n",
              "      filter: drop-shadow(0px 1px 2px rgba(0, 0, 0, 0.3));\n",
              "      fill: #FFFFFF;\n",
              "    }\n",
              "  </style>\n",
              "\n",
              "      <script>\n",
              "        const buttonEl =\n",
              "          document.querySelector('#df-19918255-2805-4d2f-abca-704482ecaea6 button.colab-df-convert');\n",
              "        buttonEl.style.display =\n",
              "          google.colab.kernel.accessAllowed ? 'block' : 'none';\n",
              "\n",
              "        async function convertToInteractive(key) {\n",
              "          const element = document.querySelector('#df-19918255-2805-4d2f-abca-704482ecaea6');\n",
              "          const dataTable =\n",
              "            await google.colab.kernel.invokeFunction('convertToInteractive',\n",
              "                                                     [key], {});\n",
              "          if (!dataTable) return;\n",
              "\n",
              "          const docLinkHtml = 'Like what you see? Visit the ' +\n",
              "            '<a target=\"_blank\" href=https://colab.research.google.com/notebooks/data_table.ipynb>data table notebook</a>'\n",
              "            + ' to learn more about interactive tables.';\n",
              "          element.innerHTML = '';\n",
              "          dataTable['output_type'] = 'display_data';\n",
              "          await google.colab.output.renderOutput(dataTable, element);\n",
              "          const docLink = document.createElement('div');\n",
              "          docLink.innerHTML = docLinkHtml;\n",
              "          element.appendChild(docLink);\n",
              "        }\n",
              "      </script>\n",
              "    </div>\n",
              "  </div>\n",
              "  "
            ],
            "text/plain": [
              "                                               tweet  label\n",
              "0  @user They had a massive surge in with covid d...      1\n",
              "1  Required vaccines for school: Parents and guar...      0\n",
              "2  “@KCStar: Two more Johnson County children hav...      0\n",
              "3  NV can do better. Which states are the best (a...      2\n",
              "4  Nothing like killing ourselves w/ our own fear...      2"
            ]
          },
          "metadata": {}
        }
      ],
      "source": [
        "display(df_test.head())"
      ]
    },
    {
      "cell_type": "markdown",
      "metadata": {
        "id": "22fsx7JjEMfF"
      },
      "source": [
        "# Data Pre-processing"
      ]
    },
    {
      "cell_type": "markdown",
      "metadata": {
        "id": "2qCtGlrAOjpT"
      },
      "source": [
        "## Data Cleaning\n"
      ]
    },
    {
      "cell_type": "markdown",
      "source": [
        "Cleaning involves convertion to lowercase, removal of urls, html tags, punctuation and stopwords. As a explained in the introduction, I decided to keep the emojis as they can show sentiment. "
      ],
      "metadata": {
        "id": "dt1FRrIF7voS"
      }
    },
    {
      "cell_type": "code",
      "execution_count": 7,
      "metadata": {
        "id": "bW2gJG0SlR81"
      },
      "outputs": [],
      "source": [
        "stop_words = stopwords.words(\"english\")\n",
        "\n",
        "def tweets_cleaning(x, remove_emojis=False, remove_stop_words=True):\n",
        "    \"\"\"Apply function to a clean a tweet\"\"\"\n",
        "    x = x.lower().strip()\n",
        "    # romove urls\n",
        "    url = re.compile(r'https?://\\S+|www\\.\\S+')\n",
        "    x = url.sub(r'',x)\n",
        "    # remove html tags\n",
        "    html = re.compile(r'<.*?>')\n",
        "    x = html.sub(r'',x)\n",
        "    # remove punctuation\n",
        "    operator = str.maketrans(' ',' ',string.punctuation)\n",
        "    x = x.translate(operator)\n",
        "    if remove_emojis:\n",
        "        x = x.encode('ascii', 'ignore').decode('utf8').strip()\n",
        "    if remove_stop_words:\n",
        "        x = ' '.join([word for word in x.split(' ') if word not in stop_words])\n",
        "    return x"
      ]
    },
    {
      "cell_type": "code",
      "execution_count": 8,
      "metadata": {
        "id": "7r9stfORI5rQ"
      },
      "outputs": [],
      "source": [
        "## APPLY the cleaning function to the text column\n",
        "df_train['clean_tweet'] = df_train['tweet'].apply(tweets_cleaning)\n",
        "df_test['clean_tweet'] = df_test['tweet'].apply(tweets_cleaning)"
      ]
    },
    {
      "cell_type": "code",
      "execution_count": 9,
      "metadata": {
        "id": "PRjL4WS3E4Jc"
      },
      "outputs": [],
      "source": [
        "Y_train = df_train['label'] #Only keep value\n",
        "Y_test = df_test['label'] #Only keep value"
      ]
    },
    {
      "cell_type": "code",
      "execution_count": 10,
      "metadata": {
        "colab": {
          "base_uri": "https://localhost:8080/"
        },
        "id": "hb_35RgUQJFf",
        "outputId": "263a9b08-3adb-42aa-bbd8-5774dc82a3c8"
      },
      "outputs": [
        {
          "output_type": "execute_result",
          "data": {
            "text/plain": [
              "0        sip n shop come thru right marjais popularnobo...\n",
              "1        dont know family take covid19 vaccine anytime ...\n",
              "2        msignorile immunizations mandatory period okla...\n",
              "3        president obama spoke favor vaccination childr...\n",
              "4        myfoxla arizona monitoring hundreds measles li...\n",
              "                               ...                        \n",
              "15971    salon u believe antivax nutcases caused measle...\n",
              "15972    feel parents dont vaccinate kids\\r\\n\\r\\nmeasle...\n",
              "15973          70 preschoolers tested measles simi valley \n",
              "15974    finance minister budget offers room procure co...\n",
              "15975    date vaccines take cdc’s vaccine quiz find vac...\n",
              "Name: clean_tweet, Length: 15976, dtype: object"
            ]
          },
          "metadata": {},
          "execution_count": 10
        }
      ],
      "source": [
        "df_train['clean_tweet']"
      ]
    },
    {
      "cell_type": "code",
      "execution_count": 11,
      "metadata": {
        "colab": {
          "base_uri": "https://localhost:8080/"
        },
        "id": "MgKREelmQM3f",
        "outputId": "b50252a1-a9f8-450d-a56f-b103bf173359"
      },
      "outputs": [
        {
          "output_type": "execute_result",
          "data": {
            "text/plain": [
              "0        sip n shop come thru right marjais popularnobo...\n",
              "1        dont know family take covid19 vaccine anytime ...\n",
              "2        msignorile immunizations mandatory period okla...\n",
              "3        president obama spoke favor vaccination childr...\n",
              "4        myfoxla arizona monitoring hundreds measles li...\n",
              "                               ...                        \n",
              "15971    salon u believe antivax nutcases caused measle...\n",
              "15972    feel parents dont vaccinate kids\\r\\n\\r\\nmeasle...\n",
              "15973          70 preschoolers tested measles simi valley \n",
              "15974    finance minister budget offers room procure co...\n",
              "15975    date vaccines take cdc’s vaccine quiz find vac...\n",
              "Name: clean_tweet, Length: 15976, dtype: object"
            ]
          },
          "metadata": {},
          "execution_count": 11
        }
      ],
      "source": [
        "df_train['clean_tweet']"
      ]
    },
    {
      "cell_type": "markdown",
      "metadata": {
        "id": "mMXtkwBrJtSi"
      },
      "source": [
        "Overview of label distribution"
      ]
    },
    {
      "cell_type": "code",
      "execution_count": 12,
      "metadata": {
        "colab": {
          "base_uri": "https://localhost:8080/"
        },
        "id": "dxpyM6vOHrRv",
        "outputId": "912be3be-16ee-4cf4-d7a3-13161a07d239"
      },
      "outputs": [
        {
          "output_type": "stream",
          "name": "stdout",
          "text": [
            "train data\n",
            "label 0: 7458\n",
            "label 1: 2073\n",
            "label 2: 6445\n",
            "validation data\n",
            "label 0: 1065\n",
            "label 1: 296\n",
            "label 2: 921\n"
          ]
        }
      ],
      "source": [
        "print(\"train data\")\n",
        "print(\"label 0:\",Y_train[Y_train== 0].count())\n",
        "print(\"label 1:\",Y_train[Y_train== 1].count())\n",
        "print(\"label 2:\",Y_train[Y_train== 2].count())\n",
        "print(\"validation data\")\n",
        "print(\"label 0:\",Y_test[Y_test== 0].count())\n",
        "print(\"label 1:\",Y_test[Y_test== 1].count())\n",
        "print(\"label 2:\",Y_test[Y_test== 2].count())"
      ]
    },
    {
      "cell_type": "code",
      "execution_count": 13,
      "metadata": {
        "colab": {
          "base_uri": "https://localhost:8080/",
          "height": 335
        },
        "id": "RKmLcKZYL34v",
        "outputId": "ae484cd6-bc4e-4e50-843c-ddaf6276b5e0"
      },
      "outputs": [
        {
          "output_type": "display_data",
          "data": {
            "image/png": "[encoded data removed]",
            "text/plain": [
              "<Figure size 432x288 with 1 Axes>"
            ]
          },
          "metadata": {
            "needs_background": "light"
          }
        }
      ],
      "source": [
        "fig = plt.figure()\n",
        "ax = fig.add_axes([0,0,1,1])\n",
        "labels = ['0', '1', '2']\n",
        "train = [Y_train[Y_train== 0].count(),Y_train[Y_train== 1].count(),Y_train[Y_train== 2].count()]\n",
        "test= [Y_test[Y_test== 0].count(),Y_test[Y_test== 1].count(),Y_test[Y_test== 2].count()]\n",
        "ax.bar(labels, train)\n",
        "ax.bar(labels, test)\n",
        "plt.show()"
      ]
    },
    {
      "cell_type": "markdown",
      "metadata": {
        "id": "_4Z0u5rJ0ToQ"
      },
      "source": [
        "Label 1 has very few instances so we expect that it has a lower score than the other 2 labels. "
      ]
    },
    {
      "cell_type": "markdown",
      "metadata": {
        "id": "b5Bc0vQAEvnD"
      },
      "source": [
        "# Features Extraction\n"
      ]
    },
    {
      "cell_type": "markdown",
      "metadata": {
        "id": "RKJyG0WzOUyb"
      },
      "source": [
        "## GloVe representation"
      ]
    },
    {
      "cell_type": "markdown",
      "source": [
        "### First Approach: Create fixed size vectors for glove"
      ],
      "metadata": {
        "id": "Lmju4O8y8yp4"
      }
    },
    {
      "cell_type": "markdown",
      "metadata": {
        "id": "0QS4tdTpGpkF"
      },
      "source": [
        "Load pre-trained GloVe vectors into a dictionary."
      ]
    },
    {
      "cell_type": "code",
      "execution_count": 14,
      "metadata": {
        "id": "Wc0NC0cvGov-"
      },
      "outputs": [],
      "source": [
        "embeddings_dict = {}\n",
        "with open(\"/content/drive/MyDrive/Colab Notebooks/Artificial Intelligence II/glove.twitter.27B.200d.txt.gz (Unzipped Files)/glove.twitter.27B.200d.txt\", 'r', encoding=\"utf-8\") as f:\n",
        "  for line in f:\n",
        "    values = line.split()\n",
        "    word = values[0]\n",
        "    vector = np.asarray(values[1:],'float32')\n",
        "    embeddings_dict[word]=vector"
      ]
    },
    {
      "cell_type": "markdown",
      "metadata": {
        "id": "s4lM2nRpj6ns"
      },
      "source": [
        "Find the vector for each word in each tweet. If the tweet has more words than the number specified by `padding` then cut the tweet there. If it has less words than `padding` number then add vectors with zeros. "
      ]
    },
    {
      "cell_type": "code",
      "execution_count": 17,
      "metadata": {
        "colab": {
          "base_uri": "https://localhost:8080/"
        },
        "id": "iWzahQgiaoQB",
        "outputId": "5aebd784-649a-4959-ac28-9ae9f31657d7"
      },
      "outputs": [
        {
          "output_type": "execute_result",
          "data": {
            "text/plain": [
              "0        [[-0.16063, -0.28647, -0.60789, 0.42767, -0.11...\n",
              "1        [[-0.33784, 0.54451, -0.1921, 0.43394, -0.4804...\n",
              "2        [[-0.33915, -0.28546, -0.26841, 0.014209, 0.23...\n",
              "3        [[0.34601, 0.30425, -0.098192, 0.08868, -0.359...\n",
              "4        [[0.2101, -0.21056, -0.36659, -0.37312, 0.0773...\n",
              "                               ...                        \n",
              "15971    [[0.15358, -0.30126, -0.3615, 0.24909, 0.72131...\n",
              "15972    [[0.061424, 0.42365, -0.13984, 0.26585, -0.215...\n",
              "15973    [[0.058755, 0.018929, 0.24508, 0.021967, -0.23...\n",
              "15974    [[0.14571, -0.31397, -0.39098, -0.16087, -0.02...\n",
              "15975    [[-0.48751, 0.11036, 0.16039, -0.15214, -0.217...\n",
              "Name: features, Length: 15976, dtype: object"
            ]
          },
          "metadata": {},
          "execution_count": 17
        }
      ],
      "source": [
        "def find_glove(text, padding=31):\n",
        "  tokens = word_tokenize(text.lower())\n",
        "  res = [ embeddings_dict[token] for token in tokens if (token in embeddings_dict) ]\n",
        "  res = res[:padding]\n",
        "  if len(res)<padding:\n",
        "    for i in range(padding-len(res)):\n",
        "      res.append(np.zeros(200))\n",
        "  return res\n",
        "\n",
        "df_train['features'] = df_train['clean_tweet'].apply(find_glove)\n",
        "df_test['features'] = df_test['clean_tweet'].apply(find_glove)\n",
        "df_train['features']"
      ]
    },
    {
      "cell_type": "markdown",
      "metadata": {
        "id": "sY44VnKTKVgc"
      },
      "source": [
        "# Bidirectional RNN"
      ]
    },
    {
      "cell_type": "markdown",
      "metadata": {
        "id": "R8cckzgBBcMR"
      },
      "source": [
        "## Fixed length of the sequences"
      ]
    },
    {
      "cell_type": "markdown",
      "source": [
        "A model that takes fixed size vectors as input."
      ],
      "metadata": {
        "id": "QPH5tRiCFO-a"
      }
    },
    {
      "cell_type": "code",
      "execution_count": 211,
      "metadata": {
        "id": "Ukzh_Wpm0Zrz"
      },
      "outputs": [],
      "source": [
        "class BRNN(nn.Module):\n",
        "    def __init__(self, input_size, hidden_size, num_layers, num_classes, cell, dropout=0.3, attention=True):\n",
        "        super(BRNN, self).__init__()\n",
        "        self.hidden_size = hidden_size\n",
        "        self.num_layers = num_layers\n",
        "        self.cell = cell\n",
        "        self.bidirectional = True\n",
        "        self.attention = attention\n",
        "        self.scale = 1. / math.sqrt(hidden_size)\n",
        "        if (cell == 'LSTM'):\n",
        "          self.rnn = nn.LSTM(\n",
        "              input_size, hidden_size, num_layers, batch_first=True, bidirectional=True, dropout=dropout\n",
        "          )\n",
        "        else:\n",
        "          self.rnn = nn.GRU(\n",
        "              input_size, hidden_size, num_layers, batch_first=True, bidirectional=True, dropout=dropout\n",
        "          )\n",
        "        self.fc = nn.Linear(hidden_size * 2, num_classes)\n",
        "\n",
        "    def forward(self, x):\n",
        "\n",
        "        if (self.cell == 'LSTM'):\n",
        "          out, hidden = self.rnn(x)\n",
        "          hidden = hidden[1]\n",
        "        else:\n",
        "          out, hidden = self.rnn(x)\n",
        "\n",
        "        if (self.attention==True):\n",
        "            # print(\"hi\")\n",
        "            if (self.bidirectional==True):\n",
        "                hidden = torch.cat([hidden[-1], hidden[-2]], dim=1) # concatinate the last 2 hidden cells (backward & forward)\n",
        "            else:\n",
        "                hidden = hidden[-1]\n",
        "\n",
        "            query = hidden.unsqueeze(1) # [BxQ] -> [Bx1xQ]\n",
        "            values = out\n",
        "            # print(\"query\", query.shape)\n",
        "            # print(\"keys\", keys.shape)\n",
        "            # keys = out.transpose(1,2) # [BxTxK] -> [BxKxT]\n",
        "            # print(\"keys\", keys.shape)\n",
        "            attention_scores = torch.bmm(query, out.transpose(1,2)) # [Bx1xQ]x[BxKxT] -> [Bx1xT]\n",
        "            attention_distribution = F.softmax(attention_scores.mul_(self.scale), dim=2) # scale, normalize\n",
        "\n",
        "            # out = out # [TxBxV] -> [BxTxV]\n",
        "            # print(\"values\", values.shape)\n",
        "            out = torch.bmm(attention_distribution, out).squeeze(1) #[Bx1xT]x[BxTxV] -> [BxV]\n",
        "\n",
        "            out = self.fc(out)\n",
        "        else:\n",
        "            out = self.fc(out[:, -1, :])\n",
        "        \n",
        "        return out"
      ]
    },
    {
      "cell_type": "markdown",
      "source": [
        "For skip connections, I had to re-define the model to keep the output of each layer of the stacked rnn."
      ],
      "metadata": {
        "id": "XSBFv7TmikYN"
      }
    },
    {
      "cell_type": "code",
      "source": [
        "class skipBRNN(nn.Module):\n",
        "    def __init__(self, input_size, hidden_size, num_layers, num_classes, cell, dropout=0.3, attention=True):\n",
        "        super(skipBRNN, self).__init__()\n",
        "        self.hidden_size = hidden_size\n",
        "        self.num_layers = num_layers\n",
        "        self.cell = cell\n",
        "        self.dropout = nn.Dropout(p=dropout)\n",
        "        self.attention = attention\n",
        "        self.bidirectional = True\n",
        "        self.scale = 1. / math.sqrt(hidden_size)\n",
        "        \n",
        "        if (cell == 'LSTM'):\n",
        "            rnn = nn.LSTM\n",
        "        else:\n",
        "            rnn = nn.GRU\n",
        "\n",
        "        self.rnns = nn.ModuleList()\n",
        "        for i in range(num_layers):\n",
        "            input_size = input_size if i == 0 else hidden_size*2\n",
        "            self.rnns.append(rnn(input_size, hidden_size, 1, batch_first=True, bidirectional=True))\n",
        "        \n",
        "        self.fc = nn.Linear(hidden_size * 2, num_classes)\n",
        "\n",
        "    def forward(self, x):\n",
        "\n",
        "        sent_variable = x\n",
        "\n",
        "        for i in range(self.num_layers):\n",
        "            if i != 0:\n",
        "                sent_variable = self.dropout(sent_variable.detach())\n",
        "\n",
        "            out, hidden = self.rnns[i](sent_variable.detach())\n",
        "            hidden = hidden[1]\n",
        "\n",
        "            if i == 0:\n",
        "                sent_variable = out.detach()\n",
        "\n",
        "            sent_variable = torch.cat((sent_variable,out.detach()),dim=1)\n",
        "\n",
        "        if (self.attention==True):\n",
        "            # print(\"hi\")\n",
        "            if (self.bidirectional==True):\n",
        "                hidden = torch.cat([hidden[-1], hidden[-2]], dim=1) # concatinate the last 2 hidden cells (backward & forward)\n",
        "            else:\n",
        "                hidden = hidden[-1]\n",
        "\n",
        "            query = hidden.unsqueeze(1) # [BxQ] -> [Bx1xQ]\n",
        "            values = out\n",
        "\n",
        "            attention_scores = torch.bmm(query, out.transpose(1,2)) # [Bx1xQ]x[BxKxT] -> [Bx1xT]\n",
        "            attention_distribution = F.softmax(attention_scores.mul_(self.scale), dim=2) # scale, normalize\n",
        "\n",
        "            out = torch.bmm(attention_distribution, out).squeeze(1) #[Bx1xT]x[BxTxV] -> [BxV]\n",
        "\n",
        "            out = self.fc(out)\n",
        "        else:\n",
        "            out = self.fc(out[:, -1, :])\n",
        "\n",
        "        return out"
      ],
      "metadata": {
        "id": "qG8rdr9SG9Zg"
      },
      "execution_count": 212,
      "outputs": []
    },
    {
      "cell_type": "code",
      "source": [
        "# Hyperparameters\n",
        "input_size = 200\n",
        "num_layers = 2\n",
        "hidden_size = 32\n",
        "num_classes = 3\n",
        "batch_size = 128\n",
        "cell = 'LSTM'\n",
        "dropout = 0.3\n",
        "\n",
        "epochs = 3\n",
        "learning_rate = 0.01\n"
      ],
      "metadata": {
        "id": "N8_jwXKOYh76"
      },
      "execution_count": 216,
      "outputs": []
    },
    {
      "cell_type": "markdown",
      "source": [
        "Create tensors and a train dataset to pass to dataloader.\n"
      ],
      "metadata": {
        "id": "E5b6HsR3Efqb"
      }
    },
    {
      "cell_type": "code",
      "source": [
        "x = torch.tensor(np.stack(df_train['features'], axis=0), dtype=torch.float)\n",
        "y = torch.tensor(np.stack(df_train['label'], axis=0), dtype=torch.long)\n",
        "\n",
        "print(f\"x shape: {x.shape}\")\n",
        "print(f\"y shape: {y.shape}\")\n",
        "\n",
        "dataset = torch.utils.data.TensorDataset(x, y)\n",
        "\n",
        "x_test = torch.tensor(np.stack(df_test['features'], axis=0), dtype=torch.float)\n",
        "y_test = torch.tensor(np.stack(df_test['label'], axis=0), dtype=torch.long)\n",
        "\n",
        "print(f\"x_test shape: {x_test.shape}\")\n",
        "print(f\"y_test shape: {y_test.shape}\")\n"
      ],
      "metadata": {
        "colab": {
          "base_uri": "https://localhost:8080/"
        },
        "id": "A1WcQYtxMAgT",
        "outputId": "fff5b271-e4cf-4266-8b66-1623cb417792"
      },
      "execution_count": 223,
      "outputs": [
        {
          "output_type": "stream",
          "name": "stdout",
          "text": [
            "x shape: torch.Size([15976, 31, 200])\n",
            "y shape: torch.Size([15976])\n",
            "x_test shape: torch.Size([2282, 31, 200])\n",
            "y_test shape: torch.Size([2282])\n"
          ]
        }
      ]
    },
    {
      "cell_type": "markdown",
      "source": [
        "Train the model."
      ],
      "metadata": {
        "id": "TCzldPsPEmMj"
      }
    },
    {
      "cell_type": "code",
      "execution_count": 236,
      "metadata": {
        "colab": {
          "base_uri": "https://localhost:8080/"
        },
        "id": "ZN3Vfva8Ou7o",
        "outputId": "286565ff-40d3-413c-87da-7d479a6a9bde"
      },
      "outputs": [
        {
          "output_type": "stream",
          "name": "stdout",
          "text": [
            "Epoch   0: Training Loss = 0.76465  Validation Loss = 0.69127\n",
            "Epoch   1: Training Loss = 0.64930  Validation Loss = 0.66975\n",
            "Epoch   2: Training Loss = 0.58006  Validation Loss = 0.66829\n"
          ]
        }
      ],
      "source": [
        "x_test = x_test.to(device=device).squeeze(1)\n",
        "y_test = y_test.to(device=device)\n",
        "\n",
        "set_seed() # for model and dataloader\n",
        "# Initialize network\n",
        "model = BRNN(input_size, hidden_size, num_layers, num_classes, cell, dropout=dropout, attention=True).to(device)\n",
        "\n",
        "# Loss and optimizer\n",
        "criterion = nn.CrossEntropyLoss()\n",
        "optimizer = optim.Adam(model.parameters(), lr=learning_rate)\n",
        "\n",
        "epoch_loss = []\n",
        "validation_loss = []\n",
        "\n",
        "# Train Network\n",
        "train_loader = torch.utils.data.DataLoader(dataset=dataset, batch_size=batch_size, shuffle=True, num_workers=0)\n",
        "for epoch in range(epochs):\n",
        "  model.train()\n",
        "  batch_losses = []\n",
        "  for batch_idx, (data, targets) in enumerate(train_loader):\n",
        "    # Get data to cuda if possible\n",
        "    data = data.to(device=device).squeeze(1)\n",
        "    targets = targets.to(device=device)\n",
        "\n",
        "    # forward\n",
        "    scores = model(data)\n",
        "    loss = criterion(scores, targets)\n",
        "\n",
        "    batch_losses.append(loss.item())\n",
        "\n",
        "    # backward\n",
        "    optimizer.zero_grad()\n",
        "    loss.backward()\n",
        "\n",
        "    # Clip params\n",
        "    for param in model.parameters():\n",
        "        if param.grad is None:\n",
        "            continue\n",
        "        grad_val = torch.clamp(param.grad, -5, 5)\n",
        "\n",
        "    # gradient descent or adam step\n",
        "    optimizer.step()\n",
        "      \n",
        "  epoch_loss.append(sum(batch_losses)/len(train_loader))\n",
        "  model.eval()\n",
        "  with torch.no_grad():\n",
        "    y_test_pred = model(x_test)\n",
        "\n",
        "  val_loss = criterion(y_test_pred, y_test)\n",
        "\n",
        "  validation_loss.append(val_loss.item())\n",
        "  print(f\"Epoch {epoch:3}: Training Loss = {sum(batch_losses)/len(train_loader):.5f}  Validation Loss = {validation_loss[epoch]:.5f}\")"
      ]
    },
    {
      "cell_type": "markdown",
      "source": [
        "Evaluate the model."
      ],
      "metadata": {
        "id": "_dXVej-uEq6L"
      }
    },
    {
      "cell_type": "code",
      "source": [
        "model.eval()\n",
        "\n",
        "with torch.no_grad():\n",
        "  scores = model(x_test)\n",
        "  _, y_pred = scores.max(1)\n",
        "\n",
        "if device==torch.device(\"cuda\"):\n",
        "   y_pred = y_pred.cpu()\n",
        "   \n",
        "precision, recall, f1, support = precision_recall_fscore_support(Y_test, y_pred)\n",
        "print(f\"         precision\\t  recall\\t   f1\\t    \\tsupport\")\n",
        "print(f\"--------------------------------------------------------------\")\n",
        "print(f\"label 0 | {precision[0]*100:0.4f}\\t {recall[0]*100:0.4f}\\t {f1[0]*100:0.4f}\\t {support[0]}\")\n",
        "print(f\"label 1 | {precision[1]*100:.4f}\\t {recall[1]*100:.4f}\\t {f1[1]*100:2.4f}\\t {support[1]}\")\n",
        "print(f\"label 2 | {precision[2]*100:0.4f}\\t {recall[2]*100:0.4f}\\t {f1[2]*100:0.4f}\\t {support[1]}\")\n",
        "\n",
        "average = precision_recall_fscore_support(Y_test, y_pred, average='micro')\n",
        "print(f\"micro   | {average[0]*100:0.4f}\\t {average[1]*100:0.4f}\\t {average[2]*100:0.4f}\\t -\")"
      ],
      "metadata": {
        "colab": {
          "base_uri": "https://localhost:8080/"
        },
        "id": "ovidnnbl5qm8",
        "outputId": "14f4ee17-a28b-48f7-80dc-cfa88bfec636"
      },
      "execution_count": 237,
      "outputs": [
        {
          "output_type": "stream",
          "name": "stdout",
          "text": [
            "         precision\t  recall\t   f1\t    \tsupport\n",
            "--------------------------------------------------------------\n",
            "label 0 | 81.9533\t 72.4883\t 76.9307\t 1065\n",
            "label 1 | 55.0459\t 40.5405\t 46.6926\t 296\n",
            "label 2 | 65.2406\t 79.4788\t 71.6593\t 296\n",
            "micro   | 71.1656\t 71.1656\t 71.1656\t -\n"
          ]
        }
      ]
    },
    {
      "cell_type": "markdown",
      "metadata": {
        "id": "9DCj0ZOdKigS"
      },
      "source": [
        "## Confusion Matrix"
      ]
    },
    {
      "cell_type": "code",
      "execution_count": 174,
      "metadata": {
        "id": "EpcCOTShpJAX",
        "colab": {
          "base_uri": "https://localhost:8080/",
          "height": 278
        },
        "outputId": "f671ad7c-221c-46c1-e86f-4ed34d63e62a"
      },
      "outputs": [
        {
          "output_type": "display_data",
          "data": {
            "image/png": "[encoded data removed]",
            "text/plain": [
              "<Figure size 432x288 with 2 Axes>"
            ]
          },
          "metadata": {
            "needs_background": "light"
          }
        }
      ],
      "source": [
        "ConfusionMatrixDisplay.from_predictions(Y_test, y_pred, cmap=plt.cm.pink)  \n",
        "plt.show()"
      ]
    },
    {
      "cell_type": "markdown",
      "metadata": {
        "id": "jdKeffHHKFkJ"
      },
      "source": [
        "## Learning Curves"
      ]
    },
    {
      "cell_type": "code",
      "execution_count": 175,
      "metadata": {
        "id": "uc-F-ub8FXKO",
        "colab": {
          "base_uri": "https://localhost:8080/",
          "height": 315
        },
        "outputId": "cb14245e-6e0a-42fa-d1d9-32fdf57468dc"
      },
      "outputs": [
        {
          "output_type": "stream",
          "name": "stdout",
          "text": [
            "[0.9174443197250366, 0.7635718874931335, 0.7108432874679566]\n",
            "[0.7881941199302673, 0.7393745183944702, 0.7010304927825928]\n"
          ]
        },
        {
          "output_type": "display_data",
          "data": {
            "image/png": "[encoded data removed]",
            "text/plain": [
              "<Figure size 432x288 with 1 Axes>"
            ]
          },
          "metadata": {
            "needs_background": "light"
          }
        }
      ],
      "source": [
        "# plot\n",
        "print(epoch_loss)\n",
        "print(validation_loss)\n",
        "fig, ax = plt.subplots()\n",
        "ax.plot(np.arange(epochs), validation_loss, color=\"pink\", lw=2, label='validation')\n",
        "ax.plot(np.arange(epochs), epoch_loss, color=\"b\", lw=2, label='training')\n",
        "\n",
        "ax.set_xlabel('Epochs')\n",
        "ax.set_ylabel('Cross Entropy Loss')\n",
        "\n",
        "ax.grid()\n",
        "ax.legend(loc=0)\n",
        "plt.show()\n",
        "  "
      ]
    },
    {
      "cell_type": "code",
      "execution_count": 176,
      "metadata": {
        "id": "ecDEwd5B_Rk_",
        "colab": {
          "base_uri": "https://localhost:8080/",
          "height": 531
        },
        "outputId": "9a489d25-2ecf-453f-c722-6c2bebe20b03"
      },
      "outputs": [
        {
          "output_type": "stream",
          "name": "stderr",
          "text": [
            "/usr/local/lib/python3.7/dist-packages/ipykernel_launcher.py:30: DeprecationWarning: scipy.interp is deprecated and will be removed in SciPy 2.0.0, use numpy.interp instead\n"
          ]
        },
        {
          "output_type": "display_data",
          "data": {
            "image/png": "[encoded data removed]",
            "text/plain": [
              "<Figure size 576x576 with 1 Axes>"
            ]
          },
          "metadata": {
            "needs_background": "light"
          }
        }
      ],
      "source": [
        "# CODE FROM https://scikit-learn.org/stable/auto_examples/model_selection/plot_roc.html\n",
        "\n",
        "if device==torch.device(\"cuda\"):\n",
        "  y_score = scores.detach().cpu().numpy()\n",
        "else:\n",
        "  y_score = scores.detach().numpy()\n",
        "\n",
        "y_test = np.array(pd.get_dummies(Y_test))\n",
        "n_classes = 3\n",
        "\n",
        "# Compute ROC curve and ROC area for each class\n",
        "fpr = dict()\n",
        "tpr = dict()\n",
        "roc_auc = dict()\n",
        "for i in range(n_classes):\n",
        "    fpr[i], tpr[i], _ = roc_curve(y_test[:, i], y_score[:, i])\n",
        "    roc_auc[i] = auc(fpr[i], tpr[i])\n",
        "\n",
        "# Compute micro-average ROC curve and ROC area\n",
        "fpr[\"micro\"], tpr[\"micro\"], _ = roc_curve(y_test.ravel(), y_score.ravel())\n",
        "roc_auc[\"micro\"] = auc(fpr[\"micro\"], tpr[\"micro\"])\n",
        "################################################################################\n",
        "\n",
        "# First aggregate all false positive rates\n",
        "all_fpr = np.unique(np.concatenate([fpr[i] for i in range(n_classes)]))\n",
        "\n",
        "# Then interpolate all ROC curves at this points\n",
        "mean_tpr = np.zeros_like(all_fpr)\n",
        "for i in range(n_classes):\n",
        "    mean_tpr += interp(all_fpr, fpr[i], tpr[i])\n",
        "\n",
        "# Finally average it and compute AUC\n",
        "mean_tpr /= n_classes\n",
        "\n",
        "fpr[\"macro\"] = all_fpr\n",
        "tpr[\"macro\"] = mean_tpr\n",
        "roc_auc[\"macro\"] = auc(fpr[\"macro\"], tpr[\"macro\"])\n",
        "\n",
        "# Plot all ROC curves\n",
        "plt.figure(figsize=(8,8))\n",
        "plt.plot(\n",
        "    fpr[\"micro\"],\n",
        "    tpr[\"micro\"],\n",
        "    label=\"micro-average ROC curve (area = {0:0.2f})\".format(roc_auc[\"micro\"]),\n",
        "    color=\"deeppink\",\n",
        "    linestyle=\":\",\n",
        "    linewidth=4,\n",
        ")\n",
        "\n",
        "plt.plot(\n",
        "    fpr[\"macro\"],\n",
        "    tpr[\"macro\"],\n",
        "    label=\"macro-average ROC curve (area = {0:0.2f})\".format(roc_auc[\"macro\"]),\n",
        "    color=\"navy\",\n",
        "    linestyle=\":\",\n",
        "    linewidth=4,\n",
        ")\n",
        "\n",
        "colors = cycle([\"aqua\", \"darkorange\", \"cornflowerblue\"])\n",
        "for i, color in zip(range(n_classes), colors):\n",
        "    plt.plot(\n",
        "        fpr[i],\n",
        "        tpr[i],\n",
        "        color=color,\n",
        "        lw=3,\n",
        "        label=\"ROC curve of class {0} (area = {1:0.2f})\".format(i, roc_auc[i]),\n",
        "    )\n",
        "\n",
        "plt.plot([0, 1], [0, 1], \"k--\", lw=3)\n",
        "plt.xlim([0.0, 1.0])\n",
        "plt.ylim([0.0, 1.05])\n",
        "plt.xlabel(\"False Positive Rate\")\n",
        "plt.ylabel(\"True Positive Rate\")\n",
        "plt.title(\"Some extension of Receiver operating characteristic to multiclass\")\n",
        "plt.legend(loc=\"lower right\")\n",
        "plt.show()"
      ]
    },
    {
      "cell_type": "markdown",
      "source": [
        "## Dynamic length of sequences\n",
        "\n",
        "Using bucket iterator for dataloader and an embedding layer in our models."
      ],
      "metadata": {
        "id": "Qz1QIYvfu4cE"
      }
    },
    {
      "cell_type": "markdown",
      "source": [
        "First, I am going to redefine the models to add the embedding layer and to make it compatible with the batches for BucketIteratot."
      ],
      "metadata": {
        "id": "bS29vr0zdCDz"
      }
    },
    {
      "cell_type": "code",
      "source": [
        "# Create a bidirectional LSTM\n",
        "class BRNN2(nn.Module):\n",
        "    def __init__(self, input_size, hidden_size, num_layers, num_classes, cell, embedding, dropout=0.3, attention=True):\n",
        "        super(BRNN2, self).__init__()\n",
        "        self.hidden_size = hidden_size\n",
        "        self.num_layers = num_layers\n",
        "        self.cell = cell\n",
        "        self.bidirectional = True\n",
        "        self.embedding = nn.Embedding.from_pretrained(torch.FloatTensor(embedding))\n",
        "        self.attention = attention\n",
        "        self.scale = 1. / math.sqrt(hidden_size)\n",
        "        if (cell == 'LSTM'):\n",
        "          self.rnn = nn.LSTM(\n",
        "              input_size, hidden_size, num_layers, bidirectional=True, dropout=dropout\n",
        "          )\n",
        "        else:\n",
        "          self.rnn = nn.GRU(\n",
        "              input_size, hidden_size, num_layers, bidirectional=True, dropout=dropout\n",
        "          )\n",
        "        self.fc = nn.Linear(hidden_size * 2, num_classes)\n",
        "\n",
        "    def forward(self, x):\n",
        "        x = self.embedding(x)\n",
        "        if (self.cell == 'LSTM'):\n",
        "          out, hidden = self.rnn(x)\n",
        "          hidden = hidden[1]\n",
        "        else:\n",
        "          out, hidden = self.rnn(x)\n",
        "\n",
        "        if (self.attention==True):\n",
        "\n",
        "            if (self.bidirectional==True):\n",
        "                hidden = torch.cat([hidden[-1], hidden[-2]], dim=1) # concatinate the last 2 hidden cells (backward & forward)\n",
        "            else:\n",
        "                hidden = hidden[-1]\n",
        "\n",
        "            query = hidden.unsqueeze(1) # [BxQ] -> [Bx1xQ]\n",
        "            values = out\n",
        "            keys = out.transpose(0,1).transpose(1,2) # [BxTxK] -> [BxKxT]\n",
        "      \n",
        "            attention_scores = torch.bmm(query, out.transpose(0,1).transpose(1,2)) # [Bx1xQ]x[BxKxT] -> [Bx1xT]\n",
        "            attention_distribution = F.softmax(attention_scores.mul_(self.scale), dim=2) # scale, normalize\n",
        "\n",
        "            out = torch.bmm(attention_distribution, out.transpose(0,1)).squeeze(1) #[Bx1xT]x[BxTxV] -> [BxV]\n",
        "\n",
        "            out = self.fc(out)\n",
        "        else:\n",
        "\n",
        "            out = self.fc(out[-1, :, :])\n",
        "\n",
        "        return out"
      ],
      "metadata": {
        "id": "xZ7R-9TmGOCJ"
      },
      "execution_count": 188,
      "outputs": []
    },
    {
      "cell_type": "markdown",
      "source": [
        "Same for skip connections."
      ],
      "metadata": {
        "id": "1HNjuAs_dj2C"
      }
    },
    {
      "cell_type": "code",
      "source": [
        "class skipBRNN2(nn.Module):\n",
        "    def __init__(self, input_size, hidden_size, num_layers, num_classes, cell, embedding, attention=True):\n",
        "        super(skipBRNN2, self).__init__()\n",
        "        self.hidden_size = hidden_size\n",
        "        self.num_layers = num_layers\n",
        "        self.cell = cell\n",
        "        self.dropout = nn.Dropout(p=0.3)\n",
        "        self.embedding = nn.Embedding.from_pretrained(torch.FloatTensor(embedding))\n",
        "        self.attention = attention\n",
        "        self.bidirectional = True\n",
        "        self.scale = 1. / math.sqrt(hidden_size)\n",
        "        \n",
        "        if (cell == 'LSTM'):\n",
        "            rnn = nn.LSTM\n",
        "        else:\n",
        "            rnn = nn.GRU\n",
        "\n",
        "        self.rnns = nn.ModuleList()\n",
        "        for i in range(num_layers):\n",
        "            input_size = input_size if i == 0 else hidden_size*2\n",
        "            self.rnns.append(rnn(input_size, hidden_size, 1, bidirectional=True))\n",
        "        \n",
        "        self.fc = nn.Linear(hidden_size * 2, num_classes)\n",
        "\n",
        "    def forward(self, x):\n",
        "\n",
        "        sent_variable = self.embedding(x)\n",
        "        # print(\"after embedding\", sent_variable.shape)\n",
        "\n",
        "        # outputs = []\n",
        "        for i in range(self.num_layers):\n",
        "            if i != 0:\n",
        "                sent_variable = self.dropout(sent_variable.detach())\n",
        "            # print(i)\n",
        "            # print(\"rnn input:\" ,sent_variable.shape)\n",
        "            out, hidden = self.rnns[i](sent_variable.detach())\n",
        "            hidden = hidden[1]\n",
        "            # print(\"rnn output:\", out.shape)\n",
        "            # outputs.append(out)\n",
        "            # sent_variable = out\n",
        "            if i == 0:\n",
        "                sent_variable = out.detach()\n",
        "            sent_variable = torch.cat((sent_variable,out.detach()),dim=0)\n",
        "\n",
        "        if (self.attention==True):\n",
        "\n",
        "            if (self.bidirectional==True):\n",
        "                hidden = torch.cat([hidden[-1], hidden[-2]], dim=1) # concatinate the last 2 hidden cells (backward & forward)\n",
        "            else:\n",
        "                hidden = hidden[-1]\n",
        "\n",
        "            # print(\"hidden\", hidden.shape)\n",
        "            query = hidden.unsqueeze(1) # [BxQ] -> [Bx1xQ]\n",
        "            values = out\n",
        "            # print(\"query\", query.shape)\n",
        "            # print(\"keys\", out.shape)\n",
        "            keys = out.transpose(0,1).transpose(1,2) # [BxTxK] -> [BxKxT]\n",
        "            # print(\"keys\", keys.shape)\n",
        "            attention_scores = torch.bmm(query, out.transpose(0,1).transpose(1,2)) # [Bx1xQ]x[BxKxT] -> [Bx1xT]\n",
        "            attention_distribution = F.softmax(attention_scores.mul_(self.scale), dim=2) # scale, normalize\n",
        "\n",
        "            # out = out # [TxBxV] -> [BxTxV]\n",
        "            # print(\"values\", values.shape)\n",
        "            out = torch.bmm(attention_distribution, out.transpose(0,1)).squeeze(1) #[Bx1xT]x[BxTxV] -> [BxV]\n",
        "            # print(\"out\", out.shape)\n",
        "            out = self.fc(out)\n",
        "        else:\n",
        "            # print(\"out\", out[-1, :, :].shape)\n",
        "            out = self.fc(out[-1, :, :])\n",
        "\n",
        "        return out"
      ],
      "metadata": {
        "id": "pzJ4shSuo8z5"
      },
      "execution_count": 184,
      "outputs": []
    },
    {
      "cell_type": "code",
      "execution_count": 239,
      "metadata": {
        "id": "F1TmyhKlpWQ3"
      },
      "outputs": [],
      "source": [
        "# Hyperparameters\n",
        "input_size = 200\n",
        "num_layers = 2\n",
        "hidden_size = 128\n",
        "num_classes = 3\n",
        "learning_rate = 0.01\n",
        "batch_size = 64\n",
        "cell = 'LSTM'\n",
        "epochs = 3"
      ]
    },
    {
      "cell_type": "markdown",
      "source": [
        "[link text](https://www.slideshare.net/fgodin/skip-residual-and-densely-connected-rnn-architectures)"
      ],
      "metadata": {
        "id": "2Gtogu00QYVh"
      }
    },
    {
      "cell_type": "markdown",
      "source": [
        "Load the vectors."
      ],
      "metadata": {
        "id": "djpztiHuE3ND"
      }
    },
    {
      "cell_type": "code",
      "execution_count": 196,
      "metadata": {
        "id": "4KYbNJ2Sze59"
      },
      "outputs": [],
      "source": [
        "glove_vocab  = vocab.Vectors(r\"/content/drive/MyDrive/Colab Notebooks/Artificial Intelligence II/glove.twitter.27B.200d.txt.gz (Unzipped Files)/glove.twitter.27B.200d.txt\")"
      ]
    },
    {
      "cell_type": "markdown",
      "source": [
        "Create new datasets with only the useful columns."
      ],
      "metadata": {
        "id": "7WX54-fDE8Ky"
      }
    },
    {
      "cell_type": "code",
      "source": [
        "train = df_train.drop(columns=['tweet', 'features'])"
      ],
      "metadata": {
        "id": "kviQ0DeB4lZ_"
      },
      "execution_count": 197,
      "outputs": []
    },
    {
      "cell_type": "code",
      "source": [
        "test = df_test.drop(columns=['tweet', 'features'])"
      ],
      "metadata": {
        "id": "fEMf_Od14zf4"
      },
      "execution_count": 198,
      "outputs": []
    },
    {
      "cell_type": "markdown",
      "source": [
        "https://gmihaila.medium.com/better-batches-with-pytorchtext-bucketiterator-12804a545e2a"
      ],
      "metadata": {
        "id": "DejbauPJT-1s"
      }
    },
    {
      "cell_type": "markdown",
      "source": [
        "Create the dataloaders for batches."
      ],
      "metadata": {
        "id": "xFiFHNioFFTi"
      }
    },
    {
      "cell_type": "code",
      "source": [
        "random.setstate(random.getstate())\n",
        "text_field = Field(tokenize=nltk.word_tokenize,lower=True,sequential=True, fix_length=31) # tokenize text using word_tokenize and convert to numerical form using default parameters\n",
        "label_field = Field(sequential=False, use_vocab=False)\n",
        "\n",
        "fields = [('label',label_field),('clean_tweet',text_field)]\n",
        "\n",
        "preprocessed_text = train['clean_tweet'].apply(lambda x: text_field.preprocess(x))\n",
        "text_field.build_vocab(preprocessed_text,vectors=glove_vocab)\n",
        "\n",
        "train_dataset = Dataset(\n",
        "    examples=[Example.fromlist(list(r),fields) for i,r in train.iterrows()],\n",
        "    fields=fields)\n",
        "\n",
        "preprocessed_text_test = test['clean_tweet'].apply(lambda x: text_field.preprocess(x))\n",
        "text_field.build_vocab(preprocessed_text_test,vectors=glove_vocab)\n",
        "\n",
        "test_dataset = Dataset(\n",
        "    examples=[Example.fromlist(list(r),fields) for i,r in test.iterrows()],\n",
        "    fields=fields)\n",
        "\n"
      ],
      "metadata": {
        "id": "rruSfBwzOo4E"
      },
      "execution_count": 240,
      "outputs": []
    },
    {
      "cell_type": "code",
      "execution_count": 243,
      "metadata": {
        "colab": {
          "base_uri": "https://localhost:8080/"
        },
        "outputId": "48930d58-1eda-470a-c229-893b69d41a6f",
        "id": "TR_hF6_U6T2W"
      },
      "outputs": [
        {
          "output_type": "stream",
          "name": "stdout",
          "text": [
            "Epoch   0: Training Loss = 0.77983 Validation Loss = 0.69560\n",
            "Epoch   1: Training Loss = 0.66414 Validation Loss = 0.67889\n",
            "Epoch   2: Training Loss = 0.59815 Validation Loss = 0.67603\n"
          ]
        }
      ],
      "source": [
        "set_seed()\n",
        "\n",
        "# Initialize network\n",
        "embedding = text_field.vocab.vectors\n",
        "model = BRNN2(input_size, hidden_size, num_layers, num_classes, cell, embedding=embedding).to(device)\n",
        "\n",
        "# Loss and optimizer\n",
        "criterion = nn.CrossEntropyLoss()\n",
        "optimizer = optim.Adam(model.parameters(), lr=learning_rate)\n",
        "\n",
        "epoch_loss = []\n",
        "validation_loss = []\n",
        "\n",
        "train_loader, test_loader = BucketIterator.splits(\n",
        "    datasets=(train_dataset, test_dataset),         # Datasets for iterator to draw data from\n",
        "    batch_sizes=(batch_size, batch_size),           # Tuple of train and validation batch sizes.\n",
        "    sort=False,                                     # Sort all examples in data using `sort_key`.\n",
        "    device=device,                                  # Device to load batches on.\n",
        "    sort_key=lambda x: len(x.clean_tweet),     # Function to use for sorting examples.\n",
        "    shuffle=True,                                   # Shuffle data on each epoch run.\n",
        "    sort_within_batch=True                          # Use `sort_key` to sort examples in each batch.\n",
        ")\n",
        "# Train Network\n",
        "for epoch in range(epochs):\n",
        "    model.train()\n",
        "    batch_losses = []\n",
        "    for batch in train_loader:\n",
        "\n",
        "        data = batch.clean_tweet\n",
        "        targets = batch.label\n",
        "\n",
        "        data = data.to(device=device).squeeze(1) # to device\n",
        "        targets = targets.to(device=device) # to device\n",
        "\n",
        "        # forward\n",
        "        scores = model(data)\n",
        "        loss = criterion(scores, targets)\n",
        "\n",
        "        batch_losses.append(loss.item())\n",
        "\n",
        "        # backward\n",
        "        optimizer.zero_grad()\n",
        "        loss.backward()\n",
        "\n",
        "        # Clip params\n",
        "        for param in model.parameters():\n",
        "            if param.grad is None:\n",
        "                continue\n",
        "            grad_val = torch.clamp(param.grad, -5, 5)\n",
        "\n",
        "        # adam step\n",
        "        optimizer.step()\n",
        "        \n",
        "    epoch_loss.append(sum(batch_losses)/len(train_loader))\n",
        "    \n",
        "    model.eval()\n",
        "    batch_val_losses = []\n",
        "    with torch.no_grad():\n",
        "        for test_batch in test_loader:\n",
        "            x = test_batch.clean_tweet\n",
        "            y = test_batch.label\n",
        "            x = x.to(device=device).squeeze(1)\n",
        "            y = y.to(device=device)\n",
        "\n",
        "            scores = model(x)\n",
        "            loss = criterion(scores, y)\n",
        "\n",
        "            batch_val_losses.append(loss.item())\n",
        "\n",
        "        validation_loss.append(sum(batch_val_losses)/len(test_loader))\n",
        "\n",
        "    print(f\"Epoch {epoch:3}: Training Loss = {sum(batch_losses)/len(train_loader):.5f} Validation Loss = {validation_loss[epoch]:.5f}\")\n",
        "    # if (val_loss>validation_loss[epoch-1]+0.3): #early stopping\n",
        "    n_epochs = epoch+1\n",
        "    #     break \n"
      ]
    },
    {
      "cell_type": "code",
      "source": [
        "model.eval()\n",
        "total_scores = torch.empty((0,3)).to(device=device)\n",
        "labels = torch.empty((0)).to(device=device)\n",
        "\n",
        "with torch.no_grad():\n",
        "  for test_batch in test_loader:\n",
        "    x = test_batch.clean_tweet.to(device=device).squeeze(1)\n",
        "    y = test_batch.label.to(device=device)\n",
        "\n",
        "    scores = model(x)\n",
        "\n",
        "    total_scores = torch.concat((total_scores, scores), 0)\n",
        "    labels = torch.concat((labels, y), 0)\n",
        "            \n",
        "_, y_pred = total_scores.max(1)\n",
        "\n",
        "if device==torch.device(\"cuda\"):\n",
        "    y_pred =  y_pred.cpu()\n",
        "    labels = labels.cpu()\n",
        "   \n",
        "precision, recall, f1, support = precision_recall_fscore_support(labels, y_pred)\n",
        "print(f\"         precision\\t  recall\\t   f1\\t    \\tsupport\")\n",
        "print(f\"--------------------------------------------------------------\")\n",
        "print(f\"label 0 | {precision[0]*100:0.4f}\\t {recall[0]*100:0.4f}\\t {f1[0]*100:0.4f}\\t {support[0]}\")\n",
        "print(f\"label 1 | {precision[1]*100:0.4f}\\t {recall[1]*100:0.4f}\\t {f1[1]*100:0.4f}\\t {support[1]}\")\n",
        "print(f\"label 2 | {precision[2]*100:0.4f}\\t {recall[2]*100:0.4f}\\t {f1[2]*100:0.4f}\\t {support[2]}\")\n",
        "\n",
        "average = precision_recall_fscore_support(labels, y_pred, average='micro')\n",
        "print(f\"micro   | {average[0]*100:0.4f}\\t {average[1]*100:0.4f}\\t {average[2]*100:0.4f}\\t -\")"
      ],
      "metadata": {
        "colab": {
          "base_uri": "https://localhost:8080/"
        },
        "outputId": "a85419c9-4130-442f-ccd1-e66d08a96fb9",
        "id": "1bJVc7Wr6T2X"
      },
      "execution_count": 244,
      "outputs": [
        {
          "output_type": "stream",
          "name": "stdout",
          "text": [
            "         precision\t  recall\t   f1\t    \tsupport\n",
            "--------------------------------------------------------------\n",
            "label 0 | 77.9245\t 77.5587\t 77.7412\t 1065\n",
            "label 1 | 56.5217\t 39.5270\t 46.5209\t 296\n",
            "label 2 | 66.6995\t 73.5071\t 69.9380\t 921\n",
            "micro   | 70.9904\t 70.9904\t 70.9904\t -\n"
          ]
        }
      ]
    },
    {
      "cell_type": "markdown",
      "source": [
        "### Learning Curves"
      ],
      "metadata": {
        "id": "55ptIiC9bGY-"
      }
    },
    {
      "cell_type": "code",
      "source": [
        "# plot\n",
        "n_epochs = epoch+1\n",
        "print(epoch_loss)\n",
        "print(validation_loss)\n",
        "fig, ax = plt.subplots()\n",
        "ax.plot(np.arange(n_epochs), validation_loss, color=\"pink\", lw=2, label='validation')\n",
        "ax.plot(np.arange(n_epochs), epoch_loss, color=\"b\", lw=2, label='training')\n",
        "\n",
        "ax.set_xlabel('Epochs')\n",
        "ax.set_ylabel('Cross Entropy Loss')\n",
        "\n",
        "ax.grid()\n",
        "ax.legend(loc=0)\n",
        "plt.show()"
      ],
      "metadata": {
        "colab": {
          "base_uri": "https://localhost:8080/",
          "height": 315
        },
        "id": "Rr2Uzc48fBHD",
        "outputId": "47d64cd4-4b55-445d-92bd-2c16395d5f5d"
      },
      "execution_count": 245,
      "outputs": [
        {
          "output_type": "stream",
          "name": "stdout",
          "text": [
            "[0.7798349980115891, 0.6641441589593887, 0.5981456435918808]\n",
            "[0.6956048483649889, 0.6788859930303361, 0.676028773188591]\n"
          ]
        },
        {
          "output_type": "display_data",
          "data": {
            "image/png": "[encoded data removed]",
            "text/plain": [
              "<Figure size 432x288 with 1 Axes>"
            ]
          },
          "metadata": {
            "needs_background": "light"
          }
        }
      ]
    }
  ],
  "metadata": {
    "colab": {
      "collapsed_sections": [],
      "name": "AI2-HM3 bidirectional RNN with LSTM/GRU.ipynb",
      "provenance": [],
      "toc_visible": true,
      "authorship_tag": "ABX9TyOnPOy5Cgiq9BVx9xa6mI8Z",
      "include_colab_link": true
    },
    "kernelspec": {
      "display_name": "Python 3",
      "name": "python3"
    },
    "language_info": {
      "name": "python"
    },
    "accelerator": "GPU"
  },
  "nbformat": 4,
  "nbformat_minor": 0
}