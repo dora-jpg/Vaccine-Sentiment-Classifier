{
  "cells": [
    {
      "cell_type": "markdown",
      "metadata": {
        "id": "view-in-github",
        "colab_type": "text"
      },
      "source": [
        "<a href=\"https://colab.research.google.com/github/dora-jpg/Vaccine-Sentiment-Classifier/blob/main/AI2_HM3_bidirectional_RNN_with_LSTM_GRU.ipynb\" target=\"_parent\"><img src=\"https://colab.research.google.com/assets/colab-badge.svg\" alt=\"Open In Colab\"/></a>"
      ]
    },
    {
      "cell_type": "markdown",
      "metadata": {
        "id": "qLAaIaAE9z4D"
      },
      "source": [
        "# Artificial Intelligense II - Homework 3\n",
        "# 💉Vaccine sentiment classifier using bidirectional Recursive Neural Networks with LSTM/GRU."
      ]
    },
    {
      "cell_type": "markdown",
      "metadata": {
        "id": "ykBHfl_LJL-p"
      },
      "source": [
        "In this exercise we are going to develop a vaccine sentiment classifier that classifies tweets in pro-vax, anti-vax and neutral classes using bidirectional Recursive Neural Networks. I experimented with LSTM and GRU.\n",
        "For data preprocessing and feature extracting I experimented with:\n",
        "- GloVe pretrained model: I used a simple preprocessing funtion that removes puctuation, html tags and urls. I kept emojis because I noticed that some of them are included in the pretrained glove model. I used the glove.twitter.27B.50d. \n",
        "- TF-IDF: I used the same preprocessing as for GloVe. \n"
      ]
    },
    {
      "cell_type": "markdown",
      "metadata": {
        "id": "NLs58fONFrG3"
      },
      "source": [
        "**Note:** \n",
        "- I seeded numpy.random and torch.random in the cells that define each model so that I get the same results in every run and can compare scores.\n",
        "- I couldn't try a bigger GloVe pretrained model because of my internet connection."
      ]
    },
    {
      "cell_type": "code",
      "execution_count": null,
      "metadata": {
        "colab": {
          "base_uri": "https://localhost:8080/"
        },
        "id": "1i0cE5-17AUF",
        "outputId": "91d58eee-d9fe-443e-e056-ea9aed2dae82"
      },
      "outputs": [
        {
          "output_type": "stream",
          "name": "stdout",
          "text": [
            "Drive already mounted at /content/drive; to attempt to forcibly remount, call drive.mount(\"/content/drive\", force_remount=True).\n"
          ]
        }
      ],
      "source": [
        "from google.colab import drive\n",
        "drive.mount('/content/drive')"
      ]
    },
    {
      "cell_type": "markdown",
      "metadata": {
        "id": "7g50JWXbB2ze"
      },
      "source": [
        "## Import Libraries and Read Datasets"
      ]
    },
    {
      "cell_type": "code",
      "execution_count": null,
      "metadata": {
        "colab": {
          "base_uri": "https://localhost:8080/"
        },
        "id": "A7j9F1YTMFuE",
        "outputId": "ddcb292a-27c9-4436-f995-907aa3129791"
      },
      "outputs": [
        {
          "output_type": "stream",
          "name": "stdout",
          "text": [
            "[nltk_data] Downloading package stopwords to /root/nltk_data...\n",
            "[nltk_data]   Package stopwords is already up-to-date!\n",
            "[nltk_data] Downloading package punkt to /root/nltk_data...\n",
            "[nltk_data]   Package punkt is already up-to-date!\n",
            "Working on: cpu\n"
          ]
        }
      ],
      "source": [
        "# Imports\n",
        "import torch\n",
        "import torch.nn as nn\n",
        "import torch.nn.functional as F\n",
        "import torch.optim as optim\n",
        "import os\n",
        "\n",
        "import numpy as np\n",
        "import pandas as pd\n",
        "\n",
        "# Feature extraction\n",
        "from sklearn.feature_extraction.text import TfidfVectorizer\n",
        "from sklearn.metrics import confusion_matrix\n",
        "\n",
        "# Evaluation metrics\n",
        "from sklearn.metrics import f1_score\n",
        "from sklearn.metrics import accuracy_score\n",
        "\n",
        "# import torchvision\n",
        "# import torchvision.transforms as transforms\n",
        "import matplotlib.pyplot as plt\n",
        "%matplotlib inline\n",
        "import sklearn.metrics\n",
        "import seaborn as sns\n",
        "import random\n",
        "import sys\n",
        "from IPython.display import Image\n",
        "\n",
        "# for text preprocessing\n",
        "import re\n",
        "import string\n",
        "from nltk.corpus import stopwords\n",
        "import nltk\n",
        "nltk.download(\"stopwords\")\n",
        "\n",
        "# for glove\n",
        "nltk.download('punkt')\n",
        "from nltk import word_tokenize\n",
        "\n",
        "# for evaluation\n",
        "from sklearn.metrics import precision_recall_fscore_support\n",
        "from sklearn.metrics import precision_score\n",
        "from sklearn.metrics import recall_score\n",
        "# from torchtext.vocab import GloVe\n",
        "# from torchtext import vocab\n",
        "\n",
        "\n",
        "def set_seed(seed = 1234):\n",
        "    '''Sets the seed of the entire notebook so results are the same every time we run.\n",
        "    This is for REPRODUCIBILITY.'''\n",
        "    np.random.seed(seed)\n",
        "    random.seed(seed)\n",
        "    torch.manual_seed(seed)\n",
        "    torch.cuda.manual_seed(seed)\n",
        "    # When running on the CuDNN backend, two further options must be set\n",
        "    torch.backends.cudnn.deterministic = True\n",
        "    torch.cuda.manual_seed_all(seed)\n",
        "    torch.backends.cudnn.enabled = False\n",
        "    torch.backends.cudnn.benchmark = False\n",
        "    # Set a fixed value for the hash seed\n",
        "    os.environ['PYTHONHASHSEED'] = str(seed)\n",
        "    \n",
        "set_seed()\n",
        "\n",
        "# Set device\n",
        "device = torch.device(\"cuda\" if torch.cuda.is_available() else \"cpu\")\n",
        "\n",
        "print('Working on:', device)"
      ]
    },
    {
      "cell_type": "markdown",
      "metadata": {
        "id": "T3T_ITrECxKu"
      },
      "source": [
        "Read train and validation datasets."
      ]
    },
    {
      "cell_type": "code",
      "execution_count": null,
      "metadata": {
        "id": "DCe_10itB0Pu"
      },
      "outputs": [],
      "source": [
        "df_train = pd.read_csv(\"/content/drive/MyDrive/Colab Notebooks/Artificial Intelligence II/vaccine_train_set.csv\")\n",
        "df_test = pd.read_csv(\"/content/drive/MyDrive/Colab Notebooks/Artificial Intelligence II/vaccine_validation_set.csv\")"
      ]
    },
    {
      "cell_type": "markdown",
      "metadata": {
        "id": "lA3NQAAuKwjf"
      },
      "source": [
        " We don't need the first column of the datasets because it is an index."
      ]
    },
    {
      "cell_type": "code",
      "execution_count": null,
      "metadata": {
        "id": "qA3P1gymKEwR"
      },
      "outputs": [],
      "source": [
        "# get rid of first column\n",
        "df_train = df_train.iloc[: , 1:]\n",
        "df_test = df_test.iloc[: , 1:]"
      ]
    },
    {
      "cell_type": "code",
      "execution_count": null,
      "metadata": {
        "colab": {
          "base_uri": "https://localhost:8080/",
          "height": 673
        },
        "id": "awuvFK_yCuAO",
        "outputId": "28d76bb8-9c3e-4d2e-bfec-71b7be69187a"
      },
      "outputs": [
        {
          "output_type": "display_data",
          "data": {
            "text/html": [
              "\n",
              "  <div id=\"df-06beb670-17eb-4d87-a9f3-b438fdf03615\">\n",
              "    <div class=\"colab-df-container\">\n",
              "      <div>\n",
              "<style scoped>\n",
              "    .dataframe tbody tr th:only-of-type {\n",
              "        vertical-align: middle;\n",
              "    }\n",
              "\n",
              "    .dataframe tbody tr th {\n",
              "        vertical-align: top;\n",
              "    }\n",
              "\n",
              "    .dataframe thead th {\n",
              "        text-align: right;\n",
              "    }\n",
              "</style>\n",
              "<table border=\"1\" class=\"dataframe\">\n",
              "  <thead>\n",
              "    <tr style=\"text-align: right;\">\n",
              "      <th></th>\n",
              "      <th>tweet</th>\n",
              "      <th>label</th>\n",
              "    </tr>\n",
              "  </thead>\n",
              "  <tbody>\n",
              "    <tr>\n",
              "      <th>0</th>\n",
              "      <td>Sip N Shop Come thru right now #Marjais #Popul...</td>\n",
              "      <td>0</td>\n",
              "    </tr>\n",
              "    <tr>\n",
              "      <th>1</th>\n",
              "      <td>I don't know about you but My family and I wil...</td>\n",
              "      <td>1</td>\n",
              "    </tr>\n",
              "    <tr>\n",
              "      <th>2</th>\n",
              "      <td>@MSignorile Immunizations should be mandatory....</td>\n",
              "      <td>2</td>\n",
              "    </tr>\n",
              "    <tr>\n",
              "      <th>3</th>\n",
              "      <td>President Obama spoke in favor of vaccination ...</td>\n",
              "      <td>0</td>\n",
              "    </tr>\n",
              "    <tr>\n",
              "      <th>4</th>\n",
              "      <td>\"@myfoxla: Arizona monitoring hundreds for mea...</td>\n",
              "      <td>0</td>\n",
              "    </tr>\n",
              "  </tbody>\n",
              "</table>\n",
              "</div>\n",
              "      <button class=\"colab-df-convert\" onclick=\"convertToInteractive('df-06beb670-17eb-4d87-a9f3-b438fdf03615')\"\n",
              "              title=\"Convert this dataframe to an interactive table.\"\n",
              "              style=\"display:none;\">\n",
              "        \n",
              "  <svg xmlns=\"http://www.w3.org/2000/svg\" height=\"24px\"viewBox=\"0 0 24 24\"\n",
              "       width=\"24px\">\n",
              "    <path d=\"M0 0h24v24H0V0z\" fill=\"none\"/>\n",
              "    <path d=\"M18.56 5.44l.94 2.06.94-2.06 2.06-.94-2.06-.94-.94-2.06-.94 2.06-2.06.94zm-11 1L8.5 8.5l.94-2.06 2.06-.94-2.06-.94L8.5 2.5l-.94 2.06-2.06.94zm10 10l.94 2.06.94-2.06 2.06-.94-2.06-.94-.94-2.06-.94 2.06-2.06.94z\"/><path d=\"M17.41 7.96l-1.37-1.37c-.4-.4-.92-.59-1.43-.59-.52 0-1.04.2-1.43.59L10.3 9.45l-7.72 7.72c-.78.78-.78 2.05 0 2.83L4 21.41c.39.39.9.59 1.41.59.51 0 1.02-.2 1.41-.59l7.78-7.78 2.81-2.81c.8-.78.8-2.07 0-2.86zM5.41 20L4 18.59l7.72-7.72 1.47 1.35L5.41 20z\"/>\n",
              "  </svg>\n",
              "      </button>\n",
              "      \n",
              "  <style>\n",
              "    .colab-df-container {\n",
              "      display:flex;\n",
              "      flex-wrap:wrap;\n",
              "      gap: 12px;\n",
              "    }\n",
              "\n",
              "    .colab-df-convert {\n",
              "      background-color: #E8F0FE;\n",
              "      border: none;\n",
              "      border-radius: 50%;\n",
              "      cursor: pointer;\n",
              "      display: none;\n",
              "      fill: #1967D2;\n",
              "      height: 32px;\n",
              "      padding: 0 0 0 0;\n",
              "      width: 32px;\n",
              "    }\n",
              "\n",
              "    .colab-df-convert:hover {\n",
              "      background-color: #E2EBFA;\n",
              "      box-shadow: 0px 1px 2px rgba(60, 64, 67, 0.3), 0px 1px 3px 1px rgba(60, 64, 67, 0.15);\n",
              "      fill: #174EA6;\n",
              "    }\n",
              "\n",
              "    [theme=dark] .colab-df-convert {\n",
              "      background-color: #3B4455;\n",
              "      fill: #D2E3FC;\n",
              "    }\n",
              "\n",
              "    [theme=dark] .colab-df-convert:hover {\n",
              "      background-color: #434B5C;\n",
              "      box-shadow: 0px 1px 3px 1px rgba(0, 0, 0, 0.15);\n",
              "      filter: drop-shadow(0px 1px 2px rgba(0, 0, 0, 0.3));\n",
              "      fill: #FFFFFF;\n",
              "    }\n",
              "  </style>\n",
              "\n",
              "      <script>\n",
              "        const buttonEl =\n",
              "          document.querySelector('#df-06beb670-17eb-4d87-a9f3-b438fdf03615 button.colab-df-convert');\n",
              "        buttonEl.style.display =\n",
              "          google.colab.kernel.accessAllowed ? 'block' : 'none';\n",
              "\n",
              "        async function convertToInteractive(key) {\n",
              "          const element = document.querySelector('#df-06beb670-17eb-4d87-a9f3-b438fdf03615');\n",
              "          const dataTable =\n",
              "            await google.colab.kernel.invokeFunction('convertToInteractive',\n",
              "                                                     [key], {});\n",
              "          if (!dataTable) return;\n",
              "\n",
              "          const docLinkHtml = 'Like what you see? Visit the ' +\n",
              "            '<a target=\"_blank\" href=https://colab.research.google.com/notebooks/data_table.ipynb>data table notebook</a>'\n",
              "            + ' to learn more about interactive tables.';\n",
              "          element.innerHTML = '';\n",
              "          dataTable['output_type'] = 'display_data';\n",
              "          await google.colab.output.renderOutput(dataTable, element);\n",
              "          const docLink = document.createElement('div');\n",
              "          docLink.innerHTML = docLinkHtml;\n",
              "          element.appendChild(docLink);\n",
              "        }\n",
              "      </script>\n",
              "    </div>\n",
              "  </div>\n",
              "  "
            ],
            "text/plain": [
              "                                               tweet  label\n",
              "0  Sip N Shop Come thru right now #Marjais #Popul...      0\n",
              "1  I don't know about you but My family and I wil...      1\n",
              "2  @MSignorile Immunizations should be mandatory....      2\n",
              "3  President Obama spoke in favor of vaccination ...      0\n",
              "4  \"@myfoxla: Arizona monitoring hundreds for mea...      0"
            ]
          },
          "metadata": {}
        },
        {
          "output_type": "display_data",
          "data": {
            "text/html": [
              "\n",
              "  <div id=\"df-169b26d5-5f0a-4e47-ae00-3c5646152105\">\n",
              "    <div class=\"colab-df-container\">\n",
              "      <div>\n",
              "<style scoped>\n",
              "    .dataframe tbody tr th:only-of-type {\n",
              "        vertical-align: middle;\n",
              "    }\n",
              "\n",
              "    .dataframe tbody tr th {\n",
              "        vertical-align: top;\n",
              "    }\n",
              "\n",
              "    .dataframe thead th {\n",
              "        text-align: right;\n",
              "    }\n",
              "</style>\n",
              "<table border=\"1\" class=\"dataframe\">\n",
              "  <thead>\n",
              "    <tr style=\"text-align: right;\">\n",
              "      <th></th>\n",
              "      <th>label</th>\n",
              "    </tr>\n",
              "  </thead>\n",
              "  <tbody>\n",
              "    <tr>\n",
              "      <th>count</th>\n",
              "      <td>15976.000000</td>\n",
              "    </tr>\n",
              "    <tr>\n",
              "      <th>mean</th>\n",
              "      <td>0.936592</td>\n",
              "    </tr>\n",
              "    <tr>\n",
              "      <th>std</th>\n",
              "      <td>0.930740</td>\n",
              "    </tr>\n",
              "    <tr>\n",
              "      <th>min</th>\n",
              "      <td>0.000000</td>\n",
              "    </tr>\n",
              "    <tr>\n",
              "      <th>25%</th>\n",
              "      <td>0.000000</td>\n",
              "    </tr>\n",
              "    <tr>\n",
              "      <th>50%</th>\n",
              "      <td>1.000000</td>\n",
              "    </tr>\n",
              "    <tr>\n",
              "      <th>75%</th>\n",
              "      <td>2.000000</td>\n",
              "    </tr>\n",
              "    <tr>\n",
              "      <th>max</th>\n",
              "      <td>2.000000</td>\n",
              "    </tr>\n",
              "  </tbody>\n",
              "</table>\n",
              "</div>\n",
              "      <button class=\"colab-df-convert\" onclick=\"convertToInteractive('df-169b26d5-5f0a-4e47-ae00-3c5646152105')\"\n",
              "              title=\"Convert this dataframe to an interactive table.\"\n",
              "              style=\"display:none;\">\n",
              "        \n",
              "  <svg xmlns=\"http://www.w3.org/2000/svg\" height=\"24px\"viewBox=\"0 0 24 24\"\n",
              "       width=\"24px\">\n",
              "    <path d=\"M0 0h24v24H0V0z\" fill=\"none\"/>\n",
              "    <path d=\"M18.56 5.44l.94 2.06.94-2.06 2.06-.94-2.06-.94-.94-2.06-.94 2.06-2.06.94zm-11 1L8.5 8.5l.94-2.06 2.06-.94-2.06-.94L8.5 2.5l-.94 2.06-2.06.94zm10 10l.94 2.06.94-2.06 2.06-.94-2.06-.94-.94-2.06-.94 2.06-2.06.94z\"/><path d=\"M17.41 7.96l-1.37-1.37c-.4-.4-.92-.59-1.43-.59-.52 0-1.04.2-1.43.59L10.3 9.45l-7.72 7.72c-.78.78-.78 2.05 0 2.83L4 21.41c.39.39.9.59 1.41.59.51 0 1.02-.2 1.41-.59l7.78-7.78 2.81-2.81c.8-.78.8-2.07 0-2.86zM5.41 20L4 18.59l7.72-7.72 1.47 1.35L5.41 20z\"/>\n",
              "  </svg>\n",
              "      </button>\n",
              "      \n",
              "  <style>\n",
              "    .colab-df-container {\n",
              "      display:flex;\n",
              "      flex-wrap:wrap;\n",
              "      gap: 12px;\n",
              "    }\n",
              "\n",
              "    .colab-df-convert {\n",
              "      background-color: #E8F0FE;\n",
              "      border: none;\n",
              "      border-radius: 50%;\n",
              "      cursor: pointer;\n",
              "      display: none;\n",
              "      fill: #1967D2;\n",
              "      height: 32px;\n",
              "      padding: 0 0 0 0;\n",
              "      width: 32px;\n",
              "    }\n",
              "\n",
              "    .colab-df-convert:hover {\n",
              "      background-color: #E2EBFA;\n",
              "      box-shadow: 0px 1px 2px rgba(60, 64, 67, 0.3), 0px 1px 3px 1px rgba(60, 64, 67, 0.15);\n",
              "      fill: #174EA6;\n",
              "    }\n",
              "\n",
              "    [theme=dark] .colab-df-convert {\n",
              "      background-color: #3B4455;\n",
              "      fill: #D2E3FC;\n",
              "    }\n",
              "\n",
              "    [theme=dark] .colab-df-convert:hover {\n",
              "      background-color: #434B5C;\n",
              "      box-shadow: 0px 1px 3px 1px rgba(0, 0, 0, 0.15);\n",
              "      filter: drop-shadow(0px 1px 2px rgba(0, 0, 0, 0.3));\n",
              "      fill: #FFFFFF;\n",
              "    }\n",
              "  </style>\n",
              "\n",
              "      <script>\n",
              "        const buttonEl =\n",
              "          document.querySelector('#df-169b26d5-5f0a-4e47-ae00-3c5646152105 button.colab-df-convert');\n",
              "        buttonEl.style.display =\n",
              "          google.colab.kernel.accessAllowed ? 'block' : 'none';\n",
              "\n",
              "        async function convertToInteractive(key) {\n",
              "          const element = document.querySelector('#df-169b26d5-5f0a-4e47-ae00-3c5646152105');\n",
              "          const dataTable =\n",
              "            await google.colab.kernel.invokeFunction('convertToInteractive',\n",
              "                                                     [key], {});\n",
              "          if (!dataTable) return;\n",
              "\n",
              "          const docLinkHtml = 'Like what you see? Visit the ' +\n",
              "            '<a target=\"_blank\" href=https://colab.research.google.com/notebooks/data_table.ipynb>data table notebook</a>'\n",
              "            + ' to learn more about interactive tables.';\n",
              "          element.innerHTML = '';\n",
              "          dataTable['output_type'] = 'display_data';\n",
              "          await google.colab.output.renderOutput(dataTable, element);\n",
              "          const docLink = document.createElement('div');\n",
              "          docLink.innerHTML = docLinkHtml;\n",
              "          element.appendChild(docLink);\n",
              "        }\n",
              "      </script>\n",
              "    </div>\n",
              "  </div>\n",
              "  "
            ],
            "text/plain": [
              "              label\n",
              "count  15976.000000\n",
              "mean       0.936592\n",
              "std        0.930740\n",
              "min        0.000000\n",
              "25%        0.000000\n",
              "50%        1.000000\n",
              "75%        2.000000\n",
              "max        2.000000"
            ]
          },
          "metadata": {}
        },
        {
          "output_type": "stream",
          "name": "stdout",
          "text": [
            "<class 'pandas.core.frame.DataFrame'>\n",
            "RangeIndex: 15976 entries, 0 to 15975\n",
            "Data columns (total 2 columns):\n",
            " #   Column  Non-Null Count  Dtype \n",
            "---  ------  --------------  ----- \n",
            " 0   tweet   15976 non-null  object\n",
            " 1   label   15976 non-null  int64 \n",
            "dtypes: int64(1), object(1)\n",
            "memory usage: 249.8+ KB\n"
          ]
        },
        {
          "output_type": "display_data",
          "data": {
            "text/plain": [
              "None"
            ]
          },
          "metadata": {}
        }
      ],
      "source": [
        "display(df_train.head())\n",
        "display(df_train.describe())\n",
        "display(df_train.info())"
      ]
    },
    {
      "cell_type": "code",
      "execution_count": null,
      "metadata": {
        "colab": {
          "base_uri": "https://localhost:8080/",
          "height": 673
        },
        "id": "1SCqSG05CMpd",
        "outputId": "04735356-ee4a-46db-8d4b-fa8b7f8a8132"
      },
      "outputs": [
        {
          "output_type": "display_data",
          "data": {
            "text/html": [
              "\n",
              "  <div id=\"df-3f6e3474-c04e-40cf-8e28-0d95e4a1ff00\">\n",
              "    <div class=\"colab-df-container\">\n",
              "      <div>\n",
              "<style scoped>\n",
              "    .dataframe tbody tr th:only-of-type {\n",
              "        vertical-align: middle;\n",
              "    }\n",
              "\n",
              "    .dataframe tbody tr th {\n",
              "        vertical-align: top;\n",
              "    }\n",
              "\n",
              "    .dataframe thead th {\n",
              "        text-align: right;\n",
              "    }\n",
              "</style>\n",
              "<table border=\"1\" class=\"dataframe\">\n",
              "  <thead>\n",
              "    <tr style=\"text-align: right;\">\n",
              "      <th></th>\n",
              "      <th>tweet</th>\n",
              "      <th>label</th>\n",
              "    </tr>\n",
              "  </thead>\n",
              "  <tbody>\n",
              "    <tr>\n",
              "      <th>0</th>\n",
              "      <td>@user They had a massive surge in with covid d...</td>\n",
              "      <td>1</td>\n",
              "    </tr>\n",
              "    <tr>\n",
              "      <th>1</th>\n",
              "      <td>Required vaccines for school: Parents and guar...</td>\n",
              "      <td>0</td>\n",
              "    </tr>\n",
              "    <tr>\n",
              "      <th>2</th>\n",
              "      <td>“@KCStar: Two more Johnson County children hav...</td>\n",
              "      <td>0</td>\n",
              "    </tr>\n",
              "    <tr>\n",
              "      <th>3</th>\n",
              "      <td>NV can do better. Which states are the best (a...</td>\n",
              "      <td>2</td>\n",
              "    </tr>\n",
              "    <tr>\n",
              "      <th>4</th>\n",
              "      <td>Nothing like killing ourselves w/ our own fear...</td>\n",
              "      <td>2</td>\n",
              "    </tr>\n",
              "  </tbody>\n",
              "</table>\n",
              "</div>\n",
              "      <button class=\"colab-df-convert\" onclick=\"convertToInteractive('df-3f6e3474-c04e-40cf-8e28-0d95e4a1ff00')\"\n",
              "              title=\"Convert this dataframe to an interactive table.\"\n",
              "              style=\"display:none;\">\n",
              "        \n",
              "  <svg xmlns=\"http://www.w3.org/2000/svg\" height=\"24px\"viewBox=\"0 0 24 24\"\n",
              "       width=\"24px\">\n",
              "    <path d=\"M0 0h24v24H0V0z\" fill=\"none\"/>\n",
              "    <path d=\"M18.56 5.44l.94 2.06.94-2.06 2.06-.94-2.06-.94-.94-2.06-.94 2.06-2.06.94zm-11 1L8.5 8.5l.94-2.06 2.06-.94-2.06-.94L8.5 2.5l-.94 2.06-2.06.94zm10 10l.94 2.06.94-2.06 2.06-.94-2.06-.94-.94-2.06-.94 2.06-2.06.94z\"/><path d=\"M17.41 7.96l-1.37-1.37c-.4-.4-.92-.59-1.43-.59-.52 0-1.04.2-1.43.59L10.3 9.45l-7.72 7.72c-.78.78-.78 2.05 0 2.83L4 21.41c.39.39.9.59 1.41.59.51 0 1.02-.2 1.41-.59l7.78-7.78 2.81-2.81c.8-.78.8-2.07 0-2.86zM5.41 20L4 18.59l7.72-7.72 1.47 1.35L5.41 20z\"/>\n",
              "  </svg>\n",
              "      </button>\n",
              "      \n",
              "  <style>\n",
              "    .colab-df-container {\n",
              "      display:flex;\n",
              "      flex-wrap:wrap;\n",
              "      gap: 12px;\n",
              "    }\n",
              "\n",
              "    .colab-df-convert {\n",
              "      background-color: #E8F0FE;\n",
              "      border: none;\n",
              "      border-radius: 50%;\n",
              "      cursor: pointer;\n",
              "      display: none;\n",
              "      fill: #1967D2;\n",
              "      height: 32px;\n",
              "      padding: 0 0 0 0;\n",
              "      width: 32px;\n",
              "    }\n",
              "\n",
              "    .colab-df-convert:hover {\n",
              "      background-color: #E2EBFA;\n",
              "      box-shadow: 0px 1px 2px rgba(60, 64, 67, 0.3), 0px 1px 3px 1px rgba(60, 64, 67, 0.15);\n",
              "      fill: #174EA6;\n",
              "    }\n",
              "\n",
              "    [theme=dark] .colab-df-convert {\n",
              "      background-color: #3B4455;\n",
              "      fill: #D2E3FC;\n",
              "    }\n",
              "\n",
              "    [theme=dark] .colab-df-convert:hover {\n",
              "      background-color: #434B5C;\n",
              "      box-shadow: 0px 1px 3px 1px rgba(0, 0, 0, 0.15);\n",
              "      filter: drop-shadow(0px 1px 2px rgba(0, 0, 0, 0.3));\n",
              "      fill: #FFFFFF;\n",
              "    }\n",
              "  </style>\n",
              "\n",
              "      <script>\n",
              "        const buttonEl =\n",
              "          document.querySelector('#df-3f6e3474-c04e-40cf-8e28-0d95e4a1ff00 button.colab-df-convert');\n",
              "        buttonEl.style.display =\n",
              "          google.colab.kernel.accessAllowed ? 'block' : 'none';\n",
              "\n",
              "        async function convertToInteractive(key) {\n",
              "          const element = document.querySelector('#df-3f6e3474-c04e-40cf-8e28-0d95e4a1ff00');\n",
              "          const dataTable =\n",
              "            await google.colab.kernel.invokeFunction('convertToInteractive',\n",
              "                                                     [key], {});\n",
              "          if (!dataTable) return;\n",
              "\n",
              "          const docLinkHtml = 'Like what you see? Visit the ' +\n",
              "            '<a target=\"_blank\" href=https://colab.research.google.com/notebooks/data_table.ipynb>data table notebook</a>'\n",
              "            + ' to learn more about interactive tables.';\n",
              "          element.innerHTML = '';\n",
              "          dataTable['output_type'] = 'display_data';\n",
              "          await google.colab.output.renderOutput(dataTable, element);\n",
              "          const docLink = document.createElement('div');\n",
              "          docLink.innerHTML = docLinkHtml;\n",
              "          element.appendChild(docLink);\n",
              "        }\n",
              "      </script>\n",
              "    </div>\n",
              "  </div>\n",
              "  "
            ],
            "text/plain": [
              "                                               tweet  label\n",
              "0  @user They had a massive surge in with covid d...      1\n",
              "1  Required vaccines for school: Parents and guar...      0\n",
              "2  “@KCStar: Two more Johnson County children hav...      0\n",
              "3  NV can do better. Which states are the best (a...      2\n",
              "4  Nothing like killing ourselves w/ our own fear...      2"
            ]
          },
          "metadata": {}
        },
        {
          "output_type": "display_data",
          "data": {
            "text/html": [
              "\n",
              "  <div id=\"df-3334ecad-bf90-47dc-8184-c23236720985\">\n",
              "    <div class=\"colab-df-container\">\n",
              "      <div>\n",
              "<style scoped>\n",
              "    .dataframe tbody tr th:only-of-type {\n",
              "        vertical-align: middle;\n",
              "    }\n",
              "\n",
              "    .dataframe tbody tr th {\n",
              "        vertical-align: top;\n",
              "    }\n",
              "\n",
              "    .dataframe thead th {\n",
              "        text-align: right;\n",
              "    }\n",
              "</style>\n",
              "<table border=\"1\" class=\"dataframe\">\n",
              "  <thead>\n",
              "    <tr style=\"text-align: right;\">\n",
              "      <th></th>\n",
              "      <th>label</th>\n",
              "    </tr>\n",
              "  </thead>\n",
              "  <tbody>\n",
              "    <tr>\n",
              "      <th>count</th>\n",
              "      <td>2282.000000</td>\n",
              "    </tr>\n",
              "    <tr>\n",
              "      <th>mean</th>\n",
              "      <td>0.936897</td>\n",
              "    </tr>\n",
              "    <tr>\n",
              "      <th>std</th>\n",
              "      <td>0.930960</td>\n",
              "    </tr>\n",
              "    <tr>\n",
              "      <th>min</th>\n",
              "      <td>0.000000</td>\n",
              "    </tr>\n",
              "    <tr>\n",
              "      <th>25%</th>\n",
              "      <td>0.000000</td>\n",
              "    </tr>\n",
              "    <tr>\n",
              "      <th>50%</th>\n",
              "      <td>1.000000</td>\n",
              "    </tr>\n",
              "    <tr>\n",
              "      <th>75%</th>\n",
              "      <td>2.000000</td>\n",
              "    </tr>\n",
              "    <tr>\n",
              "      <th>max</th>\n",
              "      <td>2.000000</td>\n",
              "    </tr>\n",
              "  </tbody>\n",
              "</table>\n",
              "</div>\n",
              "      <button class=\"colab-df-convert\" onclick=\"convertToInteractive('df-3334ecad-bf90-47dc-8184-c23236720985')\"\n",
              "              title=\"Convert this dataframe to an interactive table.\"\n",
              "              style=\"display:none;\">\n",
              "        \n",
              "  <svg xmlns=\"http://www.w3.org/2000/svg\" height=\"24px\"viewBox=\"0 0 24 24\"\n",
              "       width=\"24px\">\n",
              "    <path d=\"M0 0h24v24H0V0z\" fill=\"none\"/>\n",
              "    <path d=\"M18.56 5.44l.94 2.06.94-2.06 2.06-.94-2.06-.94-.94-2.06-.94 2.06-2.06.94zm-11 1L8.5 8.5l.94-2.06 2.06-.94-2.06-.94L8.5 2.5l-.94 2.06-2.06.94zm10 10l.94 2.06.94-2.06 2.06-.94-2.06-.94-.94-2.06-.94 2.06-2.06.94z\"/><path d=\"M17.41 7.96l-1.37-1.37c-.4-.4-.92-.59-1.43-.59-.52 0-1.04.2-1.43.59L10.3 9.45l-7.72 7.72c-.78.78-.78 2.05 0 2.83L4 21.41c.39.39.9.59 1.41.59.51 0 1.02-.2 1.41-.59l7.78-7.78 2.81-2.81c.8-.78.8-2.07 0-2.86zM5.41 20L4 18.59l7.72-7.72 1.47 1.35L5.41 20z\"/>\n",
              "  </svg>\n",
              "      </button>\n",
              "      \n",
              "  <style>\n",
              "    .colab-df-container {\n",
              "      display:flex;\n",
              "      flex-wrap:wrap;\n",
              "      gap: 12px;\n",
              "    }\n",
              "\n",
              "    .colab-df-convert {\n",
              "      background-color: #E8F0FE;\n",
              "      border: none;\n",
              "      border-radius: 50%;\n",
              "      cursor: pointer;\n",
              "      display: none;\n",
              "      fill: #1967D2;\n",
              "      height: 32px;\n",
              "      padding: 0 0 0 0;\n",
              "      width: 32px;\n",
              "    }\n",
              "\n",
              "    .colab-df-convert:hover {\n",
              "      background-color: #E2EBFA;\n",
              "      box-shadow: 0px 1px 2px rgba(60, 64, 67, 0.3), 0px 1px 3px 1px rgba(60, 64, 67, 0.15);\n",
              "      fill: #174EA6;\n",
              "    }\n",
              "\n",
              "    [theme=dark] .colab-df-convert {\n",
              "      background-color: #3B4455;\n",
              "      fill: #D2E3FC;\n",
              "    }\n",
              "\n",
              "    [theme=dark] .colab-df-convert:hover {\n",
              "      background-color: #434B5C;\n",
              "      box-shadow: 0px 1px 3px 1px rgba(0, 0, 0, 0.15);\n",
              "      filter: drop-shadow(0px 1px 2px rgba(0, 0, 0, 0.3));\n",
              "      fill: #FFFFFF;\n",
              "    }\n",
              "  </style>\n",
              "\n",
              "      <script>\n",
              "        const buttonEl =\n",
              "          document.querySelector('#df-3334ecad-bf90-47dc-8184-c23236720985 button.colab-df-convert');\n",
              "        buttonEl.style.display =\n",
              "          google.colab.kernel.accessAllowed ? 'block' : 'none';\n",
              "\n",
              "        async function convertToInteractive(key) {\n",
              "          const element = document.querySelector('#df-3334ecad-bf90-47dc-8184-c23236720985');\n",
              "          const dataTable =\n",
              "            await google.colab.kernel.invokeFunction('convertToInteractive',\n",
              "                                                     [key], {});\n",
              "          if (!dataTable) return;\n",
              "\n",
              "          const docLinkHtml = 'Like what you see? Visit the ' +\n",
              "            '<a target=\"_blank\" href=https://colab.research.google.com/notebooks/data_table.ipynb>data table notebook</a>'\n",
              "            + ' to learn more about interactive tables.';\n",
              "          element.innerHTML = '';\n",
              "          dataTable['output_type'] = 'display_data';\n",
              "          await google.colab.output.renderOutput(dataTable, element);\n",
              "          const docLink = document.createElement('div');\n",
              "          docLink.innerHTML = docLinkHtml;\n",
              "          element.appendChild(docLink);\n",
              "        }\n",
              "      </script>\n",
              "    </div>\n",
              "  </div>\n",
              "  "
            ],
            "text/plain": [
              "             label\n",
              "count  2282.000000\n",
              "mean      0.936897\n",
              "std       0.930960\n",
              "min       0.000000\n",
              "25%       0.000000\n",
              "50%       1.000000\n",
              "75%       2.000000\n",
              "max       2.000000"
            ]
          },
          "metadata": {}
        },
        {
          "output_type": "stream",
          "name": "stdout",
          "text": [
            "<class 'pandas.core.frame.DataFrame'>\n",
            "RangeIndex: 2282 entries, 0 to 2281\n",
            "Data columns (total 2 columns):\n",
            " #   Column  Non-Null Count  Dtype \n",
            "---  ------  --------------  ----- \n",
            " 0   tweet   2282 non-null   object\n",
            " 1   label   2282 non-null   int64 \n",
            "dtypes: int64(1), object(1)\n",
            "memory usage: 35.8+ KB\n"
          ]
        },
        {
          "output_type": "display_data",
          "data": {
            "text/plain": [
              "None"
            ]
          },
          "metadata": {}
        }
      ],
      "source": [
        "display(df_test.head())\n",
        "display(df_test.describe())\n",
        "display(df_test.info())"
      ]
    },
    {
      "cell_type": "markdown",
      "metadata": {
        "id": "22fsx7JjEMfF"
      },
      "source": [
        "## Data Pre-processing"
      ]
    },
    {
      "cell_type": "markdown",
      "metadata": {
        "id": "2qCtGlrAOjpT"
      },
      "source": [
        "### Data Cleaning\n"
      ]
    },
    {
      "cell_type": "code",
      "execution_count": null,
      "metadata": {
        "colab": {
          "base_uri": "https://localhost:8080/"
        },
        "id": "eTX3ciaXEPak",
        "outputId": "351d9276-96b0-4c36-dddd-22eb357f5294"
      },
      "outputs": [
        {
          "output_type": "execute_result",
          "data": {
            "text/plain": [
              "tweet    0\n",
              "label    0\n",
              "dtype: int64"
            ]
          },
          "metadata": {},
          "execution_count": 198
        }
      ],
      "source": [
        "#Check for null values\n",
        "#In this case there are no missing values, so no action is needed\n",
        "df_train.isnull().sum()"
      ]
    },
    {
      "cell_type": "code",
      "execution_count": null,
      "metadata": {
        "colab": {
          "base_uri": "https://localhost:8080/"
        },
        "id": "QsaG_oHBEgmM",
        "outputId": "a5510b4b-ec21-4456-8769-23cc478f61e2"
      },
      "outputs": [
        {
          "output_type": "execute_result",
          "data": {
            "text/plain": [
              "tweet    0\n",
              "label    0\n",
              "dtype: int64"
            ]
          },
          "metadata": {},
          "execution_count": 199
        }
      ],
      "source": [
        "df_test.isnull().sum()"
      ]
    },
    {
      "cell_type": "code",
      "execution_count": null,
      "metadata": {
        "id": "bW2gJG0SlR81"
      },
      "outputs": [],
      "source": [
        "stop_words = stopwords.words(\"english\")\n",
        "\n",
        "def tweets_cleaning(x, remove_emojis=False, remove_stop_words=True):\n",
        "    \"\"\"Apply function to a clean a tweet\"\"\"\n",
        "    x = x.lower().strip()\n",
        "    # romove urls\n",
        "    url = re.compile(r'https?://\\S+|www\\.\\S+')\n",
        "    x = url.sub(r'',x)\n",
        "    # remove html tags\n",
        "    html = re.compile(r'<.*?>')\n",
        "    x = html.sub(r'',x)\n",
        "    # remove punctuation\n",
        "    operator = str.maketrans(' ',' ',string.punctuation)\n",
        "    x = x.translate(operator)\n",
        "    if remove_emojis:\n",
        "        x = x.encode('ascii', 'ignore').decode('utf8').strip()\n",
        "    if remove_stop_words:\n",
        "        x = ' '.join([word for word in x.split(' ') if word not in stop_words])\n",
        "    return x"
      ]
    },
    {
      "cell_type": "code",
      "execution_count": null,
      "metadata": {
        "id": "7r9stfORI5rQ"
      },
      "outputs": [],
      "source": [
        "## APPLY the cleaning function to the text column\n",
        "df_train['cleanglove_tweet'] = df_train['tweet'].apply(tweets_cleaning)\n",
        "df_test['cleanglove_tweet'] = df_test['tweet'].apply(tweets_cleaning)"
      ]
    },
    {
      "cell_type": "code",
      "execution_count": null,
      "metadata": {
        "id": "PRjL4WS3E4Jc"
      },
      "outputs": [],
      "source": [
        "Y_train = df_train['label'] #Only keep value\n",
        "Y_test = df_test['label'] #Only keep value"
      ]
    },
    {
      "cell_type": "code",
      "execution_count": null,
      "metadata": {
        "colab": {
          "base_uri": "https://localhost:8080/"
        },
        "id": "hb_35RgUQJFf",
        "outputId": "7544c3b0-0184-4fb0-df06-2cd634189a15"
      },
      "outputs": [
        {
          "output_type": "execute_result",
          "data": {
            "text/plain": [
              "0        sip n shop come thru right marjais popularnobo...\n",
              "1        dont know family take covid19 vaccine anytime ...\n",
              "2        msignorile immunizations mandatory period okla...\n",
              "3        president obama spoke favor vaccination childr...\n",
              "4        myfoxla arizona monitoring hundreds measles li...\n",
              "                               ...                        \n",
              "15971    salon u believe antivax nutcases caused measle...\n",
              "15972    feel parents dont vaccinate kids\\r\\n\\r\\nmeasle...\n",
              "15973          70 preschoolers tested measles simi valley \n",
              "15974    finance minister budget offers room procure co...\n",
              "15975    date vaccines take cdc’s vaccine quiz find vac...\n",
              "Name: cleanglove_tweet, Length: 15976, dtype: object"
            ]
          },
          "metadata": {},
          "execution_count": 203
        }
      ],
      "source": [
        "df_train['cleanglove_tweet']"
      ]
    },
    {
      "cell_type": "code",
      "execution_count": null,
      "metadata": {
        "colab": {
          "base_uri": "https://localhost:8080/"
        },
        "id": "MgKREelmQM3f",
        "outputId": "69a19ce4-2181-4cea-ced0-d58881c3aae0"
      },
      "outputs": [
        {
          "output_type": "execute_result",
          "data": {
            "text/plain": [
              "0        sip n shop come thru right marjais popularnobo...\n",
              "1        dont know family take covid19 vaccine anytime ...\n",
              "2        msignorile immunizations mandatory period okla...\n",
              "3        president obama spoke favor vaccination childr...\n",
              "4        myfoxla arizona monitoring hundreds measles li...\n",
              "                               ...                        \n",
              "15971    salon u believe antivax nutcases caused measle...\n",
              "15972    feel parents dont vaccinate kids\\r\\n\\r\\nmeasle...\n",
              "15973          70 preschoolers tested measles simi valley \n",
              "15974    finance minister budget offers room procure co...\n",
              "15975    date vaccines take cdc’s vaccine quiz find vac...\n",
              "Name: cleanglove_tweet, Length: 15976, dtype: object"
            ]
          },
          "metadata": {},
          "execution_count": 204
        }
      ],
      "source": [
        "df_train['cleanglove_tweet']"
      ]
    },
    {
      "cell_type": "markdown",
      "metadata": {
        "id": "mMXtkwBrJtSi"
      },
      "source": [
        "Overview of label distribution"
      ]
    },
    {
      "cell_type": "code",
      "execution_count": null,
      "metadata": {
        "colab": {
          "base_uri": "https://localhost:8080/"
        },
        "id": "dxpyM6vOHrRv",
        "outputId": "0efeef3f-ec66-4a40-ec51-ee0bffbcf1b4"
      },
      "outputs": [
        {
          "output_type": "stream",
          "name": "stdout",
          "text": [
            "train data\n",
            "label 0: 7458\n",
            "label 1: 2073\n",
            "label 2: 6445\n",
            "validation data\n",
            "label 0: 1065\n",
            "label 1: 296\n",
            "label 2: 921\n"
          ]
        }
      ],
      "source": [
        "print(\"train data\")\n",
        "print(\"label 0:\",Y_train[Y_train== 0].count())\n",
        "print(\"label 1:\",Y_train[Y_train== 1].count())\n",
        "print(\"label 2:\",Y_train[Y_train== 2].count())\n",
        "print(\"validation data\")\n",
        "print(\"label 0:\",Y_test[Y_test== 0].count())\n",
        "print(\"label 1:\",Y_test[Y_test== 1].count())\n",
        "print(\"label 2:\",Y_test[Y_test== 2].count())"
      ]
    },
    {
      "cell_type": "code",
      "execution_count": null,
      "metadata": {
        "colab": {
          "base_uri": "https://localhost:8080/",
          "height": 335
        },
        "id": "RKmLcKZYL34v",
        "outputId": "2852c532-7cfc-417d-97ba-d7839fa533e1"
      },
      "outputs": [
        {
          "output_type": "display_data",
          "data": {
            "image/png": "[encoded data removed]",
            "text/plain": [
              "<Figure size 432x288 with 1 Axes>"
            ]
          },
          "metadata": {
            "needs_background": "light"
          }
        }
      ],
      "source": [
        "fig = plt.figure()\n",
        "ax = fig.add_axes([0,0,1,1])\n",
        "langs = ['0', '1', '2']\n",
        "students = [Y_train[Y_train== 0].count(),Y_train[Y_train== 1].count(),Y_train[Y_train== 2].count()]\n",
        "students2= [Y_test[Y_test== 0].count(),Y_test[Y_test== 1].count(),Y_test[Y_test== 2].count()]\n",
        "ax.bar(langs, students)\n",
        "ax.bar(langs, students2)\n",
        "plt.show()"
      ]
    },
    {
      "cell_type": "markdown",
      "metadata": {
        "id": "_4Z0u5rJ0ToQ"
      },
      "source": [
        "Label 1 has very few instances so we expect that it has a lower score than the other 2 labels. "
      ]
    },
    {
      "cell_type": "markdown",
      "metadata": {
        "id": "b5Bc0vQAEvnD"
      },
      "source": [
        "## Features Extraction\n"
      ]
    },
    {
      "cell_type": "markdown",
      "metadata": {
        "id": "RKJyG0WzOUyb"
      },
      "source": [
        "### GloVe representation"
      ]
    },
    {
      "cell_type": "markdown",
      "metadata": {
        "id": "0QS4tdTpGpkF"
      },
      "source": [
        "Load pre-trained GloVe vectors into a dictionary."
      ]
    },
    {
      "cell_type": "code",
      "execution_count": null,
      "metadata": {
        "colab": {
          "base_uri": "https://localhost:8080/"
        },
        "id": "7b4-kx-5WMbv",
        "outputId": "1e329242-bfcf-461c-f536-490bbf36381d"
      },
      "outputs": [
        {
          "output_type": "stream",
          "name": "stdout",
          "text": [
            "Requirement already satisfied: torchtext in /usr/local/lib/python3.7/dist-packages (0.11.0)\n",
            "Requirement already satisfied: requests in /usr/local/lib/python3.7/dist-packages (from torchtext) (2.23.0)\n",
            "Requirement already satisfied: tqdm in /usr/local/lib/python3.7/dist-packages (from torchtext) (4.62.3)\n",
            "Requirement already satisfied: numpy in /usr/local/lib/python3.7/dist-packages (from torchtext) (1.19.5)\n",
            "Requirement already satisfied: torch==1.10.0 in /usr/local/lib/python3.7/dist-packages (from torchtext) (1.10.0+cu111)\n",
            "Requirement already satisfied: typing-extensions in /usr/local/lib/python3.7/dist-packages (from torch==1.10.0->torchtext) (3.10.0.2)\n",
            "Requirement already satisfied: certifi>=2017.4.17 in /usr/local/lib/python3.7/dist-packages (from requests->torchtext) (2021.10.8)\n",
            "Requirement already satisfied: urllib3!=1.25.0,!=1.25.1,<1.26,>=1.21.1 in /usr/local/lib/python3.7/dist-packages (from requests->torchtext) (1.24.3)\n",
            "Requirement already satisfied: chardet<4,>=3.0.2 in /usr/local/lib/python3.7/dist-packages (from requests->torchtext) (3.0.4)\n",
            "Requirement already satisfied: idna<3,>=2.5 in /usr/local/lib/python3.7/dist-packages (from requests->torchtext) (2.10)\n"
          ]
        }
      ],
      "source": [
        "!pip install torchtext\n"
      ]
    },
    {
      "cell_type": "code",
      "execution_count": null,
      "metadata": {
        "id": "Wc0NC0cvGov-"
      },
      "outputs": [],
      "source": [
        "embeddings_dict = {}\n",
        "with open(\"/content/drive/MyDrive/Colab Notebooks/Artificial Intelligence II/glove.twitter.27B.200d.txt.gz (Unzipped Files)/glove.twitter.27B.200d.txt\", 'r', encoding=\"utf-8\") as f:\n",
        "  for line in f:\n",
        "    values = line.split()\n",
        "    word = values[0]\n",
        "    vector = np.asarray(values[1:],'float32')\n",
        "    embeddings_dict[word]=vector"
      ]
    },
    {
      "cell_type": "markdown",
      "metadata": {
        "id": "s4lM2nRpj6ns"
      },
      "source": [
        "Find the vector for each word in each tweet and for every tweet keep the average of each dimesion of its words.\n",
        "\n",
        "Some words do not exist in the pretrained model and in some tweets there isn't any word that matches. So I filled those tweets with zeros.  "
      ]
    },
    {
      "cell_type": "code",
      "execution_count": null,
      "metadata": {
        "colab": {
          "base_uri": "https://localhost:8080/"
        },
        "id": "iWzahQgiaoQB",
        "outputId": "4cd8d9d1-1108-41c5-e5b6-272b8541728e"
      },
      "outputs": [
        {
          "output_type": "execute_result",
          "data": {
            "text/plain": [
              "0        [[-0.16063, -0.28647, -0.60789, 0.42767, -0.11...\n",
              "1        [[-0.33784, 0.54451, -0.1921, 0.43394, -0.4804...\n",
              "2        [[-0.33915, -0.28546, -0.26841, 0.014209, 0.23...\n",
              "3        [[0.34601, 0.30425, -0.098192, 0.08868, -0.359...\n",
              "4        [[0.2101, -0.21056, -0.36659, -0.37312, 0.0773...\n",
              "                               ...                        \n",
              "15971    [[0.15358, -0.30126, -0.3615, 0.24909, 0.72131...\n",
              "15972    [[0.061424, 0.42365, -0.13984, 0.26585, -0.215...\n",
              "15973    [[0.058755, 0.018929, 0.24508, 0.021967, -0.23...\n",
              "15974    [[0.14571, -0.31397, -0.39098, -0.16087, -0.02...\n",
              "15975    [[-0.48751, 0.11036, 0.16039, -0.15214, -0.217...\n",
              "Name: features, Length: 15976, dtype: object"
            ]
          },
          "metadata": {},
          "execution_count": 173
        }
      ],
      "source": [
        "\n",
        "max = 1\n",
        "\n",
        "def find_glove(text):\n",
        "  tokens = word_tokenize(text.lower())\n",
        "  global max\n",
        "  if len(tokens)>max:\n",
        "    max = len(tokens)\n",
        "  res = [ embeddings_dict[token] for token in tokens if (token in embeddings_dict) ]\n",
        "  res = res[:31]\n",
        "  if len(res)<31:\n",
        "    for i in range(31-len(res)):\n",
        "      res.append(np.zeros(200))\n",
        "  # print([ token for token in tokens if (token not in embeddings_dict) ] )\n",
        "  # if (len(res) == 0):\n",
        "  #   res = np.zeros(50)\n",
        "  # else:\n",
        "  #   res = np.stack(res, axis=0)\n",
        "  #   res = np.average(res, axis=0).flatten()\n",
        "  return res\n",
        "\n",
        "df_train['features'] = df_train['cleanglove_tweet'].apply(find_glove)\n",
        "df_test['features'] = df_test['cleanglove_tweet'].apply(find_glove)\n",
        "df_train['features']"
      ]
    },
    {
      "cell_type": "markdown",
      "metadata": {
        "id": "yn7Dw8EZO0Oa"
      },
      "source": [
        "### TF-IDF representation"
      ]
    },
    {
      "cell_type": "markdown",
      "metadata": {
        "id": "8fU0K4knPPTD"
      },
      "source": [
        "Apply the simple preprocessing to the tf-idf's tweets."
      ]
    },
    {
      "cell_type": "code",
      "execution_count": null,
      "metadata": {
        "id": "v4weLof6ZxrW"
      },
      "outputs": [],
      "source": [
        "\n",
        "df_train['cleantfidf_tweet'] = df_train['tweet'].apply(tweets_cleaning)\n",
        "df_test['cleantfidf_tweet'] = df_test['tweet'].apply(tweets_cleaning)"
      ]
    },
    {
      "cell_type": "markdown",
      "metadata": {
        "id": "bx1SN_Qel7BB"
      },
      "source": [
        "For the TF-IDF vectorization I used unigrams & bigrams for a better representation of the tweets and connections between words. I tried 0.01, 0.002 and 0.001 for the min_df parameter. 0.01 resulted in very little features that were not enough to represent the dataset well. 0.002 is the value that I worked best in Homework 1, but 0.001 did better in this one."
      ]
    },
    {
      "cell_type": "code",
      "execution_count": null,
      "metadata": {
        "colab": {
          "base_uri": "https://localhost:8080/"
        },
        "id": "2b3B3CpVOzih",
        "outputId": "d32bb0f4-bd51-4ba8-f3cd-15c139430a4b"
      },
      "outputs": [
        {
          "output_type": "stream",
          "name": "stdout",
          "text": [
            "(15976, 1900)\n",
            "['10' '100' '1000' ... 'yr' 'yrs' 'zero']\n",
            "(2282, 1900)\n"
          ]
        }
      ],
      "source": [
        "tfidf_vectorizer = TfidfVectorizer(ngram_range=(1, 2), max_df=1.0, min_df=0.001, stop_words='english', lowercase=True)\n",
        "\n",
        "tfidf_vectorizer.fit(df_train['cleantfidf_tweet'])\n",
        "\n",
        "tfidf_train = tfidf_vectorizer.transform(df_train['cleantfidf_tweet'])\n",
        "print(tfidf_train.shape)\n",
        "print(tfidf_vectorizer.get_feature_names_out())\n",
        "tfidf_test = tfidf_vectorizer.transform(df_test['cleantfidf_tweet'])\n",
        "print(tfidf_test.shape)"
      ]
    },
    {
      "cell_type": "markdown",
      "metadata": {
        "id": "sY44VnKTKVgc"
      },
      "source": [
        "## Bidirectional RNN"
      ]
    },
    {
      "cell_type": "markdown",
      "metadata": {
        "id": "AjR4eWHzBUX_"
      },
      "source": [
        "### dokimh"
      ]
    },
    {
      "cell_type": "code",
      "execution_count": null,
      "metadata": {
        "id": "PvquZ3SK0ECV"
      },
      "outputs": [],
      "source": [
        "# # Imports\n",
        "# import torch\n",
        "# import torchvision\n",
        "# import torch.nn as nn  # All neural network modules, nn.Linear, nn.Conv2d, BatchNorm, Loss functions\n",
        "# import torch.optim as optim  # For all Optimization algorithms, SGD, Adam, etc.\n",
        "# import torch.nn.functional as F  # All functions that don't have any parameters\n",
        "# from torch.utils.data import (\n",
        "#     DataLoader,\n",
        "# )  # Gives easier dataset managment and creates mini batches\n",
        "# import torchvision.datasets as datasets  # Has standard datasets we can import in a nice way\n",
        "# import torchvision.transforms as transforms  # Transformations we can perform on our dataset\n",
        "\n",
        "# # Set device\n",
        "# device = torch.device(\"cuda\" if torch.cuda.is_available() else \"cpu\")\n",
        "\n",
        "# # Hyperparameters\n",
        "# input_size = 28\n",
        "# sequence_length = 28\n",
        "# num_layers = 2\n",
        "# hidden_size = 256\n",
        "# num_classes = 10\n",
        "# learning_rate = 0.001\n",
        "# batch_size = 64\n",
        "# num_epochs = 2\n",
        "\n",
        "# # Create a bidirectional LSTM\n",
        "# class BRNN(nn.Module):\n",
        "#     def __init__(self, input_size, hidden_size, num_layers, num_classes):\n",
        "#         super(BRNN, self).__init__()\n",
        "#         self.hidden_size = hidden_size\n",
        "#         self.num_layers = num_layers\n",
        "#         self.lstm = nn.LSTM(\n",
        "#             input_size, hidden_size, num_layers, batch_first=True, bidirectional=True\n",
        "#         )\n",
        "#         self.fc = nn.Linear(hidden_size * 2, num_classes)\n",
        "\n",
        "#     def forward(self, x):\n",
        "#         h0 = torch.zeros(self.num_layers * 2, x.size(0), self.hidden_size).to(device)\n",
        "#         c0 = torch.zeros(self.num_layers * 2, x.size(0), self.hidden_size).to(device)\n",
        "\n",
        "#         out, _ = self.lstm(x, (h0, c0))\n",
        "#         out = self.fc(out[:, -1, :])\n",
        "\n",
        "#         return out\n",
        "\n",
        "\n",
        "# # Load Data\n",
        "# train_dataset = datasets.MNIST(\n",
        "#     root=\"dataset/\", train=True, transform=transforms.ToTensor(), download=True\n",
        "# )\n",
        "\n",
        "# test_dataset = datasets.MNIST(\n",
        "#     root=\"dataset/\", train=False, transform=transforms.ToTensor(), download=True\n",
        "# )\n",
        "\n",
        "# train_loader = DataLoader(dataset=train_dataset, batch_size=batch_size, shuffle=True)\n",
        "# test_loader = DataLoader(dataset=test_dataset, batch_size=batch_size, shuffle=True)\n",
        "\n",
        "# # Initialize network\n",
        "# model = BRNN(input_size, hidden_size, num_layers, num_classes).to(device)\n",
        "\n",
        "# # Loss and optimizer\n",
        "# criterion = nn.CrossEntropyLoss()\n",
        "# optimizer = optim.Adam(model.parameters(), lr=learning_rate)\n",
        "\n",
        "# # Train Network\n",
        "# for epoch in range(num_epochs):\n",
        "#     for batch_idx, (data, targets) in enumerate(train_loader):\n",
        "#         # Get data to cuda if possible\n",
        "#         data = data.to(device=device).squeeze(1)\n",
        "#         targets = targets.to(device=device)\n",
        "\n",
        "#         # forward\n",
        "#         scores = model(data)\n",
        "#         loss = criterion(scores, targets)\n",
        "\n",
        "#         # backward\n",
        "#         optimizer.zero_grad()\n",
        "#         loss.backward()\n",
        "\n",
        "#         # gradient descent or adam step\n",
        "#         optimizer.step()\n",
        "\n",
        "# # Check accuracy on training & test to see how good our model\n",
        "\n",
        "\n",
        "# def check_accuracy(loader, model):\n",
        "#     if loader.dataset.train:\n",
        "#         print(\"Checking accuracy on training data\")\n",
        "#     else:\n",
        "#         print(\"Checking accuracy on test data\")\n",
        "\n",
        "#     num_correct = 0\n",
        "#     num_samples = 0\n",
        "#     model.eval()\n",
        "\n",
        "#     with torch.no_grad():\n",
        "#         for x, y in loader:\n",
        "#             x = x.to(device=device).squeeze(1)\n",
        "#             y = y.to(device=device)\n",
        "\n",
        "#             scores = model(x)\n",
        "#             _, predictions = scores.max(1)\n",
        "#             num_correct += (predictions == y).sum()\n",
        "#             num_samples += predictions.size(0)\n",
        "\n",
        "#         print(\n",
        "#             f\"Got {num_correct} / {num_samples} with accuracy  \\\n",
        "#               {float(num_correct)/float(num_samples)*100:.2f}\"\n",
        "#         )\n",
        "\n",
        "#     model.train()\n",
        "\n",
        "\n",
        "# check_accuracy(train_loader, model)\n",
        "# check_accuracy(test_loader, model)"
      ]
    },
    {
      "cell_type": "markdown",
      "metadata": {
        "id": "R8cckzgBBcMR"
      },
      "source": [
        "### kanoniko"
      ]
    },
    {
      "cell_type": "code",
      "execution_count": null,
      "metadata": {
        "id": "Ukzh_Wpm0Zrz"
      },
      "outputs": [],
      "source": [
        "# Create a bidirectional LSTM\n",
        "class BRNN(nn.Module):\n",
        "    def __init__(self, input_size, hidden_size, num_layers, num_classes, cell):\n",
        "        super(BRNN, self).__init__()\n",
        "        self.hidden_size = hidden_size\n",
        "        self.num_layers = num_layers\n",
        "        self.cell = cell\n",
        "        if (cell == 'LSTM'):\n",
        "          self.lstm = nn.LSTM(\n",
        "              input_size, hidden_size, num_layers, batch_first=True, bidirectional=True, dropout=0.3\n",
        "          )\n",
        "        else:\n",
        "          self.lstm = nn.GRU(\n",
        "              input_size, hidden_size, num_layers, batch_first=True, bidirectional=True\n",
        "          )\n",
        "        self.fc = nn.Linear(hidden_size * 2, num_classes)\n",
        "\n",
        "    def forward(self, x):\n",
        "        h0 = torch.zeros(self.num_layers * 2, x.size(0), self.hidden_size).to(device)\n",
        "        c0 = torch.zeros(self.num_layers * 2, x.size(0), self.hidden_size).to(device)\n",
        "\n",
        "        if (self.cell == 'LSTM'):\n",
        "          out, _ = self.lstm(x, (h0, c0))\n",
        "        else:\n",
        "          out, _ = self.lstm(x)\n",
        "        out = self.fc(out[:, -1, :])\n",
        "\n",
        "        return out"
      ]
    },
    {
      "cell_type": "code",
      "execution_count": null,
      "metadata": {
        "id": "OcAl5a6NR7fp"
      },
      "outputs": [],
      "source": [
        "# set_seed()\n",
        "# np.random.seed(20)\n",
        "# torch.manual_seed(20)\n",
        "# Hyperparameters\n",
        "input_size = 200\n",
        "sequence_length = 31 # length inside a batch\n",
        "num_layers = 2\n",
        "hidden_size = 128\n",
        "num_classes = 3\n",
        "learning_rate = 0.01\n",
        "batch_size = 128\n",
        "cell = 'LSTM'\n",
        "epochs = 5"
      ]
    },
    {
      "cell_type": "code",
      "source": [
        "# from torchtext.legacy.data import BucketIterator\n",
        "# Load Data\n",
        "# train_features = np.stack(df_train['features'])\n",
        "set_seed()\n",
        "train_features = df_train['features']\n",
        "x = torch.tensor(train_features, dtype=torch.float)\n",
        "# from torchtext.legacy.data import Dataset\n",
        "y = torch.tensor(df_train['label'], dtype=torch.long)\n",
        "# print(x)\n",
        "print(f\"x shape: {x.shape}\")\n",
        "print(f\"y shape: {y.shape}\")\n",
        "\n",
        "dataset = torch.utils.data.TensorDataset(x, y)\n",
        "\n",
        "# train_features = df_train['features'].to_numpy().flatten()\n",
        "train_loader = torch.utils.data.DataLoader(dataset=dataset, batch_size=batch_size, shuffle=True, num_workers=0)\n",
        "test_features = df_test['features']\n",
        "x_test = torch.tensor(test_features, dtype=torch.float)\n",
        "# from torchtext.legacy.data import Dataset\n",
        "y_test = torch.tensor(df_test['label'], dtype=torch.long)\n",
        "\n",
        "y_test_3 = np.array(pd.get_dummies(y_test.detach().numpy()))\n",
        "y_test_3 = torch.tensor(y_test_3, dtype=torch.float)\n",
        "# print(x)\n",
        "print(f\"x shape: {x_test.shape}\")\n",
        "print(f\"y shape: {y_test.shape}\")\n"
      ],
      "metadata": {
        "colab": {
          "base_uri": "https://localhost:8080/"
        },
        "id": "A1WcQYtxMAgT",
        "outputId": "b875727d-8956-495f-a9f9-59e83119ca88"
      },
      "execution_count": null,
      "outputs": [
        {
          "output_type": "stream",
          "name": "stdout",
          "text": [
            "x shape: torch.Size([15976, 31, 200])\n",
            "y shape: torch.Size([15976])\n",
            "x shape: torch.Size([2282, 31, 200])\n",
            "y shape: torch.Size([2282])\n"
          ]
        },
        {
          "output_type": "stream",
          "name": "stderr",
          "text": [
            "/usr/local/lib/python3.7/dist-packages/ipykernel_launcher.py:6: UserWarning: Creating a tensor from a list of numpy.ndarrays is extremely slow. Please consider converting the list to a single numpy.ndarray with numpy.array() before converting to a tensor. (Triggered internally at  ../torch/csrc/utils/tensor_new.cpp:201.)\n",
            "  \n"
          ]
        }
      ]
    },
    {
      "cell_type": "code",
      "execution_count": null,
      "metadata": {
        "colab": {
          "base_uri": "https://localhost:8080/"
        },
        "id": "ZN3Vfva8Ou7o",
        "outputId": "5420202c-190e-4460-8b81-91a2ad81af90"
      },
      "outputs": [
        {
          "output_type": "stream",
          "name": "stdout",
          "text": [
            "Epoch   0: Loss = 0.89181\n",
            "Epoch   1: Loss = 0.75747\n",
            "Epoch   2: Loss = 0.70884\n",
            "Epoch   3: Loss = 0.66327\n",
            "Epoch   4: Loss = 0.60633\n"
          ]
        }
      ],
      "source": [
        "\n",
        "# test_dataset = torch.utils.data.TensorDataset(x_test, y_test)\n",
        "\n",
        "# train_features = df_train['features'].to_numpy().flatten()\n",
        "# test_loader = torch.utils.data.DataLoader(dataset=test_dataset, batch_size=batch_size, shuffle=True)\n",
        "# dataloader = torch.utils.data.DataLoader(dataset, batch_size=256, shuffle=True)\n",
        "\n",
        "# train_loader = torch.utils.data.DataLoader(dataset=dataset, batch_size=batch_size, shuffle=True)\n",
        "# test_loader = torch.utils.data.DataLoader(dataset=test_dataset, batch_size=batch_size, shuffle=True)\n",
        "\n",
        "x_test = x_test.to(device=device).squeeze(1)\n",
        "y_test_3 = y_test_3.to(device=device)\n",
        "\n",
        "# Initialize network\n",
        "model = BRNN(input_size, hidden_size, num_layers, num_classes, cell).to(device)\n",
        "\n",
        "# Loss and optimizer\n",
        "criterion = nn.CrossEntropyLoss()\n",
        "optimizer = optim.Adam(model.parameters(), lr=learning_rate)\n",
        "\n",
        "epoch_loss = []\n",
        "validation_loss = []\n",
        "\n",
        "# Train Network\n",
        "for epoch in range(epochs):\n",
        "  model.train()\n",
        "  batch_losses = []\n",
        "  for batch_idx, (data, targets) in enumerate(train_loader):\n",
        "    # Get data to cuda if possible\n",
        "    data = data.to(device=device).squeeze(1)\n",
        "    targets = targets.to(device=device)\n",
        "\n",
        "    # forward\n",
        "    scores = model(data)\n",
        "    loss = criterion(scores, targets)\n",
        "\n",
        "    batch_losses.append(loss.item())\n",
        "\n",
        "    # backward\n",
        "    optimizer.zero_grad()\n",
        "    loss.backward()\n",
        "\n",
        "    # Clip params\n",
        "    for param in model.parameters():\n",
        "        if param.grad is None:\n",
        "            continue\n",
        "        grad_val = torch.clamp(param.grad, -5, 5)\n",
        "\n",
        "    # gradient descent or adam step\n",
        "    optimizer.step()\n",
        "      \n",
        "  epoch_loss.append(sum(batch_losses)/len(train_loader))\n",
        "  model.eval()\n",
        "  with torch.no_grad():\n",
        "    y_test_pred = model(x_test)\n",
        "\n",
        "  val_loss = criterion(y_test_pred, y_test_3)\n",
        "\n",
        "  validation_loss.append(val_loss.item())\n",
        "  print(f\"Epoch {epoch:3}: Loss = {sum(batch_losses)/len(train_loader):.5f}\")\n",
        "      \n",
        "\n",
        "# Check accuracy on training & test to see how good our model\n",
        "\n",
        "\n",
        "# def check_accuracy(loader, model):\n",
        "\n",
        "#     num_correct = 0\n",
        "#     num_samples = 0\n",
        "#     model.eval()\n",
        "\n",
        "#     with torch.no_grad():\n",
        "#         for x, y in loader:\n",
        "#             x = x.to(device=device).squeeze(1)\n",
        "#             y = y.to(device=device)\n",
        "\n",
        "#             scores = model(x)\n",
        "#             _, predictions = scores.max(1)\n",
        "#             num_correct += (predictions == y).sum()\n",
        "#             num_samples += predictions.size(0)\n",
        "\n",
        "#         print(\n",
        "#             f\"Got {num_correct} / {num_samples} with accuracy  \\\n",
        "#               {float(num_correct)/float(num_samples)*100:.2f}\"\n",
        "#         )\n",
        "\n",
        "#     model.train()\n",
        "\n",
        "\n",
        "# check_accuracy(train_loader, model)\n",
        "# check_accuracy(test_loader, model)\n",
        "\n"
      ]
    },
    {
      "cell_type": "code",
      "source": [
        "model.eval()\n",
        "\n",
        "with torch.no_grad():\n",
        "  scores = model(x_test)\n",
        "  _, y_pred = scores.max(1)\n",
        "\n",
        "if device==torch.device(\"cuda\"):\n",
        "   y_pred = y_pred.cpu()\n",
        "   \n",
        "print(\"all in one metrics: precision, recall, f1:\", precision_recall_fscore_support(Y_test, y_pred))\n",
        "print(\"all in one metrics: precision, recall, f1:\", precision_recall_fscore_support(Y_test, y_pred, average='micro'))\n",
        "\n",
        "f1 = f1_score(Y_test, y_pred, average=None)\n",
        "print(\"F1 score for each class = \", f1 * 100, \"%\")\n",
        "f1 = f1_score(Y_test, y_pred, average='micro')\n",
        "print(\"F1 score = \", f1 * 100, \"%\")\n",
        "\n",
        "print(\"precision: \", precision_score(Y_test, y_pred, average='micro'))\n",
        "\n",
        "print(\"recall: \", recall_score(Y_test, y_pred, average='micro'))\n",
        "\n",
        "model.train()"
      ],
      "metadata": {
        "colab": {
          "base_uri": "https://localhost:8080/"
        },
        "id": "ovidnnbl5qm8",
        "outputId": "54eb615e-09b5-4920-a5bf-53110d5d4d43"
      },
      "execution_count": null,
      "outputs": [
        {
          "output_type": "stream",
          "name": "stdout",
          "text": [
            "all in one metrics: precision, recall, f1: (array([0.84468339, 0.60122699, 0.60608424]), array([0.66384977, 0.33108108, 0.84364821]), array([0.74342797, 0.42701525, 0.70540172]), array([1065,  296,  921]))\n",
            "all in one metrics: precision, recall, f1: (0.6932515337423313, 0.6932515337423313, 0.6932515337423313, None)\n",
            "F1 score for each class =  [74.34279706 42.70152505 70.54017249] %\n",
            "F1 score =  69.32515337423312 %\n",
            "precision:  0.6932515337423313\n",
            "recall:  0.6932515337423313\n"
          ]
        },
        {
          "output_type": "execute_result",
          "data": {
            "text/plain": [
              "BRNN(\n",
              "  (lstm): LSTM(200, 128, num_layers=2, batch_first=True, dropout=0.3, bidirectional=True)\n",
              "  (fc): Linear(in_features=256, out_features=3, bias=True)\n",
              ")"
            ]
          },
          "metadata": {},
          "execution_count": 181
        }
      ]
    },
    {
      "cell_type": "markdown",
      "metadata": {
        "id": "9DCj0ZOdKigS"
      },
      "source": [
        "### Confusion Matrix"
      ]
    },
    {
      "cell_type": "code",
      "execution_count": null,
      "metadata": {
        "id": "EpcCOTShpJAX",
        "colab": {
          "base_uri": "https://localhost:8080/",
          "height": 278
        },
        "outputId": "2846f517-fc9f-432a-ba29-006932366e15"
      },
      "outputs": [
        {
          "output_type": "display_data",
          "data": {
            "image/png": "[encoded data removed]",
            "text/plain": [
              "<Figure size 432x288 with 2 Axes>"
            ]
          },
          "metadata": {
            "needs_background": "light"
          }
        }
      ],
      "source": [
        "from sklearn.metrics import ConfusionMatrixDisplay\n",
        "\n",
        "ConfusionMatrixDisplay.from_predictions(Y_test, y_pred, cmap=plt.cm.pink)  \n",
        "plt.show()"
      ]
    },
    {
      "cell_type": "markdown",
      "metadata": {
        "id": "jdKeffHHKFkJ"
      },
      "source": [
        "### Learning Curves"
      ]
    },
    {
      "cell_type": "code",
      "execution_count": null,
      "metadata": {
        "id": "uc-F-ub8FXKO",
        "colab": {
          "base_uri": "https://localhost:8080/",
          "height": 315
        },
        "outputId": "f499802d-0535-424a-e54d-b38ccbd10d2a"
      },
      "outputs": [
        {
          "output_type": "stream",
          "name": "stdout",
          "text": [
            "[0.891812608718872, 0.7574729404449463, 0.7088408145904541, 0.6632738673686981, 0.6063272817134857]\n",
            "[0.7859693169593811, 0.7453698515892029, 0.7290256023406982, 0.7094940543174744, 0.7319232821464539]\n"
          ]
        },
        {
          "output_type": "display_data",
          "data": {
            "image/png": "[encoded data removed]",
            "text/plain": [
              "<Figure size 432x288 with 1 Axes>"
            ]
          },
          "metadata": {
            "needs_background": "light"
          }
        }
      ],
      "source": [
        "# plot\n",
        "print(epoch_loss)\n",
        "print(validation_loss)\n",
        "fig, ax = plt.subplots()\n",
        "ax.plot(np.arange(epochs), validation_loss, color=\"pink\", lw=2, label='validation')\n",
        "ax.plot(np.arange(epochs), epoch_loss, color=\"b\", lw=2, label='training')\n",
        "\n",
        "ax.set_xlabel('Epochs')\n",
        "ax.set_ylabel('Cross Entropy Loss')\n",
        "\n",
        "ax.grid()\n",
        "ax.legend(loc=0)\n",
        "plt.show()\n",
        "  "
      ]
    },
    {
      "cell_type": "code",
      "execution_count": null,
      "metadata": {
        "id": "ecDEwd5B_Rk_",
        "colab": {
          "base_uri": "https://localhost:8080/",
          "height": 551
        },
        "outputId": "29d5bfe2-3096-49e0-e572-0e2b3032ab5c"
      },
      "outputs": [
        {
          "output_type": "stream",
          "name": "stderr",
          "text": [
            "/usr/local/lib/python3.7/dist-packages/ipykernel_launcher.py:43: DeprecationWarning: scipy.interp is deprecated and will be removed in SciPy 2.0.0, use numpy.interp instead\n"
          ]
        },
        {
          "output_type": "display_data",
          "data": {
            "image/png": "[encoded data removed]",
            "text/plain": [
              "<Figure size 576x576 with 1 Axes>"
            ]
          },
          "metadata": {
            "needs_background": "light"
          }
        }
      ],
      "source": [
        "# CODE FROM https://scikit-learn.org/stable/auto_examples/model_selection/plot_roc.html\n",
        "# import numpy as np\n",
        "# import matplotlib.pyplot as plt\n",
        "from itertools import cycle\n",
        "\n",
        "from sklearn.metrics import roc_curve, auc\n",
        "# from sklearn.model_selection import train_test_split\n",
        "from sklearn.preprocessing import label_binarize\n",
        "from sklearn.multiclass import OneVsRestClassifier\n",
        "from scipy import interp\n",
        "from sklearn.metrics import roc_auc_score\n",
        "\n",
        "if device==torch.device(\"cuda\"):\n",
        "  print(\"here\")\n",
        "  y_score = scores.detach().cpu().numpy()\n",
        "else:\n",
        "  y_score = scores.detach().numpy()\n",
        "# y_score = y_pred_3\n",
        "y_test = np.array(pd.get_dummies(Y_test))\n",
        "n_classes = 3\n",
        "# print(y_score)\n",
        "# print(y_test)\n",
        "# print(n_classes)\n",
        "# Compute ROC curve and ROC area for each class\n",
        "fpr = dict()\n",
        "tpr = dict()\n",
        "roc_auc = dict()\n",
        "for i in range(n_classes):\n",
        "    fpr[i], tpr[i], _ = roc_curve(y_test[:, i], y_score[:, i])\n",
        "    roc_auc[i] = auc(fpr[i], tpr[i])\n",
        "\n",
        "# Compute micro-average ROC curve and ROC area\n",
        "fpr[\"micro\"], tpr[\"micro\"], _ = roc_curve(y_test.ravel(), y_score.ravel())\n",
        "roc_auc[\"micro\"] = auc(fpr[\"micro\"], tpr[\"micro\"])\n",
        "################################################################################\n",
        "\n",
        "# First aggregate all false positive rates\n",
        "all_fpr = np.unique(np.concatenate([fpr[i] for i in range(n_classes)]))\n",
        "\n",
        "# Then interpolate all ROC curves at this points\n",
        "mean_tpr = np.zeros_like(all_fpr)\n",
        "for i in range(n_classes):\n",
        "    mean_tpr += interp(all_fpr, fpr[i], tpr[i])\n",
        "\n",
        "# Finally average it and compute AUC\n",
        "mean_tpr /= n_classes\n",
        "\n",
        "fpr[\"macro\"] = all_fpr\n",
        "tpr[\"macro\"] = mean_tpr\n",
        "roc_auc[\"macro\"] = auc(fpr[\"macro\"], tpr[\"macro\"])\n",
        "\n",
        "# Plot all ROC curves\n",
        "plt.figure(figsize=(8,8))\n",
        "plt.plot(\n",
        "    fpr[\"micro\"],\n",
        "    tpr[\"micro\"],\n",
        "    label=\"micro-average ROC curve (area = {0:0.2f})\".format(roc_auc[\"micro\"]),\n",
        "    color=\"deeppink\",\n",
        "    linestyle=\":\",\n",
        "    linewidth=4,\n",
        ")\n",
        "\n",
        "plt.plot(\n",
        "    fpr[\"macro\"],\n",
        "    tpr[\"macro\"],\n",
        "    label=\"macro-average ROC curve (area = {0:0.2f})\".format(roc_auc[\"macro\"]),\n",
        "    color=\"navy\",\n",
        "    linestyle=\":\",\n",
        "    linewidth=4,\n",
        ")\n",
        "\n",
        "colors = cycle([\"aqua\", \"darkorange\", \"cornflowerblue\"])\n",
        "for i, color in zip(range(n_classes), colors):\n",
        "    plt.plot(\n",
        "        fpr[i],\n",
        "        tpr[i],\n",
        "        color=color,\n",
        "        lw=3,\n",
        "        label=\"ROC curve of class {0} (area = {1:0.2f})\".format(i, roc_auc[i]),\n",
        "    )\n",
        "\n",
        "plt.plot([0, 1], [0, 1], \"k--\", lw=3)\n",
        "plt.xlim([0.0, 1.0])\n",
        "plt.ylim([0.0, 1.05])\n",
        "plt.xlabel(\"False Positive Rate\")\n",
        "plt.ylabel(\"True Positive Rate\")\n",
        "plt.title(\"Some extension of Receiver operating characteristic to multiclass\")\n",
        "plt.legend(loc=\"lower right\")\n",
        "plt.show()"
      ]
    },
    {
      "cell_type": "markdown",
      "source": [
        "### Skip connections"
      ],
      "metadata": {
        "id": "Qz1QIYvfu4cE"
      }
    },
    {
      "cell_type": "code",
      "execution_count": null,
      "metadata": {
        "id": "F1TmyhKlpWQ3"
      },
      "outputs": [],
      "source": [
        "# set_seed()\n",
        "# np.random.seed(20)\n",
        "# torch.manual_seed(20)\n",
        "# Hyperparameters\n",
        "input_size = 200\n",
        "sequence_length = 31 # length inside a batch\n",
        "num_layers = 2\n",
        "hidden_size = 64\n",
        "num_classes = 3\n",
        "learning_rate = 0.01\n",
        "batch_size = 128\n",
        "cell = 'GRU'\n",
        "epochs = 7"
      ]
    },
    {
      "cell_type": "markdown",
      "source": [
        "[link text](https://www.slideshare.net/fgodin/skip-residual-and-densely-connected-rnn-architectures)"
      ],
      "metadata": {
        "id": "2Gtogu00QYVh"
      }
    },
    {
      "cell_type": "code",
      "source": [
        "from torchtext import vocab\n",
        "from torchtext.legacy.data import Field,Dataset,LabelField,BucketIterator,TabularDataset"
      ],
      "metadata": {
        "id": "49UU3f50Jd8N"
      },
      "execution_count": null,
      "outputs": []
    },
    {
      "cell_type": "code",
      "execution_count": null,
      "metadata": {
        "id": "4KYbNJ2Sze59"
      },
      "outputs": [],
      "source": [
        "vector_length = 128\n",
        "glove_length  = 200\n",
        "glove_package  = vocab.Vectors(r\"/content/drive/MyDrive/Colab Notebooks/Artificial Intelligence II/glove.twitter.27B.200d.txt.gz (Unzipped Files)/glove.twitter.27B.200d.txt\")"
      ]
    },
    {
      "cell_type": "markdown",
      "source": [
        "###dokimes"
      ],
      "metadata": {
        "id": "1aghD5aY14tG"
      }
    },
    {
      "cell_type": "code",
      "source": [
        "df_train"
      ],
      "metadata": {
        "colab": {
          "base_uri": "https://localhost:8080/",
          "height": 814
        },
        "id": "tEZObOveqVNh",
        "outputId": "4d9344fb-e764-4f97-f097-0d212ae4dff5"
      },
      "execution_count": null,
      "outputs": [
        {
          "output_type": "execute_result",
          "data": {
            "text/html": [
              "\n",
              "  <div id=\"df-5fcd50a4-ddda-45ac-8619-d4079018a421\">\n",
              "    <div class=\"colab-df-container\">\n",
              "      <div>\n",
              "<style scoped>\n",
              "    .dataframe tbody tr th:only-of-type {\n",
              "        vertical-align: middle;\n",
              "    }\n",
              "\n",
              "    .dataframe tbody tr th {\n",
              "        vertical-align: top;\n",
              "    }\n",
              "\n",
              "    .dataframe thead th {\n",
              "        text-align: right;\n",
              "    }\n",
              "</style>\n",
              "<table border=\"1\" class=\"dataframe\">\n",
              "  <thead>\n",
              "    <tr style=\"text-align: right;\">\n",
              "      <th></th>\n",
              "      <th>tweet</th>\n",
              "      <th>label</th>\n",
              "      <th>cleanglove_tweet</th>\n",
              "      <th>features</th>\n",
              "      <th>cleantfidf_tweet</th>\n",
              "    </tr>\n",
              "  </thead>\n",
              "  <tbody>\n",
              "    <tr>\n",
              "      <th>0</th>\n",
              "      <td>Sip N Shop Come thru right now #Marjais #Popul...</td>\n",
              "      <td>0</td>\n",
              "      <td>sip n shop come thru right marjais popularnobo...</td>\n",
              "      <td>[[-0.16063, -0.28647, -0.60789, 0.42767, -0.11...</td>\n",
              "      <td>sip n shop come thru right marjais popularnobo...</td>\n",
              "    </tr>\n",
              "    <tr>\n",
              "      <th>1</th>\n",
              "      <td>I don't know about you but My family and I wil...</td>\n",
              "      <td>1</td>\n",
              "      <td>dont know family take covid19 vaccine anytime ...</td>\n",
              "      <td>[[-0.33784, 0.54451, -0.1921, 0.43394, -0.4804...</td>\n",
              "      <td>dont know family take covid19 vaccine anytime ...</td>\n",
              "    </tr>\n",
              "    <tr>\n",
              "      <th>2</th>\n",
              "      <td>@MSignorile Immunizations should be mandatory....</td>\n",
              "      <td>2</td>\n",
              "      <td>msignorile immunizations mandatory period okla...</td>\n",
              "      <td>[[-0.33915, -0.28546, -0.26841, 0.014209, 0.23...</td>\n",
              "      <td>msignorile immunizations mandatory period okla...</td>\n",
              "    </tr>\n",
              "    <tr>\n",
              "      <th>3</th>\n",
              "      <td>President Obama spoke in favor of vaccination ...</td>\n",
              "      <td>0</td>\n",
              "      <td>president obama spoke favor vaccination childr...</td>\n",
              "      <td>[[0.34601, 0.30425, -0.098192, 0.08868, -0.359...</td>\n",
              "      <td>president obama spoke favor vaccination childr...</td>\n",
              "    </tr>\n",
              "    <tr>\n",
              "      <th>4</th>\n",
              "      <td>\"@myfoxla: Arizona monitoring hundreds for mea...</td>\n",
              "      <td>0</td>\n",
              "      <td>myfoxla arizona monitoring hundreds measles li...</td>\n",
              "      <td>[[0.2101, -0.21056, -0.36659, -0.37312, 0.0773...</td>\n",
              "      <td>myfoxla arizona monitoring hundreds measles li...</td>\n",
              "    </tr>\n",
              "    <tr>\n",
              "      <th>...</th>\n",
              "      <td>...</td>\n",
              "      <td>...</td>\n",
              "      <td>...</td>\n",
              "      <td>...</td>\n",
              "      <td>...</td>\n",
              "    </tr>\n",
              "    <tr>\n",
              "      <th>15971</th>\n",
              "      <td>@Salon if u believe the anti-vax nutcases caus...</td>\n",
              "      <td>1</td>\n",
              "      <td>salon u believe antivax nutcases caused measle...</td>\n",
              "      <td>[[0.15358, -0.30126, -0.3615, 0.24909, 0.72131...</td>\n",
              "      <td>salon u believe antivax nutcases caused measle...</td>\n",
              "    </tr>\n",
              "    <tr>\n",
              "      <th>15972</th>\n",
              "      <td>How do you feel about parents who don't #vacci...</td>\n",
              "      <td>0</td>\n",
              "      <td>feel parents dont vaccinate kids\\r\\n\\r\\nmeasle...</td>\n",
              "      <td>[[0.061424, 0.42365, -0.13984, 0.26585, -0.215...</td>\n",
              "      <td>feel parents dont vaccinate kids\\r\\n\\r\\nmeasle...</td>\n",
              "    </tr>\n",
              "    <tr>\n",
              "      <th>15973</th>\n",
              "      <td>70 Preschoolers Tested for Measles in Simi Val...</td>\n",
              "      <td>0</td>\n",
              "      <td>70 preschoolers tested measles simi valley</td>\n",
              "      <td>[[0.058755, 0.018929, 0.24508, 0.021967, -0.23...</td>\n",
              "      <td>70 preschoolers tested measles simi valley</td>\n",
              "    </tr>\n",
              "    <tr>\n",
              "      <th>15974</th>\n",
              "      <td>Finance Minister: Budget offers room to procur...</td>\n",
              "      <td>0</td>\n",
              "      <td>finance minister budget offers room procure co...</td>\n",
              "      <td>[[0.14571, -0.31397, -0.39098, -0.16087, -0.02...</td>\n",
              "      <td>finance minister budget offers room procure co...</td>\n",
              "    </tr>\n",
              "    <tr>\n",
              "      <th>15975</th>\n",
              "      <td>Are you up to date on vaccines? Take CDC’s vac...</td>\n",
              "      <td>2</td>\n",
              "      <td>date vaccines take cdc’s vaccine quiz find vac...</td>\n",
              "      <td>[[-0.48751, 0.11036, 0.16039, -0.15214, -0.217...</td>\n",
              "      <td>date vaccines take cdc’s vaccine quiz find vac...</td>\n",
              "    </tr>\n",
              "  </tbody>\n",
              "</table>\n",
              "<p>15976 rows × 5 columns</p>\n",
              "</div>\n",
              "      <button class=\"colab-df-convert\" onclick=\"convertToInteractive('df-5fcd50a4-ddda-45ac-8619-d4079018a421')\"\n",
              "              title=\"Convert this dataframe to an interactive table.\"\n",
              "              style=\"display:none;\">\n",
              "        \n",
              "  <svg xmlns=\"http://www.w3.org/2000/svg\" height=\"24px\"viewBox=\"0 0 24 24\"\n",
              "       width=\"24px\">\n",
              "    <path d=\"M0 0h24v24H0V0z\" fill=\"none\"/>\n",
              "    <path d=\"M18.56 5.44l.94 2.06.94-2.06 2.06-.94-2.06-.94-.94-2.06-.94 2.06-2.06.94zm-11 1L8.5 8.5l.94-2.06 2.06-.94-2.06-.94L8.5 2.5l-.94 2.06-2.06.94zm10 10l.94 2.06.94-2.06 2.06-.94-2.06-.94-.94-2.06-.94 2.06-2.06.94z\"/><path d=\"M17.41 7.96l-1.37-1.37c-.4-.4-.92-.59-1.43-.59-.52 0-1.04.2-1.43.59L10.3 9.45l-7.72 7.72c-.78.78-.78 2.05 0 2.83L4 21.41c.39.39.9.59 1.41.59.51 0 1.02-.2 1.41-.59l7.78-7.78 2.81-2.81c.8-.78.8-2.07 0-2.86zM5.41 20L4 18.59l7.72-7.72 1.47 1.35L5.41 20z\"/>\n",
              "  </svg>\n",
              "      </button>\n",
              "      \n",
              "  <style>\n",
              "    .colab-df-container {\n",
              "      display:flex;\n",
              "      flex-wrap:wrap;\n",
              "      gap: 12px;\n",
              "    }\n",
              "\n",
              "    .colab-df-convert {\n",
              "      background-color: #E8F0FE;\n",
              "      border: none;\n",
              "      border-radius: 50%;\n",
              "      cursor: pointer;\n",
              "      display: none;\n",
              "      fill: #1967D2;\n",
              "      height: 32px;\n",
              "      padding: 0 0 0 0;\n",
              "      width: 32px;\n",
              "    }\n",
              "\n",
              "    .colab-df-convert:hover {\n",
              "      background-color: #E2EBFA;\n",
              "      box-shadow: 0px 1px 2px rgba(60, 64, 67, 0.3), 0px 1px 3px 1px rgba(60, 64, 67, 0.15);\n",
              "      fill: #174EA6;\n",
              "    }\n",
              "\n",
              "    [theme=dark] .colab-df-convert {\n",
              "      background-color: #3B4455;\n",
              "      fill: #D2E3FC;\n",
              "    }\n",
              "\n",
              "    [theme=dark] .colab-df-convert:hover {\n",
              "      background-color: #434B5C;\n",
              "      box-shadow: 0px 1px 3px 1px rgba(0, 0, 0, 0.15);\n",
              "      filter: drop-shadow(0px 1px 2px rgba(0, 0, 0, 0.3));\n",
              "      fill: #FFFFFF;\n",
              "    }\n",
              "  </style>\n",
              "\n",
              "      <script>\n",
              "        const buttonEl =\n",
              "          document.querySelector('#df-5fcd50a4-ddda-45ac-8619-d4079018a421 button.colab-df-convert');\n",
              "        buttonEl.style.display =\n",
              "          google.colab.kernel.accessAllowed ? 'block' : 'none';\n",
              "\n",
              "        async function convertToInteractive(key) {\n",
              "          const element = document.querySelector('#df-5fcd50a4-ddda-45ac-8619-d4079018a421');\n",
              "          const dataTable =\n",
              "            await google.colab.kernel.invokeFunction('convertToInteractive',\n",
              "                                                     [key], {});\n",
              "          if (!dataTable) return;\n",
              "\n",
              "          const docLinkHtml = 'Like what you see? Visit the ' +\n",
              "            '<a target=\"_blank\" href=https://colab.research.google.com/notebooks/data_table.ipynb>data table notebook</a>'\n",
              "            + ' to learn more about interactive tables.';\n",
              "          element.innerHTML = '';\n",
              "          dataTable['output_type'] = 'display_data';\n",
              "          await google.colab.output.renderOutput(dataTable, element);\n",
              "          const docLink = document.createElement('div');\n",
              "          docLink.innerHTML = docLinkHtml;\n",
              "          element.appendChild(docLink);\n",
              "        }\n",
              "      </script>\n",
              "    </div>\n",
              "  </div>\n",
              "  "
            ],
            "text/plain": [
              "                                                   tweet  ...                                   cleantfidf_tweet\n",
              "0      Sip N Shop Come thru right now #Marjais #Popul...  ...  sip n shop come thru right marjais popularnobo...\n",
              "1      I don't know about you but My family and I wil...  ...  dont know family take covid19 vaccine anytime ...\n",
              "2      @MSignorile Immunizations should be mandatory....  ...  msignorile immunizations mandatory period okla...\n",
              "3      President Obama spoke in favor of vaccination ...  ...  president obama spoke favor vaccination childr...\n",
              "4      \"@myfoxla: Arizona monitoring hundreds for mea...  ...  myfoxla arizona monitoring hundreds measles li...\n",
              "...                                                  ...  ...                                                ...\n",
              "15971  @Salon if u believe the anti-vax nutcases caus...  ...  salon u believe antivax nutcases caused measle...\n",
              "15972  How do you feel about parents who don't #vacci...  ...  feel parents dont vaccinate kids\\r\\n\\r\\nmeasle...\n",
              "15973  70 Preschoolers Tested for Measles in Simi Val...  ...        70 preschoolers tested measles simi valley \n",
              "15974  Finance Minister: Budget offers room to procur...  ...  finance minister budget offers room procure co...\n",
              "15975  Are you up to date on vaccines? Take CDC’s vac...  ...  date vaccines take cdc’s vaccine quiz find vac...\n",
              "\n",
              "[15976 rows x 5 columns]"
            ]
          },
          "metadata": {},
          "execution_count": 188
        }
      ]
    },
    {
      "cell_type": "code",
      "source": [
        "# df_train.drop(['tweet'], axis=1, inplace=True)\n",
        "# df_test.drop(['tweet'], axis=1, inplace=True)"
      ],
      "metadata": {
        "id": "6sa9pOaapk2w"
      },
      "execution_count": null,
      "outputs": []
    },
    {
      "cell_type": "code",
      "metadata": {
        "id": "GIbrU4djJ7hs",
        "colab": {
          "base_uri": "https://localhost:8080/",
          "height": 454
        },
        "outputId": "f8bc68d2-8dc2-434e-a134-619d1201b608"
      },
      "source": [
        "\n",
        "# df_train.rename(columns={'cleanglove_tweet':'text'}, inplace=True)\n",
        "# df_test.rename(columns={'cleanglove_tweet':'text'}, inplace=True)\n",
        "# df_train.to_csv('train.csv', index=False)\n",
        "# df_test.to_csv('test.csv', index=False)\n",
        "\n",
        "TEXT = Field(tokenize = 'spacy', include_lengths=True)\n",
        "\n",
        "LABEL = LabelField(dtype = torch.float)\n",
        "\n",
        "train_val_fields = [\n",
        "  ('text', TEXT), # process it as text\n",
        "  ('label', LABEL) # process it as label\n",
        "]\n",
        "\n",
        "TEXT = Field(tokenize = 'spacy', include_lengths=True)\n",
        "LABEL = LabelField(dtype = torch.float)\n",
        "\n",
        "fields = {'text': ('text', TEXT), 'label': ('label', LABEL)}\n",
        "\n",
        "train_ds, test_ds = TabularDataset.splits(path='/content/', train='train.csv', test='test.csv', format='csv', fields=fields)\n",
        "print(vars(train_ds[0]))\n",
        "\n",
        "vocab_size = 20000\n",
        "# build the vocabulary for both of the fields\n",
        "TEXT.build_vocab(train_ds,  max_size = vocab_size, vectors = glove_package, unk_init=torch.Tensor.normal_)\n",
        "LABEL.build_vocab(train_ds)\n",
        "\n",
        "# create the 2 iterators\n",
        "train_loader, test_loader = BucketIterator.splits((train_ds, test_ds), \n",
        "    batch_size = 128, device = device, sort_within_batch = True, sort_key = lambda x: len(x.text,))"
      ],
      "execution_count": null,
      "outputs": [
        {
          "output_type": "error",
          "ename": "KeyboardInterrupt",
          "evalue": "ignored",
          "traceback": [
            "\u001b[0;31m---------------------------------------------------------------------------\u001b[0m",
            "\u001b[0;31mKeyboardInterrupt\u001b[0m                         Traceback (most recent call last)",
            "\u001b[0;32m<ipython-input-190-d7ba5df01eb6>\u001b[0m in \u001b[0;36m<module>\u001b[0;34m()\u001b[0m\n\u001b[1;32m      2\u001b[0m \u001b[0mdf_train\u001b[0m\u001b[0;34m.\u001b[0m\u001b[0mrename\u001b[0m\u001b[0;34m(\u001b[0m\u001b[0mcolumns\u001b[0m\u001b[0;34m=\u001b[0m\u001b[0;34m{\u001b[0m\u001b[0;34m'cleanglove_tweet'\u001b[0m\u001b[0;34m:\u001b[0m\u001b[0;34m'text'\u001b[0m\u001b[0;34m}\u001b[0m\u001b[0;34m,\u001b[0m \u001b[0minplace\u001b[0m\u001b[0;34m=\u001b[0m\u001b[0;32mTrue\u001b[0m\u001b[0;34m)\u001b[0m\u001b[0;34m\u001b[0m\u001b[0;34m\u001b[0m\u001b[0m\n\u001b[1;32m      3\u001b[0m \u001b[0mdf_test\u001b[0m\u001b[0;34m.\u001b[0m\u001b[0mrename\u001b[0m\u001b[0;34m(\u001b[0m\u001b[0mcolumns\u001b[0m\u001b[0;34m=\u001b[0m\u001b[0;34m{\u001b[0m\u001b[0;34m'cleanglove_tweet'\u001b[0m\u001b[0;34m:\u001b[0m\u001b[0;34m'text'\u001b[0m\u001b[0;34m}\u001b[0m\u001b[0;34m,\u001b[0m \u001b[0minplace\u001b[0m\u001b[0;34m=\u001b[0m\u001b[0;32mTrue\u001b[0m\u001b[0;34m)\u001b[0m\u001b[0;34m\u001b[0m\u001b[0;34m\u001b[0m\u001b[0m\n\u001b[0;32m----> 4\u001b[0;31m \u001b[0mdf_train\u001b[0m\u001b[0;34m.\u001b[0m\u001b[0mto_csv\u001b[0m\u001b[0;34m(\u001b[0m\u001b[0;34m'train.csv'\u001b[0m\u001b[0;34m,\u001b[0m \u001b[0mindex\u001b[0m\u001b[0;34m=\u001b[0m\u001b[0;32mFalse\u001b[0m\u001b[0;34m)\u001b[0m\u001b[0;34m\u001b[0m\u001b[0;34m\u001b[0m\u001b[0m\n\u001b[0m\u001b[1;32m      5\u001b[0m \u001b[0mdf_test\u001b[0m\u001b[0;34m.\u001b[0m\u001b[0mto_csv\u001b[0m\u001b[0;34m(\u001b[0m\u001b[0;34m'test.csv'\u001b[0m\u001b[0;34m,\u001b[0m \u001b[0mindex\u001b[0m\u001b[0;34m=\u001b[0m\u001b[0;32mFalse\u001b[0m\u001b[0;34m)\u001b[0m\u001b[0;34m\u001b[0m\u001b[0;34m\u001b[0m\u001b[0m\n\u001b[1;32m      6\u001b[0m \u001b[0;34m\u001b[0m\u001b[0m\n",
            "\u001b[0;32m/usr/local/lib/python3.7/dist-packages/pandas/core/generic.py\u001b[0m in \u001b[0;36mto_csv\u001b[0;34m(self, path_or_buf, sep, na_rep, float_format, columns, header, index, index_label, mode, encoding, compression, quoting, quotechar, line_terminator, chunksize, date_format, doublequote, escapechar, decimal, errors)\u001b[0m\n\u001b[1;32m   3168\u001b[0m             \u001b[0mdecimal\u001b[0m\u001b[0;34m=\u001b[0m\u001b[0mdecimal\u001b[0m\u001b[0;34m,\u001b[0m\u001b[0;34m\u001b[0m\u001b[0;34m\u001b[0m\u001b[0m\n\u001b[1;32m   3169\u001b[0m         )\n\u001b[0;32m-> 3170\u001b[0;31m         \u001b[0mformatter\u001b[0m\u001b[0;34m.\u001b[0m\u001b[0msave\u001b[0m\u001b[0;34m(\u001b[0m\u001b[0;34m)\u001b[0m\u001b[0;34m\u001b[0m\u001b[0;34m\u001b[0m\u001b[0m\n\u001b[0m\u001b[1;32m   3171\u001b[0m \u001b[0;34m\u001b[0m\u001b[0m\n\u001b[1;32m   3172\u001b[0m         \u001b[0;32mif\u001b[0m \u001b[0mpath_or_buf\u001b[0m \u001b[0;32mis\u001b[0m \u001b[0;32mNone\u001b[0m\u001b[0;34m:\u001b[0m\u001b[0;34m\u001b[0m\u001b[0;34m\u001b[0m\u001b[0m\n",
            "\u001b[0;32m/usr/local/lib/python3.7/dist-packages/pandas/io/formats/csvs.py\u001b[0m in \u001b[0;36msave\u001b[0;34m(self)\u001b[0m\n\u001b[1;32m    204\u001b[0m             )\n\u001b[1;32m    205\u001b[0m \u001b[0;34m\u001b[0m\u001b[0m\n\u001b[0;32m--> 206\u001b[0;31m             \u001b[0mself\u001b[0m\u001b[0;34m.\u001b[0m\u001b[0m_save\u001b[0m\u001b[0;34m(\u001b[0m\u001b[0;34m)\u001b[0m\u001b[0;34m\u001b[0m\u001b[0;34m\u001b[0m\u001b[0m\n\u001b[0m\u001b[1;32m    207\u001b[0m \u001b[0;34m\u001b[0m\u001b[0m\n\u001b[1;32m    208\u001b[0m         \u001b[0;32mfinally\u001b[0m\u001b[0;34m:\u001b[0m\u001b[0;34m\u001b[0m\u001b[0;34m\u001b[0m\u001b[0m\n",
            "\u001b[0;32m/usr/local/lib/python3.7/dist-packages/pandas/io/formats/csvs.py\u001b[0m in \u001b[0;36m_save\u001b[0;34m(self)\u001b[0m\n\u001b[1;32m    326\u001b[0m                 \u001b[0;32mbreak\u001b[0m\u001b[0;34m\u001b[0m\u001b[0;34m\u001b[0m\u001b[0m\n\u001b[1;32m    327\u001b[0m \u001b[0;34m\u001b[0m\u001b[0m\n\u001b[0;32m--> 328\u001b[0;31m             \u001b[0mself\u001b[0m\u001b[0;34m.\u001b[0m\u001b[0m_save_chunk\u001b[0m\u001b[0;34m(\u001b[0m\u001b[0mstart_i\u001b[0m\u001b[0;34m,\u001b[0m \u001b[0mend_i\u001b[0m\u001b[0;34m)\u001b[0m\u001b[0;34m\u001b[0m\u001b[0;34m\u001b[0m\u001b[0m\n\u001b[0m\u001b[1;32m    329\u001b[0m \u001b[0;34m\u001b[0m\u001b[0m\n\u001b[1;32m    330\u001b[0m     \u001b[0;32mdef\u001b[0m \u001b[0m_save_chunk\u001b[0m\u001b[0;34m(\u001b[0m\u001b[0mself\u001b[0m\u001b[0;34m,\u001b[0m \u001b[0mstart_i\u001b[0m\u001b[0;34m:\u001b[0m \u001b[0mint\u001b[0m\u001b[0;34m,\u001b[0m \u001b[0mend_i\u001b[0m\u001b[0;34m:\u001b[0m \u001b[0mint\u001b[0m\u001b[0;34m)\u001b[0m \u001b[0;34m->\u001b[0m \u001b[0;32mNone\u001b[0m\u001b[0;34m:\u001b[0m\u001b[0;34m\u001b[0m\u001b[0;34m\u001b[0m\u001b[0m\n",
            "\u001b[0;32m/usr/local/lib/python3.7/dist-packages/pandas/io/formats/csvs.py\u001b[0m in \u001b[0;36m_save_chunk\u001b[0;34m(self, start_i, end_i)\u001b[0m\n\u001b[1;32m    360\u001b[0m         )\n\u001b[1;32m    361\u001b[0m \u001b[0;34m\u001b[0m\u001b[0m\n\u001b[0;32m--> 362\u001b[0;31m         \u001b[0mlibwriters\u001b[0m\u001b[0;34m.\u001b[0m\u001b[0mwrite_csv_rows\u001b[0m\u001b[0;34m(\u001b[0m\u001b[0mself\u001b[0m\u001b[0;34m.\u001b[0m\u001b[0mdata\u001b[0m\u001b[0;34m,\u001b[0m \u001b[0mix\u001b[0m\u001b[0;34m,\u001b[0m \u001b[0mself\u001b[0m\u001b[0;34m.\u001b[0m\u001b[0mnlevels\u001b[0m\u001b[0;34m,\u001b[0m \u001b[0mself\u001b[0m\u001b[0;34m.\u001b[0m\u001b[0mcols\u001b[0m\u001b[0;34m,\u001b[0m \u001b[0mself\u001b[0m\u001b[0;34m.\u001b[0m\u001b[0mwriter\u001b[0m\u001b[0;34m)\u001b[0m\u001b[0;34m\u001b[0m\u001b[0;34m\u001b[0m\u001b[0m\n\u001b[0m",
            "\u001b[0;32mpandas/_libs/writers.pyx\u001b[0m in \u001b[0;36mpandas._libs.writers.write_csv_rows\u001b[0;34m()\u001b[0m\n",
            "\u001b[0;32m/usr/local/lib/python3.7/dist-packages/numpy/core/arrayprint.py\u001b[0m in \u001b[0;36m_array_repr_implementation\u001b[0;34m(arr, max_line_width, precision, suppress_small, array2string)\u001b[0m\n\u001b[1;32m   1385\u001b[0m     \u001b[0;32melif\u001b[0m \u001b[0marr\u001b[0m\u001b[0;34m.\u001b[0m\u001b[0msize\u001b[0m \u001b[0;34m>\u001b[0m \u001b[0;36m0\u001b[0m \u001b[0;32mor\u001b[0m \u001b[0marr\u001b[0m\u001b[0;34m.\u001b[0m\u001b[0mshape\u001b[0m \u001b[0;34m==\u001b[0m \u001b[0;34m(\u001b[0m\u001b[0;36m0\u001b[0m\u001b[0;34m,\u001b[0m\u001b[0;34m)\u001b[0m\u001b[0;34m:\u001b[0m\u001b[0;34m\u001b[0m\u001b[0;34m\u001b[0m\u001b[0m\n\u001b[1;32m   1386\u001b[0m         lst = array2string(arr, max_line_width, precision, suppress_small,\n\u001b[0;32m-> 1387\u001b[0;31m                            ', ', prefix, suffix=suffix)\n\u001b[0m\u001b[1;32m   1388\u001b[0m     \u001b[0;32melse\u001b[0m\u001b[0;34m:\u001b[0m  \u001b[0;31m# show zero-length shape unless it is (0,)\u001b[0m\u001b[0;34m\u001b[0m\u001b[0;34m\u001b[0m\u001b[0m\n\u001b[1;32m   1389\u001b[0m         \u001b[0mlst\u001b[0m \u001b[0;34m=\u001b[0m \u001b[0;34m\"[], shape=%s\"\u001b[0m \u001b[0;34m%\u001b[0m \u001b[0;34m(\u001b[0m\u001b[0mrepr\u001b[0m\u001b[0;34m(\u001b[0m\u001b[0marr\u001b[0m\u001b[0;34m.\u001b[0m\u001b[0mshape\u001b[0m\u001b[0;34m)\u001b[0m\u001b[0;34m,\u001b[0m\u001b[0;34m)\u001b[0m\u001b[0;34m\u001b[0m\u001b[0;34m\u001b[0m\u001b[0m\n",
            "\u001b[0;32m/usr/local/lib/python3.7/dist-packages/numpy/core/arrayprint.py\u001b[0m in \u001b[0;36marray2string\u001b[0;34m(a, max_line_width, precision, suppress_small, separator, prefix, style, formatter, threshold, edgeitems, sign, floatmode, suffix, legacy)\u001b[0m\n\u001b[1;32m    690\u001b[0m         \u001b[0;32mreturn\u001b[0m \u001b[0;34m\"[]\"\u001b[0m\u001b[0;34m\u001b[0m\u001b[0;34m\u001b[0m\u001b[0m\n\u001b[1;32m    691\u001b[0m \u001b[0;34m\u001b[0m\u001b[0m\n\u001b[0;32m--> 692\u001b[0;31m     \u001b[0;32mreturn\u001b[0m \u001b[0m_array2string\u001b[0m\u001b[0;34m(\u001b[0m\u001b[0ma\u001b[0m\u001b[0;34m,\u001b[0m \u001b[0moptions\u001b[0m\u001b[0;34m,\u001b[0m \u001b[0mseparator\u001b[0m\u001b[0;34m,\u001b[0m \u001b[0mprefix\u001b[0m\u001b[0;34m)\u001b[0m\u001b[0;34m\u001b[0m\u001b[0;34m\u001b[0m\u001b[0m\n\u001b[0m\u001b[1;32m    693\u001b[0m \u001b[0;34m\u001b[0m\u001b[0m\n\u001b[1;32m    694\u001b[0m \u001b[0;34m\u001b[0m\u001b[0m\n",
            "\u001b[0;32m/usr/local/lib/python3.7/dist-packages/numpy/core/arrayprint.py\u001b[0m in \u001b[0;36mwrapper\u001b[0;34m(self, *args, **kwargs)\u001b[0m\n\u001b[1;32m    466\u001b[0m             \u001b[0mrepr_running\u001b[0m\u001b[0;34m.\u001b[0m\u001b[0madd\u001b[0m\u001b[0;34m(\u001b[0m\u001b[0mkey\u001b[0m\u001b[0;34m)\u001b[0m\u001b[0;34m\u001b[0m\u001b[0;34m\u001b[0m\u001b[0m\n\u001b[1;32m    467\u001b[0m             \u001b[0;32mtry\u001b[0m\u001b[0;34m:\u001b[0m\u001b[0;34m\u001b[0m\u001b[0;34m\u001b[0m\u001b[0m\n\u001b[0;32m--> 468\u001b[0;31m                 \u001b[0;32mreturn\u001b[0m \u001b[0mf\u001b[0m\u001b[0;34m(\u001b[0m\u001b[0mself\u001b[0m\u001b[0;34m,\u001b[0m \u001b[0;34m*\u001b[0m\u001b[0margs\u001b[0m\u001b[0;34m,\u001b[0m \u001b[0;34m**\u001b[0m\u001b[0mkwargs\u001b[0m\u001b[0;34m)\u001b[0m\u001b[0;34m\u001b[0m\u001b[0;34m\u001b[0m\u001b[0m\n\u001b[0m\u001b[1;32m    469\u001b[0m             \u001b[0;32mfinally\u001b[0m\u001b[0;34m:\u001b[0m\u001b[0;34m\u001b[0m\u001b[0;34m\u001b[0m\u001b[0m\n\u001b[1;32m    470\u001b[0m                 \u001b[0mrepr_running\u001b[0m\u001b[0;34m.\u001b[0m\u001b[0mdiscard\u001b[0m\u001b[0;34m(\u001b[0m\u001b[0mkey\u001b[0m\u001b[0;34m)\u001b[0m\u001b[0;34m\u001b[0m\u001b[0;34m\u001b[0m\u001b[0m\n",
            "\u001b[0;32m/usr/local/lib/python3.7/dist-packages/numpy/core/arrayprint.py\u001b[0m in \u001b[0;36m_array2string\u001b[0;34m(a, options, separator, prefix)\u001b[0m\n\u001b[1;32m    501\u001b[0m     lst = _formatArray(a, format_function, options['linewidth'],\n\u001b[1;32m    502\u001b[0m                        \u001b[0mnext_line_prefix\u001b[0m\u001b[0;34m,\u001b[0m \u001b[0mseparator\u001b[0m\u001b[0;34m,\u001b[0m \u001b[0moptions\u001b[0m\u001b[0;34m[\u001b[0m\u001b[0;34m'edgeitems'\u001b[0m\u001b[0;34m]\u001b[0m\u001b[0;34m,\u001b[0m\u001b[0;34m\u001b[0m\u001b[0;34m\u001b[0m\u001b[0m\n\u001b[0;32m--> 503\u001b[0;31m                        summary_insert, options['legacy'])\n\u001b[0m\u001b[1;32m    504\u001b[0m     \u001b[0;32mreturn\u001b[0m \u001b[0mlst\u001b[0m\u001b[0;34m\u001b[0m\u001b[0;34m\u001b[0m\u001b[0m\n\u001b[1;32m    505\u001b[0m \u001b[0;34m\u001b[0m\u001b[0m\n",
            "\u001b[0;32m/usr/local/lib/python3.7/dist-packages/numpy/core/arrayprint.py\u001b[0m in \u001b[0;36m_formatArray\u001b[0;34m(a, format_function, line_width, next_line_prefix, separator, edge_items, summary_insert, legacy)\u001b[0m\n\u001b[1;32m    818\u001b[0m         return recurser(index=(),\n\u001b[1;32m    819\u001b[0m                         \u001b[0mhanging_indent\u001b[0m\u001b[0;34m=\u001b[0m\u001b[0mnext_line_prefix\u001b[0m\u001b[0;34m,\u001b[0m\u001b[0;34m\u001b[0m\u001b[0;34m\u001b[0m\u001b[0m\n\u001b[0;32m--> 820\u001b[0;31m                         curr_width=line_width)\n\u001b[0m\u001b[1;32m    821\u001b[0m     \u001b[0;32mfinally\u001b[0m\u001b[0;34m:\u001b[0m\u001b[0;34m\u001b[0m\u001b[0;34m\u001b[0m\u001b[0m\n\u001b[1;32m    822\u001b[0m         \u001b[0;31m# recursive closures have a cyclic reference to themselves, which\u001b[0m\u001b[0;34m\u001b[0m\u001b[0;34m\u001b[0m\u001b[0;34m\u001b[0m\u001b[0m\n",
            "\u001b[0;32m/usr/local/lib/python3.7/dist-packages/numpy/core/arrayprint.py\u001b[0m in \u001b[0;36mrecurser\u001b[0;34m(index, hanging_indent, curr_width)\u001b[0m\n\u001b[1;32m    774\u001b[0m                 \u001b[0mword\u001b[0m \u001b[0;34m=\u001b[0m \u001b[0mrecurser\u001b[0m\u001b[0;34m(\u001b[0m\u001b[0mindex\u001b[0m \u001b[0;34m+\u001b[0m \u001b[0;34m(\u001b[0m\u001b[0;34m-\u001b[0m\u001b[0mi\u001b[0m\u001b[0;34m,\u001b[0m\u001b[0;34m)\u001b[0m\u001b[0;34m,\u001b[0m \u001b[0mnext_hanging_indent\u001b[0m\u001b[0;34m,\u001b[0m \u001b[0mnext_width\u001b[0m\u001b[0;34m)\u001b[0m\u001b[0;34m\u001b[0m\u001b[0;34m\u001b[0m\u001b[0m\n\u001b[1;32m    775\u001b[0m                 s, line = _extendLine(\n\u001b[0;32m--> 776\u001b[0;31m                     s, line, word, elem_width, hanging_indent, legacy)\n\u001b[0m\u001b[1;32m    777\u001b[0m                 \u001b[0mline\u001b[0m \u001b[0;34m+=\u001b[0m \u001b[0mseparator\u001b[0m\u001b[0;34m\u001b[0m\u001b[0;34m\u001b[0m\u001b[0m\n\u001b[1;32m    778\u001b[0m \u001b[0;34m\u001b[0m\u001b[0m\n",
            "\u001b[0;32m/usr/local/lib/python3.7/dist-packages/numpy/core/arrayprint.py\u001b[0m in \u001b[0;36m_extendLine\u001b[0;34m(s, line, word, line_width, next_line_prefix, legacy)\u001b[0m\n\u001b[1;32m    695\u001b[0m \u001b[0;32mdef\u001b[0m \u001b[0m_extendLine\u001b[0m\u001b[0;34m(\u001b[0m\u001b[0ms\u001b[0m\u001b[0;34m,\u001b[0m \u001b[0mline\u001b[0m\u001b[0;34m,\u001b[0m \u001b[0mword\u001b[0m\u001b[0;34m,\u001b[0m \u001b[0mline_width\u001b[0m\u001b[0;34m,\u001b[0m \u001b[0mnext_line_prefix\u001b[0m\u001b[0;34m,\u001b[0m \u001b[0mlegacy\u001b[0m\u001b[0;34m)\u001b[0m\u001b[0;34m:\u001b[0m\u001b[0;34m\u001b[0m\u001b[0;34m\u001b[0m\u001b[0m\n\u001b[1;32m    696\u001b[0m     \u001b[0mneeds_wrap\u001b[0m \u001b[0;34m=\u001b[0m \u001b[0mlen\u001b[0m\u001b[0;34m(\u001b[0m\u001b[0mline\u001b[0m\u001b[0;34m)\u001b[0m \u001b[0;34m+\u001b[0m \u001b[0mlen\u001b[0m\u001b[0;34m(\u001b[0m\u001b[0mword\u001b[0m\u001b[0;34m)\u001b[0m \u001b[0;34m>\u001b[0m \u001b[0mline_width\u001b[0m\u001b[0;34m\u001b[0m\u001b[0;34m\u001b[0m\u001b[0m\n\u001b[0;32m--> 697\u001b[0;31m     \u001b[0;32mif\u001b[0m \u001b[0mlegacy\u001b[0m \u001b[0;34m!=\u001b[0m \u001b[0;34m'1.13'\u001b[0m\u001b[0;34m:\u001b[0m\u001b[0;34m\u001b[0m\u001b[0;34m\u001b[0m\u001b[0m\n\u001b[0m\u001b[1;32m    698\u001b[0m         \u001b[0ms\u001b[0m\u001b[0;31m# don't wrap lines if it won't help\u001b[0m\u001b[0;34m\u001b[0m\u001b[0;34m\u001b[0m\u001b[0m\n\u001b[1;32m    699\u001b[0m         \u001b[0;32mif\u001b[0m \u001b[0mlen\u001b[0m\u001b[0;34m(\u001b[0m\u001b[0mline\u001b[0m\u001b[0;34m)\u001b[0m \u001b[0;34m<=\u001b[0m \u001b[0mlen\u001b[0m\u001b[0;34m(\u001b[0m\u001b[0mnext_line_prefix\u001b[0m\u001b[0;34m)\u001b[0m\u001b[0;34m:\u001b[0m\u001b[0;34m\u001b[0m\u001b[0;34m\u001b[0m\u001b[0m\n",
            "\u001b[0;31mKeyboardInterrupt\u001b[0m: "
          ]
        }
      ]
    },
    {
      "cell_type": "markdown",
      "metadata": {
        "id": "uHMibRw0mex6"
      },
      "source": [
        "Creating datasets\n",
        "\n",
        "\n",
        "\n"
      ]
    },
    {
      "cell_type": "code",
      "source": [
        "class CustomTextDataset(Dataset):\n",
        "    def __init__(self, text, labels):\n",
        "        self.labels = labels\n",
        "\n",
        "        def find_rep(text):\n",
        "            tokens = word_tokenize(text.lower())\n",
        "            res = [ embeddings_dict[token] for token in tokens if (token in embeddings_dict) ]\n",
        "            return res\n",
        "        \n",
        "        self.text = text.apply(find_rep)\n",
        "\n",
        "    def __len__(self):\n",
        "        return len(self.labels)\n",
        "\n",
        "    def __getitem__(self, idx):\n",
        "        label = self.labels[idx]\n",
        "        data = self.text[idx]\n",
        "        sample = {\"Text\": data, \"Class\": label}\n",
        "        return sample\n",
        "\n",
        "train_dataset = CustomTextDataset(df_train['text'], df_train['label'])\n",
        "test_dataset = CustomTextDataset(df_test['text'], df_test['label'])\n",
        "\n",
        "len(train_dataset[2]['Text'])\n",
        "train_dataset[2]['Text']"
      ],
      "metadata": {
        "id": "VSUhhqx0avoR"
      },
      "execution_count": null,
      "outputs": []
    },
    {
      "cell_type": "code",
      "source": [
        "batch_size=128\n",
        "\n",
        "train_loader, test_loader = BucketIterator.splits(\n",
        "    (train_dataset, test_dataset),          # Datasets for iterator to draw data from\n",
        "    batch_sizes=(batch_size, batch_size),   # Tuple of train and validation batch sizes.\n",
        "    device=device,                        # Device to load batches on.\n",
        "    sort_key=lambda x: len(x),      # Function to use for sorting examples.\n",
        "    repeat=True,                            # Repeat the iterator for multiple epochs.\n",
        "    sort=False,                             # Sort all examples in data using `sort_key`.\n",
        "    shuffle=True,                           # Shuffle data on each epoch run.\n",
        "    sort_within_batch=True,                 # Use `sort_key` to sort examples in each batch.\n",
        ")\n",
        "\n",
        "for batch in train_loader:\n",
        "    print(batch)"
      ],
      "metadata": {
        "id": "SXuHbmiihXFN"
      },
      "execution_count": null,
      "outputs": []
    },
    {
      "cell_type": "code",
      "metadata": {
        "id": "dhaX2V5N3Y4V"
      },
      "source": [
        "# Text tokenizer function - dummy tokenizer to return same text.\n",
        "# Here you will use your own tokenizer.\n",
        "text_tokenizer = lambda x : x\n",
        "\n",
        "# Label tokenizer - dummy label encoder that returns same label.\n",
        "# Here you will add your own label encoder.\n",
        "label_tokenizer = lambda x: x\n",
        "\n",
        "# Data field for text column - invoke tokenizer.\n",
        "TEXT = torchtext.data.Field(sequential=True, tokenize=text_tokenizer, lower=False)\n",
        "\n",
        "# Data field for labels - invoke tokenize label encoder.\n",
        "LABEL = torchtext.data.Field(sequential=True, tokenize=label_tokenizer, use_vocab=False)\n",
        "\n",
        "# Create data fields as tuples of description variable and data field.\n",
        "datafields = [(\"label\", LABEL),\n",
        "              (\"text\", TEXT)]\n",
        "\n",
        "# Since we have have tab separated data we use TabularDataset\n",
        "train_dataset, valid_dataset = torchtext.data.TabularDataset.splits(\n",
        "    \n",
        "                                                # Path to train and validation.\n",
        "                                                path=data_path,\n",
        "\n",
        "                                                # Train data filename.\n",
        "                                                train=train_filename,\n",
        "\n",
        "                                                # Validation file name.\n",
        "                                                validation=test_filename,\n",
        "\n",
        "                                                # Format of local files.\n",
        "                                                format='tsv',\n",
        "\n",
        "                                                # Check if we have header.\n",
        "                                                skip_header=False,\n",
        "\n",
        "                                                # How to handle fields.\n",
        "                                                fields=datafields)"
      ],
      "execution_count": null,
      "outputs": []
    },
    {
      "cell_type": "markdown",
      "source": [
        "### sxedon teliko"
      ],
      "metadata": {
        "id": "-_LEEiiJ1-De"
      }
    },
    {
      "cell_type": "code",
      "source": [
        "df_train.drop(columns=['tweet'],inplace=True)"
      ],
      "metadata": {
        "id": "kviQ0DeB4lZ_"
      },
      "execution_count": null,
      "outputs": []
    },
    {
      "cell_type": "code",
      "source": [
        "df_test.drop(columns=['tweet'],inplace=True)"
      ],
      "metadata": {
        "id": "fEMf_Od14zf4"
      },
      "execution_count": null,
      "outputs": []
    },
    {
      "cell_type": "code",
      "execution_count": null,
      "metadata": {
        "id": "Pq5qqIMYenAG"
      },
      "outputs": [],
      "source": [
        "text_field = Field(tokenize=nltk.word_tokenize,lower=True,sequential=True) # tokenize text using word_tokenize and convert to numerical form using default parameters\n",
        "label_field = Field(sequential=False, use_vocab=False)\n",
        "\n",
        "fields = [('label',label_field),('cleanglove_tweet',text_field)]\n",
        "\n",
        "preprocessed_text = df_train['cleanglove_tweet'].apply(lambda x: text_field.preprocess(x))\n",
        "text_field.build_vocab(preprocessed_text,vectors=glove_package)\n",
        "\n",
        "from torchtext.legacy.data import Dataset, Example\n",
        "train_dataset = Dataset(\n",
        "    examples=[Example.fromlist(list(r),fields) for i,r in df_train.iterrows()],\n",
        "    fields=fields)\n"
      ]
    },
    {
      "cell_type": "markdown",
      "source": [
        "https://gmihaila.medium.com/better-batches-with-pytorchtext-bucketiterator-12804a545e2a"
      ],
      "metadata": {
        "id": "DejbauPJT-1s"
      }
    },
    {
      "cell_type": "code",
      "source": [
        "# text_field_test = Field(tokenize=nltk.word_tokenize,lower=True,fix_length = vector_length,sequential=True) # tokenize text using word_tokenize and convert to numerical form using default parameters\n",
        "# label_field_test = Field(sequential=False, use_vocab=False)\n",
        "\n",
        "# fields_test = [('target',label_field_test),('processed_tweets',text_field_test)]\n",
        "\n",
        "preprocessed_text_test = df_test['cleanglove_tweet'].apply(lambda x: text_field.preprocess(x))\n",
        "text_field.build_vocab(preprocessed_text_test,vectors=glove_package)\n",
        "\n",
        "from torchtext.legacy.data import Dataset, Example\n",
        "test_dataset = Dataset(\n",
        "    examples=[Example.fromlist(list(r),fields) for i,r in df_test.iterrows()],\n",
        "    fields=fields)\n",
        "\n",
        "batch_size=128\n",
        "\n",
        "train_loader, test_loader = BucketIterator.splits(\n",
        "    datasets=(train_dataset, test_dataset),          # Datasets for iterator to draw data from\n",
        "    batch_sizes=(batch_size, batch_size),   # Tuple of train and validation batch sizes.\n",
        "    sort=False,            \n",
        "    device=device,        # Device to load batches on.\n",
        "    sort_key=lambda x: len(x.cleanglove_tweet),      # Function to use for sorting examples.\n",
        "    # repeat=True,                            # Repeat the iterator for multiple epochs.\n",
        "    # sort=False,                             # Sort all examples in data using `sort_key`.\n",
        "    shuffle=True,                           # Shuffle data on each epoch run.\n",
        "    sort_within_batch=False                 # Use `sort_key` to sort examples in each batch.\n",
        ")\n",
        "\n",
        "# for batch in train_loader:\n",
        "#     print(batch)"
      ],
      "metadata": {
        "id": "rruSfBwzOo4E"
      },
      "execution_count": null,
      "outputs": []
    },
    {
      "cell_type": "code",
      "execution_count": null,
      "metadata": {
        "colab": {
          "base_uri": "https://localhost:8080/"
        },
        "outputId": "75fd86b0-ba8e-494e-ebde-cae41703302d",
        "id": "TR_hF6_U6T2W"
      },
      "outputs": [
        {
          "output_type": "stream",
          "name": "stdout",
          "text": [
            "Epoch   0: Loss = 0.96002\n",
            "Epoch   1: Loss = 0.78759\n",
            "Epoch   2: Loss = 0.75445\n",
            "Epoch   3: Loss = 0.72007\n",
            "Epoch   4: Loss = 0.69536\n",
            "Epoch   5: Loss = 0.68294\n",
            "Epoch   6: Loss = 0.66723\n"
          ]
        }
      ],
      "source": [
        "\n",
        "\n",
        "# Create a bidirectional LSTM\n",
        "class BRNN(nn.Module):\n",
        "    def __init__(self, input_size, hidden_size, num_layers, num_classes, cell, embedding):\n",
        "        super(BRNN, self).__init__()\n",
        "        self.hidden_size = hidden_size\n",
        "        self.num_layers = num_layers\n",
        "        self.cell = cell\n",
        "        self.dropout = nn.Dropout(p=0.3)\n",
        "        self.embedding = nn.Embedding.from_pretrained(torch.FloatTensor(embedding))\n",
        "        \n",
        "        if (cell == 'LSTM'):\n",
        "            rnn = nn.LSTM\n",
        "        else:\n",
        "            rnn = nn.GRU\n",
        "\n",
        "        self.rnns = nn.ModuleList()\n",
        "        for i in range(num_layers):\n",
        "            input_size = input_size if i == 0 else hidden_size*2\n",
        "            self.rnns.append(rnn(input_size, hidden_size, 1, bidirectional=True))\n",
        "        \n",
        "        self.fc = nn.Linear(hidden_size * 2, num_classes)\n",
        "\n",
        "    def forward(self, x):\n",
        "        # h0 = torch.zeros(1, x.size(0), self.hidden_size).to(device)\n",
        "        # c0 = torch.zeros(1, x.size(0), self.hidden_size).to(device)\n",
        "\n",
        "        sent_variable = self.embedding(x)\n",
        "        # print(\"sent\", sent_variable.shape)\n",
        "        # out, _ = self.lstm(x, (h0, c0))\n",
        "\n",
        "        # outputs = []\n",
        "        for i in range(self.num_layers):\n",
        "            if i != 0:\n",
        "                sent_variable = self.dropout(sent_variable.detach())\n",
        "            # print(i)\n",
        "            # print(\"rnn input:\" ,sent_variable.shape)\n",
        "            out, hidden = self.rnns[i](sent_variable.detach())\n",
        "            # print(\"rnn output:\", out.shape)\n",
        "            # outputs.append(out)\n",
        "            # sent_variable = out\n",
        "            if i == 0:\n",
        "                sent_variable = out.detach()\n",
        "            sent_variable = torch.cat((sent_variable,out.detach()),dim=0)\n",
        "\n",
        "\n",
        "        # print(\"out\", out.shape)\n",
        "        out = self.fc(out[-1, :, :])\n",
        "        # print(\"out\", out.shape)\n",
        "\n",
        "        return out\n",
        "\n",
        "# test_dataset = torch.utils.data.TensorDataset(x_test, y_test)\n",
        "\n",
        "# train_features = df_train['features'].to_numpy().flatten()\n",
        "# test_loader = torch.utils.data.DataLoader(dataset=test_dataset, batch_size=batch_size, shuffle=True)\n",
        "# dataloader = torch.utils.data.DataLoader(dataset, batch_size=256, shuffle=True)\n",
        "\n",
        "# train_loader = torch.utils.data.DataLoader(dataset=dataset, batch_size=batch_size, shuffle=True)\n",
        "# test_loader = torch.utils.data.DataLoader(dataset=test_dataset, batch_size=batch_size, shuffle=True)\n",
        "\n",
        "# x_test = x_test.to(device=device).squeeze(1)\n",
        "# y_test_3 = y_test_3.to(device=device)\n",
        "\n",
        "# Initialize network\n",
        "embedding = text_field.vocab.vectors\n",
        "model = BRNN(input_size, hidden_size, num_layers, num_classes, cell, embedding).to(device)\n",
        "\n",
        "# Loss and optimizer\n",
        "criterion = nn.CrossEntropyLoss()\n",
        "optimizer = optim.Adam(model.parameters(), lr=learning_rate)\n",
        "\n",
        "epoch_loss = []\n",
        "validation_loss = []\n",
        "\n",
        "# Train Network\n",
        "i=0\n",
        "for epoch in range(epochs):\n",
        "    model.train()\n",
        "    batch_losses = []\n",
        "    for batch in train_loader:\n",
        "        # print (i)\n",
        "        i=i+1\n",
        "        # Get data to cuda if possible\n",
        "        data = batch.cleanglove_tweet\n",
        "        targets = batch.label\n",
        "\n",
        "        # print(data.shape)\n",
        "\n",
        "        data = data.to(device=device).squeeze(1)\n",
        "        targets = targets.to(device=device)\n",
        "\n",
        "        # forward\n",
        "        scores = model(data)\n",
        "        # print(scores.shape)\n",
        "        loss = criterion(scores, targets)\n",
        "\n",
        "        batch_losses.append(loss.item())\n",
        "\n",
        "        # backward\n",
        "        optimizer.zero_grad()\n",
        "        loss.backward()\n",
        "\n",
        "        # Clip params\n",
        "        for param in model.parameters():\n",
        "            if param.grad is None:\n",
        "                continue\n",
        "            grad_val = torch.clamp(param.grad, -5, 5)\n",
        "\n",
        "        # gradient descent or adam step\n",
        "        optimizer.step()\n",
        "        \n",
        "    epoch_loss.append(sum(batch_losses)/len(train_loader))\n",
        "    \n",
        "    model.eval()\n",
        "    batch_val_losses = []\n",
        "    with torch.no_grad():\n",
        "        for test_batch in test_loader:\n",
        "            x = test_batch.cleanglove_tweet\n",
        "            y = test_batch.label\n",
        "            x = x.to(device=device).squeeze(1)\n",
        "            y = y.to(device=device)\n",
        "\n",
        "            scores = model(x)\n",
        "            loss = criterion(scores, y)\n",
        "\n",
        "            batch_val_losses.append(loss.item())\n",
        "\n",
        "        validation_loss.append(sum(batch_val_losses)/len(test_loader))\n",
        "\n",
        "    print(f\"Epoch {epoch:3}: Loss = {sum(batch_losses)/len(train_loader):.5f}\")\n",
        "    # if (val_loss>validation_loss[epoch-1]+0.3): #early stopping\n",
        "    n_epochs = epoch+1\n",
        "    #     break \n"
      ]
    },
    {
      "cell_type": "code",
      "source": [
        "model.eval()\n",
        "total_scores = torch.empty((0,3))\n",
        "print(total_scores.shape)\n",
        "with torch.no_grad():\n",
        "  for test_batch in test_loader:\n",
        "    x = test_batch.cleanglove_tweet\n",
        "    y = test_batch.label\n",
        "    x = x.to(device=device).squeeze(1)\n",
        "    y = y.to(device=device)\n",
        "\n",
        "    scores = model(x)\n",
        "    # print(scores.shape)\n",
        "    total_scores = torch.concat((total_scores, scores), 0)\n",
        "            \n",
        "\n",
        "if device==torch.device(\"cuda\"):\n",
        "   y_pred = y_pred.cpu()\n",
        "   \n",
        "print(\"all in one metrics: precision, recall, f1:\", precision_recall_fscore_support(Y_test, y_pred))\n",
        "print(\"all in one metrics: precision, recall, f1:\", precision_recall_fscore_support(Y_test, y_pred, average='micro'))\n",
        "\n",
        "f1 = f1_score(Y_test, y_pred, average=None)\n",
        "print(\"F1 score for each class = \", f1 * 100, \"%\")\n",
        "f1 = f1_score(Y_test, y_pred, average='micro')\n",
        "print(\"F1 score = \", f1 * 100, \"%\")\n",
        "\n",
        "print(\"precision: \", precision_score(Y_test, y_pred, average='micro'))\n",
        "\n",
        "print(\"recall: \", recall_score(Y_test, y_pred, average='micro'))\n",
        "\n",
        "model.train()"
      ],
      "metadata": {
        "colab": {
          "base_uri": "https://localhost:8080/"
        },
        "outputId": "0a225998-485b-4200-9782-26f3e9a87cba",
        "id": "1bJVc7Wr6T2X"
      },
      "execution_count": null,
      "outputs": [
        {
          "output_type": "stream",
          "name": "stdout",
          "text": [
            "torch.Size([0, 3])\n",
            "all in one metrics: precision, recall, f1: (array([0.84468339, 0.60122699, 0.60608424]), array([0.66384977, 0.33108108, 0.84364821]), array([0.74342797, 0.42701525, 0.70540172]), array([1065,  296,  921]))\n",
            "all in one metrics: precision, recall, f1: (0.6932515337423313, 0.6932515337423313, 0.6932515337423313, None)\n",
            "F1 score for each class =  [74.34279706 42.70152505 70.54017249] %\n",
            "F1 score =  69.32515337423312 %\n",
            "precision:  0.6932515337423313\n",
            "recall:  0.6932515337423313\n"
          ]
        },
        {
          "output_type": "execute_result",
          "data": {
            "text/plain": [
              "BRNN(\n",
              "  (dropout): Dropout(p=0.3, inplace=False)\n",
              "  (embedding): Embedding(7769, 200)\n",
              "  (rnns): ModuleList(\n",
              "    (0): LSTM(200, 128, bidirectional=True)\n",
              "    (1): LSTM(256, 128, bidirectional=True)\n",
              "  )\n",
              "  (fc): Linear(in_features=256, out_features=3, bias=True)\n",
              ")"
            ]
          },
          "metadata": {},
          "execution_count": 236
        }
      ]
    },
    {
      "cell_type": "code",
      "source": [
        "# plot\n",
        "n_epochs = epoch+1\n",
        "print(epoch_loss)\n",
        "print(validation_loss)\n",
        "fig, ax = plt.subplots()\n",
        "ax.plot(np.arange(n_epochs), validation_loss, color=\"pink\", lw=2, label='validation')\n",
        "ax.plot(np.arange(n_epochs), epoch_loss, color=\"b\", lw=2, label='training')\n",
        "\n",
        "ax.set_xlabel('Epochs')\n",
        "ax.set_ylabel('Cross Entropy Loss')\n",
        "\n",
        "ax.grid()\n",
        "ax.legend(loc=0)\n",
        "plt.show()"
      ],
      "metadata": {
        "colab": {
          "base_uri": "https://localhost:8080/",
          "height": 335
        },
        "id": "Rr2Uzc48fBHD",
        "outputId": "716ef336-3ca6-4db3-c609-763fd3213114"
      },
      "execution_count": null,
      "outputs": [
        {
          "output_type": "stream",
          "name": "stdout",
          "text": [
            "[0.960015926361084, 0.7875914320945739, 0.7544513835906982, 0.7200671362876893, 0.6953603229522705, 0.6829440083503723, 0.6672297534942627]\n",
            "[0.815495726135042, 0.7714263101418813, 0.7472913397683038, 0.7139216694566939, 0.6911003457175361, 0.7076205412546793, 0.7098178002569411]\n"
          ]
        },
        {
          "output_type": "display_data",
          "data": {
            "image/png": "[encoded data removed]",
            "text/plain": [
              "<Figure size 432x288 with 1 Axes>"
            ]
          },
          "metadata": {
            "needs_background": "light"
          }
        }
      ]
    }
  ],
  "metadata": {
    "colab": {
      "collapsed_sections": [
        "1aghD5aY14tG"
      ],
      "name": "AI2-HM3 bidirectional RNN with LSTM/GRU.ipynb",
      "toc_visible": true,
      "provenance": [],
      "authorship_tag": "ABX9TyPlx+aV3F6sX7vV96imxDMz",
      "include_colab_link": true
    },
    "kernelspec": {
      "display_name": "Python 3",
      "name": "python3"
    },
    "language_info": {
      "name": "python"
    },
    "accelerator": "GPU"
  },
  "nbformat": 4,
  "nbformat_minor": 0
}