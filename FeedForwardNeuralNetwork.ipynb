{
  "cells": [
    {
      "cell_type": "markdown",
      "metadata": {
        "id": "qLAaIaAE9z4D"
      },
      "source": [
        "# Artificial Intelligense II - Homework 2\n",
        "# 💉Vaccine sentiment classifier using feed-forward neural networks"
      ]
    },
    {
      "cell_type": "markdown",
      "metadata": {
        "id": "ykBHfl_LJL-p"
      },
      "source": [
        "In this exercise we are going to develop a vaccine sentiment classifier that classifies tweets in pro-vax, anti-vax and neutral classes using feed-forward neural networks. I experimented with: \n",
        "- Different optimizers (SGD with momentum and nesterov, Adam (with amsgrad) and their learning rate\n",
        "- Loss functions (MSELoss and CrossEntropyLoss)\n",
        "- Activation functions (SELU, LeakyReLU, ReLU, tanh)\n",
        "- The number of hidden layers and the number of their units (2-4 hidden layers)\n",
        "- Dropout\n",
        "- Batch Normalization\n",
        "- Batch size\n",
        "- Normalization\n",
        "- Number of epochs\n",
        "\n",
        "For data preprocessing and feature extracting I experimented with:\n",
        "- GloVe pretrained model: I chose not to do stemming (because words are whole in the pretrained model) or lemmatizing (because it would the change the meaning of some words). I used a simple preprocessing funtion that removes puctuation, html tags and urls. I kept emojis because I noticed that some of them are included in the pretrained glove model. I used the glove.twitter.27B.50d. \n",
        "- TF-IDF: I tried lemmatization because it worked well in Homework 1, but ended up having slightly better results with the same preprocessing as the one I used for GloVe. I also experimented with the min_df parameter and noticed that seting it to a slightly lower value to have more features improved the model. \n",
        "\n",
        "In this notebook I only present 3 of the models that have good scores (compared to the others) and don't overfit (2 with GloVe and 1 with TF-IDF). "
      ]
    },
    {
      "cell_type": "markdown",
      "metadata": {
        "id": "NLs58fONFrG3"
      },
      "source": [
        "**Note:** \n",
        "- I seeded numpy.random and torch.random in the cells that define each model so that I get the same results in every run and can compare scores."
      ]
    },
    {
      "cell_type": "code",
      "execution_count": 92,
      "metadata": {
        "colab": {
          "base_uri": "https://localhost:8080/"
        },
        "id": "1i0cE5-17AUF",
        "outputId": "81b59e7f-e8f7-43b5-f3a0-77ff6f6eadea"
      },
      "outputs": [
        {
          "name": "stdout",
          "output_type": "stream",
          "text": [
            "Drive already mounted at /content/drive; to attempt to forcibly remount, call drive.mount(\"/content/drive\", force_remount=True).\n"
          ]
        }
      ],
      "source": [
        "from google.colab import drive\n",
        "drive.mount('/content/drive')"
      ]
    },
    {
      "cell_type": "markdown",
      "metadata": {
        "id": "7g50JWXbB2ze"
      },
      "source": [
        "## Import Libraries and Read Datasets"
      ]
    },
    {
      "cell_type": "code",
      "execution_count": 93,
      "metadata": {
        "id": "HSrTX-GD8xC3"
      },
      "outputs": [],
      "source": [
        "import pandas as pd\n",
        "import numpy as np\n",
        "\n",
        "# Feature extraction\n",
        "from sklearn.feature_extraction.text import TfidfVectorizer\n",
        "\n",
        "from sklearn.metrics import confusion_matrix\n",
        "\n",
        "# Evaluation metrics\n",
        "from sklearn.metrics import f1_score\n",
        "from sklearn.metrics import accuracy_score\n",
        "\n",
        "import matplotlib as mpl\n",
        "import matplotlib.pyplot as plt"
      ]
    },
    {
      "cell_type": "markdown",
      "metadata": {
        "id": "T3T_ITrECxKu"
      },
      "source": [
        "Read train and validation datasets."
      ]
    },
    {
      "cell_type": "code",
      "execution_count": 94,
      "metadata": {
        "id": "DCe_10itB0Pu"
      },
      "outputs": [],
      "source": [
        "df_train = pd.read_csv(\"/content/drive/MyDrive/Colab Notebooks/Artificial Intelligence II/vaccine_train_set.csv\")\n",
        "df_test = pd.read_csv(\"/content/drive/MyDrive/Colab Notebooks/Artificial Intelligence II/vaccine_validation_set.csv\")"
      ]
    },
    {
      "cell_type": "markdown",
      "metadata": {
        "id": "lA3NQAAuKwjf"
      },
      "source": [
        " We don't need the first column of the datasets because it is an index."
      ]
    },
    {
      "cell_type": "code",
      "execution_count": 95,
      "metadata": {
        "id": "qA3P1gymKEwR"
      },
      "outputs": [],
      "source": [
        "# get rid of first column\n",
        "df_train = df_train.iloc[: , 1:]\n",
        "df_test = df_test.iloc[: , 1:]"
      ]
    },
    {
      "cell_type": "code",
      "execution_count": 96,
      "metadata": {
        "colab": {
          "base_uri": "https://localhost:8080/",
          "height": 673
        },
        "id": "awuvFK_yCuAO",
        "outputId": "cd38d99c-8b48-443f-c533-7814b3f5beab"
      },
      "outputs": [
        {
          "data": {
            "text/html": [
              "\n",
              "  <div id=\"df-e019834b-07ce-47ab-a604-7c79a49890ea\">\n",
              "    <div class=\"colab-df-container\">\n",
              "      <div>\n",
              "<style scoped>\n",
              "    .dataframe tbody tr th:only-of-type {\n",
              "        vertical-align: middle;\n",
              "    }\n",
              "\n",
              "    .dataframe tbody tr th {\n",
              "        vertical-align: top;\n",
              "    }\n",
              "\n",
              "    .dataframe thead th {\n",
              "        text-align: right;\n",
              "    }\n",
              "</style>\n",
              "<table border=\"1\" class=\"dataframe\">\n",
              "  <thead>\n",
              "    <tr style=\"text-align: right;\">\n",
              "      <th></th>\n",
              "      <th>tweet</th>\n",
              "      <th>label</th>\n",
              "    </tr>\n",
              "  </thead>\n",
              "  <tbody>\n",
              "    <tr>\n",
              "      <th>0</th>\n",
              "      <td>Sip N Shop Come thru right now #Marjais #Popul...</td>\n",
              "      <td>0</td>\n",
              "    </tr>\n",
              "    <tr>\n",
              "      <th>1</th>\n",
              "      <td>I don't know about you but My family and I wil...</td>\n",
              "      <td>1</td>\n",
              "    </tr>\n",
              "    <tr>\n",
              "      <th>2</th>\n",
              "      <td>@MSignorile Immunizations should be mandatory....</td>\n",
              "      <td>2</td>\n",
              "    </tr>\n",
              "    <tr>\n",
              "      <th>3</th>\n",
              "      <td>President Obama spoke in favor of vaccination ...</td>\n",
              "      <td>0</td>\n",
              "    </tr>\n",
              "    <tr>\n",
              "      <th>4</th>\n",
              "      <td>\"@myfoxla: Arizona monitoring hundreds for mea...</td>\n",
              "      <td>0</td>\n",
              "    </tr>\n",
              "  </tbody>\n",
              "</table>\n",
              "</div>\n",
              "      <button class=\"colab-df-convert\" onclick=\"convertToInteractive('df-e019834b-07ce-47ab-a604-7c79a49890ea')\"\n",
              "              title=\"Convert this dataframe to an interactive table.\"\n",
              "              style=\"display:none;\">\n",
              "        \n",
              "  <svg xmlns=\"http://www.w3.org/2000/svg\" height=\"24px\"viewBox=\"0 0 24 24\"\n",
              "       width=\"24px\">\n",
              "    <path d=\"M0 0h24v24H0V0z\" fill=\"none\"/>\n",
              "    <path d=\"M18.56 5.44l.94 2.06.94-2.06 2.06-.94-2.06-.94-.94-2.06-.94 2.06-2.06.94zm-11 1L8.5 8.5l.94-2.06 2.06-.94-2.06-.94L8.5 2.5l-.94 2.06-2.06.94zm10 10l.94 2.06.94-2.06 2.06-.94-2.06-.94-.94-2.06-.94 2.06-2.06.94z\"/><path d=\"M17.41 7.96l-1.37-1.37c-.4-.4-.92-.59-1.43-.59-.52 0-1.04.2-1.43.59L10.3 9.45l-7.72 7.72c-.78.78-.78 2.05 0 2.83L4 21.41c.39.39.9.59 1.41.59.51 0 1.02-.2 1.41-.59l7.78-7.78 2.81-2.81c.8-.78.8-2.07 0-2.86zM5.41 20L4 18.59l7.72-7.72 1.47 1.35L5.41 20z\"/>\n",
              "  </svg>\n",
              "      </button>\n",
              "      \n",
              "  <style>\n",
              "    .colab-df-container {\n",
              "      display:flex;\n",
              "      flex-wrap:wrap;\n",
              "      gap: 12px;\n",
              "    }\n",
              "\n",
              "    .colab-df-convert {\n",
              "      background-color: #E8F0FE;\n",
              "      border: none;\n",
              "      border-radius: 50%;\n",
              "      cursor: pointer;\n",
              "      display: none;\n",
              "      fill: #1967D2;\n",
              "      height: 32px;\n",
              "      padding: 0 0 0 0;\n",
              "      width: 32px;\n",
              "    }\n",
              "\n",
              "    .colab-df-convert:hover {\n",
              "      background-color: #E2EBFA;\n",
              "      box-shadow: 0px 1px 2px rgba(60, 64, 67, 0.3), 0px 1px 3px 1px rgba(60, 64, 67, 0.15);\n",
              "      fill: #174EA6;\n",
              "    }\n",
              "\n",
              "    [theme=dark] .colab-df-convert {\n",
              "      background-color: #3B4455;\n",
              "      fill: #D2E3FC;\n",
              "    }\n",
              "\n",
              "    [theme=dark] .colab-df-convert:hover {\n",
              "      background-color: #434B5C;\n",
              "      box-shadow: 0px 1px 3px 1px rgba(0, 0, 0, 0.15);\n",
              "      filter: drop-shadow(0px 1px 2px rgba(0, 0, 0, 0.3));\n",
              "      fill: #FFFFFF;\n",
              "    }\n",
              "  </style>\n",
              "\n",
              "      <script>\n",
              "        const buttonEl =\n",
              "          document.querySelector('#df-e019834b-07ce-47ab-a604-7c79a49890ea button.colab-df-convert');\n",
              "        buttonEl.style.display =\n",
              "          google.colab.kernel.accessAllowed ? 'block' : 'none';\n",
              "\n",
              "        async function convertToInteractive(key) {\n",
              "          const element = document.querySelector('#df-e019834b-07ce-47ab-a604-7c79a49890ea');\n",
              "          const dataTable =\n",
              "            await google.colab.kernel.invokeFunction('convertToInteractive',\n",
              "                                                     [key], {});\n",
              "          if (!dataTable) return;\n",
              "\n",
              "          const docLinkHtml = 'Like what you see? Visit the ' +\n",
              "            '<a target=\"_blank\" href=https://colab.research.google.com/notebooks/data_table.ipynb>data table notebook</a>'\n",
              "            + ' to learn more about interactive tables.';\n",
              "          element.innerHTML = '';\n",
              "          dataTable['output_type'] = 'display_data';\n",
              "          await google.colab.output.renderOutput(dataTable, element);\n",
              "          const docLink = document.createElement('div');\n",
              "          docLink.innerHTML = docLinkHtml;\n",
              "          element.appendChild(docLink);\n",
              "        }\n",
              "      </script>\n",
              "    </div>\n",
              "  </div>\n",
              "  "
            ],
            "text/plain": [
              "                                               tweet  label\n",
              "0  Sip N Shop Come thru right now #Marjais #Popul...      0\n",
              "1  I don't know about you but My family and I wil...      1\n",
              "2  @MSignorile Immunizations should be mandatory....      2\n",
              "3  President Obama spoke in favor of vaccination ...      0\n",
              "4  \"@myfoxla: Arizona monitoring hundreds for mea...      0"
            ]
          },
          "metadata": {},
          "output_type": "display_data"
        },
        {
          "data": {
            "text/html": [
              "\n",
              "  <div id=\"df-dc87ec16-e322-485b-a67d-a4fb14dd592b\">\n",
              "    <div class=\"colab-df-container\">\n",
              "      <div>\n",
              "<style scoped>\n",
              "    .dataframe tbody tr th:only-of-type {\n",
              "        vertical-align: middle;\n",
              "    }\n",
              "\n",
              "    .dataframe tbody tr th {\n",
              "        vertical-align: top;\n",
              "    }\n",
              "\n",
              "    .dataframe thead th {\n",
              "        text-align: right;\n",
              "    }\n",
              "</style>\n",
              "<table border=\"1\" class=\"dataframe\">\n",
              "  <thead>\n",
              "    <tr style=\"text-align: right;\">\n",
              "      <th></th>\n",
              "      <th>label</th>\n",
              "    </tr>\n",
              "  </thead>\n",
              "  <tbody>\n",
              "    <tr>\n",
              "      <th>count</th>\n",
              "      <td>15976.000000</td>\n",
              "    </tr>\n",
              "    <tr>\n",
              "      <th>mean</th>\n",
              "      <td>0.936592</td>\n",
              "    </tr>\n",
              "    <tr>\n",
              "      <th>std</th>\n",
              "      <td>0.930740</td>\n",
              "    </tr>\n",
              "    <tr>\n",
              "      <th>min</th>\n",
              "      <td>0.000000</td>\n",
              "    </tr>\n",
              "    <tr>\n",
              "      <th>25%</th>\n",
              "      <td>0.000000</td>\n",
              "    </tr>\n",
              "    <tr>\n",
              "      <th>50%</th>\n",
              "      <td>1.000000</td>\n",
              "    </tr>\n",
              "    <tr>\n",
              "      <th>75%</th>\n",
              "      <td>2.000000</td>\n",
              "    </tr>\n",
              "    <tr>\n",
              "      <th>max</th>\n",
              "      <td>2.000000</td>\n",
              "    </tr>\n",
              "  </tbody>\n",
              "</table>\n",
              "</div>\n",
              "      <button class=\"colab-df-convert\" onclick=\"convertToInteractive('df-dc87ec16-e322-485b-a67d-a4fb14dd592b')\"\n",
              "              title=\"Convert this dataframe to an interactive table.\"\n",
              "              style=\"display:none;\">\n",
              "        \n",
              "  <svg xmlns=\"http://www.w3.org/2000/svg\" height=\"24px\"viewBox=\"0 0 24 24\"\n",
              "       width=\"24px\">\n",
              "    <path d=\"M0 0h24v24H0V0z\" fill=\"none\"/>\n",
              "    <path d=\"M18.56 5.44l.94 2.06.94-2.06 2.06-.94-2.06-.94-.94-2.06-.94 2.06-2.06.94zm-11 1L8.5 8.5l.94-2.06 2.06-.94-2.06-.94L8.5 2.5l-.94 2.06-2.06.94zm10 10l.94 2.06.94-2.06 2.06-.94-2.06-.94-.94-2.06-.94 2.06-2.06.94z\"/><path d=\"M17.41 7.96l-1.37-1.37c-.4-.4-.92-.59-1.43-.59-.52 0-1.04.2-1.43.59L10.3 9.45l-7.72 7.72c-.78.78-.78 2.05 0 2.83L4 21.41c.39.39.9.59 1.41.59.51 0 1.02-.2 1.41-.59l7.78-7.78 2.81-2.81c.8-.78.8-2.07 0-2.86zM5.41 20L4 18.59l7.72-7.72 1.47 1.35L5.41 20z\"/>\n",
              "  </svg>\n",
              "      </button>\n",
              "      \n",
              "  <style>\n",
              "    .colab-df-container {\n",
              "      display:flex;\n",
              "      flex-wrap:wrap;\n",
              "      gap: 12px;\n",
              "    }\n",
              "\n",
              "    .colab-df-convert {\n",
              "      background-color: #E8F0FE;\n",
              "      border: none;\n",
              "      border-radius: 50%;\n",
              "      cursor: pointer;\n",
              "      display: none;\n",
              "      fill: #1967D2;\n",
              "      height: 32px;\n",
              "      padding: 0 0 0 0;\n",
              "      width: 32px;\n",
              "    }\n",
              "\n",
              "    .colab-df-convert:hover {\n",
              "      background-color: #E2EBFA;\n",
              "      box-shadow: 0px 1px 2px rgba(60, 64, 67, 0.3), 0px 1px 3px 1px rgba(60, 64, 67, 0.15);\n",
              "      fill: #174EA6;\n",
              "    }\n",
              "\n",
              "    [theme=dark] .colab-df-convert {\n",
              "      background-color: #3B4455;\n",
              "      fill: #D2E3FC;\n",
              "    }\n",
              "\n",
              "    [theme=dark] .colab-df-convert:hover {\n",
              "      background-color: #434B5C;\n",
              "      box-shadow: 0px 1px 3px 1px rgba(0, 0, 0, 0.15);\n",
              "      filter: drop-shadow(0px 1px 2px rgba(0, 0, 0, 0.3));\n",
              "      fill: #FFFFFF;\n",
              "    }\n",
              "  </style>\n",
              "\n",
              "      <script>\n",
              "        const buttonEl =\n",
              "          document.querySelector('#df-dc87ec16-e322-485b-a67d-a4fb14dd592b button.colab-df-convert');\n",
              "        buttonEl.style.display =\n",
              "          google.colab.kernel.accessAllowed ? 'block' : 'none';\n",
              "\n",
              "        async function convertToInteractive(key) {\n",
              "          const element = document.querySelector('#df-dc87ec16-e322-485b-a67d-a4fb14dd592b');\n",
              "          const dataTable =\n",
              "            await google.colab.kernel.invokeFunction('convertToInteractive',\n",
              "                                                     [key], {});\n",
              "          if (!dataTable) return;\n",
              "\n",
              "          const docLinkHtml = 'Like what you see? Visit the ' +\n",
              "            '<a target=\"_blank\" href=https://colab.research.google.com/notebooks/data_table.ipynb>data table notebook</a>'\n",
              "            + ' to learn more about interactive tables.';\n",
              "          element.innerHTML = '';\n",
              "          dataTable['output_type'] = 'display_data';\n",
              "          await google.colab.output.renderOutput(dataTable, element);\n",
              "          const docLink = document.createElement('div');\n",
              "          docLink.innerHTML = docLinkHtml;\n",
              "          element.appendChild(docLink);\n",
              "        }\n",
              "      </script>\n",
              "    </div>\n",
              "  </div>\n",
              "  "
            ],
            "text/plain": [
              "              label\n",
              "count  15976.000000\n",
              "mean       0.936592\n",
              "std        0.930740\n",
              "min        0.000000\n",
              "25%        0.000000\n",
              "50%        1.000000\n",
              "75%        2.000000\n",
              "max        2.000000"
            ]
          },
          "metadata": {},
          "output_type": "display_data"
        },
        {
          "name": "stdout",
          "output_type": "stream",
          "text": [
            "<class 'pandas.core.frame.DataFrame'>\n",
            "RangeIndex: 15976 entries, 0 to 15975\n",
            "Data columns (total 2 columns):\n",
            " #   Column  Non-Null Count  Dtype \n",
            "---  ------  --------------  ----- \n",
            " 0   tweet   15976 non-null  object\n",
            " 1   label   15976 non-null  int64 \n",
            "dtypes: int64(1), object(1)\n",
            "memory usage: 249.8+ KB\n"
          ]
        },
        {
          "data": {
            "text/plain": [
              "None"
            ]
          },
          "metadata": {},
          "output_type": "display_data"
        }
      ],
      "source": [
        "display(df_train.head())\n",
        "display(df_train.describe())\n",
        "display(df_train.info())"
      ]
    },
    {
      "cell_type": "code",
      "execution_count": 97,
      "metadata": {
        "colab": {
          "base_uri": "https://localhost:8080/",
          "height": 673
        },
        "id": "1SCqSG05CMpd",
        "outputId": "ac3c75e1-840a-4fab-a22c-f9ce76fa9e37"
      },
      "outputs": [
        {
          "data": {
            "text/html": [
              "\n",
              "  <div id=\"df-592805ba-0bd6-420a-babd-c4148a11ace4\">\n",
              "    <div class=\"colab-df-container\">\n",
              "      <div>\n",
              "<style scoped>\n",
              "    .dataframe tbody tr th:only-of-type {\n",
              "        vertical-align: middle;\n",
              "    }\n",
              "\n",
              "    .dataframe tbody tr th {\n",
              "        vertical-align: top;\n",
              "    }\n",
              "\n",
              "    .dataframe thead th {\n",
              "        text-align: right;\n",
              "    }\n",
              "</style>\n",
              "<table border=\"1\" class=\"dataframe\">\n",
              "  <thead>\n",
              "    <tr style=\"text-align: right;\">\n",
              "      <th></th>\n",
              "      <th>tweet</th>\n",
              "      <th>label</th>\n",
              "    </tr>\n",
              "  </thead>\n",
              "  <tbody>\n",
              "    <tr>\n",
              "      <th>0</th>\n",
              "      <td>@user They had a massive surge in with covid d...</td>\n",
              "      <td>1</td>\n",
              "    </tr>\n",
              "    <tr>\n",
              "      <th>1</th>\n",
              "      <td>Required vaccines for school: Parents and guar...</td>\n",
              "      <td>0</td>\n",
              "    </tr>\n",
              "    <tr>\n",
              "      <th>2</th>\n",
              "      <td>“@KCStar: Two more Johnson County children hav...</td>\n",
              "      <td>0</td>\n",
              "    </tr>\n",
              "    <tr>\n",
              "      <th>3</th>\n",
              "      <td>NV can do better. Which states are the best (a...</td>\n",
              "      <td>2</td>\n",
              "    </tr>\n",
              "    <tr>\n",
              "      <th>4</th>\n",
              "      <td>Nothing like killing ourselves w/ our own fear...</td>\n",
              "      <td>2</td>\n",
              "    </tr>\n",
              "  </tbody>\n",
              "</table>\n",
              "</div>\n",
              "      <button class=\"colab-df-convert\" onclick=\"convertToInteractive('df-592805ba-0bd6-420a-babd-c4148a11ace4')\"\n",
              "              title=\"Convert this dataframe to an interactive table.\"\n",
              "              style=\"display:none;\">\n",
              "        \n",
              "  <svg xmlns=\"http://www.w3.org/2000/svg\" height=\"24px\"viewBox=\"0 0 24 24\"\n",
              "       width=\"24px\">\n",
              "    <path d=\"M0 0h24v24H0V0z\" fill=\"none\"/>\n",
              "    <path d=\"M18.56 5.44l.94 2.06.94-2.06 2.06-.94-2.06-.94-.94-2.06-.94 2.06-2.06.94zm-11 1L8.5 8.5l.94-2.06 2.06-.94-2.06-.94L8.5 2.5l-.94 2.06-2.06.94zm10 10l.94 2.06.94-2.06 2.06-.94-2.06-.94-.94-2.06-.94 2.06-2.06.94z\"/><path d=\"M17.41 7.96l-1.37-1.37c-.4-.4-.92-.59-1.43-.59-.52 0-1.04.2-1.43.59L10.3 9.45l-7.72 7.72c-.78.78-.78 2.05 0 2.83L4 21.41c.39.39.9.59 1.41.59.51 0 1.02-.2 1.41-.59l7.78-7.78 2.81-2.81c.8-.78.8-2.07 0-2.86zM5.41 20L4 18.59l7.72-7.72 1.47 1.35L5.41 20z\"/>\n",
              "  </svg>\n",
              "      </button>\n",
              "      \n",
              "  <style>\n",
              "    .colab-df-container {\n",
              "      display:flex;\n",
              "      flex-wrap:wrap;\n",
              "      gap: 12px;\n",
              "    }\n",
              "\n",
              "    .colab-df-convert {\n",
              "      background-color: #E8F0FE;\n",
              "      border: none;\n",
              "      border-radius: 50%;\n",
              "      cursor: pointer;\n",
              "      display: none;\n",
              "      fill: #1967D2;\n",
              "      height: 32px;\n",
              "      padding: 0 0 0 0;\n",
              "      width: 32px;\n",
              "    }\n",
              "\n",
              "    .colab-df-convert:hover {\n",
              "      background-color: #E2EBFA;\n",
              "      box-shadow: 0px 1px 2px rgba(60, 64, 67, 0.3), 0px 1px 3px 1px rgba(60, 64, 67, 0.15);\n",
              "      fill: #174EA6;\n",
              "    }\n",
              "\n",
              "    [theme=dark] .colab-df-convert {\n",
              "      background-color: #3B4455;\n",
              "      fill: #D2E3FC;\n",
              "    }\n",
              "\n",
              "    [theme=dark] .colab-df-convert:hover {\n",
              "      background-color: #434B5C;\n",
              "      box-shadow: 0px 1px 3px 1px rgba(0, 0, 0, 0.15);\n",
              "      filter: drop-shadow(0px 1px 2px rgba(0, 0, 0, 0.3));\n",
              "      fill: #FFFFFF;\n",
              "    }\n",
              "  </style>\n",
              "\n",
              "      <script>\n",
              "        const buttonEl =\n",
              "          document.querySelector('#df-592805ba-0bd6-420a-babd-c4148a11ace4 button.colab-df-convert');\n",
              "        buttonEl.style.display =\n",
              "          google.colab.kernel.accessAllowed ? 'block' : 'none';\n",
              "\n",
              "        async function convertToInteractive(key) {\n",
              "          const element = document.querySelector('#df-592805ba-0bd6-420a-babd-c4148a11ace4');\n",
              "          const dataTable =\n",
              "            await google.colab.kernel.invokeFunction('convertToInteractive',\n",
              "                                                     [key], {});\n",
              "          if (!dataTable) return;\n",
              "\n",
              "          const docLinkHtml = 'Like what you see? Visit the ' +\n",
              "            '<a target=\"_blank\" href=https://colab.research.google.com/notebooks/data_table.ipynb>data table notebook</a>'\n",
              "            + ' to learn more about interactive tables.';\n",
              "          element.innerHTML = '';\n",
              "          dataTable['output_type'] = 'display_data';\n",
              "          await google.colab.output.renderOutput(dataTable, element);\n",
              "          const docLink = document.createElement('div');\n",
              "          docLink.innerHTML = docLinkHtml;\n",
              "          element.appendChild(docLink);\n",
              "        }\n",
              "      </script>\n",
              "    </div>\n",
              "  </div>\n",
              "  "
            ],
            "text/plain": [
              "                                               tweet  label\n",
              "0  @user They had a massive surge in with covid d...      1\n",
              "1  Required vaccines for school: Parents and guar...      0\n",
              "2  “@KCStar: Two more Johnson County children hav...      0\n",
              "3  NV can do better. Which states are the best (a...      2\n",
              "4  Nothing like killing ourselves w/ our own fear...      2"
            ]
          },
          "metadata": {},
          "output_type": "display_data"
        },
        {
          "data": {
            "text/html": [
              "\n",
              "  <div id=\"df-4808829d-c6f4-4319-a9ba-3ba08e920bf9\">\n",
              "    <div class=\"colab-df-container\">\n",
              "      <div>\n",
              "<style scoped>\n",
              "    .dataframe tbody tr th:only-of-type {\n",
              "        vertical-align: middle;\n",
              "    }\n",
              "\n",
              "    .dataframe tbody tr th {\n",
              "        vertical-align: top;\n",
              "    }\n",
              "\n",
              "    .dataframe thead th {\n",
              "        text-align: right;\n",
              "    }\n",
              "</style>\n",
              "<table border=\"1\" class=\"dataframe\">\n",
              "  <thead>\n",
              "    <tr style=\"text-align: right;\">\n",
              "      <th></th>\n",
              "      <th>label</th>\n",
              "    </tr>\n",
              "  </thead>\n",
              "  <tbody>\n",
              "    <tr>\n",
              "      <th>count</th>\n",
              "      <td>2282.000000</td>\n",
              "    </tr>\n",
              "    <tr>\n",
              "      <th>mean</th>\n",
              "      <td>0.936897</td>\n",
              "    </tr>\n",
              "    <tr>\n",
              "      <th>std</th>\n",
              "      <td>0.930960</td>\n",
              "    </tr>\n",
              "    <tr>\n",
              "      <th>min</th>\n",
              "      <td>0.000000</td>\n",
              "    </tr>\n",
              "    <tr>\n",
              "      <th>25%</th>\n",
              "      <td>0.000000</td>\n",
              "    </tr>\n",
              "    <tr>\n",
              "      <th>50%</th>\n",
              "      <td>1.000000</td>\n",
              "    </tr>\n",
              "    <tr>\n",
              "      <th>75%</th>\n",
              "      <td>2.000000</td>\n",
              "    </tr>\n",
              "    <tr>\n",
              "      <th>max</th>\n",
              "      <td>2.000000</td>\n",
              "    </tr>\n",
              "  </tbody>\n",
              "</table>\n",
              "</div>\n",
              "      <button class=\"colab-df-convert\" onclick=\"convertToInteractive('df-4808829d-c6f4-4319-a9ba-3ba08e920bf9')\"\n",
              "              title=\"Convert this dataframe to an interactive table.\"\n",
              "              style=\"display:none;\">\n",
              "        \n",
              "  <svg xmlns=\"http://www.w3.org/2000/svg\" height=\"24px\"viewBox=\"0 0 24 24\"\n",
              "       width=\"24px\">\n",
              "    <path d=\"M0 0h24v24H0V0z\" fill=\"none\"/>\n",
              "    <path d=\"M18.56 5.44l.94 2.06.94-2.06 2.06-.94-2.06-.94-.94-2.06-.94 2.06-2.06.94zm-11 1L8.5 8.5l.94-2.06 2.06-.94-2.06-.94L8.5 2.5l-.94 2.06-2.06.94zm10 10l.94 2.06.94-2.06 2.06-.94-2.06-.94-.94-2.06-.94 2.06-2.06.94z\"/><path d=\"M17.41 7.96l-1.37-1.37c-.4-.4-.92-.59-1.43-.59-.52 0-1.04.2-1.43.59L10.3 9.45l-7.72 7.72c-.78.78-.78 2.05 0 2.83L4 21.41c.39.39.9.59 1.41.59.51 0 1.02-.2 1.41-.59l7.78-7.78 2.81-2.81c.8-.78.8-2.07 0-2.86zM5.41 20L4 18.59l7.72-7.72 1.47 1.35L5.41 20z\"/>\n",
              "  </svg>\n",
              "      </button>\n",
              "      \n",
              "  <style>\n",
              "    .colab-df-container {\n",
              "      display:flex;\n",
              "      flex-wrap:wrap;\n",
              "      gap: 12px;\n",
              "    }\n",
              "\n",
              "    .colab-df-convert {\n",
              "      background-color: #E8F0FE;\n",
              "      border: none;\n",
              "      border-radius: 50%;\n",
              "      cursor: pointer;\n",
              "      display: none;\n",
              "      fill: #1967D2;\n",
              "      height: 32px;\n",
              "      padding: 0 0 0 0;\n",
              "      width: 32px;\n",
              "    }\n",
              "\n",
              "    .colab-df-convert:hover {\n",
              "      background-color: #E2EBFA;\n",
              "      box-shadow: 0px 1px 2px rgba(60, 64, 67, 0.3), 0px 1px 3px 1px rgba(60, 64, 67, 0.15);\n",
              "      fill: #174EA6;\n",
              "    }\n",
              "\n",
              "    [theme=dark] .colab-df-convert {\n",
              "      background-color: #3B4455;\n",
              "      fill: #D2E3FC;\n",
              "    }\n",
              "\n",
              "    [theme=dark] .colab-df-convert:hover {\n",
              "      background-color: #434B5C;\n",
              "      box-shadow: 0px 1px 3px 1px rgba(0, 0, 0, 0.15);\n",
              "      filter: drop-shadow(0px 1px 2px rgba(0, 0, 0, 0.3));\n",
              "      fill: #FFFFFF;\n",
              "    }\n",
              "  </style>\n",
              "\n",
              "      <script>\n",
              "        const buttonEl =\n",
              "          document.querySelector('#df-4808829d-c6f4-4319-a9ba-3ba08e920bf9 button.colab-df-convert');\n",
              "        buttonEl.style.display =\n",
              "          google.colab.kernel.accessAllowed ? 'block' : 'none';\n",
              "\n",
              "        async function convertToInteractive(key) {\n",
              "          const element = document.querySelector('#df-4808829d-c6f4-4319-a9ba-3ba08e920bf9');\n",
              "          const dataTable =\n",
              "            await google.colab.kernel.invokeFunction('convertToInteractive',\n",
              "                                                     [key], {});\n",
              "          if (!dataTable) return;\n",
              "\n",
              "          const docLinkHtml = 'Like what you see? Visit the ' +\n",
              "            '<a target=\"_blank\" href=https://colab.research.google.com/notebooks/data_table.ipynb>data table notebook</a>'\n",
              "            + ' to learn more about interactive tables.';\n",
              "          element.innerHTML = '';\n",
              "          dataTable['output_type'] = 'display_data';\n",
              "          await google.colab.output.renderOutput(dataTable, element);\n",
              "          const docLink = document.createElement('div');\n",
              "          docLink.innerHTML = docLinkHtml;\n",
              "          element.appendChild(docLink);\n",
              "        }\n",
              "      </script>\n",
              "    </div>\n",
              "  </div>\n",
              "  "
            ],
            "text/plain": [
              "             label\n",
              "count  2282.000000\n",
              "mean      0.936897\n",
              "std       0.930960\n",
              "min       0.000000\n",
              "25%       0.000000\n",
              "50%       1.000000\n",
              "75%       2.000000\n",
              "max       2.000000"
            ]
          },
          "metadata": {},
          "output_type": "display_data"
        },
        {
          "name": "stdout",
          "output_type": "stream",
          "text": [
            "<class 'pandas.core.frame.DataFrame'>\n",
            "RangeIndex: 2282 entries, 0 to 2281\n",
            "Data columns (total 2 columns):\n",
            " #   Column  Non-Null Count  Dtype \n",
            "---  ------  --------------  ----- \n",
            " 0   tweet   2282 non-null   object\n",
            " 1   label   2282 non-null   int64 \n",
            "dtypes: int64(1), object(1)\n",
            "memory usage: 35.8+ KB\n"
          ]
        },
        {
          "data": {
            "text/plain": [
              "None"
            ]
          },
          "metadata": {},
          "output_type": "display_data"
        }
      ],
      "source": [
        "display(df_test.head())\n",
        "display(df_test.describe())\n",
        "display(df_test.info())"
      ]
    },
    {
      "cell_type": "markdown",
      "metadata": {
        "id": "22fsx7JjEMfF"
      },
      "source": [
        "## Data Pre-processing"
      ]
    },
    {
      "cell_type": "markdown",
      "metadata": {
        "id": "2qCtGlrAOjpT"
      },
      "source": [
        "### Data Cleaning\n"
      ]
    },
    {
      "cell_type": "code",
      "execution_count": 98,
      "metadata": {
        "colab": {
          "base_uri": "https://localhost:8080/"
        },
        "id": "eTX3ciaXEPak",
        "outputId": "a2406e05-3c5b-4302-eaf8-f4412ebfbd5d"
      },
      "outputs": [
        {
          "data": {
            "text/plain": [
              "tweet    0\n",
              "label    0\n",
              "dtype: int64"
            ]
          },
          "execution_count": 98,
          "metadata": {},
          "output_type": "execute_result"
        }
      ],
      "source": [
        "#Check for null values\n",
        "#In this case there are no missing values, so no action is needed\n",
        "df_train.isnull().sum()"
      ]
    },
    {
      "cell_type": "code",
      "execution_count": 99,
      "metadata": {
        "colab": {
          "base_uri": "https://localhost:8080/"
        },
        "id": "QsaG_oHBEgmM",
        "outputId": "b0a9d6e2-1e7f-43bc-8961-cc64175232c4"
      },
      "outputs": [
        {
          "data": {
            "text/plain": [
              "tweet    0\n",
              "label    0\n",
              "dtype: int64"
            ]
          },
          "execution_count": 99,
          "metadata": {},
          "output_type": "execute_result"
        }
      ],
      "source": [
        "df_test.isnull().sum()"
      ]
    },
    {
      "cell_type": "code",
      "execution_count": 100,
      "metadata": {
        "colab": {
          "base_uri": "https://localhost:8080/"
        },
        "id": "bW2gJG0SlR81",
        "outputId": "9f1622d5-98cc-4228-9186-9829fbc55d7a"
      },
      "outputs": [
        {
          "name": "stdout",
          "output_type": "stream",
          "text": [
            "[nltk_data] Downloading package stopwords to /root/nltk_data...\n",
            "[nltk_data]   Package stopwords is already up-to-date!\n"
          ]
        }
      ],
      "source": [
        "import re\n",
        "import string\n",
        "from nltk.corpus import stopwords\n",
        "\n",
        "import nltk\n",
        "nltk.download(\"stopwords\")\n",
        "\n",
        "stop_words = stopwords.words(\"english\")\n",
        "\n",
        "def tweets_cleaning(x, remove_emojis=False, remove_stop_words=True):\n",
        "    \"\"\"Apply function to a clean a tweet\"\"\"\n",
        "    x = x.lower().strip()\n",
        "    # romove urls\n",
        "    url = re.compile(r'https?://\\S+|www\\.\\S+')\n",
        "    x = url.sub(r'',x)\n",
        "    # remove html tags\n",
        "    html = re.compile(r'<.*?>')\n",
        "    x = html.sub(r'',x)\n",
        "    # remove punctuation\n",
        "    operator = str.maketrans(' ',' ',string.punctuation)\n",
        "    x = x.translate(operator)\n",
        "    if remove_emojis:\n",
        "        x = x.encode('ascii', 'ignore').decode('utf8').strip()\n",
        "    if remove_stop_words:\n",
        "        x = ' '.join([word for word in x.split(' ') if word not in stop_words])\n",
        "    return x"
      ]
    },
    {
      "cell_type": "code",
      "execution_count": 101,
      "metadata": {
        "id": "7r9stfORI5rQ"
      },
      "outputs": [],
      "source": [
        "## APPLY the cleaning function to the text column\n",
        "df_train['cleanglove_tweet'] = df_train['tweet'].apply(tweets_cleaning)\n",
        "df_test['cleanglove_tweet'] = df_test['tweet'].apply(tweets_cleaning)"
      ]
    },
    {
      "cell_type": "code",
      "execution_count": 102,
      "metadata": {
        "id": "PRjL4WS3E4Jc"
      },
      "outputs": [],
      "source": [
        "Y_train = df_train['label'] #Only keep value\n",
        "Y_test = df_test['label'] #Only keep value"
      ]
    },
    {
      "cell_type": "code",
      "execution_count": 103,
      "metadata": {
        "colab": {
          "base_uri": "https://localhost:8080/"
        },
        "id": "hb_35RgUQJFf",
        "outputId": "9fcacd2a-b5a6-4df4-f6d8-1b8548b90790"
      },
      "outputs": [
        {
          "data": {
            "text/plain": [
              "0        sip n shop come thru right marjais popularnobo...\n",
              "1        dont know family take covid19 vaccine anytime ...\n",
              "2        msignorile immunizations mandatory period okla...\n",
              "3        president obama spoke favor vaccination childr...\n",
              "4        myfoxla arizona monitoring hundreds measles li...\n",
              "                               ...                        \n",
              "15971    salon u believe antivax nutcases caused measle...\n",
              "15972    feel parents dont vaccinate kids\\r\\n\\r\\nmeasle...\n",
              "15973          70 preschoolers tested measles simi valley \n",
              "15974    finance minister budget offers room procure co...\n",
              "15975    date vaccines take cdc’s vaccine quiz find vac...\n",
              "Name: cleanglove_tweet, Length: 15976, dtype: object"
            ]
          },
          "execution_count": 103,
          "metadata": {},
          "output_type": "execute_result"
        }
      ],
      "source": [
        "df_train['cleanglove_tweet']"
      ]
    },
    {
      "cell_type": "code",
      "execution_count": 104,
      "metadata": {
        "colab": {
          "base_uri": "https://localhost:8080/"
        },
        "id": "MgKREelmQM3f",
        "outputId": "f7c91e92-afc9-40fa-c16e-06e7b89d95a9"
      },
      "outputs": [
        {
          "data": {
            "text/plain": [
              "0        sip n shop come thru right marjais popularnobo...\n",
              "1        dont know family take covid19 vaccine anytime ...\n",
              "2        msignorile immunizations mandatory period okla...\n",
              "3        president obama spoke favor vaccination childr...\n",
              "4        myfoxla arizona monitoring hundreds measles li...\n",
              "                               ...                        \n",
              "15971    salon u believe antivax nutcases caused measle...\n",
              "15972    feel parents dont vaccinate kids\\r\\n\\r\\nmeasle...\n",
              "15973          70 preschoolers tested measles simi valley \n",
              "15974    finance minister budget offers room procure co...\n",
              "15975    date vaccines take cdc’s vaccine quiz find vac...\n",
              "Name: cleanglove_tweet, Length: 15976, dtype: object"
            ]
          },
          "execution_count": 104,
          "metadata": {},
          "output_type": "execute_result"
        }
      ],
      "source": [
        "df_train['cleanglove_tweet']"
      ]
    },
    {
      "cell_type": "markdown",
      "metadata": {
        "id": "mMXtkwBrJtSi"
      },
      "source": [
        "Overview of label distribution"
      ]
    },
    {
      "cell_type": "code",
      "execution_count": 105,
      "metadata": {
        "colab": {
          "base_uri": "https://localhost:8080/"
        },
        "id": "dxpyM6vOHrRv",
        "outputId": "e57e74ca-f190-49dc-aef4-9eb71a6e8552"
      },
      "outputs": [
        {
          "name": "stdout",
          "output_type": "stream",
          "text": [
            "train data\n",
            "label 0: 7458\n",
            "label 1: 2073\n",
            "label 2: 6445\n",
            "validation data\n",
            "label 0: 1065\n",
            "label 1: 296\n",
            "label 2: 921\n"
          ]
        }
      ],
      "source": [
        "print(\"train data\")\n",
        "print(\"label 0:\",Y_train[Y_train== 0].count())\n",
        "print(\"label 1:\",Y_train[Y_train== 1].count())\n",
        "print(\"label 2:\",Y_train[Y_train== 2].count())\n",
        "print(\"validation data\")\n",
        "print(\"label 0:\",Y_test[Y_test== 0].count())\n",
        "print(\"label 1:\",Y_test[Y_test== 1].count())\n",
        "print(\"label 2:\",Y_test[Y_test== 2].count())"
      ]
    },
    {
      "cell_type": "code",
      "execution_count": 106,
      "metadata": {
        "colab": {
          "base_uri": "https://localhost:8080/",
          "height": 335
        },
        "id": "RKmLcKZYL34v",
        "outputId": "7d03dfd9-4b0c-44b7-e936-e90530eaa90d"
      },
      "outputs": [
        {
          "data": {
            "image/png": "[encoded data removed]",
            "text/plain": [
              "<Figure size 432x288 with 1 Axes>"
            ]
          },
          "metadata": {
            "needs_background": "light"
          },
          "output_type": "display_data"
        }
      ],
      "source": [
        "fig = plt.figure()\n",
        "ax = fig.add_axes([0,0,1,1])\n",
        "langs = ['0', '1', '2']\n",
        "students = [Y_train[Y_train== 0].count(),Y_train[Y_train== 1].count(),Y_train[Y_train== 2].count()]\n",
        "students2= [Y_test[Y_test== 0].count(),Y_test[Y_test== 1].count(),Y_test[Y_test== 2].count()]\n",
        "ax.bar(langs, students)\n",
        "ax.bar(langs, students2)\n",
        "plt.show()"
      ]
    },
    {
      "cell_type": "markdown",
      "metadata": {
        "id": "_4Z0u5rJ0ToQ"
      },
      "source": [
        "Label 1 has very few instances so we expect that it has a lower score than the other 2 labels. "
      ]
    },
    {
      "cell_type": "markdown",
      "metadata": {
        "id": "b5Bc0vQAEvnD"
      },
      "source": [
        "## Features Extraction\n"
      ]
    },
    {
      "cell_type": "markdown",
      "metadata": {
        "id": "RKJyG0WzOUyb"
      },
      "source": [
        "### GloVe representation"
      ]
    },
    {
      "cell_type": "markdown",
      "metadata": {
        "id": "0QS4tdTpGpkF"
      },
      "source": [
        "Load pre-trained GloVe vectors into a dictionary."
      ]
    },
    {
      "cell_type": "code",
      "execution_count": 107,
      "metadata": {
        "id": "Wc0NC0cvGov-"
      },
      "outputs": [],
      "source": [
        "embeddings_dict = {}\n",
        "with open(\"/content/drive/MyDrive/Colab Notebooks/Artificial Intelligence II/glove.twitter.27B.50d.txt\", 'r', encoding=\"utf-8\") as f:\n",
        "  for line in f:\n",
        "    values = line.split()\n",
        "    word = values[0]\n",
        "    vector = np.asarray(values[1:],'float32')\n",
        "    embeddings_dict[word]=vector"
      ]
    },
    {
      "cell_type": "markdown",
      "metadata": {
        "id": "s4lM2nRpj6ns"
      },
      "source": [
        "Find the vector for each word in each tweet and for every tweet keep the average of each dimesion of its words.\n",
        "\n",
        "Some words do not exist in the pretrained model and in some tweets there isn't any word that matches. So I filled those tweets with zeros.  "
      ]
    },
    {
      "cell_type": "code",
      "execution_count": 108,
      "metadata": {
        "colab": {
          "base_uri": "https://localhost:8080/"
        },
        "id": "iWzahQgiaoQB",
        "outputId": "6a5a563a-3f94-4455-d20c-b50f40549d87"
      },
      "outputs": [
        {
          "name": "stdout",
          "output_type": "stream",
          "text": [
            "[nltk_data] Downloading package punkt to /root/nltk_data...\n",
            "[nltk_data]   Package punkt is already up-to-date!\n"
          ]
        }
      ],
      "source": [
        "import nltk\n",
        "nltk.download('punkt')\n",
        "from nltk import word_tokenize\n",
        "def find_glove(text):\n",
        "  tokens = word_tokenize(text.lower())\n",
        "  res = [ embeddings_dict[token] for token in tokens if (token in embeddings_dict) ]\n",
        "  # print([ token for token in tokens if (token not in embeddings_dict) ] )\n",
        "  if (len(res) == 0):\n",
        "    res = np.zeros(50)\n",
        "  else:\n",
        "    res = np.stack(res, axis=0)\n",
        "    res = np.average(res, axis=0).flatten()\n",
        "  return res\n",
        "\n",
        "df_train['features'] = df_train['cleanglove_tweet'].apply(find_glove)\n",
        "df_test['features'] = df_test['cleanglove_tweet'].apply(find_glove)"
      ]
    },
    {
      "cell_type": "markdown",
      "metadata": {
        "id": "yn7Dw8EZO0Oa"
      },
      "source": [
        "### TF-IDF representation"
      ]
    },
    {
      "cell_type": "markdown",
      "metadata": {
        "id": "Pn9cUYVqlYHi"
      },
      "source": [
        "This is the same function that I used in Homework 1 for lemmatization. In this exercise it did not have better results than the simple preprocessing so I didn't use it."
      ]
    },
    {
      "cell_type": "code",
      "execution_count": 109,
      "metadata": {
        "colab": {
          "base_uri": "https://localhost:8080/"
        },
        "id": "07E_H-evj1cT",
        "outputId": "7edcd44e-d76e-448c-a4c7-2a7f556e5ffe"
      },
      "outputs": [
        {
          "name": "stdout",
          "output_type": "stream",
          "text": [
            "[nltk_data] Downloading package wordnet to /root/nltk_data...\n",
            "[nltk_data]   Package wordnet is already up-to-date!\n",
            "[nltk_data] Downloading package averaged_perceptron_tagger to\n",
            "[nltk_data]     /root/nltk_data...\n",
            "[nltk_data]   Package averaged_perceptron_tagger is already up-to-\n",
            "[nltk_data]       date!\n"
          ]
        }
      ],
      "source": [
        "# Dictionary is created where pos_tag (first letter) are the key values whose values are mapped with the value from wordnet dictionary. \n",
        "# We have taken the only first letter as we will use it later in the loop.\n",
        "\n",
        "# For preprocessing\n",
        "import nltk\n",
        "nltk.download('wordnet')\n",
        "nltk.download('averaged_perceptron_tagger')\n",
        "# the corpus reader wordnet is imported.\n",
        "from nltk.corpus import wordnet as wn\n",
        "# WordNetLemmatizer is imported from wordnet.\n",
        "from nltk.stem.wordnet import WordNetLemmatizer\n",
        "# Word tokenize as well as parts of speech tag are imported from nltk.\n",
        "from nltk import word_tokenize, pos_tag\n",
        "# Default Dictionary is imported from collections.\n",
        "from collections import defaultdict\n",
        "\n",
        "tag_map = defaultdict(lambda : wn.NOUN)\n",
        "tag_map['J'] = wn.ADJ\n",
        "tag_map['V'] = wn.VERB\n",
        "tag_map['R'] = wn.ADV\n",
        "import gensim\n",
        "all_stopwords = gensim.parsing.preprocessing.STOPWORDS\n",
        "lemmatizer = WordNetLemmatizer()\n",
        "\n",
        "def lemma_text(text):\n",
        "  text = text.replace(\"#\", \" \")\n",
        "  tokens = word_tokenize(text.lower())\n",
        "  text = ' '.join([lemmatizer.lemmatize(token, tag_map[tag[0]]) for token, tag in pos_tag(tokens)]) # if (token not in all_stopwords and token.isalpha() == True and len(token)>2)\n",
        "  return text\n"
      ]
    },
    {
      "cell_type": "markdown",
      "metadata": {
        "id": "8fU0K4knPPTD"
      },
      "source": [
        "Apply the simple preprocessing to the tf-idf's tweets."
      ]
    },
    {
      "cell_type": "code",
      "execution_count": 110,
      "metadata": {
        "id": "v4weLof6ZxrW"
      },
      "outputs": [],
      "source": [
        "\n",
        "df_train['cleantfidf_tweet'] = df_train['tweet'].apply(tweets_cleaning)\n",
        "df_test['cleantfidf_tweet'] = df_test['tweet'].apply(tweets_cleaning)"
      ]
    },
    {
      "cell_type": "markdown",
      "metadata": {
        "id": "bx1SN_Qel7BB"
      },
      "source": [
        "For the TF-IDF vectorization I used unigrams & bigrams for a better representation of the tweets and connections between words. I tried 0.01, 0.002 and 0.001 for the min_df parameter. 0.01 resulted in very little features that were not enough to represent the dataset well. 0.002 is the value that I worked best in Homework 1, but 0.001 did better in this one."
      ]
    },
    {
      "cell_type": "code",
      "execution_count": 111,
      "metadata": {
        "colab": {
          "base_uri": "https://localhost:8080/"
        },
        "id": "2b3B3CpVOzih",
        "outputId": "60879e77-1592-41f6-f7c6-cc6a05c0edb7"
      },
      "outputs": [
        {
          "name": "stdout",
          "output_type": "stream",
          "text": [
            "(15976, 1900)\n",
            "['10' '100' '1000' ... 'yr' 'yrs' 'zero']\n",
            "(2282, 1900)\n"
          ]
        }
      ],
      "source": [
        "tfidf_vectorizer = TfidfVectorizer(ngram_range=(1, 2), max_df=1.0, min_df=0.001, stop_words='english', lowercase=True)\n",
        "\n",
        "tfidf_vectorizer.fit(df_train['cleantfidf_tweet'])\n",
        "\n",
        "tfidf_train = tfidf_vectorizer.transform(df_train['cleantfidf_tweet'])\n",
        "print(tfidf_train.shape)\n",
        "print(tfidf_vectorizer.get_feature_names_out())\n",
        "tfidf_test = tfidf_vectorizer.transform(df_test['cleantfidf_tweet'])\n",
        "print(tfidf_test.shape)"
      ]
    },
    {
      "cell_type": "markdown",
      "metadata": {
        "id": "o3GArLbZpYJA"
      },
      "source": [
        "## Neural Network using GloVe-4 hidden layers"
      ]
    },
    {
      "cell_type": "markdown",
      "metadata": {
        "id": "HYnUdIuCnoMX"
      },
      "source": [
        "Import torch."
      ]
    },
    {
      "cell_type": "code",
      "execution_count": 112,
      "metadata": {
        "id": "LHT32nVHaJkd"
      },
      "outputs": [],
      "source": [
        "import torch\n",
        "import torch.nn as nn"
      ]
    },
    {
      "cell_type": "markdown",
      "metadata": {
        "id": "gYI97j49nrHe"
      },
      "source": [
        "Tranform train and test dataframes to tensors so that we can use them in the neural network.\n",
        "\n",
        "I experimented with feature normalization but it dropped the score by 1%, so I chose to keep only batch normalization inside the model. "
      ]
    },
    {
      "cell_type": "code",
      "execution_count": 113,
      "metadata": {
        "colab": {
          "base_uri": "https://localhost:8080/"
        },
        "id": "2EIP1OaJOFak",
        "outputId": "bcef1263-eea3-4f9e-deb8-857c92afe609"
      },
      "outputs": [
        {
          "name": "stdout",
          "output_type": "stream",
          "text": [
            "x shape: torch.Size([15976, 50])\n",
            "y shape: torch.Size([15976])\n"
          ]
        }
      ],
      "source": [
        "train_features = np.stack(df_train['features'])\n",
        "\n",
        "#Normalize values\n",
        "# train_features = np.stack(df_train['features'])\n",
        "# train_features = (train_features-train_features.mean())/train_features.std()\n",
        "\n",
        "#Save in tensors\n",
        "x = torch.tensor(train_features, dtype=torch.float)\n",
        "y = torch.tensor(df_train['label'], dtype=torch.float)\n",
        "\n",
        "print(f\"x shape: {x.shape}\")\n",
        "print(f\"y shape: {y.shape}\")"
      ]
    },
    {
      "cell_type": "code",
      "execution_count": 114,
      "metadata": {
        "id": "Tg1n8BaJT6sz"
      },
      "outputs": [],
      "source": [
        "test_features = np.stack(df_test['features'])\n",
        "# test_features = (test_features-test_features.mean())/test_features.std()\n",
        "# display(test_features.mean())\n",
        "# display(test_features.std())\n",
        "x_test = torch.tensor(test_features, dtype=torch.float)\n",
        "y_test = torch.tensor(Y_test, dtype=torch.float)\n",
        "\n",
        "y_test_3 = np.array(pd.get_dummies(y_test.detach().numpy()))\n",
        "y_test_3 = torch.tensor(y_test_3, dtype=torch.float)"
      ]
    },
    {
      "cell_type": "markdown",
      "metadata": {
        "id": "i10vl9KnOwfE"
      },
      "source": [
        "### Create a Neural Network"
      ]
    },
    {
      "cell_type": "markdown",
      "metadata": {
        "id": "VOozU5XhQoeg"
      },
      "source": [
        "For all 3 models I used dropout and experimented with differrent rates, batch normalization and LeakyReLU. \n",
        "\n",
        "**Activation** functions:\n",
        "- LeakyRelU did better than ReLU in almost all models that I tried.  \n",
        "- ReLU and LeakyReLU were better than SELU, ELU and tanh.\n",
        "I also tried He and Glorot initializations, but their scores were worse than the default initialization with ReLU activation. \n",
        "\n",
        "**Batch Normalization** and **Dropout** improved every model, although I noticed  that in the GloVe models a lower rate than what I used in TF-IDF was better, because in TF-IDF we have more features so the model can overfit faster.\n",
        "\n",
        "For the **loss fuction** I tried MSELoss and CrossEntropyLoss but I kept Cross Entropy because it is more fitted for multilabel problems with class imbalances according to the documentation. \n",
        "\n",
        "For **optimizers** I chose Adam and in some models I also set the amsgrad parameter. I experimented with SGD and its parameters (momentum and nesterov). The best results with SGD were with momentum=0.9 and nesterov=True, but scores with Adam optimizer were better."
      ]
    },
    {
      "cell_type": "code",
      "execution_count": 115,
      "metadata": {
        "id": "wTlyzUiG8p5V"
      },
      "outputs": [],
      "source": [
        "class Net(nn.Module):\n",
        "    def __init__(self, D_in, H1, H2, H3, H4, D_out):\n",
        "        super(Net, self).__init__()\n",
        "        self.d1 = nn.Dropout(p=0.5)\n",
        "        self.d2 = nn.Dropout(p=0.4)\n",
        "        self.d3 = nn.Dropout(p=0.4)\n",
        "        self.d4 = nn.Dropout(p=0.4)\n",
        "\n",
        "        self.bn1 = nn.BatchNorm1d(H1)\n",
        "        self.bn2 = nn.BatchNorm1d(H2)\n",
        "        self.bn3 = nn.BatchNorm1d(H3)\n",
        "        self.bn4 = nn.BatchNorm1d(H4)\n",
        "\n",
        "        self.linear1 = nn.Linear(D_in, H1)\n",
        "        self.linear2 = nn.Linear(H1, H2)\n",
        "        self.linear3 = nn.Linear(H2, H3)\n",
        "        self.linear4 = nn.Linear(H3, H4)\n",
        "        self.linear5 = nn.Linear(H4, D_out)\n",
        "\n",
        "        self.softmax = nn.Softmax(dim=1);\n",
        "        self.relu=nn.LeakyReLU()\n",
        "        \n",
        "    def forward(self, x):\n",
        "        h1 = self.linear1(x)\n",
        "        h1 = self.bn1(h1)\n",
        "        h1 = self.relu(h1)\n",
        "        h1 = self.d1(h1)\n",
        "\n",
        "        h2 = self.linear2(h1)\n",
        "        h2 = self.bn2(h2)\n",
        "        h2 = self.relu(h2)\n",
        "        h2 = self.d2(h2)\n",
        "\n",
        "        h3 = self.linear3(h2)\n",
        "        h3 = self.bn3(h3)\n",
        "        h3 = self.relu(h3)\n",
        "        h3 = self.d3(h3)\n",
        "\n",
        "        h4 = self.linear4(h3)\n",
        "        h4 = self.bn4(h4)\n",
        "        h4 = self.relu(h4)\n",
        "        h4 = self.d4(h4)\n",
        "\n",
        "        out = self.linear5(h4)\n",
        "        # out = self.softmax(out)\n",
        "        return out"
      ]
    },
    {
      "cell_type": "markdown",
      "metadata": {
        "id": "S57e1L6hXivH"
      },
      "source": [
        "This model has 4 hidden layers with descending sizes. I will compare it later to the smaller one with 3 hidden layers."
      ]
    },
    {
      "cell_type": "code",
      "execution_count": 116,
      "metadata": {
        "colab": {
          "base_uri": "https://localhost:8080/",
          "height": 351
        },
        "id": "BXAcc2dLPPUe",
        "outputId": "6b0acd98-7599-48ba-85aa-e2e9fe559324"
      },
      "outputs": [
        {
          "data": {
            "text/plain": [
              "Net(\n",
              "  (d1): Dropout(p=0.5, inplace=False)\n",
              "  (d2): Dropout(p=0.4, inplace=False)\n",
              "  (d3): Dropout(p=0.4, inplace=False)\n",
              "  (d4): Dropout(p=0.4, inplace=False)\n",
              "  (bn1): BatchNorm1d(1024, eps=1e-05, momentum=0.1, affine=True, track_running_stats=True)\n",
              "  (bn2): BatchNorm1d(512, eps=1e-05, momentum=0.1, affine=True, track_running_stats=True)\n",
              "  (bn3): BatchNorm1d(128, eps=1e-05, momentum=0.1, affine=True, track_running_stats=True)\n",
              "  (bn4): BatchNorm1d(64, eps=1e-05, momentum=0.1, affine=True, track_running_stats=True)\n",
              "  (linear1): Linear(in_features=50, out_features=1024, bias=True)\n",
              "  (linear2): Linear(in_features=1024, out_features=512, bias=True)\n",
              "  (linear3): Linear(in_features=512, out_features=128, bias=True)\n",
              "  (linear4): Linear(in_features=128, out_features=64, bias=True)\n",
              "  (linear5): Linear(in_features=64, out_features=3, bias=True)\n",
              "  (softmax): Softmax(dim=1)\n",
              "  (relu): LeakyReLU(negative_slope=0.01)\n",
              ")"
            ]
          },
          "metadata": {},
          "output_type": "display_data"
        }
      ],
      "source": [
        "np.random.seed(20)\n",
        "torch.manual_seed(20)\n",
        "\n",
        "#Define layer sizes\n",
        "D_in = x.shape[1]\n",
        "H1 = 1024\n",
        "H2 = 512\n",
        "H3 = 128\n",
        "H4 = 64\n",
        "D_out = 3\n",
        "\n",
        "#Define Hyperparameters\n",
        "learning_rate = 0.001\n",
        "\n",
        "#Initialize model, loss, optimizer\n",
        "model = Net(D_in, H1, H2, H3, H4, D_out)\n",
        "\n",
        "loss_func = nn.CrossEntropyLoss()\n",
        "optimizer = torch.optim.Adam(model.parameters(), lr=learning_rate)\n",
        "\n",
        "#Initialize dataloader\n",
        "dataset = torch.utils.data.TensorDataset(x, y)\n",
        "dataloader = torch.utils.data.DataLoader(dataset, batch_size=256, shuffle=True)\n",
        "\n",
        "display(model)"
      ]
    },
    {
      "cell_type": "markdown",
      "metadata": {
        "id": "tWzZl_LRTd6J"
      },
      "source": [
        "### Train Network"
      ]
    },
    {
      "cell_type": "code",
      "execution_count": 117,
      "metadata": {
        "colab": {
          "base_uri": "https://localhost:8080/"
        },
        "id": "fck--1cFP1Rd",
        "outputId": "ba900c13-56a3-43ea-a063-9afe594b7330"
      },
      "outputs": [
        {
          "name": "stdout",
          "output_type": "stream",
          "text": [
            "Epoch   0: Loss = 0.87377\n",
            "Epoch   1: Loss = 0.79996\n",
            "Epoch   2: Loss = 0.77461\n",
            "Epoch   3: Loss = 0.76644\n",
            "Epoch   4: Loss = 0.75097\n",
            "Epoch   5: Loss = 0.74848\n",
            "Epoch   6: Loss = 0.73917\n",
            "Epoch   7: Loss = 0.73029\n",
            "Epoch   8: Loss = 0.71982\n",
            "Epoch   9: Loss = 0.71319\n",
            "Epoch  10: Loss = 0.70941\n",
            "Epoch  11: Loss = 0.69968\n",
            "Epoch  12: Loss = 0.70381\n",
            "Epoch  13: Loss = 0.69742\n",
            "Epoch  14: Loss = 0.69138\n"
          ]
        }
      ],
      "source": [
        "epoch_loss = []\n",
        "validation_loss = []\n",
        "epochs = 15\n",
        "\n",
        "for epoch in range(epochs):\n",
        "  model.train()\n",
        "  batch_losses = []\n",
        "\n",
        "  for x_batch, y_batch in dataloader:\n",
        "    y_pred = model(x_batch)\n",
        "    \n",
        "    y_batch = np.array(pd.get_dummies(y_batch.detach().numpy()))\n",
        "    y_batch = torch.tensor(y_batch, dtype=torch.float)\n",
        "    loss = loss_func(y_pred, y_batch)\n",
        "    batch_losses.append(loss.item())\n",
        "    \n",
        "    #Delete previously stored gradients\n",
        "    optimizer.zero_grad()\n",
        "    #Perform backpropagation starting from the loss calculated in this epoch\n",
        "    loss.backward()\n",
        "    #Update model's weights based on the gradients calculated during backprop\n",
        "    optimizer.step()\n",
        "\n",
        "  epoch_loss.append(sum(batch_losses)/len(dataloader))\n",
        "  model.eval()\n",
        "  y_test_pred = model(x_test)\n",
        "\n",
        "  val_loss = loss_func(y_test_pred, y_test_3)\n",
        "\n",
        "  validation_loss.append(val_loss.item())\n",
        "  print(f\"Epoch {epoch:3}: Loss = {sum(batch_losses)/len(dataloader):.5f}\")\n",
        "    "
      ]
    },
    {
      "cell_type": "markdown",
      "metadata": {
        "id": "D3nH386TKXwy"
      },
      "source": [
        "### Evaluation of the model using recall, precision and f1 metrics"
      ]
    },
    {
      "cell_type": "code",
      "execution_count": 118,
      "metadata": {
        "colab": {
          "base_uri": "https://localhost:8080/"
        },
        "id": "j7cwixBvWZ-u",
        "outputId": "55d6a45c-bc3b-47bd-aea9-e55a5653b1e0"
      },
      "outputs": [
        {
          "name": "stdout",
          "output_type": "stream",
          "text": [
            "all in one metrics: precision, recall, f1: (array([0.78238866, 0.48969072, 0.62818182]), array([0.7258216 , 0.32094595, 0.75027144]), array([0.75304433, 0.3877551 , 0.68381989]), array([1065,  296,  921]))\n",
            "all in one metrics: precision, recall, f1: (0.6831726555652936, 0.6831726555652936, 0.6831726555652936, None)\n",
            "F1 score for each class =  [75.30443254 38.7755102  68.38198911] %\n",
            "F1 score =  68.31726555652936 %\n",
            "precision:  0.6831726555652936\n",
            "recall:  0.6831726555652936\n"
          ]
        }
      ],
      "source": [
        "model.eval()\n",
        "# accuracy = softReg.score(chosen_test, Y_test)\n",
        "# print(\"Accuracy = \", accuracy * 100, \"%\")\n",
        "\n",
        "y_pred_3 = model(x_test).detach().numpy()\n",
        "y_pred = np.argmax(y_pred_3, axis=1)\n",
        "\n",
        "from sklearn.metrics import precision_recall_fscore_support\n",
        "print(\"all in one metrics: precision, recall, f1:\", precision_recall_fscore_support(Y_test, y_pred))\n",
        "print(\"all in one metrics: precision, recall, f1:\", precision_recall_fscore_support(Y_test, y_pred, average='micro'))\n",
        "\n",
        "f1 = f1_score(Y_test, y_pred, average=None)\n",
        "print(\"F1 score for each class = \", f1 * 100, \"%\")\n",
        "f1 = f1_score(Y_test, y_pred, average='micro')\n",
        "print(\"F1 score = \", f1 * 100, \"%\")\n",
        "\n",
        "from sklearn.metrics import precision_score\n",
        "print(\"precision: \", precision_score(Y_test, y_pred, average='micro'))\n",
        "\n",
        "from sklearn.metrics import recall_score\n",
        "print(\"recall: \", recall_score(Y_test, y_pred, average='micro'))"
      ]
    },
    {
      "cell_type": "markdown",
      "metadata": {
        "id": "9DCj0ZOdKigS"
      },
      "source": [
        "### Confusion Matrix"
      ]
    },
    {
      "cell_type": "code",
      "execution_count": 119,
      "metadata": {
        "colab": {
          "base_uri": "https://localhost:8080/",
          "height": 278
        },
        "id": "EpcCOTShpJAX",
        "outputId": "35ae91bc-23e3-4701-e6e2-f8913f89648f"
      },
      "outputs": [
        {
          "data": {
            "image/png": "[encoded data removed]",
            "text/plain": [
              "<Figure size 432x288 with 2 Axes>"
            ]
          },
          "metadata": {
            "needs_background": "light"
          },
          "output_type": "display_data"
        }
      ],
      "source": [
        "import matplotlib.pyplot as plt\n",
        "from sklearn.metrics import ConfusionMatrixDisplay\n",
        "\n",
        "ConfusionMatrixDisplay.from_predictions(Y_test, y_pred, cmap=plt.cm.pink)  \n",
        "plt.show()"
      ]
    },
    {
      "cell_type": "markdown",
      "metadata": {
        "id": "jdKeffHHKFkJ"
      },
      "source": [
        "### Learning Curves"
      ]
    },
    {
      "cell_type": "code",
      "execution_count": 120,
      "metadata": {
        "colab": {
          "base_uri": "https://localhost:8080/",
          "height": 335
        },
        "id": "uc-F-ub8FXKO",
        "outputId": "733e9c88-86ab-4087-a517-50d00aec435c"
      },
      "outputs": [
        {
          "name": "stdout",
          "output_type": "stream",
          "text": [
            "[0.8737663929424588, 0.7999635244172717, 0.7746110255756076, 0.7664425902896457, 0.7509668611344837, 0.7484807022034176, 0.7391697754935612, 0.7302907582313295, 0.7198178285644168, 0.7131870370062571, 0.7094097326672266, 0.6996761437446352, 0.7038081496480911, 0.6974177720054747, 0.6913760020619347]\n",
            "[0.7759827375411987, 0.7497354745864868, 0.7463548183441162, 0.7354224324226379, 0.7353914976119995, 0.7308493852615356, 0.7306616306304932, 0.7253496050834656, 0.7232582569122314, 0.7250297665596008, 0.7181254029273987, 0.7209709882736206, 0.7174991965293884, 0.7169308066368103, 0.7183248996734619]\n"
          ]
        },
        {
          "data": {
            "image/png": "[encoded data removed]",
            "text/plain": [
              "<Figure size 432x288 with 1 Axes>"
            ]
          },
          "metadata": {
            "needs_background": "light"
          },
          "output_type": "display_data"
        }
      ],
      "source": [
        "# plot\n",
        "print(epoch_loss)\n",
        "print(validation_loss)\n",
        "fig, ax = plt.subplots()\n",
        "ax.plot(np.arange(epochs), validation_loss, color=\"pink\", lw=2, label='validation')\n",
        "ax.plot(np.arange(epochs), epoch_loss, color=\"b\", lw=2, label='training')\n",
        "\n",
        "ax.set_xlabel('Epochs')\n",
        "ax.set_ylabel('Cross Entropy Loss')\n",
        "\n",
        "ax.grid()\n",
        "ax.legend(loc=0)\n",
        "plt.show()\n",
        "  "
      ]
    },
    {
      "cell_type": "markdown",
      "metadata": {
        "id": "ZaijmnYUwkB3"
      },
      "source": [
        "### ROC curve"
      ]
    },
    {
      "cell_type": "markdown",
      "metadata": {
        "id": "Q6COAIjaUqia"
      },
      "source": [
        "## Neural Network using GloVe-3 hidden layers\n",
        "\n"
      ]
    },
    {
      "cell_type": "code",
      "execution_count": 121,
      "metadata": {
        "id": "FR44Do7sUnJd"
      },
      "outputs": [],
      "source": [
        "class Net(nn.Module):\n",
        "    def __init__(self, D_in, H1, H2, H3, D_out):\n",
        "        super(Net, self).__init__()\n",
        "        \n",
        "        self.d1 = nn.Dropout(p=0.5)\n",
        "        self.d2 = nn.Dropout(p=0.4)\n",
        "        self.d3 = nn.Dropout(p=0.4)\n",
        "\n",
        "        self.bn1 = nn.BatchNorm1d(H1)\n",
        "        self.bn2 = nn.BatchNorm1d(H2)\n",
        "        self.bn3 = nn.BatchNorm1d(H3)\n",
        "\n",
        "        self.linear1 = nn.Linear(D_in, H1)\n",
        "        self.linear2 = nn.Linear(H1, H2)\n",
        "        self.linear3 = nn.Linear(H2, H3)\n",
        "        self.linear4 = nn.Linear(H3, D_out)\n",
        "\n",
        "        self.softmax = nn.Softmax(dim=1);\n",
        "        self.relu=nn.LeakyReLU(inplace=True)\n",
        "        \n",
        "    def forward(self, x):\n",
        "        h1 = self.linear1(x)\n",
        "        h1 = self.bn1(h1)\n",
        "        self.relu(h1)\n",
        "        h1 = self.d1(h1)\n",
        "\n",
        "        h2 = self.linear2(h1)\n",
        "        h2 = self.bn2(h2)\n",
        "        self.relu(h2)\n",
        "        h2 = self.d2(h2)\n",
        "\n",
        "        h3 = self.linear3(h2)\n",
        "        h3 = self.bn3(h3)\n",
        "        self.relu(h3)\n",
        "        h3 = self.d3(h3)\n",
        "\n",
        "        out = self.linear4(h3)\n",
        "        # out = self.softmax(out)\n",
        "        return out"
      ]
    },
    {
      "cell_type": "code",
      "execution_count": 122,
      "metadata": {
        "colab": {
          "base_uri": "https://localhost:8080/",
          "height": 295
        },
        "id": "5ziE2m8HUnJe",
        "outputId": "b31a122e-2473-4c7d-f65d-7fa750dace49"
      },
      "outputs": [
        {
          "data": {
            "text/plain": [
              "Net(\n",
              "  (d1): Dropout(p=0.5, inplace=False)\n",
              "  (d2): Dropout(p=0.4, inplace=False)\n",
              "  (d3): Dropout(p=0.4, inplace=False)\n",
              "  (bn1): BatchNorm1d(512, eps=1e-05, momentum=0.1, affine=True, track_running_stats=True)\n",
              "  (bn2): BatchNorm1d(256, eps=1e-05, momentum=0.1, affine=True, track_running_stats=True)\n",
              "  (bn3): BatchNorm1d(64, eps=1e-05, momentum=0.1, affine=True, track_running_stats=True)\n",
              "  (linear1): Linear(in_features=50, out_features=512, bias=True)\n",
              "  (linear2): Linear(in_features=512, out_features=256, bias=True)\n",
              "  (linear3): Linear(in_features=256, out_features=64, bias=True)\n",
              "  (linear4): Linear(in_features=64, out_features=3, bias=True)\n",
              "  (softmax): Softmax(dim=1)\n",
              "  (relu): LeakyReLU(negative_slope=0.01, inplace=True)\n",
              ")"
            ]
          },
          "metadata": {},
          "output_type": "display_data"
        }
      ],
      "source": [
        "np.random.seed(20)\n",
        "torch.manual_seed(20)\n",
        "\n",
        "#Define layer sizes\n",
        "D_in = x.shape[1]\n",
        "H1 = 512\n",
        "H2 = 256\n",
        "H3 = 64\n",
        "D_out = 3\n",
        "\n",
        "#Define Hyperparameters\n",
        "learning_rate = 0.001\n",
        "\n",
        "#Initialize model, loss, optimizer\n",
        "model = Net(D_in, H1, H2, H3, D_out)\n",
        "\n",
        "loss_func = nn.CrossEntropyLoss()\n",
        "optimizer = torch.optim.Adam(model.parameters(), lr=learning_rate, amsgrad=True)\n",
        "\n",
        "#Initialize dataloader\n",
        "dataset = torch.utils.data.TensorDataset(x, y)\n",
        "dataloader = torch.utils.data.DataLoader(dataset, batch_size=256, shuffle=True)\n",
        "\n",
        "display(model)"
      ]
    },
    {
      "cell_type": "markdown",
      "metadata": {
        "id": "xlo7_Z4yUnJf"
      },
      "source": [
        "### Train Network"
      ]
    },
    {
      "cell_type": "code",
      "execution_count": 123,
      "metadata": {
        "colab": {
          "base_uri": "https://localhost:8080/"
        },
        "id": "LrEOvhKMUnJf",
        "outputId": "8c5654cc-c82f-45f9-fd2a-6b4e86de895b"
      },
      "outputs": [
        {
          "name": "stdout",
          "output_type": "stream",
          "text": [
            "Epoch   0: Loss = 0.89691\n",
            "Epoch   1: Loss = 0.80528\n",
            "Epoch   2: Loss = 0.78505\n",
            "Epoch   3: Loss = 0.77621\n",
            "Epoch   4: Loss = 0.76470\n",
            "Epoch   5: Loss = 0.76116\n",
            "Epoch   6: Loss = 0.75405\n",
            "Epoch   7: Loss = 0.74024\n",
            "Epoch   8: Loss = 0.74155\n",
            "Epoch   9: Loss = 0.73564\n",
            "Epoch  10: Loss = 0.73292\n",
            "Epoch  11: Loss = 0.72857\n",
            "Epoch  12: Loss = 0.72226\n",
            "Epoch  13: Loss = 0.71802\n",
            "Epoch  14: Loss = 0.71546\n",
            "Epoch  15: Loss = 0.71148\n",
            "Epoch  16: Loss = 0.70828\n",
            "Epoch  17: Loss = 0.70898\n",
            "Epoch  18: Loss = 0.70256\n",
            "Epoch  19: Loss = 0.69654\n",
            "Epoch  20: Loss = 0.69304\n",
            "Epoch  21: Loss = 0.69318\n",
            "Epoch  22: Loss = 0.68574\n",
            "Epoch  23: Loss = 0.68495\n",
            "Epoch  24: Loss = 0.68361\n",
            "Epoch  25: Loss = 0.67546\n",
            "Epoch  26: Loss = 0.67426\n",
            "Epoch  27: Loss = 0.67451\n",
            "Epoch  28: Loss = 0.66438\n",
            "Epoch  29: Loss = 0.66848\n"
          ]
        }
      ],
      "source": [
        "epoch_loss = []\n",
        "validation_loss = []\n",
        "epochs = 30\n",
        "\n",
        "for epoch in range(epochs):\n",
        "  model.train()\n",
        "  batch_losses = []\n",
        "\n",
        "  for x_batch, y_batch in dataloader:\n",
        "    y_pred = model(x_batch)\n",
        "    \n",
        "    y_batch = np.array(pd.get_dummies(y_batch.detach().numpy()))\n",
        "    y_batch = torch.tensor(y_batch, dtype=torch.float)\n",
        "    loss = loss_func(y_pred, y_batch)\n",
        "    batch_losses.append(loss.item())\n",
        "    \n",
        "    #Delete previously stored gradients\n",
        "    optimizer.zero_grad()\n",
        "    #Perform backpropagation starting from the loss calculated in this epoch\n",
        "    loss.backward()\n",
        "    #Update model's weights based on the gradients calculated during backprop\n",
        "    optimizer.step()\n",
        "\n",
        "  epoch_loss.append(sum(batch_losses)/len(dataloader))\n",
        "  model.eval()\n",
        "  y_test_pred = model(x_test)\n",
        "\n",
        "  val_loss = loss_func(y_test_pred, y_test_3)\n",
        "\n",
        "  validation_loss.append(val_loss.item())\n",
        "  print(f\"Epoch {epoch:3}: Loss = {sum(batch_losses)/len(dataloader):.5f}\")\n",
        "    "
      ]
    },
    {
      "cell_type": "markdown",
      "metadata": {
        "id": "epzb6lriUnJg"
      },
      "source": [
        "### Evaluation of the model using recall, precision and f1 metrics"
      ]
    },
    {
      "cell_type": "code",
      "execution_count": 124,
      "metadata": {
        "colab": {
          "base_uri": "https://localhost:8080/"
        },
        "id": "W2RVEc1LUnJg",
        "outputId": "d98a2ecf-9fb7-4de1-960e-6acab7b8d0d1"
      },
      "outputs": [
        {
          "name": "stdout",
          "output_type": "stream",
          "text": [
            "all in one metrics: precision, recall, f1: (array([0.77073171, 0.51785714, 0.62534435]), array([0.74178404, 0.29391892, 0.73941368]), array([0.75598086, 0.375     , 0.67761194]), array([1065,  296,  921]))\n",
            "all in one metrics: precision, recall, f1: (0.6827344434706398, 0.6827344434706398, 0.6827344434706398, None)\n",
            "F1 score for each class =  [75.59808612 37.5        67.76119403] %\n",
            "F1 score =  68.27344434706399 %\n",
            "precision:  0.6827344434706398\n",
            "recall:  0.6827344434706398\n"
          ]
        }
      ],
      "source": [
        "model.eval()\n",
        "# accuracy = softReg.score(chosen_test, Y_test)\n",
        "# print(\"Accuracy = \", accuracy * 100, \"%\")\n",
        "\n",
        "y_pred_3 = model(x_test).detach().numpy()\n",
        "y_pred = np.argmax(y_pred_3, axis=1)\n",
        "\n",
        "from sklearn.metrics import precision_recall_fscore_support\n",
        "print(\"all in one metrics: precision, recall, f1:\", precision_recall_fscore_support(Y_test, y_pred))\n",
        "print(\"all in one metrics: precision, recall, f1:\", precision_recall_fscore_support(Y_test, y_pred, average='micro'))\n",
        "\n",
        "f1 = f1_score(Y_test, y_pred, average=None)\n",
        "print(\"F1 score for each class = \", f1 * 100, \"%\")\n",
        "f1 = f1_score(Y_test, y_pred, average='micro')\n",
        "print(\"F1 score = \", f1 * 100, \"%\")\n",
        "\n",
        "from sklearn.metrics import precision_score\n",
        "print(\"precision: \", precision_score(Y_test, y_pred, average='micro'))\n",
        "\n",
        "from sklearn.metrics import recall_score\n",
        "print(\"recall: \", recall_score(Y_test, y_pred, average='micro'))"
      ]
    },
    {
      "cell_type": "markdown",
      "metadata": {
        "id": "7WRTxvIcUnJh"
      },
      "source": [
        "### Confusion Matrix"
      ]
    },
    {
      "cell_type": "code",
      "execution_count": 125,
      "metadata": {
        "colab": {
          "base_uri": "https://localhost:8080/",
          "height": 278
        },
        "id": "-UgUHwR4UnJh",
        "outputId": "4b1091d7-df30-4e2b-9f4f-5b8a15f7cdd2"
      },
      "outputs": [
        {
          "data": {
            "image/png": "[encoded data removed]",
            "text/plain": [
              "<Figure size 432x288 with 2 Axes>"
            ]
          },
          "metadata": {
            "needs_background": "light"
          },
          "output_type": "display_data"
        }
      ],
      "source": [
        "import matplotlib.pyplot as plt\n",
        "from sklearn.metrics import ConfusionMatrixDisplay\n",
        "\n",
        "ConfusionMatrixDisplay.from_predictions(Y_test, y_pred, cmap=plt.cm.pink)  \n",
        "plt.show()"
      ]
    },
    {
      "cell_type": "markdown",
      "metadata": {
        "id": "mNlJ4x1PUnJh"
      },
      "source": [
        "### Learning Curves"
      ]
    },
    {
      "cell_type": "code",
      "execution_count": 126,
      "metadata": {
        "colab": {
          "base_uri": "https://localhost:8080/",
          "height": 335
        },
        "id": "oiqaQa9fUnJh",
        "outputId": "187cffa1-e6ef-4ec1-93bf-0c106eaeaf03"
      },
      "outputs": [
        {
          "name": "stdout",
          "output_type": "stream",
          "text": [
            "[0.896914782032134, 0.8052833193824405, 0.7850512464841207, 0.7762075984288775, 0.7646973965659974, 0.7611585675723969, 0.7540478327917675, 0.7402394319337512, 0.7415549329348973, 0.7356423981606014, 0.7329226552493988, 0.7285672511373248, 0.7222636266360207, 0.7180202773639134, 0.7154628350621178, 0.7114797281840491, 0.7082807213541061, 0.7089791496594747, 0.702555481403593, 0.696543450393374, 0.6930368722431244, 0.693176081256261, 0.6857420537206862, 0.6849527529307774, 0.6836055063066029, 0.6754569155829293, 0.6742629891350156, 0.6745086577203538, 0.6643752313795543, 0.6684782684795441]\n",
            "[0.7854580283164978, 0.7583250403404236, 0.751770555973053, 0.7437705397605896, 0.7414252161979675, 0.7367034554481506, 0.7333216071128845, 0.7308684587478638, 0.7273510098457336, 0.725547730922699, 0.7280638217926025, 0.723031222820282, 0.7264412045478821, 0.7200399041175842, 0.7246341705322266, 0.7212274670600891, 0.7200638055801392, 0.715599000453949, 0.7157238125801086, 0.7160835266113281, 0.7148381471633911, 0.7214999198913574, 0.7211472988128662, 0.7154123783111572, 0.7161554098129272, 0.7214686274528503, 0.7131696343421936, 0.7133684754371643, 0.7118158936500549, 0.7158472537994385]\n"
          ]
        },
        {
          "data": {
            "image/png": "[encoded data removed]",
            "text/plain": [
              "<Figure size 432x288 with 1 Axes>"
            ]
          },
          "metadata": {
            "needs_background": "light"
          },
          "output_type": "display_data"
        }
      ],
      "source": [
        "# plot\n",
        "print(epoch_loss)\n",
        "print(validation_loss)\n",
        "fig, ax = plt.subplots()\n",
        "ax.plot(np.arange(epochs), validation_loss, color=\"pink\", lw=2, label='validation')\n",
        "ax.plot(np.arange(epochs), epoch_loss, color=\"b\", lw=2, label='training')\n",
        "\n",
        "ax.set_xlabel('Epochs')\n",
        "ax.set_ylabel('Cross Entropy Loss')\n",
        "\n",
        "ax.grid()\n",
        "ax.legend(loc=0)\n",
        "plt.show()\n",
        "  "
      ]
    },
    {
      "cell_type": "code",
      "execution_count": 127,
      "metadata": {
        "colab": {
          "base_uri": "https://localhost:8080/",
          "height": 551
        },
        "id": "ecDEwd5B_Rk_",
        "outputId": "ccdfcc6e-cf26-4f79-8078-bf7a5dc6910e"
      },
      "outputs": [
        {
          "name": "stderr",
          "output_type": "stream",
          "text": [
            "/usr/local/lib/python3.7/dist-packages/ipykernel_launcher.py:38: DeprecationWarning: scipy.interp is deprecated and will be removed in SciPy 2.0.0, use numpy.interp instead\n"
          ]
        },
        {
          "data": {
            "image/png": "[encoded data removed]",
            "text/plain": [
              "<Figure size 576x576 with 1 Axes>"
            ]
          },
          "metadata": {
            "needs_background": "light"
          },
          "output_type": "display_data"
        }
      ],
      "source": [
        "# CODE FROM https://scikit-learn.org/stable/auto_examples/model_selection/plot_roc.html\n",
        "import numpy as np\n",
        "import matplotlib.pyplot as plt\n",
        "from itertools import cycle\n",
        "\n",
        "from sklearn.metrics import roc_curve, auc\n",
        "from sklearn.model_selection import train_test_split\n",
        "from sklearn.preprocessing import label_binarize\n",
        "from sklearn.multiclass import OneVsRestClassifier\n",
        "from scipy import interp\n",
        "from sklearn.metrics import roc_auc_score\n",
        "\n",
        "y_score = y_pred_3\n",
        "y_test = np.array(pd.get_dummies(Y_test))\n",
        "n_classes = 3\n",
        "# print(y_score)\n",
        "# print(y_test)\n",
        "# print(n_classes)\n",
        "# Compute ROC curve and ROC area for each class\n",
        "fpr = dict()\n",
        "tpr = dict()\n",
        "roc_auc = dict()\n",
        "for i in range(n_classes):\n",
        "    fpr[i], tpr[i], _ = roc_curve(y_test[:, i], y_score[:, i])\n",
        "    roc_auc[i] = auc(fpr[i], tpr[i])\n",
        "\n",
        "# Compute micro-average ROC curve and ROC area\n",
        "fpr[\"micro\"], tpr[\"micro\"], _ = roc_curve(y_test.ravel(), y_score.ravel())\n",
        "roc_auc[\"micro\"] = auc(fpr[\"micro\"], tpr[\"micro\"])\n",
        "################################################################################\n",
        "\n",
        "# First aggregate all false positive rates\n",
        "all_fpr = np.unique(np.concatenate([fpr[i] for i in range(n_classes)]))\n",
        "\n",
        "# Then interpolate all ROC curves at this points\n",
        "mean_tpr = np.zeros_like(all_fpr)\n",
        "for i in range(n_classes):\n",
        "    mean_tpr += interp(all_fpr, fpr[i], tpr[i])\n",
        "\n",
        "# Finally average it and compute AUC\n",
        "mean_tpr /= n_classes\n",
        "\n",
        "fpr[\"macro\"] = all_fpr\n",
        "tpr[\"macro\"] = mean_tpr\n",
        "roc_auc[\"macro\"] = auc(fpr[\"macro\"], tpr[\"macro\"])\n",
        "\n",
        "# Plot all ROC curves\n",
        "plt.figure(figsize=(8,8))\n",
        "plt.plot(\n",
        "    fpr[\"micro\"],\n",
        "    tpr[\"micro\"],\n",
        "    label=\"micro-average ROC curve (area = {0:0.2f})\".format(roc_auc[\"micro\"]),\n",
        "    color=\"deeppink\",\n",
        "    linestyle=\":\",\n",
        "    linewidth=4,\n",
        ")\n",
        "\n",
        "plt.plot(\n",
        "    fpr[\"macro\"],\n",
        "    tpr[\"macro\"],\n",
        "    label=\"macro-average ROC curve (area = {0:0.2f})\".format(roc_auc[\"macro\"]),\n",
        "    color=\"navy\",\n",
        "    linestyle=\":\",\n",
        "    linewidth=4,\n",
        ")\n",
        "\n",
        "colors = cycle([\"aqua\", \"darkorange\", \"cornflowerblue\"])\n",
        "for i, color in zip(range(n_classes), colors):\n",
        "    plt.plot(\n",
        "        fpr[i],\n",
        "        tpr[i],\n",
        "        color=color,\n",
        "        lw=3,\n",
        "        label=\"ROC curve of class {0} (area = {1:0.2f})\".format(i, roc_auc[i]),\n",
        "    )\n",
        "\n",
        "plt.plot([0, 1], [0, 1], \"k--\", lw=3)\n",
        "plt.xlim([0.0, 1.0])\n",
        "plt.ylim([0.0, 1.05])\n",
        "plt.xlabel(\"False Positive Rate\")\n",
        "plt.ylabel(\"True Positive Rate\")\n",
        "plt.title(\"Some extension of Receiver operating characteristic to multiclass\")\n",
        "plt.legend(loc=\"lower right\")\n",
        "plt.show()"
      ]
    },
    {
      "cell_type": "markdown",
      "metadata": {
        "id": "OEmj0Xm-YQvA"
      },
      "source": [
        "## Comparison\n",
        "\n",
        "Diferences between the 2 GloVe models:\n",
        "\n",
        "- optimizer: both Adam, the smaller (2nd) one has amsgrad=True\n",
        "- layers: 1st [1024, 512, 128, 64], 2nd [512, 526, 64]\n",
        "- epochs: the smaller one needs 30 epochs and the bigger one 15\n",
        "\n",
        "The score of the bigger one is slightly better by 0.4%, but that such small difference is not important. The learning curves show that neither model underfits or overfits. The smaller one takes a little less time to train. I would chose the smaller network for this problem."
      ]
    },
    {
      "cell_type": "markdown",
      "metadata": {
        "id": "Bx4F5Wd4UzJJ"
      },
      "source": [
        "## Neural Network using TF-IDF"
      ]
    },
    {
      "cell_type": "code",
      "execution_count": 128,
      "metadata": {
        "colab": {
          "base_uri": "https://localhost:8080/"
        },
        "id": "g4epwCTRU5JO",
        "outputId": "42420e30-d32e-4e43-a506-8e29ac3c13f5"
      },
      "outputs": [
        {
          "name": "stdout",
          "output_type": "stream",
          "text": [
            "x shape: torch.Size([15976, 1900])\n",
            "y shape: torch.Size([15976])\n"
          ]
        }
      ],
      "source": [
        "#Normalize values\n",
        "# train_features = np.stack(df_train['features'])\n",
        "train_features = tfidf_train.toarray()\n",
        "#Fill NaN values\n",
        "# train_features = (train_features-train_features.mean())/train_features.std()\n",
        "#Save in tensors\n",
        "x = torch.tensor(train_features, dtype=torch.float)\n",
        "y = torch.tensor(df_train['label'], dtype=torch.float)\n",
        "\n",
        "print(f\"x shape: {x.shape}\")\n",
        "print(f\"y shape: {y.shape}\")"
      ]
    },
    {
      "cell_type": "code",
      "execution_count": 129,
      "metadata": {
        "id": "lu7mdSeCU5JP"
      },
      "outputs": [],
      "source": [
        "# test_features = np.stack(df_test['features'])\n",
        "test_features = tfidf_test.toarray()\n",
        "# test_features = (test_features-test_features.mean())/test_features.std()\n",
        "# display(test_features.mean())\n",
        "# display(test_features.std())\n",
        "x_test = torch.tensor(test_features, dtype=torch.float)\n",
        "y_test = torch.tensor(Y_test, dtype=torch.float)\n",
        "\n",
        "y_test_3 = np.array(pd.get_dummies(y_test.detach().numpy()))\n",
        "y_test_3 = torch.tensor(y_test_3, dtype=torch.float)"
      ]
    },
    {
      "cell_type": "markdown",
      "metadata": {
        "id": "TBCJJGXaU5JP"
      },
      "source": [
        "### Create a Neural Network"
      ]
    },
    {
      "cell_type": "markdown",
      "metadata": {
        "id": "8w0jcPdxb8Ah"
      },
      "source": [
        "In this NN I used 3 hidden layers and a higher dropout for the fisrt and bigger layers and a smaller dropout for the last one."
      ]
    },
    {
      "cell_type": "code",
      "execution_count": 130,
      "metadata": {
        "id": "_O4UEvhz2ULE"
      },
      "outputs": [],
      "source": [
        "class Net(nn.Module):\n",
        "    def __init__(self, D_in, H1, H2, H3, D_out):\n",
        "        super(Net, self).__init__()\n",
        "        \n",
        "        self.d1 = nn.Dropout(p=0.7)\n",
        "        self.d2 = nn.Dropout(p=0.5)\n",
        "        self.d3 = nn.Dropout(p=0.3)\n",
        "\n",
        "        self.bn1 = nn.BatchNorm1d(H1)\n",
        "        self.bn2 = nn.BatchNorm1d(H2)\n",
        "        self.bn3 = nn.BatchNorm1d(H3)\n",
        "\n",
        "        self.linear1 = nn.Linear(D_in, H1)\n",
        "        self.linear2 = nn.Linear(H1, H2)\n",
        "        self.linear3 = nn.Linear(H2, H3)\n",
        "        self.linear4 = nn.Linear(H3, D_out)\n",
        "\n",
        "        self.relu=nn.LeakyReLU(inplace=True)\n",
        "        \n",
        "    def forward(self, x):\n",
        "        h1 = self.linear1(x)\n",
        "        h1 = self.bn1(h1)\n",
        "        self.relu(h1)\n",
        "        h1 = self.d1(h1)\n",
        "\n",
        "        h2 = self.linear2(h1)\n",
        "        h2 = self.bn2(h2)\n",
        "        self.relu(h2)\n",
        "        h2 = self.d2(h2)\n",
        "\n",
        "        h3 = self.linear3(h2)\n",
        "        h3 = self.bn3(h3)\n",
        "        self.relu(h3)\n",
        "        h3 = self.d3(h3)\n",
        "\n",
        "        out = self.linear4(h3)\n",
        "        \n",
        "        return out"
      ]
    },
    {
      "cell_type": "code",
      "execution_count": 131,
      "metadata": {
        "colab": {
          "base_uri": "https://localhost:8080/",
          "height": 276
        },
        "id": "Ar-7JP6a2ULK",
        "outputId": "74445549-233f-4436-dd4f-5307d5cb885c"
      },
      "outputs": [
        {
          "data": {
            "text/plain": [
              "Net(\n",
              "  (d1): Dropout(p=0.7, inplace=False)\n",
              "  (d2): Dropout(p=0.5, inplace=False)\n",
              "  (d3): Dropout(p=0.3, inplace=False)\n",
              "  (bn1): BatchNorm1d(256, eps=1e-05, momentum=0.1, affine=True, track_running_stats=True)\n",
              "  (bn2): BatchNorm1d(1024, eps=1e-05, momentum=0.1, affine=True, track_running_stats=True)\n",
              "  (bn3): BatchNorm1d(256, eps=1e-05, momentum=0.1, affine=True, track_running_stats=True)\n",
              "  (linear1): Linear(in_features=1900, out_features=256, bias=True)\n",
              "  (linear2): Linear(in_features=256, out_features=1024, bias=True)\n",
              "  (linear3): Linear(in_features=1024, out_features=256, bias=True)\n",
              "  (linear4): Linear(in_features=256, out_features=3, bias=True)\n",
              "  (relu): LeakyReLU(negative_slope=0.01, inplace=True)\n",
              ")"
            ]
          },
          "metadata": {},
          "output_type": "display_data"
        }
      ],
      "source": [
        "np.random.seed(20)\n",
        "torch.manual_seed(20)\n",
        "\n",
        "#Define layer sizes\n",
        "D_in = x.shape[1]\n",
        "H1 = 256\n",
        "H2 = 1024\n",
        "H3 = 256\n",
        "D_out = 3\n",
        "\n",
        "#Define Hyperparameters\n",
        "learning_rate = 0.001\n",
        "\n",
        "#Initialize model, loss, optimizer\n",
        "model = Net(D_in, H1, H2, H3, D_out)\n",
        "\n",
        "loss_func = nn.CrossEntropyLoss()\n",
        "optimizer = torch.optim.Adam(model.parameters(), lr=learning_rate)\n",
        "\n",
        "#Initialize dataloader\n",
        "dataset = torch.utils.data.TensorDataset(x, y)\n",
        "dataloader = torch.utils.data.DataLoader(dataset, batch_size=256, shuffle=True) #, shuffle=True\n",
        "\n",
        "display(model)"
      ]
    },
    {
      "cell_type": "markdown",
      "metadata": {
        "id": "0XD4qoqXU5JQ"
      },
      "source": [
        "### Train Network"
      ]
    },
    {
      "cell_type": "markdown",
      "metadata": {
        "id": "MEGx49HPcc4o"
      },
      "source": [
        "We have many features with the TF-IDF represention so the model learns much more quickly than the one with GloVe. Only 3 epochs are needed. For more epochs the network overfits."
      ]
    },
    {
      "cell_type": "code",
      "execution_count": 132,
      "metadata": {
        "colab": {
          "base_uri": "https://localhost:8080/"
        },
        "id": "BJi86Hd_U5JQ",
        "outputId": "9dbca189-f5bd-4fef-8d6b-41419665cf2a"
      },
      "outputs": [
        {
          "name": "stdout",
          "output_type": "stream",
          "text": [
            "Epoch   0: Loss = 0.86393\n",
            "Epoch   1: Loss = 0.68645\n",
            "Epoch   2: Loss = 0.61492\n"
          ]
        }
      ],
      "source": [
        "epoch_loss = []\n",
        "validation_loss = []\n",
        "epochs = 3\n",
        "\n",
        "for epoch in range(epochs):\n",
        "  model.train()\n",
        "  batch_losses = []\n",
        "\n",
        "  for x_batch, y_batch in dataloader:\n",
        "    y_pred = model(x_batch)\n",
        "\n",
        "    y_batch = np.array(pd.get_dummies(y_batch.detach().numpy()))\n",
        "    y_batch = torch.tensor(y_batch, dtype=torch.float)\n",
        "    loss = loss_func(y_pred, y_batch)\n",
        "    batch_losses.append(loss.item())\n",
        "    \n",
        "    #Delete previously stored gradients\n",
        "    optimizer.zero_grad()\n",
        "    #Perform backpropagation starting from the loss calculated in this epoch\n",
        "    loss.backward()\n",
        "    #Update model's weights based on the gradients calculated during backprop\n",
        "    optimizer.step()\n",
        "\n",
        "  epoch_loss.append(sum(batch_losses)/len(dataloader))\n",
        "  model.eval()\n",
        "  y_test_pred = model(x_test)\n",
        "\n",
        "  val_loss = loss_func(y_test_pred, y_test_3)\n",
        "\n",
        "  validation_loss.append(val_loss.item())\n",
        "  print(f\"Epoch {epoch:3}: Loss = {sum(batch_losses)/len(dataloader):.5f}\")\n",
        "    "
      ]
    },
    {
      "cell_type": "markdown",
      "metadata": {
        "id": "NGuvDuHIU5JQ"
      },
      "source": [
        "### Evaluation of the model using recall, precision and f1 metrics"
      ]
    },
    {
      "cell_type": "code",
      "execution_count": 133,
      "metadata": {
        "colab": {
          "base_uri": "https://localhost:8080/"
        },
        "id": "pX58hTQxU5JQ",
        "outputId": "610d5e5b-6493-4c0b-d0f3-04488df8ef23"
      },
      "outputs": [
        {
          "name": "stdout",
          "output_type": "stream",
          "text": [
            "all in one metrics: precision, recall, f1: (array([0.81473684, 0.5483871 , 0.66881919]), array([0.72676056, 0.45945946, 0.78718784]), array([0.76823821, 0.5       , 0.72319202]), array([1065,  296,  921]))\n",
            "all in one metrics: precision, recall, f1: (0.7164767747589833, 0.7164767747589833, 0.7164767747589832, None)\n",
            "F1 score for each class =  [76.82382134 50.         72.319202  ] %\n",
            "F1 score =  71.64767747589832 %\n",
            "precision:  0.7164767747589833\n",
            "recall:  0.7164767747589833\n"
          ]
        }
      ],
      "source": [
        "model.eval()\n",
        "# accuracy = softReg.score(chosen_test, Y_test)\n",
        "# print(\"Accuracy = \", accuracy * 100, \"%\")\n",
        "\n",
        "y_pred_3 = model(x_test).detach().numpy()\n",
        "y_pred = np.argmax(y_pred_3, axis=1)\n",
        "\n",
        "from sklearn.metrics import precision_recall_fscore_support\n",
        "print(\"all in one metrics: precision, recall, f1:\", precision_recall_fscore_support(Y_test, y_pred))\n",
        "print(\"all in one metrics: precision, recall, f1:\", precision_recall_fscore_support(Y_test, y_pred, average='micro'))\n",
        "\n",
        "f1 = f1_score(Y_test, y_pred, average=None)\n",
        "print(\"F1 score for each class = \", f1 * 100, \"%\")\n",
        "f1 = f1_score(Y_test, y_pred, average='micro')\n",
        "print(\"F1 score = \", f1 * 100, \"%\")\n",
        "\n",
        "from sklearn.metrics import precision_score\n",
        "print(\"precision: \", precision_score(Y_test, y_pred, average='micro'))\n",
        "\n",
        "from sklearn.metrics import recall_score\n",
        "print(\"recall: \", recall_score(Y_test, y_pred, average='micro'))"
      ]
    },
    {
      "cell_type": "markdown",
      "metadata": {
        "id": "-lezS8DMU5JQ"
      },
      "source": [
        "### Confusion Matrix"
      ]
    },
    {
      "cell_type": "code",
      "execution_count": 134,
      "metadata": {
        "colab": {
          "base_uri": "https://localhost:8080/",
          "height": 278
        },
        "id": "VIbC4LQtU5JR",
        "outputId": "e0b4fcb3-e84d-4590-af87-fee154713079"
      },
      "outputs": [
        {
          "data": {
            "image/png": "[encoded data removed]",
            "text/plain": [
              "<Figure size 432x288 with 2 Axes>"
            ]
          },
          "metadata": {
            "needs_background": "light"
          },
          "output_type": "display_data"
        }
      ],
      "source": [
        "import matplotlib.pyplot as plt\n",
        "from sklearn.metrics import ConfusionMatrixDisplay\n",
        "\n",
        "ConfusionMatrixDisplay.from_predictions(Y_test, y_pred, cmap=plt.cm.pink)  \n",
        "plt.show()"
      ]
    },
    {
      "cell_type": "markdown",
      "metadata": {
        "id": "0LUFMln3U5JR"
      },
      "source": [
        "### Learning Curves"
      ]
    },
    {
      "cell_type": "code",
      "execution_count": 135,
      "metadata": {
        "colab": {
          "base_uri": "https://localhost:8080/",
          "height": 315
        },
        "id": "MF1DF8TsU5JR",
        "outputId": "7c86657c-8f4f-4186-df54-d8a1c5a452bd"
      },
      "outputs": [
        {
          "name": "stdout",
          "output_type": "stream",
          "text": [
            "[0.8639300030375284, 0.6864477112179711, 0.6149188450404576]\n",
            "[0.8225899934768677, 0.6894648671150208, 0.6859471797943115]\n"
          ]
        },
        {
          "data": {
            "image/png": "[encoded data removed]",
            "text/plain": [
              "<Figure size 432x288 with 1 Axes>"
            ]
          },
          "metadata": {
            "needs_background": "light"
          },
          "output_type": "display_data"
        }
      ],
      "source": [
        "# plot\n",
        "print(epoch_loss)\n",
        "print(validation_loss)\n",
        "fig, ax = plt.subplots()\n",
        "ax.plot(np.arange(epochs), validation_loss, color=\"pink\", lw=2, label='validation')\n",
        "ax.plot(np.arange(epochs), epoch_loss, color=\"b\", lw=2, label='training')\n",
        "\n",
        "ax.set_xlabel('Epochs')\n",
        "ax.set_ylabel('Cross Entropy Loss')\n",
        "\n",
        "ax.grid()\n",
        "ax.legend(loc=0)\n",
        "plt.show()\n",
        "  "
      ]
    },
    {
      "cell_type": "markdown",
      "metadata": {
        "id": "DAw-afJGU5JR"
      },
      "source": [
        "### ROC curve"
      ]
    },
    {
      "cell_type": "code",
      "execution_count": 136,
      "metadata": {
        "colab": {
          "base_uri": "https://localhost:8080/",
          "height": 551
        },
        "id": "pUUiLw81U5JR",
        "outputId": "6e8a958f-5f57-4a78-a4af-2d4c457a9631"
      },
      "outputs": [
        {
          "name": "stderr",
          "output_type": "stream",
          "text": [
            "/usr/local/lib/python3.7/dist-packages/ipykernel_launcher.py:39: DeprecationWarning: scipy.interp is deprecated and will be removed in SciPy 2.0.0, use numpy.interp instead\n"
          ]
        },
        {
          "data": {
            "image/png": "[encoded data removed]",
            "text/plain": [
              "<Figure size 576x576 with 1 Axes>"
            ]
          },
          "metadata": {
            "needs_background": "light"
          },
          "output_type": "display_data"
        }
      ],
      "source": [
        "from matplotlib import figure\n",
        "# CODE FROM https://scikit-learn.org/stable/auto_examples/model_selection/plot_roc.html\n",
        "import numpy as np\n",
        "import matplotlib.pyplot as plt\n",
        "from itertools import cycle\n",
        "\n",
        "from sklearn.metrics import roc_curve, auc\n",
        "from sklearn.model_selection import train_test_split\n",
        "from sklearn.preprocessing import label_binarize\n",
        "from sklearn.multiclass import OneVsRestClassifier\n",
        "from scipy import interp\n",
        "from sklearn.metrics import roc_auc_score\n",
        "\n",
        "y_score = y_pred_3\n",
        "y_test = np.array(pd.get_dummies(Y_test))\n",
        "n_classes = 3\n",
        "# print(y_score)\n",
        "# print(y_test)\n",
        "# print(n_classes)\n",
        "# Compute ROC curve and ROC area for each class\n",
        "fpr = dict()\n",
        "tpr = dict()\n",
        "roc_auc = dict()\n",
        "for i in range(n_classes):\n",
        "    fpr[i], tpr[i], _ = roc_curve(y_test[:, i], y_score[:, i])\n",
        "    roc_auc[i] = auc(fpr[i], tpr[i])\n",
        "\n",
        "# Compute micro-average ROC curve and ROC area\n",
        "fpr[\"micro\"], tpr[\"micro\"], _ = roc_curve(y_test.ravel(), y_score.ravel())\n",
        "roc_auc[\"micro\"] = auc(fpr[\"micro\"], tpr[\"micro\"])\n",
        "################################################################################\n",
        "\n",
        "# First aggregate all false positive rates\n",
        "all_fpr = np.unique(np.concatenate([fpr[i] for i in range(n_classes)]))\n",
        "\n",
        "# Then interpolate all ROC curves at this points\n",
        "mean_tpr = np.zeros_like(all_fpr)\n",
        "for i in range(n_classes):\n",
        "    mean_tpr += interp(all_fpr, fpr[i], tpr[i])\n",
        "\n",
        "# Finally average it and compute AUC\n",
        "mean_tpr /= n_classes\n",
        "\n",
        "fpr[\"macro\"] = all_fpr\n",
        "tpr[\"macro\"] = mean_tpr\n",
        "roc_auc[\"macro\"] = auc(fpr[\"macro\"], tpr[\"macro\"])\n",
        "\n",
        "# Plot all ROC curves\n",
        "plt.figure(figsize=(8,8))\n",
        "plt.plot(\n",
        "    fpr[\"micro\"],\n",
        "    tpr[\"micro\"],\n",
        "    label=\"micro-average ROC curve (area = {0:0.2f})\".format(roc_auc[\"micro\"]),\n",
        "    color=\"deeppink\",\n",
        "    linestyle=\":\",\n",
        "    linewidth=4,\n",
        ")\n",
        "\n",
        "plt.plot(\n",
        "    fpr[\"macro\"],\n",
        "    tpr[\"macro\"],\n",
        "    label=\"macro-average ROC curve (area = {0:0.2f})\".format(roc_auc[\"macro\"]),\n",
        "    color=\"navy\",\n",
        "    linestyle=\":\",\n",
        "    linewidth=3,\n",
        ")\n",
        "\n",
        "colors = cycle([\"aqua\", \"darkorange\", \"cornflowerblue\"])\n",
        "for i, color in zip(range(n_classes), colors):\n",
        "    plt.plot(\n",
        "        fpr[i],\n",
        "        tpr[i],\n",
        "        color=color,\n",
        "        lw=3,\n",
        "        label=\"ROC curve of class {0} (area = {1:0.2f})\".format(i, roc_auc[i]),\n",
        "    )\n",
        "\n",
        "plt.plot([0, 1], [0, 1], \"k--\", lw=2)\n",
        "plt.xlim([-0.01, 1.0])\n",
        "plt.ylim([0.0, 1.01])\n",
        "plt.xlabel(\"False Positive Rate\")\n",
        "plt.ylabel(\"True Positive Rate\")\n",
        "plt.title(\"Some extension of Receiver operating characteristic to multiclass\")\n",
        "plt.legend(loc=\"lower right\")\n",
        "plt.show()"
      ]
    },
    {
      "cell_type": "markdown",
      "metadata": {
        "id": "dtQAsKKoc2s7"
      },
      "source": [
        "With TF-IDF it was easier to achieve a better score than GloVe. One reason for that might be because the GloVe was trained without the covid and vaccine related tweets. Also I used the 50d, so maybe the bigger dimensions would do better.\n",
        "\n",
        "With TF-IDF the representation was more specific to this dataset and I could change the parameters to have different number of features.\n",
        "\n",
        "The NN with TF-IDF was trained a lot faster and the scores and roc curve are better than GloVe."
      ]
    }
  ],
  "metadata": {
    "colab": {
      "collapsed_sections": [],
      "name": "AI2-HM2 feed-forward neural network.ipynb",
      "provenance": [],
      "toc_visible": true
    },
    "kernelspec": {
      "display_name": "Python 3",
      "name": "python3"
    },
    "language_info": {
      "name": "python"
    }
  },
  "nbformat": 4,
  "nbformat_minor": 0
}
